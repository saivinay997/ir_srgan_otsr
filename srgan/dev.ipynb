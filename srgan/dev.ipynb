{
 "cells": [
  {
   "cell_type": "code",
   "execution_count": 1,
   "metadata": {},
   "outputs": [
    {
     "name": "stdout",
     "output_type": "stream",
     "text": [
      "torch.Size([2, 3, 128, 128])\n",
      "at layer 11: torch.Size([2, 512, 2, 2])\n",
      "at layer add: torch.Size([2, 512, 2, 2])\n",
      "at layer flat: torch.Size([2, 2048])\n",
      "tensor([[ 0.2042],\n",
      "        [-0.1337]], grad_fn=<AddmmBackward0>)\n",
      "torch.Size([2, 1])\n"
     ]
    }
   ],
   "source": [
    "import model\n",
    "\n",
    "model.test()"
   ]
  },
  {
   "cell_type": "code",
   "execution_count": 3,
   "metadata": {},
   "outputs": [
    {
     "data": {
      "text/plain": [
       "torch.Size([2, 3, 128, 128])"
      ]
     },
     "execution_count": 3,
     "metadata": {},
     "output_type": "execute_result"
    }
   ],
   "source": [
    "import torch\n",
    "device = torch.device(\"cuda\" if torch.cuda.is_available() else \"cpu\")\n",
    "BATCH_SIZE, C, H, W = [2, 3, 128, 128]\n",
    "alpha = torch.rand((BATCH_SIZE, 1, 1, 1)).repeat(1, C, H, W).to(device)\n",
    "alpha.shape"
   ]
  },
  {
   "cell_type": "code",
   "execution_count": 2,
   "metadata": {},
   "outputs": [
    {
     "name": "stderr",
     "output_type": "stream",
     "text": [
      "  0%|          | 0/737 [00:00<?, ?it/s]"
     ]
    },
    {
     "name": "stdout",
     "output_type": "stream",
     "text": [
      "at layer 11: torch.Size([1, 512, 2, 2])\n",
      "at layer add: torch.Size([1, 512, 2, 2])\n",
      "at layer flat: torch.Size([1, 2048])\n",
      "at layer 11: torch.Size([1, 512, 2, 2])\n",
      "at layer add: torch.Size([1, 512, 2, 2])\n",
      "at layer flat: torch.Size([1, 2048])\n",
      "at layer 11: torch.Size([1, 512, 2, 2])\n",
      "at layer add: torch.Size([1, 512, 2, 2])\n",
      "at layer flat: torch.Size([1, 2048])\n",
      "at layer 11: torch.Size([1, 512, 2, 2])\n",
      "at layer add: torch.Size([1, 512, 2, 2])\n",
      "at layer flat: torch.Size([1, 2048])\n",
      "at layer 11: torch.Size([1, 512, 2, 2])\n",
      "at layer add: torch.Size([1, 512, 2, 2])\n",
      "at layer flat: torch.Size([1, 2048])\n",
      "at layer 11: torch.Size([1, 512, 2, 2])\n",
      "at layer add: torch.Size([1, 512, 2, 2])\n",
      "at layer flat: torch.Size([1, 2048])\n",
      "at layer 11: torch.Size([1, 512, 2, 2])\n",
      "at layer add: torch.Size([1, 512, 2, 2])\n",
      "at layer flat: torch.Size([1, 2048])\n",
      "Epoch [0/100] Batch 0/737                     Loss D: 55933.3047, loss G: 0.4143\n"
     ]
    },
    {
     "name": "stderr",
     "output_type": "stream",
     "text": [
      "  0%|          | 1/737 [00:11<2:26:48, 11.97s/it]"
     ]
    },
    {
     "name": "stdout",
     "output_type": "stream",
     "text": [
      "at layer 11: torch.Size([1, 512, 2, 2])\n",
      "at layer add: torch.Size([1, 512, 2, 2])\n",
      "at layer flat: torch.Size([1, 2048])\n",
      "at layer 11: torch.Size([1, 512, 2, 2])\n",
      "at layer add: torch.Size([1, 512, 2, 2])\n",
      "at layer flat: torch.Size([1, 2048])\n",
      "at layer 11: torch.Size([1, 512, 2, 2])\n",
      "at layer add: torch.Size([1, 512, 2, 2])\n",
      "at layer flat: torch.Size([1, 2048])\n",
      "at layer 11: torch.Size([1, 512, 2, 2])\n",
      "at layer add: torch.Size([1, 512, 2, 2])\n",
      "at layer flat: torch.Size([1, 2048])\n",
      "at layer 11: torch.Size([1, 512, 2, 2])\n",
      "at layer add: torch.Size([1, 512, 2, 2])\n",
      "at layer flat: torch.Size([1, 2048])\n",
      "at layer 11: torch.Size([1, 512, 2, 2])\n",
      "at layer add: torch.Size([1, 512, 2, 2])\n",
      "at layer flat: torch.Size([1, 2048])\n"
     ]
    },
    {
     "name": "stderr",
     "output_type": "stream",
     "text": [
      "  0%|          | 2/737 [00:12<1:02:23,  5.09s/it]"
     ]
    },
    {
     "name": "stdout",
     "output_type": "stream",
     "text": [
      "at layer 11: torch.Size([1, 512, 2, 2])\n",
      "at layer add: torch.Size([1, 512, 2, 2])\n",
      "at layer flat: torch.Size([1, 2048])\n",
      "at layer 11: torch.Size([1, 512, 2, 2])\n",
      "at layer add: torch.Size([1, 512, 2, 2])\n",
      "at layer flat: torch.Size([1, 2048])\n",
      "at layer 11: torch.Size([1, 512, 2, 2])\n",
      "at layer add: torch.Size([1, 512, 2, 2])\n",
      "at layer flat: torch.Size([1, 2048])\n",
      "at layer 11: torch.Size([1, 512, 2, 2])\n",
      "at layer add: torch.Size([1, 512, 2, 2])\n",
      "at layer flat: torch.Size([1, 2048])\n",
      "at layer 11: torch.Size([1, 512, 2, 2])\n",
      "at layer add: torch.Size([1, 512, 2, 2])\n",
      "at layer flat: torch.Size([1, 2048])\n",
      "at layer 11: torch.Size([1, 512, 2, 2])\n",
      "at layer add: torch.Size([1, 512, 2, 2])\n",
      "at layer flat: torch.Size([1, 2048])\n",
      "at layer 11: torch.Size([1, 512, 2, 2])\n",
      "at layer add: torch.Size([1, 512, 2, 2])\n",
      "at layer flat: torch.Size([1, 2048])\n"
     ]
    },
    {
     "name": "stderr",
     "output_type": "stream",
     "text": [
      "  0%|          | 3/737 [00:12<35:31,  2.90s/it]  "
     ]
    },
    {
     "name": "stdout",
     "output_type": "stream",
     "text": [
      "at layer 11: torch.Size([1, 512, 2, 2])\n",
      "at layer add: torch.Size([1, 512, 2, 2])\n",
      "at layer flat: torch.Size([1, 2048])\n",
      "at layer 11: torch.Size([1, 512, 2, 2])\n",
      "at layer add: torch.Size([1, 512, 2, 2])\n",
      "at layer flat: torch.Size([1, 2048])\n",
      "at layer 11: torch.Size([1, 512, 2, 2])\n",
      "at layer add: torch.Size([1, 512, 2, 2])\n",
      "at layer flat: torch.Size([1, 2048])\n",
      "at layer 11: torch.Size([1, 512, 2, 2])\n",
      "at layer add: torch.Size([1, 512, 2, 2])\n",
      "at layer flat: torch.Size([1, 2048])\n",
      "at layer 11: torch.Size([1, 512, 2, 2])\n",
      "at layer add: torch.Size([1, 512, 2, 2])\n",
      "at layer flat: torch.Size([1, 2048])\n",
      "at layer 11: torch.Size([1, 512, 2, 2])\n",
      "at layer add: torch.Size([1, 512, 2, 2])\n",
      "at layer flat: torch.Size([1, 2048])\n"
     ]
    },
    {
     "name": "stderr",
     "output_type": "stream",
     "text": [
      "  1%|          | 4/737 [00:12<22:56,  1.88s/it]"
     ]
    },
    {
     "name": "stdout",
     "output_type": "stream",
     "text": [
      "at layer 11: torch.Size([1, 512, 2, 2])\n",
      "at layer add: torch.Size([1, 512, 2, 2])\n",
      "at layer flat: torch.Size([1, 2048])\n",
      "at layer 11: torch.Size([1, 512, 2, 2])\n",
      "at layer add: torch.Size([1, 512, 2, 2])\n",
      "at layer flat: torch.Size([1, 2048])\n",
      "at layer 11: torch.Size([1, 512, 2, 2])\n",
      "at layer add: torch.Size([1, 512, 2, 2])\n",
      "at layer flat: torch.Size([1, 2048])\n",
      "at layer 11: torch.Size([1, 512, 2, 2])\n",
      "at layer add: torch.Size([1, 512, 2, 2])\n",
      "at layer flat: torch.Size([1, 2048])\n",
      "at layer 11: torch.Size([1, 512, 2, 2])\n",
      "at layer add: torch.Size([1, 512, 2, 2])\n",
      "at layer flat: torch.Size([1, 2048])\n",
      "at layer 11: torch.Size([1, 512, 2, 2])\n",
      "at layer add: torch.Size([1, 512, 2, 2])\n",
      "at layer flat: torch.Size([1, 2048])\n",
      "at layer 11: torch.Size([1, 512, 2, 2])\n",
      "at layer add: torch.Size([1, 512, 2, 2])\n",
      "at layer flat: torch.Size([1, 2048])\n",
      "at layer 11: torch.Size([1, 512, 2, 2])\n",
      "at layer add: torch.Size([1, 512, 2, 2])\n",
      "at layer flat: torch.Size([1, 2048])\n"
     ]
    },
    {
     "name": "stderr",
     "output_type": "stream",
     "text": [
      "  1%|          | 5/737 [00:13<16:20,  1.34s/it]"
     ]
    },
    {
     "name": "stdout",
     "output_type": "stream",
     "text": [
      "at layer 11: torch.Size([1, 512, 2, 2])\n",
      "at layer add: torch.Size([1, 512, 2, 2])\n",
      "at layer flat: torch.Size([1, 2048])\n",
      "at layer 11: torch.Size([1, 512, 2, 2])\n",
      "at layer add: torch.Size([1, 512, 2, 2])\n",
      "at layer flat: torch.Size([1, 2048])\n",
      "at layer 11: torch.Size([1, 512, 2, 2])\n",
      "at layer add: torch.Size([1, 512, 2, 2])\n",
      "at layer flat: torch.Size([1, 2048])\n",
      "at layer 11: torch.Size([1, 512, 2, 2])\n",
      "at layer add: torch.Size([1, 512, 2, 2])\n",
      "at layer flat: torch.Size([1, 2048])\n",
      "at layer 11: torch.Size([1, 512, 2, 2])\n",
      "at layer add: torch.Size([1, 512, 2, 2])\n",
      "at layer flat: torch.Size([1, 2048])\n",
      "at layer 11: torch.Size([1, 512, 2, 2])\n",
      "at layer add: torch.Size([1, 512, 2, 2])\n",
      "at layer flat: torch.Size([1, 2048])\n"
     ]
    },
    {
     "name": "stderr",
     "output_type": "stream",
     "text": [
      "  1%|          | 6/737 [00:13<12:03,  1.01it/s]"
     ]
    },
    {
     "name": "stdout",
     "output_type": "stream",
     "text": [
      "at layer 11: torch.Size([1, 512, 2, 2])\n",
      "at layer add: torch.Size([1, 512, 2, 2])\n",
      "at layer flat: torch.Size([1, 2048])\n",
      "at layer 11: torch.Size([1, 512, 2, 2])\n",
      "at layer add: torch.Size([1, 512, 2, 2])\n",
      "at layer flat: torch.Size([1, 2048])\n",
      "at layer 11: torch.Size([1, 512, 2, 2])\n",
      "at layer add: torch.Size([1, 512, 2, 2])\n",
      "at layer flat: torch.Size([1, 2048])\n",
      "at layer 11: torch.Size([1, 512, 2, 2])\n",
      "at layer add: torch.Size([1, 512, 2, 2])\n",
      "at layer flat: torch.Size([1, 2048])\n",
      "at layer 11: torch.Size([1, 512, 2, 2])\n",
      "at layer add: torch.Size([1, 512, 2, 2])\n",
      "at layer flat: torch.Size([1, 2048])\n"
     ]
    },
    {
     "name": "stderr",
     "output_type": "stream",
     "text": [
      "  1%|          | 7/737 [00:13<09:14,  1.32it/s]"
     ]
    },
    {
     "name": "stdout",
     "output_type": "stream",
     "text": [
      "at layer 11: torch.Size([1, 512, 2, 2])\n",
      "at layer add: torch.Size([1, 512, 2, 2])\n",
      "at layer flat: torch.Size([1, 2048])\n",
      "at layer 11: torch.Size([1, 512, 2, 2])\n",
      "at layer add: torch.Size([1, 512, 2, 2])\n",
      "at layer flat: torch.Size([1, 2048])\n",
      "at layer 11: torch.Size([1, 512, 2, 2])\n",
      "at layer add: torch.Size([1, 512, 2, 2])\n",
      "at layer flat: torch.Size([1, 2048])\n",
      "at layer 11: torch.Size([1, 512, 2, 2])\n",
      "at layer add: torch.Size([1, 512, 2, 2])\n",
      "at layer flat: torch.Size([1, 2048])\n",
      "at layer 11: torch.Size([1, 512, 2, 2])\n",
      "at layer add: torch.Size([1, 512, 2, 2])\n",
      "at layer flat: torch.Size([1, 2048])\n",
      "at layer 11: torch.Size([1, 512, 2, 2])\n",
      "at layer add: torch.Size([1, 512, 2, 2])\n",
      "at layer flat: torch.Size([1, 2048])\n",
      "at layer 11: torch.Size([1, 512, 2, 2])\n",
      "at layer add: torch.Size([1, 512, 2, 2])\n",
      "at layer flat: torch.Size([1, 2048])\n"
     ]
    },
    {
     "name": "stderr",
     "output_type": "stream",
     "text": [
      "  1%|          | 8/737 [00:14<07:21,  1.65it/s]"
     ]
    },
    {
     "name": "stdout",
     "output_type": "stream",
     "text": [
      "at layer 11: torch.Size([1, 512, 2, 2])\n",
      "at layer add: torch.Size([1, 512, 2, 2])\n",
      "at layer flat: torch.Size([1, 2048])\n",
      "at layer 11: torch.Size([1, 512, 2, 2])\n",
      "at layer add: torch.Size([1, 512, 2, 2])\n",
      "at layer flat: torch.Size([1, 2048])\n",
      "at layer 11: torch.Size([1, 512, 2, 2])\n",
      "at layer add: torch.Size([1, 512, 2, 2])\n",
      "at layer flat: torch.Size([1, 2048])\n",
      "at layer 11: torch.Size([1, 512, 2, 2])\n",
      "at layer add: torch.Size([1, 512, 2, 2])\n",
      "at layer flat: torch.Size([1, 2048])\n",
      "at layer 11: torch.Size([1, 512, 2, 2])\n",
      "at layer add: torch.Size([1, 512, 2, 2])\n",
      "at layer flat: torch.Size([1, 2048])\n",
      "at layer 11: torch.Size([1, 512, 2, 2])\n",
      "at layer add: torch.Size([1, 512, 2, 2])\n",
      "at layer flat: torch.Size([1, 2048])\n",
      "at layer 11: torch.Size([1, 512, 2, 2])\n",
      "at layer add: torch.Size([1, 512, 2, 2])\n",
      "at layer flat: torch.Size([1, 2048])\n"
     ]
    },
    {
     "name": "stderr",
     "output_type": "stream",
     "text": [
      "  1%|          | 9/737 [00:14<06:06,  1.99it/s]"
     ]
    },
    {
     "name": "stdout",
     "output_type": "stream",
     "text": [
      "at layer 11: torch.Size([1, 512, 2, 2])\n",
      "at layer add: torch.Size([1, 512, 2, 2])\n",
      "at layer flat: torch.Size([1, 2048])\n",
      "at layer 11: torch.Size([1, 512, 2, 2])\n",
      "at layer add: torch.Size([1, 512, 2, 2])\n",
      "at layer flat: torch.Size([1, 2048])\n",
      "at layer 11: torch.Size([1, 512, 2, 2])\n",
      "at layer add: torch.Size([1, 512, 2, 2])\n",
      "at layer flat: torch.Size([1, 2048])\n",
      "at layer 11: torch.Size([1, 512, 2, 2])\n",
      "at layer add: torch.Size([1, 512, 2, 2])\n",
      "at layer flat: torch.Size([1, 2048])\n",
      "at layer 11: torch.Size([1, 512, 2, 2])\n",
      "at layer add: torch.Size([1, 512, 2, 2])\n",
      "at layer flat: torch.Size([1, 2048])\n",
      "at layer 11: torch.Size([1, 512, 2, 2])\n",
      "at layer add: torch.Size([1, 512, 2, 2])\n",
      "at layer flat: torch.Size([1, 2048])\n",
      "at layer 11: torch.Size([1, 512, 2, 2])\n",
      "at layer add: torch.Size([1, 512, 2, 2])\n",
      "at layer flat: torch.Size([1, 2048])\n"
     ]
    },
    {
     "name": "stderr",
     "output_type": "stream",
     "text": [
      "  1%|▏         | 10/737 [00:14<05:18,  2.29it/s]"
     ]
    },
    {
     "name": "stdout",
     "output_type": "stream",
     "text": [
      "at layer 11: torch.Size([1, 512, 2, 2])\n",
      "at layer add: torch.Size([1, 512, 2, 2])\n",
      "at layer flat: torch.Size([1, 2048])\n",
      "at layer 11: torch.Size([1, 512, 2, 2])\n",
      "at layer add: torch.Size([1, 512, 2, 2])\n",
      "at layer flat: torch.Size([1, 2048])\n",
      "at layer 11: torch.Size([1, 512, 2, 2])\n",
      "at layer add: torch.Size([1, 512, 2, 2])\n",
      "at layer flat: torch.Size([1, 2048])\n",
      "at layer 11: torch.Size([1, 512, 2, 2])\n",
      "at layer add: torch.Size([1, 512, 2, 2])\n",
      "at layer flat: torch.Size([1, 2048])\n",
      "at layer 11: torch.Size([1, 512, 2, 2])\n",
      "at layer add: torch.Size([1, 512, 2, 2])\n",
      "at layer flat: torch.Size([1, 2048])\n",
      "at layer 11: torch.Size([1, 512, 2, 2])\n",
      "at layer add: torch.Size([1, 512, 2, 2])\n",
      "at layer flat: torch.Size([1, 2048])\n",
      "at layer 11: torch.Size([1, 512, 2, 2])\n",
      "at layer add: torch.Size([1, 512, 2, 2])\n",
      "at layer flat: torch.Size([1, 2048])\n",
      "at layer 11: torch.Size([1, 512, 2, 2])\n",
      "at layer add: torch.Size([1, 512, 2, 2])\n",
      "at layer flat: torch.Size([1, 2048])\n",
      "at layer 11: torch.Size([1, 512, 2, 2])\n",
      "at layer add: torch.Size([1, 512, 2, 2])\n",
      "at layer flat: torch.Size([1, 2048])\n",
      "at layer 11: torch.Size([1, 512, 2, 2])\n",
      "at layer add: torch.Size([1, 512, 2, 2])\n",
      "at layer flat: torch.Size([1, 2048])\n"
     ]
    },
    {
     "name": "stderr",
     "output_type": "stream",
     "text": [
      "  1%|▏         | 11/737 [00:15<05:01,  2.41it/s]"
     ]
    },
    {
     "name": "stdout",
     "output_type": "stream",
     "text": [
      "at layer 11: torch.Size([1, 512, 2, 2])\n",
      "at layer add: torch.Size([1, 512, 2, 2])\n",
      "at layer flat: torch.Size([1, 2048])\n",
      "Epoch [0/100] Batch 10/737                     Loss D: 51704.4219, loss G: 0.4907\n",
      "at layer 11: torch.Size([1, 512, 2, 2])\n",
      "at layer add: torch.Size([1, 512, 2, 2])\n",
      "at layer flat: torch.Size([1, 2048])\n",
      "at layer 11: torch.Size([1, 512, 2, 2])\n",
      "at layer add: torch.Size([1, 512, 2, 2])\n",
      "at layer flat: torch.Size([1, 2048])\n",
      "at layer 11: torch.Size([1, 512, 2, 2])\n",
      "at layer add: torch.Size([1, 512, 2, 2])\n",
      "at layer flat: torch.Size([1, 2048])\n"
     ]
    },
    {
     "name": "stderr",
     "output_type": "stream",
     "text": [
      "  2%|▏         | 12/737 [00:15<04:22,  2.76it/s]"
     ]
    },
    {
     "name": "stdout",
     "output_type": "stream",
     "text": [
      "at layer 11: torch.Size([1, 512, 2, 2])\n",
      "at layer add: torch.Size([1, 512, 2, 2])\n",
      "at layer flat: torch.Size([1, 2048])\n",
      "at layer 11: torch.Size([1, 512, 2, 2])\n",
      "at layer add: torch.Size([1, 512, 2, 2])\n",
      "at layer flat: torch.Size([1, 2048])\n",
      "at layer 11: torch.Size([1, 512, 2, 2])\n",
      "at layer add: torch.Size([1, 512, 2, 2])\n",
      "at layer flat: torch.Size([1, 2048])\n",
      "at layer 11: torch.Size([1, 512, 2, 2])\n",
      "at layer add: torch.Size([1, 512, 2, 2])\n",
      "at layer flat: torch.Size([1, 2048])\n",
      "at layer 11: torch.Size([1, 512, 2, 2])\n",
      "at layer add: torch.Size([1, 512, 2, 2])\n",
      "at layer flat: torch.Size([1, 2048])\n",
      "at layer 11: torch.Size([1, 512, 2, 2])\n",
      "at layer add: torch.Size([1, 512, 2, 2])\n",
      "at layer flat: torch.Size([1, 2048])\n",
      "at layer 11: torch.Size([1, 512, 2, 2])\n",
      "at layer add: torch.Size([1, 512, 2, 2])\n",
      "at layer flat: torch.Size([1, 2048])\n"
     ]
    },
    {
     "name": "stderr",
     "output_type": "stream",
     "text": [
      "  2%|▏         | 13/737 [00:15<04:03,  2.97it/s]"
     ]
    },
    {
     "name": "stdout",
     "output_type": "stream",
     "text": [
      "at layer 11: torch.Size([1, 512, 2, 2])\n",
      "at layer add: torch.Size([1, 512, 2, 2])\n",
      "at layer flat: torch.Size([1, 2048])\n",
      "at layer 11: torch.Size([1, 512, 2, 2])\n",
      "at layer add: torch.Size([1, 512, 2, 2])\n",
      "at layer flat: torch.Size([1, 2048])\n",
      "at layer 11: torch.Size([1, 512, 2, 2])\n",
      "at layer add: torch.Size([1, 512, 2, 2])\n",
      "at layer flat: torch.Size([1, 2048])\n",
      "at layer 11: torch.Size([1, 512, 2, 2])\n",
      "at layer add: torch.Size([1, 512, 2, 2])\n",
      "at layer flat: torch.Size([1, 2048])\n",
      "at layer 11: torch.Size([1, 512, 2, 2])\n",
      "at layer add: torch.Size([1, 512, 2, 2])\n",
      "at layer flat: torch.Size([1, 2048])\n",
      "at layer 11: torch.Size([1, 512, 2, 2])\n",
      "at layer add: torch.Size([1, 512, 2, 2])\n",
      "at layer flat: torch.Size([1, 2048])\n",
      "at layer 11: torch.Size([1, 512, 2, 2])\n",
      "at layer add: torch.Size([1, 512, 2, 2])\n",
      "at layer flat: torch.Size([1, 2048])\n"
     ]
    },
    {
     "name": "stderr",
     "output_type": "stream",
     "text": [
      "  2%|▏         | 14/737 [00:15<03:52,  3.12it/s]"
     ]
    },
    {
     "name": "stdout",
     "output_type": "stream",
     "text": [
      "at layer 11: torch.Size([1, 512, 2, 2])\n",
      "at layer add: torch.Size([1, 512, 2, 2])\n",
      "at layer flat: torch.Size([1, 2048])\n",
      "at layer 11: torch.Size([1, 512, 2, 2])\n",
      "at layer add: torch.Size([1, 512, 2, 2])\n",
      "at layer flat: torch.Size([1, 2048])\n",
      "at layer 11: torch.Size([1, 512, 2, 2])\n",
      "at layer add: torch.Size([1, 512, 2, 2])\n",
      "at layer flat: torch.Size([1, 2048])\n",
      "at layer 11: torch.Size([1, 512, 2, 2])\n",
      "at layer add: torch.Size([1, 512, 2, 2])\n",
      "at layer flat: torch.Size([1, 2048])\n",
      "at layer 11: torch.Size([1, 512, 2, 2])\n",
      "at layer add: torch.Size([1, 512, 2, 2])\n",
      "at layer flat: torch.Size([1, 2048])\n",
      "at layer 11: torch.Size([1, 512, 2, 2])\n",
      "at layer add: torch.Size([1, 512, 2, 2])\n",
      "at layer flat: torch.Size([1, 2048])\n",
      "at layer 11: torch.Size([1, 512, 2, 2])\n",
      "at layer add: torch.Size([1, 512, 2, 2])\n",
      "at layer flat: torch.Size([1, 2048])\n"
     ]
    },
    {
     "name": "stderr",
     "output_type": "stream",
     "text": [
      "  2%|▏         | 15/737 [00:16<03:43,  3.24it/s]"
     ]
    },
    {
     "name": "stdout",
     "output_type": "stream",
     "text": [
      "at layer 11: torch.Size([1, 512, 2, 2])\n",
      "at layer add: torch.Size([1, 512, 2, 2])\n",
      "at layer flat: torch.Size([1, 2048])\n",
      "at layer 11: torch.Size([1, 512, 2, 2])\n",
      "at layer add: torch.Size([1, 512, 2, 2])\n",
      "at layer flat: torch.Size([1, 2048])\n",
      "at layer 11: torch.Size([1, 512, 2, 2])\n",
      "at layer add: torch.Size([1, 512, 2, 2])\n",
      "at layer flat: torch.Size([1, 2048])\n",
      "at layer 11: torch.Size([1, 512, 2, 2])\n",
      "at layer add: torch.Size([1, 512, 2, 2])\n",
      "at layer flat: torch.Size([1, 2048])\n",
      "at layer 11: torch.Size([1, 512, 2, 2])\n",
      "at layer add: torch.Size([1, 512, 2, 2])\n",
      "at layer flat: torch.Size([1, 2048])\n",
      "at layer 11: torch.Size([1, 512, 2, 2])\n",
      "at layer add: torch.Size([1, 512, 2, 2])\n",
      "at layer flat: torch.Size([1, 2048])\n",
      "at layer 11: torch.Size([1, 512, 2, 2])\n",
      "at layer add: torch.Size([1, 512, 2, 2])\n",
      "at layer flat: torch.Size([1, 2048])\n"
     ]
    },
    {
     "name": "stderr",
     "output_type": "stream",
     "text": [
      "  2%|▏         | 16/737 [00:16<03:38,  3.30it/s]"
     ]
    },
    {
     "name": "stdout",
     "output_type": "stream",
     "text": [
      "at layer 11: torch.Size([1, 512, 2, 2])\n",
      "at layer add: torch.Size([1, 512, 2, 2])\n",
      "at layer flat: torch.Size([1, 2048])\n",
      "at layer 11: torch.Size([1, 512, 2, 2])\n",
      "at layer add: torch.Size([1, 512, 2, 2])\n",
      "at layer flat: torch.Size([1, 2048])\n",
      "at layer 11: torch.Size([1, 512, 2, 2])\n",
      "at layer add: torch.Size([1, 512, 2, 2])\n",
      "at layer flat: torch.Size([1, 2048])\n",
      "at layer 11: torch.Size([1, 512, 2, 2])\n",
      "at layer add: torch.Size([1, 512, 2, 2])\n",
      "at layer flat: torch.Size([1, 2048])\n",
      "at layer 11: torch.Size([1, 512, 2, 2])\n",
      "at layer add: torch.Size([1, 512, 2, 2])\n",
      "at layer flat: torch.Size([1, 2048])\n",
      "at layer 11: torch.Size([1, 512, 2, 2])\n",
      "at layer add: torch.Size([1, 512, 2, 2])\n",
      "at layer flat: torch.Size([1, 2048])\n",
      "at layer 11: torch.Size([1, 512, 2, 2])\n",
      "at layer add: torch.Size([1, 512, 2, 2])\n",
      "at layer flat: torch.Size([1, 2048])\n",
      "at layer 11: torch.Size([1, 512, 2, 2])\n",
      "at layer add: torch.Size([1, 512, 2, 2])\n",
      "at layer flat: torch.Size([1, 2048])\n",
      "at layer 11: torch.Size([1, 512, 2, 2])\n",
      "at layer add: torch.Size([1, 512, 2, 2])\n",
      "at layer flat: torch.Size([1, 2048])\n",
      "at layer 11: torch.Size([1, 512, 2, 2])\n",
      "at layer add: torch.Size([1, 512, 2, 2])\n",
      "at layer flat: torch.Size([1, 2048])\n",
      "at layer 11: torch.Size([1, 512, 2, 2])\n",
      "at layer add: torch.Size([1, 512, 2, 2])\n",
      "at layer flat: torch.Size([1, 2048])\n"
     ]
    },
    {
     "name": "stderr",
     "output_type": "stream",
     "text": [
      "  2%|▏         | 17/737 [00:16<03:33,  3.38it/s]"
     ]
    },
    {
     "name": "stdout",
     "output_type": "stream",
     "text": [
      "at layer 11: torch.Size([1, 512, 2, 2])\n",
      "at layer add: torch.Size([1, 512, 2, 2])\n",
      "at layer flat: torch.Size([1, 2048])\n",
      "at layer 11: torch.Size([1, 512, 2, 2])\n",
      "at layer add: torch.Size([1, 512, 2, 2])\n",
      "at layer flat: torch.Size([1, 2048])\n",
      "at layer 11: torch.Size([1, 512, 2, 2])\n",
      "at layer add: torch.Size([1, 512, 2, 2])\n",
      "at layer flat: torch.Size([1, 2048])\n",
      "at layer 11: torch.Size([1, 512, 2, 2])\n",
      "at layer add: torch.Size([1, 512, 2, 2])\n",
      "at layer flat: torch.Size([1, 2048])\n",
      "at layer 11: torch.Size([1, 512, 2, 2])\n",
      "at layer add: torch.Size([1, 512, 2, 2])\n",
      "at layer flat: torch.Size([1, 2048])\n",
      "at layer 11: torch.Size([1, 512, 2, 2])\n",
      "at layer add: torch.Size([1, 512, 2, 2])\n",
      "at layer flat: torch.Size([1, 2048])\n"
     ]
    },
    {
     "name": "stderr",
     "output_type": "stream",
     "text": [
      "  2%|▏         | 18/737 [00:16<03:32,  3.38it/s]"
     ]
    },
    {
     "name": "stdout",
     "output_type": "stream",
     "text": [
      "at layer 11: torch.Size([1, 512, 2, 2])\n",
      "at layer add: torch.Size([1, 512, 2, 2])\n",
      "at layer flat: torch.Size([1, 2048])\n",
      "at layer 11: torch.Size([1, 512, 2, 2])\n",
      "at layer add: torch.Size([1, 512, 2, 2])\n",
      "at layer flat: torch.Size([1, 2048])\n",
      "at layer 11: torch.Size([1, 512, 2, 2])\n",
      "at layer add: torch.Size([1, 512, 2, 2])\n",
      "at layer flat: torch.Size([1, 2048])\n",
      "at layer 11: torch.Size([1, 512, 2, 2])\n",
      "at layer add: torch.Size([1, 512, 2, 2])\n",
      "at layer flat: torch.Size([1, 2048])\n",
      "at layer 11: torch.Size([1, 512, 2, 2])\n",
      "at layer add: torch.Size([1, 512, 2, 2])\n",
      "at layer flat: torch.Size([1, 2048])\n",
      "at layer 11: torch.Size([1, 512, 2, 2])\n",
      "at layer add: torch.Size([1, 512, 2, 2])\n",
      "at layer flat: torch.Size([1, 2048])\n"
     ]
    },
    {
     "name": "stderr",
     "output_type": "stream",
     "text": [
      "  3%|▎         | 19/737 [00:17<03:28,  3.44it/s]"
     ]
    },
    {
     "name": "stdout",
     "output_type": "stream",
     "text": [
      "at layer 11: torch.Size([1, 512, 2, 2])\n",
      "at layer add: torch.Size([1, 512, 2, 2])\n",
      "at layer flat: torch.Size([1, 2048])\n",
      "at layer 11: torch.Size([1, 512, 2, 2])\n",
      "at layer add: torch.Size([1, 512, 2, 2])\n",
      "at layer flat: torch.Size([1, 2048])\n",
      "at layer 11: torch.Size([1, 512, 2, 2])\n",
      "at layer add: torch.Size([1, 512, 2, 2])\n",
      "at layer flat: torch.Size([1, 2048])\n",
      "at layer 11: torch.Size([1, 512, 2, 2])\n",
      "at layer add: torch.Size([1, 512, 2, 2])\n",
      "at layer flat: torch.Size([1, 2048])\n",
      "at layer 11: torch.Size([1, 512, 2, 2])\n",
      "at layer add: torch.Size([1, 512, 2, 2])\n",
      "at layer flat: torch.Size([1, 2048])\n"
     ]
    },
    {
     "name": "stderr",
     "output_type": "stream",
     "text": [
      "  3%|▎         | 19/737 [00:17<11:02,  1.08it/s]"
     ]
    },
    {
     "name": "stdout",
     "output_type": "stream",
     "text": [
      "at layer 11: torch.Size([1, 512, 2, 2])\n",
      "at layer add: torch.Size([1, 512, 2, 2])\n",
      "at layer flat: torch.Size([1, 2048])\n",
      "at layer 11: torch.Size([1, 512, 2, 2])\n",
      "at layer add: torch.Size([1, 512, 2, 2])\n",
      "at layer flat: torch.Size([1, 2048])\n",
      "at layer 11: torch.Size([1, 512, 2, 2])\n",
      "at layer add: torch.Size([1, 512, 2, 2])\n",
      "at layer flat: torch.Size([1, 2048])\n"
     ]
    },
    {
     "name": "stderr",
     "output_type": "stream",
     "text": [
      "\n"
     ]
    },
    {
     "ename": "KeyboardInterrupt",
     "evalue": "",
     "output_type": "error",
     "traceback": [
      "\u001b[1;31m---------------------------------------------------------------------------\u001b[0m",
      "\u001b[1;31mKeyboardInterrupt\u001b[0m                         Traceback (most recent call last)",
      "Cell \u001b[1;32mIn[2], line 5\u001b[0m\n\u001b[0;32m      3\u001b[0m hr_dir \u001b[38;5;241m=\u001b[39m \u001b[38;5;124mr\u001b[39m\u001b[38;5;124m\"\u001b[39m\u001b[38;5;124mC:\u001b[39m\u001b[38;5;124m\\\u001b[39m\u001b[38;5;124mSaiVinay\u001b[39m\u001b[38;5;124m\\\u001b[39m\u001b[38;5;124mSproutsAI\u001b[39m\u001b[38;5;124m\\\u001b[39m\u001b[38;5;124mGitHub_\u001b[39m\u001b[38;5;124m\\\u001b[39m\u001b[38;5;124mir_srgan_otsr\u001b[39m\u001b[38;5;124m\\\u001b[39m\u001b[38;5;124mDF2K_LR_HR\u001b[39m\u001b[38;5;124m\\\u001b[39m\u001b[38;5;124mimgsResizedHR_L2\u001b[39m\u001b[38;5;124m\"\u001b[39m\n\u001b[0;32m      4\u001b[0m lr_dir \u001b[38;5;241m=\u001b[39m \u001b[38;5;124mr\u001b[39m\u001b[38;5;124m\"\u001b[39m\u001b[38;5;124mC:\u001b[39m\u001b[38;5;124m\\\u001b[39m\u001b[38;5;124mSaiVinay\u001b[39m\u001b[38;5;124m\\\u001b[39m\u001b[38;5;124mSproutsAI\u001b[39m\u001b[38;5;124m\\\u001b[39m\u001b[38;5;124mGitHub_\u001b[39m\u001b[38;5;124m\\\u001b[39m\u001b[38;5;124mir_srgan_otsr\u001b[39m\u001b[38;5;124m\\\u001b[39m\u001b[38;5;124mDF2K_LR_HR\u001b[39m\u001b[38;5;124m\\\u001b[39m\u001b[38;5;124mimgsResizedLR_L2\u001b[39m\u001b[38;5;124m\"\u001b[39m\n\u001b[1;32m----> 5\u001b[0m \u001b[43mtrain\u001b[49m\u001b[43m(\u001b[49m\u001b[43mhr_dir\u001b[49m\u001b[43m,\u001b[49m\u001b[43m \u001b[49m\u001b[43mlr_dir\u001b[49m\u001b[43m)\u001b[49m\n",
      "File \u001b[1;32mc:\\SaiVinay\\SproutsAI\\GitHub_\\ir_srgan_otsr\\srgan\\train.py:68\u001b[0m, in \u001b[0;36mtrain\u001b[1;34m(hr_dir, lr_dir)\u001b[0m\n\u001b[0;32m     65\u001b[0m     lossD \u001b[38;5;241m=\u001b[39m \u001b[38;5;241m-\u001b[39m(torch\u001b[38;5;241m.\u001b[39mmean(critic_real) \u001b[38;5;241m-\u001b[39m torch\u001b[38;5;241m.\u001b[39mmean(critic_fake)) \u001b[38;5;241m+\u001b[39m LAMBDA_GP\u001b[38;5;241m*\u001b[39mgp\n\u001b[0;32m     67\u001b[0m     netD\u001b[38;5;241m.\u001b[39mzero_grad()\n\u001b[1;32m---> 68\u001b[0m     \u001b[43mlossD\u001b[49m\u001b[38;5;241;43m.\u001b[39;49m\u001b[43mbackward\u001b[49m\u001b[43m(\u001b[49m\u001b[43mretain_graph\u001b[49m\u001b[38;5;241;43m=\u001b[39;49m\u001b[38;5;28;43;01mTrue\u001b[39;49;00m\u001b[43m)\u001b[49m\n\u001b[0;32m     69\u001b[0m     optD\u001b[38;5;241m.\u001b[39mstep()\n\u001b[0;32m     71\u001b[0m \u001b[38;5;66;03m# Train Generator: min -E[critic(gen_fake)]\u001b[39;00m\n",
      "File \u001b[1;32mc:\\Users\\saivi\\anaconda3\\envs\\forcuda\\Lib\\site-packages\\torch\\_tensor.py:522\u001b[0m, in \u001b[0;36mTensor.backward\u001b[1;34m(self, gradient, retain_graph, create_graph, inputs)\u001b[0m\n\u001b[0;32m    512\u001b[0m \u001b[38;5;28;01mif\u001b[39;00m has_torch_function_unary(\u001b[38;5;28mself\u001b[39m):\n\u001b[0;32m    513\u001b[0m     \u001b[38;5;28;01mreturn\u001b[39;00m handle_torch_function(\n\u001b[0;32m    514\u001b[0m         Tensor\u001b[38;5;241m.\u001b[39mbackward,\n\u001b[0;32m    515\u001b[0m         (\u001b[38;5;28mself\u001b[39m,),\n\u001b[1;32m   (...)\u001b[0m\n\u001b[0;32m    520\u001b[0m         inputs\u001b[38;5;241m=\u001b[39minputs,\n\u001b[0;32m    521\u001b[0m     )\n\u001b[1;32m--> 522\u001b[0m \u001b[43mtorch\u001b[49m\u001b[38;5;241;43m.\u001b[39;49m\u001b[43mautograd\u001b[49m\u001b[38;5;241;43m.\u001b[39;49m\u001b[43mbackward\u001b[49m\u001b[43m(\u001b[49m\n\u001b[0;32m    523\u001b[0m \u001b[43m    \u001b[49m\u001b[38;5;28;43mself\u001b[39;49m\u001b[43m,\u001b[49m\u001b[43m \u001b[49m\u001b[43mgradient\u001b[49m\u001b[43m,\u001b[49m\u001b[43m \u001b[49m\u001b[43mretain_graph\u001b[49m\u001b[43m,\u001b[49m\u001b[43m \u001b[49m\u001b[43mcreate_graph\u001b[49m\u001b[43m,\u001b[49m\u001b[43m \u001b[49m\u001b[43minputs\u001b[49m\u001b[38;5;241;43m=\u001b[39;49m\u001b[43minputs\u001b[49m\n\u001b[0;32m    524\u001b[0m \u001b[43m\u001b[49m\u001b[43m)\u001b[49m\n",
      "File \u001b[1;32mc:\\Users\\saivi\\anaconda3\\envs\\forcuda\\Lib\\site-packages\\torch\\autograd\\__init__.py:266\u001b[0m, in \u001b[0;36mbackward\u001b[1;34m(tensors, grad_tensors, retain_graph, create_graph, grad_variables, inputs)\u001b[0m\n\u001b[0;32m    261\u001b[0m     retain_graph \u001b[38;5;241m=\u001b[39m create_graph\n\u001b[0;32m    263\u001b[0m \u001b[38;5;66;03m# The reason we repeat the same comment below is that\u001b[39;00m\n\u001b[0;32m    264\u001b[0m \u001b[38;5;66;03m# some Python versions print out the first line of a multi-line function\u001b[39;00m\n\u001b[0;32m    265\u001b[0m \u001b[38;5;66;03m# calls in the traceback and some print out the last line\u001b[39;00m\n\u001b[1;32m--> 266\u001b[0m \u001b[43mVariable\u001b[49m\u001b[38;5;241;43m.\u001b[39;49m\u001b[43m_execution_engine\u001b[49m\u001b[38;5;241;43m.\u001b[39;49m\u001b[43mrun_backward\u001b[49m\u001b[43m(\u001b[49m\u001b[43m  \u001b[49m\u001b[38;5;66;43;03m# Calls into the C++ engine to run the backward pass\u001b[39;49;00m\n\u001b[0;32m    267\u001b[0m \u001b[43m    \u001b[49m\u001b[43mtensors\u001b[49m\u001b[43m,\u001b[49m\n\u001b[0;32m    268\u001b[0m \u001b[43m    \u001b[49m\u001b[43mgrad_tensors_\u001b[49m\u001b[43m,\u001b[49m\n\u001b[0;32m    269\u001b[0m \u001b[43m    \u001b[49m\u001b[43mretain_graph\u001b[49m\u001b[43m,\u001b[49m\n\u001b[0;32m    270\u001b[0m \u001b[43m    \u001b[49m\u001b[43mcreate_graph\u001b[49m\u001b[43m,\u001b[49m\n\u001b[0;32m    271\u001b[0m \u001b[43m    \u001b[49m\u001b[43minputs\u001b[49m\u001b[43m,\u001b[49m\n\u001b[0;32m    272\u001b[0m \u001b[43m    \u001b[49m\u001b[43mallow_unreachable\u001b[49m\u001b[38;5;241;43m=\u001b[39;49m\u001b[38;5;28;43;01mTrue\u001b[39;49;00m\u001b[43m,\u001b[49m\n\u001b[0;32m    273\u001b[0m \u001b[43m    \u001b[49m\u001b[43maccumulate_grad\u001b[49m\u001b[38;5;241;43m=\u001b[39;49m\u001b[38;5;28;43;01mTrue\u001b[39;49;00m\u001b[43m,\u001b[49m\n\u001b[0;32m    274\u001b[0m \u001b[43m\u001b[49m\u001b[43m)\u001b[49m\n",
      "\u001b[1;31mKeyboardInterrupt\u001b[0m: "
     ]
    }
   ],
   "source": [
    "from train import train\n",
    "\n",
    "hr_dir = r\"C:\\SaiVinay\\SproutsAI\\GitHub_\\ir_srgan_otsr\\DF2K_LR_HR\\imgsResizedHR_L2\"\n",
    "lr_dir = r\"C:\\SaiVinay\\SproutsAI\\GitHub_\\ir_srgan_otsr\\DF2K_LR_HR\\imgsResizedLR_L2\"\n",
    "train(hr_dir, lr_dir)"
   ]
  },
  {
   "cell_type": "code",
   "execution_count": 2,
   "metadata": {},
   "outputs": [
    {
     "name": "stderr",
     "output_type": "stream",
     "text": [
      "UsageError: Line magic function `%tensorboard` not found.\n"
     ]
    }
   ],
   "source": [
    "%tensorboard --logdir logs/fake"
   ]
  },
  {
   "cell_type": "code",
   "execution_count": null,
   "metadata": {},
   "outputs": [],
   "source": []
  }
 ],
 "metadata": {
  "kernelspec": {
   "display_name": "forcuda",
   "language": "python",
   "name": "python3"
  },
  "language_info": {
   "codemirror_mode": {
    "name": "ipython",
    "version": 3
   },
   "file_extension": ".py",
   "mimetype": "text/x-python",
   "name": "python",
   "nbconvert_exporter": "python",
   "pygments_lexer": "ipython3",
   "version": "3.12.2"
  }
 },
 "nbformat": 4,
 "nbformat_minor": 2
}
