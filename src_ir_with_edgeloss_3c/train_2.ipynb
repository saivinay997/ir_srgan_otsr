{
 "cells": [
  {
   "cell_type": "code",
   "execution_count": 1,
   "metadata": {},
   "outputs": [
    {
     "name": "stdout",
     "output_type": "stream",
     "text": [
      "C:\\SaiVinay\\GitHub\\ir_srgan_otsr\\src_ir_with_edgeloss_3c\n"
     ]
    }
   ],
   "source": [
    "%cd C:\\SaiVinay\\GitHub\\ir_srgan_otsr\\src_ir_with_edgeloss_3c"
   ]
  },
  {
   "cell_type": "code",
   "execution_count": null,
   "metadata": {},
   "outputs": [],
   "source": [
    "a6a0fc37b15de7b4ce70690c814ede04909f991b"
   ]
  },
  {
   "cell_type": "code",
   "execution_count": 1,
   "metadata": {},
   "outputs": [
    {
     "name": "stderr",
     "output_type": "stream",
     "text": [
      "c:\\Users\\Student\\anaconda3\\envs\\forcuda\\Lib\\site-packages\\tqdm\\auto.py:21: TqdmWarning: IProgress not found. Please update jupyter and ipywidgets. See https://ipywidgets.readthedocs.io/en/stable/user_install.html\n",
      "  from .autonotebook import tqdm as notebook_tqdm\n",
      "c:\\Users\\Student\\anaconda3\\envs\\forcuda\\Lib\\site-packages\\torchvision\\models\\_utils.py:208: UserWarning: The parameter 'pretrained' is deprecated since 0.13 and may be removed in the future, please use 'weights' instead.\n",
      "  warnings.warn(\n",
      "c:\\Users\\Student\\anaconda3\\envs\\forcuda\\Lib\\site-packages\\torchvision\\models\\_utils.py:223: UserWarning: Arguments other than a weight enum or `None` for 'weights' are deprecated since 0.13 and may be removed in the future. The current behavior is equivalent to passing `weights=None`.\n",
      "  warnings.warn(msg)\n",
      "Failed to detect the name of this notebook, you can set it manually with the WANDB_NOTEBOOK_NAME environment variable to enable code saving.\n"
     ]
    },
    {
     "name": "stdout",
     "output_type": "stream",
     "text": [
      "VGG-19 model loaded from disk.\n",
      "2708\n"
     ]
    },
    {
     "name": "stderr",
     "output_type": "stream",
     "text": [
      "\u001b[34m\u001b[1mwandb\u001b[0m: Currently logged in as: \u001b[33msaivinay997\u001b[0m. Use \u001b[1m`wandb login --relogin`\u001b[0m to force relogin\n"
     ]
    },
    {
     "data": {
      "text/html": [
       "wandb version 0.16.5 is available!  To upgrade, please run:\n",
       " $ pip install wandb --upgrade"
      ],
      "text/plain": [
       "<IPython.core.display.HTML object>"
      ]
     },
     "metadata": {},
     "output_type": "display_data"
    },
    {
     "data": {
      "text/html": [
       "Tracking run with wandb version 0.16.4"
      ],
      "text/plain": [
       "<IPython.core.display.HTML object>"
      ]
     },
     "metadata": {},
     "output_type": "display_data"
    },
    {
     "data": {
      "text/html": [
       "Run data is saved locally in <code>c:\\SaiVinay\\GitHub\\ir_srgan_otsr\\src_ir_with_edgeloss_3c\\wandb\\run-20240326_131053-jk4z5qpc</code>"
      ],
      "text/plain": [
       "<IPython.core.display.HTML object>"
      ]
     },
     "metadata": {},
     "output_type": "display_data"
    },
    {
     "data": {
      "text/html": [
       "Syncing run <strong><a href='https://wandb.ai/saivinay997/sr_gan_training/runs/jk4z5qpc' target=\"_blank\">sobel_edge_loss_RGB_26-03_13-10</a></strong> to <a href='https://wandb.ai/saivinay997/sr_gan_training' target=\"_blank\">Weights & Biases</a> (<a href='https://wandb.me/run' target=\"_blank\">docs</a>)<br/>"
      ],
      "text/plain": [
       "<IPython.core.display.HTML object>"
      ]
     },
     "metadata": {},
     "output_type": "display_data"
    },
    {
     "data": {
      "text/html": [
       " View project at <a href='https://wandb.ai/saivinay997/sr_gan_training' target=\"_blank\">https://wandb.ai/saivinay997/sr_gan_training</a>"
      ],
      "text/plain": [
       "<IPython.core.display.HTML object>"
      ]
     },
     "metadata": {},
     "output_type": "display_data"
    },
    {
     "data": {
      "text/html": [
       " View run at <a href='https://wandb.ai/saivinay997/sr_gan_training/runs/jk4z5qpc' target=\"_blank\">https://wandb.ai/saivinay997/sr_gan_training/runs/jk4z5qpc</a>"
      ],
      "text/plain": [
       "<IPython.core.display.HTML object>"
      ]
     },
     "metadata": {},
     "output_type": "display_data"
    },
    {
     "name": "stdout",
     "output_type": "stream",
     "text": [
      "Staring the training from epoch: 0. Total epoch: 471\n"
     ]
    },
    {
     "name": "stderr",
     "output_type": "stream",
     "text": [
      "Epochs:   8%|▊         | 40/472 [51:32<9:20:05, 77.79s/it]"
     ]
    }
   ],
   "source": [
    "from train import main\n",
    "import os\n",
    "import wandb\n",
    "# training images \n",
    "HR_train = r\"C:\\SaiVinay\\Dataset\\training_images_LR_HR\\HR_train\"\n",
    "\n",
    "# Create validation dataset.\n",
    "HR_val = r\"C:\\SaiVinay\\Dataset\\training_images_LR_HR\\HR_val\"\n",
    "\n",
    "# Path to the yaml file\n",
    "ymlpath = r\"opt.yml\"\n",
    "\n",
    "# Path to save the validation results\n",
    "val_results_path = r\"val_results_3c\"\n",
    "count = 1\n",
    "if not os.path.exists(val_results_path):\n",
    "    os.makedirs(val_results_path)\n",
    "else:\n",
    "    new_val_results_path = val_results_path + \"_\" + str(count)\n",
    "    while os.path.exists(new_val_results_path):\n",
    "        count+=1\n",
    "        new_val_results_path = val_results_path + \"_\" + str(count)\n",
    "    os.makedirs(new_val_results_path)\n",
    "    val_results_path = new_val_results_path\n",
    "\n",
    "\n",
    "# save trained model\n",
    "trained_model_path = r\"trained_models_3c\"\n",
    "count = 1\n",
    "if not os.path.exists(trained_model_path):\n",
    "    os.makedirs(trained_model_path)\n",
    "else:\n",
    "    new_trained_model_path = trained_model_path + \"_\" + str(count)\n",
    "    while os.path.exists(new_trained_model_path):\n",
    "        count+=1\n",
    "        new_trained_model_path = trained_model_path + \"_\" + str(count)\n",
    "    os.makedirs(new_trained_model_path)\n",
    "    trained_model_path = new_trained_model_path\n",
    "    \n",
    "note = \"In this experiment training 3c images (RGB) with edge loss\"\n",
    "\n",
    "main(HR_train, HR_val, ymlpath, val_results_path, trained_model_path, note)\n",
    "\n",
    "# finish wandb\n",
    "# wandb.finish()"
   ]
  },
  {
   "cell_type": "code",
   "execution_count": 1,
   "metadata": {},
   "outputs": [
    {
     "ename": "NameError",
     "evalue": "name 'trained_model_path' is not defined",
     "output_type": "error",
     "traceback": [
      "\u001b[1;31m---------------------------------------------------------------------------\u001b[0m",
      "\u001b[1;31mNameError\u001b[0m                                 Traceback (most recent call last)",
      "Cell \u001b[1;32mIn[1], line 3\u001b[0m\n\u001b[0;32m      1\u001b[0m \u001b[38;5;28;01mimport\u001b[39;00m \u001b[38;5;21;01mos\u001b[39;00m\n\u001b[0;32m      2\u001b[0m \u001b[38;5;66;03m# delete the trained model\u001b[39;00m\n\u001b[1;32m----> 3\u001b[0m os\u001b[38;5;241m.\u001b[39mrmdir(\u001b[43mtrained_model_path\u001b[49m)\n\u001b[0;32m      4\u001b[0m \u001b[38;5;66;03m# delete the validation results\u001b[39;00m\n\u001b[0;32m      5\u001b[0m os\u001b[38;5;241m.\u001b[39mrmdir(val_results_path)\n",
      "\u001b[1;31mNameError\u001b[0m: name 'trained_model_path' is not defined"
     ]
    }
   ],
   "source": [
    "import os\n",
    "# delete the trained model\n",
    "os.rmdir(trained_model_path)\n",
    "# delete the validation results\n",
    "os.rmdir(val_results_path)"
   ]
  },
  {
   "cell_type": "code",
   "execution_count": 13,
   "metadata": {},
   "outputs": [
    {
     "name": "stdout",
     "output_type": "stream",
     "text": [
      "1\n"
     ]
    }
   ],
   "source": [
    "def minStartValue(nums):\n",
    "        startValue = 1\n",
    "        flag = 0\n",
    "        while flag == 0:\n",
    "            sum = startValue\n",
    "            for num in nums:\n",
    "                sum+= num\n",
    "                if sum < 1:\n",
    "                    flag = 1\n",
    "            if flag == 1:\n",
    "                startValue+=1\n",
    "                flag = 0\n",
    "            else:\n",
    "                return startValue\n",
    "\n",
    "nums = [1,2]\n",
    "print(minStartValue(nums))"
   ]
  },
  {
   "cell_type": "code",
   "execution_count": 2,
   "metadata": {},
   "outputs": [
    {
     "data": {
      "text/plain": [
       "True"
      ]
     },
     "execution_count": 2,
     "metadata": {},
     "output_type": "execute_result"
    }
   ],
   "source": [
    "[1,2] == [1,2]"
   ]
  },
  {
   "cell_type": "code",
   "execution_count": 8,
   "metadata": {},
   "outputs": [
    {
     "data": {
      "text/plain": [
       "True"
      ]
     },
     "execution_count": 8,
     "metadata": {},
     "output_type": "execute_result"
    }
   ],
   "source": [
    "set(\"anagram\") == set(\"anagram\")"
   ]
  },
  {
   "cell_type": "code",
   "execution_count": null,
   "metadata": {},
   "outputs": [],
   "source": []
  }
 ],
 "metadata": {
  "kernelspec": {
   "display_name": "forcuda",
   "language": "python",
   "name": "python3"
  },
  "language_info": {
   "codemirror_mode": {
    "name": "ipython",
    "version": 3
   },
   "file_extension": ".py",
   "mimetype": "text/x-python",
   "name": "python",
   "nbconvert_exporter": "python",
   "pygments_lexer": "ipython3",
   "version": "3.12.2"
  }
 },
 "nbformat": 4,
 "nbformat_minor": 2
}
