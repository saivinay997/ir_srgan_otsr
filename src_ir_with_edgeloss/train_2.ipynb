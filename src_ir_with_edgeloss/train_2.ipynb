{
 "cells": [
  {
   "cell_type": "code",
   "execution_count": 3,
   "metadata": {},
   "outputs": [
    {
     "name": "stdout",
     "output_type": "stream",
     "text": [
      "C:\\SaiVinay\\GitHub\\ir_srgan_otsr\\src_ir_imgs\n"
     ]
    }
   ],
   "source": [
    "%cd C:\\SaiVinay\\GitHub\\ir_srgan_otsr\\src_ir_imgs"
   ]
  },
  {
   "cell_type": "code",
   "execution_count": null,
   "metadata": {},
   "outputs": [],
   "source": [
    "a6a0fc37b15de7b4ce70690c814ede04909f991b"
   ]
  },
  {
   "cell_type": "code",
   "execution_count": 4,
   "metadata": {},
   "outputs": [
    {
     "name": "stderr",
     "output_type": "stream",
     "text": [
      "c:\\Users\\Student\\anaconda3\\envs\\forcuda\\Lib\\site-packages\\torchvision\\models\\_utils.py:208: UserWarning: The parameter 'pretrained' is deprecated since 0.13 and may be removed in the future, please use 'weights' instead.\n",
      "  warnings.warn(\n",
      "c:\\Users\\Student\\anaconda3\\envs\\forcuda\\Lib\\site-packages\\torchvision\\models\\_utils.py:223: UserWarning: Arguments other than a weight enum or `None` for 'weights' are deprecated since 0.13 and may be removed in the future. The current behavior is equivalent to passing `weights=None`.\n",
      "  warnings.warn(msg)\n"
     ]
    },
    {
     "name": "stdout",
     "output_type": "stream",
     "text": [
      "VGG-19 model loaded from disk.\n",
      "3000\n"
     ]
    },
    {
     "data": {
      "text/html": [
       "Finishing last run (ID:mkex6q2o) before initializing another..."
      ],
      "text/plain": [
       "<IPython.core.display.HTML object>"
      ]
     },
     "metadata": {},
     "output_type": "display_data"
    },
    {
     "data": {
      "text/html": [
       "W&B sync reduced upload amount by 45.2%             "
      ],
      "text/plain": [
       "<IPython.core.display.HTML object>"
      ]
     },
     "metadata": {},
     "output_type": "display_data"
    },
    {
     "data": {
      "text/html": [
       "<style>\n",
       "    table.wandb td:nth-child(1) { padding: 0 10px; text-align: left ; width: auto;} td:nth-child(2) {text-align: left ; width: 100%}\n",
       "    .wandb-row { display: flex; flex-direction: row; flex-wrap: wrap; justify-content: flex-start; width: 100% }\n",
       "    .wandb-col { display: flex; flex-direction: column; flex-basis: 100%; flex: 1; padding: 10px; }\n",
       "    </style>\n",
       "<div class=\"wandb-row\"><div class=\"wandb-col\"><h3>Run history:</h3><br/><table class=\"wandb\"><tr><td>Discriminator Loss</td><td>▄▃▃█▄▃▄▅▄▆▄▄▃▅▄▄▂▄▂▅▂▃▂▁▁▂▃▁▁▂▃▁▂▁▁▂▂▂▃▂</td></tr><tr><td>Generator Loss</td><td>▇▃▄▆▄▄▅▂▃▃▁▃▃▂▃▅▄▃▇▅▄▃▃▅▆██▆▆▆▃▆▆▅▆▄▅▇▄▄</td></tr><tr><td>PSNR</td><td>▁▅▇▁▆▆▄▅▇▆█▆██▇▅▅▆▆▅▇▆▆▆▅▆▆▆▇▇▇▆▇▇▇▆▇▇▇▆</td></tr><tr><td>SSIM</td><td>▄▇▅▄▇▅▁▅▇▆▇▄██▆▅▄▅█▅▆▇▄▆▄▆▆▅▆█▆▆▇▆▆▆▆▇█▆</td></tr><tr><td>epoch</td><td>▁▁▁▁▂▂▂▂▂▃▃▃▃▃▃▄▄▄▄▄▅▅▅▅▅▅▆▆▆▆▆▇▇▇▇▇▇███</td></tr><tr><td>feature_loss</td><td>▇▄▅█▅▅▆▃▄▄▁▃▅▂▄▆▄▃▄▄▅▃▃▂▄▅▇▂▃▅▂▄▇▄▄▃▄▇▁▄</td></tr><tr><td>iters</td><td>▁▁▁▁▂▂▂▂▂▃▃▃▃▃▃▄▄▄▄▄▅▅▅▅▅▅▆▆▆▆▆▇▇▇▇▇▇███</td></tr><tr><td>pixel_loss</td><td>█▃▃█▂▅▇▂▃▄▁▄▃▂▃▄▄▃▄▅▅▂▃▁▂▃▅▁▂▅▁▄▇▄▄▂▄▅▁▅</td></tr><tr><td>wgan-qc</td><td>▅▂▂▂▂▂▂▁▁▁▁▁▁▁▁▂▄▁▆▃▃▃▂▆▅▇▆█▆▄▂▅▄▄▅▃▅▄▅▃</td></tr></table><br/></div><div class=\"wandb-col\"><h3>Run summary:</h3><br/><table class=\"wandb\"><tr><td>Discriminator Loss</td><td>0.04345</td></tr><tr><td>Generator Loss</td><td>1.04671</td></tr><tr><td>PSNR</td><td>23.73324</td></tr><tr><td>SSIM</td><td>0.63091</td></tr><tr><td>epoch</td><td>426</td></tr><tr><td>feature_loss</td><td>0.5198</td></tr><tr><td>iters</td><td>40100</td></tr><tr><td>pixel_loss</td><td>1e-05</td></tr><tr><td>wgan-qc</td><td>0.52689</td></tr></table><br/></div></div>"
      ],
      "text/plain": [
       "<IPython.core.display.HTML object>"
      ]
     },
     "metadata": {},
     "output_type": "display_data"
    },
    {
     "data": {
      "text/html": [
       " View run <strong style=\"color:#cdcd00\">ir_experiment_21-03_10-47</strong> at: <a href='https://wandb.ai/saivinay997/ir_sr_gan_training/runs/mkex6q2o' target=\"_blank\">https://wandb.ai/saivinay997/ir_sr_gan_training/runs/mkex6q2o</a><br/>Synced 5 W&B file(s), 599 media file(s), 2396 artifact file(s) and 0 other file(s)"
      ],
      "text/plain": [
       "<IPython.core.display.HTML object>"
      ]
     },
     "metadata": {},
     "output_type": "display_data"
    },
    {
     "data": {
      "text/html": [
       "Find logs at: <code>.\\wandb\\run-20240321_104710-mkex6q2o\\logs</code>"
      ],
      "text/plain": [
       "<IPython.core.display.HTML object>"
      ]
     },
     "metadata": {},
     "output_type": "display_data"
    },
    {
     "data": {
      "text/html": [
       "Successfully finished last run (ID:mkex6q2o). Initializing new run:<br/>"
      ],
      "text/plain": [
       "<IPython.core.display.HTML object>"
      ]
     },
     "metadata": {},
     "output_type": "display_data"
    },
    {
     "data": {
      "text/html": [
       "Tracking run with wandb version 0.16.4"
      ],
      "text/plain": [
       "<IPython.core.display.HTML object>"
      ]
     },
     "metadata": {},
     "output_type": "display_data"
    },
    {
     "data": {
      "text/html": [
       "Run data is saved locally in <code>C:\\SaiVinay\\GitHub\\ir_srgan_otsr\\src_ir_imgs\\wandb\\run-20240322_105543-z692hswf</code>"
      ],
      "text/plain": [
       "<IPython.core.display.HTML object>"
      ]
     },
     "metadata": {},
     "output_type": "display_data"
    },
    {
     "data": {
      "text/html": [
       "Syncing run <strong><a href='https://wandb.ai/saivinay997/ir_sr_gan_training/runs/z692hswf' target=\"_blank\">ir_experiment_21-03_10-47</a></strong> to <a href='https://wandb.ai/saivinay997/ir_sr_gan_training' target=\"_blank\">Weights & Biases</a> (<a href='https://wandb.me/run' target=\"_blank\">docs</a>)<br/>"
      ],
      "text/plain": [
       "<IPython.core.display.HTML object>"
      ]
     },
     "metadata": {},
     "output_type": "display_data"
    },
    {
     "data": {
      "text/html": [
       " View project at <a href='https://wandb.ai/saivinay997/ir_sr_gan_training' target=\"_blank\">https://wandb.ai/saivinay997/ir_sr_gan_training</a>"
      ],
      "text/plain": [
       "<IPython.core.display.HTML object>"
      ]
     },
     "metadata": {},
     "output_type": "display_data"
    },
    {
     "data": {
      "text/html": [
       " View run at <a href='https://wandb.ai/saivinay997/ir_sr_gan_training/runs/z692hswf' target=\"_blank\">https://wandb.ai/saivinay997/ir_sr_gan_training/runs/z692hswf</a>"
      ],
      "text/plain": [
       "<IPython.core.display.HTML object>"
      ]
     },
     "metadata": {},
     "output_type": "display_data"
    },
    {
     "name": "stdout",
     "output_type": "stream",
     "text": [
      "Staring the training from epoch: 0. Total epoch: 426\n"
     ]
    },
    {
     "name": "stderr",
     "output_type": "stream",
     "text": [
      "Epochs:  12%|█▏        | 50/427 [1:49:57<15:05:29, 144.11s/it]"
     ]
    },
    {
     "name": "stdout",
     "output_type": "stream",
     "text": [
      "Saving models and training states at epoch 50\n"
     ]
    },
    {
     "name": "stderr",
     "output_type": "stream",
     "text": [
      "Epochs:  23%|██▎       | 100/427 [3:53:30<13:24:08, 147.55s/it]"
     ]
    },
    {
     "name": "stdout",
     "output_type": "stream",
     "text": [
      "Saving models and training states at epoch 100\n"
     ]
    },
    {
     "name": "stderr",
     "output_type": "stream",
     "text": [
      "Epochs:  28%|██▊       | 118/427 [4:37:51<12:54:02, 150.30s/it]\u001b[34m\u001b[1mwandb\u001b[0m: Network error (ConnectionError), entering retry loop.\n",
      "Epochs:  35%|███▌      | 150/427 [5:59:38<11:34:14, 150.38s/it]"
     ]
    },
    {
     "name": "stdout",
     "output_type": "stream",
     "text": [
      "Saving models and training states at epoch 150\n"
     ]
    },
    {
     "name": "stderr",
     "output_type": "stream",
     "text": [
      "Epochs:  43%|████▎     | 184/427 [7:26:53<10:14:56, 151.84s/it]\u001b[34m\u001b[1mwandb\u001b[0m: Network error (ConnectionError), entering retry loop.\n",
      "\u001b[34m\u001b[1mwandb\u001b[0m: Network error (ConnectionError), entering retry loop.\n",
      "Epochs:  43%|████▎     | 185/427 [7:29:58<10:52:33, 161.79s/it]\u001b[34m\u001b[1mwandb\u001b[0m: Network error (ConnectionError), entering retry loop.\n",
      "\u001b[34m\u001b[1mwandb\u001b[0m: Network error (ConnectionError), entering retry loop.\n",
      "Epochs:  44%|████▎     | 186/427 [7:33:09<11:25:13, 170.60s/it]\u001b[34m\u001b[1mwandb\u001b[0m: Network error (ConnectionError), entering retry loop.\n",
      "Epochs:  47%|████▋     | 200/427 [8:07:35<9:16:56, 147.21s/it] "
     ]
    },
    {
     "name": "stdout",
     "output_type": "stream",
     "text": [
      "Saving models and training states at epoch 200\n"
     ]
    },
    {
     "name": "stderr",
     "output_type": "stream",
     "text": [
      "Epochs:  59%|█████▊    | 250/427 [10:09:21<7:10:22, 145.89s/it]"
     ]
    },
    {
     "name": "stdout",
     "output_type": "stream",
     "text": [
      "Saving models and training states at epoch 250\n"
     ]
    },
    {
     "name": "stderr",
     "output_type": "stream",
     "text": [
      "Epochs:  70%|███████   | 300/427 [12:14:09<5:04:24, 143.81s/it]"
     ]
    },
    {
     "name": "stdout",
     "output_type": "stream",
     "text": [
      "Saving models and training states at epoch 300\n"
     ]
    },
    {
     "name": "stderr",
     "output_type": "stream",
     "text": [
      "Epochs:  82%|████████▏ | 350/427 [14:16:30<3:08:59, 147.26s/it]"
     ]
    },
    {
     "name": "stdout",
     "output_type": "stream",
     "text": [
      "Saving models and training states at epoch 350\n"
     ]
    },
    {
     "name": "stderr",
     "output_type": "stream",
     "text": [
      "Epochs:  94%|█████████▎| 400/427 [16:19:35<1:04:54, 144.25s/it]"
     ]
    },
    {
     "name": "stdout",
     "output_type": "stream",
     "text": [
      "Saving models and training states at epoch 400\n"
     ]
    },
    {
     "name": "stderr",
     "output_type": "stream",
     "text": [
      "Epochs: 100%|██████████| 427/427 [17:27:32<00:00, 147.20s/it]  \n"
     ]
    },
    {
     "name": "stdout",
     "output_type": "stream",
     "text": [
      "Saving models and training states at epoch 426\n"
     ]
    }
   ],
   "source": [
    "from train import main\n",
    "import os\n",
    "import wandb\n",
    "# training images \n",
    "HR_train = r\"C:\\SaiVinay\\Dataset\\FLIR\\train\\thermal_8_bit\"\n",
    "\n",
    "# Create validation dataset.\n",
    "HR_val = r\"C:\\SaiVinay\\Dataset\\FLIR\\test\\thermal_8_bit\"\n",
    "\n",
    "# Path to the yaml file\n",
    "ymlpath = r\"opt.yml\"\n",
    "\n",
    "# Path to save the validation results\n",
    "val_results_path = r\"val_results_PL1_FL2\"\n",
    "count = 1\n",
    "if not os.path.exists(val_results_path):\n",
    "    os.makedirs(val_results_path)\n",
    "else:\n",
    "    new_val_results_path = val_results_path + \"_\" + str(count)\n",
    "    while os.path.exists(new_val_results_path):\n",
    "        count+=1\n",
    "        new_val_results_path = val_results_path + \"_\" + str(count)\n",
    "    os.makedirs(new_val_results_path)\n",
    "    val_results_path = new_val_results_path\n",
    "\n",
    "\n",
    "# save trained model\n",
    "trained_model_path = r\"trained_models_PL1_FL2\"\n",
    "count = 1\n",
    "if not os.path.exists(trained_model_path):\n",
    "    os.makedirs(trained_model_path)\n",
    "else:\n",
    "    new_trained_model_path = trained_model_path + \"_\" + str(count)\n",
    "    while os.path.exists(new_trained_model_path):\n",
    "        count+=1\n",
    "        new_trained_model_path = trained_model_path + \"_\" + str(count)\n",
    "    os.makedirs(new_trained_model_path)\n",
    "    trained_model_path = new_trained_model_path\n",
    "    \n",
    "note = \"Experiment with Sobel edge loss function. pixel weight for 1e-2 to 5e-2.\"\n",
    "\n",
    "main(HR_train, HR_val, ymlpath, val_results_path, trained_model_path, note)\n",
    "\n",
    "# finish wandb\n",
    "wandb.finish()"
   ]
  },
  {
   "cell_type": "code",
   "execution_count": 1,
   "metadata": {},
   "outputs": [
    {
     "ename": "NameError",
     "evalue": "name 'trained_model_path' is not defined",
     "output_type": "error",
     "traceback": [
      "\u001b[1;31m---------------------------------------------------------------------------\u001b[0m",
      "\u001b[1;31mNameError\u001b[0m                                 Traceback (most recent call last)",
      "Cell \u001b[1;32mIn[1], line 3\u001b[0m\n\u001b[0;32m      1\u001b[0m \u001b[38;5;28;01mimport\u001b[39;00m \u001b[38;5;21;01mos\u001b[39;00m\n\u001b[0;32m      2\u001b[0m \u001b[38;5;66;03m# delete the trained model\u001b[39;00m\n\u001b[1;32m----> 3\u001b[0m os\u001b[38;5;241m.\u001b[39mrmdir(\u001b[43mtrained_model_path\u001b[49m)\n\u001b[0;32m      4\u001b[0m \u001b[38;5;66;03m# delete the validation results\u001b[39;00m\n\u001b[0;32m      5\u001b[0m os\u001b[38;5;241m.\u001b[39mrmdir(val_results_path)\n",
      "\u001b[1;31mNameError\u001b[0m: name 'trained_model_path' is not defined"
     ]
    }
   ],
   "source": [
    "import os\n",
    "# delete the trained model\n",
    "os.rmdir(trained_model_path)\n",
    "# delete the validation results\n",
    "os.rmdir(val_results_path)"
   ]
  },
  {
   "cell_type": "code",
   "execution_count": 13,
   "metadata": {},
   "outputs": [
    {
     "name": "stdout",
     "output_type": "stream",
     "text": [
      "1\n"
     ]
    }
   ],
   "source": [
    "def minStartValue(nums):\n",
    "        startValue = 1\n",
    "        flag = 0\n",
    "        while flag == 0:\n",
    "            sum = startValue\n",
    "            for num in nums:\n",
    "                sum+= num\n",
    "                if sum < 1:\n",
    "                    flag = 1\n",
    "            if flag == 1:\n",
    "                startValue+=1\n",
    "                flag = 0\n",
    "            else:\n",
    "                return startValue\n",
    "\n",
    "nums = [1,2]\n",
    "print(minStartValue(nums))"
   ]
  },
  {
   "cell_type": "code",
   "execution_count": 2,
   "metadata": {},
   "outputs": [
    {
     "data": {
      "text/plain": [
       "True"
      ]
     },
     "execution_count": 2,
     "metadata": {},
     "output_type": "execute_result"
    }
   ],
   "source": [
    "[1,2] == [1,2]"
   ]
  },
  {
   "cell_type": "code",
   "execution_count": 8,
   "metadata": {},
   "outputs": [
    {
     "data": {
      "text/plain": [
       "True"
      ]
     },
     "execution_count": 8,
     "metadata": {},
     "output_type": "execute_result"
    }
   ],
   "source": [
    "set(\"anagram\") == set(\"anagram\")"
   ]
  },
  {
   "cell_type": "code",
   "execution_count": null,
   "metadata": {},
   "outputs": [],
   "source": []
  }
 ],
 "metadata": {
  "kernelspec": {
   "display_name": "forcuda",
   "language": "python",
   "name": "python3"
  },
  "language_info": {
   "codemirror_mode": {
    "name": "ipython",
    "version": 3
   },
   "file_extension": ".py",
   "mimetype": "text/x-python",
   "name": "python",
   "nbconvert_exporter": "python",
   "pygments_lexer": "ipython3",
   "version": "3.12.2"
  }
 },
 "nbformat": 4,
 "nbformat_minor": 2
}
