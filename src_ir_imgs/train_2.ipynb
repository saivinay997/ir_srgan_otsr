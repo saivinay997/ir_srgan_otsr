{
 "cells": [
  {
   "cell_type": "code",
   "execution_count": 1,
   "metadata": {},
   "outputs": [
    {
     "name": "stdout",
     "output_type": "stream",
     "text": [
      "E:\\SaiV\\Github\\ir_srgan_otsr\\src_ir_imgs\n"
     ]
    }
   ],
   "source": [
    "%cd E:\\SaiV\\Github\\ir_srgan_otsr\\src_ir_imgs"
   ]
  },
  {
   "cell_type": "code",
   "execution_count": null,
   "metadata": {},
   "outputs": [],
   "source": [
    "a6a0fc37b15de7b4ce70690c814ede04909f991b"
   ]
  },
  {
   "cell_type": "code",
   "execution_count": 1,
   "metadata": {},
   "outputs": [
    {
     "name": "stderr",
     "output_type": "stream",
     "text": [
      "c:\\Users\\DIAT-YSD-DS\\anaconda3\\envs\\forcuda\\Lib\\site-packages\\tqdm\\auto.py:21: TqdmWarning: IProgress not found. Please update jupyter and ipywidgets. See https://ipywidgets.readthedocs.io/en/stable/user_install.html\n",
      "  from .autonotebook import tqdm as notebook_tqdm\n",
      "c:\\Users\\DIAT-YSD-DS\\anaconda3\\envs\\forcuda\\Lib\\site-packages\\torchvision\\models\\_utils.py:208: UserWarning: The parameter 'pretrained' is deprecated since 0.13 and may be removed in the future, please use 'weights' instead.\n",
      "  warnings.warn(\n",
      "c:\\Users\\DIAT-YSD-DS\\anaconda3\\envs\\forcuda\\Lib\\site-packages\\torchvision\\models\\_utils.py:223: UserWarning: Arguments other than a weight enum or `None` for 'weights' are deprecated since 0.13 and may be removed in the future. The current behavior is equivalent to passing `weights=None`.\n",
      "  warnings.warn(msg)\n",
      "Failed to detect the name of this notebook, you can set it manually with the WANDB_NOTEBOOK_NAME environment variable to enable code saving.\n"
     ]
    },
    {
     "name": "stdout",
     "output_type": "stream",
     "text": [
      "VGG-19 model loaded from disk.\n",
      "3000\n"
     ]
    },
    {
     "name": "stderr",
     "output_type": "stream",
     "text": [
      "\u001b[34m\u001b[1mwandb\u001b[0m: Currently logged in as: \u001b[33msaivinay997\u001b[0m. Use \u001b[1m`wandb login --relogin`\u001b[0m to force relogin\n"
     ]
    },
    {
     "data": {
      "text/html": [
       "Tracking run with wandb version 0.16.4"
      ],
      "text/plain": [
       "<IPython.core.display.HTML object>"
      ]
     },
     "metadata": {},
     "output_type": "display_data"
    },
    {
     "data": {
      "text/html": [
       "Run data is saved locally in <code>e:\\SaiV\\Github\\ir_srgan_otsr\\src_ir_imgs\\wandb\\run-20240318_230811-51mj2sp6</code>"
      ],
      "text/plain": [
       "<IPython.core.display.HTML object>"
      ]
     },
     "metadata": {},
     "output_type": "display_data"
    },
    {
     "data": {
      "text/html": [
       "Syncing run <strong><a href='https://wandb.ai/saivinay997/ir_sr_gan_training/runs/51mj2sp6' target=\"_blank\">ir_experiment_18-03_23-08</a></strong> to <a href='https://wandb.ai/saivinay997/ir_sr_gan_training' target=\"_blank\">Weights & Biases</a> (<a href='https://wandb.me/run' target=\"_blank\">docs</a>)<br/>"
      ],
      "text/plain": [
       "<IPython.core.display.HTML object>"
      ]
     },
     "metadata": {},
     "output_type": "display_data"
    },
    {
     "data": {
      "text/html": [
       " View project at <a href='https://wandb.ai/saivinay997/ir_sr_gan_training' target=\"_blank\">https://wandb.ai/saivinay997/ir_sr_gan_training</a>"
      ],
      "text/plain": [
       "<IPython.core.display.HTML object>"
      ]
     },
     "metadata": {},
     "output_type": "display_data"
    },
    {
     "data": {
      "text/html": [
       " View run at <a href='https://wandb.ai/saivinay997/ir_sr_gan_training/runs/51mj2sp6' target=\"_blank\">https://wandb.ai/saivinay997/ir_sr_gan_training/runs/51mj2sp6</a>"
      ],
      "text/plain": [
       "<IPython.core.display.HTML object>"
      ]
     },
     "metadata": {},
     "output_type": "display_data"
    },
    {
     "name": "stdout",
     "output_type": "stream",
     "text": [
      "Staring the training from epoch: 0. Total epoch: 426\n"
     ]
    },
    {
     "name": "stderr",
     "output_type": "stream",
     "text": [
      "Epochs:  12%|█▏        | 50/427 [1:05:50<8:21:22, 79.79s/it]"
     ]
    },
    {
     "name": "stdout",
     "output_type": "stream",
     "text": [
      "Saving models and training states at epoch 50\n"
     ]
    },
    {
     "name": "stderr",
     "output_type": "stream",
     "text": [
      "Epochs:  23%|██▎       | 100/427 [2:11:57<7:14:54, 79.80s/it]"
     ]
    },
    {
     "name": "stdout",
     "output_type": "stream",
     "text": [
      "Saving models and training states at epoch 100\n"
     ]
    },
    {
     "name": "stderr",
     "output_type": "stream",
     "text": [
      "Epochs:  32%|███▏      | 138/427 [3:02:28<6:35:42, 82.15s/it]\u001b[34m\u001b[1mwandb\u001b[0m: \u001b[33mWARNING\u001b[0m A graphql request initiated by the public wandb API timed out (timeout=19 sec). Create a new API with an integer timeout larger than 19, e.g., `api = wandb.Api(timeout=29)` to increase the graphql timeout.\n",
      "Epochs:  35%|███▌      | 150/427 [3:18:46<6:11:00, 80.36s/it]"
     ]
    },
    {
     "name": "stdout",
     "output_type": "stream",
     "text": [
      "Saving models and training states at epoch 150\n"
     ]
    },
    {
     "name": "stderr",
     "output_type": "stream",
     "text": [
      "Epochs:  47%|████▋     | 200/427 [4:25:34<5:03:42, 80.27s/it]"
     ]
    },
    {
     "name": "stdout",
     "output_type": "stream",
     "text": [
      "Saving models and training states at epoch 200\n"
     ]
    },
    {
     "name": "stderr",
     "output_type": "stream",
     "text": [
      "Epochs:  59%|█████▊    | 250/427 [5:33:43<4:05:23, 83.18s/it]"
     ]
    },
    {
     "name": "stdout",
     "output_type": "stream",
     "text": [
      "Saving models and training states at epoch 250\n"
     ]
    },
    {
     "name": "stderr",
     "output_type": "stream",
     "text": [
      "Epochs:  70%|███████   | 300/427 [6:42:48<2:58:58, 84.55s/it]"
     ]
    },
    {
     "name": "stdout",
     "output_type": "stream",
     "text": [
      "Saving models and training states at epoch 300\n"
     ]
    },
    {
     "name": "stderr",
     "output_type": "stream",
     "text": [
      "Epochs:  82%|████████▏ | 350/427 [7:52:26<1:48:14, 84.35s/it]"
     ]
    },
    {
     "name": "stdout",
     "output_type": "stream",
     "text": [
      "Saving models and training states at epoch 350\n"
     ]
    },
    {
     "name": "stderr",
     "output_type": "stream",
     "text": [
      "Epochs:  94%|█████████▎| 400/427 [9:02:29<38:04, 84.62s/it]  "
     ]
    },
    {
     "name": "stdout",
     "output_type": "stream",
     "text": [
      "Saving models and training states at epoch 400\n"
     ]
    },
    {
     "name": "stderr",
     "output_type": "stream",
     "text": [
      "Epochs: 100%|██████████| 427/427 [9:40:31<00:00, 81.57s/it]\n"
     ]
    },
    {
     "name": "stdout",
     "output_type": "stream",
     "text": [
      "Saving models and training states at epoch 426\n"
     ]
    }
   ],
   "source": [
    "from train import main\n",
    "import os\n",
    "# training images \n",
    "HR_train = r\"E:\\SaiV\\Github\\ir_srgan_otsr\\FLIR\\train\\thermal_8_bit\"\n",
    "\n",
    "# Create validation dataset.\n",
    "HR_val = r\"E:\\SaiV\\Github\\ir_srgan_otsr\\FLIR\\test\\thermal_8_bit\"\n",
    "\n",
    "# Path to the yaml file\n",
    "ymlpath = r\"opt.yml\"\n",
    "\n",
    "# Path to save the validation results\n",
    "val_results_path = r\"val_results\"\n",
    "count = 1\n",
    "if not os.path.exists(val_results_path):\n",
    "    os.makedirs(val_results_path)\n",
    "else:\n",
    "    new_val_results_path = val_results_path + \"_\" + str(count)\n",
    "    while os.path.exists(new_val_results_path):\n",
    "        count+=1\n",
    "        new_val_results_path = val_results_path + \"_\" + str(count)\n",
    "    os.makedirs(new_val_results_path)\n",
    "    val_results_path = new_val_results_path\n",
    "\n",
    "\n",
    "# save trained model\n",
    "trained_model_path = r\"trained_models\"\n",
    "count = 1\n",
    "if not os.path.exists(trained_model_path):\n",
    "    os.makedirs(trained_model_path)\n",
    "else:\n",
    "    new_trained_model_path = trained_model_path + \"_\" + str(count)\n",
    "    while os.path.exists(new_trained_model_path):\n",
    "        count+=1\n",
    "        new_trained_model_path = trained_model_path + \"_\" + str(count)\n",
    "    os.makedirs(new_trained_model_path)\n",
    "    trained_model_path = new_trained_model_path\n",
    "\n",
    "\n",
    "main(HR_train, HR_val, ymlpath, val_results_path, trained_model_path)"
   ]
  },
  {
   "cell_type": "code",
   "execution_count": 1,
   "metadata": {},
   "outputs": [
    {
     "ename": "NameError",
     "evalue": "name 'trained_model_path' is not defined",
     "output_type": "error",
     "traceback": [
      "\u001b[1;31m---------------------------------------------------------------------------\u001b[0m",
      "\u001b[1;31mNameError\u001b[0m                                 Traceback (most recent call last)",
      "Cell \u001b[1;32mIn[1], line 3\u001b[0m\n\u001b[0;32m      1\u001b[0m \u001b[38;5;28;01mimport\u001b[39;00m \u001b[38;5;21;01mos\u001b[39;00m\n\u001b[0;32m      2\u001b[0m \u001b[38;5;66;03m# delete the trained model\u001b[39;00m\n\u001b[1;32m----> 3\u001b[0m os\u001b[38;5;241m.\u001b[39mrmdir(\u001b[43mtrained_model_path\u001b[49m)\n\u001b[0;32m      4\u001b[0m \u001b[38;5;66;03m# delete the validation results\u001b[39;00m\n\u001b[0;32m      5\u001b[0m os\u001b[38;5;241m.\u001b[39mrmdir(val_results_path)\n",
      "\u001b[1;31mNameError\u001b[0m: name 'trained_model_path' is not defined"
     ]
    }
   ],
   "source": [
    "import os\n",
    "# delete the trained model\n",
    "os.rmdir(trained_model_path)\n",
    "# delete the validation results\n",
    "os.rmdir(val_results_path)"
   ]
  },
  {
   "cell_type": "code",
   "execution_count": 13,
   "metadata": {},
   "outputs": [
    {
     "name": "stdout",
     "output_type": "stream",
     "text": [
      "1\n"
     ]
    }
   ],
   "source": [
    "def minStartValue(nums):\n",
    "        startValue = 1\n",
    "        flag = 0\n",
    "        while flag == 0:\n",
    "            sum = startValue\n",
    "            for num in nums:\n",
    "                sum+= num\n",
    "                if sum < 1:\n",
    "                    flag = 1\n",
    "            if flag == 1:\n",
    "                startValue+=1\n",
    "                flag = 0\n",
    "            else:\n",
    "                return startValue\n",
    "\n",
    "nums = [1,2]\n",
    "print(minStartValue(nums))"
   ]
  },
  {
   "cell_type": "code",
   "execution_count": null,
   "metadata": {},
   "outputs": [],
   "source": []
  }
 ],
 "metadata": {
  "kernelspec": {
   "display_name": "forcuda",
   "language": "python",
   "name": "python3"
  },
  "language_info": {
   "codemirror_mode": {
    "name": "ipython",
    "version": 3
   },
   "file_extension": ".py",
   "mimetype": "text/x-python",
   "name": "python",
   "nbconvert_exporter": "python",
   "pygments_lexer": "ipython3",
   "version": "3.12.2"
  }
 },
 "nbformat": 4,
 "nbformat_minor": 2
}
