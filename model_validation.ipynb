{
 "cells": [
  {
   "cell_type": "code",
   "execution_count": 2,
   "metadata": {},
   "outputs": [],
   "source": [
    "from PIL import Image\n",
    "from torchvision import transforms\n",
    "import matplotlib.pyplot as plt\n",
    "import numpy as np\n",
    "import os\n",
    "import cv2\n",
    "from tqdm.auto import tqdm\n",
    "\n",
    "def ir_srgan(img_path, save_path, netG):\n",
    "    # Image saving path\n",
    "    img_name = img_path[img_path.rfind(\"\\\\\")+1:]\n",
    "    lr_img = Image.open(img_path)\n",
    "    #resize the image to 32x32\n",
    "    pre_process_lr = transforms.Compose([transforms.ToTensor()])\n",
    "\n",
    "    lr_img = pre_process_lr(lr_img)\n",
    "    print(\"Shape of the input image: \",lr_img.shape)\n",
    "\n",
    "    # show the image\n",
    "    import matplotlib.pyplot as plt\n",
    "    lr_img = lr_img.permute(1, 2, 0)\n",
    "    print(\"Input image: \")\n",
    "    plt.imshow(lr_img)\n",
    "    plt.show()\n",
    "\n",
    "    import torch\n",
    "    with torch.no_grad():\n",
    "        lr_img = lr_img.permute(2, 0, 1)\n",
    "        sr_img = netG(lr_img.unsqueeze(0)) # c, h, w\n",
    "        print(\"Shape of the Super Resolved image: \",sr_img.shape)\n",
    "        sr_img = sr_img.squeeze(0).permute(1, 2, 0).clamp(0, 1).numpy()\n",
    "        ing_file_name = os.path.join(save_path,img_name)\n",
    "        sr_img = np.squeeze(sr_img)\n",
    "        plt.imsave(ing_file_name, sr_img, cmap='gray')\n",
    "        plt.imshow(sr_img)\n",
    "        plt.show()"
   ]
  },
  {
   "cell_type": "markdown",
   "metadata": {},
   "source": [
    "### Model Evaluation for IR Super resolution GAN \n",
    "* Pixel loss - L1\n",
    "* Feature loss - L1\n",
    "* No edge loss"
   ]
  },
  {
   "cell_type": "code",
   "execution_count": 1,
   "metadata": {},
   "outputs": [
    {
     "name": "stdout",
     "output_type": "stream",
     "text": [
      "C:\\SaiVinay\\GitHub\\ir_srgan_otsr\\src_ir_imgs\n"
     ]
    },
    {
     "data": {
      "text/plain": [
       "<All keys matched successfully>"
      ]
     },
     "execution_count": 1,
     "metadata": {},
     "output_type": "execute_result"
    }
   ],
   "source": [
    "%cd C:\\SaiVinay\\GitHub\\ir_srgan_otsr\\src_ir_imgs\n",
    "import torch\n",
    "import torch.nn as nn\n",
    "from RRDBNet_arch import RRDBNet\n",
    "\n",
    "ir_edge_netG = RRDBNet(in_nc=1, out_nc=1, nf=64, nb=23, gc=32)\n",
    "\n",
    "#load the otsr model\n",
    "# model parameters when the psnr is around 21\n",
    "path_0 = r'C:\\SaiVinay\\GitHub\\ir_srgan_otsr\\src_ir_imgs\\trained_models_L1\\9494_G.pth'\n",
    "\n",
    "# model parameters at the end of training at 40000th step\n",
    "path_1 = r'C:\\SaiVinay\\GitHub\\ir_srgan_otsr\\src_ir_imgs\\trained_models_L1\\40138_G.pth'\n",
    "ir_edge_netG.load_state_dict(torch.load(path_0), strict=True)"
   ]
  },
  {
   "cell_type": "markdown",
   "metadata": {},
   "source": [
    "#### Validation for FLIR Images "
   ]
  },
  {
   "cell_type": "code",
   "execution_count": null,
   "metadata": {},
   "outputs": [],
   "source": [
    "gt_img = r\"C:\\SaiVinay\\Dataset\\SRIR Data\\Train\"\n",
    "img_list = os.listdir(gt_img)\n",
    "img_path = [os.path.join(gt_img, x) for x in img_list]\n",
    "for ixd in tqdm(range(len(img_path))):\n",
    "    img_ = img_path[ixd]\n",
    "    save_path = r\"C:\\SaiVinay\\GitHub\\ir_srgan_otsr\\src_ir_with_edgeloss\\val_imgs\"\n",
    "    ir_srgan(img_, save_path, ir_edge_netG)"
   ]
  }
 ],
 "metadata": {
  "kernelspec": {
   "display_name": "forcuda",
   "language": "python",
   "name": "python3"
  },
  "language_info": {
   "codemirror_mode": {
    "name": "ipython",
    "version": 3
   },
   "file_extension": ".py",
   "mimetype": "text/x-python",
   "name": "python",
   "nbconvert_exporter": "python",
   "pygments_lexer": "ipython3",
   "version": "3.12.2"
  }
 },
 "nbformat": 4,
 "nbformat_minor": 2
}
