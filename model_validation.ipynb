{
 "cells": [
  {
   "cell_type": "code",
   "execution_count": null,
   "metadata": {},
   "outputs": [],
   "source": [
    "from PIL import Image\n",
    "from torchvision import transforms\n",
    "import matplotlib.pyplot as plt\n",
    "import numpy as np\n",
    "import os\n",
    "import cv2\n",
    "from tqdm.auto import tqdm\n",
    "import torch\n",
    "\n",
    "def ir_srgan(img_path, save_path, netG):\n",
    "    # Image saving path\n",
    "    img_name = img_path[img_path.rfind(\"\\\\\")+1:]\n",
    "    print(\"Image name: \",img_name)\n",
    "    lr_img = Image.open(img_path)\n",
    "    if lr_img.size[0] == 3:\n",
    "        lr_img = lr_img.convert('L')\n",
    "    pre_process_lr = transforms.Compose([transforms.ToTensor()])\n",
    "\n",
    "    lr_img = pre_process_lr(lr_img)\n",
    "    print(\"Shape of the input image: \",lr_img.shape)\n",
    "    # show the image\n",
    "    lr_img = lr_img.permute(1, 2, 0)\n",
    "    print(\"Input image: \")\n",
    "    plt.imshow(lr_img)\n",
    "    plt.show()\n",
    "\n",
    "    import torch\n",
    "    with torch.no_grad():\n",
    "        lr_img = lr_img.permute(2, 0, 1)\n",
    "        sr_img = netG(lr_img.unsqueeze(0)) # c, h, w\n",
    "        print(\"Shape of the Super Resolved image: \",sr_img.shape)\n",
    "        sr_img = sr_img.squeeze(0).permute(1, 2, 0).clamp(0, 1).numpy()\n",
    "        ing_file_name = os.path.join(save_path,img_name)\n",
    "        sr_img = np.squeeze(sr_img)\n",
    "        plt.imsave(ing_file_name, sr_img, cmap='gray')\n",
    "        plt.imshow(sr_img)\n",
    "        plt.show()\n",
    "\n",
    "def ir_srgan_bicubic(img_path, save_path, netG):\n",
    "    # Image saving path\n",
    "    img_name = img_path[img_path.rfind(\"\\\\\")+1:]\n",
    "    print(\"Image name: \",img_name)\n",
    "    lr_img = Image.open(img_path)\n",
    "    _ , H, W = lr_img.size\n",
    "    if lr_img.size[0] == 3:\n",
    "        lr_img = lr_img.convert('L')\n",
    "    pre_process_lr = transforms.Compose([transforms.Resize((H//4, W//4), interpolation=Image.BICUBIC),\n",
    "                                        transforms.ToTensor()])\n",
    "\n",
    "    lr_img = pre_process_lr(lr_img)\n",
    "    print(\"Shape of the input image: \",lr_img.shape)\n",
    "    # show the image\n",
    "    lr_img = lr_img.permute(1, 2, 0)\n",
    "    print(\"Input image: \")\n",
    "    plt.imshow(lr_img)\n",
    "    plt.show()\n",
    "\n",
    " \n",
    "    with torch.no_grad():\n",
    "        lr_img = lr_img.permute(2, 0, 1)\n",
    "        sr_img = netG(lr_img.unsqueeze(0)) # c, h, w\n",
    "        print(\"Shape of the Super Resolved image: \",sr_img.shape)\n",
    "        sr_img = sr_img.squeeze(0).permute(1, 2, 0).clamp(0, 1).numpy()\n",
    "        ing_file_name = os.path.join(save_path,img_name)\n",
    "        sr_img = np.squeeze(sr_img)\n",
    "        plt.imsave(ing_file_name, sr_img, cmap='gray')\n",
    "        plt.imshow(sr_img)\n",
    "        plt.show()"
   ]
  },
  {
   "cell_type": "markdown",
   "metadata": {},
   "source": [
    "### Model Evaluation for IR Super resolution GAN \n",
    "* Pixel loss - L1\n",
    "* Feature loss - L1\n",
    "* No edge loss"
   ]
  },
  {
   "cell_type": "code",
   "execution_count": null,
   "metadata": {},
   "outputs": [],
   "source": [
    "%cd C:\\SaiVinay\\GitHub\\ir_srgan_otsr\\src_ir_imgs\n",
    "import torch\n",
    "import torch.nn as nn\n",
    "from RRDBNet_arch import RRDBNet\n",
    "\n",
    "ir_edge_netG = RRDBNet(in_nc=1, out_nc=1, nf=64, nb=23, gc=32)\n",
    "\n",
    "#load the otsr model\n",
    "# model parameters when the psnr is around 21\n",
    "path_0 = r'C:\\SaiVinay\\GitHub\\ir_srgan_otsr\\src_ir_imgs\\trained_models_L1\\9494_G.pth'\n",
    "\n",
    "# model parameters at the end of training at 40000th step\n",
    "path_1 = r'C:\\SaiVinay\\GitHub\\ir_srgan_otsr\\src_ir_imgs\\trained_models_L1\\40138_G.pth'\n",
    "ir_edge_netG.load_state_dict(torch.load(path_1), strict=True)"
   ]
  },
  {
   "cell_type": "markdown",
   "metadata": {},
   "source": [
    "## Direct upscaling images\n",
    "\n",
    "Upscaling the original images without downscaling. "
   ]
  },
  {
   "cell_type": "markdown",
   "metadata": {},
   "source": [
    "#### Validation for FLIR Images \n",
    "\n",
    "dataset path = C:\\SaiVinay\\GitHub\\ir_srgan_otsr\\model_validation\\validation_datasets\\FLIR_Dataset"
   ]
  },
  {
   "cell_type": "code",
   "execution_count": null,
   "metadata": {},
   "outputs": [],
   "source": [
    "gt_img = r\"C:\\SaiVinay\\GitHub\\ir_srgan_otsr\\model_validation\\validation_datasets\\FLIR_Dataset\"\n",
    "img_list = os.listdir(gt_img)\n",
    "img_path = [os.path.join(gt_img, x) for x in img_list if x.endswith('.jpeg')]\n",
    "save_path = os.path.join(gt_img,\"direct_upsampled_images_PL1_FL1_1\")\n",
    "os.makedirs(save_path, exist_ok=True)\n",
    "for ixd in tqdm(range(len(img_path))):\n",
    "    img_ = img_path[ixd]\n",
    "    ir_srgan(img_, save_path, ir_edge_netG)"
   ]
  },
  {
   "cell_type": "markdown",
   "metadata": {},
   "source": [
    "#### Validation on DroneImages \n",
    "Dataset path = C:\\SaiVinay\\GitHub\\ir_srgan_otsr\\model_validation\\validation_datasets\\DroneImages"
   ]
  },
  {
   "cell_type": "code",
   "execution_count": null,
   "metadata": {},
   "outputs": [],
   "source": [
    "gt_img = r\"C:\\SaiVinay\\GitHub\\ir_srgan_otsr\\model_validation\\validation_datasets\\DroneImages\"\n",
    "img_list = os.listdir(gt_img)\n",
    "img_path = [os.path.join(gt_img, x) for x in img_list if x.endswith('.jpg')]\n",
    "save_path = os.path.join(gt_img,\"direct_upsampled_images_PL1_FL1_1\")\n",
    "os.makedirs(save_path, exist_ok=True)\n",
    "for ixd in tqdm(range(len(img_path))):\n",
    "    img_ = img_path[ixd]\n",
    "    ir_srgan(img_, save_path, ir_edge_netG)"
   ]
  },
  {
   "cell_type": "markdown",
   "metadata": {},
   "source": [
    "#### Validation of pedistrainImages\n",
    "Dataset path = C:\\SaiVinay\\GitHub\\ir_srgan_otsr\\model_validation\\validation_datasets\\pedistrainImages"
   ]
  },
  {
   "cell_type": "code",
   "execution_count": null,
   "metadata": {},
   "outputs": [],
   "source": [
    "gt_img = r\"C:\\SaiVinay\\GitHub\\ir_srgan_otsr\\model_validation\\validation_datasets\\pedistrainImages\"\n",
    "img_list = os.listdir(gt_img)\n",
    "img_path = [os.path.join(gt_img, x) for x in img_list if x.endswith('.bmp')]\n",
    "save_path = os.path.join(gt_img,\"direct_upsampled_images_PL1_FL1_0\")\n",
    "os.makedirs(save_path, exist_ok=True)\n",
    "for ixd in tqdm(range(len(img_path))):\n",
    "    img_ = img_path[ixd]\n",
    "    ir_srgan(img_, save_path, ir_edge_netG)"
   ]
  },
  {
   "cell_type": "code",
   "execution_count": null,
   "metadata": {},
   "outputs": [],
   "source": []
  },
  {
   "cell_type": "markdown",
   "metadata": {},
   "source": [
    "### Model Evaluation for IR Super resolution GAN \n",
    "* Pixel loss - L2\n",
    "* Feature loss - L2\n",
    "* No edge loss"
   ]
  },
  {
   "cell_type": "code",
   "execution_count": null,
   "metadata": {},
   "outputs": [],
   "source": [
    "%cd C:\\SaiVinay\\GitHub\\ir_srgan_otsr\\src_ir_imgs\n",
    "import torch\n",
    "import torch.nn as nn\n",
    "from RRDBNet_arch import RRDBNet\n",
    "\n",
    "ir_edge_netG = RRDBNet(in_nc=1, out_nc=1, nf=64, nb=23, gc=32)\n",
    "\n",
    "#load the otsr model\n",
    "# model parameters when the psnr is around 24\n",
    "path_0 = r'C:\\SaiVinay\\GitHub\\ir_srgan_otsr\\src_ir_imgs\\trained_models_PL2_FL2\\40138_G.pth'\n",
    "\n",
    "# model parameters at the end of training at 40000th step\n",
    "path_1 = r'C:\\SaiVinay\\GitHub\\ir_srgan_otsr\\src_ir_imgs\\trained_models_PL2_FL2\\40138_G.pth'\n",
    "ir_edge_netG.load_state_dict(torch.load(path_0), strict=True)"
   ]
  },
  {
   "cell_type": "code",
   "execution_count": null,
   "metadata": {},
   "outputs": [],
   "source": [
    "gt_img = r\"C:\\SaiVinay\\GitHub\\ir_srgan_otsr\\model_validation\\validation_datasets\\FLIR_Dataset\"\n",
    "img_list = os.listdir(gt_img)\n",
    "img_path = [os.path.join(gt_img, x) for x in img_list if x.endswith('.jpeg')]\n",
    "save_path = os.path.join(gt_img,\"direct_upsampled_images_PL2_FL2\")\n",
    "os.makedirs(save_path, exist_ok=True)\n",
    "for ixd in tqdm(range(len(img_path))):\n",
    "    img_ = img_path[ixd]\n",
    "    ir_srgan(img_, save_path, ir_edge_netG)"
   ]
  },
  {
   "cell_type": "code",
   "execution_count": null,
   "metadata": {},
   "outputs": [],
   "source": [
    "gt_img = r\"C:\\SaiVinay\\GitHub\\ir_srgan_otsr\\model_validation\\validation_datasets\\DroneImages\"\n",
    "img_list = os.listdir(gt_img)\n",
    "img_path = [os.path.join(gt_img, x) for x in img_list if x.endswith('.jpg')]\n",
    "save_path = os.path.join(gt_img,\"direct_upsampled_images_PL2_FL2\")\n",
    "os.makedirs(save_path, exist_ok=True)\n",
    "for ixd in tqdm(range(len(img_path))):\n",
    "    img_ = img_path[ixd]\n",
    "    ir_srgan(img_, save_path, ir_edge_netG)"
   ]
  },
  {
   "cell_type": "code",
   "execution_count": null,
   "metadata": {},
   "outputs": [],
   "source": []
  },
  {
   "cell_type": "markdown",
   "metadata": {},
   "source": [
    "### Model Evaluation for IR Super resolution GAN \n",
    "* Pixel loss - L1\n",
    "* Feature loss - L2\n",
    "* No edge loss"
   ]
  },
  {
   "cell_type": "code",
   "execution_count": null,
   "metadata": {},
   "outputs": [],
   "source": [
    "%cd C:\\SaiVinay\\GitHub\\ir_srgan_otsr\\src_ir_imgs\n",
    "import torch\n",
    "import torch.nn as nn\n",
    "from RRDBNet_arch import RRDBNet\n",
    "\n",
    "ir_edge_netG = RRDBNet(in_nc=1, out_nc=1, nf=64, nb=23, gc=32)\n",
    "\n",
    "#load the otsr model\n",
    "# model parameters when the psnr is around 24\n",
    "path_0 = r'C:\\SaiVinay\\GitHub\\ir_srgan_otsr\\src_ir_imgs\\trained_models_PL1_FL2\\40138_G.pth'\n",
    "\n",
    "# model parameters at the end of training at 40000th step\n",
    "path_1 = r'C:\\SaiVinay\\GitHub\\ir_srgan_otsr\\src_ir_imgs\\trained_models_PL2_FL2\\40138_G.pth'\n",
    "ir_edge_netG.load_state_dict(torch.load(path_0), strict=True)"
   ]
  },
  {
   "cell_type": "code",
   "execution_count": null,
   "metadata": {},
   "outputs": [],
   "source": [
    "gt_img = r\"C:\\SaiVinay\\GitHub\\ir_srgan_otsr\\model_validation\\validation_datasets\\FLIR_Dataset\"\n",
    "img_list = os.listdir(gt_img)\n",
    "img_path = [os.path.join(gt_img, x) for x in img_list if x.endswith('.jpeg')]\n",
    "save_path = os.path.join(gt_img,\"direct_upsampled_images_PL1_FL2\")\n",
    "os.makedirs(save_path, exist_ok=True)\n",
    "for ixd in tqdm(range(len(img_path))):\n",
    "    img_ = img_path[ixd]\n",
    "    ir_srgan(img_, save_path, ir_edge_netG)\n",
    "\n",
    "\n",
    "gt_img = r\"C:\\SaiVinay\\GitHub\\ir_srgan_otsr\\model_validation\\validation_datasets\\DroneImages\"\n",
    "img_list = os.listdir(gt_img)\n",
    "img_path = [os.path.join(gt_img, x) for x in img_list if x.endswith('.jpg')]\n",
    "save_path = os.path.join(gt_img,\"direct_upsampled_images_PL1_FL2\")\n",
    "os.makedirs(save_path, exist_ok=True)\n",
    "for ixd in tqdm(range(len(img_path))):\n",
    "    img_ = img_path[ixd]\n",
    "    ir_srgan(img_, save_path, ir_edge_netG)"
   ]
  },
  {
   "cell_type": "code",
   "execution_count": null,
   "metadata": {},
   "outputs": [],
   "source": []
  },
  {
   "cell_type": "markdown",
   "metadata": {},
   "source": [
    "### Model Evaluation for IR Super resolution GAN \n",
    "* Pixel loss - L1\n",
    "* Feature loss - L2\n",
    "* Edge loss - L1 1e"
   ]
  },
  {
   "cell_type": "code",
   "execution_count": null,
   "metadata": {},
   "outputs": [],
   "source": [
    "%cd C:\\SaiVinay\\GitHub\\ir_srgan_otsr\\src_ir_imgs\n",
    "import torch\n",
    "import torch.nn as nn\n",
    "from RRDBNet_arch import RRDBNet\n",
    "\n",
    "ir_edge_netG = RRDBNet(in_nc=1, out_nc=1, nf=64, nb=23, gc=32)\n",
    "\n",
    "#load the otsr model\n",
    "# model parameters when the psnr is around 24\n",
    "path_0 = r'C:\\SaiVinay\\GitHub\\ir_srgan_otsr\\src_ir_with_edgeloss\\trained_models_sobel\\40138_G.pth'\n",
    "\n",
    "# model parameters at the end of training at 40000th step\n",
    "path_1 = r'C:\\SaiVinay\\GitHub\\ir_srgan_otsr\\src_ir_imgs\\trained_models_PL2_FL2\\40138_G.pth'\n",
    "ir_edge_netG.load_state_dict(torch.load(path_0), strict=True)"
   ]
  },
  {
   "cell_type": "code",
   "execution_count": null,
   "metadata": {},
   "outputs": [],
   "source": [
    "gt_img = r\"C:\\SaiVinay\\GitHub\\ir_srgan_otsr\\model_validation\\validation_datasets\\FLIR_Dataset\"\n",
    "img_list = os.listdir(gt_img)\n",
    "img_path = [os.path.join(gt_img, x) for x in img_list if x.endswith('.jpeg')]\n",
    "save_path = os.path.join(gt_img,\"direct_upsampled_images_sobel_PL1_FL2\")\n",
    "os.makedirs(save_path, exist_ok=True)\n",
    "for ixd in tqdm(range(len(img_path))):\n",
    "    img_ = img_path[ixd]\n",
    "    ir_srgan(img_, save_path, ir_edge_netG)\n",
    "\n",
    "\n",
    "gt_img = r\"C:\\SaiVinay\\GitHub\\ir_srgan_otsr\\model_validation\\validation_datasets\\DroneImages\"\n",
    "img_list = os.listdir(gt_img)\n",
    "img_path = [os.path.join(gt_img, x) for x in img_list if x.endswith('.jpg')]\n",
    "save_path = os.path.join(gt_img,\"direct_upsampled_images_sobel_PL1_FL2\")\n",
    "os.makedirs(save_path, exist_ok=True)\n",
    "for ixd in tqdm(range(len(img_path))):\n",
    "    img_ = img_path[ixd]\n",
    "    ir_srgan(img_, save_path, ir_edge_netG)"
   ]
  },
  {
   "cell_type": "code",
   "execution_count": null,
   "metadata": {},
   "outputs": [],
   "source": []
  },
  {
   "cell_type": "markdown",
   "metadata": {},
   "source": [
    "# Bicubic Downscaling and upscaling\n"
   ]
  },
  {
   "cell_type": "code",
   "execution_count": null,
   "metadata": {},
   "outputs": [],
   "source": [
    "from PIL import Image\n",
    "from torchvision import transforms\n",
    "import matplotlib.pyplot as plt\n",
    "import numpy as np\n",
    "import os\n",
    "import cv2\n",
    "from tqdm.auto import tqdm\n",
    "import torch\n",
    "\n",
    "def ir_srgan_bicubic(img_path, save_path, netG):\n",
    "    # Image saving path\n",
    "    img_name = img_path[img_path.rfind(\"\\\\\")+1:]\n",
    "    print(\"Image name: \",img_name)\n",
    "    \n",
    "    lr_img = Image.open(img_path)\n",
    "    print(\"Shape of the input image: \",lr_img.size)\n",
    "    if lr_img.size[0]!=3:\n",
    "        H, W = lr_img.size\n",
    "    if lr_img.size[0] == 3:\n",
    "        lr_img = lr_img.convert('L')\n",
    "    pre_process_lr = transforms.Compose([transforms.Resize((W//4, H//4), interpolation=Image.BICUBIC),\n",
    "                                        transforms.ToTensor()])\n",
    "\n",
    "    lr_img = pre_process_lr(lr_img)\n",
    "    print(\"Shape of the input image: \",lr_img.shape)\n",
    "    # show the image\n",
    "    lr_img = lr_img.permute(1, 2, 0)\n",
    "    print(\"Input image: \")\n",
    "    plt.imshow(lr_img)\n",
    "    plt.show()\n",
    "\n",
    " \n",
    "    with torch.no_grad():\n",
    "        lr_img = lr_img.permute(2, 0, 1)\n",
    "        sr_img = netG(lr_img.unsqueeze(0)) # c, h, w\n",
    "        print(\"Shape of the Super Resolved image: \",sr_img.shape)\n",
    "        sr_img = sr_img.squeeze(0).permute(1, 2, 0).clamp(0, 1).numpy()\n",
    "        ing_file_name = os.path.join(save_path,img_name)\n",
    "        sr_img = np.squeeze(sr_img)\n",
    "        plt.imsave(ing_file_name, sr_img, cmap='gray')\n",
    "        plt.imshow(sr_img)\n",
    "        plt.show()"
   ]
  },
  {
   "cell_type": "code",
   "execution_count": null,
   "metadata": {},
   "outputs": [],
   "source": [
    "# %cd C:\\SaiVinay\\GitHub\\ir_srgan_otsr\\src_ir_imgs\n",
    "\n",
    "def modelValidation(model_paths):\n",
    "    for model_name, model_path in model_paths.items():\n",
    "        %cd C:\\SaiVinay\\GitHub\\ir_srgan_otsr\\src_ir_imgs\n",
    "\n",
    "        import torch\n",
    "        import torch.nn as nn\n",
    "        from RRDBNet_arch import RRDBNet\n",
    "\n",
    "        ir_edge_netG = RRDBNet(in_nc=1, out_nc=1, nf=64, nb=23, gc=32)\n",
    "\n",
    "        ir_edge_netG.load_state_dict(torch.load(model_path), strict=True)\n",
    "\n",
    "        ### in Leo\n",
    "        # gt_img = r\"C:\\SaiVinay\\GitHub\\ir_srgan_otsr\\model_validation\\validation_datasets\\FLIR_Dataset\"\n",
    "\n",
    "        ### in Sai\n",
    "        gt_img = r\"C:\\SaiVinay\\GitHub\\ir_srgan_otsr\\model_validation\\validation_datasets\\FLIR_Dataset\"\n",
    "        img_list = os.listdir(gt_img)\n",
    "        img_path = [os.path.join(gt_img, x) for x in img_list if x.endswith('.jpeg')]\n",
    "        save_path = os.path.join(gt_img,f\"EVAL_02_test_{model_name}\")\n",
    "        os.makedirs(save_path, exist_ok=True)\n",
    "        for ixd in tqdm(range(len(img_path))):\n",
    "            img_ = img_path[ixd]\n",
    "            ir_srgan_bicubic(img_, save_path, ir_edge_netG)\n",
    "\n",
    "\n",
    "        gt_img = r\"C:\\SaiVinay\\GitHub\\ir_srgan_otsr\\model_validation\\validation_datasets\\DroneImages\"\n",
    "        img_list = os.listdir(gt_img)\n",
    "        img_path = [os.path.join(gt_img, x) for x in img_list if x.endswith('.jpg')]\n",
    "        save_path = os.path.join(gt_img,f\"EVAL_02_test_{model_name}\")\n",
    "        os.makedirs(save_path, exist_ok=True)\n",
    "        for ixd in tqdm(range(len(img_path))):\n",
    "            img_ = img_path[ixd]\n",
    "            ir_srgan_bicubic(img_, save_path, ir_edge_netG)"
   ]
  },
  {
   "cell_type": "code",
   "execution_count": null,
   "metadata": {},
   "outputs": [],
   "source": [
    "model_paths = {\n",
    "    \"PL1_FL1\": r'C:\\SaiVinay\\GitHub\\ir_srgan_otsr\\src_ir_imgs\\trained_models_L1\\9494_G.pth',\n",
    "    \"PL2_FL2\": r'C:\\SaiVinay\\GitHub\\ir_srgan_otsr\\src_ir_imgs\\trained_models_PL2_FL2\\40138_G.pth',\n",
    "    \"PL1_FL2\": r'C:\\SaiVinay\\GitHub\\ir_srgan_otsr\\src_ir_imgs\\trained_models_PL1_FL2\\40138_G.pth',\n",
    "    \"PL1_5e_FL2\": r'C:\\SaiVinay\\GitHub\\ir_srgan_otsr\\src_ir_imgs\\trained_models_PW5e\\40138_G.pth',\n",
    "    \"sobel\": r'C:\\SaiVinay\\GitHub\\ir_srgan_otsr\\src_ir_with_edgeloss\\trained_models_sobel\\40138_G.pth',\n",
    "    \"sobel_5e\": r'C:\\SaiVinay\\GitHub\\ir_srgan_otsr\\src_ir_with_edgeloss\\trained_models_edgeloss5e\\40138_G.pth'\n",
    "}\n",
    "\n",
    "modelValidation(model_paths)"
   ]
  },
  {
   "cell_type": "code",
   "execution_count": null,
   "metadata": {},
   "outputs": [],
   "source": []
  },
  {
   "cell_type": "markdown",
   "metadata": {},
   "source": [
    "### Calculate the Average PSNR "
   ]
  },
  {
   "cell_type": "code",
   "execution_count": null,
   "metadata": {},
   "outputs": [],
   "source": []
  }
 ],
 "metadata": {
  "kernelspec": {
   "display_name": "forcuda",
   "language": "python",
   "name": "python3"
  },
  "language_info": {
   "codemirror_mode": {
    "name": "ipython",
    "version": 3
   },
   "file_extension": ".py",
   "mimetype": "text/x-python",
   "name": "python",
   "nbconvert_exporter": "python",
   "pygments_lexer": "ipython3",
   "version": "3.12.2"
  }
 },
 "nbformat": 4,
 "nbformat_minor": 2
}
