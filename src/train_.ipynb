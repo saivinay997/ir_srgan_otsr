{
 "cells": [
  {
   "cell_type": "code",
   "execution_count": 1,
   "metadata": {},
   "outputs": [
    {
     "data": {
      "text/plain": [
       "True"
      ]
     },
     "execution_count": 1,
     "metadata": {},
     "output_type": "execute_result"
    }
   ],
   "source": [
    "import torch\n",
    "torch.cuda.is_available()"
   ]
  },
  {
   "cell_type": "code",
   "execution_count": 1,
   "metadata": {},
   "outputs": [
    {
     "name": "stderr",
     "output_type": "stream",
     "text": [
      "c:\\Users\\saivi\\anaconda3\\envs\\forcuda\\Lib\\site-packages\\tqdm\\auto.py:21: TqdmWarning: IProgress not found. Please update jupyter and ipywidgets. See https://ipywidgets.readthedocs.io/en/stable/user_install.html\n",
      "  from .autonotebook import tqdm as notebook_tqdm\n",
      "c:\\Users\\saivi\\anaconda3\\envs\\forcuda\\Lib\\site-packages\\torchvision\\models\\_utils.py:208: UserWarning: The parameter 'pretrained' is deprecated since 0.13 and may be removed in the future, please use 'weights' instead.\n",
      "  warnings.warn(\n",
      "c:\\Users\\saivi\\anaconda3\\envs\\forcuda\\Lib\\site-packages\\torchvision\\models\\_utils.py:223: UserWarning: Arguments other than a weight enum or `None` for 'weights' are deprecated since 0.13 and may be removed in the future. The current behavior is equivalent to passing `weights=None`.\n",
      "  warnings.warn(msg)\n"
     ]
    },
    {
     "name": "stdout",
     "output_type": "stream",
     "text": [
      "VGG-19 model loaded from disk.\n",
      "Staring the training from epoch: 0. Total epoch: 1601\n"
     ]
    },
    {
     "name": "stderr",
     "output_type": "stream",
     "text": [
      "Epochs:   0%|          | 0/1602 [00:00<?, ?it/s]"
     ]
    }
   ],
   "source": [
    "from train import main\n",
    "# training images \n",
    "HR_train = r\"../Dataset/DF2K/valid/HR\"\n",
    "Lr_train = r\"../Dataset/DF2K/valid/LR\"\n",
    "\n",
    "# Create validation dataset.\n",
    "LR_val = r\"../Dataset/DF2K/valid/LR\"\n",
    "HR_val = r\"../Dataset/DF2K/valid/HR\"\n",
    "\n",
    "main(HR_train, Lr_train, HR_val, LR_val)"
   ]
  },
  {
   "cell_type": "code",
   "execution_count": 4,
   "metadata": {},
   "outputs": [
    {
     "name": "stderr",
     "output_type": "stream",
     "text": [
      "c:\\Users\\saivi\\anaconda3\\envs\\forcuda\\Lib\\site-packages\\torchvision\\models\\_utils.py:223: UserWarning: Arguments other than a weight enum or `None` for 'weights' are deprecated since 0.13 and may be removed in the future. The current behavior is equivalent to passing `weights=None`.\n",
      "  warnings.warn(msg)\n"
     ]
    },
    {
     "name": "stdout",
     "output_type": "stream",
     "text": [
      "VGG-19_bn model loaded from disk.\n"
     ]
    }
   ],
   "source": [
    "import os\n",
    "import torch\n",
    "import torchvision.models as models\n",
    "\n",
    "def load_vgg19_bn(pretrained=True, model_path='vgg19_bn.pth'):\n",
    "    if pretrained:\n",
    "        if os.path.exists(model_path):\n",
    "            # Model weights already downloaded, load them\n",
    "            model = models.vgg19_bn(pretrained=False)\n",
    "            model.load_state_dict(torch.load(model_path))\n",
    "            print(\"VGG-19_bn model loaded from disk.\")\n",
    "        else:\n",
    "            # Download and save model weights\n",
    "            model = models.vgg19_bn(pretrained=True)\n",
    "            torch.save(model.state_dict(), model_path)\n",
    "            print(\"VGG-19_bn model downloaded and saved to disk.\")\n",
    "    else:\n",
    "        # Load VGG-19 without pretrained weights\n",
    "        model = models.vgg19_bn(pretrained=False)\n",
    "    \n",
    "    return model\n",
    "\n",
    "# Example usage\n",
    "vgg_model = load_vgg19_bn(pretrained=True)\n"
   ]
  },
  {
   "cell_type": "code",
   "execution_count": 3,
   "metadata": {},
   "outputs": [
    {
     "name": "stdout",
     "output_type": "stream",
     "text": [
      "Number of available GPUs: 1\n",
      "GPU 0: NVIDIA GeForce RTX 3050 Laptop GPU\n"
     ]
    }
   ],
   "source": [
    "import torch\n",
    "\n",
    "def check_gpu_ids():\n",
    "    if torch.cuda.is_available():\n",
    "        num_gpus = torch.cuda.device_count()\n",
    "        print(f\"Number of available GPUs: {num_gpus}\")\n",
    "        for i in range(num_gpus):\n",
    "            gpu_name = torch.cuda.get_device_name(i)\n",
    "            print(f\"GPU {i}: {gpu_name}\")\n",
    "    else:\n",
    "        print(\"No GPU available.\")\n",
    "\n",
    "if __name__ == \"__main__\":\n",
    "    check_gpu_ids()\n"
   ]
  }
 ],
 "metadata": {
  "kernelspec": {
   "display_name": "base",
   "language": "python",
   "name": "python3"
  },
  "language_info": {
   "codemirror_mode": {
    "name": "ipython",
    "version": 3
   },
   "file_extension": ".py",
   "mimetype": "text/x-python",
   "name": "python",
   "nbconvert_exporter": "python",
   "pygments_lexer": "ipython3",
   "version": "3.12.2"
  }
 },
 "nbformat": 4,
 "nbformat_minor": 2
}
