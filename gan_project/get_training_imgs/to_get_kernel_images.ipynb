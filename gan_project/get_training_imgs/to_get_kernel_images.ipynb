{
 "cells": [
  {
   "cell_type": "code",
   "execution_count": 3,
   "metadata": {},
   "outputs": [
    {
     "name": "stdout",
     "output_type": "stream",
     "text": [
      "Number of images in the source directory: 738\n"
     ]
    },
    {
     "name": "stderr",
     "output_type": "stream",
     "text": [
      "Resizing images:   1%|          | 7/738 [00:00<00:10, 69.47it/s]"
     ]
    },
    {
     "name": "stdout",
     "output_type": "stream",
     "text": [
      "input_img.size():  torch.Size([3, 176, 255])\n",
      "resize2_img.size():  torch.Size([3, 44, 64])\n",
      "resize2_cut_img.size():  torch.Size([3, 44, 64])\n",
      "skip kernel_path:C:\\SaiVinay\\SproutsAI\\GitHub_\\ir_srgan_otsr\\results_kernels_DIV2K\\0001\\0001_kernel_x4.mat\n",
      "input_img.size():  torch.Size([3, 231, 255])\n",
      "resize2_img.size():  torch.Size([3, 58, 64])\n",
      "resize2_cut_img.size():  torch.Size([3, 56, 64])\n",
      "skip kernel_path:C:\\SaiVinay\\SproutsAI\\GitHub_\\ir_srgan_otsr\\results_kernels_DIV2K\\0002\\0002_kernel_x4.mat\n",
      "input_img.size():  torch.Size([3, 170, 255])\n",
      "resize2_img.size():  torch.Size([3, 43, 64])\n",
      "resize2_cut_img.size():  torch.Size([3, 40, 64])\n",
      "skip kernel_path:C:\\SaiVinay\\SproutsAI\\GitHub_\\ir_srgan_otsr\\results_kernels_DIV2K\\0003\\0003_kernel_x4.mat\n",
      "input_img.size():  torch.Size([3, 168, 255])\n",
      "resize2_img.size():  torch.Size([3, 42, 64])\n",
      "resize2_cut_img.size():  torch.Size([3, 40, 64])\n",
      "skip kernel_path:C:\\SaiVinay\\SproutsAI\\GitHub_\\ir_srgan_otsr\\results_kernels_DIV2K\\0004\\0004_kernel_x4.mat\n",
      "input_img.size():  torch.Size([3, 255, 201])\n",
      "resize2_img.size():  torch.Size([3, 64, 51])\n",
      "resize2_cut_img.size():  torch.Size([3, 64, 48])\n",
      "skip kernel_path:C:\\SaiVinay\\SproutsAI\\GitHub_\\ir_srgan_otsr\\results_kernels_DIV2K\\0005\\0005_kernel_x4.mat\n",
      "input_img.size():  torch.Size([3, 255, 170])\n",
      "resize2_img.size():  torch.Size([3, 64, 43])\n",
      "resize2_cut_img.size():  torch.Size([3, 64, 40])\n",
      "skip kernel_path:C:\\SaiVinay\\SproutsAI\\GitHub_\\ir_srgan_otsr\\results_kernels_DIV2K\\0006\\0006_kernel_x4.mat\n",
      "input_img.size():  torch.Size([3, 170, 255])\n",
      "resize2_img.size():  torch.Size([3, 43, 64])\n",
      "resize2_cut_img.size():  torch.Size([3, 40, 64])\n",
      "skip kernel_path:C:\\SaiVinay\\SproutsAI\\GitHub_\\ir_srgan_otsr\\results_kernels_DIV2K\\0007\\0007_kernel_x4.mat\n",
      "input_img.size():  torch.Size([3, 170, 255])\n",
      "resize2_img.size():  torch.Size([3, 43, 64])\n",
      "resize2_cut_img.size():  torch.Size([3, 40, 64])\n",
      "skip kernel_path:C:\\SaiVinay\\SproutsAI\\GitHub_\\ir_srgan_otsr\\results_kernels_DIV2K\\0008\\0008_kernel_x4.mat\n",
      "input_img.size():  torch.Size([3, 191, 255])\n",
      "resize2_img.size():  torch.Size([3, 48, 64])\n",
      "resize2_cut_img.size():  torch.Size([3, 48, 64])\n",
      "create_HrLr kernel_path:C:\\SaiVinay\\SproutsAI\\GitHub_\\ir_srgan_otsr\\results_kernels_DIV2K\\0009\\0009_kernel_x4.mat\n",
      "scale_factor:  [0.25, 0.25, 1]\n",
      "output_shape:  [48 64  3]\n",
      "im.shape:  (191, 255, 3)\n",
      "input_img.size():  torch.Size([3, 206, 255])\n",
      "resize2_img.size():  torch.Size([3, 52, 64])\n",
      "resize2_cut_img.size():  torch.Size([3, 52, 64])\n",
      "create_HrLr kernel_path:C:\\SaiVinay\\SproutsAI\\GitHub_\\ir_srgan_otsr\\results_kernels_DIV2K\\0010\\0010_kernel_x4.mat\n",
      "scale_factor:  [0.25, 0.25, 1]\n",
      "output_shape:  [52 64  3]\n",
      "im.shape:  (206, 255, 3)\n",
      "input_img.size():  torch.Size([3, 170, 255])\n",
      "resize2_img.size():  torch.Size([3, 43, 64])\n",
      "resize2_cut_img.size():  torch.Size([3, 40, 64])\n",
      "create_HrLr kernel_path:C:\\SaiVinay\\SproutsAI\\GitHub_\\ir_srgan_otsr\\results_kernels_DIV2K\\0011\\0011_kernel_x4.mat\n",
      "scale_factor:  [0.25, 0.25, 1]\n",
      "output_shape:  [43 64  3]\n",
      "im.shape:  (170, 255, 3)\n",
      "input_img.size():  torch.Size([3, 170, 255])\n",
      "resize2_img.size():  torch.Size([3, 43, 64])\n",
      "resize2_cut_img.size():  torch.Size([3, 40, 64])\n",
      "create_HrLr kernel_path:C:\\SaiVinay\\SproutsAI\\GitHub_\\ir_srgan_otsr\\results_kernels_DIV2K\\0012\\0012_kernel_x4.mat\n",
      "scale_factor:  [0.25, 0.25, 1]\n",
      "output_shape:  [43 64  3]\n",
      "im.shape:  (170, 255, 3)\n",
      "input_img.size():  torch.Size([3, 171, 255])\n",
      "resize2_img.size():  torch.Size([3, 43, 64])\n",
      "resize2_cut_img.size():  torch.Size([3, 40, 64])\n",
      "create_HrLr kernel_path:C:\\SaiVinay\\SproutsAI\\GitHub_\\ir_srgan_otsr\\results_kernels_DIV2K\\0013\\0013_kernel_x4.mat\n",
      "scale_factor:  [0.25, 0.25, 1]\n",
      "output_shape:  [43 64  3]\n",
      "im.shape:  (171, 255, 3)\n",
      "input_img.size():  torch.Size([3, 255, 170])\n",
      "resize2_img.size():  torch.Size([3, 64, 43])\n",
      "resize2_cut_img.size():  torch.Size([3, 64, 40])\n",
      "create_HrLr kernel_path:C:\\SaiVinay\\SproutsAI\\GitHub_\\ir_srgan_otsr\\results_kernels_DIV2K\\0014\\0014_kernel_x4.mat\n",
      "scale_factor:  [0.25, 0.25, 1]\n",
      "output_shape:  [64 43  3]\n",
      "im.shape:  (255, 170, 3)\n"
     ]
    },
    {
     "name": "stderr",
     "output_type": "stream",
     "text": [
      "Resizing images:   2%|▏         | 14/738 [00:01<01:30,  7.99it/s]"
     ]
    },
    {
     "name": "stdout",
     "output_type": "stream",
     "text": [
      "input_img.size():  torch.Size([3, 170, 255])\n",
      "resize2_img.size():  torch.Size([3, 43, 64])\n",
      "resize2_cut_img.size():  torch.Size([3, 40, 64])\n",
      "create_HrLr kernel_path:C:\\SaiVinay\\SproutsAI\\GitHub_\\ir_srgan_otsr\\results_kernels_DIV2K\\0015\\0015_kernel_x4.mat\n",
      "scale_factor:  [0.25, 0.25, 1]\n",
      "output_shape:  [43 64  3]\n",
      "im.shape:  (170, 255, 3)\n",
      "input_img.size():  torch.Size([3, 170, 255])\n",
      "resize2_img.size():  torch.Size([3, 43, 64])\n",
      "resize2_cut_img.size():  torch.Size([3, 40, 64])\n",
      "create_HrLr kernel_path:C:\\SaiVinay\\SproutsAI\\GitHub_\\ir_srgan_otsr\\results_kernels_DIV2K\\0016\\0016_kernel_x4.mat\n",
      "scale_factor:  [0.25, 0.25, 1]\n",
      "output_shape:  [43 64  3]\n",
      "im.shape:  (170, 255, 3)\n",
      "input_img.size():  torch.Size([3, 170, 255])\n",
      "resize2_img.size():  torch.Size([3, 43, 64])\n",
      "resize2_cut_img.size():  torch.Size([3, 40, 64])\n",
      "create_HrLr kernel_path:C:\\SaiVinay\\SproutsAI\\GitHub_\\ir_srgan_otsr\\results_kernels_DIV2K\\0017\\0017_kernel_x4.mat\n",
      "scale_factor:  [0.25, 0.25, 1]\n",
      "output_shape:  [43 64  3]\n",
      "im.shape:  (170, 255, 3)\n"
     ]
    },
    {
     "name": "stderr",
     "output_type": "stream",
     "text": [
      "Resizing images:   2%|▏         | 18/738 [00:02<01:48,  6.62it/s]"
     ]
    },
    {
     "name": "stdout",
     "output_type": "stream",
     "text": [
      "input_img.size():  torch.Size([3, 171, 255])\n",
      "resize2_img.size():  torch.Size([3, 43, 64])\n",
      "resize2_cut_img.size():  torch.Size([3, 40, 64])\n",
      "create_HrLr kernel_path:C:\\SaiVinay\\SproutsAI\\GitHub_\\ir_srgan_otsr\\results_kernels_DIV2K\\0018\\0018_kernel_x4.mat\n",
      "scale_factor:  [0.25, 0.25, 1]\n",
      "output_shape:  [43 64  3]\n",
      "im.shape:  (171, 255, 3)\n",
      "input_img.size():  torch.Size([3, 192, 255])\n",
      "resize2_img.size():  torch.Size([3, 48, 64])\n",
      "resize2_cut_img.size():  torch.Size([3, 48, 64])\n",
      "create_HrLr kernel_path:C:\\SaiVinay\\SproutsAI\\GitHub_\\ir_srgan_otsr\\results_kernels_DIV2K\\0019\\0019_kernel_x4.mat\n",
      "scale_factor:  [0.25, 0.25, 1]\n",
      "output_shape:  [48 64  3]\n",
      "im.shape:  (192, 255, 3)\n",
      "input_img.size():  torch.Size([3, 174, 255])\n",
      "resize2_img.size():  torch.Size([3, 44, 64])\n",
      "resize2_cut_img.size():  torch.Size([3, 44, 64])\n",
      "create_HrLr kernel_path:C:\\SaiVinay\\SproutsAI\\GitHub_\\ir_srgan_otsr\\results_kernels_DIV2K\\0020\\0020_kernel_x4.mat\n",
      "scale_factor:  [0.25, 0.25, 1]\n",
      "output_shape:  [44 64  3]\n",
      "im.shape:  (174, 255, 3)\n"
     ]
    },
    {
     "name": "stderr",
     "output_type": "stream",
     "text": [
      "Resizing images:   3%|▎         | 20/738 [00:02<01:59,  6.03it/s]"
     ]
    },
    {
     "name": "stdout",
     "output_type": "stream",
     "text": [
      "input_img.size():  torch.Size([3, 96, 255])\n",
      "resize2_img.size():  torch.Size([3, 24, 64])\n",
      "resize2_cut_img.size():  torch.Size([3, 24, 64])\n",
      "create_HrLr kernel_path:C:\\SaiVinay\\SproutsAI\\GitHub_\\ir_srgan_otsr\\results_kernels_DIV2K\\0021\\0021_kernel_x4.mat\n",
      "scale_factor:  [0.25, 0.25, 1]\n",
      "output_shape:  [24 64  3]\n",
      "im.shape:  (96, 255, 3)\n",
      "input_img.size():  torch.Size([3, 120, 255])\n",
      "resize2_img.size():  torch.Size([3, 30, 64])\n",
      "resize2_cut_img.size():  torch.Size([3, 28, 64])\n",
      "create_HrLr kernel_path:C:\\SaiVinay\\SproutsAI\\GitHub_\\ir_srgan_otsr\\results_kernels_DIV2K\\0022\\0022_kernel_x4.mat\n",
      "scale_factor:  [0.25, 0.25, 1]\n",
      "output_shape:  [30 64  3]\n",
      "im.shape:  (120, 255, 3)\n"
     ]
    },
    {
     "name": "stderr",
     "output_type": "stream",
     "text": [
      "Resizing images:   3%|▎         | 22/738 [00:03<01:55,  6.21it/s]"
     ]
    },
    {
     "name": "stdout",
     "output_type": "stream",
     "text": [
      "input_img.size():  torch.Size([3, 170, 255])\n",
      "resize2_img.size():  torch.Size([3, 43, 64])\n",
      "resize2_cut_img.size():  torch.Size([3, 40, 64])\n",
      "create_HrLr kernel_path:C:\\SaiVinay\\SproutsAI\\GitHub_\\ir_srgan_otsr\\results_kernels_DIV2K\\0023\\0023_kernel_x4.mat\n",
      "scale_factor:  [0.25, 0.25, 1]\n",
      "output_shape:  [43 64  3]\n",
      "im.shape:  (170, 255, 3)\n"
     ]
    },
    {
     "name": "stderr",
     "output_type": "stream",
     "text": [
      "Resizing images:   3%|▎         | 24/738 [00:03<02:05,  5.67it/s]"
     ]
    },
    {
     "name": "stdout",
     "output_type": "stream",
     "text": [
      "input_img.size():  torch.Size([3, 170, 255])\n",
      "resize2_img.size():  torch.Size([3, 43, 64])\n",
      "resize2_cut_img.size():  torch.Size([3, 40, 64])\n",
      "create_HrLr kernel_path:C:\\SaiVinay\\SproutsAI\\GitHub_\\ir_srgan_otsr\\results_kernels_DIV2K\\0024\\0024_kernel_x4.mat\n",
      "scale_factor:  [0.25, 0.25, 1]\n",
      "output_shape:  [43 64  3]\n",
      "im.shape:  (170, 255, 3)\n"
     ]
    },
    {
     "name": "stderr",
     "output_type": "stream",
     "text": [
      "Resizing images:   3%|▎         | 25/738 [00:03<02:05,  5.66it/s]"
     ]
    },
    {
     "name": "stdout",
     "output_type": "stream",
     "text": [
      "input_img.size():  torch.Size([3, 255, 143])\n",
      "resize2_img.size():  torch.Size([3, 64, 36])\n",
      "resize2_cut_img.size():  torch.Size([3, 64, 36])\n",
      "create_HrLr kernel_path:C:\\SaiVinay\\SproutsAI\\GitHub_\\ir_srgan_otsr\\results_kernels_DIV2K\\0025\\0025_kernel_x4.mat\n",
      "scale_factor:  [0.25, 0.25, 1]\n",
      "output_shape:  [64 36  3]\n",
      "im.shape:  (255, 143, 3)\n",
      "input_img.size():  torch.Size([3, 192, 255])\n",
      "resize2_img.size():  torch.Size([3, 48, 64])\n",
      "resize2_cut_img.size():  torch.Size([3, 48, 64])\n",
      "create_HrLr kernel_path:C:\\SaiVinay\\SproutsAI\\GitHub_\\ir_srgan_otsr\\results_kernels_DIV2K\\0026\\0026_kernel_x4.mat\n"
     ]
    },
    {
     "name": "stderr",
     "output_type": "stream",
     "text": [
      "Resizing images:   4%|▎         | 26/738 [00:03<02:12,  5.38it/s]"
     ]
    },
    {
     "name": "stdout",
     "output_type": "stream",
     "text": [
      "scale_factor:  [0.25, 0.25, 1]\n",
      "output_shape:  [48 64  3]\n",
      "im.shape:  (192, 255, 3)\n",
      "input_img.size():  torch.Size([3, 194, 255])\n",
      "resize2_img.size():  torch.Size([3, 49, 64])\n",
      "resize2_cut_img.size():  torch.Size([3, 48, 64])\n",
      "create_HrLr kernel_path:C:\\SaiVinay\\SproutsAI\\GitHub_\\ir_srgan_otsr\\results_kernels_DIV2K\\0027\\0027_kernel_x4.mat\n",
      "scale_factor:  [0.25, 0.25, 1]\n",
      "output_shape:  [49 64  3]\n",
      "im.shape:  (194, 255, 3)\n"
     ]
    },
    {
     "name": "stderr",
     "output_type": "stream",
     "text": [
      "Resizing images:   4%|▎         | 27/738 [00:04<02:21,  5.04it/s]"
     ]
    },
    {
     "name": "stdout",
     "output_type": "stream",
     "text": [
      "input_img.size():  torch.Size([3, 249, 255])\n",
      "resize2_img.size():  torch.Size([3, 63, 64])\n",
      "resize2_cut_img.size():  torch.Size([3, 60, 64])\n",
      "create_HrLr kernel_path:C:\\SaiVinay\\SproutsAI\\GitHub_\\ir_srgan_otsr\\results_kernels_DIV2K\\0028\\0028_kernel_x4.mat\n",
      "scale_factor:  [0.25, 0.25, 1]\n",
      "output_shape:  [63 64  3]\n",
      "im.shape:  (249, 255, 3)\n"
     ]
    },
    {
     "name": "stderr",
     "output_type": "stream",
     "text": [
      "Resizing images:   4%|▍         | 28/738 [00:04<02:35,  4.56it/s]"
     ]
    },
    {
     "name": "stdout",
     "output_type": "stream",
     "text": [
      "input_img.size():  torch.Size([3, 170, 255])\n",
      "resize2_img.size():  torch.Size([3, 43, 64])\n",
      "resize2_cut_img.size():  torch.Size([3, 40, 64])\n",
      "create_HrLr kernel_path:C:\\SaiVinay\\SproutsAI\\GitHub_\\ir_srgan_otsr\\results_kernels_DIV2K\\0029\\0029_kernel_x4.mat\n",
      "scale_factor:  [0.25, 0.25, 1]\n",
      "output_shape:  [43 64  3]\n",
      "im.shape:  (170, 255, 3)\n"
     ]
    },
    {
     "name": "stderr",
     "output_type": "stream",
     "text": [
      "Resizing images:   4%|▍         | 29/738 [00:04<02:35,  4.55it/s]"
     ]
    },
    {
     "name": "stdout",
     "output_type": "stream",
     "text": [
      "input_img.size():  torch.Size([3, 159, 255])\n",
      "resize2_img.size():  torch.Size([3, 40, 64])\n",
      "resize2_cut_img.size():  torch.Size([3, 40, 64])\n",
      "create_HrLr kernel_path:C:\\SaiVinay\\SproutsAI\\GitHub_\\ir_srgan_otsr\\results_kernels_DIV2K\\0030\\0030_kernel_x4.mat\n",
      "scale_factor:  [0.25, 0.25, 1]\n",
      "output_shape:  [40 64  3]\n",
      "im.shape:  (159, 255, 3)\n"
     ]
    },
    {
     "name": "stderr",
     "output_type": "stream",
     "text": [
      "Resizing images:   4%|▍         | 30/738 [00:04<02:33,  4.60it/s]"
     ]
    },
    {
     "name": "stdout",
     "output_type": "stream",
     "text": [
      "input_img.size():  torch.Size([3, 170, 255])\n",
      "resize2_img.size():  torch.Size([3, 43, 64])\n",
      "resize2_cut_img.size():  torch.Size([3, 40, 64])\n",
      "create_HrLr kernel_path:C:\\SaiVinay\\SproutsAI\\GitHub_\\ir_srgan_otsr\\results_kernels_DIV2K\\0031\\0031_kernel_x4.mat\n",
      "scale_factor:  [0.25, 0.25, 1]\n",
      "output_shape:  [43 64  3]\n",
      "im.shape:  (170, 255, 3)\n"
     ]
    },
    {
     "name": "stderr",
     "output_type": "stream",
     "text": [
      "Resizing images:   4%|▍         | 31/738 [00:05<02:38,  4.45it/s]"
     ]
    },
    {
     "name": "stdout",
     "output_type": "stream",
     "text": [
      "input_img.size():  torch.Size([3, 170, 255])\n",
      "resize2_img.size():  torch.Size([3, 43, 64])\n",
      "resize2_cut_img.size():  torch.Size([3, 40, 64])\n",
      "create_HrLr kernel_path:C:\\SaiVinay\\SproutsAI\\GitHub_\\ir_srgan_otsr\\results_kernels_DIV2K\\0032\\0032_kernel_x4.mat\n",
      "scale_factor:  [0.25, 0.25, 1]\n",
      "output_shape:  [43 64  3]\n",
      "im.shape:  (170, 255, 3)\n"
     ]
    },
    {
     "name": "stderr",
     "output_type": "stream",
     "text": [
      "Resizing images:   4%|▍         | 32/738 [00:05<02:39,  4.43it/s]"
     ]
    },
    {
     "name": "stdout",
     "output_type": "stream",
     "text": [
      "input_img.size():  torch.Size([3, 170, 255])\n",
      "resize2_img.size():  torch.Size([3, 43, 64])\n",
      "resize2_cut_img.size():  torch.Size([3, 40, 64])\n",
      "create_HrLr kernel_path:C:\\SaiVinay\\SproutsAI\\GitHub_\\ir_srgan_otsr\\results_kernels_DIV2K\\0033\\0033_kernel_x4.mat\n",
      "scale_factor:  [0.25, 0.25, 1]\n",
      "output_shape:  [43 64  3]\n",
      "im.shape:  (170, 255, 3)\n"
     ]
    },
    {
     "name": "stderr",
     "output_type": "stream",
     "text": [
      "Resizing images:   5%|▍         | 34/738 [00:05<02:28,  4.74it/s]"
     ]
    },
    {
     "name": "stdout",
     "output_type": "stream",
     "text": [
      "input_img.size():  torch.Size([3, 170, 255])\n",
      "resize2_img.size():  torch.Size([3, 43, 64])\n",
      "resize2_cut_img.size():  torch.Size([3, 40, 64])\n",
      "create_HrLr kernel_path:C:\\SaiVinay\\SproutsAI\\GitHub_\\ir_srgan_otsr\\results_kernels_DIV2K\\0034\\0034_kernel_x4.mat\n",
      "scale_factor:  [0.25, 0.25, 1]\n",
      "output_shape:  [43 64  3]\n",
      "im.shape:  (170, 255, 3)\n",
      "input_img.size():  torch.Size([3, 170, 255])\n",
      "resize2_img.size():  torch.Size([3, 43, 64])\n",
      "resize2_cut_img.size():  torch.Size([3, 40, 64])\n",
      "create_HrLr kernel_path:C:\\SaiVinay\\SproutsAI\\GitHub_\\ir_srgan_otsr\\results_kernels_DIV2K\\0035\\0035_kernel_x4.mat\n"
     ]
    },
    {
     "name": "stderr",
     "output_type": "stream",
     "text": [
      "Resizing images:   5%|▍         | 35/738 [00:06<02:28,  4.73it/s]"
     ]
    },
    {
     "name": "stdout",
     "output_type": "stream",
     "text": [
      "scale_factor:  [0.25, 0.25, 1]\n",
      "output_shape:  [43 64  3]\n",
      "im.shape:  (170, 255, 3)\n",
      "input_img.size():  torch.Size([3, 192, 255])\n",
      "resize2_img.size():  torch.Size([3, 48, 64])\n",
      "resize2_cut_img.size():  torch.Size([3, 48, 64])\n",
      "create_HrLr kernel_path:C:\\SaiVinay\\SproutsAI\\GitHub_\\ir_srgan_otsr\\results_kernels_DIV2K\\0036\\0036_kernel_x4.mat\n"
     ]
    },
    {
     "name": "stderr",
     "output_type": "stream",
     "text": [
      "Resizing images:   5%|▍         | 36/738 [00:06<02:33,  4.56it/s]"
     ]
    },
    {
     "name": "stdout",
     "output_type": "stream",
     "text": [
      "scale_factor:  [0.25, 0.25, 1]\n",
      "output_shape:  [48 64  3]\n",
      "im.shape:  (192, 255, 3)\n"
     ]
    },
    {
     "name": "stderr",
     "output_type": "stream",
     "text": [
      "Resizing images:   5%|▌         | 37/738 [00:06<02:30,  4.67it/s]"
     ]
    },
    {
     "name": "stdout",
     "output_type": "stream",
     "text": [
      "input_img.size():  torch.Size([3, 170, 255])\n",
      "resize2_img.size():  torch.Size([3, 43, 64])\n",
      "resize2_cut_img.size():  torch.Size([3, 40, 64])\n",
      "create_HrLr kernel_path:C:\\SaiVinay\\SproutsAI\\GitHub_\\ir_srgan_otsr\\results_kernels_DIV2K\\0037\\0037_kernel_x4.mat\n",
      "scale_factor:  [0.25, 0.25, 1]\n",
      "output_shape:  [43 64  3]\n",
      "im.shape:  (170, 255, 3)\n"
     ]
    },
    {
     "name": "stderr",
     "output_type": "stream",
     "text": [
      "Resizing images:   5%|▌         | 38/738 [00:06<02:27,  4.76it/s]"
     ]
    },
    {
     "name": "stdout",
     "output_type": "stream",
     "text": [
      "input_img.size():  torch.Size([3, 153, 255])\n",
      "resize2_img.size():  torch.Size([3, 39, 64])\n",
      "resize2_cut_img.size():  torch.Size([3, 36, 64])\n",
      "create_HrLr kernel_path:C:\\SaiVinay\\SproutsAI\\GitHub_\\ir_srgan_otsr\\results_kernels_DIV2K\\0038\\0038_kernel_x4.mat\n",
      "scale_factor:  [0.25, 0.25, 1]\n",
      "output_shape:  [39 64  3]\n",
      "im.shape:  (153, 255, 3)\n"
     ]
    },
    {
     "name": "stderr",
     "output_type": "stream",
     "text": [
      "Resizing images:   5%|▌         | 39/738 [00:06<02:27,  4.75it/s]"
     ]
    },
    {
     "name": "stdout",
     "output_type": "stream",
     "text": [
      "input_img.size():  torch.Size([3, 170, 255])\n",
      "resize2_img.size():  torch.Size([3, 43, 64])\n",
      "resize2_cut_img.size():  torch.Size([3, 40, 64])\n",
      "create_HrLr kernel_path:C:\\SaiVinay\\SproutsAI\\GitHub_\\ir_srgan_otsr\\results_kernels_DIV2K\\0039\\0039_kernel_x4.mat\n",
      "scale_factor:  [0.25, 0.25, 1]\n",
      "output_shape:  [43 64  3]\n",
      "im.shape:  (170, 255, 3)\n",
      "input_img.size():  torch.Size([3, 170, 255])\n",
      "resize2_img.size():  torch.Size([3, 43, 64])\n",
      "resize2_cut_img.size():  torch.Size([3, 40, 64])\n",
      "create_HrLr kernel_path:C:\\SaiVinay\\SproutsAI\\GitHub_\\ir_srgan_otsr\\results_kernels_DIV2K\\0040\\0040_kernel_x4.mat\n",
      "scale_factor:  [0.25, 0.25, 1]\n",
      "output_shape:  [43 64  3]\n",
      "im.shape:  (170, 255, 3)\n"
     ]
    },
    {
     "name": "stderr",
     "output_type": "stream",
     "text": [
      "Resizing images:   5%|▌         | 40/738 [00:07<02:31,  4.60it/s]"
     ]
    },
    {
     "name": "stdout",
     "output_type": "stream",
     "text": [
      "input_img.size():  torch.Size([3, 170, 255])\n",
      "resize2_img.size():  torch.Size([3, 43, 64])\n",
      "resize2_cut_img.size():  torch.Size([3, 40, 64])\n",
      "create_HrLr kernel_path:C:\\SaiVinay\\SproutsAI\\GitHub_\\ir_srgan_otsr\\results_kernels_DIV2K\\0041\\0041_kernel_x4.mat\n",
      "scale_factor:  [0.25, 0.25, 1]\n",
      "output_shape:  [43 64  3]\n",
      "im.shape:  (170, 255, 3)\n"
     ]
    },
    {
     "name": "stderr",
     "output_type": "stream",
     "text": [
      "Resizing images:   6%|▌         | 42/738 [00:07<02:28,  4.69it/s]"
     ]
    },
    {
     "name": "stdout",
     "output_type": "stream",
     "text": [
      "input_img.size():  torch.Size([3, 170, 255])\n",
      "resize2_img.size():  torch.Size([3, 43, 64])\n",
      "resize2_cut_img.size():  torch.Size([3, 40, 64])\n",
      "create_HrLr kernel_path:C:\\SaiVinay\\SproutsAI\\GitHub_\\ir_srgan_otsr\\results_kernels_DIV2K\\0042\\0042_kernel_x4.mat\n",
      "scale_factor:  [0.25, 0.25, 1]\n",
      "output_shape:  [43 64  3]\n",
      "im.shape:  (170, 255, 3)\n"
     ]
    },
    {
     "name": "stderr",
     "output_type": "stream",
     "text": [
      "Resizing images:   6%|▌         | 43/738 [00:07<02:19,  4.99it/s]"
     ]
    },
    {
     "name": "stdout",
     "output_type": "stream",
     "text": [
      "input_img.size():  torch.Size([3, 170, 255])\n",
      "resize2_img.size():  torch.Size([3, 43, 64])\n",
      "resize2_cut_img.size():  torch.Size([3, 40, 64])\n",
      "create_HrLr kernel_path:C:\\SaiVinay\\SproutsAI\\GitHub_\\ir_srgan_otsr\\results_kernels_DIV2K\\0043\\0043_kernel_x4.mat\n",
      "scale_factor:  [0.25, 0.25, 1]\n",
      "output_shape:  [43 64  3]\n",
      "im.shape:  (170, 255, 3)\n",
      "input_img.size():  torch.Size([3, 255, 255])\n",
      "resize2_img.size():  torch.Size([3, 64, 64])\n",
      "resize2_cut_img.size():  torch.Size([3, 64, 64])\n",
      "create_HrLr kernel_path:C:\\SaiVinay\\SproutsAI\\GitHub_\\ir_srgan_otsr\\results_kernels_DIV2K\\0044\\0044_kernel_x4.mat\n",
      "scale_factor:  [0.25, 0.25, 1]\n",
      "output_shape:  [64 64  3]\n",
      "im.shape:  (255, 255, 3)\n"
     ]
    },
    {
     "name": "stderr",
     "output_type": "stream",
     "text": [
      "Resizing images:   6%|▌         | 45/738 [00:08<02:24,  4.79it/s]"
     ]
    },
    {
     "name": "stdout",
     "output_type": "stream",
     "text": [
      "input_img.size():  torch.Size([3, 143, 255])\n",
      "resize2_img.size():  torch.Size([3, 36, 64])\n",
      "resize2_cut_img.size():  torch.Size([3, 36, 64])\n",
      "create_HrLr kernel_path:C:\\SaiVinay\\SproutsAI\\GitHub_\\ir_srgan_otsr\\results_kernels_DIV2K\\0045\\0045_kernel_x4.mat\n",
      "scale_factor:  [0.25, 0.25, 1]\n",
      "output_shape:  [36 64  3]\n",
      "im.shape:  (143, 255, 3)\n",
      "input_img.size():  torch.Size([3, 255, 170])\n",
      "resize2_img.size():  torch.Size([3, 64, 43])\n",
      "resize2_cut_img.size():  torch.Size([3, 64, 40])\n",
      "create_HrLr kernel_path:C:\\SaiVinay\\SproutsAI\\GitHub_\\ir_srgan_otsr\\results_kernels_DIV2K\\0046\\0046_kernel_x4.mat\n",
      "scale_factor:  [0.25, 0.25, 1]\n",
      "output_shape:  [64 43  3]\n",
      "im.shape:  (255, 170, 3)\n"
     ]
    },
    {
     "name": "stderr",
     "output_type": "stream",
     "text": [
      "Resizing images:   6%|▌         | 46/738 [00:08<02:22,  4.84it/s]"
     ]
    },
    {
     "name": "stdout",
     "output_type": "stream",
     "text": [
      "input_img.size():  torch.Size([3, 170, 255])\n",
      "resize2_img.size():  torch.Size([3, 43, 64])\n",
      "resize2_cut_img.size():  torch.Size([3, 40, 64])\n",
      "create_HrLr kernel_path:C:\\SaiVinay\\SproutsAI\\GitHub_\\ir_srgan_otsr\\results_kernels_DIV2K\\0047\\0047_kernel_x4.mat\n",
      "scale_factor:  [0.25, 0.25, 1]\n",
      "output_shape:  [43 64  3]\n",
      "im.shape:  (170, 255, 3)\n"
     ]
    },
    {
     "name": "stderr",
     "output_type": "stream",
     "text": [
      "Resizing images:   6%|▋         | 47/738 [00:08<02:22,  4.85it/s]"
     ]
    },
    {
     "name": "stdout",
     "output_type": "stream",
     "text": [
      "input_img.size():  torch.Size([3, 170, 255])\n",
      "resize2_img.size():  torch.Size([3, 43, 64])\n",
      "resize2_cut_img.size():  torch.Size([3, 40, 64])\n",
      "create_HrLr kernel_path:C:\\SaiVinay\\SproutsAI\\GitHub_\\ir_srgan_otsr\\results_kernels_DIV2K\\0048\\0048_kernel_x4.mat\n",
      "scale_factor:  [0.25, 0.25, 1]\n",
      "output_shape:  [43 64  3]\n",
      "im.shape:  (170, 255, 3)\n"
     ]
    },
    {
     "name": "stderr",
     "output_type": "stream",
     "text": [
      "Resizing images:   7%|▋         | 48/738 [00:08<02:21,  4.88it/s]"
     ]
    },
    {
     "name": "stdout",
     "output_type": "stream",
     "text": [
      "input_img.size():  torch.Size([3, 170, 255])\n",
      "resize2_img.size():  torch.Size([3, 43, 64])\n",
      "resize2_cut_img.size():  torch.Size([3, 40, 64])\n",
      "create_HrLr kernel_path:C:\\SaiVinay\\SproutsAI\\GitHub_\\ir_srgan_otsr\\results_kernels_DIV2K\\0049\\0049_kernel_x4.mat\n",
      "scale_factor:  [0.25, 0.25, 1]\n",
      "output_shape:  [43 64  3]\n",
      "im.shape:  (170, 255, 3)\n"
     ]
    },
    {
     "name": "stderr",
     "output_type": "stream",
     "text": [
      "Resizing images:   7%|▋         | 50/738 [00:09<02:26,  4.71it/s]"
     ]
    },
    {
     "name": "stdout",
     "output_type": "stream",
     "text": [
      "input_img.size():  torch.Size([3, 170, 255])\n",
      "resize2_img.size():  torch.Size([3, 43, 64])\n",
      "resize2_cut_img.size():  torch.Size([3, 40, 64])\n",
      "create_HrLr kernel_path:C:\\SaiVinay\\SproutsAI\\GitHub_\\ir_srgan_otsr\\results_kernels_DIV2K\\0050\\0050_kernel_x4.mat\n",
      "scale_factor:  [0.25, 0.25, 1]\n",
      "output_shape:  [43 64  3]\n",
      "im.shape:  (170, 255, 3)\n",
      "input_img.size():  torch.Size([3, 171, 255])\n",
      "resize2_img.size():  torch.Size([3, 43, 64])\n",
      "resize2_cut_img.size():  torch.Size([3, 40, 64])\n",
      "create_HrLr kernel_path:C:\\SaiVinay\\SproutsAI\\GitHub_\\ir_srgan_otsr\\results_kernels_DIV2K\\0051\\0051_kernel_x4.mat\n",
      "scale_factor:  [0.25, 0.25, 1]\n",
      "output_shape:  [43 64  3]\n",
      "im.shape:  (171, 255, 3)\n"
     ]
    },
    {
     "name": "stderr",
     "output_type": "stream",
     "text": [
      "Resizing images:   7%|▋         | 52/738 [00:09<02:26,  4.69it/s]"
     ]
    },
    {
     "name": "stdout",
     "output_type": "stream",
     "text": [
      "input_img.size():  torch.Size([3, 170, 255])\n",
      "resize2_img.size():  torch.Size([3, 43, 64])\n",
      "resize2_cut_img.size():  torch.Size([3, 40, 64])\n",
      "create_HrLr kernel_path:C:\\SaiVinay\\SproutsAI\\GitHub_\\ir_srgan_otsr\\results_kernels_DIV2K\\0052\\0052_kernel_x4.mat\n",
      "scale_factor:  [0.25, 0.25, 1]\n",
      "output_shape:  [43 64  3]\n",
      "im.shape:  (170, 255, 3)\n"
     ]
    },
    {
     "name": "stderr",
     "output_type": "stream",
     "text": [
      "Resizing images:   7%|▋         | 53/738 [00:09<02:24,  4.75it/s]"
     ]
    },
    {
     "name": "stdout",
     "output_type": "stream",
     "text": [
      "input_img.size():  torch.Size([3, 170, 255])\n",
      "resize2_img.size():  torch.Size([3, 43, 64])\n",
      "resize2_cut_img.size():  torch.Size([3, 40, 64])\n",
      "create_HrLr kernel_path:C:\\SaiVinay\\SproutsAI\\GitHub_\\ir_srgan_otsr\\results_kernels_DIV2K\\0053\\0053_kernel_x4.mat\n",
      "scale_factor:  [0.25, 0.25, 1]\n",
      "output_shape:  [43 64  3]\n",
      "im.shape:  (170, 255, 3)\n"
     ]
    },
    {
     "name": "stderr",
     "output_type": "stream",
     "text": [
      "Resizing images:   7%|▋         | 54/738 [00:10<02:22,  4.81it/s]"
     ]
    },
    {
     "name": "stdout",
     "output_type": "stream",
     "text": [
      "input_img.size():  torch.Size([3, 167, 255])\n",
      "resize2_img.size():  torch.Size([3, 42, 64])\n",
      "resize2_cut_img.size():  torch.Size([3, 40, 64])\n",
      "create_HrLr kernel_path:C:\\SaiVinay\\SproutsAI\\GitHub_\\ir_srgan_otsr\\results_kernels_DIV2K\\0054\\0054_kernel_x4.mat\n",
      "scale_factor:  [0.25, 0.25, 1]\n",
      "output_shape:  [42 64  3]\n",
      "im.shape:  (167, 255, 3)\n"
     ]
    },
    {
     "name": "stderr",
     "output_type": "stream",
     "text": [
      "Resizing images:   7%|▋         | 55/738 [00:10<02:18,  4.92it/s]"
     ]
    },
    {
     "name": "stdout",
     "output_type": "stream",
     "text": [
      "input_img.size():  torch.Size([3, 144, 255])\n",
      "resize2_img.size():  torch.Size([3, 36, 64])\n",
      "resize2_cut_img.size():  torch.Size([3, 36, 64])\n",
      "create_HrLr kernel_path:C:\\SaiVinay\\SproutsAI\\GitHub_\\ir_srgan_otsr\\results_kernels_DIV2K\\0055\\0055_kernel_x4.mat\n",
      "scale_factor:  [0.25, 0.25, 1]\n",
      "output_shape:  [36 64  3]\n",
      "im.shape:  (144, 255, 3)\n",
      "input_img.size():  torch.Size([3, 173, 255])\n",
      "resize2_img.size():  torch.Size([3, 44, 64])\n",
      "resize2_cut_img.size():  torch.Size([3, 44, 64])\n"
     ]
    },
    {
     "name": "stderr",
     "output_type": "stream",
     "text": [
      "Resizing images:   8%|▊         | 56/738 [00:10<02:25,  4.69it/s]"
     ]
    },
    {
     "name": "stdout",
     "output_type": "stream",
     "text": [
      "create_HrLr kernel_path:C:\\SaiVinay\\SproutsAI\\GitHub_\\ir_srgan_otsr\\results_kernels_DIV2K\\0056\\0056_kernel_x4.mat\n",
      "scale_factor:  [0.25, 0.25, 1]\n",
      "output_shape:  [44 64  3]\n",
      "im.shape:  (173, 255, 3)\n",
      "input_img.size():  torch.Size([3, 170, 255])\n",
      "resize2_img.size():  torch.Size([3, 43, 64])\n",
      "resize2_cut_img.size():  torch.Size([3, 40, 64])\n",
      "create_HrLr kernel_path:C:\\SaiVinay\\SproutsAI\\GitHub_\\ir_srgan_otsr\\results_kernels_DIV2K\\0057\\0057_kernel_x4.mat\n",
      "scale_factor:  [0.25, 0.25, 1]\n",
      "output_shape:  [43 64  3]\n",
      "im.shape:  (170, 255, 3)\n"
     ]
    },
    {
     "name": "stderr",
     "output_type": "stream",
     "text": [
      "Resizing images:   8%|▊         | 57/738 [00:10<02:25,  4.68it/s]"
     ]
    },
    {
     "name": "stdout",
     "output_type": "stream",
     "text": [
      "input_img.size():  torch.Size([3, 170, 255])\n",
      "resize2_img.size():  torch.Size([3, 43, 64])\n",
      "resize2_cut_img.size():  torch.Size([3, 40, 64])\n",
      "create_HrLr kernel_path:C:\\SaiVinay\\SproutsAI\\GitHub_\\ir_srgan_otsr\\results_kernels_DIV2K\\0058\\0058_kernel_x4.mat\n",
      "scale_factor:  [0.25, 0.25, 1]\n",
      "output_shape:  [43 64  3]\n",
      "im.shape:  (170, 255, 3)\n"
     ]
    },
    {
     "name": "stderr",
     "output_type": "stream",
     "text": [
      "Resizing images:   8%|▊         | 58/738 [00:10<02:26,  4.63it/s]"
     ]
    },
    {
     "name": "stdout",
     "output_type": "stream",
     "text": [
      "input_img.size():  torch.Size([3, 255, 206])\n",
      "resize2_img.size():  torch.Size([3, 64, 52])\n",
      "resize2_cut_img.size():  torch.Size([3, 64, 52])\n",
      "create_HrLr kernel_path:C:\\SaiVinay\\SproutsAI\\GitHub_\\ir_srgan_otsr\\results_kernels_DIV2K\\0059\\0059_kernel_x4.mat\n",
      "scale_factor:  [0.25, 0.25, 1]\n",
      "output_shape:  [64 52  3]\n",
      "im.shape:  (255, 206, 3)\n"
     ]
    },
    {
     "name": "stderr",
     "output_type": "stream",
     "text": [
      "Resizing images:   8%|▊         | 59/738 [00:11<02:40,  4.24it/s]"
     ]
    },
    {
     "name": "stdout",
     "output_type": "stream",
     "text": [
      "input_img.size():  torch.Size([3, 153, 255])\n",
      "resize2_img.size():  torch.Size([3, 39, 64])\n",
      "resize2_cut_img.size():  torch.Size([3, 36, 64])\n",
      "create_HrLr kernel_path:C:\\SaiVinay\\SproutsAI\\GitHub_\\ir_srgan_otsr\\results_kernels_DIV2K\\0060\\0060_kernel_x4.mat\n",
      "scale_factor:  [0.25, 0.25, 1]\n",
      "output_shape:  [39 64  3]\n",
      "im.shape:  (153, 255, 3)\n"
     ]
    },
    {
     "name": "stderr",
     "output_type": "stream",
     "text": [
      "Resizing images:   8%|▊         | 61/738 [00:11<02:28,  4.56it/s]"
     ]
    },
    {
     "name": "stdout",
     "output_type": "stream",
     "text": [
      "input_img.size():  torch.Size([3, 255, 161])\n",
      "resize2_img.size():  torch.Size([3, 64, 41])\n",
      "resize2_cut_img.size():  torch.Size([3, 64, 40])\n",
      "create_HrLr kernel_path:C:\\SaiVinay\\SproutsAI\\GitHub_\\ir_srgan_otsr\\results_kernels_DIV2K\\0061\\0061_kernel_x4.mat\n",
      "scale_factor:  [0.25, 0.25, 1]\n",
      "output_shape:  [64 41  3]\n",
      "im.shape:  (255, 161, 3)\n",
      "input_img.size():  torch.Size([3, 179, 255])\n",
      "resize2_img.size():  torch.Size([3, 45, 64])\n",
      "resize2_cut_img.size():  torch.Size([3, 44, 64])\n",
      "create_HrLr kernel_path:C:\\SaiVinay\\SproutsAI\\GitHub_\\ir_srgan_otsr\\results_kernels_DIV2K\\0062\\0062_kernel_x4.mat\n",
      "scale_factor:  [0.25, 0.25, 1]\n",
      "output_shape:  [45 64  3]\n",
      "im.shape:  (179, 255, 3)\n"
     ]
    },
    {
     "name": "stderr",
     "output_type": "stream",
     "text": [
      "Resizing images:   8%|▊         | 62/738 [00:11<02:26,  4.60it/s]"
     ]
    },
    {
     "name": "stdout",
     "output_type": "stream",
     "text": [
      "input_img.size():  torch.Size([3, 198, 255])\n",
      "resize2_img.size():  torch.Size([3, 50, 64])\n",
      "resize2_cut_img.size():  torch.Size([3, 48, 64])\n",
      "create_HrLr kernel_path:C:\\SaiVinay\\SproutsAI\\GitHub_\\ir_srgan_otsr\\results_kernels_DIV2K\\0063\\0063_kernel_x4.mat\n",
      "scale_factor:  [0.25, 0.25, 1]\n",
      "output_shape:  [50 64  3]\n",
      "im.shape:  (198, 255, 3)\n"
     ]
    },
    {
     "name": "stderr",
     "output_type": "stream",
     "text": [
      "Resizing images:   9%|▊         | 63/738 [00:12<02:28,  4.53it/s]"
     ]
    },
    {
     "name": "stdout",
     "output_type": "stream",
     "text": [
      "input_img.size():  torch.Size([3, 170, 255])\n",
      "resize2_img.size():  torch.Size([3, 43, 64])\n",
      "resize2_cut_img.size():  torch.Size([3, 40, 64])\n",
      "create_HrLr kernel_path:C:\\SaiVinay\\SproutsAI\\GitHub_\\ir_srgan_otsr\\results_kernels_DIV2K\\0064\\0064_kernel_x4.mat\n",
      "scale_factor:  [0.25, 0.25, 1]\n",
      "output_shape:  [43 64  3]\n",
      "im.shape:  (170, 255, 3)\n"
     ]
    },
    {
     "name": "stderr",
     "output_type": "stream",
     "text": [
      "Resizing images:   9%|▉         | 65/738 [00:12<02:21,  4.76it/s]"
     ]
    },
    {
     "name": "stdout",
     "output_type": "stream",
     "text": [
      "input_img.size():  torch.Size([3, 149, 255])\n",
      "resize2_img.size():  torch.Size([3, 38, 64])\n",
      "resize2_cut_img.size():  torch.Size([3, 36, 64])\n",
      "create_HrLr kernel_path:C:\\SaiVinay\\SproutsAI\\GitHub_\\ir_srgan_otsr\\results_kernels_DIV2K\\0065\\0065_kernel_x4.mat\n",
      "scale_factor:  [0.25, 0.25, 1]\n",
      "output_shape:  [38 64  3]\n",
      "im.shape:  (149, 255, 3)\n",
      "input_img.size():  torch.Size([3, 170, 255])\n"
     ]
    },
    {
     "name": "stderr",
     "output_type": "stream",
     "text": [
      "Resizing images:   9%|▉         | 66/738 [00:12<02:24,  4.64it/s]"
     ]
    },
    {
     "name": "stdout",
     "output_type": "stream",
     "text": [
      "resize2_img.size():  torch.Size([3, 43, 64])\n",
      "resize2_cut_img.size():  torch.Size([3, 40, 64])\n",
      "create_HrLr kernel_path:C:\\SaiVinay\\SproutsAI\\GitHub_\\ir_srgan_otsr\\results_kernels_DIV2K\\0066\\0066_kernel_x4.mat\n",
      "scale_factor:  [0.25, 0.25, 1]\n",
      "output_shape:  [43 64  3]\n",
      "im.shape:  (170, 255, 3)\n",
      "input_img.size():  torch.Size([3, 165, 255])\n",
      "resize2_img.size():  torch.Size([3, 42, 64])\n",
      "resize2_cut_img.size():  torch.Size([3, 40, 64])\n",
      "create_HrLr kernel_path:C:\\SaiVinay\\SproutsAI\\GitHub_\\ir_srgan_otsr\\results_kernels_DIV2K\\0067\\0067_kernel_x4.mat\n",
      "scale_factor:  [0.25, 0.25, 1]\n",
      "output_shape:  [42 64  3]\n",
      "im.shape:  (165, 255, 3)\n"
     ]
    },
    {
     "name": "stderr",
     "output_type": "stream",
     "text": [
      "Resizing images:   9%|▉         | 67/738 [00:12<02:25,  4.62it/s]"
     ]
    },
    {
     "name": "stdout",
     "output_type": "stream",
     "text": [
      "input_img.size():  torch.Size([3, 173, 255])\n",
      "resize2_img.size():  torch.Size([3, 44, 64])\n",
      "resize2_cut_img.size():  torch.Size([3, 44, 64])\n",
      "create_HrLr kernel_path:C:\\SaiVinay\\SproutsAI\\GitHub_\\ir_srgan_otsr\\results_kernels_DIV2K\\0068\\0068_kernel_x4.mat\n",
      "scale_factor:  [0.25, 0.25, 1]\n",
      "output_shape:  [44 64  3]\n",
      "im.shape:  (173, 255, 3)\n"
     ]
    },
    {
     "name": "stderr",
     "output_type": "stream",
     "text": [
      "Resizing images:   9%|▉         | 68/738 [00:13<02:25,  4.60it/s]"
     ]
    },
    {
     "name": "stdout",
     "output_type": "stream",
     "text": [
      "input_img.size():  torch.Size([3, 255, 156])\n",
      "resize2_img.size():  torch.Size([3, 64, 39])\n",
      "resize2_cut_img.size():  torch.Size([3, 64, 36])\n",
      "create_HrLr kernel_path:C:\\SaiVinay\\SproutsAI\\GitHub_\\ir_srgan_otsr\\results_kernels_DIV2K\\0069\\0069_kernel_x4.mat\n",
      "scale_factor:  [0.25, 0.25, 1]\n",
      "output_shape:  [64 39  3]\n",
      "im.shape:  (255, 156, 3)\n"
     ]
    },
    {
     "name": "stderr",
     "output_type": "stream",
     "text": [
      "Resizing images:   9%|▉         | 69/738 [00:13<02:27,  4.53it/s]"
     ]
    },
    {
     "name": "stdout",
     "output_type": "stream",
     "text": [
      "input_img.size():  torch.Size([3, 170, 255])\n",
      "resize2_img.size():  torch.Size([3, 43, 64])\n",
      "resize2_cut_img.size():  torch.Size([3, 40, 64])\n",
      "create_HrLr kernel_path:C:\\SaiVinay\\SproutsAI\\GitHub_\\ir_srgan_otsr\\results_kernels_DIV2K\\0070\\0070_kernel_x4.mat\n",
      "scale_factor:  [0.25, 0.25, 1]\n",
      "output_shape:  [43 64  3]\n",
      "im.shape:  (170, 255, 3)\n"
     ]
    },
    {
     "name": "stderr",
     "output_type": "stream",
     "text": [
      "Resizing images:   9%|▉         | 70/738 [00:13<02:28,  4.51it/s]"
     ]
    },
    {
     "name": "stdout",
     "output_type": "stream",
     "text": [
      "input_img.size():  torch.Size([3, 255, 170])\n",
      "resize2_img.size():  torch.Size([3, 64, 43])\n",
      "resize2_cut_img.size():  torch.Size([3, 64, 40])\n",
      "create_HrLr kernel_path:C:\\SaiVinay\\SproutsAI\\GitHub_\\ir_srgan_otsr\\results_kernels_DIV2K\\0071\\0071_kernel_x4.mat\n",
      "scale_factor:  [0.25, 0.25, 1]\n",
      "output_shape:  [64 43  3]\n",
      "im.shape:  (255, 170, 3)\n"
     ]
    },
    {
     "name": "stderr",
     "output_type": "stream",
     "text": [
      "Resizing images:  10%|▉         | 71/738 [00:13<02:26,  4.55it/s]"
     ]
    },
    {
     "name": "stdout",
     "output_type": "stream",
     "text": [
      "input_img.size():  torch.Size([3, 170, 255])\n",
      "resize2_img.size():  torch.Size([3, 43, 64])\n",
      "resize2_cut_img.size():  torch.Size([3, 40, 64])\n",
      "create_HrLr kernel_path:C:\\SaiVinay\\SproutsAI\\GitHub_\\ir_srgan_otsr\\results_kernels_DIV2K\\0072\\0072_kernel_x4.mat\n",
      "scale_factor:  [0.25, 0.25, 1]\n",
      "output_shape:  [43 64  3]\n",
      "im.shape:  (170, 255, 3)\n"
     ]
    },
    {
     "name": "stderr",
     "output_type": "stream",
     "text": [
      "Resizing images:  10%|▉         | 72/738 [00:13<02:25,  4.57it/s]"
     ]
    },
    {
     "name": "stdout",
     "output_type": "stream",
     "text": [
      "input_img.size():  torch.Size([3, 143, 255])\n",
      "resize2_img.size():  torch.Size([3, 36, 64])\n",
      "resize2_cut_img.size():  torch.Size([3, 36, 64])\n",
      "create_HrLr kernel_path:C:\\SaiVinay\\SproutsAI\\GitHub_\\ir_srgan_otsr\\results_kernels_DIV2K\\0073\\0073_kernel_x4.mat\n",
      "scale_factor:  [0.25, 0.25, 1]\n",
      "output_shape:  [36 64  3]\n",
      "im.shape:  (143, 255, 3)\n"
     ]
    },
    {
     "name": "stderr",
     "output_type": "stream",
     "text": [
      "Resizing images:  10%|█         | 74/738 [00:14<02:20,  4.74it/s]"
     ]
    },
    {
     "name": "stdout",
     "output_type": "stream",
     "text": [
      "input_img.size():  torch.Size([3, 170, 255])\n",
      "resize2_img.size():  torch.Size([3, 43, 64])\n",
      "resize2_cut_img.size():  torch.Size([3, 40, 64])\n",
      "create_HrLr kernel_path:C:\\SaiVinay\\SproutsAI\\GitHub_\\ir_srgan_otsr\\results_kernels_DIV2K\\0074\\0074_kernel_x4.mat\n",
      "scale_factor:  [0.25, 0.25, 1]\n",
      "output_shape:  [43 64  3]\n",
      "im.shape:  (170, 255, 3)\n"
     ]
    },
    {
     "name": "stderr",
     "output_type": "stream",
     "text": [
      "Resizing images:  10%|█         | 75/738 [00:14<02:16,  4.86it/s]"
     ]
    },
    {
     "name": "stdout",
     "output_type": "stream",
     "text": [
      "input_img.size():  torch.Size([3, 170, 255])\n",
      "resize2_img.size():  torch.Size([3, 43, 64])\n",
      "resize2_cut_img.size():  torch.Size([3, 40, 64])\n",
      "create_HrLr kernel_path:C:\\SaiVinay\\SproutsAI\\GitHub_\\ir_srgan_otsr\\results_kernels_DIV2K\\0075\\0075_kernel_x4.mat\n",
      "scale_factor:  [0.25, 0.25, 1]\n",
      "output_shape:  [43 64  3]\n",
      "im.shape:  (170, 255, 3)\n",
      "input_img.size():  torch.Size([3, 197, 255])\n",
      "resize2_img.size():  torch.Size([3, 50, 64])\n",
      "resize2_cut_img.size():  torch.Size([3, 48, 64])\n",
      "create_HrLr kernel_path:C:\\SaiVinay\\SproutsAI\\GitHub_\\ir_srgan_otsr\\results_kernels_DIV2K\\0076\\0076_kernel_x4.mat\n",
      "scale_factor:  [0.25, 0.25, 1]\n",
      "output_shape:  [50 64  3]\n",
      "im.shape:  (197, 255, 3)\n"
     ]
    },
    {
     "name": "stderr",
     "output_type": "stream",
     "text": [
      "Resizing images:  10%|█         | 76/738 [00:14<02:22,  4.64it/s]"
     ]
    },
    {
     "name": "stdout",
     "output_type": "stream",
     "text": [
      "input_img.size():  torch.Size([3, 170, 255])\n",
      "resize2_img.size():  torch.Size([3, 43, 64])\n",
      "resize2_cut_img.size():  torch.Size([3, 40, 64])\n",
      "create_HrLr kernel_path:C:\\SaiVinay\\SproutsAI\\GitHub_\\ir_srgan_otsr\\results_kernels_DIV2K\\0077\\0077_kernel_x4.mat\n",
      "scale_factor:  [0.25, 0.25, 1]\n",
      "output_shape:  [43 64  3]\n",
      "im.shape:  (170, 255, 3)\n"
     ]
    },
    {
     "name": "stderr",
     "output_type": "stream",
     "text": [
      "Resizing images:  10%|█         | 77/738 [00:15<02:23,  4.62it/s]"
     ]
    },
    {
     "name": "stdout",
     "output_type": "stream",
     "text": [
      "input_img.size():  torch.Size([3, 170, 255])\n",
      "resize2_img.size():  torch.Size([3, 43, 64])\n",
      "resize2_cut_img.size():  torch.Size([3, 40, 64])\n",
      "create_HrLr kernel_path:C:\\SaiVinay\\SproutsAI\\GitHub_\\ir_srgan_otsr\\results_kernels_DIV2K\\0078\\0078_kernel_x4.mat\n",
      "scale_factor:  [0.25, 0.25, 1]\n",
      "output_shape:  [43 64  3]\n",
      "im.shape:  (170, 255, 3)\n"
     ]
    },
    {
     "name": "stderr",
     "output_type": "stream",
     "text": [
      "Resizing images:  11%|█         | 78/738 [00:15<02:22,  4.62it/s]"
     ]
    },
    {
     "name": "stdout",
     "output_type": "stream",
     "text": [
      "input_img.size():  torch.Size([3, 170, 255])\n",
      "resize2_img.size():  torch.Size([3, 43, 64])\n",
      "resize2_cut_img.size():  torch.Size([3, 40, 64])\n",
      "create_HrLr kernel_path:C:\\SaiVinay\\SproutsAI\\GitHub_\\ir_srgan_otsr\\results_kernels_DIV2K\\0079\\0079_kernel_x4.mat\n",
      "scale_factor:  [0.25, 0.25, 1]\n",
      "output_shape:  [43 64  3]\n",
      "im.shape:  (170, 255, 3)\n"
     ]
    },
    {
     "name": "stderr",
     "output_type": "stream",
     "text": [
      "Resizing images:  11%|█         | 79/738 [00:15<02:22,  4.62it/s]"
     ]
    },
    {
     "name": "stdout",
     "output_type": "stream",
     "text": [
      "input_img.size():  torch.Size([3, 167, 255])\n",
      "resize2_img.size():  torch.Size([3, 42, 64])\n",
      "resize2_cut_img.size():  torch.Size([3, 40, 64])\n",
      "create_HrLr kernel_path:C:\\SaiVinay\\SproutsAI\\GitHub_\\ir_srgan_otsr\\results_kernels_DIV2K\\0080\\0080_kernel_x4.mat\n",
      "scale_factor:  [0.25, 0.25, 1]\n",
      "output_shape:  [42 64  3]\n",
      "im.shape:  (167, 255, 3)\n"
     ]
    },
    {
     "name": "stderr",
     "output_type": "stream",
     "text": [
      "Resizing images:  11%|█         | 80/738 [00:15<02:24,  4.55it/s]"
     ]
    },
    {
     "name": "stdout",
     "output_type": "stream",
     "text": [
      "input_img.size():  torch.Size([3, 170, 255])\n",
      "resize2_img.size():  torch.Size([3, 43, 64])\n",
      "resize2_cut_img.size():  torch.Size([3, 40, 64])\n",
      "create_HrLr kernel_path:C:\\SaiVinay\\SproutsAI\\GitHub_\\ir_srgan_otsr\\results_kernels_DIV2K\\0081\\0081_kernel_x4.mat\n",
      "scale_factor:  [0.25, 0.25, 1]\n",
      "output_shape:  [43 64  3]\n",
      "im.shape:  (170, 255, 3)\n"
     ]
    },
    {
     "name": "stderr",
     "output_type": "stream",
     "text": [
      "Resizing images:  11%|█         | 82/738 [00:16<02:17,  4.78it/s]"
     ]
    },
    {
     "name": "stdout",
     "output_type": "stream",
     "text": [
      "input_img.size():  torch.Size([3, 152, 255])\n",
      "resize2_img.size():  torch.Size([3, 38, 64])\n",
      "resize2_cut_img.size():  torch.Size([3, 36, 64])\n",
      "create_HrLr kernel_path:C:\\SaiVinay\\SproutsAI\\GitHub_\\ir_srgan_otsr\\results_kernels_DIV2K\\0082\\0082_kernel_x4.mat\n",
      "scale_factor:  [0.25, 0.25, 1]\n",
      "output_shape:  [38 64  3]\n",
      "im.shape:  (152, 255, 3)\n",
      "input_img.size():  torch.Size([3, 146, 255])\n",
      "resize2_img.size():  torch.Size([3, 37, 64])\n",
      "resize2_cut_img.size():  torch.Size([3, 36, 64])\n",
      "create_HrLr kernel_path:C:\\SaiVinay\\SproutsAI\\GitHub_\\ir_srgan_otsr\\results_kernels_DIV2K\\0083\\0083_kernel_x4.mat\n",
      "scale_factor:  [0.25, 0.25, 1]\n",
      "output_shape:  [37 64  3]\n",
      "im.shape:  (146, 255, 3)\n"
     ]
    },
    {
     "name": "stderr",
     "output_type": "stream",
     "text": [
      "Resizing images:  11%|█         | 83/738 [00:16<02:14,  4.88it/s]"
     ]
    },
    {
     "name": "stdout",
     "output_type": "stream",
     "text": [
      "input_img.size():  torch.Size([3, 171, 255])\n",
      "resize2_img.size():  torch.Size([3, 43, 64])\n",
      "resize2_cut_img.size():  torch.Size([3, 40, 64])\n",
      "create_HrLr kernel_path:C:\\SaiVinay\\SproutsAI\\GitHub_\\ir_srgan_otsr\\results_kernels_DIV2K\\0084\\0084_kernel_x4.mat\n",
      "scale_factor:  [0.25, 0.25, 1]\n",
      "output_shape:  [43 64  3]\n",
      "im.shape:  (171, 255, 3)\n"
     ]
    },
    {
     "name": "stderr",
     "output_type": "stream",
     "text": [
      "Resizing images:  12%|█▏        | 85/738 [00:16<02:11,  4.98it/s]"
     ]
    },
    {
     "name": "stdout",
     "output_type": "stream",
     "text": [
      "input_img.size():  torch.Size([3, 170, 255])\n",
      "resize2_img.size():  torch.Size([3, 43, 64])\n",
      "resize2_cut_img.size():  torch.Size([3, 40, 64])\n",
      "create_HrLr kernel_path:C:\\SaiVinay\\SproutsAI\\GitHub_\\ir_srgan_otsr\\results_kernels_DIV2K\\0085\\0085_kernel_x4.mat\n",
      "scale_factor:  [0.25, 0.25, 1]\n",
      "output_shape:  [43 64  3]\n",
      "im.shape:  (170, 255, 3)\n",
      "input_img.size():  torch.Size([3, 170, 255])\n",
      "resize2_img.size():  torch.Size([3, 43, 64])\n",
      "resize2_cut_img.size():  torch.Size([3, 40, 64])\n",
      "create_HrLr kernel_path:C:\\SaiVinay\\SproutsAI\\GitHub_\\ir_srgan_otsr\\results_kernels_DIV2K\\0086\\0086_kernel_x4.mat\n",
      "scale_factor:  [0.25, 0.25, 1]\n",
      "output_shape:  [43 64  3]\n",
      "im.shape:  (170, 255, 3)\n"
     ]
    },
    {
     "name": "stderr",
     "output_type": "stream",
     "text": [
      "Resizing images:  12%|█▏        | 86/738 [00:16<02:15,  4.81it/s]"
     ]
    },
    {
     "name": "stdout",
     "output_type": "stream",
     "text": [
      "input_img.size():  torch.Size([3, 170, 255])\n",
      "resize2_img.size():  torch.Size([3, 43, 64])\n",
      "resize2_cut_img.size():  torch.Size([3, 40, 64])\n",
      "create_HrLr kernel_path:C:\\SaiVinay\\SproutsAI\\GitHub_\\ir_srgan_otsr\\results_kernels_DIV2K\\0087\\0087_kernel_x4.mat\n",
      "scale_factor:  [0.25, 0.25, 1]\n",
      "output_shape:  [43 64  3]\n",
      "im.shape:  (170, 255, 3)\n"
     ]
    },
    {
     "name": "stderr",
     "output_type": "stream",
     "text": [
      "Resizing images:  12%|█▏        | 87/738 [00:17<02:17,  4.75it/s]"
     ]
    },
    {
     "name": "stdout",
     "output_type": "stream",
     "text": [
      "input_img.size():  torch.Size([3, 170, 255])\n",
      "resize2_img.size():  torch.Size([3, 43, 64])\n",
      "resize2_cut_img.size():  torch.Size([3, 40, 64])\n",
      "create_HrLr kernel_path:C:\\SaiVinay\\SproutsAI\\GitHub_\\ir_srgan_otsr\\results_kernels_DIV2K\\0088\\0088_kernel_x4.mat\n",
      "scale_factor:  [0.25, 0.25, 1]\n",
      "output_shape:  [43 64  3]\n",
      "im.shape:  (170, 255, 3)\n"
     ]
    },
    {
     "name": "stderr",
     "output_type": "stream",
     "text": [
      "Resizing images:  12%|█▏        | 88/738 [00:17<02:16,  4.77it/s]"
     ]
    },
    {
     "name": "stdout",
     "output_type": "stream",
     "text": [
      "input_img.size():  torch.Size([3, 255, 192])\n",
      "resize2_img.size():  torch.Size([3, 64, 48])\n",
      "resize2_cut_img.size():  torch.Size([3, 64, 48])\n",
      "create_HrLr kernel_path:C:\\SaiVinay\\SproutsAI\\GitHub_\\ir_srgan_otsr\\results_kernels_DIV2K\\0089\\0089_kernel_x4.mat\n",
      "scale_factor:  [0.25, 0.25, 1]\n",
      "output_shape:  [64 48  3]\n",
      "im.shape:  (255, 192, 3)\n"
     ]
    },
    {
     "name": "stderr",
     "output_type": "stream",
     "text": [
      "Resizing images:  12%|█▏        | 90/738 [00:17<02:19,  4.63it/s]"
     ]
    },
    {
     "name": "stdout",
     "output_type": "stream",
     "text": [
      "input_img.size():  torch.Size([3, 170, 255])\n",
      "resize2_img.size():  torch.Size([3, 43, 64])\n",
      "resize2_cut_img.size():  torch.Size([3, 40, 64])\n",
      "create_HrLr kernel_path:C:\\SaiVinay\\SproutsAI\\GitHub_\\ir_srgan_otsr\\results_kernels_DIV2K\\0090\\0090_kernel_x4.mat\n",
      "scale_factor:  [0.25, 0.25, 1]\n",
      "output_shape:  [43 64  3]\n",
      "im.shape:  (170, 255, 3)\n",
      "input_img.size():  torch.Size([3, 192, 255])\n",
      "resize2_img.size():  torch.Size([3, 48, 64])\n",
      "resize2_cut_img.size():  torch.Size([3, 48, 64])\n",
      "create_HrLr kernel_path:C:\\SaiVinay\\SproutsAI\\GitHub_\\ir_srgan_otsr\\results_kernels_DIV2K\\0091\\0091_kernel_x4.mat\n",
      "scale_factor:  [0.25, 0.25, 1]\n",
      "output_shape:  [48 64  3]\n",
      "im.shape:  (192, 255, 3)\n"
     ]
    },
    {
     "name": "stderr",
     "output_type": "stream",
     "text": [
      "Resizing images:  12%|█▏        | 92/738 [00:18<02:15,  4.77it/s]"
     ]
    },
    {
     "name": "stdout",
     "output_type": "stream",
     "text": [
      "input_img.size():  torch.Size([3, 144, 255])\n",
      "resize2_img.size():  torch.Size([3, 36, 64])\n",
      "resize2_cut_img.size():  torch.Size([3, 36, 64])\n",
      "create_HrLr kernel_path:C:\\SaiVinay\\SproutsAI\\GitHub_\\ir_srgan_otsr\\results_kernels_DIV2K\\0092\\0092_kernel_x4.mat\n",
      "scale_factor:  [0.25, 0.25, 1]\n",
      "output_shape:  [36 64  3]\n",
      "im.shape:  (144, 255, 3)\n",
      "input_img.size():  torch.Size([3, 171, 255])\n",
      "resize2_img.size():  torch.Size([3, 43, 64])\n",
      "resize2_cut_img.size():  torch.Size([3, 40, 64])\n",
      "create_HrLr kernel_path:C:\\SaiVinay\\SproutsAI\\GitHub_\\ir_srgan_otsr\\results_kernels_DIV2K\\0093\\0093_kernel_x4.mat\n",
      "scale_factor:  [0.25, 0.25, 1]\n",
      "output_shape:  [43 64  3]\n",
      "im.shape:  (171, 255, 3)\n"
     ]
    },
    {
     "name": "stderr",
     "output_type": "stream",
     "text": [
      "Resizing images:  13%|█▎        | 93/738 [00:18<02:17,  4.70it/s]"
     ]
    },
    {
     "name": "stdout",
     "output_type": "stream",
     "text": [
      "input_img.size():  torch.Size([3, 159, 255])\n",
      "resize2_img.size():  torch.Size([3, 40, 64])\n",
      "resize2_cut_img.size():  torch.Size([3, 40, 64])\n",
      "create_HrLr kernel_path:C:\\SaiVinay\\SproutsAI\\GitHub_\\ir_srgan_otsr\\results_kernels_DIV2K\\0094\\0094_kernel_x4.mat\n",
      "scale_factor:  [0.25, 0.25, 1]\n",
      "output_shape:  [40 64  3]\n",
      "im.shape:  (159, 255, 3)\n"
     ]
    },
    {
     "name": "stderr",
     "output_type": "stream",
     "text": [
      "Resizing images:  13%|█▎        | 94/738 [00:18<02:47,  3.84it/s]"
     ]
    },
    {
     "name": "stdout",
     "output_type": "stream",
     "text": [
      "input_img.size():  torch.Size([3, 170, 255])\n",
      "resize2_img.size():  torch.Size([3, 43, 64])\n",
      "resize2_cut_img.size():  torch.Size([3, 40, 64])\n",
      "create_HrLr kernel_path:C:\\SaiVinay\\SproutsAI\\GitHub_\\ir_srgan_otsr\\results_kernels_DIV2K\\0095\\0095_kernel_x4.mat\n",
      "scale_factor:  [0.25, 0.25, 1]\n",
      "output_shape:  [43 64  3]\n",
      "im.shape:  (170, 255, 3)\n"
     ]
    },
    {
     "name": "stderr",
     "output_type": "stream",
     "text": [
      "Resizing images:  13%|█▎        | 95/738 [00:19<02:54,  3.68it/s]"
     ]
    },
    {
     "name": "stdout",
     "output_type": "stream",
     "text": [
      "input_img.size():  torch.Size([3, 170, 255])\n",
      "resize2_img.size():  torch.Size([3, 43, 64])\n",
      "resize2_cut_img.size():  torch.Size([3, 40, 64])\n",
      "create_HrLr kernel_path:C:\\SaiVinay\\SproutsAI\\GitHub_\\ir_srgan_otsr\\results_kernels_DIV2K\\0096\\0096_kernel_x4.mat\n",
      "scale_factor:  [0.25, 0.25, 1]\n",
      "output_shape:  [43 64  3]\n",
      "im.shape:  (170, 255, 3)\n"
     ]
    },
    {
     "name": "stderr",
     "output_type": "stream",
     "text": [
      "Resizing images:  13%|█▎        | 96/738 [00:19<02:53,  3.70it/s]"
     ]
    },
    {
     "name": "stdout",
     "output_type": "stream",
     "text": [
      "input_img.size():  torch.Size([3, 149, 255])\n",
      "resize2_img.size():  torch.Size([3, 38, 64])\n",
      "resize2_cut_img.size():  torch.Size([3, 36, 64])\n",
      "create_HrLr kernel_path:C:\\SaiVinay\\SproutsAI\\GitHub_\\ir_srgan_otsr\\results_kernels_DIV2K\\0097\\0097_kernel_x4.mat\n",
      "scale_factor:  [0.25, 0.25, 1]\n",
      "output_shape:  [38 64  3]\n",
      "im.shape:  (149, 255, 3)\n"
     ]
    },
    {
     "name": "stderr",
     "output_type": "stream",
     "text": [
      "Resizing images:  13%|█▎        | 97/738 [00:19<02:57,  3.61it/s]"
     ]
    },
    {
     "name": "stdout",
     "output_type": "stream",
     "text": [
      "input_img.size():  torch.Size([3, 192, 255])\n",
      "resize2_img.size():  torch.Size([3, 48, 64])\n",
      "resize2_cut_img.size():  torch.Size([3, 48, 64])\n",
      "create_HrLr kernel_path:C:\\SaiVinay\\SproutsAI\\GitHub_\\ir_srgan_otsr\\results_kernels_DIV2K\\0098\\0098_kernel_x4.mat\n",
      "scale_factor:  [0.25, 0.25, 1]\n",
      "output_shape:  [48 64  3]\n",
      "im.shape:  (192, 255, 3)\n"
     ]
    },
    {
     "name": "stderr",
     "output_type": "stream",
     "text": [
      "Resizing images:  13%|█▎        | 98/738 [00:20<03:14,  3.29it/s]"
     ]
    },
    {
     "name": "stdout",
     "output_type": "stream",
     "text": [
      "input_img.size():  torch.Size([3, 192, 255])\n",
      "resize2_img.size():  torch.Size([3, 48, 64])\n",
      "resize2_cut_img.size():  torch.Size([3, 48, 64])\n",
      "create_HrLr kernel_path:C:\\SaiVinay\\SproutsAI\\GitHub_\\ir_srgan_otsr\\results_kernels_DIV2K\\0099\\0099_kernel_x4.mat\n",
      "scale_factor:  [0.25, 0.25, 1]\n",
      "output_shape:  [48 64  3]\n",
      "im.shape:  (192, 255, 3)\n"
     ]
    },
    {
     "name": "stderr",
     "output_type": "stream",
     "text": [
      "Resizing images:  13%|█▎        | 99/738 [00:20<03:18,  3.23it/s]"
     ]
    },
    {
     "name": "stdout",
     "output_type": "stream",
     "text": [
      "input_img.size():  torch.Size([3, 170, 255])\n",
      "resize2_img.size():  torch.Size([3, 43, 64])\n",
      "resize2_cut_img.size():  torch.Size([3, 40, 64])\n",
      "create_HrLr kernel_path:C:\\SaiVinay\\SproutsAI\\GitHub_\\ir_srgan_otsr\\results_kernels_DIV2K\\0100\\0100_kernel_x4.mat\n",
      "scale_factor:  [0.25, 0.25, 1]\n",
      "output_shape:  [43 64  3]\n",
      "im.shape:  (170, 255, 3)\n"
     ]
    },
    {
     "name": "stderr",
     "output_type": "stream",
     "text": [
      "Resizing images:  14%|█▎        | 100/738 [00:20<03:18,  3.21it/s]"
     ]
    },
    {
     "name": "stdout",
     "output_type": "stream",
     "text": [
      "input_img.size():  torch.Size([3, 189, 255])\n",
      "resize2_img.size():  torch.Size([3, 48, 64])\n",
      "resize2_cut_img.size():  torch.Size([3, 48, 64])\n",
      "create_HrLr kernel_path:C:\\SaiVinay\\SproutsAI\\GitHub_\\ir_srgan_otsr\\results_kernels_DIV2K\\0101\\0101_kernel_x4.mat\n",
      "scale_factor:  [0.25, 0.25, 1]\n",
      "output_shape:  [48 64  3]\n",
      "im.shape:  (189, 255, 3)\n"
     ]
    },
    {
     "name": "stderr",
     "output_type": "stream",
     "text": [
      "Resizing images:  14%|█▎        | 101/738 [00:20<03:21,  3.17it/s]"
     ]
    },
    {
     "name": "stdout",
     "output_type": "stream",
     "text": [
      "input_img.size():  torch.Size([3, 171, 255])\n",
      "resize2_img.size():  torch.Size([3, 43, 64])\n",
      "resize2_cut_img.size():  torch.Size([3, 40, 64])\n",
      "create_HrLr kernel_path:C:\\SaiVinay\\SproutsAI\\GitHub_\\ir_srgan_otsr\\results_kernels_DIV2K\\0102\\0102_kernel_x4.mat\n",
      "scale_factor:  [0.25, 0.25, 1]\n",
      "output_shape:  [43 64  3]\n",
      "im.shape:  (171, 255, 3)\n"
     ]
    },
    {
     "name": "stderr",
     "output_type": "stream",
     "text": [
      "Resizing images:  14%|█▍        | 103/738 [00:21<02:47,  3.78it/s]"
     ]
    },
    {
     "name": "stdout",
     "output_type": "stream",
     "text": [
      "input_img.size():  torch.Size([3, 143, 255])\n",
      "resize2_img.size():  torch.Size([3, 36, 64])\n",
      "resize2_cut_img.size():  torch.Size([3, 36, 64])\n",
      "create_HrLr kernel_path:C:\\SaiVinay\\SproutsAI\\GitHub_\\ir_srgan_otsr\\results_kernels_DIV2K\\0103\\0103_kernel_x4.mat\n",
      "scale_factor:  [0.25, 0.25, 1]\n",
      "output_shape:  [36 64  3]\n",
      "im.shape:  (143, 255, 3)\n",
      "input_img.size():  torch.Size([3, 165, 255])\n",
      "resize2_img.size():  torch.Size([3, 42, 64])\n",
      "resize2_cut_img.size():  torch.Size([3, 40, 64])\n",
      "create_HrLr kernel_path:C:\\SaiVinay\\SproutsAI\\GitHub_\\ir_srgan_otsr\\results_kernels_DIV2K\\0104\\0104_kernel_x4.mat\n",
      "scale_factor:  [0.25, 0.25, 1]\n",
      "output_shape:  [42 64  3]\n",
      "im.shape:  (165, 255, 3)\n"
     ]
    },
    {
     "name": "stderr",
     "output_type": "stream",
     "text": [
      "Resizing images:  14%|█▍        | 104/738 [00:21<02:43,  3.88it/s]"
     ]
    },
    {
     "name": "stdout",
     "output_type": "stream",
     "text": [
      "input_img.size():  torch.Size([3, 162, 255])\n",
      "resize2_img.size():  torch.Size([3, 41, 64])\n",
      "resize2_cut_img.size():  torch.Size([3, 40, 64])\n",
      "create_HrLr kernel_path:C:\\SaiVinay\\SproutsAI\\GitHub_\\ir_srgan_otsr\\results_kernels_DIV2K\\0105\\0105_kernel_x4.mat\n",
      "scale_factor:  [0.25, 0.25, 1]\n",
      "output_shape:  [41 64  3]\n",
      "im.shape:  (162, 255, 3)\n"
     ]
    },
    {
     "name": "stderr",
     "output_type": "stream",
     "text": [
      "Resizing images:  14%|█▍        | 106/738 [00:22<02:29,  4.22it/s]"
     ]
    },
    {
     "name": "stdout",
     "output_type": "stream",
     "text": [
      "input_img.size():  torch.Size([3, 144, 255])\n",
      "resize2_img.size():  torch.Size([3, 36, 64])\n",
      "resize2_cut_img.size():  torch.Size([3, 36, 64])\n",
      "create_HrLr kernel_path:C:\\SaiVinay\\SproutsAI\\GitHub_\\ir_srgan_otsr\\results_kernels_DIV2K\\0106\\0106_kernel_x4.mat\n",
      "scale_factor:  [0.25, 0.25, 1]\n",
      "output_shape:  [36 64  3]\n",
      "im.shape:  (144, 255, 3)\n",
      "input_img.size():  torch.Size([3, 170, 255])\n",
      "resize2_img.size():  torch.Size([3, 43, 64])\n",
      "resize2_cut_img.size():  torch.Size([3, 40, 64])\n",
      "create_HrLr kernel_path:C:\\SaiVinay\\SproutsAI\\GitHub_\\ir_srgan_otsr\\results_kernels_DIV2K\\0107\\0107_kernel_x4.mat\n",
      "scale_factor:  [0.25, 0.25, 1]\n",
      "output_shape:  [43 64  3]\n",
      "im.shape:  (170, 255, 3)\n"
     ]
    },
    {
     "name": "stderr",
     "output_type": "stream",
     "text": [
      "Resizing images:  14%|█▍        | 107/738 [00:22<02:31,  4.16it/s]"
     ]
    },
    {
     "name": "stdout",
     "output_type": "stream",
     "text": [
      "input_img.size():  torch.Size([3, 192, 255])\n",
      "resize2_img.size():  torch.Size([3, 48, 64])\n",
      "resize2_cut_img.size():  torch.Size([3, 48, 64])\n",
      "create_HrLr kernel_path:C:\\SaiVinay\\SproutsAI\\GitHub_\\ir_srgan_otsr\\results_kernels_DIV2K\\0108\\0108_kernel_x4.mat\n",
      "scale_factor:  [0.25, 0.25, 1]\n",
      "output_shape:  [48 64  3]\n",
      "im.shape:  (192, 255, 3)\n"
     ]
    },
    {
     "name": "stderr",
     "output_type": "stream",
     "text": [
      "Resizing images:  15%|█▍        | 108/738 [00:22<02:34,  4.07it/s]"
     ]
    },
    {
     "name": "stdout",
     "output_type": "stream",
     "text": [
      "input_img.size():  torch.Size([3, 170, 255])\n",
      "resize2_img.size():  torch.Size([3, 43, 64])\n",
      "resize2_cut_img.size():  torch.Size([3, 40, 64])\n",
      "create_HrLr kernel_path:C:\\SaiVinay\\SproutsAI\\GitHub_\\ir_srgan_otsr\\results_kernels_DIV2K\\0109\\0109_kernel_x4.mat\n",
      "scale_factor:  [0.25, 0.25, 1]\n",
      "output_shape:  [43 64  3]\n",
      "im.shape:  (170, 255, 3)\n"
     ]
    },
    {
     "name": "stderr",
     "output_type": "stream",
     "text": [
      "Resizing images:  15%|█▍        | 109/738 [00:22<02:29,  4.20it/s]"
     ]
    },
    {
     "name": "stdout",
     "output_type": "stream",
     "text": [
      "input_img.size():  torch.Size([3, 170, 255])\n",
      "resize2_img.size():  torch.Size([3, 43, 64])\n",
      "resize2_cut_img.size():  torch.Size([3, 40, 64])\n",
      "create_HrLr kernel_path:C:\\SaiVinay\\SproutsAI\\GitHub_\\ir_srgan_otsr\\results_kernels_DIV2K\\0110\\0110_kernel_x4.mat\n",
      "scale_factor:  [0.25, 0.25, 1]\n",
      "output_shape:  [43 64  3]\n",
      "im.shape:  (170, 255, 3)\n"
     ]
    },
    {
     "name": "stderr",
     "output_type": "stream",
     "text": [
      "Resizing images:  15%|█▍        | 110/738 [00:23<02:25,  4.32it/s]"
     ]
    },
    {
     "name": "stdout",
     "output_type": "stream",
     "text": [
      "input_img.size():  torch.Size([3, 170, 255])\n",
      "resize2_img.size():  torch.Size([3, 43, 64])\n",
      "resize2_cut_img.size():  torch.Size([3, 40, 64])\n",
      "create_HrLr kernel_path:C:\\SaiVinay\\SproutsAI\\GitHub_\\ir_srgan_otsr\\results_kernels_DIV2K\\0111\\0111_kernel_x4.mat\n",
      "scale_factor:  [0.25, 0.25, 1]\n",
      "output_shape:  [43 64  3]\n",
      "im.shape:  (170, 255, 3)\n"
     ]
    },
    {
     "name": "stderr",
     "output_type": "stream",
     "text": [
      "Resizing images:  15%|█▌        | 111/738 [00:23<02:27,  4.24it/s]"
     ]
    },
    {
     "name": "stdout",
     "output_type": "stream",
     "text": [
      "input_img.size():  torch.Size([3, 255, 170])\n",
      "resize2_img.size():  torch.Size([3, 64, 43])\n",
      "resize2_cut_img.size():  torch.Size([3, 64, 40])\n",
      "create_HrLr kernel_path:C:\\SaiVinay\\SproutsAI\\GitHub_\\ir_srgan_otsr\\results_kernels_DIV2K\\0112\\0112_kernel_x4.mat\n",
      "scale_factor:  [0.25, 0.25, 1]\n",
      "output_shape:  [64 43  3]\n",
      "im.shape:  (255, 170, 3)\n"
     ]
    },
    {
     "name": "stderr",
     "output_type": "stream",
     "text": [
      "Resizing images:  15%|█▌        | 112/738 [00:23<02:30,  4.15it/s]"
     ]
    },
    {
     "name": "stdout",
     "output_type": "stream",
     "text": [
      "input_img.size():  torch.Size([3, 171, 255])\n",
      "resize2_img.size():  torch.Size([3, 43, 64])\n",
      "resize2_cut_img.size():  torch.Size([3, 40, 64])\n",
      "create_HrLr kernel_path:C:\\SaiVinay\\SproutsAI\\GitHub_\\ir_srgan_otsr\\results_kernels_DIV2K\\0113\\0113_kernel_x4.mat\n",
      "scale_factor:  [0.25, 0.25, 1]\n",
      "output_shape:  [43 64  3]\n",
      "im.shape:  (171, 255, 3)\n"
     ]
    },
    {
     "name": "stderr",
     "output_type": "stream",
     "text": [
      "Resizing images:  15%|█▌        | 113/738 [00:23<02:32,  4.11it/s]"
     ]
    },
    {
     "name": "stdout",
     "output_type": "stream",
     "text": [
      "input_img.size():  torch.Size([3, 255, 171])\n",
      "resize2_img.size():  torch.Size([3, 64, 43])\n",
      "resize2_cut_img.size():  torch.Size([3, 64, 40])\n",
      "create_HrLr kernel_path:C:\\SaiVinay\\SproutsAI\\GitHub_\\ir_srgan_otsr\\results_kernels_DIV2K\\0114\\0114_kernel_x4.mat\n",
      "scale_factor:  [0.25, 0.25, 1]\n",
      "output_shape:  [64 43  3]\n",
      "im.shape:  (255, 171, 3)\n"
     ]
    },
    {
     "name": "stderr",
     "output_type": "stream",
     "text": [
      "Resizing images:  15%|█▌        | 114/738 [00:24<02:32,  4.10it/s]"
     ]
    },
    {
     "name": "stdout",
     "output_type": "stream",
     "text": [
      "input_img.size():  torch.Size([3, 192, 255])\n",
      "resize2_img.size():  torch.Size([3, 48, 64])\n",
      "resize2_cut_img.size():  torch.Size([3, 48, 64])\n",
      "create_HrLr kernel_path:C:\\SaiVinay\\SproutsAI\\GitHub_\\ir_srgan_otsr\\results_kernels_DIV2K\\0115\\0115_kernel_x4.mat\n",
      "scale_factor:  [0.25, 0.25, 1]\n",
      "output_shape:  [48 64  3]\n",
      "im.shape:  (192, 255, 3)\n"
     ]
    },
    {
     "name": "stderr",
     "output_type": "stream",
     "text": [
      "Resizing images:  16%|█▌        | 115/738 [00:24<02:30,  4.15it/s]"
     ]
    },
    {
     "name": "stdout",
     "output_type": "stream",
     "text": [
      "input_img.size():  torch.Size([3, 170, 255])\n",
      "resize2_img.size():  torch.Size([3, 43, 64])\n",
      "resize2_cut_img.size():  torch.Size([3, 40, 64])\n",
      "create_HrLr kernel_path:C:\\SaiVinay\\SproutsAI\\GitHub_\\ir_srgan_otsr\\results_kernels_DIV2K\\0116\\0116_kernel_x4.mat\n",
      "scale_factor:  [0.25, 0.25, 1]\n",
      "output_shape:  [43 64  3]\n",
      "im.shape:  (170, 255, 3)\n"
     ]
    },
    {
     "name": "stderr",
     "output_type": "stream",
     "text": [
      "Resizing images:  16%|█▌        | 116/738 [00:24<02:28,  4.19it/s]"
     ]
    },
    {
     "name": "stdout",
     "output_type": "stream",
     "text": [
      "input_img.size():  torch.Size([3, 170, 255])\n",
      "resize2_img.size():  torch.Size([3, 43, 64])\n",
      "resize2_cut_img.size():  torch.Size([3, 40, 64])\n",
      "create_HrLr kernel_path:C:\\SaiVinay\\SproutsAI\\GitHub_\\ir_srgan_otsr\\results_kernels_DIV2K\\0117\\0117_kernel_x4.mat\n",
      "scale_factor:  [0.25, 0.25, 1]\n",
      "output_shape:  [43 64  3]\n",
      "im.shape:  (170, 255, 3)\n"
     ]
    },
    {
     "name": "stderr",
     "output_type": "stream",
     "text": [
      "Resizing images:  16%|█▌        | 117/738 [00:24<02:29,  4.16it/s]"
     ]
    },
    {
     "name": "stdout",
     "output_type": "stream",
     "text": [
      "input_img.size():  torch.Size([3, 186, 255])\n",
      "resize2_img.size():  torch.Size([3, 47, 64])\n",
      "resize2_cut_img.size():  torch.Size([3, 44, 64])\n",
      "create_HrLr kernel_path:C:\\SaiVinay\\SproutsAI\\GitHub_\\ir_srgan_otsr\\results_kernels_DIV2K\\0118\\0118_kernel_x4.mat\n",
      "scale_factor:  [0.25, 0.25, 1]\n",
      "output_shape:  [47 64  3]\n",
      "im.shape:  (186, 255, 3)\n"
     ]
    },
    {
     "name": "stderr",
     "output_type": "stream",
     "text": [
      "Resizing images:  16%|█▌        | 118/738 [00:24<02:27,  4.20it/s]"
     ]
    },
    {
     "name": "stdout",
     "output_type": "stream",
     "text": [
      "input_img.size():  torch.Size([3, 255, 170])\n",
      "resize2_img.size():  torch.Size([3, 64, 43])\n",
      "resize2_cut_img.size():  torch.Size([3, 64, 40])\n",
      "create_HrLr kernel_path:C:\\SaiVinay\\SproutsAI\\GitHub_\\ir_srgan_otsr\\results_kernels_DIV2K\\0119\\0119_kernel_x4.mat\n",
      "scale_factor:  [0.25, 0.25, 1]\n",
      "output_shape:  [64 43  3]\n",
      "im.shape:  (255, 170, 3)\n"
     ]
    },
    {
     "name": "stderr",
     "output_type": "stream",
     "text": [
      "Resizing images:  16%|█▌        | 119/738 [00:25<02:24,  4.30it/s]"
     ]
    },
    {
     "name": "stdout",
     "output_type": "stream",
     "text": [
      "input_img.size():  torch.Size([3, 170, 255])\n",
      "resize2_img.size():  torch.Size([3, 43, 64])\n",
      "resize2_cut_img.size():  torch.Size([3, 40, 64])\n",
      "create_HrLr kernel_path:C:\\SaiVinay\\SproutsAI\\GitHub_\\ir_srgan_otsr\\results_kernels_DIV2K\\0120\\0120_kernel_x4.mat\n",
      "scale_factor:  [0.25, 0.25, 1]\n",
      "output_shape:  [43 64  3]\n",
      "im.shape:  (170, 255, 3)\n"
     ]
    },
    {
     "name": "stderr",
     "output_type": "stream",
     "text": [
      "Resizing images:  16%|█▋        | 120/738 [00:25<02:23,  4.31it/s]"
     ]
    },
    {
     "name": "stdout",
     "output_type": "stream",
     "text": [
      "input_img.size():  torch.Size([3, 170, 255])\n",
      "resize2_img.size():  torch.Size([3, 43, 64])\n",
      "resize2_cut_img.size():  torch.Size([3, 40, 64])\n",
      "create_HrLr kernel_path:C:\\SaiVinay\\SproutsAI\\GitHub_\\ir_srgan_otsr\\results_kernels_DIV2K\\0121\\0121_kernel_x4.mat\n",
      "scale_factor:  [0.25, 0.25, 1]\n",
      "output_shape:  [43 64  3]\n",
      "im.shape:  (170, 255, 3)\n"
     ]
    },
    {
     "name": "stderr",
     "output_type": "stream",
     "text": [
      "Resizing images:  16%|█▋        | 121/738 [00:25<02:37,  3.93it/s]"
     ]
    },
    {
     "name": "stdout",
     "output_type": "stream",
     "text": [
      "input_img.size():  torch.Size([3, 120, 255])\n",
      "resize2_img.size():  torch.Size([3, 30, 64])\n",
      "resize2_cut_img.size():  torch.Size([3, 28, 64])\n",
      "create_HrLr kernel_path:C:\\SaiVinay\\SproutsAI\\GitHub_\\ir_srgan_otsr\\results_kernels_DIV2K\\0122\\0122_kernel_x4.mat\n",
      "scale_factor:  [0.25, 0.25, 1]\n",
      "output_shape:  [30 64  3]\n",
      "im.shape:  (120, 255, 3)\n"
     ]
    },
    {
     "name": "stderr",
     "output_type": "stream",
     "text": [
      "Resizing images:  17%|█▋        | 122/738 [00:26<02:38,  3.89it/s]"
     ]
    },
    {
     "name": "stdout",
     "output_type": "stream",
     "text": [
      "input_img.size():  torch.Size([3, 192, 255])\n",
      "resize2_img.size():  torch.Size([3, 48, 64])\n",
      "resize2_cut_img.size():  torch.Size([3, 48, 64])\n",
      "create_HrLr kernel_path:C:\\SaiVinay\\SproutsAI\\GitHub_\\ir_srgan_otsr\\results_kernels_DIV2K\\0123\\0123_kernel_x4.mat\n",
      "scale_factor:  [0.25, 0.25, 1]\n",
      "output_shape:  [48 64  3]\n",
      "im.shape:  (192, 255, 3)\n"
     ]
    },
    {
     "name": "stderr",
     "output_type": "stream",
     "text": [
      "Resizing images:  17%|█▋        | 123/738 [00:26<02:43,  3.75it/s]"
     ]
    },
    {
     "name": "stdout",
     "output_type": "stream",
     "text": [
      "input_img.size():  torch.Size([3, 255, 170])\n",
      "resize2_img.size():  torch.Size([3, 64, 43])\n",
      "resize2_cut_img.size():  torch.Size([3, 64, 40])\n",
      "create_HrLr kernel_path:C:\\SaiVinay\\SproutsAI\\GitHub_\\ir_srgan_otsr\\results_kernels_DIV2K\\0124\\0124_kernel_x4.mat\n",
      "scale_factor:  [0.25, 0.25, 1]\n",
      "output_shape:  [64 43  3]\n",
      "im.shape:  (255, 170, 3)\n"
     ]
    },
    {
     "name": "stderr",
     "output_type": "stream",
     "text": [
      "Resizing images:  17%|█▋        | 124/738 [00:26<02:40,  3.82it/s]"
     ]
    },
    {
     "name": "stdout",
     "output_type": "stream",
     "text": [
      "input_img.size():  torch.Size([3, 170, 255])\n",
      "resize2_img.size():  torch.Size([3, 43, 64])\n",
      "resize2_cut_img.size():  torch.Size([3, 40, 64])\n",
      "create_HrLr kernel_path:C:\\SaiVinay\\SproutsAI\\GitHub_\\ir_srgan_otsr\\results_kernels_DIV2K\\0125\\0125_kernel_x4.mat\n",
      "scale_factor:  [0.25, 0.25, 1]\n",
      "output_shape:  [43 64  3]\n",
      "im.shape:  (170, 255, 3)\n"
     ]
    },
    {
     "name": "stderr",
     "output_type": "stream",
     "text": [
      "Resizing images:  17%|█▋        | 125/738 [00:26<02:38,  3.87it/s]"
     ]
    },
    {
     "name": "stdout",
     "output_type": "stream",
     "text": [
      "input_img.size():  torch.Size([3, 183, 255])\n",
      "resize2_img.size():  torch.Size([3, 46, 64])\n",
      "resize2_cut_img.size():  torch.Size([3, 44, 64])\n",
      "create_HrLr kernel_path:C:\\SaiVinay\\SproutsAI\\GitHub_\\ir_srgan_otsr\\results_kernels_DIV2K\\0126\\0126_kernel_x4.mat\n",
      "scale_factor:  [0.25, 0.25, 1]\n",
      "output_shape:  [46 64  3]\n",
      "im.shape:  (183, 255, 3)\n"
     ]
    },
    {
     "name": "stderr",
     "output_type": "stream",
     "text": [
      "Resizing images:  17%|█▋        | 126/738 [00:27<02:32,  4.01it/s]"
     ]
    },
    {
     "name": "stdout",
     "output_type": "stream",
     "text": [
      "input_img.size():  torch.Size([3, 170, 255])\n",
      "resize2_img.size():  torch.Size([3, 43, 64])\n",
      "resize2_cut_img.size():  torch.Size([3, 40, 64])\n",
      "create_HrLr kernel_path:C:\\SaiVinay\\SproutsAI\\GitHub_\\ir_srgan_otsr\\results_kernels_DIV2K\\0127\\0127_kernel_x4.mat\n",
      "scale_factor:  [0.25, 0.25, 1]\n",
      "output_shape:  [43 64  3]\n",
      "im.shape:  (170, 255, 3)\n"
     ]
    },
    {
     "name": "stderr",
     "output_type": "stream",
     "text": [
      "Resizing images:  17%|█▋        | 127/738 [00:27<02:29,  4.09it/s]"
     ]
    },
    {
     "name": "stdout",
     "output_type": "stream",
     "text": [
      "input_img.size():  torch.Size([3, 161, 255])\n",
      "resize2_img.size():  torch.Size([3, 41, 64])\n",
      "resize2_cut_img.size():  torch.Size([3, 40, 64])\n",
      "create_HrLr kernel_path:C:\\SaiVinay\\SproutsAI\\GitHub_\\ir_srgan_otsr\\results_kernels_DIV2K\\0128\\0128_kernel_x4.mat\n",
      "scale_factor:  [0.25, 0.25, 1]\n",
      "output_shape:  [41 64  3]\n",
      "im.shape:  (161, 255, 3)\n"
     ]
    },
    {
     "name": "stderr",
     "output_type": "stream",
     "text": [
      "Resizing images:  17%|█▋        | 128/738 [00:27<02:23,  4.26it/s]"
     ]
    },
    {
     "name": "stdout",
     "output_type": "stream",
     "text": [
      "input_img.size():  torch.Size([3, 170, 255])\n",
      "resize2_img.size():  torch.Size([3, 43, 64])\n",
      "resize2_cut_img.size():  torch.Size([3, 40, 64])\n",
      "create_HrLr kernel_path:C:\\SaiVinay\\SproutsAI\\GitHub_\\ir_srgan_otsr\\results_kernels_DIV2K\\0129\\0129_kernel_x4.mat\n",
      "scale_factor:  [0.25, 0.25, 1]\n",
      "output_shape:  [43 64  3]\n",
      "im.shape:  (170, 255, 3)\n"
     ]
    },
    {
     "name": "stderr",
     "output_type": "stream",
     "text": [
      "Resizing images:  17%|█▋        | 129/738 [00:27<02:21,  4.30it/s]"
     ]
    },
    {
     "name": "stdout",
     "output_type": "stream",
     "text": [
      "input_img.size():  torch.Size([3, 170, 255])\n",
      "resize2_img.size():  torch.Size([3, 43, 64])\n",
      "resize2_cut_img.size():  torch.Size([3, 40, 64])\n",
      "create_HrLr kernel_path:C:\\SaiVinay\\SproutsAI\\GitHub_\\ir_srgan_otsr\\results_kernels_DIV2K\\0130\\0130_kernel_x4.mat\n",
      "scale_factor:  [0.25, 0.25, 1]\n",
      "output_shape:  [43 64  3]\n",
      "im.shape:  (170, 255, 3)\n"
     ]
    },
    {
     "name": "stderr",
     "output_type": "stream",
     "text": [
      "Resizing images:  18%|█▊        | 130/738 [00:27<02:18,  4.38it/s]"
     ]
    },
    {
     "name": "stdout",
     "output_type": "stream",
     "text": [
      "input_img.size():  torch.Size([3, 170, 255])\n",
      "resize2_img.size():  torch.Size([3, 43, 64])\n",
      "resize2_cut_img.size():  torch.Size([3, 40, 64])\n",
      "create_HrLr kernel_path:C:\\SaiVinay\\SproutsAI\\GitHub_\\ir_srgan_otsr\\results_kernels_DIV2K\\0131\\0131_kernel_x4.mat\n",
      "scale_factor:  [0.25, 0.25, 1]\n",
      "output_shape:  [43 64  3]\n",
      "im.shape:  (170, 255, 3)\n"
     ]
    },
    {
     "name": "stderr",
     "output_type": "stream",
     "text": [
      "Resizing images:  18%|█▊        | 131/738 [00:28<02:16,  4.44it/s]"
     ]
    },
    {
     "name": "stdout",
     "output_type": "stream",
     "text": [
      "input_img.size():  torch.Size([3, 162, 255])\n",
      "resize2_img.size():  torch.Size([3, 41, 64])\n",
      "resize2_cut_img.size():  torch.Size([3, 40, 64])\n",
      "create_HrLr kernel_path:C:\\SaiVinay\\SproutsAI\\GitHub_\\ir_srgan_otsr\\results_kernels_DIV2K\\0132\\0132_kernel_x4.mat\n",
      "scale_factor:  [0.25, 0.25, 1]\n",
      "output_shape:  [41 64  3]\n",
      "im.shape:  (162, 255, 3)\n"
     ]
    },
    {
     "name": "stderr",
     "output_type": "stream",
     "text": [
      "Resizing images:  18%|█▊        | 133/738 [00:28<02:13,  4.55it/s]"
     ]
    },
    {
     "name": "stdout",
     "output_type": "stream",
     "text": [
      "input_img.size():  torch.Size([3, 170, 255])\n",
      "resize2_img.size():  torch.Size([3, 43, 64])\n",
      "resize2_cut_img.size():  torch.Size([3, 40, 64])\n",
      "create_HrLr kernel_path:C:\\SaiVinay\\SproutsAI\\GitHub_\\ir_srgan_otsr\\results_kernels_DIV2K\\0133\\0133_kernel_x4.mat\n",
      "scale_factor:  [0.25, 0.25, 1]\n",
      "output_shape:  [43 64  3]\n",
      "im.shape:  (170, 255, 3)\n",
      "input_img.size():  torch.Size([3, 255, 222])\n",
      "resize2_img.size():  torch.Size([3, 64, 56])\n",
      "resize2_cut_img.size():  torch.Size([3, 64, 56])\n",
      "create_HrLr kernel_path:C:\\SaiVinay\\SproutsAI\\GitHub_\\ir_srgan_otsr\\results_kernels_DIV2K\\0134\\0134_kernel_x4.mat\n",
      "scale_factor:  [0.25, 0.25, 1]\n",
      "output_shape:  [64 56  3]\n",
      "im.shape:  (255, 222, 3)\n"
     ]
    },
    {
     "name": "stderr",
     "output_type": "stream",
     "text": [
      "Resizing images:  18%|█▊        | 135/738 [00:29<02:17,  4.38it/s]"
     ]
    },
    {
     "name": "stdout",
     "output_type": "stream",
     "text": [
      "input_img.size():  torch.Size([3, 168, 255])\n",
      "resize2_img.size():  torch.Size([3, 42, 64])\n",
      "resize2_cut_img.size():  torch.Size([3, 40, 64])\n",
      "create_HrLr kernel_path:C:\\SaiVinay\\SproutsAI\\GitHub_\\ir_srgan_otsr\\results_kernels_DIV2K\\0135\\0135_kernel_x4.mat\n",
      "scale_factor:  [0.25, 0.25, 1]\n",
      "output_shape:  [42 64  3]\n",
      "im.shape:  (168, 255, 3)\n",
      "input_img.size():  torch.Size([3, 170, 255])\n",
      "resize2_img.size():  torch.Size([3, 43, 64])\n",
      "resize2_cut_img.size():  torch.Size([3, 40, 64])\n",
      "create_HrLr kernel_path:C:\\SaiVinay\\SproutsAI\\GitHub_\\ir_srgan_otsr\\results_kernels_DIV2K\\0136\\0136_kernel_x4.mat\n",
      "scale_factor:  [0.25, 0.25, 1]\n",
      "output_shape:  [43 64  3]\n",
      "im.shape:  (170, 255, 3)\n"
     ]
    },
    {
     "name": "stderr",
     "output_type": "stream",
     "text": [
      "Resizing images:  18%|█▊        | 136/738 [00:29<02:19,  4.32it/s]"
     ]
    },
    {
     "name": "stdout",
     "output_type": "stream",
     "text": [
      "input_img.size():  torch.Size([3, 167, 255])\n",
      "resize2_img.size():  torch.Size([3, 42, 64])\n",
      "resize2_cut_img.size():  torch.Size([3, 40, 64])\n",
      "create_HrLr kernel_path:C:\\SaiVinay\\SproutsAI\\GitHub_\\ir_srgan_otsr\\results_kernels_DIV2K\\0137\\0137_kernel_x4.mat\n",
      "scale_factor:  [0.25, 0.25, 1]\n",
      "output_shape:  [42 64  3]\n",
      "im.shape:  (167, 255, 3)\n"
     ]
    },
    {
     "name": "stderr",
     "output_type": "stream",
     "text": [
      "Resizing images:  19%|█▊        | 137/738 [00:29<02:18,  4.35it/s]"
     ]
    },
    {
     "name": "stdout",
     "output_type": "stream",
     "text": [
      "input_img.size():  torch.Size([3, 170, 255])\n",
      "resize2_img.size():  torch.Size([3, 43, 64])\n",
      "resize2_cut_img.size():  torch.Size([3, 40, 64])\n",
      "create_HrLr kernel_path:C:\\SaiVinay\\SproutsAI\\GitHub_\\ir_srgan_otsr\\results_kernels_DIV2K\\0138\\0138_kernel_x4.mat\n",
      "scale_factor:  [0.25, 0.25, 1]\n",
      "output_shape:  [43 64  3]\n",
      "im.shape:  (170, 255, 3)\n"
     ]
    },
    {
     "name": "stderr",
     "output_type": "stream",
     "text": [
      "Resizing images:  19%|█▉        | 139/738 [00:29<02:09,  4.61it/s]"
     ]
    },
    {
     "name": "stdout",
     "output_type": "stream",
     "text": [
      "input_img.size():  torch.Size([3, 119, 255])\n",
      "resize2_img.size():  torch.Size([3, 30, 64])\n",
      "resize2_cut_img.size():  torch.Size([3, 28, 64])\n",
      "create_HrLr kernel_path:C:\\SaiVinay\\SproutsAI\\GitHub_\\ir_srgan_otsr\\results_kernels_DIV2K\\0139\\0139_kernel_x4.mat\n",
      "scale_factor:  [0.25, 0.25, 1]\n",
      "output_shape:  [30 64  3]\n",
      "im.shape:  (119, 255, 3)\n",
      "input_img.size():  torch.Size([3, 170, 255])\n",
      "resize2_img.size():  torch.Size([3, 43, 64])\n",
      "resize2_cut_img.size():  torch.Size([3, 40, 64])\n",
      "create_HrLr kernel_path:C:\\SaiVinay\\SproutsAI\\GitHub_\\ir_srgan_otsr\\results_kernels_DIV2K\\0140\\0140_kernel_x4.mat\n"
     ]
    },
    {
     "name": "stderr",
     "output_type": "stream",
     "text": [
      "Resizing images:  19%|█▉        | 140/738 [00:30<02:07,  4.70it/s]"
     ]
    },
    {
     "name": "stdout",
     "output_type": "stream",
     "text": [
      "scale_factor:  [0.25, 0.25, 1]\n",
      "output_shape:  [43 64  3]\n",
      "im.shape:  (170, 255, 3)\n",
      "input_img.size():  torch.Size([3, 170, 255])\n",
      "resize2_img.size():  torch.Size([3, 43, 64])\n",
      "resize2_cut_img.size():  torch.Size([3, 40, 64])\n",
      "create_HrLr kernel_path:C:\\SaiVinay\\SproutsAI\\GitHub_\\ir_srgan_otsr\\results_kernels_DIV2K\\0141\\0141_kernel_x4.mat\n",
      "scale_factor:  [0.25, 0.25, 1]\n",
      "output_shape:  [43 64  3]\n",
      "im.shape:  (170, 255, 3)\n"
     ]
    },
    {
     "name": "stderr",
     "output_type": "stream",
     "text": [
      "Resizing images:  19%|█▉        | 141/738 [00:30<02:07,  4.67it/s]"
     ]
    },
    {
     "name": "stdout",
     "output_type": "stream",
     "text": [
      "input_img.size():  torch.Size([3, 170, 255])\n",
      "resize2_img.size():  torch.Size([3, 43, 64])\n",
      "resize2_cut_img.size():  torch.Size([3, 40, 64])\n",
      "create_HrLr kernel_path:C:\\SaiVinay\\SproutsAI\\GitHub_\\ir_srgan_otsr\\results_kernels_DIV2K\\0142\\0142_kernel_x4.mat\n",
      "scale_factor:  [0.25, 0.25, 1]\n",
      "output_shape:  [43 64  3]\n",
      "im.shape:  (170, 255, 3)\n"
     ]
    },
    {
     "name": "stderr",
     "output_type": "stream",
     "text": [
      "Resizing images:  19%|█▉        | 142/738 [00:30<02:10,  4.55it/s]"
     ]
    },
    {
     "name": "stdout",
     "output_type": "stream",
     "text": [
      "input_img.size():  torch.Size([3, 170, 255])\n",
      "resize2_img.size():  torch.Size([3, 43, 64])\n",
      "resize2_cut_img.size():  torch.Size([3, 40, 64])\n",
      "create_HrLr kernel_path:C:\\SaiVinay\\SproutsAI\\GitHub_\\ir_srgan_otsr\\results_kernels_DIV2K\\0143\\0143_kernel_x4.mat\n",
      "scale_factor:  [0.25, 0.25, 1]\n",
      "output_shape:  [43 64  3]\n",
      "im.shape:  (170, 255, 3)\n"
     ]
    },
    {
     "name": "stderr",
     "output_type": "stream",
     "text": [
      "Resizing images:  20%|█▉        | 144/738 [00:31<02:09,  4.60it/s]"
     ]
    },
    {
     "name": "stdout",
     "output_type": "stream",
     "text": [
      "input_img.size():  torch.Size([3, 170, 255])\n",
      "resize2_img.size():  torch.Size([3, 43, 64])\n",
      "resize2_cut_img.size():  torch.Size([3, 40, 64])\n",
      "create_HrLr kernel_path:C:\\SaiVinay\\SproutsAI\\GitHub_\\ir_srgan_otsr\\results_kernels_DIV2K\\0144\\0144_kernel_x4.mat\n",
      "scale_factor:  [0.25, 0.25, 1]\n",
      "output_shape:  [43 64  3]\n",
      "im.shape:  (170, 255, 3)\n"
     ]
    },
    {
     "name": "stderr",
     "output_type": "stream",
     "text": [
      "Resizing images:  20%|█▉        | 145/738 [00:31<01:57,  5.07it/s]"
     ]
    },
    {
     "name": "stdout",
     "output_type": "stream",
     "text": [
      "input_img.size():  torch.Size([3, 92, 255])\n",
      "resize2_img.size():  torch.Size([3, 23, 64])\n",
      "resize2_cut_img.size():  torch.Size([3, 20, 64])\n",
      "create_HrLr kernel_path:C:\\SaiVinay\\SproutsAI\\GitHub_\\ir_srgan_otsr\\results_kernels_DIV2K\\0145\\0145_kernel_x4.mat\n",
      "scale_factor:  [0.25, 0.25, 1]\n",
      "output_shape:  [23 64  3]\n",
      "im.shape:  (92, 255, 3)\n",
      "input_img.size():  torch.Size([3, 170, 255])\n",
      "resize2_img.size():  torch.Size([3, 43, 64])\n",
      "resize2_cut_img.size():  torch.Size([3, 40, 64])\n",
      "create_HrLr kernel_path:C:\\SaiVinay\\SproutsAI\\GitHub_\\ir_srgan_otsr\\results_kernels_DIV2K\\0146\\0146_kernel_x4.mat\n",
      "scale_factor:  [0.25, 0.25, 1]\n",
      "output_shape:  [43 64  3]\n",
      "im.shape:  (170, 255, 3)\n"
     ]
    },
    {
     "name": "stderr",
     "output_type": "stream",
     "text": [
      "Resizing images:  20%|█▉        | 146/738 [00:31<02:00,  4.90it/s]"
     ]
    },
    {
     "name": "stdout",
     "output_type": "stream",
     "text": [
      "input_img.size():  torch.Size([3, 207, 255])\n",
      "resize2_img.size():  torch.Size([3, 52, 64])\n",
      "resize2_cut_img.size():  torch.Size([3, 52, 64])\n",
      "create_HrLr kernel_path:C:\\SaiVinay\\SproutsAI\\GitHub_\\ir_srgan_otsr\\results_kernels_DIV2K\\0147\\0147_kernel_x4.mat\n",
      "scale_factor:  [0.25, 0.25, 1]\n",
      "output_shape:  [52 64  3]\n",
      "im.shape:  (207, 255, 3)\n"
     ]
    },
    {
     "name": "stderr",
     "output_type": "stream",
     "text": [
      "Resizing images:  20%|█▉        | 147/738 [00:31<02:10,  4.53it/s]"
     ]
    },
    {
     "name": "stdout",
     "output_type": "stream",
     "text": [
      "input_img.size():  torch.Size([3, 170, 255])\n",
      "resize2_img.size():  torch.Size([3, 43, 64])\n",
      "resize2_cut_img.size():  torch.Size([3, 40, 64])\n",
      "create_HrLr kernel_path:C:\\SaiVinay\\SproutsAI\\GitHub_\\ir_srgan_otsr\\results_kernels_DIV2K\\0148\\0148_kernel_x4.mat\n",
      "scale_factor:  [0.25, 0.25, 1]\n",
      "output_shape:  [43 64  3]\n",
      "im.shape:  (170, 255, 3)\n"
     ]
    },
    {
     "name": "stderr",
     "output_type": "stream",
     "text": [
      "Resizing images:  20%|██        | 148/738 [00:31<02:14,  4.38it/s]"
     ]
    },
    {
     "name": "stdout",
     "output_type": "stream",
     "text": [
      "input_img.size():  torch.Size([3, 219, 255])\n",
      "resize2_img.size():  torch.Size([3, 55, 64])\n",
      "resize2_cut_img.size():  torch.Size([3, 52, 64])\n",
      "create_HrLr kernel_path:C:\\SaiVinay\\SproutsAI\\GitHub_\\ir_srgan_otsr\\results_kernels_DIV2K\\0149\\0149_kernel_x4.mat\n",
      "scale_factor:  [0.25, 0.25, 1]\n",
      "output_shape:  [55 64  3]\n",
      "im.shape:  (219, 255, 3)\n"
     ]
    },
    {
     "name": "stderr",
     "output_type": "stream",
     "text": [
      "Resizing images:  20%|██        | 150/738 [00:32<02:16,  4.29it/s]"
     ]
    },
    {
     "name": "stdout",
     "output_type": "stream",
     "text": [
      "input_img.size():  torch.Size([3, 255, 146])\n",
      "resize2_img.size():  torch.Size([3, 64, 37])\n",
      "resize2_cut_img.size():  torch.Size([3, 64, 36])\n",
      "create_HrLr kernel_path:C:\\SaiVinay\\SproutsAI\\GitHub_\\ir_srgan_otsr\\results_kernels_DIV2K\\0150\\0150_kernel_x4.mat\n",
      "scale_factor:  [0.25, 0.25, 1]\n",
      "output_shape:  [64 37  3]\n",
      "im.shape:  (255, 146, 3)\n",
      "input_img.size():  torch.Size([3, 170, 255])\n",
      "resize2_img.size():  torch.Size([3, 43, 64])\n",
      "resize2_cut_img.size():  torch.Size([3, 40, 64])\n",
      "create_HrLr kernel_path:C:\\SaiVinay\\SproutsAI\\GitHub_\\ir_srgan_otsr\\results_kernels_DIV2K\\0151\\0151_kernel_x4.mat\n",
      "scale_factor:  [0.25, 0.25, 1]\n",
      "output_shape:  [43 64  3]\n",
      "im.shape:  (170, 255, 3)\n"
     ]
    },
    {
     "name": "stderr",
     "output_type": "stream",
     "text": [
      "Resizing images:  20%|██        | 151/738 [00:32<02:18,  4.24it/s]"
     ]
    },
    {
     "name": "stdout",
     "output_type": "stream",
     "text": [
      "input_img.size():  torch.Size([3, 170, 255])\n",
      "resize2_img.size():  torch.Size([3, 43, 64])\n",
      "resize2_cut_img.size():  torch.Size([3, 40, 64])\n",
      "create_HrLr kernel_path:C:\\SaiVinay\\SproutsAI\\GitHub_\\ir_srgan_otsr\\results_kernels_DIV2K\\0152\\0152_kernel_x4.mat\n",
      "scale_factor:  [0.25, 0.25, 1]\n",
      "output_shape:  [43 64  3]\n",
      "im.shape:  (170, 255, 3)\n"
     ]
    },
    {
     "name": "stderr",
     "output_type": "stream",
     "text": [
      "Resizing images:  21%|██        | 152/738 [00:32<02:18,  4.23it/s]"
     ]
    },
    {
     "name": "stdout",
     "output_type": "stream",
     "text": [
      "input_img.size():  torch.Size([3, 170, 255])\n",
      "resize2_img.size():  torch.Size([3, 43, 64])\n",
      "resize2_cut_img.size():  torch.Size([3, 40, 64])\n",
      "create_HrLr kernel_path:C:\\SaiVinay\\SproutsAI\\GitHub_\\ir_srgan_otsr\\results_kernels_DIV2K\\0153\\0153_kernel_x4.mat\n",
      "scale_factor:  [0.25, 0.25, 1]\n",
      "output_shape:  [43 64  3]\n",
      "im.shape:  (170, 255, 3)\n"
     ]
    },
    {
     "name": "stderr",
     "output_type": "stream",
     "text": [
      "Resizing images:  21%|██        | 153/738 [00:33<02:20,  4.16it/s]"
     ]
    },
    {
     "name": "stdout",
     "output_type": "stream",
     "text": [
      "input_img.size():  torch.Size([3, 170, 255])\n",
      "resize2_img.size():  torch.Size([3, 43, 64])\n",
      "resize2_cut_img.size():  torch.Size([3, 40, 64])\n",
      "create_HrLr kernel_path:C:\\SaiVinay\\SproutsAI\\GitHub_\\ir_srgan_otsr\\results_kernels_DIV2K\\0154\\0154_kernel_x4.mat\n",
      "scale_factor:  [0.25, 0.25, 1]\n",
      "output_shape:  [43 64  3]\n",
      "im.shape:  (170, 255, 3)\n"
     ]
    },
    {
     "name": "stderr",
     "output_type": "stream",
     "text": [
      "Resizing images:  21%|██        | 154/738 [00:33<02:19,  4.19it/s]"
     ]
    },
    {
     "name": "stdout",
     "output_type": "stream",
     "text": [
      "input_img.size():  torch.Size([3, 255, 255])\n",
      "resize2_img.size():  torch.Size([3, 64, 64])\n",
      "resize2_cut_img.size():  torch.Size([3, 64, 64])\n",
      "create_HrLr kernel_path:C:\\SaiVinay\\SproutsAI\\GitHub_\\ir_srgan_otsr\\results_kernels_DIV2K\\0155\\0155_kernel_x4.mat\n",
      "scale_factor:  [0.25, 0.25, 1]\n",
      "output_shape:  [64 64  3]\n",
      "im.shape:  (255, 255, 3)\n"
     ]
    },
    {
     "name": "stderr",
     "output_type": "stream",
     "text": [
      "Resizing images:  21%|██        | 155/738 [00:33<02:32,  3.81it/s]"
     ]
    },
    {
     "name": "stdout",
     "output_type": "stream",
     "text": [
      "input_img.size():  torch.Size([3, 170, 255])\n",
      "resize2_img.size():  torch.Size([3, 43, 64])\n",
      "resize2_cut_img.size():  torch.Size([3, 40, 64])\n",
      "create_HrLr kernel_path:C:\\SaiVinay\\SproutsAI\\GitHub_\\ir_srgan_otsr\\results_kernels_DIV2K\\0156\\0156_kernel_x4.mat\n",
      "scale_factor:  [0.25, 0.25, 1]\n",
      "output_shape:  [43 64  3]\n",
      "im.shape:  (170, 255, 3)\n"
     ]
    },
    {
     "name": "stderr",
     "output_type": "stream",
     "text": [
      "Resizing images:  21%|██        | 156/738 [00:33<02:30,  3.88it/s]"
     ]
    },
    {
     "name": "stdout",
     "output_type": "stream",
     "text": [
      "input_img.size():  torch.Size([3, 170, 255])\n",
      "resize2_img.size():  torch.Size([3, 43, 64])\n",
      "resize2_cut_img.size():  torch.Size([3, 40, 64])\n",
      "create_HrLr kernel_path:C:\\SaiVinay\\SproutsAI\\GitHub_\\ir_srgan_otsr\\results_kernels_DIV2K\\0157\\0157_kernel_x4.mat\n",
      "scale_factor:  [0.25, 0.25, 1]\n",
      "output_shape:  [43 64  3]\n",
      "im.shape:  (170, 255, 3)\n"
     ]
    },
    {
     "name": "stderr",
     "output_type": "stream",
     "text": [
      "Resizing images:  21%|██▏       | 157/738 [00:34<02:30,  3.85it/s]"
     ]
    },
    {
     "name": "stdout",
     "output_type": "stream",
     "text": [
      "input_img.size():  torch.Size([3, 153, 255])\n",
      "resize2_img.size():  torch.Size([3, 39, 64])\n",
      "resize2_cut_img.size():  torch.Size([3, 36, 64])\n",
      "create_HrLr kernel_path:C:\\SaiVinay\\SproutsAI\\GitHub_\\ir_srgan_otsr\\results_kernels_DIV2K\\0158\\0158_kernel_x4.mat\n",
      "scale_factor:  [0.25, 0.25, 1]\n",
      "output_shape:  [39 64  3]\n",
      "im.shape:  (153, 255, 3)\n"
     ]
    },
    {
     "name": "stderr",
     "output_type": "stream",
     "text": [
      "Resizing images:  21%|██▏       | 158/738 [00:34<02:31,  3.82it/s]"
     ]
    },
    {
     "name": "stdout",
     "output_type": "stream",
     "text": [
      "input_img.size():  torch.Size([3, 170, 255])\n",
      "resize2_img.size():  torch.Size([3, 43, 64])\n",
      "resize2_cut_img.size():  torch.Size([3, 40, 64])\n",
      "create_HrLr kernel_path:C:\\SaiVinay\\SproutsAI\\GitHub_\\ir_srgan_otsr\\results_kernels_DIV2K\\0159\\0159_kernel_x4.mat\n",
      "scale_factor:  [0.25, 0.25, 1]\n",
      "output_shape:  [43 64  3]\n",
      "im.shape:  (170, 255, 3)\n"
     ]
    },
    {
     "name": "stderr",
     "output_type": "stream",
     "text": [
      "Resizing images:  22%|██▏       | 159/738 [00:34<02:29,  3.87it/s]"
     ]
    },
    {
     "name": "stdout",
     "output_type": "stream",
     "text": [
      "input_img.size():  torch.Size([3, 170, 255])\n",
      "resize2_img.size():  torch.Size([3, 43, 64])\n",
      "resize2_cut_img.size():  torch.Size([3, 40, 64])\n",
      "create_HrLr kernel_path:C:\\SaiVinay\\SproutsAI\\GitHub_\\ir_srgan_otsr\\results_kernels_DIV2K\\0160\\0160_kernel_x4.mat\n",
      "scale_factor:  [0.25, 0.25, 1]\n",
      "output_shape:  [43 64  3]\n",
      "im.shape:  (170, 255, 3)\n"
     ]
    },
    {
     "name": "stderr",
     "output_type": "stream",
     "text": [
      "Resizing images:  22%|██▏       | 160/738 [00:34<02:20,  4.10it/s]"
     ]
    },
    {
     "name": "stdout",
     "output_type": "stream",
     "text": [
      "input_img.size():  torch.Size([3, 158, 255])\n",
      "resize2_img.size():  torch.Size([3, 40, 64])\n",
      "resize2_cut_img.size():  torch.Size([3, 40, 64])\n",
      "create_HrLr kernel_path:C:\\SaiVinay\\SproutsAI\\GitHub_\\ir_srgan_otsr\\results_kernels_DIV2K\\0161\\0161_kernel_x4.mat\n",
      "scale_factor:  [0.25, 0.25, 1]\n",
      "output_shape:  [40 64  3]\n",
      "im.shape:  (158, 255, 3)\n"
     ]
    },
    {
     "name": "stderr",
     "output_type": "stream",
     "text": [
      "Resizing images:  22%|██▏       | 161/738 [00:35<02:19,  4.15it/s]"
     ]
    },
    {
     "name": "stdout",
     "output_type": "stream",
     "text": [
      "input_img.size():  torch.Size([3, 255, 171])\n",
      "resize2_img.size():  torch.Size([3, 64, 43])\n",
      "resize2_cut_img.size():  torch.Size([3, 64, 40])\n",
      "create_HrLr kernel_path:C:\\SaiVinay\\SproutsAI\\GitHub_\\ir_srgan_otsr\\results_kernels_DIV2K\\0162\\0162_kernel_x4.mat\n",
      "scale_factor:  [0.25, 0.25, 1]\n",
      "output_shape:  [64 43  3]\n",
      "im.shape:  (255, 171, 3)\n"
     ]
    },
    {
     "name": "stderr",
     "output_type": "stream",
     "text": [
      "Resizing images:  22%|██▏       | 162/738 [00:35<02:16,  4.22it/s]"
     ]
    },
    {
     "name": "stdout",
     "output_type": "stream",
     "text": [
      "input_img.size():  torch.Size([3, 170, 255])\n",
      "resize2_img.size():  torch.Size([3, 43, 64])\n",
      "resize2_cut_img.size():  torch.Size([3, 40, 64])\n",
      "create_HrLr kernel_path:C:\\SaiVinay\\SproutsAI\\GitHub_\\ir_srgan_otsr\\results_kernels_DIV2K\\0163\\0163_kernel_x4.mat\n",
      "scale_factor:  [0.25, 0.25, 1]\n",
      "output_shape:  [43 64  3]\n",
      "im.shape:  (170, 255, 3)\n"
     ]
    },
    {
     "name": "stderr",
     "output_type": "stream",
     "text": [
      "Resizing images:  22%|██▏       | 163/738 [00:35<02:14,  4.27it/s]"
     ]
    },
    {
     "name": "stdout",
     "output_type": "stream",
     "text": [
      "input_img.size():  torch.Size([3, 170, 255])\n",
      "resize2_img.size():  torch.Size([3, 43, 64])\n",
      "resize2_cut_img.size():  torch.Size([3, 40, 64])\n",
      "create_HrLr kernel_path:C:\\SaiVinay\\SproutsAI\\GitHub_\\ir_srgan_otsr\\results_kernels_DIV2K\\0164\\0164_kernel_x4.mat\n",
      "scale_factor:  [0.25, 0.25, 1]\n",
      "output_shape:  [43 64  3]\n",
      "im.shape:  (170, 255, 3)\n"
     ]
    },
    {
     "name": "stderr",
     "output_type": "stream",
     "text": [
      "Resizing images:  22%|██▏       | 164/738 [00:35<02:12,  4.33it/s]"
     ]
    },
    {
     "name": "stdout",
     "output_type": "stream",
     "text": [
      "input_img.size():  torch.Size([3, 170, 255])\n",
      "resize2_img.size():  torch.Size([3, 43, 64])\n",
      "resize2_cut_img.size():  torch.Size([3, 40, 64])\n",
      "create_HrLr kernel_path:C:\\SaiVinay\\SproutsAI\\GitHub_\\ir_srgan_otsr\\results_kernels_DIV2K\\0165\\0165_kernel_x4.mat\n",
      "scale_factor:  [0.25, 0.25, 1]\n",
      "output_shape:  [43 64  3]\n",
      "im.shape:  (170, 255, 3)\n"
     ]
    },
    {
     "name": "stderr",
     "output_type": "stream",
     "text": [
      "Resizing images:  22%|██▏       | 165/738 [00:36<02:13,  4.30it/s]"
     ]
    },
    {
     "name": "stdout",
     "output_type": "stream",
     "text": [
      "input_img.size():  torch.Size([3, 170, 255])\n",
      "resize2_img.size():  torch.Size([3, 43, 64])\n",
      "resize2_cut_img.size():  torch.Size([3, 40, 64])\n",
      "create_HrLr kernel_path:C:\\SaiVinay\\SproutsAI\\GitHub_\\ir_srgan_otsr\\results_kernels_DIV2K\\0166\\0166_kernel_x4.mat\n",
      "scale_factor:  [0.25, 0.25, 1]\n",
      "output_shape:  [43 64  3]\n",
      "im.shape:  (170, 255, 3)\n"
     ]
    },
    {
     "name": "stderr",
     "output_type": "stream",
     "text": [
      "Resizing images:  22%|██▏       | 166/738 [00:36<02:10,  4.37it/s]"
     ]
    },
    {
     "name": "stdout",
     "output_type": "stream",
     "text": [
      "input_img.size():  torch.Size([3, 255, 170])\n",
      "resize2_img.size():  torch.Size([3, 64, 43])\n",
      "resize2_cut_img.size():  torch.Size([3, 64, 40])\n",
      "create_HrLr kernel_path:C:\\SaiVinay\\SproutsAI\\GitHub_\\ir_srgan_otsr\\results_kernels_DIV2K\\0167\\0167_kernel_x4.mat\n",
      "scale_factor:  [0.25, 0.25, 1]\n",
      "output_shape:  [64 43  3]\n",
      "im.shape:  (255, 170, 3)\n"
     ]
    },
    {
     "name": "stderr",
     "output_type": "stream",
     "text": [
      "Resizing images:  23%|██▎       | 168/738 [00:36<02:08,  4.42it/s]"
     ]
    },
    {
     "name": "stdout",
     "output_type": "stream",
     "text": [
      "input_img.size():  torch.Size([3, 170, 255])\n",
      "resize2_img.size():  torch.Size([3, 43, 64])\n",
      "resize2_cut_img.size():  torch.Size([3, 40, 64])\n",
      "create_HrLr kernel_path:C:\\SaiVinay\\SproutsAI\\GitHub_\\ir_srgan_otsr\\results_kernels_DIV2K\\0168\\0168_kernel_x4.mat\n",
      "scale_factor:  [0.25, 0.25, 1]\n",
      "output_shape:  [43 64  3]\n",
      "im.shape:  (170, 255, 3)\n",
      "input_img.size():  torch.Size([3, 170, 255])\n",
      "resize2_img.size():  torch.Size([3, 43, 64])\n",
      "resize2_cut_img.size():  torch.Size([3, 40, 64])\n",
      "create_HrLr kernel_path:C:\\SaiVinay\\SproutsAI\\GitHub_\\ir_srgan_otsr\\results_kernels_DIV2K\\0169\\0169_kernel_x4.mat\n",
      "scale_factor:  [0.25, 0.25, 1]\n",
      "output_shape:  [43 64  3]\n",
      "im.shape:  (170, 255, 3)\n"
     ]
    },
    {
     "name": "stderr",
     "output_type": "stream",
     "text": [
      "Resizing images:  23%|██▎       | 170/738 [00:37<02:04,  4.56it/s]"
     ]
    },
    {
     "name": "stdout",
     "output_type": "stream",
     "text": [
      "input_img.size():  torch.Size([3, 144, 255])\n",
      "resize2_img.size():  torch.Size([3, 36, 64])\n",
      "resize2_cut_img.size():  torch.Size([3, 36, 64])\n",
      "create_HrLr kernel_path:C:\\SaiVinay\\SproutsAI\\GitHub_\\ir_srgan_otsr\\results_kernels_DIV2K\\0170\\0170_kernel_x4.mat\n",
      "scale_factor:  [0.25, 0.25, 1]\n",
      "output_shape:  [36 64  3]\n",
      "im.shape:  (144, 255, 3)\n",
      "input_img.size():  torch.Size([3, 192, 255])\n",
      "resize2_img.size():  torch.Size([3, 48, 64])\n",
      "resize2_cut_img.size():  torch.Size([3, 48, 64])\n",
      "create_HrLr kernel_path:C:\\SaiVinay\\SproutsAI\\GitHub_\\ir_srgan_otsr\\results_kernels_DIV2K\\0171\\0171_kernel_x4.mat\n",
      "scale_factor:  [0.25, 0.25, 1]\n",
      "output_shape:  [48 64  3]\n",
      "im.shape:  (192, 255, 3)\n"
     ]
    },
    {
     "name": "stderr",
     "output_type": "stream",
     "text": [
      "Resizing images:  23%|██▎       | 171/738 [00:37<02:09,  4.37it/s]"
     ]
    },
    {
     "name": "stdout",
     "output_type": "stream",
     "text": [
      "input_img.size():  torch.Size([3, 158, 255])\n",
      "resize2_img.size():  torch.Size([3, 40, 64])\n",
      "resize2_cut_img.size():  torch.Size([3, 40, 64])\n",
      "create_HrLr kernel_path:C:\\SaiVinay\\SproutsAI\\GitHub_\\ir_srgan_otsr\\results_kernels_DIV2K\\0172\\0172_kernel_x4.mat\n",
      "scale_factor:  [0.25, 0.25, 1]\n",
      "output_shape:  [40 64  3]\n",
      "im.shape:  (158, 255, 3)\n"
     ]
    },
    {
     "name": "stderr",
     "output_type": "stream",
     "text": [
      "Resizing images:  23%|██▎       | 172/738 [00:37<02:12,  4.28it/s]"
     ]
    },
    {
     "name": "stdout",
     "output_type": "stream",
     "text": [
      "input_img.size():  torch.Size([3, 170, 255])\n",
      "resize2_img.size():  torch.Size([3, 43, 64])\n",
      "resize2_cut_img.size():  torch.Size([3, 40, 64])\n",
      "create_HrLr kernel_path:C:\\SaiVinay\\SproutsAI\\GitHub_\\ir_srgan_otsr\\results_kernels_DIV2K\\0173\\0173_kernel_x4.mat\n",
      "scale_factor:  [0.25, 0.25, 1]\n",
      "output_shape:  [43 64  3]\n",
      "im.shape:  (170, 255, 3)\n"
     ]
    },
    {
     "name": "stderr",
     "output_type": "stream",
     "text": [
      "Resizing images:  23%|██▎       | 173/738 [00:37<02:09,  4.37it/s]"
     ]
    },
    {
     "name": "stdout",
     "output_type": "stream",
     "text": [
      "input_img.size():  torch.Size([3, 164, 255])\n",
      "resize2_img.size():  torch.Size([3, 41, 64])\n",
      "resize2_cut_img.size():  torch.Size([3, 40, 64])\n",
      "create_HrLr kernel_path:C:\\SaiVinay\\SproutsAI\\GitHub_\\ir_srgan_otsr\\results_kernels_DIV2K\\0174\\0174_kernel_x4.mat\n",
      "scale_factor:  [0.25, 0.25, 1]\n",
      "output_shape:  [41 64  3]\n",
      "im.shape:  (164, 255, 3)\n"
     ]
    },
    {
     "name": "stderr",
     "output_type": "stream",
     "text": [
      "Resizing images:  24%|██▎       | 175/738 [00:38<01:59,  4.71it/s]"
     ]
    },
    {
     "name": "stdout",
     "output_type": "stream",
     "text": [
      "input_img.size():  torch.Size([3, 134, 255])\n",
      "resize2_img.size():  torch.Size([3, 34, 64])\n",
      "resize2_cut_img.size():  torch.Size([3, 32, 64])\n",
      "create_HrLr kernel_path:C:\\SaiVinay\\SproutsAI\\GitHub_\\ir_srgan_otsr\\results_kernels_DIV2K\\0175\\0175_kernel_x4.mat\n",
      "scale_factor:  [0.25, 0.25, 1]\n",
      "output_shape:  [34 64  3]\n",
      "im.shape:  (134, 255, 3)\n",
      "input_img.size():  torch.Size([3, 206, 255])\n",
      "resize2_img.size():  torch.Size([3, 52, 64])\n",
      "resize2_cut_img.size():  torch.Size([3, 52, 64])\n",
      "create_HrLr kernel_path:C:\\SaiVinay\\SproutsAI\\GitHub_\\ir_srgan_otsr\\results_kernels_DIV2K\\0176\\0176_kernel_x4.mat\n",
      "scale_factor:  [0.25, 0.25, 1]\n",
      "output_shape:  [52 64  3]\n",
      "im.shape:  (206, 255, 3)\n"
     ]
    },
    {
     "name": "stderr",
     "output_type": "stream",
     "text": [
      "Resizing images:  24%|██▍       | 176/738 [00:38<02:03,  4.55it/s]"
     ]
    },
    {
     "name": "stdout",
     "output_type": "stream",
     "text": [
      "input_img.size():  torch.Size([3, 170, 255])\n",
      "resize2_img.size():  torch.Size([3, 43, 64])\n",
      "resize2_cut_img.size():  torch.Size([3, 40, 64])\n",
      "create_HrLr kernel_path:C:\\SaiVinay\\SproutsAI\\GitHub_\\ir_srgan_otsr\\results_kernels_DIV2K\\0177\\0177_kernel_x4.mat\n",
      "scale_factor:  [0.25, 0.25, 1]\n",
      "output_shape:  [43 64  3]\n",
      "im.shape:  (170, 255, 3)\n"
     ]
    },
    {
     "name": "stderr",
     "output_type": "stream",
     "text": [
      "Resizing images:  24%|██▍       | 177/738 [00:38<02:03,  4.55it/s]"
     ]
    },
    {
     "name": "stdout",
     "output_type": "stream",
     "text": [
      "input_img.size():  torch.Size([3, 170, 255])\n",
      "resize2_img.size():  torch.Size([3, 43, 64])\n",
      "resize2_cut_img.size():  torch.Size([3, 40, 64])\n",
      "create_HrLr kernel_path:C:\\SaiVinay\\SproutsAI\\GitHub_\\ir_srgan_otsr\\results_kernels_DIV2K\\0178\\0178_kernel_x4.mat\n",
      "scale_factor:  [0.25, 0.25, 1]\n",
      "output_shape:  [43 64  3]\n",
      "im.shape:  (170, 255, 3)\n"
     ]
    },
    {
     "name": "stderr",
     "output_type": "stream",
     "text": [
      "Resizing images:  24%|██▍       | 178/738 [00:38<02:05,  4.46it/s]"
     ]
    },
    {
     "name": "stdout",
     "output_type": "stream",
     "text": [
      "input_img.size():  torch.Size([3, 170, 255])\n",
      "resize2_img.size():  torch.Size([3, 43, 64])\n",
      "resize2_cut_img.size():  torch.Size([3, 40, 64])\n",
      "create_HrLr kernel_path:C:\\SaiVinay\\SproutsAI\\GitHub_\\ir_srgan_otsr\\results_kernels_DIV2K\\0179\\0179_kernel_x4.mat\n",
      "scale_factor:  [0.25, 0.25, 1]\n",
      "output_shape:  [43 64  3]\n",
      "im.shape:  (170, 255, 3)\n"
     ]
    },
    {
     "name": "stderr",
     "output_type": "stream",
     "text": [
      "Resizing images:  24%|██▍       | 180/738 [00:39<02:02,  4.55it/s]"
     ]
    },
    {
     "name": "stdout",
     "output_type": "stream",
     "text": [
      "input_img.size():  torch.Size([3, 170, 255])\n",
      "resize2_img.size():  torch.Size([3, 43, 64])\n",
      "resize2_cut_img.size():  torch.Size([3, 40, 64])\n",
      "create_HrLr kernel_path:C:\\SaiVinay\\SproutsAI\\GitHub_\\ir_srgan_otsr\\results_kernels_DIV2K\\0180\\0180_kernel_x4.mat\n",
      "scale_factor:  [0.25, 0.25, 1]\n",
      "output_shape:  [43 64  3]\n",
      "im.shape:  (170, 255, 3)\n",
      "input_img.size():  torch.Size([3, 192, 255])\n",
      "resize2_img.size():  torch.Size([3, 48, 64])\n",
      "resize2_cut_img.size():  torch.Size([3, 48, 64])\n",
      "create_HrLr kernel_path:C:\\SaiVinay\\SproutsAI\\GitHub_\\ir_srgan_otsr\\results_kernels_DIV2K\\0181\\0181_kernel_x4.mat\n",
      "scale_factor:  [0.25, 0.25, 1]\n",
      "output_shape:  [48 64  3]\n",
      "im.shape:  (192, 255, 3)\n"
     ]
    },
    {
     "name": "stderr",
     "output_type": "stream",
     "text": [
      "Resizing images:  25%|██▍       | 181/738 [00:39<02:09,  4.31it/s]"
     ]
    },
    {
     "name": "stdout",
     "output_type": "stream",
     "text": [
      "input_img.size():  torch.Size([3, 156, 255])\n",
      "resize2_img.size():  torch.Size([3, 39, 64])\n",
      "resize2_cut_img.size():  torch.Size([3, 36, 64])\n",
      "create_HrLr kernel_path:C:\\SaiVinay\\SproutsAI\\GitHub_\\ir_srgan_otsr\\results_kernels_DIV2K\\0182\\0182_kernel_x4.mat\n",
      "scale_factor:  [0.25, 0.25, 1]\n",
      "output_shape:  [39 64  3]\n",
      "im.shape:  (156, 255, 3)\n"
     ]
    },
    {
     "name": "stderr",
     "output_type": "stream",
     "text": [
      "Resizing images:  25%|██▍       | 182/738 [00:39<02:03,  4.49it/s]"
     ]
    },
    {
     "name": "stdout",
     "output_type": "stream",
     "text": [
      "input_img.size():  torch.Size([3, 170, 255])\n",
      "resize2_img.size():  torch.Size([3, 43, 64])\n",
      "resize2_cut_img.size():  torch.Size([3, 40, 64])\n",
      "create_HrLr kernel_path:C:\\SaiVinay\\SproutsAI\\GitHub_\\ir_srgan_otsr\\results_kernels_DIV2K\\0183\\0183_kernel_x4.mat\n",
      "scale_factor:  [0.25, 0.25, 1]\n",
      "output_shape:  [43 64  3]\n",
      "im.shape:  (170, 255, 3)\n"
     ]
    },
    {
     "name": "stderr",
     "output_type": "stream",
     "text": [
      "Resizing images:  25%|██▍       | 183/738 [00:40<02:04,  4.45it/s]"
     ]
    },
    {
     "name": "stdout",
     "output_type": "stream",
     "text": [
      "input_img.size():  torch.Size([3, 170, 255])\n",
      "resize2_img.size():  torch.Size([3, 43, 64])\n",
      "resize2_cut_img.size():  torch.Size([3, 40, 64])\n",
      "create_HrLr kernel_path:C:\\SaiVinay\\SproutsAI\\GitHub_\\ir_srgan_otsr\\results_kernels_DIV2K\\0184\\0184_kernel_x4.mat\n",
      "scale_factor:  [0.25, 0.25, 1]\n",
      "output_shape:  [43 64  3]\n",
      "im.shape:  (170, 255, 3)\n"
     ]
    },
    {
     "name": "stderr",
     "output_type": "stream",
     "text": [
      "Resizing images:  25%|██▍       | 184/738 [00:40<02:04,  4.44it/s]"
     ]
    },
    {
     "name": "stdout",
     "output_type": "stream",
     "text": [
      "input_img.size():  torch.Size([3, 144, 255])\n",
      "resize2_img.size():  torch.Size([3, 36, 64])\n",
      "resize2_cut_img.size():  torch.Size([3, 36, 64])\n",
      "create_HrLr kernel_path:C:\\SaiVinay\\SproutsAI\\GitHub_\\ir_srgan_otsr\\results_kernels_DIV2K\\0185\\0185_kernel_x4.mat\n",
      "scale_factor:  [0.25, 0.25, 1]\n",
      "output_shape:  [36 64  3]\n",
      "im.shape:  (144, 255, 3)\n"
     ]
    },
    {
     "name": "stderr",
     "output_type": "stream",
     "text": [
      "Resizing images:  25%|██▌       | 186/738 [00:40<02:00,  4.57it/s]"
     ]
    },
    {
     "name": "stdout",
     "output_type": "stream",
     "text": [
      "input_img.size():  torch.Size([3, 170, 255])\n",
      "resize2_img.size():  torch.Size([3, 43, 64])\n",
      "resize2_cut_img.size():  torch.Size([3, 40, 64])\n",
      "create_HrLr kernel_path:C:\\SaiVinay\\SproutsAI\\GitHub_\\ir_srgan_otsr\\results_kernels_DIV2K\\0186\\0186_kernel_x4.mat\n",
      "scale_factor:  [0.25, 0.25, 1]\n",
      "output_shape:  [43 64  3]\n",
      "im.shape:  (170, 255, 3)\n",
      "input_img.size():  torch.Size([3, 170, 255])\n",
      "resize2_img.size():  torch.Size([3, 43, 64])\n",
      "resize2_cut_img.size():  torch.Size([3, 40, 64])\n",
      "create_HrLr kernel_path:C:\\SaiVinay\\SproutsAI\\GitHub_\\ir_srgan_otsr\\results_kernels_DIV2K\\0187\\0187_kernel_x4.mat\n",
      "scale_factor:  [0.25, 0.25, 1]\n",
      "output_shape:  [43 64  3]\n",
      "im.shape:  (170, 255, 3)\n"
     ]
    },
    {
     "name": "stderr",
     "output_type": "stream",
     "text": [
      "Resizing images:  25%|██▌       | 187/738 [00:40<02:03,  4.47it/s]"
     ]
    },
    {
     "name": "stdout",
     "output_type": "stream",
     "text": [
      "input_img.size():  torch.Size([3, 194, 255])\n",
      "resize2_img.size():  torch.Size([3, 49, 64])\n",
      "resize2_cut_img.size():  torch.Size([3, 48, 64])\n",
      "create_HrLr kernel_path:C:\\SaiVinay\\SproutsAI\\GitHub_\\ir_srgan_otsr\\results_kernels_DIV2K\\0188\\0188_kernel_x4.mat\n",
      "scale_factor:  [0.25, 0.25, 1]\n",
      "output_shape:  [49 64  3]\n",
      "im.shape:  (194, 255, 3)\n"
     ]
    },
    {
     "name": "stderr",
     "output_type": "stream",
     "text": [
      "Resizing images:  25%|██▌       | 188/738 [00:41<02:07,  4.33it/s]"
     ]
    },
    {
     "name": "stdout",
     "output_type": "stream",
     "text": [
      "input_img.size():  torch.Size([3, 170, 255])\n",
      "resize2_img.size():  torch.Size([3, 43, 64])\n",
      "resize2_cut_img.size():  torch.Size([3, 40, 64])\n",
      "create_HrLr kernel_path:C:\\SaiVinay\\SproutsAI\\GitHub_\\ir_srgan_otsr\\results_kernels_DIV2K\\0189\\0189_kernel_x4.mat\n",
      "scale_factor:  [0.25, 0.25, 1]\n",
      "output_shape:  [43 64  3]\n",
      "im.shape:  (170, 255, 3)\n"
     ]
    },
    {
     "name": "stderr",
     "output_type": "stream",
     "text": [
      "Resizing images:  26%|██▌       | 189/738 [00:41<02:08,  4.27it/s]"
     ]
    },
    {
     "name": "stdout",
     "output_type": "stream",
     "text": [
      "input_img.size():  torch.Size([3, 170, 255])\n",
      "resize2_img.size():  torch.Size([3, 43, 64])\n",
      "resize2_cut_img.size():  torch.Size([3, 40, 64])\n",
      "create_HrLr kernel_path:C:\\SaiVinay\\SproutsAI\\GitHub_\\ir_srgan_otsr\\results_kernels_DIV2K\\0190\\0190_kernel_x4.mat\n",
      "scale_factor:  [0.25, 0.25, 1]\n",
      "output_shape:  [43 64  3]\n",
      "im.shape:  (170, 255, 3)\n"
     ]
    },
    {
     "name": "stderr",
     "output_type": "stream",
     "text": [
      "Resizing images:  26%|██▌       | 190/738 [00:41<02:09,  4.23it/s]"
     ]
    },
    {
     "name": "stdout",
     "output_type": "stream",
     "text": [
      "input_img.size():  torch.Size([3, 144, 255])\n",
      "resize2_img.size():  torch.Size([3, 36, 64])\n",
      "resize2_cut_img.size():  torch.Size([3, 36, 64])\n",
      "create_HrLr kernel_path:C:\\SaiVinay\\SproutsAI\\GitHub_\\ir_srgan_otsr\\results_kernels_DIV2K\\0191\\0191_kernel_x4.mat\n",
      "scale_factor:  [0.25, 0.25, 1]\n",
      "output_shape:  [36 64  3]\n",
      "im.shape:  (144, 255, 3)\n"
     ]
    },
    {
     "name": "stderr",
     "output_type": "stream",
     "text": [
      "Resizing images:  26%|██▌       | 191/738 [00:41<02:03,  4.44it/s]"
     ]
    },
    {
     "name": "stdout",
     "output_type": "stream",
     "text": [
      "input_img.size():  torch.Size([3, 182, 255])\n",
      "resize2_img.size():  torch.Size([3, 46, 64])\n",
      "resize2_cut_img.size():  torch.Size([3, 44, 64])\n",
      "create_HrLr kernel_path:C:\\SaiVinay\\SproutsAI\\GitHub_\\ir_srgan_otsr\\results_kernels_DIV2K\\0192\\0192_kernel_x4.mat\n",
      "scale_factor:  [0.25, 0.25, 1]\n",
      "output_shape:  [46 64  3]\n",
      "im.shape:  (182, 255, 3)\n"
     ]
    },
    {
     "name": "stderr",
     "output_type": "stream",
     "text": [
      "Resizing images:  26%|██▌       | 192/738 [00:42<02:05,  4.36it/s]"
     ]
    },
    {
     "name": "stdout",
     "output_type": "stream",
     "text": [
      "input_img.size():  torch.Size([3, 170, 255])\n",
      "resize2_img.size():  torch.Size([3, 43, 64])\n",
      "resize2_cut_img.size():  torch.Size([3, 40, 64])\n",
      "create_HrLr kernel_path:C:\\SaiVinay\\SproutsAI\\GitHub_\\ir_srgan_otsr\\results_kernels_DIV2K\\0193\\0193_kernel_x4.mat\n",
      "scale_factor:  [0.25, 0.25, 1]\n",
      "output_shape:  [43 64  3]\n",
      "im.shape:  (170, 255, 3)\n"
     ]
    },
    {
     "name": "stderr",
     "output_type": "stream",
     "text": [
      "Resizing images:  26%|██▌       | 193/738 [00:42<02:03,  4.42it/s]"
     ]
    },
    {
     "name": "stdout",
     "output_type": "stream",
     "text": [
      "input_img.size():  torch.Size([3, 170, 255])\n",
      "resize2_img.size():  torch.Size([3, 43, 64])\n",
      "resize2_cut_img.size():  torch.Size([3, 40, 64])\n",
      "create_HrLr kernel_path:C:\\SaiVinay\\SproutsAI\\GitHub_\\ir_srgan_otsr\\results_kernels_DIV2K\\0194\\0194_kernel_x4.mat\n",
      "scale_factor:  [0.25, 0.25, 1]\n",
      "output_shape:  [43 64  3]\n",
      "im.shape:  (170, 255, 3)\n"
     ]
    },
    {
     "name": "stderr",
     "output_type": "stream",
     "text": [
      "Resizing images:  26%|██▋       | 194/738 [00:42<02:03,  4.42it/s]"
     ]
    },
    {
     "name": "stdout",
     "output_type": "stream",
     "text": [
      "input_img.size():  torch.Size([3, 170, 255])\n",
      "resize2_img.size():  torch.Size([3, 43, 64])\n",
      "resize2_cut_img.size():  torch.Size([3, 40, 64])\n",
      "create_HrLr kernel_path:C:\\SaiVinay\\SproutsAI\\GitHub_\\ir_srgan_otsr\\results_kernels_DIV2K\\0195\\0195_kernel_x4.mat\n",
      "scale_factor:  [0.25, 0.25, 1]\n",
      "output_shape:  [43 64  3]\n",
      "im.shape:  (170, 255, 3)\n"
     ]
    },
    {
     "name": "stderr",
     "output_type": "stream",
     "text": [
      "Resizing images:  26%|██▋       | 195/738 [00:42<02:01,  4.45it/s]"
     ]
    },
    {
     "name": "stdout",
     "output_type": "stream",
     "text": [
      "input_img.size():  torch.Size([3, 170, 255])\n",
      "resize2_img.size():  torch.Size([3, 43, 64])\n",
      "resize2_cut_img.size():  torch.Size([3, 40, 64])\n",
      "create_HrLr kernel_path:C:\\SaiVinay\\SproutsAI\\GitHub_\\ir_srgan_otsr\\results_kernels_DIV2K\\0196\\0196_kernel_x4.mat\n",
      "scale_factor:  [0.25, 0.25, 1]\n",
      "output_shape:  [43 64  3]\n",
      "im.shape:  (170, 255, 3)\n"
     ]
    },
    {
     "name": "stderr",
     "output_type": "stream",
     "text": [
      "Resizing images:  27%|██▋       | 196/738 [00:43<02:04,  4.37it/s]"
     ]
    },
    {
     "name": "stdout",
     "output_type": "stream",
     "text": [
      "input_img.size():  torch.Size([3, 170, 255])\n",
      "resize2_img.size():  torch.Size([3, 43, 64])\n",
      "resize2_cut_img.size():  torch.Size([3, 40, 64])\n",
      "create_HrLr kernel_path:C:\\SaiVinay\\SproutsAI\\GitHub_\\ir_srgan_otsr\\results_kernels_DIV2K\\0197\\0197_kernel_x4.mat\n",
      "scale_factor:  [0.25, 0.25, 1]\n",
      "output_shape:  [43 64  3]\n",
      "im.shape:  (170, 255, 3)\n"
     ]
    },
    {
     "name": "stderr",
     "output_type": "stream",
     "text": [
      "Resizing images:  27%|██▋       | 197/738 [00:43<02:04,  4.35it/s]"
     ]
    },
    {
     "name": "stdout",
     "output_type": "stream",
     "text": [
      "input_img.size():  torch.Size([3, 170, 255])\n",
      "resize2_img.size():  torch.Size([3, 43, 64])\n",
      "resize2_cut_img.size():  torch.Size([3, 40, 64])\n",
      "create_HrLr kernel_path:C:\\SaiVinay\\SproutsAI\\GitHub_\\ir_srgan_otsr\\results_kernels_DIV2K\\0198\\0198_kernel_x4.mat\n",
      "scale_factor:  [0.25, 0.25, 1]\n",
      "output_shape:  [43 64  3]\n",
      "im.shape:  (170, 255, 3)\n"
     ]
    },
    {
     "name": "stderr",
     "output_type": "stream",
     "text": [
      "Resizing images:  27%|██▋       | 198/738 [00:43<02:03,  4.36it/s]"
     ]
    },
    {
     "name": "stdout",
     "output_type": "stream",
     "text": [
      "input_img.size():  torch.Size([3, 194, 255])\n",
      "resize2_img.size():  torch.Size([3, 49, 64])\n",
      "resize2_cut_img.size():  torch.Size([3, 48, 64])\n",
      "create_HrLr kernel_path:C:\\SaiVinay\\SproutsAI\\GitHub_\\ir_srgan_otsr\\results_kernels_DIV2K\\0199\\0199_kernel_x4.mat\n",
      "scale_factor:  [0.25, 0.25, 1]\n",
      "output_shape:  [49 64  3]\n",
      "im.shape:  (194, 255, 3)\n"
     ]
    },
    {
     "name": "stderr",
     "output_type": "stream",
     "text": [
      "Resizing images:  27%|██▋       | 199/738 [00:43<02:10,  4.12it/s]"
     ]
    },
    {
     "name": "stdout",
     "output_type": "stream",
     "text": [
      "input_img.size():  torch.Size([3, 170, 255])\n",
      "resize2_img.size():  torch.Size([3, 43, 64])\n",
      "resize2_cut_img.size():  torch.Size([3, 40, 64])\n",
      "create_HrLr kernel_path:C:\\SaiVinay\\SproutsAI\\GitHub_\\ir_srgan_otsr\\results_kernels_DIV2K\\0200\\0200_kernel_x4.mat\n",
      "scale_factor:  [0.25, 0.25, 1]\n",
      "output_shape:  [43 64  3]\n",
      "im.shape:  (170, 255, 3)\n"
     ]
    },
    {
     "name": "stderr",
     "output_type": "stream",
     "text": [
      "Resizing images:  27%|██▋       | 200/738 [00:43<02:06,  4.25it/s]"
     ]
    },
    {
     "name": "stdout",
     "output_type": "stream",
     "text": [
      "input_img.size():  torch.Size([3, 192, 255])\n",
      "resize2_img.size():  torch.Size([3, 48, 64])\n",
      "resize2_cut_img.size():  torch.Size([3, 48, 64])\n",
      "create_HrLr kernel_path:C:\\SaiVinay\\SproutsAI\\GitHub_\\ir_srgan_otsr\\results_kernels_DIV2K\\0201\\0201_kernel_x4.mat\n",
      "scale_factor:  [0.25, 0.25, 1]\n",
      "output_shape:  [48 64  3]\n",
      "im.shape:  (192, 255, 3)\n"
     ]
    },
    {
     "name": "stderr",
     "output_type": "stream",
     "text": [
      "Resizing images:  27%|██▋       | 201/738 [00:44<02:13,  4.01it/s]"
     ]
    },
    {
     "name": "stdout",
     "output_type": "stream",
     "text": [
      "input_img.size():  torch.Size([3, 170, 255])\n",
      "resize2_img.size():  torch.Size([3, 43, 64])\n",
      "resize2_cut_img.size():  torch.Size([3, 40, 64])\n",
      "create_HrLr kernel_path:C:\\SaiVinay\\SproutsAI\\GitHub_\\ir_srgan_otsr\\results_kernels_DIV2K\\0202\\0202_kernel_x4.mat\n",
      "scale_factor:  [0.25, 0.25, 1]\n",
      "output_shape:  [43 64  3]\n",
      "im.shape:  (170, 255, 3)\n"
     ]
    },
    {
     "name": "stderr",
     "output_type": "stream",
     "text": [
      "Resizing images:  27%|██▋       | 202/738 [00:44<02:17,  3.91it/s]"
     ]
    },
    {
     "name": "stdout",
     "output_type": "stream",
     "text": [
      "input_img.size():  torch.Size([3, 170, 255])\n",
      "resize2_img.size():  torch.Size([3, 43, 64])\n",
      "resize2_cut_img.size():  torch.Size([3, 40, 64])\n",
      "create_HrLr kernel_path:C:\\SaiVinay\\SproutsAI\\GitHub_\\ir_srgan_otsr\\results_kernels_DIV2K\\0203\\0203_kernel_x4.mat\n",
      "scale_factor:  [0.25, 0.25, 1]\n",
      "output_shape:  [43 64  3]\n",
      "im.shape:  (170, 255, 3)\n"
     ]
    },
    {
     "name": "stderr",
     "output_type": "stream",
     "text": [
      "Resizing images:  28%|██▊       | 203/738 [00:44<02:23,  3.73it/s]"
     ]
    },
    {
     "name": "stdout",
     "output_type": "stream",
     "text": [
      "input_img.size():  torch.Size([3, 158, 255])\n",
      "resize2_img.size():  torch.Size([3, 40, 64])\n",
      "resize2_cut_img.size():  torch.Size([3, 40, 64])\n",
      "create_HrLr kernel_path:C:\\SaiVinay\\SproutsAI\\GitHub_\\ir_srgan_otsr\\results_kernels_DIV2K\\0204\\0204_kernel_x4.mat\n",
      "scale_factor:  [0.25, 0.25, 1]\n",
      "output_shape:  [40 64  3]\n",
      "im.shape:  (158, 255, 3)\n"
     ]
    },
    {
     "name": "stderr",
     "output_type": "stream",
     "text": [
      "Resizing images:  28%|██▊       | 204/738 [00:45<02:18,  3.87it/s]"
     ]
    },
    {
     "name": "stdout",
     "output_type": "stream",
     "text": [
      "input_img.size():  torch.Size([3, 107, 255])\n",
      "resize2_img.size():  torch.Size([3, 27, 64])\n",
      "resize2_cut_img.size():  torch.Size([3, 24, 64])\n",
      "create_HrLr kernel_path:C:\\SaiVinay\\SproutsAI\\GitHub_\\ir_srgan_otsr\\results_kernels_DIV2K\\0205\\0205_kernel_x4.mat\n",
      "scale_factor:  [0.25, 0.25, 1]\n",
      "output_shape:  [27 64  3]\n",
      "im.shape:  (107, 255, 3)\n"
     ]
    },
    {
     "name": "stderr",
     "output_type": "stream",
     "text": [
      "Resizing images:  28%|██▊       | 205/738 [00:45<02:10,  4.10it/s]"
     ]
    },
    {
     "name": "stdout",
     "output_type": "stream",
     "text": [
      "input_img.size():  torch.Size([3, 170, 255])\n",
      "resize2_img.size():  torch.Size([3, 43, 64])\n",
      "resize2_cut_img.size():  torch.Size([3, 40, 64])\n",
      "create_HrLr kernel_path:C:\\SaiVinay\\SproutsAI\\GitHub_\\ir_srgan_otsr\\results_kernels_DIV2K\\0206\\0206_kernel_x4.mat\n",
      "scale_factor:  [0.25, 0.25, 1]\n",
      "output_shape:  [43 64  3]\n",
      "im.shape:  (170, 255, 3)\n"
     ]
    },
    {
     "name": "stderr",
     "output_type": "stream",
     "text": [
      "Resizing images:  28%|██▊       | 206/738 [00:45<02:14,  3.96it/s]"
     ]
    },
    {
     "name": "stdout",
     "output_type": "stream",
     "text": [
      "input_img.size():  torch.Size([3, 170, 255])\n",
      "resize2_img.size():  torch.Size([3, 43, 64])\n",
      "resize2_cut_img.size():  torch.Size([3, 40, 64])\n",
      "create_HrLr kernel_path:C:\\SaiVinay\\SproutsAI\\GitHub_\\ir_srgan_otsr\\results_kernels_DIV2K\\0207\\0207_kernel_x4.mat\n",
      "scale_factor:  [0.25, 0.25, 1]\n",
      "output_shape:  [43 64  3]\n",
      "im.shape:  (170, 255, 3)\n"
     ]
    },
    {
     "name": "stderr",
     "output_type": "stream",
     "text": [
      "Resizing images:  28%|██▊       | 207/738 [00:45<02:13,  3.96it/s]"
     ]
    },
    {
     "name": "stdout",
     "output_type": "stream",
     "text": [
      "input_img.size():  torch.Size([3, 170, 255])\n",
      "resize2_img.size():  torch.Size([3, 43, 64])\n",
      "resize2_cut_img.size():  torch.Size([3, 40, 64])\n",
      "create_HrLr kernel_path:C:\\SaiVinay\\SproutsAI\\GitHub_\\ir_srgan_otsr\\results_kernels_DIV2K\\0208\\0208_kernel_x4.mat\n",
      "scale_factor:  [0.25, 0.25, 1]\n",
      "output_shape:  [43 64  3]\n",
      "im.shape:  (170, 255, 3)\n"
     ]
    },
    {
     "name": "stderr",
     "output_type": "stream",
     "text": [
      "Resizing images:  28%|██▊       | 208/738 [00:46<02:10,  4.05it/s]"
     ]
    },
    {
     "name": "stdout",
     "output_type": "stream",
     "text": [
      "input_img.size():  torch.Size([3, 170, 255])\n",
      "resize2_img.size():  torch.Size([3, 43, 64])\n",
      "resize2_cut_img.size():  torch.Size([3, 40, 64])\n",
      "create_HrLr kernel_path:C:\\SaiVinay\\SproutsAI\\GitHub_\\ir_srgan_otsr\\results_kernels_DIV2K\\0209\\0209_kernel_x4.mat\n",
      "scale_factor:  [0.25, 0.25, 1]\n",
      "output_shape:  [43 64  3]\n",
      "im.shape:  (170, 255, 3)\n"
     ]
    },
    {
     "name": "stderr",
     "output_type": "stream",
     "text": [
      "Resizing images:  28%|██▊       | 209/738 [00:46<02:06,  4.20it/s]"
     ]
    },
    {
     "name": "stdout",
     "output_type": "stream",
     "text": [
      "input_img.size():  torch.Size([3, 170, 255])\n",
      "resize2_img.size():  torch.Size([3, 43, 64])\n",
      "resize2_cut_img.size():  torch.Size([3, 40, 64])\n",
      "create_HrLr kernel_path:C:\\SaiVinay\\SproutsAI\\GitHub_\\ir_srgan_otsr\\results_kernels_DIV2K\\0210\\0210_kernel_x4.mat\n",
      "scale_factor:  [0.25, 0.25, 1]\n",
      "output_shape:  [43 64  3]\n",
      "im.shape:  (170, 255, 3)\n"
     ]
    },
    {
     "name": "stderr",
     "output_type": "stream",
     "text": [
      "Resizing images:  28%|██▊       | 210/738 [00:46<02:06,  4.18it/s]"
     ]
    },
    {
     "name": "stdout",
     "output_type": "stream",
     "text": [
      "input_img.size():  torch.Size([3, 170, 255])\n",
      "resize2_img.size():  torch.Size([3, 43, 64])\n",
      "resize2_cut_img.size():  torch.Size([3, 40, 64])\n",
      "create_HrLr kernel_path:C:\\SaiVinay\\SproutsAI\\GitHub_\\ir_srgan_otsr\\results_kernels_DIV2K\\0211\\0211_kernel_x4.mat\n",
      "scale_factor:  [0.25, 0.25, 1]\n",
      "output_shape:  [43 64  3]\n",
      "im.shape:  (170, 255, 3)\n"
     ]
    },
    {
     "name": "stderr",
     "output_type": "stream",
     "text": [
      "Resizing images:  29%|██▊       | 211/738 [00:46<02:07,  4.13it/s]"
     ]
    },
    {
     "name": "stdout",
     "output_type": "stream",
     "text": [
      "input_img.size():  torch.Size([3, 192, 255])\n",
      "resize2_img.size():  torch.Size([3, 48, 64])\n",
      "resize2_cut_img.size():  torch.Size([3, 48, 64])\n",
      "create_HrLr kernel_path:C:\\SaiVinay\\SproutsAI\\GitHub_\\ir_srgan_otsr\\results_kernels_DIV2K\\0212\\0212_kernel_x4.mat\n",
      "scale_factor:  [0.25, 0.25, 1]\n",
      "output_shape:  [48 64  3]\n",
      "im.shape:  (192, 255, 3)\n"
     ]
    },
    {
     "name": "stderr",
     "output_type": "stream",
     "text": [
      "Resizing images:  29%|██▊       | 212/738 [00:46<02:07,  4.12it/s]"
     ]
    },
    {
     "name": "stdout",
     "output_type": "stream",
     "text": [
      "input_img.size():  torch.Size([3, 170, 255])\n",
      "resize2_img.size():  torch.Size([3, 43, 64])\n",
      "resize2_cut_img.size():  torch.Size([3, 40, 64])\n",
      "create_HrLr kernel_path:C:\\SaiVinay\\SproutsAI\\GitHub_\\ir_srgan_otsr\\results_kernels_DIV2K\\0213\\0213_kernel_x4.mat\n",
      "scale_factor:  [0.25, 0.25, 1]\n",
      "output_shape:  [43 64  3]\n",
      "im.shape:  (170, 255, 3)\n"
     ]
    },
    {
     "name": "stderr",
     "output_type": "stream",
     "text": [
      "Resizing images:  29%|██▉       | 213/738 [00:47<02:13,  3.93it/s]"
     ]
    },
    {
     "name": "stdout",
     "output_type": "stream",
     "text": [
      "input_img.size():  torch.Size([3, 170, 255])\n",
      "resize2_img.size():  torch.Size([3, 43, 64])\n",
      "resize2_cut_img.size():  torch.Size([3, 40, 64])\n",
      "create_HrLr kernel_path:C:\\SaiVinay\\SproutsAI\\GitHub_\\ir_srgan_otsr\\results_kernels_DIV2K\\0214\\0214_kernel_x4.mat\n",
      "scale_factor:  [0.25, 0.25, 1]\n",
      "output_shape:  [43 64  3]\n",
      "im.shape:  (170, 255, 3)\n"
     ]
    },
    {
     "name": "stderr",
     "output_type": "stream",
     "text": [
      "Resizing images:  29%|██▉       | 214/738 [00:47<02:13,  3.93it/s]"
     ]
    },
    {
     "name": "stdout",
     "output_type": "stream",
     "text": [
      "input_img.size():  torch.Size([3, 195, 255])\n",
      "resize2_img.size():  torch.Size([3, 49, 64])\n",
      "resize2_cut_img.size():  torch.Size([3, 48, 64])\n",
      "create_HrLr kernel_path:C:\\SaiVinay\\SproutsAI\\GitHub_\\ir_srgan_otsr\\results_kernels_DIV2K\\0215\\0215_kernel_x4.mat\n",
      "scale_factor:  [0.25, 0.25, 1]\n",
      "output_shape:  [49 64  3]\n",
      "im.shape:  (195, 255, 3)\n"
     ]
    },
    {
     "name": "stderr",
     "output_type": "stream",
     "text": [
      "Resizing images:  29%|██▉       | 215/738 [00:47<02:20,  3.74it/s]"
     ]
    },
    {
     "name": "stdout",
     "output_type": "stream",
     "text": [
      "input_img.size():  torch.Size([3, 204, 255])\n",
      "resize2_img.size():  torch.Size([3, 51, 64])\n",
      "resize2_cut_img.size():  torch.Size([3, 48, 64])\n",
      "create_HrLr kernel_path:C:\\SaiVinay\\SproutsAI\\GitHub_\\ir_srgan_otsr\\results_kernels_DIV2K\\0216\\0216_kernel_x4.mat\n",
      "scale_factor:  [0.25, 0.25, 1]\n",
      "output_shape:  [51 64  3]\n",
      "im.shape:  (204, 255, 3)\n"
     ]
    },
    {
     "name": "stderr",
     "output_type": "stream",
     "text": [
      "Resizing images:  29%|██▉       | 216/738 [00:48<02:22,  3.67it/s]"
     ]
    },
    {
     "name": "stdout",
     "output_type": "stream",
     "text": [
      "input_img.size():  torch.Size([3, 255, 255])\n",
      "resize2_img.size():  torch.Size([3, 64, 64])\n",
      "resize2_cut_img.size():  torch.Size([3, 64, 64])\n",
      "create_HrLr kernel_path:C:\\SaiVinay\\SproutsAI\\GitHub_\\ir_srgan_otsr\\results_kernels_DIV2K\\0217\\0217_kernel_x4.mat\n",
      "scale_factor:  [0.25, 0.25, 1]\n",
      "output_shape:  [64 64  3]\n",
      "im.shape:  (255, 255, 3)\n"
     ]
    },
    {
     "name": "stderr",
     "output_type": "stream",
     "text": [
      "Resizing images:  29%|██▉       | 217/738 [00:48<02:36,  3.33it/s]"
     ]
    },
    {
     "name": "stdout",
     "output_type": "stream",
     "text": [
      "input_img.size():  torch.Size([3, 170, 255])\n",
      "resize2_img.size():  torch.Size([3, 43, 64])\n",
      "resize2_cut_img.size():  torch.Size([3, 40, 64])\n",
      "create_HrLr kernel_path:C:\\SaiVinay\\SproutsAI\\GitHub_\\ir_srgan_otsr\\results_kernels_DIV2K\\0218\\0218_kernel_x4.mat\n",
      "scale_factor:  [0.25, 0.25, 1]\n",
      "output_shape:  [43 64  3]\n",
      "im.shape:  (170, 255, 3)\n"
     ]
    },
    {
     "name": "stderr",
     "output_type": "stream",
     "text": [
      "Resizing images:  30%|██▉       | 218/738 [00:48<02:25,  3.58it/s]"
     ]
    },
    {
     "name": "stdout",
     "output_type": "stream",
     "text": [
      "input_img.size():  torch.Size([3, 171, 255])\n",
      "resize2_img.size():  torch.Size([3, 43, 64])\n",
      "resize2_cut_img.size():  torch.Size([3, 40, 64])\n",
      "create_HrLr kernel_path:C:\\SaiVinay\\SproutsAI\\GitHub_\\ir_srgan_otsr\\results_kernels_DIV2K\\0219\\0219_kernel_x4.mat\n",
      "scale_factor:  [0.25, 0.25, 1]\n",
      "output_shape:  [43 64  3]\n",
      "im.shape:  (171, 255, 3)\n"
     ]
    },
    {
     "name": "stderr",
     "output_type": "stream",
     "text": [
      "Resizing images:  30%|██▉       | 219/738 [00:48<02:20,  3.71it/s]"
     ]
    },
    {
     "name": "stdout",
     "output_type": "stream",
     "text": [
      "input_img.size():  torch.Size([3, 170, 255])\n",
      "resize2_img.size():  torch.Size([3, 43, 64])\n",
      "resize2_cut_img.size():  torch.Size([3, 40, 64])\n",
      "create_HrLr kernel_path:C:\\SaiVinay\\SproutsAI\\GitHub_\\ir_srgan_otsr\\results_kernels_DIV2K\\0220\\0220_kernel_x4.mat\n",
      "scale_factor:  [0.25, 0.25, 1]\n",
      "output_shape:  [43 64  3]\n",
      "im.shape:  (170, 255, 3)\n"
     ]
    },
    {
     "name": "stderr",
     "output_type": "stream",
     "text": [
      "Resizing images:  30%|██▉       | 220/738 [00:49<02:14,  3.85it/s]"
     ]
    },
    {
     "name": "stdout",
     "output_type": "stream",
     "text": [
      "input_img.size():  torch.Size([3, 170, 255])\n",
      "resize2_img.size():  torch.Size([3, 43, 64])\n",
      "resize2_cut_img.size():  torch.Size([3, 40, 64])\n",
      "create_HrLr kernel_path:C:\\SaiVinay\\SproutsAI\\GitHub_\\ir_srgan_otsr\\results_kernels_DIV2K\\0221\\0221_kernel_x4.mat\n",
      "scale_factor:  [0.25, 0.25, 1]\n",
      "output_shape:  [43 64  3]\n",
      "im.shape:  (170, 255, 3)\n"
     ]
    },
    {
     "name": "stderr",
     "output_type": "stream",
     "text": [
      "Resizing images:  30%|██▉       | 221/738 [00:49<02:09,  3.99it/s]"
     ]
    },
    {
     "name": "stdout",
     "output_type": "stream",
     "text": [
      "input_img.size():  torch.Size([3, 146, 255])\n",
      "resize2_img.size():  torch.Size([3, 37, 64])\n",
      "resize2_cut_img.size():  torch.Size([3, 36, 64])\n",
      "create_HrLr kernel_path:C:\\SaiVinay\\SproutsAI\\GitHub_\\ir_srgan_otsr\\results_kernels_DIV2K\\0222\\0222_kernel_x4.mat\n",
      "scale_factor:  [0.25, 0.25, 1]\n",
      "output_shape:  [37 64  3]\n",
      "im.shape:  (146, 255, 3)\n"
     ]
    },
    {
     "name": "stderr",
     "output_type": "stream",
     "text": [
      "Resizing images:  30%|███       | 222/738 [00:49<02:05,  4.13it/s]"
     ]
    },
    {
     "name": "stdout",
     "output_type": "stream",
     "text": [
      "input_img.size():  torch.Size([3, 170, 255])\n",
      "resize2_img.size():  torch.Size([3, 43, 64])\n",
      "resize2_cut_img.size():  torch.Size([3, 40, 64])\n",
      "create_HrLr kernel_path:C:\\SaiVinay\\SproutsAI\\GitHub_\\ir_srgan_otsr\\results_kernels_DIV2K\\0223\\0223_kernel_x4.mat\n",
      "scale_factor:  [0.25, 0.25, 1]\n",
      "output_shape:  [43 64  3]\n",
      "im.shape:  (170, 255, 3)\n"
     ]
    },
    {
     "name": "stderr",
     "output_type": "stream",
     "text": [
      "Resizing images:  30%|███       | 223/738 [00:49<02:03,  4.16it/s]"
     ]
    },
    {
     "name": "stdout",
     "output_type": "stream",
     "text": [
      "input_img.size():  torch.Size([3, 170, 255])\n",
      "resize2_img.size():  torch.Size([3, 43, 64])\n",
      "resize2_cut_img.size():  torch.Size([3, 40, 64])\n",
      "create_HrLr kernel_path:C:\\SaiVinay\\SproutsAI\\GitHub_\\ir_srgan_otsr\\results_kernels_DIV2K\\0224\\0224_kernel_x4.mat\n",
      "scale_factor:  [0.25, 0.25, 1]\n",
      "output_shape:  [43 64  3]\n",
      "im.shape:  (170, 255, 3)\n"
     ]
    },
    {
     "name": "stderr",
     "output_type": "stream",
     "text": [
      "Resizing images:  30%|███       | 224/738 [00:50<02:05,  4.09it/s]"
     ]
    },
    {
     "name": "stdout",
     "output_type": "stream",
     "text": [
      "input_img.size():  torch.Size([3, 170, 255])\n",
      "resize2_img.size():  torch.Size([3, 43, 64])\n",
      "resize2_cut_img.size():  torch.Size([3, 40, 64])\n",
      "create_HrLr kernel_path:C:\\SaiVinay\\SproutsAI\\GitHub_\\ir_srgan_otsr\\results_kernels_DIV2K\\0225\\0225_kernel_x4.mat\n",
      "scale_factor:  [0.25, 0.25, 1]\n",
      "output_shape:  [43 64  3]\n",
      "im.shape:  (170, 255, 3)\n"
     ]
    },
    {
     "name": "stderr",
     "output_type": "stream",
     "text": [
      "Resizing images:  30%|███       | 225/738 [00:50<02:04,  4.13it/s]"
     ]
    },
    {
     "name": "stdout",
     "output_type": "stream",
     "text": [
      "input_img.size():  torch.Size([3, 170, 255])\n",
      "resize2_img.size():  torch.Size([3, 43, 64])\n",
      "resize2_cut_img.size():  torch.Size([3, 40, 64])\n",
      "create_HrLr kernel_path:C:\\SaiVinay\\SproutsAI\\GitHub_\\ir_srgan_otsr\\results_kernels_DIV2K\\0226\\0226_kernel_x4.mat\n",
      "scale_factor:  [0.25, 0.25, 1]\n",
      "output_shape:  [43 64  3]\n",
      "im.shape:  (170, 255, 3)\n"
     ]
    },
    {
     "name": "stderr",
     "output_type": "stream",
     "text": [
      "Resizing images:  31%|███       | 226/738 [00:50<02:01,  4.22it/s]"
     ]
    },
    {
     "name": "stdout",
     "output_type": "stream",
     "text": [
      "input_img.size():  torch.Size([3, 255, 170])\n",
      "resize2_img.size():  torch.Size([3, 64, 43])\n",
      "resize2_cut_img.size():  torch.Size([3, 64, 40])\n",
      "create_HrLr kernel_path:C:\\SaiVinay\\SproutsAI\\GitHub_\\ir_srgan_otsr\\results_kernels_DIV2K\\0227\\0227_kernel_x4.mat\n",
      "scale_factor:  [0.25, 0.25, 1]\n",
      "output_shape:  [64 43  3]\n",
      "im.shape:  (255, 170, 3)\n"
     ]
    },
    {
     "name": "stderr",
     "output_type": "stream",
     "text": [
      "Resizing images:  31%|███       | 227/738 [00:50<02:02,  4.18it/s]"
     ]
    },
    {
     "name": "stdout",
     "output_type": "stream",
     "text": [
      "input_img.size():  torch.Size([3, 170, 255])\n",
      "resize2_img.size():  torch.Size([3, 43, 64])\n",
      "resize2_cut_img.size():  torch.Size([3, 40, 64])\n",
      "create_HrLr kernel_path:C:\\SaiVinay\\SproutsAI\\GitHub_\\ir_srgan_otsr\\results_kernels_DIV2K\\0228\\0228_kernel_x4.mat\n",
      "scale_factor:  [0.25, 0.25, 1]\n",
      "output_shape:  [43 64  3]\n",
      "im.shape:  (170, 255, 3)\n"
     ]
    },
    {
     "name": "stderr",
     "output_type": "stream",
     "text": [
      "Resizing images:  31%|███       | 228/738 [00:51<02:04,  4.10it/s]"
     ]
    },
    {
     "name": "stdout",
     "output_type": "stream",
     "text": [
      "input_img.size():  torch.Size([3, 162, 255])\n",
      "resize2_img.size():  torch.Size([3, 41, 64])\n",
      "resize2_cut_img.size():  torch.Size([3, 40, 64])\n",
      "create_HrLr kernel_path:C:\\SaiVinay\\SproutsAI\\GitHub_\\ir_srgan_otsr\\results_kernels_DIV2K\\0229\\0229_kernel_x4.mat\n",
      "scale_factor:  [0.25, 0.25, 1]\n",
      "output_shape:  [41 64  3]\n",
      "im.shape:  (162, 255, 3)\n"
     ]
    },
    {
     "name": "stderr",
     "output_type": "stream",
     "text": [
      "Resizing images:  31%|███       | 229/738 [00:51<02:00,  4.22it/s]"
     ]
    },
    {
     "name": "stdout",
     "output_type": "stream",
     "text": [
      "input_img.size():  torch.Size([3, 174, 255])\n",
      "resize2_img.size():  torch.Size([3, 44, 64])\n",
      "resize2_cut_img.size():  torch.Size([3, 44, 64])\n",
      "create_HrLr kernel_path:C:\\SaiVinay\\SproutsAI\\GitHub_\\ir_srgan_otsr\\results_kernels_DIV2K\\0230\\0230_kernel_x4.mat\n",
      "scale_factor:  [0.25, 0.25, 1]\n",
      "output_shape:  [44 64  3]\n",
      "im.shape:  (174, 255, 3)\n"
     ]
    },
    {
     "name": "stderr",
     "output_type": "stream",
     "text": [
      "Resizing images:  31%|███       | 230/738 [00:51<01:58,  4.30it/s]"
     ]
    },
    {
     "name": "stdout",
     "output_type": "stream",
     "text": [
      "input_img.size():  torch.Size([3, 170, 255])\n",
      "resize2_img.size():  torch.Size([3, 43, 64])\n",
      "resize2_cut_img.size():  torch.Size([3, 40, 64])\n",
      "create_HrLr kernel_path:C:\\SaiVinay\\SproutsAI\\GitHub_\\ir_srgan_otsr\\results_kernels_DIV2K\\0231\\0231_kernel_x4.mat\n",
      "scale_factor:  [0.25, 0.25, 1]\n",
      "output_shape:  [43 64  3]\n",
      "im.shape:  (170, 255, 3)\n"
     ]
    },
    {
     "name": "stderr",
     "output_type": "stream",
     "text": [
      "Resizing images:  31%|███▏      | 231/738 [00:51<02:04,  4.07it/s]"
     ]
    },
    {
     "name": "stdout",
     "output_type": "stream",
     "text": [
      "input_img.size():  torch.Size([3, 170, 255])\n",
      "resize2_img.size():  torch.Size([3, 43, 64])\n",
      "resize2_cut_img.size():  torch.Size([3, 40, 64])\n",
      "create_HrLr kernel_path:C:\\SaiVinay\\SproutsAI\\GitHub_\\ir_srgan_otsr\\results_kernels_DIV2K\\0232\\0232_kernel_x4.mat\n",
      "scale_factor:  [0.25, 0.25, 1]\n",
      "output_shape:  [43 64  3]\n",
      "im.shape:  (170, 255, 3)\n"
     ]
    },
    {
     "name": "stderr",
     "output_type": "stream",
     "text": [
      "Resizing images:  31%|███▏      | 232/738 [00:52<02:03,  4.10it/s]"
     ]
    },
    {
     "name": "stdout",
     "output_type": "stream",
     "text": [
      "input_img.size():  torch.Size([3, 171, 255])\n",
      "resize2_img.size():  torch.Size([3, 43, 64])\n",
      "resize2_cut_img.size():  torch.Size([3, 40, 64])\n",
      "create_HrLr kernel_path:C:\\SaiVinay\\SproutsAI\\GitHub_\\ir_srgan_otsr\\results_kernels_DIV2K\\0233\\0233_kernel_x4.mat\n",
      "scale_factor:  [0.25, 0.25, 1]\n",
      "output_shape:  [43 64  3]\n",
      "im.shape:  (171, 255, 3)\n"
     ]
    },
    {
     "name": "stderr",
     "output_type": "stream",
     "text": [
      "Resizing images:  32%|███▏      | 233/738 [00:52<02:01,  4.16it/s]"
     ]
    },
    {
     "name": "stdout",
     "output_type": "stream",
     "text": [
      "input_img.size():  torch.Size([3, 170, 255])\n",
      "resize2_img.size():  torch.Size([3, 43, 64])\n",
      "resize2_cut_img.size():  torch.Size([3, 40, 64])\n",
      "create_HrLr kernel_path:C:\\SaiVinay\\SproutsAI\\GitHub_\\ir_srgan_otsr\\results_kernels_DIV2K\\0234\\0234_kernel_x4.mat\n",
      "scale_factor:  [0.25, 0.25, 1]\n",
      "output_shape:  [43 64  3]\n",
      "im.shape:  (170, 255, 3)\n"
     ]
    },
    {
     "name": "stderr",
     "output_type": "stream",
     "text": [
      "Resizing images:  32%|███▏      | 234/738 [00:52<02:02,  4.13it/s]"
     ]
    },
    {
     "name": "stdout",
     "output_type": "stream",
     "text": [
      "input_img.size():  torch.Size([3, 170, 255])\n",
      "resize2_img.size():  torch.Size([3, 43, 64])\n",
      "resize2_cut_img.size():  torch.Size([3, 40, 64])\n",
      "create_HrLr kernel_path:C:\\SaiVinay\\SproutsAI\\GitHub_\\ir_srgan_otsr\\results_kernels_DIV2K\\0235\\0235_kernel_x4.mat\n",
      "scale_factor:  [0.25, 0.25, 1]\n",
      "output_shape:  [43 64  3]\n",
      "im.shape:  (170, 255, 3)\n"
     ]
    },
    {
     "name": "stderr",
     "output_type": "stream",
     "text": [
      "Resizing images:  32%|███▏      | 235/738 [00:52<02:00,  4.19it/s]"
     ]
    },
    {
     "name": "stdout",
     "output_type": "stream",
     "text": [
      "input_img.size():  torch.Size([3, 170, 255])\n",
      "resize2_img.size():  torch.Size([3, 43, 64])\n",
      "resize2_cut_img.size():  torch.Size([3, 40, 64])\n",
      "create_HrLr kernel_path:C:\\SaiVinay\\SproutsAI\\GitHub_\\ir_srgan_otsr\\results_kernels_DIV2K\\0236\\0236_kernel_x4.mat\n",
      "scale_factor:  [0.25, 0.25, 1]\n",
      "output_shape:  [43 64  3]\n",
      "im.shape:  (170, 255, 3)\n"
     ]
    },
    {
     "name": "stderr",
     "output_type": "stream",
     "text": [
      "Resizing images:  32%|███▏      | 236/738 [00:53<02:09,  3.88it/s]"
     ]
    },
    {
     "name": "stdout",
     "output_type": "stream",
     "text": [
      "input_img.size():  torch.Size([3, 143, 255])\n",
      "resize2_img.size():  torch.Size([3, 36, 64])\n",
      "resize2_cut_img.size():  torch.Size([3, 36, 64])\n",
      "create_HrLr kernel_path:C:\\SaiVinay\\SproutsAI\\GitHub_\\ir_srgan_otsr\\results_kernels_DIV2K\\0237\\0237_kernel_x4.mat\n",
      "scale_factor:  [0.25, 0.25, 1]\n",
      "output_shape:  [36 64  3]\n",
      "im.shape:  (143, 255, 3)\n"
     ]
    },
    {
     "name": "stderr",
     "output_type": "stream",
     "text": [
      "Resizing images:  32%|███▏      | 237/738 [00:53<02:02,  4.08it/s]"
     ]
    },
    {
     "name": "stdout",
     "output_type": "stream",
     "text": [
      "input_img.size():  torch.Size([3, 255, 162])\n",
      "resize2_img.size():  torch.Size([3, 64, 41])\n",
      "resize2_cut_img.size():  torch.Size([3, 64, 40])\n",
      "create_HrLr kernel_path:C:\\SaiVinay\\SproutsAI\\GitHub_\\ir_srgan_otsr\\results_kernels_DIV2K\\0238\\0238_kernel_x4.mat\n",
      "scale_factor:  [0.25, 0.25, 1]\n",
      "output_shape:  [64 41  3]\n",
      "im.shape:  (255, 162, 3)\n"
     ]
    },
    {
     "name": "stderr",
     "output_type": "stream",
     "text": [
      "Resizing images:  32%|███▏      | 238/738 [00:53<02:00,  4.16it/s]"
     ]
    },
    {
     "name": "stdout",
     "output_type": "stream",
     "text": [
      "input_img.size():  torch.Size([3, 144, 255])\n",
      "resize2_img.size():  torch.Size([3, 36, 64])\n",
      "resize2_cut_img.size():  torch.Size([3, 36, 64])\n",
      "create_HrLr kernel_path:C:\\SaiVinay\\SproutsAI\\GitHub_\\ir_srgan_otsr\\results_kernels_DIV2K\\0239\\0239_kernel_x4.mat\n",
      "scale_factor:  [0.25, 0.25, 1]\n",
      "output_shape:  [36 64  3]\n",
      "im.shape:  (144, 255, 3)\n"
     ]
    },
    {
     "name": "stderr",
     "output_type": "stream",
     "text": [
      "Resizing images:  32%|███▏      | 239/738 [00:53<01:57,  4.26it/s]"
     ]
    },
    {
     "name": "stdout",
     "output_type": "stream",
     "text": [
      "input_img.size():  torch.Size([3, 230, 255])\n",
      "resize2_img.size():  torch.Size([3, 58, 64])\n",
      "resize2_cut_img.size():  torch.Size([3, 56, 64])\n",
      "create_HrLr kernel_path:C:\\SaiVinay\\SproutsAI\\GitHub_\\ir_srgan_otsr\\results_kernels_DIV2K\\0240\\0240_kernel_x4.mat\n",
      "scale_factor:  [0.25, 0.25, 1]\n",
      "output_shape:  [58 64  3]\n",
      "im.shape:  (230, 255, 3)\n"
     ]
    },
    {
     "name": "stderr",
     "output_type": "stream",
     "text": [
      "Resizing images:  33%|███▎      | 240/738 [00:54<02:03,  4.02it/s]"
     ]
    },
    {
     "name": "stdout",
     "output_type": "stream",
     "text": [
      "input_img.size():  torch.Size([3, 170, 255])\n",
      "resize2_img.size():  torch.Size([3, 43, 64])\n",
      "resize2_cut_img.size():  torch.Size([3, 40, 64])\n",
      "create_HrLr kernel_path:C:\\SaiVinay\\SproutsAI\\GitHub_\\ir_srgan_otsr\\results_kernels_DIV2K\\0241\\0241_kernel_x4.mat\n",
      "scale_factor:  [0.25, 0.25, 1]\n",
      "output_shape:  [43 64  3]\n",
      "im.shape:  (170, 255, 3)\n"
     ]
    },
    {
     "name": "stderr",
     "output_type": "stream",
     "text": [
      "Resizing images:  33%|███▎      | 241/738 [00:54<02:02,  4.06it/s]"
     ]
    },
    {
     "name": "stdout",
     "output_type": "stream",
     "text": [
      "input_img.size():  torch.Size([3, 170, 255])\n",
      "resize2_img.size():  torch.Size([3, 43, 64])\n",
      "resize2_cut_img.size():  torch.Size([3, 40, 64])\n",
      "create_HrLr kernel_path:C:\\SaiVinay\\SproutsAI\\GitHub_\\ir_srgan_otsr\\results_kernels_DIV2K\\0242\\0242_kernel_x4.mat\n",
      "scale_factor:  [0.25, 0.25, 1]\n",
      "output_shape:  [43 64  3]\n",
      "im.shape:  (170, 255, 3)\n"
     ]
    },
    {
     "name": "stderr",
     "output_type": "stream",
     "text": [
      "Resizing images:  33%|███▎      | 243/738 [00:54<01:50,  4.47it/s]"
     ]
    },
    {
     "name": "stdout",
     "output_type": "stream",
     "text": [
      "input_img.size():  torch.Size([3, 98, 255])\n",
      "resize2_img.size():  torch.Size([3, 25, 64])\n",
      "resize2_cut_img.size():  torch.Size([3, 24, 64])\n",
      "create_HrLr kernel_path:C:\\SaiVinay\\SproutsAI\\GitHub_\\ir_srgan_otsr\\results_kernels_DIV2K\\0243\\0243_kernel_x4.mat\n",
      "scale_factor:  [0.25, 0.25, 1]\n",
      "output_shape:  [25 64  3]\n",
      "im.shape:  (98, 255, 3)\n",
      "input_img.size():  torch.Size([3, 192, 255])\n",
      "resize2_img.size():  torch.Size([3, 48, 64])\n",
      "resize2_cut_img.size():  torch.Size([3, 48, 64])\n",
      "create_HrLr kernel_path:C:\\SaiVinay\\SproutsAI\\GitHub_\\ir_srgan_otsr\\results_kernels_DIV2K\\0244\\0244_kernel_x4.mat\n",
      "scale_factor:  [0.25, 0.25, 1]\n",
      "output_shape:  [48 64  3]\n",
      "im.shape:  (192, 255, 3)\n"
     ]
    },
    {
     "name": "stderr",
     "output_type": "stream",
     "text": [
      "Resizing images:  33%|███▎      | 244/738 [00:54<01:55,  4.29it/s]"
     ]
    },
    {
     "name": "stdout",
     "output_type": "stream",
     "text": [
      "input_img.size():  torch.Size([3, 192, 255])\n",
      "resize2_img.size():  torch.Size([3, 48, 64])\n",
      "resize2_cut_img.size():  torch.Size([3, 48, 64])\n",
      "create_HrLr kernel_path:C:\\SaiVinay\\SproutsAI\\GitHub_\\ir_srgan_otsr\\results_kernels_DIV2K\\0245\\0245_kernel_x4.mat\n",
      "scale_factor:  [0.25, 0.25, 1]\n",
      "output_shape:  [48 64  3]\n",
      "im.shape:  (192, 255, 3)\n"
     ]
    },
    {
     "name": "stderr",
     "output_type": "stream",
     "text": [
      "Resizing images:  33%|███▎      | 245/738 [00:55<01:58,  4.15it/s]"
     ]
    },
    {
     "name": "stdout",
     "output_type": "stream",
     "text": [
      "input_img.size():  torch.Size([3, 255, 170])\n",
      "resize2_img.size():  torch.Size([3, 64, 43])\n",
      "resize2_cut_img.size():  torch.Size([3, 64, 40])\n",
      "create_HrLr kernel_path:C:\\SaiVinay\\SproutsAI\\GitHub_\\ir_srgan_otsr\\results_kernels_DIV2K\\0246\\0246_kernel_x4.mat\n",
      "scale_factor:  [0.25, 0.25, 1]\n",
      "output_shape:  [64 43  3]\n",
      "im.shape:  (255, 170, 3)\n"
     ]
    },
    {
     "name": "stderr",
     "output_type": "stream",
     "text": [
      "Resizing images:  33%|███▎      | 246/738 [00:55<02:02,  4.00it/s]"
     ]
    },
    {
     "name": "stdout",
     "output_type": "stream",
     "text": [
      "input_img.size():  torch.Size([3, 170, 255])\n",
      "resize2_img.size():  torch.Size([3, 43, 64])\n",
      "resize2_cut_img.size():  torch.Size([3, 40, 64])\n",
      "create_HrLr kernel_path:C:\\SaiVinay\\SproutsAI\\GitHub_\\ir_srgan_otsr\\results_kernels_DIV2K\\0247\\0247_kernel_x4.mat\n",
      "scale_factor:  [0.25, 0.25, 1]\n",
      "output_shape:  [43 64  3]\n",
      "im.shape:  (170, 255, 3)\n"
     ]
    },
    {
     "name": "stderr",
     "output_type": "stream",
     "text": [
      "Resizing images:  33%|███▎      | 247/738 [00:55<02:03,  3.97it/s]"
     ]
    },
    {
     "name": "stdout",
     "output_type": "stream",
     "text": [
      "input_img.size():  torch.Size([3, 170, 255])\n",
      "resize2_img.size():  torch.Size([3, 43, 64])\n",
      "resize2_cut_img.size():  torch.Size([3, 40, 64])\n",
      "create_HrLr kernel_path:C:\\SaiVinay\\SproutsAI\\GitHub_\\ir_srgan_otsr\\results_kernels_DIV2K\\0248\\0248_kernel_x4.mat\n",
      "scale_factor:  [0.25, 0.25, 1]\n",
      "output_shape:  [43 64  3]\n",
      "im.shape:  (170, 255, 3)\n"
     ]
    },
    {
     "name": "stderr",
     "output_type": "stream",
     "text": [
      "Resizing images:  34%|███▎      | 248/738 [00:55<02:04,  3.94it/s]"
     ]
    },
    {
     "name": "stdout",
     "output_type": "stream",
     "text": [
      "input_img.size():  torch.Size([3, 170, 255])\n",
      "resize2_img.size():  torch.Size([3, 43, 64])\n",
      "resize2_cut_img.size():  torch.Size([3, 40, 64])\n",
      "create_HrLr kernel_path:C:\\SaiVinay\\SproutsAI\\GitHub_\\ir_srgan_otsr\\results_kernels_DIV2K\\0249\\0249_kernel_x4.mat\n",
      "scale_factor:  [0.25, 0.25, 1]\n",
      "output_shape:  [43 64  3]\n",
      "im.shape:  (170, 255, 3)\n"
     ]
    },
    {
     "name": "stderr",
     "output_type": "stream",
     "text": [
      "Resizing images:  34%|███▎      | 249/738 [00:56<02:05,  3.89it/s]"
     ]
    },
    {
     "name": "stdout",
     "output_type": "stream",
     "text": [
      "input_img.size():  torch.Size([3, 170, 255])\n",
      "resize2_img.size():  torch.Size([3, 43, 64])\n",
      "resize2_cut_img.size():  torch.Size([3, 40, 64])\n",
      "create_HrLr kernel_path:C:\\SaiVinay\\SproutsAI\\GitHub_\\ir_srgan_otsr\\results_kernels_DIV2K\\0250\\0250_kernel_x4.mat\n",
      "scale_factor:  [0.25, 0.25, 1]\n",
      "output_shape:  [43 64  3]\n",
      "im.shape:  (170, 255, 3)\n"
     ]
    },
    {
     "name": "stderr",
     "output_type": "stream",
     "text": [
      "Resizing images:  34%|███▍      | 250/738 [00:56<02:00,  4.04it/s]"
     ]
    },
    {
     "name": "stdout",
     "output_type": "stream",
     "text": [
      "input_img.size():  torch.Size([3, 170, 255])\n",
      "resize2_img.size():  torch.Size([3, 43, 64])\n",
      "resize2_cut_img.size():  torch.Size([3, 40, 64])\n",
      "create_HrLr kernel_path:C:\\SaiVinay\\SproutsAI\\GitHub_\\ir_srgan_otsr\\results_kernels_DIV2K\\0251\\0251_kernel_x4.mat\n",
      "scale_factor:  [0.25, 0.25, 1]\n",
      "output_shape:  [43 64  3]\n",
      "im.shape:  (170, 255, 3)\n"
     ]
    },
    {
     "name": "stderr",
     "output_type": "stream",
     "text": [
      "Resizing images:  34%|███▍      | 251/738 [00:56<02:03,  3.94it/s]"
     ]
    },
    {
     "name": "stdout",
     "output_type": "stream",
     "text": [
      "input_img.size():  torch.Size([3, 170, 255])\n",
      "resize2_img.size():  torch.Size([3, 43, 64])\n",
      "resize2_cut_img.size():  torch.Size([3, 40, 64])\n",
      "create_HrLr kernel_path:C:\\SaiVinay\\SproutsAI\\GitHub_\\ir_srgan_otsr\\results_kernels_DIV2K\\0252\\0252_kernel_x4.mat\n",
      "scale_factor:  [0.25, 0.25, 1]\n",
      "output_shape:  [43 64  3]\n",
      "im.shape:  (170, 255, 3)\n"
     ]
    },
    {
     "name": "stderr",
     "output_type": "stream",
     "text": [
      "Resizing images:  34%|███▍      | 252/738 [00:56<02:02,  3.98it/s]"
     ]
    },
    {
     "name": "stdout",
     "output_type": "stream",
     "text": [
      "input_img.size():  torch.Size([3, 170, 255])\n",
      "resize2_img.size():  torch.Size([3, 43, 64])\n",
      "resize2_cut_img.size():  torch.Size([3, 40, 64])\n",
      "create_HrLr kernel_path:C:\\SaiVinay\\SproutsAI\\GitHub_\\ir_srgan_otsr\\results_kernels_DIV2K\\0253\\0253_kernel_x4.mat\n",
      "scale_factor:  [0.25, 0.25, 1]\n",
      "output_shape:  [43 64  3]\n",
      "im.shape:  (170, 255, 3)\n"
     ]
    },
    {
     "name": "stderr",
     "output_type": "stream",
     "text": [
      "Resizing images:  34%|███▍      | 253/738 [00:57<01:59,  4.07it/s]"
     ]
    },
    {
     "name": "stdout",
     "output_type": "stream",
     "text": [
      "input_img.size():  torch.Size([3, 170, 255])\n",
      "resize2_img.size():  torch.Size([3, 43, 64])\n",
      "resize2_cut_img.size():  torch.Size([3, 40, 64])\n",
      "create_HrLr kernel_path:C:\\SaiVinay\\SproutsAI\\GitHub_\\ir_srgan_otsr\\results_kernels_DIV2K\\0254\\0254_kernel_x4.mat\n",
      "scale_factor:  [0.25, 0.25, 1]\n",
      "output_shape:  [43 64  3]\n",
      "im.shape:  (170, 255, 3)\n"
     ]
    },
    {
     "name": "stderr",
     "output_type": "stream",
     "text": [
      "Resizing images:  34%|███▍      | 254/738 [00:57<01:58,  4.07it/s]"
     ]
    },
    {
     "name": "stdout",
     "output_type": "stream",
     "text": [
      "input_img.size():  torch.Size([3, 170, 255])\n",
      "resize2_img.size():  torch.Size([3, 43, 64])\n",
      "resize2_cut_img.size():  torch.Size([3, 40, 64])\n",
      "create_HrLr kernel_path:C:\\SaiVinay\\SproutsAI\\GitHub_\\ir_srgan_otsr\\results_kernels_DIV2K\\0255\\0255_kernel_x4.mat\n",
      "scale_factor:  [0.25, 0.25, 1]\n",
      "output_shape:  [43 64  3]\n",
      "im.shape:  (170, 255, 3)\n"
     ]
    },
    {
     "name": "stderr",
     "output_type": "stream",
     "text": [
      "Resizing images:  35%|███▍      | 255/738 [00:57<01:56,  4.13it/s]"
     ]
    },
    {
     "name": "stdout",
     "output_type": "stream",
     "text": [
      "input_img.size():  torch.Size([3, 170, 255])\n",
      "resize2_img.size():  torch.Size([3, 43, 64])\n",
      "resize2_cut_img.size():  torch.Size([3, 40, 64])\n",
      "create_HrLr kernel_path:C:\\SaiVinay\\SproutsAI\\GitHub_\\ir_srgan_otsr\\results_kernels_DIV2K\\0256\\0256_kernel_x4.mat\n",
      "scale_factor:  [0.25, 0.25, 1]\n",
      "output_shape:  [43 64  3]\n",
      "im.shape:  (170, 255, 3)\n"
     ]
    },
    {
     "name": "stderr",
     "output_type": "stream",
     "text": [
      "Resizing images:  35%|███▍      | 256/738 [00:57<01:54,  4.19it/s]"
     ]
    },
    {
     "name": "stdout",
     "output_type": "stream",
     "text": [
      "input_img.size():  torch.Size([3, 170, 255])\n",
      "resize2_img.size():  torch.Size([3, 43, 64])\n",
      "resize2_cut_img.size():  torch.Size([3, 40, 64])\n",
      "create_HrLr kernel_path:C:\\SaiVinay\\SproutsAI\\GitHub_\\ir_srgan_otsr\\results_kernels_DIV2K\\0257\\0257_kernel_x4.mat\n",
      "scale_factor:  [0.25, 0.25, 1]\n",
      "output_shape:  [43 64  3]\n",
      "im.shape:  (170, 255, 3)\n"
     ]
    },
    {
     "name": "stderr",
     "output_type": "stream",
     "text": [
      "Resizing images:  35%|███▍      | 257/738 [00:58<02:04,  3.86it/s]"
     ]
    },
    {
     "name": "stdout",
     "output_type": "stream",
     "text": [
      "input_img.size():  torch.Size([3, 170, 255])\n",
      "resize2_img.size():  torch.Size([3, 43, 64])\n",
      "resize2_cut_img.size():  torch.Size([3, 40, 64])\n",
      "create_HrLr kernel_path:C:\\SaiVinay\\SproutsAI\\GitHub_\\ir_srgan_otsr\\results_kernels_DIV2K\\0258\\0258_kernel_x4.mat\n",
      "scale_factor:  [0.25, 0.25, 1]\n",
      "output_shape:  [43 64  3]\n",
      "im.shape:  (170, 255, 3)\n"
     ]
    },
    {
     "name": "stderr",
     "output_type": "stream",
     "text": [
      "Resizing images:  35%|███▍      | 258/738 [00:58<02:09,  3.70it/s]"
     ]
    },
    {
     "name": "stdout",
     "output_type": "stream",
     "text": [
      "input_img.size():  torch.Size([3, 162, 255])\n",
      "resize2_img.size():  torch.Size([3, 41, 64])\n",
      "resize2_cut_img.size():  torch.Size([3, 40, 64])\n",
      "create_HrLr kernel_path:C:\\SaiVinay\\SproutsAI\\GitHub_\\ir_srgan_otsr\\results_kernels_DIV2K\\0259\\0259_kernel_x4.mat\n",
      "scale_factor:  [0.25, 0.25, 1]\n",
      "output_shape:  [41 64  3]\n",
      "im.shape:  (162, 255, 3)\n"
     ]
    },
    {
     "name": "stderr",
     "output_type": "stream",
     "text": [
      "Resizing images:  35%|███▌      | 259/738 [00:58<02:05,  3.82it/s]"
     ]
    },
    {
     "name": "stdout",
     "output_type": "stream",
     "text": [
      "input_img.size():  torch.Size([3, 170, 255])\n",
      "resize2_img.size():  torch.Size([3, 43, 64])\n",
      "resize2_cut_img.size():  torch.Size([3, 40, 64])\n",
      "create_HrLr kernel_path:C:\\SaiVinay\\SproutsAI\\GitHub_\\ir_srgan_otsr\\results_kernels_DIV2K\\0260\\0260_kernel_x4.mat\n",
      "scale_factor:  [0.25, 0.25, 1]\n",
      "output_shape:  [43 64  3]\n",
      "im.shape:  (170, 255, 3)\n"
     ]
    },
    {
     "name": "stderr",
     "output_type": "stream",
     "text": [
      "Resizing images:  35%|███▌      | 260/738 [00:59<02:04,  3.85it/s]"
     ]
    },
    {
     "name": "stdout",
     "output_type": "stream",
     "text": [
      "input_img.size():  torch.Size([3, 170, 255])\n",
      "resize2_img.size():  torch.Size([3, 43, 64])\n",
      "resize2_cut_img.size():  torch.Size([3, 40, 64])\n",
      "create_HrLr kernel_path:C:\\SaiVinay\\SproutsAI\\GitHub_\\ir_srgan_otsr\\results_kernels_DIV2K\\0261\\0261_kernel_x4.mat\n",
      "scale_factor:  [0.25, 0.25, 1]\n",
      "output_shape:  [43 64  3]\n",
      "im.shape:  (170, 255, 3)\n"
     ]
    },
    {
     "name": "stderr",
     "output_type": "stream",
     "text": [
      "Resizing images:  35%|███▌      | 261/738 [00:59<02:03,  3.87it/s]"
     ]
    },
    {
     "name": "stdout",
     "output_type": "stream",
     "text": [
      "input_img.size():  torch.Size([3, 170, 255])\n",
      "resize2_img.size():  torch.Size([3, 43, 64])\n",
      "resize2_cut_img.size():  torch.Size([3, 40, 64])\n",
      "create_HrLr kernel_path:C:\\SaiVinay\\SproutsAI\\GitHub_\\ir_srgan_otsr\\results_kernels_DIV2K\\0262\\0262_kernel_x4.mat\n",
      "scale_factor:  [0.25, 0.25, 1]\n",
      "output_shape:  [43 64  3]\n",
      "im.shape:  (170, 255, 3)\n"
     ]
    },
    {
     "name": "stderr",
     "output_type": "stream",
     "text": [
      "Resizing images:  36%|███▌      | 262/738 [00:59<01:59,  3.98it/s]"
     ]
    },
    {
     "name": "stdout",
     "output_type": "stream",
     "text": [
      "input_img.size():  torch.Size([3, 167, 255])\n",
      "resize2_img.size():  torch.Size([3, 42, 64])\n",
      "resize2_cut_img.size():  torch.Size([3, 40, 64])\n",
      "create_HrLr kernel_path:C:\\SaiVinay\\SproutsAI\\GitHub_\\ir_srgan_otsr\\results_kernels_DIV2K\\0263\\0263_kernel_x4.mat\n",
      "scale_factor:  [0.25, 0.25, 1]\n",
      "output_shape:  [42 64  3]\n",
      "im.shape:  (167, 255, 3)\n"
     ]
    },
    {
     "name": "stderr",
     "output_type": "stream",
     "text": [
      "Resizing images:  36%|███▌      | 263/738 [00:59<01:54,  4.13it/s]"
     ]
    },
    {
     "name": "stdout",
     "output_type": "stream",
     "text": [
      "input_img.size():  torch.Size([3, 170, 255])\n",
      "resize2_img.size():  torch.Size([3, 43, 64])\n",
      "resize2_cut_img.size():  torch.Size([3, 40, 64])\n",
      "create_HrLr kernel_path:C:\\SaiVinay\\SproutsAI\\GitHub_\\ir_srgan_otsr\\results_kernels_DIV2K\\0264\\0264_kernel_x4.mat\n",
      "scale_factor:  [0.25, 0.25, 1]\n",
      "output_shape:  [43 64  3]\n",
      "im.shape:  (170, 255, 3)\n"
     ]
    },
    {
     "name": "stderr",
     "output_type": "stream",
     "text": [
      "Resizing images:  36%|███▌      | 264/738 [00:59<01:58,  3.99it/s]"
     ]
    },
    {
     "name": "stdout",
     "output_type": "stream",
     "text": [
      "input_img.size():  torch.Size([3, 170, 255])\n",
      "resize2_img.size():  torch.Size([3, 43, 64])\n",
      "resize2_cut_img.size():  torch.Size([3, 40, 64])\n",
      "create_HrLr kernel_path:C:\\SaiVinay\\SproutsAI\\GitHub_\\ir_srgan_otsr\\results_kernels_DIV2K\\0265\\0265_kernel_x4.mat\n",
      "scale_factor:  [0.25, 0.25, 1]\n",
      "output_shape:  [43 64  3]\n",
      "im.shape:  (170, 255, 3)\n"
     ]
    },
    {
     "name": "stderr",
     "output_type": "stream",
     "text": [
      "Resizing images:  36%|███▌      | 265/738 [01:00<01:55,  4.11it/s]"
     ]
    },
    {
     "name": "stdout",
     "output_type": "stream",
     "text": [
      "input_img.size():  torch.Size([3, 170, 255])\n",
      "resize2_img.size():  torch.Size([3, 43, 64])\n",
      "resize2_cut_img.size():  torch.Size([3, 40, 64])\n",
      "create_HrLr kernel_path:C:\\SaiVinay\\SproutsAI\\GitHub_\\ir_srgan_otsr\\results_kernels_DIV2K\\0266\\0266_kernel_x4.mat\n",
      "scale_factor:  [0.25, 0.25, 1]\n",
      "output_shape:  [43 64  3]\n",
      "im.shape:  (170, 255, 3)\n"
     ]
    },
    {
     "name": "stderr",
     "output_type": "stream",
     "text": [
      "Resizing images:  36%|███▌      | 266/738 [01:00<01:53,  4.17it/s]"
     ]
    },
    {
     "name": "stdout",
     "output_type": "stream",
     "text": [
      "input_img.size():  torch.Size([3, 170, 255])\n",
      "resize2_img.size():  torch.Size([3, 43, 64])\n",
      "resize2_cut_img.size():  torch.Size([3, 40, 64])\n",
      "create_HrLr kernel_path:C:\\SaiVinay\\SproutsAI\\GitHub_\\ir_srgan_otsr\\results_kernels_DIV2K\\0267\\0267_kernel_x4.mat\n",
      "scale_factor:  [0.25, 0.25, 1]\n",
      "output_shape:  [43 64  3]\n",
      "im.shape:  (170, 255, 3)\n"
     ]
    },
    {
     "name": "stderr",
     "output_type": "stream",
     "text": [
      "Resizing images:  36%|███▌      | 267/738 [01:00<01:54,  4.13it/s]"
     ]
    },
    {
     "name": "stdout",
     "output_type": "stream",
     "text": [
      "input_img.size():  torch.Size([3, 170, 255])\n",
      "resize2_img.size():  torch.Size([3, 43, 64])\n",
      "resize2_cut_img.size():  torch.Size([3, 40, 64])\n",
      "create_HrLr kernel_path:C:\\SaiVinay\\SproutsAI\\GitHub_\\ir_srgan_otsr\\results_kernels_DIV2K\\0268\\0268_kernel_x4.mat\n",
      "scale_factor:  [0.25, 0.25, 1]\n",
      "output_shape:  [43 64  3]\n",
      "im.shape:  (170, 255, 3)\n"
     ]
    },
    {
     "name": "stderr",
     "output_type": "stream",
     "text": [
      "Resizing images:  36%|███▋      | 268/738 [01:00<01:54,  4.11it/s]"
     ]
    },
    {
     "name": "stdout",
     "output_type": "stream",
     "text": [
      "input_img.size():  torch.Size([3, 204, 255])\n",
      "resize2_img.size():  torch.Size([3, 51, 64])\n",
      "resize2_cut_img.size():  torch.Size([3, 48, 64])\n",
      "create_HrLr kernel_path:C:\\SaiVinay\\SproutsAI\\GitHub_\\ir_srgan_otsr\\results_kernels_DIV2K\\0269\\0269_kernel_x4.mat\n",
      "scale_factor:  [0.25, 0.25, 1]\n",
      "output_shape:  [51 64  3]\n",
      "im.shape:  (204, 255, 3)\n"
     ]
    },
    {
     "name": "stderr",
     "output_type": "stream",
     "text": [
      "Resizing images:  36%|███▋      | 269/738 [01:01<01:55,  4.07it/s]"
     ]
    },
    {
     "name": "stdout",
     "output_type": "stream",
     "text": [
      "input_img.size():  torch.Size([3, 170, 255])\n",
      "resize2_img.size():  torch.Size([3, 43, 64])\n",
      "resize2_cut_img.size():  torch.Size([3, 40, 64])\n",
      "create_HrLr kernel_path:C:\\SaiVinay\\SproutsAI\\GitHub_\\ir_srgan_otsr\\results_kernels_DIV2K\\0270\\0270_kernel_x4.mat\n",
      "scale_factor:  [0.25, 0.25, 1]\n",
      "output_shape:  [43 64  3]\n",
      "im.shape:  (170, 255, 3)\n"
     ]
    },
    {
     "name": "stderr",
     "output_type": "stream",
     "text": [
      "Resizing images:  37%|███▋      | 270/738 [01:01<01:56,  4.03it/s]"
     ]
    },
    {
     "name": "stdout",
     "output_type": "stream",
     "text": [
      "input_img.size():  torch.Size([3, 192, 255])\n",
      "resize2_img.size():  torch.Size([3, 48, 64])\n",
      "resize2_cut_img.size():  torch.Size([3, 48, 64])\n",
      "create_HrLr kernel_path:C:\\SaiVinay\\SproutsAI\\GitHub_\\ir_srgan_otsr\\results_kernels_DIV2K\\0271\\0271_kernel_x4.mat\n",
      "scale_factor:  [0.25, 0.25, 1]\n",
      "output_shape:  [48 64  3]\n",
      "im.shape:  (192, 255, 3)\n"
     ]
    },
    {
     "name": "stderr",
     "output_type": "stream",
     "text": [
      "Resizing images:  37%|███▋      | 271/738 [01:01<01:55,  4.06it/s]"
     ]
    },
    {
     "name": "stdout",
     "output_type": "stream",
     "text": [
      "input_img.size():  torch.Size([3, 149, 255])\n",
      "resize2_img.size():  torch.Size([3, 38, 64])\n",
      "resize2_cut_img.size():  torch.Size([3, 36, 64])\n",
      "create_HrLr kernel_path:C:\\SaiVinay\\SproutsAI\\GitHub_\\ir_srgan_otsr\\results_kernels_DIV2K\\0272\\0272_kernel_x4.mat\n",
      "scale_factor:  [0.25, 0.25, 1]\n",
      "output_shape:  [38 64  3]\n",
      "im.shape:  (149, 255, 3)\n"
     ]
    },
    {
     "name": "stderr",
     "output_type": "stream",
     "text": [
      "Resizing images:  37%|███▋      | 272/738 [01:01<01:53,  4.12it/s]"
     ]
    },
    {
     "name": "stdout",
     "output_type": "stream",
     "text": [
      "input_img.size():  torch.Size([3, 170, 255])\n",
      "resize2_img.size():  torch.Size([3, 43, 64])\n",
      "resize2_cut_img.size():  torch.Size([3, 40, 64])\n",
      "create_HrLr kernel_path:C:\\SaiVinay\\SproutsAI\\GitHub_\\ir_srgan_otsr\\results_kernels_DIV2K\\0273\\0273_kernel_x4.mat\n",
      "scale_factor:  [0.25, 0.25, 1]\n",
      "output_shape:  [43 64  3]\n",
      "im.shape:  (170, 255, 3)\n"
     ]
    },
    {
     "name": "stderr",
     "output_type": "stream",
     "text": [
      "Resizing images:  37%|███▋      | 273/738 [01:02<01:51,  4.15it/s]"
     ]
    },
    {
     "name": "stdout",
     "output_type": "stream",
     "text": [
      "input_img.size():  torch.Size([3, 170, 255])\n",
      "resize2_img.size():  torch.Size([3, 43, 64])\n",
      "resize2_cut_img.size():  torch.Size([3, 40, 64])\n",
      "create_HrLr kernel_path:C:\\SaiVinay\\SproutsAI\\GitHub_\\ir_srgan_otsr\\results_kernels_DIV2K\\0274\\0274_kernel_x4.mat\n",
      "scale_factor:  [0.25, 0.25, 1]\n",
      "output_shape:  [43 64  3]\n",
      "im.shape:  (170, 255, 3)\n"
     ]
    },
    {
     "name": "stderr",
     "output_type": "stream",
     "text": [
      "Resizing images:  37%|███▋      | 274/738 [01:02<01:52,  4.11it/s]"
     ]
    },
    {
     "name": "stdout",
     "output_type": "stream",
     "text": [
      "input_img.size():  torch.Size([3, 170, 255])\n",
      "resize2_img.size():  torch.Size([3, 43, 64])\n",
      "resize2_cut_img.size():  torch.Size([3, 40, 64])\n",
      "create_HrLr kernel_path:C:\\SaiVinay\\SproutsAI\\GitHub_\\ir_srgan_otsr\\results_kernels_DIV2K\\0275\\0275_kernel_x4.mat\n",
      "scale_factor:  [0.25, 0.25, 1]\n",
      "output_shape:  [43 64  3]\n",
      "im.shape:  (170, 255, 3)\n"
     ]
    },
    {
     "name": "stderr",
     "output_type": "stream",
     "text": [
      "Resizing images:  37%|███▋      | 275/738 [01:02<01:49,  4.24it/s]"
     ]
    },
    {
     "name": "stdout",
     "output_type": "stream",
     "text": [
      "input_img.size():  torch.Size([3, 170, 255])\n",
      "resize2_img.size():  torch.Size([3, 43, 64])\n",
      "resize2_cut_img.size():  torch.Size([3, 40, 64])\n",
      "create_HrLr kernel_path:C:\\SaiVinay\\SproutsAI\\GitHub_\\ir_srgan_otsr\\results_kernels_DIV2K\\0276\\0276_kernel_x4.mat\n",
      "scale_factor:  [0.25, 0.25, 1]\n",
      "output_shape:  [43 64  3]\n",
      "im.shape:  (170, 255, 3)\n"
     ]
    },
    {
     "name": "stderr",
     "output_type": "stream",
     "text": [
      "Resizing images:  37%|███▋      | 276/738 [01:02<01:52,  4.12it/s]"
     ]
    },
    {
     "name": "stdout",
     "output_type": "stream",
     "text": [
      "input_img.size():  torch.Size([3, 170, 255])\n",
      "resize2_img.size():  torch.Size([3, 43, 64])\n",
      "resize2_cut_img.size():  torch.Size([3, 40, 64])\n",
      "create_HrLr kernel_path:C:\\SaiVinay\\SproutsAI\\GitHub_\\ir_srgan_otsr\\results_kernels_DIV2K\\0277\\0277_kernel_x4.mat\n",
      "scale_factor:  [0.25, 0.25, 1]\n",
      "output_shape:  [43 64  3]\n",
      "im.shape:  (170, 255, 3)\n"
     ]
    },
    {
     "name": "stderr",
     "output_type": "stream",
     "text": [
      "Resizing images:  38%|███▊      | 277/738 [01:03<01:52,  4.08it/s]"
     ]
    },
    {
     "name": "stdout",
     "output_type": "stream",
     "text": [
      "input_img.size():  torch.Size([3, 255, 170])\n",
      "resize2_img.size():  torch.Size([3, 64, 43])\n",
      "resize2_cut_img.size():  torch.Size([3, 64, 40])\n",
      "create_HrLr kernel_path:C:\\SaiVinay\\SproutsAI\\GitHub_\\ir_srgan_otsr\\results_kernels_DIV2K\\0278\\0278_kernel_x4.mat\n",
      "scale_factor:  [0.25, 0.25, 1]\n",
      "output_shape:  [64 43  3]\n",
      "im.shape:  (255, 170, 3)\n"
     ]
    },
    {
     "name": "stderr",
     "output_type": "stream",
     "text": [
      "Resizing images:  38%|███▊      | 278/738 [01:03<01:55,  3.99it/s]"
     ]
    },
    {
     "name": "stdout",
     "output_type": "stream",
     "text": [
      "input_img.size():  torch.Size([3, 170, 255])\n",
      "resize2_img.size():  torch.Size([3, 43, 64])\n",
      "resize2_cut_img.size():  torch.Size([3, 40, 64])\n",
      "create_HrLr kernel_path:C:\\SaiVinay\\SproutsAI\\GitHub_\\ir_srgan_otsr\\results_kernels_DIV2K\\0279\\0279_kernel_x4.mat\n",
      "scale_factor:  [0.25, 0.25, 1]\n",
      "output_shape:  [43 64  3]\n",
      "im.shape:  (170, 255, 3)\n"
     ]
    },
    {
     "name": "stderr",
     "output_type": "stream",
     "text": [
      "Resizing images:  38%|███▊      | 279/738 [01:03<01:53,  4.03it/s]"
     ]
    },
    {
     "name": "stdout",
     "output_type": "stream",
     "text": [
      "input_img.size():  torch.Size([3, 144, 255])\n",
      "resize2_img.size():  torch.Size([3, 36, 64])\n",
      "resize2_cut_img.size():  torch.Size([3, 36, 64])\n",
      "create_HrLr kernel_path:C:\\SaiVinay\\SproutsAI\\GitHub_\\ir_srgan_otsr\\results_kernels_DIV2K\\0280\\0280_kernel_x4.mat\n",
      "scale_factor:  [0.25, 0.25, 1]\n",
      "output_shape:  [36 64  3]\n",
      "im.shape:  (144, 255, 3)\n"
     ]
    },
    {
     "name": "stderr",
     "output_type": "stream",
     "text": [
      "Resizing images:  38%|███▊      | 281/738 [01:04<01:44,  4.37it/s]"
     ]
    },
    {
     "name": "stdout",
     "output_type": "stream",
     "text": [
      "input_img.size():  torch.Size([3, 144, 255])\n",
      "resize2_img.size():  torch.Size([3, 36, 64])\n",
      "resize2_cut_img.size():  torch.Size([3, 36, 64])\n",
      "create_HrLr kernel_path:C:\\SaiVinay\\SproutsAI\\GitHub_\\ir_srgan_otsr\\results_kernels_DIV2K\\0281\\0281_kernel_x4.mat\n",
      "scale_factor:  [0.25, 0.25, 1]\n",
      "output_shape:  [36 64  3]\n",
      "im.shape:  (144, 255, 3)\n",
      "input_img.size():  torch.Size([3, 170, 255])\n",
      "resize2_img.size():  torch.Size([3, 43, 64])\n",
      "resize2_cut_img.size():  torch.Size([3, 40, 64])\n",
      "create_HrLr kernel_path:C:\\SaiVinay\\SproutsAI\\GitHub_\\ir_srgan_otsr\\results_kernels_DIV2K\\0282\\0282_kernel_x4.mat\n",
      "scale_factor:  [0.25, 0.25, 1]\n",
      "output_shape:  [43 64  3]\n",
      "im.shape:  (170, 255, 3)\n"
     ]
    },
    {
     "name": "stderr",
     "output_type": "stream",
     "text": [
      "Resizing images:  38%|███▊      | 282/738 [01:04<01:46,  4.30it/s]"
     ]
    },
    {
     "name": "stdout",
     "output_type": "stream",
     "text": [
      "input_img.size():  torch.Size([3, 170, 255])\n",
      "resize2_img.size():  torch.Size([3, 43, 64])\n",
      "resize2_cut_img.size():  torch.Size([3, 40, 64])\n",
      "create_HrLr kernel_path:C:\\SaiVinay\\SproutsAI\\GitHub_\\ir_srgan_otsr\\results_kernels_DIV2K\\0283\\0283_kernel_x4.mat\n",
      "scale_factor:  [0.25, 0.25, 1]\n",
      "output_shape:  [43 64  3]\n",
      "im.shape:  (170, 255, 3)\n"
     ]
    },
    {
     "name": "stderr",
     "output_type": "stream",
     "text": [
      "Resizing images:  38%|███▊      | 283/738 [01:04<01:50,  4.12it/s]"
     ]
    },
    {
     "name": "stdout",
     "output_type": "stream",
     "text": [
      "input_img.size():  torch.Size([3, 170, 255])\n",
      "resize2_img.size():  torch.Size([3, 43, 64])\n",
      "resize2_cut_img.size():  torch.Size([3, 40, 64])\n",
      "create_HrLr kernel_path:C:\\SaiVinay\\SproutsAI\\GitHub_\\ir_srgan_otsr\\results_kernels_DIV2K\\0284\\0284_kernel_x4.mat\n",
      "scale_factor:  [0.25, 0.25, 1]\n",
      "output_shape:  [43 64  3]\n",
      "im.shape:  (170, 255, 3)\n"
     ]
    },
    {
     "name": "stderr",
     "output_type": "stream",
     "text": [
      "Resizing images:  38%|███▊      | 284/738 [01:04<01:49,  4.14it/s]"
     ]
    },
    {
     "name": "stdout",
     "output_type": "stream",
     "text": [
      "input_img.size():  torch.Size([3, 255, 155])\n",
      "resize2_img.size():  torch.Size([3, 64, 39])\n",
      "resize2_cut_img.size():  torch.Size([3, 64, 36])\n",
      "create_HrLr kernel_path:C:\\SaiVinay\\SproutsAI\\GitHub_\\ir_srgan_otsr\\results_kernels_DIV2K\\0285\\0285_kernel_x4.mat\n",
      "scale_factor:  [0.25, 0.25, 1]\n",
      "output_shape:  [64 39  3]\n",
      "im.shape:  (255, 155, 3)\n"
     ]
    },
    {
     "name": "stderr",
     "output_type": "stream",
     "text": [
      "Resizing images:  39%|███▊      | 285/738 [01:05<01:49,  4.16it/s]"
     ]
    },
    {
     "name": "stdout",
     "output_type": "stream",
     "text": [
      "input_img.size():  torch.Size([3, 192, 255])\n",
      "resize2_img.size():  torch.Size([3, 48, 64])\n",
      "resize2_cut_img.size():  torch.Size([3, 48, 64])\n",
      "create_HrLr kernel_path:C:\\SaiVinay\\SproutsAI\\GitHub_\\ir_srgan_otsr\\results_kernels_DIV2K\\0286\\0286_kernel_x4.mat\n",
      "scale_factor:  [0.25, 0.25, 1]\n",
      "output_shape:  [48 64  3]\n",
      "im.shape:  (192, 255, 3)\n"
     ]
    },
    {
     "name": "stderr",
     "output_type": "stream",
     "text": [
      "Resizing images:  39%|███▉      | 286/738 [01:05<01:55,  3.92it/s]"
     ]
    },
    {
     "name": "stdout",
     "output_type": "stream",
     "text": [
      "input_img.size():  torch.Size([3, 170, 255])\n",
      "resize2_img.size():  torch.Size([3, 43, 64])\n",
      "resize2_cut_img.size():  torch.Size([3, 40, 64])\n",
      "create_HrLr kernel_path:C:\\SaiVinay\\SproutsAI\\GitHub_\\ir_srgan_otsr\\results_kernels_DIV2K\\0287\\0287_kernel_x4.mat\n",
      "scale_factor:  [0.25, 0.25, 1]\n",
      "output_shape:  [43 64  3]\n",
      "im.shape:  (170, 255, 3)\n"
     ]
    },
    {
     "name": "stderr",
     "output_type": "stream",
     "text": [
      "Resizing images:  39%|███▉      | 287/738 [01:05<01:55,  3.90it/s]"
     ]
    },
    {
     "name": "stdout",
     "output_type": "stream",
     "text": [
      "input_img.size():  torch.Size([3, 170, 255])\n",
      "resize2_img.size():  torch.Size([3, 43, 64])\n",
      "resize2_cut_img.size():  torch.Size([3, 40, 64])\n",
      "create_HrLr kernel_path:C:\\SaiVinay\\SproutsAI\\GitHub_\\ir_srgan_otsr\\results_kernels_DIV2K\\0288\\0288_kernel_x4.mat\n",
      "scale_factor:  [0.25, 0.25, 1]\n",
      "output_shape:  [43 64  3]\n",
      "im.shape:  (170, 255, 3)\n"
     ]
    },
    {
     "name": "stderr",
     "output_type": "stream",
     "text": [
      "Resizing images:  39%|███▉      | 288/738 [01:05<01:58,  3.81it/s]"
     ]
    },
    {
     "name": "stdout",
     "output_type": "stream",
     "text": [
      "input_img.size():  torch.Size([3, 255, 170])\n",
      "resize2_img.size():  torch.Size([3, 64, 43])\n",
      "resize2_cut_img.size():  torch.Size([3, 64, 40])\n",
      "create_HrLr kernel_path:C:\\SaiVinay\\SproutsAI\\GitHub_\\ir_srgan_otsr\\results_kernels_DIV2K\\0289\\0289_kernel_x4.mat\n",
      "scale_factor:  [0.25, 0.25, 1]\n",
      "output_shape:  [64 43  3]\n",
      "im.shape:  (255, 170, 3)\n"
     ]
    },
    {
     "name": "stderr",
     "output_type": "stream",
     "text": [
      "Resizing images:  39%|███▉      | 289/738 [01:06<01:57,  3.84it/s]"
     ]
    },
    {
     "name": "stdout",
     "output_type": "stream",
     "text": [
      "input_img.size():  torch.Size([3, 170, 255])\n",
      "resize2_img.size():  torch.Size([3, 43, 64])\n",
      "resize2_cut_img.size():  torch.Size([3, 40, 64])\n",
      "create_HrLr kernel_path:C:\\SaiVinay\\SproutsAI\\GitHub_\\ir_srgan_otsr\\results_kernels_DIV2K\\0290\\0290_kernel_x4.mat\n",
      "scale_factor:  [0.25, 0.25, 1]\n",
      "output_shape:  [43 64  3]\n",
      "im.shape:  (170, 255, 3)\n"
     ]
    },
    {
     "name": "stderr",
     "output_type": "stream",
     "text": [
      "Resizing images:  39%|███▉      | 290/738 [01:06<01:59,  3.76it/s]"
     ]
    },
    {
     "name": "stdout",
     "output_type": "stream",
     "text": [
      "input_img.size():  torch.Size([3, 158, 255])\n",
      "resize2_img.size():  torch.Size([3, 40, 64])\n",
      "resize2_cut_img.size():  torch.Size([3, 40, 64])\n",
      "create_HrLr kernel_path:C:\\SaiVinay\\SproutsAI\\GitHub_\\ir_srgan_otsr\\results_kernels_DIV2K\\0291\\0291_kernel_x4.mat\n",
      "scale_factor:  [0.25, 0.25, 1]\n",
      "output_shape:  [40 64  3]\n",
      "im.shape:  (158, 255, 3)\n"
     ]
    },
    {
     "name": "stderr",
     "output_type": "stream",
     "text": [
      "Resizing images:  39%|███▉      | 291/738 [01:06<01:52,  3.98it/s]"
     ]
    },
    {
     "name": "stdout",
     "output_type": "stream",
     "text": [
      "input_img.size():  torch.Size([3, 170, 255])\n",
      "resize2_img.size():  torch.Size([3, 43, 64])\n",
      "resize2_cut_img.size():  torch.Size([3, 40, 64])\n",
      "create_HrLr kernel_path:C:\\SaiVinay\\SproutsAI\\GitHub_\\ir_srgan_otsr\\results_kernels_DIV2K\\0292\\0292_kernel_x4.mat\n",
      "scale_factor:  [0.25, 0.25, 1]\n",
      "output_shape:  [43 64  3]\n",
      "im.shape:  (170, 255, 3)\n"
     ]
    },
    {
     "name": "stderr",
     "output_type": "stream",
     "text": [
      "Resizing images:  40%|███▉      | 292/738 [01:06<01:49,  4.07it/s]"
     ]
    },
    {
     "name": "stdout",
     "output_type": "stream",
     "text": [
      "input_img.size():  torch.Size([3, 144, 255])\n",
      "resize2_img.size():  torch.Size([3, 36, 64])\n",
      "resize2_cut_img.size():  torch.Size([3, 36, 64])\n",
      "create_HrLr kernel_path:C:\\SaiVinay\\SproutsAI\\GitHub_\\ir_srgan_otsr\\results_kernels_DIV2K\\0293\\0293_kernel_x4.mat\n",
      "scale_factor:  [0.25, 0.25, 1]\n",
      "output_shape:  [36 64  3]\n",
      "im.shape:  (144, 255, 3)\n"
     ]
    },
    {
     "name": "stderr",
     "output_type": "stream",
     "text": [
      "Resizing images:  40%|███▉      | 293/738 [01:07<01:45,  4.21it/s]"
     ]
    },
    {
     "name": "stdout",
     "output_type": "stream",
     "text": [
      "input_img.size():  torch.Size([3, 170, 255])\n",
      "resize2_img.size():  torch.Size([3, 43, 64])\n",
      "resize2_cut_img.size():  torch.Size([3, 40, 64])\n",
      "create_HrLr kernel_path:C:\\SaiVinay\\SproutsAI\\GitHub_\\ir_srgan_otsr\\results_kernels_DIV2K\\0294\\0294_kernel_x4.mat\n",
      "scale_factor:  [0.25, 0.25, 1]\n",
      "output_shape:  [43 64  3]\n",
      "im.shape:  (170, 255, 3)\n"
     ]
    },
    {
     "name": "stderr",
     "output_type": "stream",
     "text": [
      "Resizing images:  40%|███▉      | 294/738 [01:07<01:47,  4.13it/s]"
     ]
    },
    {
     "name": "stdout",
     "output_type": "stream",
     "text": [
      "input_img.size():  torch.Size([3, 170, 255])\n",
      "resize2_img.size():  torch.Size([3, 43, 64])\n",
      "resize2_cut_img.size():  torch.Size([3, 40, 64])\n",
      "create_HrLr kernel_path:C:\\SaiVinay\\SproutsAI\\GitHub_\\ir_srgan_otsr\\results_kernels_DIV2K\\0295\\0295_kernel_x4.mat\n",
      "scale_factor:  [0.25, 0.25, 1]\n",
      "output_shape:  [43 64  3]\n",
      "im.shape:  (170, 255, 3)\n"
     ]
    },
    {
     "name": "stderr",
     "output_type": "stream",
     "text": [
      "Resizing images:  40%|███▉      | 295/738 [01:07<01:45,  4.22it/s]"
     ]
    },
    {
     "name": "stdout",
     "output_type": "stream",
     "text": [
      "input_img.size():  torch.Size([3, 170, 255])\n",
      "resize2_img.size():  torch.Size([3, 43, 64])\n",
      "resize2_cut_img.size():  torch.Size([3, 40, 64])\n",
      "create_HrLr kernel_path:C:\\SaiVinay\\SproutsAI\\GitHub_\\ir_srgan_otsr\\results_kernels_DIV2K\\0296\\0296_kernel_x4.mat\n",
      "scale_factor:  [0.25, 0.25, 1]\n",
      "output_shape:  [43 64  3]\n",
      "im.shape:  (170, 255, 3)\n"
     ]
    },
    {
     "name": "stderr",
     "output_type": "stream",
     "text": [
      "Resizing images:  40%|████      | 297/738 [01:07<01:37,  4.52it/s]"
     ]
    },
    {
     "name": "stdout",
     "output_type": "stream",
     "text": [
      "input_img.size():  torch.Size([3, 168, 255])\n",
      "resize2_img.size():  torch.Size([3, 42, 64])\n",
      "resize2_cut_img.size():  torch.Size([3, 40, 64])\n",
      "create_HrLr kernel_path:C:\\SaiVinay\\SproutsAI\\GitHub_\\ir_srgan_otsr\\results_kernels_DIV2K\\0297\\0297_kernel_x4.mat\n",
      "scale_factor:  [0.25, 0.25, 1]\n",
      "output_shape:  [42 64  3]\n",
      "im.shape:  (168, 255, 3)\n",
      "input_img.size():  torch.Size([3, 153, 255])\n",
      "resize2_img.size():  torch.Size([3, 39, 64])\n",
      "resize2_cut_img.size():  torch.Size([3, 36, 64])\n",
      "create_HrLr kernel_path:C:\\SaiVinay\\SproutsAI\\GitHub_\\ir_srgan_otsr\\results_kernels_DIV2K\\0298\\0298_kernel_x4.mat\n",
      "scale_factor:  [0.25, 0.25, 1]\n",
      "output_shape:  [39 64  3]\n",
      "im.shape:  (153, 255, 3)\n"
     ]
    },
    {
     "name": "stderr",
     "output_type": "stream",
     "text": [
      "Resizing images:  40%|████      | 298/738 [01:08<01:37,  4.52it/s]"
     ]
    },
    {
     "name": "stdout",
     "output_type": "stream",
     "text": [
      "input_img.size():  torch.Size([3, 174, 255])\n",
      "resize2_img.size():  torch.Size([3, 44, 64])\n",
      "resize2_cut_img.size():  torch.Size([3, 44, 64])\n",
      "create_HrLr kernel_path:C:\\SaiVinay\\SproutsAI\\GitHub_\\ir_srgan_otsr\\results_kernels_DIV2K\\0299\\0299_kernel_x4.mat\n",
      "scale_factor:  [0.25, 0.25, 1]\n",
      "output_shape:  [44 64  3]\n",
      "im.shape:  (174, 255, 3)\n"
     ]
    },
    {
     "name": "stderr",
     "output_type": "stream",
     "text": [
      "Resizing images:  41%|████      | 299/738 [01:08<01:38,  4.47it/s]"
     ]
    },
    {
     "name": "stdout",
     "output_type": "stream",
     "text": [
      "input_img.size():  torch.Size([3, 165, 255])\n",
      "resize2_img.size():  torch.Size([3, 42, 64])\n",
      "resize2_cut_img.size():  torch.Size([3, 40, 64])\n",
      "create_HrLr kernel_path:C:\\SaiVinay\\SproutsAI\\GitHub_\\ir_srgan_otsr\\results_kernels_DIV2K\\0300\\0300_kernel_x4.mat\n",
      "scale_factor:  [0.25, 0.25, 1]\n",
      "output_shape:  [42 64  3]\n",
      "im.shape:  (165, 255, 3)\n"
     ]
    },
    {
     "name": "stderr",
     "output_type": "stream",
     "text": [
      "Resizing images:  41%|████      | 300/738 [01:08<01:37,  4.49it/s]"
     ]
    },
    {
     "name": "stdout",
     "output_type": "stream",
     "text": [
      "input_img.size():  torch.Size([3, 170, 255])\n",
      "resize2_img.size():  torch.Size([3, 43, 64])\n",
      "resize2_cut_img.size():  torch.Size([3, 40, 64])\n",
      "create_HrLr kernel_path:C:\\SaiVinay\\SproutsAI\\GitHub_\\ir_srgan_otsr\\results_kernels_DIV2K\\0301\\0301_kernel_x4.mat\n",
      "scale_factor:  [0.25, 0.25, 1]\n",
      "output_shape:  [43 64  3]\n",
      "im.shape:  (170, 255, 3)\n"
     ]
    },
    {
     "name": "stderr",
     "output_type": "stream",
     "text": [
      "Resizing images:  41%|████      | 301/738 [01:08<01:39,  4.39it/s]"
     ]
    },
    {
     "name": "stdout",
     "output_type": "stream",
     "text": [
      "input_img.size():  torch.Size([3, 170, 255])\n",
      "resize2_img.size():  torch.Size([3, 43, 64])\n",
      "resize2_cut_img.size():  torch.Size([3, 40, 64])\n",
      "create_HrLr kernel_path:C:\\SaiVinay\\SproutsAI\\GitHub_\\ir_srgan_otsr\\results_kernels_DIV2K\\0302\\0302_kernel_x4.mat\n",
      "scale_factor:  [0.25, 0.25, 1]\n",
      "output_shape:  [43 64  3]\n",
      "im.shape:  (170, 255, 3)\n"
     ]
    },
    {
     "name": "stderr",
     "output_type": "stream",
     "text": [
      "Resizing images:  41%|████      | 302/738 [01:09<01:39,  4.40it/s]"
     ]
    },
    {
     "name": "stdout",
     "output_type": "stream",
     "text": [
      "input_img.size():  torch.Size([3, 170, 255])\n",
      "resize2_img.size():  torch.Size([3, 43, 64])\n",
      "resize2_cut_img.size():  torch.Size([3, 40, 64])\n",
      "create_HrLr kernel_path:C:\\SaiVinay\\SproutsAI\\GitHub_\\ir_srgan_otsr\\results_kernels_DIV2K\\0303\\0303_kernel_x4.mat\n",
      "scale_factor:  [0.25, 0.25, 1]\n",
      "output_shape:  [43 64  3]\n",
      "im.shape:  (170, 255, 3)\n"
     ]
    },
    {
     "name": "stderr",
     "output_type": "stream",
     "text": [
      "Resizing images:  41%|████      | 303/738 [01:09<01:41,  4.30it/s]"
     ]
    },
    {
     "name": "stdout",
     "output_type": "stream",
     "text": [
      "input_img.size():  torch.Size([3, 153, 255])\n",
      "resize2_img.size():  torch.Size([3, 39, 64])\n",
      "resize2_cut_img.size():  torch.Size([3, 36, 64])\n",
      "create_HrLr kernel_path:C:\\SaiVinay\\SproutsAI\\GitHub_\\ir_srgan_otsr\\results_kernels_DIV2K\\0304\\0304_kernel_x4.mat\n",
      "scale_factor:  [0.25, 0.25, 1]\n",
      "output_shape:  [39 64  3]\n",
      "im.shape:  (153, 255, 3)\n"
     ]
    },
    {
     "name": "stderr",
     "output_type": "stream",
     "text": [
      "Resizing images:  41%|████      | 304/738 [01:09<01:38,  4.40it/s]"
     ]
    },
    {
     "name": "stdout",
     "output_type": "stream",
     "text": [
      "input_img.size():  torch.Size([3, 170, 255])\n",
      "resize2_img.size():  torch.Size([3, 43, 64])\n",
      "resize2_cut_img.size():  torch.Size([3, 40, 64])\n",
      "create_HrLr kernel_path:C:\\SaiVinay\\SproutsAI\\GitHub_\\ir_srgan_otsr\\results_kernels_DIV2K\\0305\\0305_kernel_x4.mat\n",
      "scale_factor:  [0.25, 0.25, 1]\n",
      "output_shape:  [43 64  3]\n",
      "im.shape:  (170, 255, 3)\n"
     ]
    },
    {
     "name": "stderr",
     "output_type": "stream",
     "text": [
      "Resizing images:  41%|████▏     | 305/738 [01:09<01:36,  4.49it/s]"
     ]
    },
    {
     "name": "stdout",
     "output_type": "stream",
     "text": [
      "input_img.size():  torch.Size([3, 170, 255])\n",
      "resize2_img.size():  torch.Size([3, 43, 64])\n",
      "resize2_cut_img.size():  torch.Size([3, 40, 64])\n",
      "create_HrLr kernel_path:C:\\SaiVinay\\SproutsAI\\GitHub_\\ir_srgan_otsr\\results_kernels_DIV2K\\0306\\0306_kernel_x4.mat\n",
      "scale_factor:  [0.25, 0.25, 1]\n",
      "output_shape:  [43 64  3]\n",
      "im.shape:  (170, 255, 3)\n"
     ]
    },
    {
     "name": "stderr",
     "output_type": "stream",
     "text": [
      "Resizing images:  41%|████▏     | 306/738 [01:10<01:36,  4.49it/s]"
     ]
    },
    {
     "name": "stdout",
     "output_type": "stream",
     "text": [
      "input_img.size():  torch.Size([3, 170, 255])\n",
      "resize2_img.size():  torch.Size([3, 43, 64])\n",
      "resize2_cut_img.size():  torch.Size([3, 40, 64])\n",
      "create_HrLr kernel_path:C:\\SaiVinay\\SproutsAI\\GitHub_\\ir_srgan_otsr\\results_kernels_DIV2K\\0307\\0307_kernel_x4.mat\n",
      "scale_factor:  [0.25, 0.25, 1]\n",
      "output_shape:  [43 64  3]\n",
      "im.shape:  (170, 255, 3)\n"
     ]
    },
    {
     "name": "stderr",
     "output_type": "stream",
     "text": [
      "Resizing images:  42%|████▏     | 307/738 [01:10<01:35,  4.50it/s]"
     ]
    },
    {
     "name": "stdout",
     "output_type": "stream",
     "text": [
      "input_img.size():  torch.Size([3, 170, 255])\n",
      "resize2_img.size():  torch.Size([3, 43, 64])\n",
      "resize2_cut_img.size():  torch.Size([3, 40, 64])\n",
      "create_HrLr kernel_path:C:\\SaiVinay\\SproutsAI\\GitHub_\\ir_srgan_otsr\\results_kernels_DIV2K\\0308\\0308_kernel_x4.mat\n",
      "scale_factor:  [0.25, 0.25, 1]\n",
      "output_shape:  [43 64  3]\n",
      "im.shape:  (170, 255, 3)\n"
     ]
    },
    {
     "name": "stderr",
     "output_type": "stream",
     "text": [
      "Resizing images:  42%|████▏     | 309/738 [01:10<01:34,  4.53it/s]"
     ]
    },
    {
     "name": "stdout",
     "output_type": "stream",
     "text": [
      "input_img.size():  torch.Size([3, 170, 255])\n",
      "resize2_img.size():  torch.Size([3, 43, 64])\n",
      "resize2_cut_img.size():  torch.Size([3, 40, 64])\n",
      "create_HrLr kernel_path:C:\\SaiVinay\\SproutsAI\\GitHub_\\ir_srgan_otsr\\results_kernels_DIV2K\\0309\\0309_kernel_x4.mat\n",
      "scale_factor:  [0.25, 0.25, 1]\n",
      "output_shape:  [43 64  3]\n",
      "im.shape:  (170, 255, 3)\n"
     ]
    },
    {
     "name": "stderr",
     "output_type": "stream",
     "text": [
      "Resizing images:  42%|████▏     | 310/738 [01:10<01:30,  4.72it/s]"
     ]
    },
    {
     "name": "stdout",
     "output_type": "stream",
     "text": [
      "input_img.size():  torch.Size([3, 170, 255])\n",
      "resize2_img.size():  torch.Size([3, 43, 64])\n",
      "resize2_cut_img.size():  torch.Size([3, 40, 64])\n",
      "create_HrLr kernel_path:C:\\SaiVinay\\SproutsAI\\GitHub_\\ir_srgan_otsr\\results_kernels_DIV2K\\0310\\0310_kernel_x4.mat\n",
      "scale_factor:  [0.25, 0.25, 1]\n",
      "output_shape:  [43 64  3]\n",
      "im.shape:  (170, 255, 3)\n"
     ]
    },
    {
     "name": "stderr",
     "output_type": "stream",
     "text": [
      "Resizing images:  42%|████▏     | 311/738 [01:11<01:26,  4.93it/s]"
     ]
    },
    {
     "name": "stdout",
     "output_type": "stream",
     "text": [
      "input_img.size():  torch.Size([3, 149, 255])\n",
      "resize2_img.size():  torch.Size([3, 38, 64])\n",
      "resize2_cut_img.size():  torch.Size([3, 36, 64])\n",
      "create_HrLr kernel_path:C:\\SaiVinay\\SproutsAI\\GitHub_\\ir_srgan_otsr\\results_kernels_DIV2K\\0311\\0311_kernel_x4.mat\n",
      "scale_factor:  [0.25, 0.25, 1]\n",
      "output_shape:  [38 64  3]\n",
      "im.shape:  (149, 255, 3)\n",
      "input_img.size():  torch.Size([3, 255, 215])\n",
      "resize2_img.size():  torch.Size([3, 64, 54])\n",
      "resize2_cut_img.size():  torch.Size([3, 64, 52])\n",
      "create_HrLr kernel_path:C:\\SaiVinay\\SproutsAI\\GitHub_\\ir_srgan_otsr\\results_kernels_DIV2K\\0312\\0312_kernel_x4.mat\n",
      "scale_factor:  [0.25, 0.25, 1]\n",
      "output_shape:  [64 54  3]\n",
      "im.shape:  (255, 215, 3)\n"
     ]
    },
    {
     "name": "stderr",
     "output_type": "stream",
     "text": [
      "Resizing images:  42%|████▏     | 313/738 [01:11<01:34,  4.51it/s]"
     ]
    },
    {
     "name": "stdout",
     "output_type": "stream",
     "text": [
      "input_img.size():  torch.Size([3, 255, 170])\n",
      "resize2_img.size():  torch.Size([3, 64, 43])\n",
      "resize2_cut_img.size():  torch.Size([3, 64, 40])\n",
      "create_HrLr kernel_path:C:\\SaiVinay\\SproutsAI\\GitHub_\\ir_srgan_otsr\\results_kernels_DIV2K\\0313\\0313_kernel_x4.mat\n",
      "scale_factor:  [0.25, 0.25, 1]\n",
      "output_shape:  [64 43  3]\n",
      "im.shape:  (255, 170, 3)\n"
     ]
    },
    {
     "name": "stderr",
     "output_type": "stream",
     "text": [
      "Resizing images:  43%|████▎     | 314/738 [01:11<01:32,  4.60it/s]"
     ]
    },
    {
     "name": "stdout",
     "output_type": "stream",
     "text": [
      "input_img.size():  torch.Size([3, 170, 255])\n",
      "resize2_img.size():  torch.Size([3, 43, 64])\n",
      "resize2_cut_img.size():  torch.Size([3, 40, 64])\n",
      "create_HrLr kernel_path:C:\\SaiVinay\\SproutsAI\\GitHub_\\ir_srgan_otsr\\results_kernels_DIV2K\\0314\\0314_kernel_x4.mat\n",
      "scale_factor:  [0.25, 0.25, 1]\n",
      "output_shape:  [43 64  3]\n",
      "im.shape:  (170, 255, 3)\n"
     ]
    },
    {
     "name": "stderr",
     "output_type": "stream",
     "text": [
      "Resizing images:  43%|████▎     | 315/738 [01:11<01:29,  4.75it/s]"
     ]
    },
    {
     "name": "stdout",
     "output_type": "stream",
     "text": [
      "input_img.size():  torch.Size([3, 150, 255])\n",
      "resize2_img.size():  torch.Size([3, 38, 64])\n",
      "resize2_cut_img.size():  torch.Size([3, 36, 64])\n",
      "create_HrLr kernel_path:C:\\SaiVinay\\SproutsAI\\GitHub_\\ir_srgan_otsr\\results_kernels_DIV2K\\0315\\0315_kernel_x4.mat\n",
      "scale_factor:  [0.25, 0.25, 1]\n",
      "output_shape:  [38 64  3]\n",
      "im.shape:  (150, 255, 3)\n",
      "input_img.size():  torch.Size([3, 167, 255])\n",
      "resize2_img.size():  torch.Size([3, 42, 64])\n",
      "resize2_cut_img.size():  torch.Size([3, 40, 64])\n",
      "create_HrLr kernel_path:C:\\SaiVinay\\SproutsAI\\GitHub_\\ir_srgan_otsr\\results_kernels_DIV2K\\0316\\0316_kernel_x4.mat\n",
      "scale_factor:  [0.25, 0.25, 1]\n",
      "output_shape:  [42 64  3]\n",
      "im.shape:  (167, 255, 3)\n"
     ]
    },
    {
     "name": "stderr",
     "output_type": "stream",
     "text": [
      "Resizing images:  43%|████▎     | 316/738 [01:12<01:32,  4.59it/s]"
     ]
    },
    {
     "name": "stdout",
     "output_type": "stream",
     "text": [
      "input_img.size():  torch.Size([3, 170, 255])\n",
      "resize2_img.size():  torch.Size([3, 43, 64])\n",
      "resize2_cut_img.size():  torch.Size([3, 40, 64])\n",
      "create_HrLr kernel_path:C:\\SaiVinay\\SproutsAI\\GitHub_\\ir_srgan_otsr\\results_kernels_DIV2K\\0317\\0317_kernel_x4.mat\n",
      "scale_factor:  [0.25, 0.25, 1]\n",
      "output_shape:  [43 64  3]\n",
      "im.shape:  (170, 255, 3)\n"
     ]
    },
    {
     "name": "stderr",
     "output_type": "stream",
     "text": [
      "Resizing images:  43%|████▎     | 317/738 [01:12<01:31,  4.61it/s]"
     ]
    },
    {
     "name": "stdout",
     "output_type": "stream",
     "text": [
      "input_img.size():  torch.Size([3, 170, 255])\n",
      "resize2_img.size():  torch.Size([3, 43, 64])\n",
      "resize2_cut_img.size():  torch.Size([3, 40, 64])\n",
      "create_HrLr kernel_path:C:\\SaiVinay\\SproutsAI\\GitHub_\\ir_srgan_otsr\\results_kernels_DIV2K\\0318\\0318_kernel_x4.mat\n",
      "scale_factor:  [0.25, 0.25, 1]\n",
      "output_shape:  [43 64  3]\n",
      "im.shape:  (170, 255, 3)\n"
     ]
    },
    {
     "name": "stderr",
     "output_type": "stream",
     "text": [
      "Resizing images:  43%|████▎     | 318/738 [01:12<01:31,  4.58it/s]"
     ]
    },
    {
     "name": "stdout",
     "output_type": "stream",
     "text": [
      "input_img.size():  torch.Size([3, 170, 255])\n",
      "resize2_img.size():  torch.Size([3, 43, 64])\n",
      "resize2_cut_img.size():  torch.Size([3, 40, 64])\n",
      "create_HrLr kernel_path:C:\\SaiVinay\\SproutsAI\\GitHub_\\ir_srgan_otsr\\results_kernels_DIV2K\\0319\\0319_kernel_x4.mat\n",
      "scale_factor:  [0.25, 0.25, 1]\n",
      "output_shape:  [43 64  3]\n",
      "im.shape:  (170, 255, 3)\n"
     ]
    },
    {
     "name": "stderr",
     "output_type": "stream",
     "text": [
      "Resizing images:  43%|████▎     | 320/738 [01:13<01:29,  4.68it/s]"
     ]
    },
    {
     "name": "stdout",
     "output_type": "stream",
     "text": [
      "input_img.size():  torch.Size([3, 170, 255])\n",
      "resize2_img.size():  torch.Size([3, 43, 64])\n",
      "resize2_cut_img.size():  torch.Size([3, 40, 64])\n",
      "create_HrLr kernel_path:C:\\SaiVinay\\SproutsAI\\GitHub_\\ir_srgan_otsr\\results_kernels_DIV2K\\0320\\0320_kernel_x4.mat\n",
      "scale_factor:  [0.25, 0.25, 1]\n",
      "output_shape:  [43 64  3]\n",
      "im.shape:  (170, 255, 3)\n",
      "input_img.size():  torch.Size([3, 170, 255])\n",
      "resize2_img.size():  torch.Size([3, 43, 64])\n",
      "resize2_cut_img.size():  torch.Size([3, 40, 64])\n",
      "create_HrLr kernel_path:C:\\SaiVinay\\SproutsAI\\GitHub_\\ir_srgan_otsr\\results_kernels_DIV2K\\0321\\0321_kernel_x4.mat\n",
      "scale_factor:  [0.25, 0.25, 1]\n",
      "output_shape:  [43 64  3]\n",
      "im.shape:  (170, 255, 3)\n"
     ]
    },
    {
     "name": "stderr",
     "output_type": "stream",
     "text": [
      "Resizing images:  43%|████▎     | 321/738 [01:13<01:33,  4.45it/s]"
     ]
    },
    {
     "name": "stdout",
     "output_type": "stream",
     "text": [
      "input_img.size():  torch.Size([3, 206, 255])\n",
      "resize2_img.size():  torch.Size([3, 52, 64])\n",
      "resize2_cut_img.size():  torch.Size([3, 52, 64])\n",
      "create_HrLr kernel_path:C:\\SaiVinay\\SproutsAI\\GitHub_\\ir_srgan_otsr\\results_kernels_DIV2K\\0322\\0322_kernel_x4.mat\n",
      "scale_factor:  [0.25, 0.25, 1]\n",
      "output_shape:  [52 64  3]\n",
      "im.shape:  (206, 255, 3)\n"
     ]
    },
    {
     "name": "stderr",
     "output_type": "stream",
     "text": [
      "Resizing images:  44%|████▎     | 322/738 [01:13<01:36,  4.29it/s]"
     ]
    },
    {
     "name": "stdout",
     "output_type": "stream",
     "text": [
      "input_img.size():  torch.Size([3, 170, 255])\n",
      "resize2_img.size():  torch.Size([3, 43, 64])\n",
      "resize2_cut_img.size():  torch.Size([3, 40, 64])\n",
      "create_HrLr kernel_path:C:\\SaiVinay\\SproutsAI\\GitHub_\\ir_srgan_otsr\\results_kernels_DIV2K\\0323\\0323_kernel_x4.mat\n",
      "scale_factor:  [0.25, 0.25, 1]\n",
      "output_shape:  [43 64  3]\n",
      "im.shape:  (170, 255, 3)\n"
     ]
    },
    {
     "name": "stderr",
     "output_type": "stream",
     "text": [
      "Resizing images:  44%|████▍     | 323/738 [01:13<01:34,  4.40it/s]"
     ]
    },
    {
     "name": "stdout",
     "output_type": "stream",
     "text": [
      "input_img.size():  torch.Size([3, 255, 170])\n",
      "resize2_img.size():  torch.Size([3, 64, 43])\n",
      "resize2_cut_img.size():  torch.Size([3, 64, 40])\n",
      "create_HrLr kernel_path:C:\\SaiVinay\\SproutsAI\\GitHub_\\ir_srgan_otsr\\results_kernels_DIV2K\\0324\\0324_kernel_x4.mat\n",
      "scale_factor:  [0.25, 0.25, 1]\n",
      "output_shape:  [64 43  3]\n",
      "im.shape:  (255, 170, 3)\n"
     ]
    },
    {
     "name": "stderr",
     "output_type": "stream",
     "text": [
      "Resizing images:  44%|████▍     | 324/738 [01:13<01:32,  4.48it/s]"
     ]
    },
    {
     "name": "stdout",
     "output_type": "stream",
     "text": [
      "input_img.size():  torch.Size([3, 170, 255])\n",
      "resize2_img.size():  torch.Size([3, 43, 64])\n",
      "resize2_cut_img.size():  torch.Size([3, 40, 64])\n",
      "create_HrLr kernel_path:C:\\SaiVinay\\SproutsAI\\GitHub_\\ir_srgan_otsr\\results_kernels_DIV2K\\0325\\0325_kernel_x4.mat\n",
      "scale_factor:  [0.25, 0.25, 1]\n",
      "output_shape:  [43 64  3]\n",
      "im.shape:  (170, 255, 3)\n"
     ]
    },
    {
     "name": "stderr",
     "output_type": "stream",
     "text": [
      "Resizing images:  44%|████▍     | 325/738 [01:14<01:32,  4.44it/s]"
     ]
    },
    {
     "name": "stdout",
     "output_type": "stream",
     "text": [
      "input_img.size():  torch.Size([3, 170, 255])\n",
      "resize2_img.size():  torch.Size([3, 43, 64])\n",
      "resize2_cut_img.size():  torch.Size([3, 40, 64])\n",
      "create_HrLr kernel_path:C:\\SaiVinay\\SproutsAI\\GitHub_\\ir_srgan_otsr\\results_kernels_DIV2K\\0326\\0326_kernel_x4.mat\n",
      "scale_factor:  [0.25, 0.25, 1]\n",
      "output_shape:  [43 64  3]\n",
      "im.shape:  (170, 255, 3)\n"
     ]
    },
    {
     "name": "stderr",
     "output_type": "stream",
     "text": [
      "Resizing images:  44%|████▍     | 327/738 [01:14<01:27,  4.69it/s]"
     ]
    },
    {
     "name": "stdout",
     "output_type": "stream",
     "text": [
      "input_img.size():  torch.Size([3, 144, 255])\n",
      "resize2_img.size():  torch.Size([3, 36, 64])\n",
      "resize2_cut_img.size():  torch.Size([3, 36, 64])\n",
      "create_HrLr kernel_path:C:\\SaiVinay\\SproutsAI\\GitHub_\\ir_srgan_otsr\\results_kernels_DIV2K\\0327\\0327_kernel_x4.mat\n",
      "scale_factor:  [0.25, 0.25, 1]\n",
      "output_shape:  [36 64  3]\n",
      "im.shape:  (144, 255, 3)\n",
      "input_img.size():  torch.Size([3, 170, 255])\n",
      "resize2_img.size():  torch.Size([3, 43, 64])\n",
      "resize2_cut_img.size():  torch.Size([3, 40, 64])\n",
      "create_HrLr kernel_path:C:\\SaiVinay\\SproutsAI\\GitHub_\\ir_srgan_otsr\\results_kernels_DIV2K\\0328\\0328_kernel_x4.mat\n",
      "scale_factor:  [0.25, 0.25, 1]\n",
      "output_shape:  [43 64  3]\n",
      "im.shape:  (170, 255, 3)\n"
     ]
    },
    {
     "name": "stderr",
     "output_type": "stream",
     "text": [
      "Resizing images:  44%|████▍     | 328/738 [01:14<01:28,  4.63it/s]"
     ]
    },
    {
     "name": "stdout",
     "output_type": "stream",
     "text": [
      "input_img.size():  torch.Size([3, 255, 170])\n",
      "resize2_img.size():  torch.Size([3, 64, 43])\n",
      "resize2_cut_img.size():  torch.Size([3, 64, 40])\n",
      "create_HrLr kernel_path:C:\\SaiVinay\\SproutsAI\\GitHub_\\ir_srgan_otsr\\results_kernels_DIV2K\\0329\\0329_kernel_x4.mat\n",
      "scale_factor:  [0.25, 0.25, 1]\n",
      "output_shape:  [64 43  3]\n",
      "im.shape:  (255, 170, 3)\n"
     ]
    },
    {
     "name": "stderr",
     "output_type": "stream",
     "text": [
      "Resizing images:  45%|████▍     | 330/738 [01:15<01:29,  4.57it/s]"
     ]
    },
    {
     "name": "stdout",
     "output_type": "stream",
     "text": [
      "input_img.size():  torch.Size([3, 143, 255])\n",
      "resize2_img.size():  torch.Size([3, 36, 64])\n",
      "resize2_cut_img.size():  torch.Size([3, 36, 64])\n",
      "create_HrLr kernel_path:C:\\SaiVinay\\SproutsAI\\GitHub_\\ir_srgan_otsr\\results_kernels_DIV2K\\0330\\0330_kernel_x4.mat\n",
      "scale_factor:  [0.25, 0.25, 1]\n",
      "output_shape:  [36 64  3]\n",
      "im.shape:  (143, 255, 3)\n",
      "input_img.size():  torch.Size([3, 255, 170])\n",
      "resize2_img.size():  torch.Size([3, 64, 43])\n",
      "resize2_cut_img.size():  torch.Size([3, 64, 40])\n",
      "create_HrLr kernel_path:C:\\SaiVinay\\SproutsAI\\GitHub_\\ir_srgan_otsr\\results_kernels_DIV2K\\0331\\0331_kernel_x4.mat\n",
      "scale_factor:  [0.25, 0.25, 1]\n",
      "output_shape:  [64 43  3]\n",
      "im.shape:  (255, 170, 3)\n"
     ]
    },
    {
     "name": "stderr",
     "output_type": "stream",
     "text": [
      "Resizing images:  45%|████▍     | 331/738 [01:15<01:30,  4.49it/s]"
     ]
    },
    {
     "name": "stdout",
     "output_type": "stream",
     "text": [
      "input_img.size():  torch.Size([3, 153, 255])\n",
      "resize2_img.size():  torch.Size([3, 39, 64])\n",
      "resize2_cut_img.size():  torch.Size([3, 36, 64])\n",
      "create_HrLr kernel_path:C:\\SaiVinay\\SproutsAI\\GitHub_\\ir_srgan_otsr\\results_kernels_DIV2K\\0332\\0332_kernel_x4.mat\n",
      "scale_factor:  [0.25, 0.25, 1]\n",
      "output_shape:  [39 64  3]\n",
      "im.shape:  (153, 255, 3)\n"
     ]
    },
    {
     "name": "stderr",
     "output_type": "stream",
     "text": [
      "Resizing images:  45%|████▍     | 332/738 [01:15<01:28,  4.57it/s]"
     ]
    },
    {
     "name": "stdout",
     "output_type": "stream",
     "text": [
      "input_img.size():  torch.Size([3, 170, 255])\n",
      "resize2_img.size():  torch.Size([3, 43, 64])\n",
      "resize2_cut_img.size():  torch.Size([3, 40, 64])\n",
      "create_HrLr kernel_path:C:\\SaiVinay\\SproutsAI\\GitHub_\\ir_srgan_otsr\\results_kernels_DIV2K\\0333\\0333_kernel_x4.mat\n",
      "scale_factor:  [0.25, 0.25, 1]\n",
      "output_shape:  [43 64  3]\n",
      "im.shape:  (170, 255, 3)\n"
     ]
    },
    {
     "name": "stderr",
     "output_type": "stream",
     "text": [
      "Resizing images:  45%|████▌     | 333/738 [01:15<01:28,  4.58it/s]"
     ]
    },
    {
     "name": "stdout",
     "output_type": "stream",
     "text": [
      "input_img.size():  torch.Size([3, 170, 255])\n",
      "resize2_img.size():  torch.Size([3, 43, 64])\n",
      "resize2_cut_img.size():  torch.Size([3, 40, 64])\n",
      "create_HrLr kernel_path:C:\\SaiVinay\\SproutsAI\\GitHub_\\ir_srgan_otsr\\results_kernels_DIV2K\\0334\\0334_kernel_x4.mat\n",
      "scale_factor:  [0.25, 0.25, 1]\n",
      "output_shape:  [43 64  3]\n",
      "im.shape:  (170, 255, 3)\n"
     ]
    },
    {
     "name": "stderr",
     "output_type": "stream",
     "text": [
      "Resizing images:  45%|████▌     | 334/738 [01:16<01:29,  4.50it/s]"
     ]
    },
    {
     "name": "stdout",
     "output_type": "stream",
     "text": [
      "input_img.size():  torch.Size([3, 159, 255])\n",
      "resize2_img.size():  torch.Size([3, 40, 64])\n",
      "resize2_cut_img.size():  torch.Size([3, 40, 64])\n",
      "create_HrLr kernel_path:C:\\SaiVinay\\SproutsAI\\GitHub_\\ir_srgan_otsr\\results_kernels_DIV2K\\0335\\0335_kernel_x4.mat\n",
      "scale_factor:  [0.25, 0.25, 1]\n",
      "output_shape:  [40 64  3]\n",
      "im.shape:  (159, 255, 3)\n"
     ]
    },
    {
     "name": "stderr",
     "output_type": "stream",
     "text": [
      "Resizing images:  45%|████▌     | 335/738 [01:16<01:29,  4.51it/s]"
     ]
    },
    {
     "name": "stdout",
     "output_type": "stream",
     "text": [
      "input_img.size():  torch.Size([3, 170, 255])\n",
      "resize2_img.size():  torch.Size([3, 43, 64])\n",
      "resize2_cut_img.size():  torch.Size([3, 40, 64])\n",
      "create_HrLr kernel_path:C:\\SaiVinay\\SproutsAI\\GitHub_\\ir_srgan_otsr\\results_kernels_DIV2K\\0336\\0336_kernel_x4.mat\n",
      "scale_factor:  [0.25, 0.25, 1]\n",
      "output_shape:  [43 64  3]\n",
      "im.shape:  (170, 255, 3)\n"
     ]
    },
    {
     "name": "stderr",
     "output_type": "stream",
     "text": [
      "Resizing images:  46%|████▌     | 336/738 [01:16<01:27,  4.58it/s]"
     ]
    },
    {
     "name": "stdout",
     "output_type": "stream",
     "text": [
      "input_img.size():  torch.Size([3, 255, 204])\n",
      "resize2_img.size():  torch.Size([3, 64, 51])\n",
      "resize2_cut_img.size():  torch.Size([3, 64, 48])\n",
      "create_HrLr kernel_path:C:\\SaiVinay\\SproutsAI\\GitHub_\\ir_srgan_otsr\\results_kernels_DIV2K\\0337\\0337_kernel_x4.mat\n",
      "scale_factor:  [0.25, 0.25, 1]\n",
      "output_shape:  [64 51  3]\n",
      "im.shape:  (255, 204, 3)\n"
     ]
    },
    {
     "name": "stderr",
     "output_type": "stream",
     "text": [
      "Resizing images:  46%|████▌     | 337/738 [01:16<01:31,  4.37it/s]"
     ]
    },
    {
     "name": "stdout",
     "output_type": "stream",
     "text": [
      "input_img.size():  torch.Size([3, 170, 255])\n",
      "resize2_img.size():  torch.Size([3, 43, 64])\n",
      "resize2_cut_img.size():  torch.Size([3, 40, 64])\n",
      "create_HrLr kernel_path:C:\\SaiVinay\\SproutsAI\\GitHub_\\ir_srgan_otsr\\results_kernels_DIV2K\\0338\\0338_kernel_x4.mat\n",
      "scale_factor:  [0.25, 0.25, 1]\n",
      "output_shape:  [43 64  3]\n",
      "im.shape:  (170, 255, 3)\n"
     ]
    },
    {
     "name": "stderr",
     "output_type": "stream",
     "text": [
      "Resizing images:  46%|████▌     | 338/738 [01:17<01:32,  4.35it/s]"
     ]
    },
    {
     "name": "stdout",
     "output_type": "stream",
     "text": [
      "input_img.size():  torch.Size([3, 170, 255])\n",
      "resize2_img.size():  torch.Size([3, 43, 64])\n",
      "resize2_cut_img.size():  torch.Size([3, 40, 64])\n",
      "create_HrLr kernel_path:C:\\SaiVinay\\SproutsAI\\GitHub_\\ir_srgan_otsr\\results_kernels_DIV2K\\0339\\0339_kernel_x4.mat\n",
      "scale_factor:  [0.25, 0.25, 1]\n",
      "output_shape:  [43 64  3]\n",
      "im.shape:  (170, 255, 3)\n"
     ]
    },
    {
     "name": "stderr",
     "output_type": "stream",
     "text": [
      "Resizing images:  46%|████▌     | 340/738 [01:17<01:20,  4.96it/s]"
     ]
    },
    {
     "name": "stdout",
     "output_type": "stream",
     "text": [
      "input_img.size():  torch.Size([3, 93, 255])\n",
      "resize2_img.size():  torch.Size([3, 24, 64])\n",
      "resize2_cut_img.size():  torch.Size([3, 24, 64])\n",
      "create_HrLr kernel_path:C:\\SaiVinay\\SproutsAI\\GitHub_\\ir_srgan_otsr\\results_kernels_DIV2K\\0340\\0340_kernel_x4.mat\n",
      "scale_factor:  [0.25, 0.25, 1]\n",
      "output_shape:  [24 64  3]\n",
      "im.shape:  (93, 255, 3)\n",
      "input_img.size():  torch.Size([3, 180, 255])\n",
      "resize2_img.size():  torch.Size([3, 45, 64])\n",
      "resize2_cut_img.size():  torch.Size([3, 44, 64])\n",
      "create_HrLr kernel_path:C:\\SaiVinay\\SproutsAI\\GitHub_\\ir_srgan_otsr\\results_kernels_DIV2K\\0341\\0341_kernel_x4.mat\n",
      "scale_factor:  [0.25, 0.25, 1]\n",
      "output_shape:  [45 64  3]\n",
      "im.shape:  (180, 255, 3)\n"
     ]
    },
    {
     "name": "stderr",
     "output_type": "stream",
     "text": [
      "Resizing images:  46%|████▌     | 341/738 [01:17<01:24,  4.72it/s]"
     ]
    },
    {
     "name": "stdout",
     "output_type": "stream",
     "text": [
      "input_img.size():  torch.Size([3, 170, 255])\n",
      "resize2_img.size():  torch.Size([3, 43, 64])\n",
      "resize2_cut_img.size():  torch.Size([3, 40, 64])\n",
      "create_HrLr kernel_path:C:\\SaiVinay\\SproutsAI\\GitHub_\\ir_srgan_otsr\\results_kernels_DIV2K\\0342\\0342_kernel_x4.mat\n",
      "scale_factor:  [0.25, 0.25, 1]\n",
      "output_shape:  [43 64  3]\n",
      "im.shape:  (170, 255, 3)\n"
     ]
    },
    {
     "name": "stderr",
     "output_type": "stream",
     "text": [
      "Resizing images:  46%|████▋     | 342/738 [01:17<01:24,  4.71it/s]"
     ]
    },
    {
     "name": "stdout",
     "output_type": "stream",
     "text": [
      "input_img.size():  torch.Size([3, 150, 255])\n",
      "resize2_img.size():  torch.Size([3, 38, 64])\n",
      "resize2_cut_img.size():  torch.Size([3, 36, 64])\n",
      "create_HrLr kernel_path:C:\\SaiVinay\\SproutsAI\\GitHub_\\ir_srgan_otsr\\results_kernels_DIV2K\\0343\\0343_kernel_x4.mat\n",
      "scale_factor:  [0.25, 0.25, 1]\n",
      "output_shape:  [38 64  3]\n",
      "im.shape:  (150, 255, 3)\n"
     ]
    },
    {
     "name": "stderr",
     "output_type": "stream",
     "text": [
      "Resizing images:  46%|████▋     | 343/738 [01:18<01:21,  4.84it/s]"
     ]
    },
    {
     "name": "stdout",
     "output_type": "stream",
     "text": [
      "input_img.size():  torch.Size([3, 255, 170])\n",
      "resize2_img.size():  torch.Size([3, 64, 43])\n",
      "resize2_cut_img.size():  torch.Size([3, 64, 40])\n",
      "create_HrLr kernel_path:C:\\SaiVinay\\SproutsAI\\GitHub_\\ir_srgan_otsr\\results_kernels_DIV2K\\0344\\0344_kernel_x4.mat\n",
      "scale_factor:  [0.25, 0.25, 1]\n",
      "output_shape:  [64 43  3]\n",
      "im.shape:  (255, 170, 3)\n"
     ]
    },
    {
     "name": "stderr",
     "output_type": "stream",
     "text": [
      "Resizing images:  47%|████▋     | 344/738 [01:18<01:26,  4.55it/s]"
     ]
    },
    {
     "name": "stdout",
     "output_type": "stream",
     "text": [
      "input_img.size():  torch.Size([3, 170, 255])\n",
      "resize2_img.size():  torch.Size([3, 43, 64])\n",
      "resize2_cut_img.size():  torch.Size([3, 40, 64])\n",
      "create_HrLr kernel_path:C:\\SaiVinay\\SproutsAI\\GitHub_\\ir_srgan_otsr\\results_kernels_DIV2K\\0345\\0345_kernel_x4.mat\n",
      "scale_factor:  [0.25, 0.25, 1]\n",
      "output_shape:  [43 64  3]\n",
      "im.shape:  (170, 255, 3)\n"
     ]
    },
    {
     "name": "stderr",
     "output_type": "stream",
     "text": [
      "Resizing images:  47%|████▋     | 345/738 [01:18<01:26,  4.53it/s]"
     ]
    },
    {
     "name": "stdout",
     "output_type": "stream",
     "text": [
      "input_img.size():  torch.Size([3, 170, 255])\n",
      "resize2_img.size():  torch.Size([3, 43, 64])\n",
      "resize2_cut_img.size():  torch.Size([3, 40, 64])\n",
      "create_HrLr kernel_path:C:\\SaiVinay\\SproutsAI\\GitHub_\\ir_srgan_otsr\\results_kernels_DIV2K\\0346\\0346_kernel_x4.mat\n",
      "scale_factor:  [0.25, 0.25, 1]\n",
      "output_shape:  [43 64  3]\n",
      "im.shape:  (170, 255, 3)\n"
     ]
    },
    {
     "name": "stderr",
     "output_type": "stream",
     "text": [
      "Resizing images:  47%|████▋     | 346/738 [01:18<01:26,  4.55it/s]"
     ]
    },
    {
     "name": "stdout",
     "output_type": "stream",
     "text": [
      "input_img.size():  torch.Size([3, 225, 255])\n",
      "resize2_img.size():  torch.Size([3, 57, 64])\n",
      "resize2_cut_img.size():  torch.Size([3, 56, 64])\n",
      "create_HrLr kernel_path:C:\\SaiVinay\\SproutsAI\\GitHub_\\ir_srgan_otsr\\results_kernels_DIV2K\\0347\\0347_kernel_x4.mat\n",
      "scale_factor:  [0.25, 0.25, 1]\n",
      "output_shape:  [57 64  3]\n",
      "im.shape:  (225, 255, 3)\n"
     ]
    },
    {
     "name": "stderr",
     "output_type": "stream",
     "text": [
      "Resizing images:  47%|████▋     | 347/738 [01:19<01:32,  4.24it/s]"
     ]
    },
    {
     "name": "stdout",
     "output_type": "stream",
     "text": [
      "input_img.size():  torch.Size([3, 158, 255])\n",
      "resize2_img.size():  torch.Size([3, 40, 64])\n",
      "resize2_cut_img.size():  torch.Size([3, 40, 64])\n",
      "create_HrLr kernel_path:C:\\SaiVinay\\SproutsAI\\GitHub_\\ir_srgan_otsr\\results_kernels_DIV2K\\0348\\0348_kernel_x4.mat\n",
      "scale_factor:  [0.25, 0.25, 1]\n",
      "output_shape:  [40 64  3]\n",
      "im.shape:  (158, 255, 3)\n"
     ]
    },
    {
     "name": "stderr",
     "output_type": "stream",
     "text": [
      "Resizing images:  47%|████▋     | 348/738 [01:19<01:32,  4.22it/s]"
     ]
    },
    {
     "name": "stdout",
     "output_type": "stream",
     "text": [
      "input_img.size():  torch.Size([3, 174, 255])\n",
      "resize2_img.size():  torch.Size([3, 44, 64])\n",
      "resize2_cut_img.size():  torch.Size([3, 44, 64])\n",
      "create_HrLr kernel_path:C:\\SaiVinay\\SproutsAI\\GitHub_\\ir_srgan_otsr\\results_kernels_DIV2K\\0349\\0349_kernel_x4.mat\n",
      "scale_factor:  [0.25, 0.25, 1]\n",
      "output_shape:  [44 64  3]\n",
      "im.shape:  (174, 255, 3)\n"
     ]
    },
    {
     "name": "stderr",
     "output_type": "stream",
     "text": [
      "Resizing images:  47%|████▋     | 349/738 [01:19<01:33,  4.15it/s]"
     ]
    },
    {
     "name": "stdout",
     "output_type": "stream",
     "text": [
      "input_img.size():  torch.Size([3, 255, 140])\n",
      "resize2_img.size():  torch.Size([3, 64, 35])\n",
      "resize2_cut_img.size():  torch.Size([3, 64, 32])\n",
      "create_HrLr kernel_path:C:\\SaiVinay\\SproutsAI\\GitHub_\\ir_srgan_otsr\\results_kernels_DIV2K\\0350\\0350_kernel_x4.mat\n",
      "scale_factor:  [0.25, 0.25, 1]\n",
      "output_shape:  [64 35  3]\n",
      "im.shape:  (255, 140, 3)\n"
     ]
    },
    {
     "name": "stderr",
     "output_type": "stream",
     "text": [
      "Resizing images:  47%|████▋     | 350/738 [01:19<01:32,  4.19it/s]"
     ]
    },
    {
     "name": "stdout",
     "output_type": "stream",
     "text": [
      "input_img.size():  torch.Size([3, 170, 255])\n",
      "resize2_img.size():  torch.Size([3, 43, 64])\n",
      "resize2_cut_img.size():  torch.Size([3, 40, 64])\n",
      "create_HrLr kernel_path:C:\\SaiVinay\\SproutsAI\\GitHub_\\ir_srgan_otsr\\results_kernels_DIV2K\\0351\\0351_kernel_x4.mat\n",
      "scale_factor:  [0.25, 0.25, 1]\n",
      "output_shape:  [43 64  3]\n",
      "im.shape:  (170, 255, 3)\n"
     ]
    },
    {
     "name": "stderr",
     "output_type": "stream",
     "text": [
      "Resizing images:  48%|████▊     | 352/738 [01:20<01:22,  4.66it/s]"
     ]
    },
    {
     "name": "stdout",
     "output_type": "stream",
     "text": [
      "input_img.size():  torch.Size([3, 111, 255])\n",
      "resize2_img.size():  torch.Size([3, 28, 64])\n",
      "resize2_cut_img.size():  torch.Size([3, 28, 64])\n",
      "create_HrLr kernel_path:C:\\SaiVinay\\SproutsAI\\GitHub_\\ir_srgan_otsr\\results_kernels_DIV2K\\0352\\0352_kernel_x4.mat\n",
      "scale_factor:  [0.25, 0.25, 1]\n",
      "output_shape:  [28 64  3]\n",
      "im.shape:  (111, 255, 3)\n",
      "input_img.size():  torch.Size([3, 192, 255])\n",
      "resize2_img.size():  torch.Size([3, 48, 64])\n",
      "resize2_cut_img.size():  torch.Size([3, 48, 64])\n",
      "create_HrLr kernel_path:C:\\SaiVinay\\SproutsAI\\GitHub_\\ir_srgan_otsr\\results_kernels_DIV2K\\0353\\0353_kernel_x4.mat\n"
     ]
    },
    {
     "name": "stderr",
     "output_type": "stream",
     "text": [
      "Resizing images:  48%|████▊     | 353/738 [01:20<01:25,  4.51it/s]"
     ]
    },
    {
     "name": "stdout",
     "output_type": "stream",
     "text": [
      "scale_factor:  [0.25, 0.25, 1]\n",
      "output_shape:  [48 64  3]\n",
      "im.shape:  (192, 255, 3)\n",
      "input_img.size():  torch.Size([3, 170, 255])\n",
      "resize2_img.size():  torch.Size([3, 43, 64])\n",
      "resize2_cut_img.size():  torch.Size([3, 40, 64])\n",
      "create_HrLr kernel_path:C:\\SaiVinay\\SproutsAI\\GitHub_\\ir_srgan_otsr\\results_kernels_DIV2K\\0354\\0354_kernel_x4.mat\n",
      "scale_factor:  [0.25, 0.25, 1]\n",
      "output_shape:  [43 64  3]\n",
      "im.shape:  (170, 255, 3)\n"
     ]
    },
    {
     "name": "stderr",
     "output_type": "stream",
     "text": [
      "Resizing images:  48%|████▊     | 355/738 [01:20<01:22,  4.62it/s]"
     ]
    },
    {
     "name": "stdout",
     "output_type": "stream",
     "text": [
      "input_img.size():  torch.Size([3, 170, 255])\n",
      "resize2_img.size():  torch.Size([3, 43, 64])\n",
      "resize2_cut_img.size():  torch.Size([3, 40, 64])\n",
      "create_HrLr kernel_path:C:\\SaiVinay\\SproutsAI\\GitHub_\\ir_srgan_otsr\\results_kernels_DIV2K\\0355\\0355_kernel_x4.mat\n",
      "scale_factor:  [0.25, 0.25, 1]\n",
      "output_shape:  [43 64  3]\n",
      "im.shape:  (170, 255, 3)\n"
     ]
    },
    {
     "name": "stderr",
     "output_type": "stream",
     "text": [
      "Resizing images:  48%|████▊     | 356/738 [01:21<01:21,  4.71it/s]"
     ]
    },
    {
     "name": "stdout",
     "output_type": "stream",
     "text": [
      "input_img.size():  torch.Size([3, 159, 255])\n",
      "resize2_img.size():  torch.Size([3, 40, 64])\n",
      "resize2_cut_img.size():  torch.Size([3, 40, 64])\n",
      "create_HrLr kernel_path:C:\\SaiVinay\\SproutsAI\\GitHub_\\ir_srgan_otsr\\results_kernels_DIV2K\\0356\\0356_kernel_x4.mat\n",
      "scale_factor:  [0.25, 0.25, 1]\n",
      "output_shape:  [40 64  3]\n",
      "im.shape:  (159, 255, 3)\n"
     ]
    },
    {
     "name": "stderr",
     "output_type": "stream",
     "text": [
      "Resizing images:  48%|████▊     | 357/738 [01:21<01:19,  4.79it/s]"
     ]
    },
    {
     "name": "stdout",
     "output_type": "stream",
     "text": [
      "input_img.size():  torch.Size([3, 147, 255])\n",
      "resize2_img.size():  torch.Size([3, 37, 64])\n",
      "resize2_cut_img.size():  torch.Size([3, 36, 64])\n",
      "create_HrLr kernel_path:C:\\SaiVinay\\SproutsAI\\GitHub_\\ir_srgan_otsr\\results_kernels_DIV2K\\0357\\0357_kernel_x4.mat\n",
      "scale_factor:  [0.25, 0.25, 1]\n",
      "output_shape:  [37 64  3]\n",
      "im.shape:  (147, 255, 3)\n",
      "input_img.size():  torch.Size([3, 170, 255])\n",
      "resize2_img.size():  torch.Size([3, 43, 64])\n",
      "resize2_cut_img.size():  torch.Size([3, 40, 64])\n",
      "create_HrLr kernel_path:C:\\SaiVinay\\SproutsAI\\GitHub_\\ir_srgan_otsr\\results_kernels_DIV2K\\0358\\0358_kernel_x4.mat\n",
      "scale_factor:  [0.25, 0.25, 1]\n",
      "output_shape:  [43 64  3]\n",
      "im.shape:  (170, 255, 3)\n"
     ]
    },
    {
     "name": "stderr",
     "output_type": "stream",
     "text": [
      "Resizing images:  49%|████▊     | 358/738 [01:21<01:19,  4.76it/s]"
     ]
    },
    {
     "name": "stdout",
     "output_type": "stream",
     "text": [
      "input_img.size():  torch.Size([3, 170, 255])\n",
      "resize2_img.size():  torch.Size([3, 43, 64])\n",
      "resize2_cut_img.size():  torch.Size([3, 40, 64])\n",
      "create_HrLr kernel_path:C:\\SaiVinay\\SproutsAI\\GitHub_\\ir_srgan_otsr\\results_kernels_DIV2K\\0359\\0359_kernel_x4.mat\n",
      "scale_factor:  [0.25, 0.25, 1]\n",
      "output_shape:  [43 64  3]\n",
      "im.shape:  (170, 255, 3)\n"
     ]
    },
    {
     "name": "stderr",
     "output_type": "stream",
     "text": [
      "Resizing images:  49%|████▊     | 359/738 [01:21<01:19,  4.77it/s]"
     ]
    },
    {
     "name": "stdout",
     "output_type": "stream",
     "text": [
      "input_img.size():  torch.Size([3, 251, 255])\n",
      "resize2_img.size():  torch.Size([3, 63, 64])\n",
      "resize2_cut_img.size():  torch.Size([3, 60, 64])\n",
      "create_HrLr kernel_path:C:\\SaiVinay\\SproutsAI\\GitHub_\\ir_srgan_otsr\\results_kernels_DIV2K\\0360\\0360_kernel_x4.mat\n",
      "scale_factor:  [0.25, 0.25, 1]\n",
      "output_shape:  [63 64  3]\n",
      "im.shape:  (251, 255, 3)\n"
     ]
    },
    {
     "name": "stderr",
     "output_type": "stream",
     "text": [
      "Resizing images:  49%|████▉     | 360/738 [01:21<01:24,  4.47it/s]"
     ]
    },
    {
     "name": "stdout",
     "output_type": "stream",
     "text": [
      "input_img.size():  torch.Size([3, 255, 192])\n",
      "resize2_img.size():  torch.Size([3, 64, 48])\n",
      "resize2_cut_img.size():  torch.Size([3, 64, 48])\n",
      "create_HrLr kernel_path:C:\\SaiVinay\\SproutsAI\\GitHub_\\ir_srgan_otsr\\results_kernels_DIV2K\\0361\\0361_kernel_x4.mat\n",
      "scale_factor:  [0.25, 0.25, 1]\n",
      "output_shape:  [64 48  3]\n",
      "im.shape:  (255, 192, 3)\n"
     ]
    },
    {
     "name": "stderr",
     "output_type": "stream",
     "text": [
      "Resizing images:  49%|████▉     | 361/738 [01:22<01:25,  4.41it/s]"
     ]
    },
    {
     "name": "stdout",
     "output_type": "stream",
     "text": [
      "input_img.size():  torch.Size([3, 183, 255])\n",
      "resize2_img.size():  torch.Size([3, 46, 64])\n",
      "resize2_cut_img.size():  torch.Size([3, 44, 64])\n",
      "create_HrLr kernel_path:C:\\SaiVinay\\SproutsAI\\GitHub_\\ir_srgan_otsr\\results_kernels_DIV2K\\0362\\0362_kernel_x4.mat\n",
      "scale_factor:  [0.25, 0.25, 1]\n",
      "output_shape:  [46 64  3]\n",
      "im.shape:  (183, 255, 3)\n"
     ]
    },
    {
     "name": "stderr",
     "output_type": "stream",
     "text": [
      "Resizing images:  49%|████▉     | 363/738 [01:22<01:21,  4.62it/s]"
     ]
    },
    {
     "name": "stdout",
     "output_type": "stream",
     "text": [
      "input_img.size():  torch.Size([3, 170, 255])\n",
      "resize2_img.size():  torch.Size([3, 43, 64])\n",
      "resize2_cut_img.size():  torch.Size([3, 40, 64])\n",
      "create_HrLr kernel_path:C:\\SaiVinay\\SproutsAI\\GitHub_\\ir_srgan_otsr\\results_kernels_DIV2K\\0363\\0363_kernel_x4.mat\n",
      "scale_factor:  [0.25, 0.25, 1]\n",
      "output_shape:  [43 64  3]\n",
      "im.shape:  (170, 255, 3)\n",
      "input_img.size():  torch.Size([3, 170, 255])\n",
      "resize2_img.size():  torch.Size([3, 43, 64])\n",
      "resize2_cut_img.size():  torch.Size([3, 40, 64])\n",
      "create_HrLr kernel_path:C:\\SaiVinay\\SproutsAI\\GitHub_\\ir_srgan_otsr\\results_kernels_DIV2K\\0364\\0364_kernel_x4.mat\n",
      "scale_factor:  [0.25, 0.25, 1]\n",
      "output_shape:  [43 64  3]\n",
      "im.shape:  (170, 255, 3)\n"
     ]
    },
    {
     "name": "stderr",
     "output_type": "stream",
     "text": [
      "Resizing images:  49%|████▉     | 365/738 [01:22<01:16,  4.86it/s]"
     ]
    },
    {
     "name": "stdout",
     "output_type": "stream",
     "text": [
      "input_img.size():  torch.Size([3, 152, 255])\n",
      "resize2_img.size():  torch.Size([3, 38, 64])\n",
      "resize2_cut_img.size():  torch.Size([3, 36, 64])\n",
      "create_HrLr kernel_path:C:\\SaiVinay\\SproutsAI\\GitHub_\\ir_srgan_otsr\\results_kernels_DIV2K\\0365\\0365_kernel_x4.mat\n",
      "scale_factor:  [0.25, 0.25, 1]\n",
      "output_shape:  [38 64  3]\n",
      "im.shape:  (152, 255, 3)\n",
      "input_img.size():  torch.Size([3, 170, 255])\n",
      "resize2_img.size():  torch.Size([3, 43, 64])\n",
      "resize2_cut_img.size():  torch.Size([3, 40, 64])\n",
      "create_HrLr kernel_path:C:\\SaiVinay\\SproutsAI\\GitHub_\\ir_srgan_otsr\\results_kernels_DIV2K\\0366\\0366_kernel_x4.mat\n"
     ]
    },
    {
     "name": "stderr",
     "output_type": "stream",
     "text": [
      "Resizing images:  50%|████▉     | 366/738 [01:23<01:18,  4.72it/s]"
     ]
    },
    {
     "name": "stdout",
     "output_type": "stream",
     "text": [
      "scale_factor:  [0.25, 0.25, 1]\n",
      "output_shape:  [43 64  3]\n",
      "im.shape:  (170, 255, 3)\n"
     ]
    },
    {
     "name": "stderr",
     "output_type": "stream",
     "text": [
      "Resizing images:  50%|████▉     | 367/738 [01:23<01:16,  4.87it/s]"
     ]
    },
    {
     "name": "stdout",
     "output_type": "stream",
     "text": [
      "input_img.size():  torch.Size([3, 170, 255])\n",
      "resize2_img.size():  torch.Size([3, 43, 64])\n",
      "resize2_cut_img.size():  torch.Size([3, 40, 64])\n",
      "create_HrLr kernel_path:C:\\SaiVinay\\SproutsAI\\GitHub_\\ir_srgan_otsr\\results_kernels_DIV2K\\0367\\0367_kernel_x4.mat\n",
      "scale_factor:  [0.25, 0.25, 1]\n",
      "output_shape:  [43 64  3]\n",
      "im.shape:  (170, 255, 3)\n"
     ]
    },
    {
     "name": "stderr",
     "output_type": "stream",
     "text": [
      "Resizing images:  50%|████▉     | 368/738 [01:23<01:14,  4.98it/s]"
     ]
    },
    {
     "name": "stdout",
     "output_type": "stream",
     "text": [
      "input_img.size():  torch.Size([3, 170, 255])\n",
      "resize2_img.size():  torch.Size([3, 43, 64])\n",
      "resize2_cut_img.size():  torch.Size([3, 40, 64])\n",
      "create_HrLr kernel_path:C:\\SaiVinay\\SproutsAI\\GitHub_\\ir_srgan_otsr\\results_kernels_DIV2K\\0368\\0368_kernel_x4.mat\n",
      "scale_factor:  [0.25, 0.25, 1]\n",
      "output_shape:  [43 64  3]\n",
      "im.shape:  (170, 255, 3)\n"
     ]
    },
    {
     "name": "stderr",
     "output_type": "stream",
     "text": [
      "Resizing images:  50%|█████     | 369/738 [01:23<01:17,  4.79it/s]"
     ]
    },
    {
     "name": "stdout",
     "output_type": "stream",
     "text": [
      "input_img.size():  torch.Size([3, 170, 255])\n",
      "resize2_img.size():  torch.Size([3, 43, 64])\n",
      "resize2_cut_img.size():  torch.Size([3, 40, 64])\n",
      "create_HrLr kernel_path:C:\\SaiVinay\\SproutsAI\\GitHub_\\ir_srgan_otsr\\results_kernels_DIV2K\\0369\\0369_kernel_x4.mat\n",
      "scale_factor:  [0.25, 0.25, 1]\n",
      "output_shape:  [43 64  3]\n",
      "im.shape:  (170, 255, 3)\n",
      "input_img.size():  torch.Size([3, 170, 255])\n",
      "resize2_img.size():  torch.Size([3, 43, 64])\n",
      "resize2_cut_img.size():  torch.Size([3, 40, 64])\n",
      "create_HrLr kernel_path:C:\\SaiVinay\\SproutsAI\\GitHub_\\ir_srgan_otsr\\results_kernels_DIV2K\\0370\\0370_kernel_x4.mat\n",
      "scale_factor:  [0.25, 0.25, 1]\n",
      "output_shape:  [43 64  3]\n",
      "im.shape:  (170, 255, 3)\n"
     ]
    },
    {
     "name": "stderr",
     "output_type": "stream",
     "text": [
      "Resizing images:  50%|█████     | 370/738 [01:23<01:15,  4.86it/s]"
     ]
    },
    {
     "name": "stdout",
     "output_type": "stream",
     "text": [
      "input_img.size():  torch.Size([3, 170, 255])\n",
      "resize2_img.size():  torch.Size([3, 43, 64])\n",
      "resize2_cut_img.size():  torch.Size([3, 40, 64])\n",
      "create_HrLr kernel_path:C:\\SaiVinay\\SproutsAI\\GitHub_\\ir_srgan_otsr\\results_kernels_DIV2K\\0371\\0371_kernel_x4.mat\n",
      "scale_factor:  [0.25, 0.25, 1]\n",
      "output_shape:  [43 64  3]\n",
      "im.shape:  (170, 255, 3)\n"
     ]
    },
    {
     "name": "stderr",
     "output_type": "stream",
     "text": [
      "Resizing images:  50%|█████     | 371/738 [01:24<01:17,  4.73it/s]"
     ]
    },
    {
     "name": "stdout",
     "output_type": "stream",
     "text": [
      "input_img.size():  torch.Size([3, 143, 255])\n",
      "resize2_img.size():  torch.Size([3, 36, 64])\n",
      "resize2_cut_img.size():  torch.Size([3, 36, 64])\n",
      "create_HrLr kernel_path:C:\\SaiVinay\\SproutsAI\\GitHub_\\ir_srgan_otsr\\results_kernels_DIV2K\\0372\\0372_kernel_x4.mat\n",
      "scale_factor:  [0.25, 0.25, 1]\n",
      "output_shape:  [36 64  3]\n",
      "im.shape:  (143, 255, 3)\n"
     ]
    },
    {
     "name": "stderr",
     "output_type": "stream",
     "text": [
      "Resizing images:  51%|█████     | 373/738 [01:24<01:14,  4.89it/s]"
     ]
    },
    {
     "name": "stdout",
     "output_type": "stream",
     "text": [
      "input_img.size():  torch.Size([3, 255, 170])\n",
      "resize2_img.size():  torch.Size([3, 64, 43])\n",
      "resize2_cut_img.size():  torch.Size([3, 64, 40])\n",
      "create_HrLr kernel_path:C:\\SaiVinay\\SproutsAI\\GitHub_\\ir_srgan_otsr\\results_kernels_DIV2K\\0373\\0373_kernel_x4.mat\n",
      "scale_factor:  [0.25, 0.25, 1]\n",
      "output_shape:  [64 43  3]\n",
      "im.shape:  (255, 170, 3)\n",
      "input_img.size():  torch.Size([3, 255, 204])\n",
      "resize2_img.size():  torch.Size([3, 64, 51])\n",
      "resize2_cut_img.size():  torch.Size([3, 64, 48])\n",
      "create_HrLr kernel_path:C:\\SaiVinay\\SproutsAI\\GitHub_\\ir_srgan_otsr\\results_kernels_DIV2K\\0374\\0374_kernel_x4.mat\n",
      "scale_factor:  [0.25, 0.25, 1]\n",
      "output_shape:  [64 51  3]\n",
      "im.shape:  (255, 204, 3)\n"
     ]
    },
    {
     "name": "stderr",
     "output_type": "stream",
     "text": [
      "Resizing images:  51%|█████     | 375/738 [01:25<01:15,  4.84it/s]"
     ]
    },
    {
     "name": "stdout",
     "output_type": "stream",
     "text": [
      "input_img.size():  torch.Size([3, 255, 170])\n",
      "resize2_img.size():  torch.Size([3, 64, 43])\n",
      "resize2_cut_img.size():  torch.Size([3, 64, 40])\n",
      "create_HrLr kernel_path:C:\\SaiVinay\\SproutsAI\\GitHub_\\ir_srgan_otsr\\results_kernels_DIV2K\\0375\\0375_kernel_x4.mat\n",
      "scale_factor:  [0.25, 0.25, 1]\n",
      "output_shape:  [64 43  3]\n",
      "im.shape:  (255, 170, 3)\n",
      "input_img.size():  torch.Size([3, 170, 255])\n",
      "resize2_img.size():  torch.Size([3, 43, 64])\n",
      "resize2_cut_img.size():  torch.Size([3, 40, 64])\n",
      "create_HrLr kernel_path:C:\\SaiVinay\\SproutsAI\\GitHub_\\ir_srgan_otsr\\results_kernels_DIV2K\\0376\\0376_kernel_x4.mat\n",
      "scale_factor:  [0.25, 0.25, 1]\n",
      "output_shape:  [43 64  3]\n",
      "im.shape:  (170, 255, 3)\n"
     ]
    },
    {
     "name": "stderr",
     "output_type": "stream",
     "text": [
      "Resizing images:  51%|█████     | 377/738 [01:25<01:14,  4.85it/s]"
     ]
    },
    {
     "name": "stdout",
     "output_type": "stream",
     "text": [
      "input_img.size():  torch.Size([3, 170, 255])\n",
      "resize2_img.size():  torch.Size([3, 43, 64])\n",
      "resize2_cut_img.size():  torch.Size([3, 40, 64])\n",
      "create_HrLr kernel_path:C:\\SaiVinay\\SproutsAI\\GitHub_\\ir_srgan_otsr\\results_kernels_DIV2K\\0377\\0377_kernel_x4.mat\n",
      "scale_factor:  [0.25, 0.25, 1]\n",
      "output_shape:  [43 64  3]\n",
      "im.shape:  (170, 255, 3)\n",
      "input_img.size():  torch.Size([3, 192, 255])\n",
      "resize2_img.size():  torch.Size([3, 48, 64])\n",
      "resize2_cut_img.size():  torch.Size([3, 48, 64])\n",
      "create_HrLr kernel_path:C:\\SaiVinay\\SproutsAI\\GitHub_\\ir_srgan_otsr\\results_kernels_DIV2K\\0378\\0378_kernel_x4.mat\n",
      "scale_factor:  [0.25, 0.25, 1]\n",
      "output_shape:  [48 64  3]\n",
      "im.shape:  (192, 255, 3)\n"
     ]
    },
    {
     "name": "stderr",
     "output_type": "stream",
     "text": [
      "Resizing images:  51%|█████     | 378/738 [01:25<01:15,  4.78it/s]"
     ]
    },
    {
     "name": "stdout",
     "output_type": "stream",
     "text": [
      "input_img.size():  torch.Size([3, 171, 255])\n",
      "resize2_img.size():  torch.Size([3, 43, 64])\n",
      "resize2_cut_img.size():  torch.Size([3, 40, 64])\n",
      "create_HrLr kernel_path:C:\\SaiVinay\\SproutsAI\\GitHub_\\ir_srgan_otsr\\results_kernels_DIV2K\\0379\\0379_kernel_x4.mat\n",
      "scale_factor:  [0.25, 0.25, 1]\n",
      "output_shape:  [43 64  3]\n",
      "im.shape:  (171, 255, 3)\n"
     ]
    },
    {
     "name": "stderr",
     "output_type": "stream",
     "text": [
      "Resizing images:  51%|█████▏    | 380/738 [01:26<01:14,  4.80it/s]"
     ]
    },
    {
     "name": "stdout",
     "output_type": "stream",
     "text": [
      "input_img.size():  torch.Size([3, 159, 255])\n",
      "resize2_img.size():  torch.Size([3, 40, 64])\n",
      "resize2_cut_img.size():  torch.Size([3, 40, 64])\n",
      "create_HrLr kernel_path:C:\\SaiVinay\\SproutsAI\\GitHub_\\ir_srgan_otsr\\results_kernels_DIV2K\\0380\\0380_kernel_x4.mat\n",
      "scale_factor:  [0.25, 0.25, 1]\n",
      "output_shape:  [40 64  3]\n",
      "im.shape:  (159, 255, 3)\n",
      "input_img.size():  torch.Size([3, 182, 255])\n",
      "resize2_img.size():  torch.Size([3, 46, 64])\n",
      "resize2_cut_img.size():  torch.Size([3, 44, 64])\n",
      "create_HrLr kernel_path:C:\\SaiVinay\\SproutsAI\\GitHub_\\ir_srgan_otsr\\results_kernels_DIV2K\\0381\\0381_kernel_x4.mat\n",
      "scale_factor:  [0.25, 0.25, 1]\n",
      "output_shape:  [46 64  3]\n",
      "im.shape:  (182, 255, 3)\n"
     ]
    },
    {
     "name": "stderr",
     "output_type": "stream",
     "text": [
      "Resizing images:  52%|█████▏    | 382/738 [01:26<01:14,  4.76it/s]"
     ]
    },
    {
     "name": "stdout",
     "output_type": "stream",
     "text": [
      "input_img.size():  torch.Size([3, 170, 255])\n",
      "resize2_img.size():  torch.Size([3, 43, 64])\n",
      "resize2_cut_img.size():  torch.Size([3, 40, 64])\n",
      "create_HrLr kernel_path:C:\\SaiVinay\\SproutsAI\\GitHub_\\ir_srgan_otsr\\results_kernels_DIV2K\\0382\\0382_kernel_x4.mat\n",
      "scale_factor:  [0.25, 0.25, 1]\n",
      "output_shape:  [43 64  3]\n",
      "im.shape:  (170, 255, 3)\n",
      "input_img.size():  torch.Size([3, 189, 255])\n",
      "resize2_img.size():  torch.Size([3, 48, 64])\n",
      "resize2_cut_img.size():  torch.Size([3, 48, 64])\n",
      "create_HrLr kernel_path:C:\\SaiVinay\\SproutsAI\\GitHub_\\ir_srgan_otsr\\results_kernels_DIV2K\\0383\\0383_kernel_x4.mat\n",
      "scale_factor:  [0.25, 0.25, 1]\n",
      "output_shape:  [48 64  3]\n",
      "im.shape:  (189, 255, 3)\n"
     ]
    },
    {
     "name": "stderr",
     "output_type": "stream",
     "text": [
      "Resizing images:  52%|█████▏    | 383/738 [01:26<01:13,  4.81it/s]"
     ]
    },
    {
     "name": "stdout",
     "output_type": "stream",
     "text": [
      "input_img.size():  torch.Size([3, 170, 255])\n",
      "resize2_img.size():  torch.Size([3, 43, 64])\n",
      "resize2_cut_img.size():  torch.Size([3, 40, 64])\n",
      "create_HrLr kernel_path:C:\\SaiVinay\\SproutsAI\\GitHub_\\ir_srgan_otsr\\results_kernels_DIV2K\\0384\\0384_kernel_x4.mat\n",
      "scale_factor:  [0.25, 0.25, 1]\n",
      "output_shape:  [43 64  3]\n",
      "im.shape:  (170, 255, 3)\n"
     ]
    },
    {
     "name": "stderr",
     "output_type": "stream",
     "text": [
      "Resizing images:  52%|█████▏    | 384/738 [01:26<01:13,  4.79it/s]"
     ]
    },
    {
     "name": "stdout",
     "output_type": "stream",
     "text": [
      "input_img.size():  torch.Size([3, 255, 180])\n",
      "resize2_img.size():  torch.Size([3, 64, 45])\n",
      "resize2_cut_img.size():  torch.Size([3, 64, 44])\n",
      "create_HrLr kernel_path:C:\\SaiVinay\\SproutsAI\\GitHub_\\ir_srgan_otsr\\results_kernels_DIV2K\\0385\\0385_kernel_x4.mat\n",
      "scale_factor:  [0.25, 0.25, 1]\n",
      "output_shape:  [64 45  3]\n",
      "im.shape:  (255, 180, 3)\n"
     ]
    },
    {
     "name": "stderr",
     "output_type": "stream",
     "text": [
      "Resizing images:  52%|█████▏    | 385/738 [01:27<01:16,  4.62it/s]"
     ]
    },
    {
     "name": "stdout",
     "output_type": "stream",
     "text": [
      "input_img.size():  torch.Size([3, 170, 255])\n",
      "resize2_img.size():  torch.Size([3, 43, 64])\n",
      "resize2_cut_img.size():  torch.Size([3, 40, 64])\n",
      "create_HrLr kernel_path:C:\\SaiVinay\\SproutsAI\\GitHub_\\ir_srgan_otsr\\results_kernels_DIV2K\\0386\\0386_kernel_x4.mat\n",
      "scale_factor:  [0.25, 0.25, 1]\n",
      "output_shape:  [43 64  3]\n",
      "im.shape:  (170, 255, 3)\n"
     ]
    },
    {
     "name": "stderr",
     "output_type": "stream",
     "text": [
      "Resizing images:  52%|█████▏    | 387/738 [01:27<01:12,  4.84it/s]"
     ]
    },
    {
     "name": "stdout",
     "output_type": "stream",
     "text": [
      "input_img.size():  torch.Size([3, 122, 255])\n",
      "resize2_img.size():  torch.Size([3, 31, 64])\n",
      "resize2_cut_img.size():  torch.Size([3, 28, 64])\n",
      "create_HrLr kernel_path:C:\\SaiVinay\\SproutsAI\\GitHub_\\ir_srgan_otsr\\results_kernels_DIV2K\\0387\\0387_kernel_x4.mat\n",
      "scale_factor:  [0.25, 0.25, 1]\n",
      "output_shape:  [31 64  3]\n",
      "im.shape:  (122, 255, 3)\n",
      "input_img.size():  torch.Size([3, 170, 255])\n",
      "resize2_img.size():  torch.Size([3, 43, 64])\n",
      "resize2_cut_img.size():  torch.Size([3, 40, 64])\n",
      "create_HrLr kernel_path:C:\\SaiVinay\\SproutsAI\\GitHub_\\ir_srgan_otsr\\results_kernels_DIV2K\\0388\\0388_kernel_x4.mat\n",
      "scale_factor:  [0.25, 0.25, 1]\n",
      "output_shape:  [43 64  3]\n",
      "im.shape:  (170, 255, 3)\n"
     ]
    },
    {
     "name": "stderr",
     "output_type": "stream",
     "text": [
      "Resizing images:  53%|█████▎    | 388/738 [01:27<01:08,  5.07it/s]"
     ]
    },
    {
     "name": "stdout",
     "output_type": "stream",
     "text": [
      "input_img.size():  torch.Size([3, 170, 255])\n",
      "resize2_img.size():  torch.Size([3, 43, 64])\n",
      "resize2_cut_img.size():  torch.Size([3, 40, 64])\n",
      "create_HrLr kernel_path:C:\\SaiVinay\\SproutsAI\\GitHub_\\ir_srgan_otsr\\results_kernels_DIV2K\\0389\\0389_kernel_x4.mat\n",
      "scale_factor:  [0.25, 0.25, 1]\n",
      "output_shape:  [43 64  3]\n",
      "im.shape:  (170, 255, 3)\n"
     ]
    },
    {
     "name": "stderr",
     "output_type": "stream",
     "text": [
      "Resizing images:  53%|█████▎    | 389/738 [01:27<01:09,  5.00it/s]"
     ]
    },
    {
     "name": "stdout",
     "output_type": "stream",
     "text": [
      "input_img.size():  torch.Size([3, 164, 255])\n",
      "resize2_img.size():  torch.Size([3, 41, 64])\n",
      "resize2_cut_img.size():  torch.Size([3, 40, 64])\n",
      "create_HrLr kernel_path:C:\\SaiVinay\\SproutsAI\\GitHub_\\ir_srgan_otsr\\results_kernels_DIV2K\\0390\\0390_kernel_x4.mat\n",
      "scale_factor:  [0.25, 0.25, 1]\n",
      "output_shape:  [41 64  3]\n",
      "im.shape:  (164, 255, 3)\n"
     ]
    },
    {
     "name": "stderr",
     "output_type": "stream",
     "text": [
      "Resizing images:  53%|█████▎    | 391/738 [01:28<01:11,  4.88it/s]"
     ]
    },
    {
     "name": "stdout",
     "output_type": "stream",
     "text": [
      "input_img.size():  torch.Size([3, 170, 255])\n",
      "resize2_img.size():  torch.Size([3, 43, 64])\n",
      "resize2_cut_img.size():  torch.Size([3, 40, 64])\n",
      "create_HrLr kernel_path:C:\\SaiVinay\\SproutsAI\\GitHub_\\ir_srgan_otsr\\results_kernels_DIV2K\\0391\\0391_kernel_x4.mat\n",
      "scale_factor:  [0.25, 0.25, 1]\n",
      "output_shape:  [43 64  3]\n",
      "im.shape:  (170, 255, 3)\n"
     ]
    },
    {
     "name": "stderr",
     "output_type": "stream",
     "text": [
      "Resizing images:  53%|█████▎    | 392/738 [01:28<01:08,  5.08it/s]"
     ]
    },
    {
     "name": "stdout",
     "output_type": "stream",
     "text": [
      "input_img.size():  torch.Size([3, 144, 255])\n",
      "resize2_img.size():  torch.Size([3, 36, 64])\n",
      "resize2_cut_img.size():  torch.Size([3, 36, 64])\n",
      "create_HrLr kernel_path:C:\\SaiVinay\\SproutsAI\\GitHub_\\ir_srgan_otsr\\results_kernels_DIV2K\\0392\\0392_kernel_x4.mat\n",
      "scale_factor:  [0.25, 0.25, 1]\n",
      "output_shape:  [36 64  3]\n",
      "im.shape:  (144, 255, 3)\n",
      "input_img.size():  torch.Size([3, 170, 255])\n",
      "resize2_img.size():  torch.Size([3, 43, 64])\n",
      "resize2_cut_img.size():  torch.Size([3, 40, 64])\n"
     ]
    },
    {
     "name": "stderr",
     "output_type": "stream",
     "text": [
      "Resizing images:  53%|█████▎    | 393/738 [01:28<01:12,  4.74it/s]"
     ]
    },
    {
     "name": "stdout",
     "output_type": "stream",
     "text": [
      "create_HrLr kernel_path:C:\\SaiVinay\\SproutsAI\\GitHub_\\ir_srgan_otsr\\results_kernels_DIV2K\\0393\\0393_kernel_x4.mat\n",
      "scale_factor:  [0.25, 0.25, 1]\n",
      "output_shape:  [43 64  3]\n",
      "im.shape:  (170, 255, 3)\n",
      "input_img.size():  torch.Size([3, 192, 255])\n",
      "resize2_img.size():  torch.Size([3, 48, 64])\n",
      "resize2_cut_img.size():  torch.Size([3, 48, 64])\n",
      "create_HrLr kernel_path:C:\\SaiVinay\\SproutsAI\\GitHub_\\ir_srgan_otsr\\results_kernels_DIV2K\\0394\\0394_kernel_x4.mat\n",
      "scale_factor:  [0.25, 0.25, 1]\n",
      "output_shape:  [48 64  3]\n",
      "im.shape:  (192, 255, 3)\n"
     ]
    },
    {
     "name": "stderr",
     "output_type": "stream",
     "text": [
      "Resizing images:  54%|█████▎    | 395/738 [01:29<01:11,  4.78it/s]"
     ]
    },
    {
     "name": "stdout",
     "output_type": "stream",
     "text": [
      "input_img.size():  torch.Size([3, 170, 255])\n",
      "resize2_img.size():  torch.Size([3, 43, 64])\n",
      "resize2_cut_img.size():  torch.Size([3, 40, 64])\n",
      "create_HrLr kernel_path:C:\\SaiVinay\\SproutsAI\\GitHub_\\ir_srgan_otsr\\results_kernels_DIV2K\\0395\\0395_kernel_x4.mat\n",
      "scale_factor:  [0.25, 0.25, 1]\n",
      "output_shape:  [43 64  3]\n",
      "im.shape:  (170, 255, 3)\n",
      "input_img.size():  torch.Size([3, 170, 255])\n",
      "resize2_img.size():  torch.Size([3, 43, 64])\n",
      "resize2_cut_img.size():  torch.Size([3, 40, 64])\n",
      "create_HrLr kernel_path:C:\\SaiVinay\\SproutsAI\\GitHub_\\ir_srgan_otsr\\results_kernels_DIV2K\\0396\\0396_kernel_x4.mat\n"
     ]
    },
    {
     "name": "stderr",
     "output_type": "stream",
     "text": [
      "Resizing images:  54%|█████▎    | 396/738 [01:29<01:11,  4.76it/s]"
     ]
    },
    {
     "name": "stdout",
     "output_type": "stream",
     "text": [
      "scale_factor:  [0.25, 0.25, 1]\n",
      "output_shape:  [43 64  3]\n",
      "im.shape:  (170, 255, 3)\n",
      "input_img.size():  torch.Size([3, 158, 255])\n",
      "resize2_img.size():  torch.Size([3, 40, 64])\n",
      "resize2_cut_img.size():  torch.Size([3, 40, 64])\n",
      "create_HrLr kernel_path:C:\\SaiVinay\\SproutsAI\\GitHub_\\ir_srgan_otsr\\results_kernels_DIV2K\\0397\\0397_kernel_x4.mat\n",
      "scale_factor:  [0.25, 0.25, 1]\n",
      "output_shape:  [40 64  3]\n",
      "im.shape:  (158, 255, 3)\n"
     ]
    },
    {
     "name": "stderr",
     "output_type": "stream",
     "text": [
      "Resizing images:  54%|█████▍    | 398/738 [01:29<01:09,  4.87it/s]"
     ]
    },
    {
     "name": "stdout",
     "output_type": "stream",
     "text": [
      "input_img.size():  torch.Size([3, 170, 255])\n",
      "resize2_img.size():  torch.Size([3, 43, 64])\n",
      "resize2_cut_img.size():  torch.Size([3, 40, 64])\n",
      "create_HrLr kernel_path:C:\\SaiVinay\\SproutsAI\\GitHub_\\ir_srgan_otsr\\results_kernels_DIV2K\\0398\\0398_kernel_x4.mat\n",
      "scale_factor:  [0.25, 0.25, 1]\n",
      "output_shape:  [43 64  3]\n",
      "im.shape:  (170, 255, 3)\n",
      "input_img.size():  torch.Size([3, 255, 170])\n",
      "resize2_img.size():  torch.Size([3, 64, 43])\n",
      "resize2_cut_img.size():  torch.Size([3, 64, 40])\n",
      "create_HrLr kernel_path:C:\\SaiVinay\\SproutsAI\\GitHub_\\ir_srgan_otsr\\results_kernels_DIV2K\\0399\\0399_kernel_x4.mat\n",
      "scale_factor:  [0.25, 0.25, 1]\n",
      "output_shape:  [64 43  3]\n",
      "im.shape:  (255, 170, 3)\n"
     ]
    },
    {
     "name": "stderr",
     "output_type": "stream",
     "text": [
      "Resizing images:  54%|█████▍    | 399/738 [01:30<01:11,  4.72it/s]"
     ]
    },
    {
     "name": "stdout",
     "output_type": "stream",
     "text": [
      "input_img.size():  torch.Size([3, 161, 255])\n",
      "resize2_img.size():  torch.Size([3, 41, 64])\n",
      "resize2_cut_img.size():  torch.Size([3, 40, 64])\n",
      "create_HrLr kernel_path:C:\\SaiVinay\\SproutsAI\\GitHub_\\ir_srgan_otsr\\results_kernels_DIV2K\\0400\\0400_kernel_x4.mat\n",
      "scale_factor:  [0.25, 0.25, 1]\n",
      "output_shape:  [41 64  3]\n",
      "im.shape:  (161, 255, 3)\n"
     ]
    },
    {
     "name": "stderr",
     "output_type": "stream",
     "text": [
      "Resizing images:  54%|█████▍    | 401/738 [01:30<01:08,  4.90it/s]"
     ]
    },
    {
     "name": "stdout",
     "output_type": "stream",
     "text": [
      "input_img.size():  torch.Size([3, 170, 255])\n",
      "resize2_img.size():  torch.Size([3, 43, 64])\n",
      "resize2_cut_img.size():  torch.Size([3, 40, 64])\n",
      "create_HrLr kernel_path:C:\\SaiVinay\\SproutsAI\\GitHub_\\ir_srgan_otsr\\results_kernels_DIV2K\\0401\\0401_kernel_x4.mat\n",
      "scale_factor:  [0.25, 0.25, 1]\n",
      "output_shape:  [43 64  3]\n",
      "im.shape:  (170, 255, 3)\n",
      "input_img.size():  torch.Size([3, 170, 255])\n",
      "resize2_img.size():  torch.Size([3, 43, 64])\n",
      "resize2_cut_img.size():  torch.Size([3, 40, 64])\n"
     ]
    },
    {
     "name": "stderr",
     "output_type": "stream",
     "text": [
      "Resizing images:  54%|█████▍    | 402/738 [01:30<01:08,  4.91it/s]"
     ]
    },
    {
     "name": "stdout",
     "output_type": "stream",
     "text": [
      "create_HrLr kernel_path:C:\\SaiVinay\\SproutsAI\\GitHub_\\ir_srgan_otsr\\results_kernels_DIV2K\\0402\\0402_kernel_x4.mat\n",
      "scale_factor:  [0.25, 0.25, 1]\n",
      "output_shape:  [43 64  3]\n",
      "im.shape:  (170, 255, 3)\n",
      "input_img.size():  torch.Size([3, 170, 255])\n",
      "resize2_img.size():  torch.Size([3, 43, 64])\n",
      "resize2_cut_img.size():  torch.Size([3, 40, 64])\n",
      "create_HrLr kernel_path:C:\\SaiVinay\\SproutsAI\\GitHub_\\ir_srgan_otsr\\results_kernels_DIV2K\\0403\\0403_kernel_x4.mat\n",
      "scale_factor:  [0.25, 0.25, 1]\n",
      "output_shape:  [43 64  3]\n",
      "im.shape:  (170, 255, 3)\n"
     ]
    },
    {
     "name": "stderr",
     "output_type": "stream",
     "text": [
      "Resizing images:  55%|█████▍    | 403/738 [01:30<01:06,  5.01it/s]"
     ]
    },
    {
     "name": "stdout",
     "output_type": "stream",
     "text": [
      "input_img.size():  torch.Size([3, 204, 255])\n",
      "resize2_img.size():  torch.Size([3, 51, 64])\n",
      "resize2_cut_img.size():  torch.Size([3, 48, 64])\n",
      "create_HrLr kernel_path:C:\\SaiVinay\\SproutsAI\\GitHub_\\ir_srgan_otsr\\results_kernels_DIV2K\\0404\\0404_kernel_x4.mat\n",
      "scale_factor:  [0.25, 0.25, 1]\n",
      "output_shape:  [51 64  3]\n",
      "im.shape:  (204, 255, 3)\n"
     ]
    },
    {
     "name": "stderr",
     "output_type": "stream",
     "text": [
      "Resizing images:  55%|█████▍    | 404/738 [01:31<01:11,  4.67it/s]"
     ]
    },
    {
     "name": "stdout",
     "output_type": "stream",
     "text": [
      "input_img.size():  torch.Size([3, 170, 255])\n",
      "resize2_img.size():  torch.Size([3, 43, 64])\n",
      "resize2_cut_img.size():  torch.Size([3, 40, 64])\n",
      "create_HrLr kernel_path:C:\\SaiVinay\\SproutsAI\\GitHub_\\ir_srgan_otsr\\results_kernels_DIV2K\\0405\\0405_kernel_x4.mat\n",
      "scale_factor:  [0.25, 0.25, 1]\n",
      "output_shape:  [43 64  3]\n",
      "im.shape:  (170, 255, 3)\n"
     ]
    },
    {
     "name": "stderr",
     "output_type": "stream",
     "text": [
      "Resizing images:  55%|█████▍    | 405/738 [01:31<01:12,  4.62it/s]"
     ]
    },
    {
     "name": "stdout",
     "output_type": "stream",
     "text": [
      "input_img.size():  torch.Size([3, 255, 170])\n",
      "resize2_img.size():  torch.Size([3, 64, 43])\n",
      "resize2_cut_img.size():  torch.Size([3, 64, 40])\n",
      "create_HrLr kernel_path:C:\\SaiVinay\\SproutsAI\\GitHub_\\ir_srgan_otsr\\results_kernels_DIV2K\\0406\\0406_kernel_x4.mat\n",
      "scale_factor:  [0.25, 0.25, 1]\n",
      "output_shape:  [64 43  3]\n",
      "im.shape:  (255, 170, 3)\n"
     ]
    },
    {
     "name": "stderr",
     "output_type": "stream",
     "text": [
      "Resizing images:  55%|█████▌    | 406/738 [01:31<01:11,  4.63it/s]"
     ]
    },
    {
     "name": "stdout",
     "output_type": "stream",
     "text": [
      "input_img.size():  torch.Size([3, 170, 255])\n",
      "resize2_img.size():  torch.Size([3, 43, 64])\n",
      "resize2_cut_img.size():  torch.Size([3, 40, 64])\n",
      "create_HrLr kernel_path:C:\\SaiVinay\\SproutsAI\\GitHub_\\ir_srgan_otsr\\results_kernels_DIV2K\\0407\\0407_kernel_x4.mat\n",
      "scale_factor:  [0.25, 0.25, 1]\n",
      "output_shape:  [43 64  3]\n",
      "im.shape:  (170, 255, 3)\n"
     ]
    },
    {
     "name": "stderr",
     "output_type": "stream",
     "text": [
      "Resizing images:  55%|█████▌    | 407/738 [01:31<01:13,  4.48it/s]"
     ]
    },
    {
     "name": "stdout",
     "output_type": "stream",
     "text": [
      "input_img.size():  torch.Size([3, 183, 255])\n",
      "resize2_img.size():  torch.Size([3, 46, 64])\n",
      "resize2_cut_img.size():  torch.Size([3, 44, 64])\n",
      "create_HrLr kernel_path:C:\\SaiVinay\\SproutsAI\\GitHub_\\ir_srgan_otsr\\results_kernels_DIV2K\\0408\\0408_kernel_x4.mat\n",
      "scale_factor:  [0.25, 0.25, 1]\n",
      "output_shape:  [46 64  3]\n",
      "im.shape:  (183, 255, 3)\n"
     ]
    },
    {
     "name": "stderr",
     "output_type": "stream",
     "text": [
      "Resizing images:  55%|█████▌    | 408/738 [01:32<01:14,  4.43it/s]"
     ]
    },
    {
     "name": "stdout",
     "output_type": "stream",
     "text": [
      "input_img.size():  torch.Size([3, 171, 255])\n",
      "resize2_img.size():  torch.Size([3, 43, 64])\n",
      "resize2_cut_img.size():  torch.Size([3, 40, 64])\n",
      "create_HrLr kernel_path:C:\\SaiVinay\\SproutsAI\\GitHub_\\ir_srgan_otsr\\results_kernels_DIV2K\\0409\\0409_kernel_x4.mat\n",
      "scale_factor:  [0.25, 0.25, 1]\n",
      "output_shape:  [43 64  3]\n",
      "im.shape:  (171, 255, 3)\n"
     ]
    },
    {
     "name": "stderr",
     "output_type": "stream",
     "text": [
      "Resizing images:  55%|█████▌    | 409/738 [01:32<01:14,  4.42it/s]"
     ]
    },
    {
     "name": "stdout",
     "output_type": "stream",
     "text": [
      "input_img.size():  torch.Size([3, 255, 170])\n",
      "resize2_img.size():  torch.Size([3, 64, 43])\n",
      "resize2_cut_img.size():  torch.Size([3, 64, 40])\n",
      "create_HrLr kernel_path:C:\\SaiVinay\\SproutsAI\\GitHub_\\ir_srgan_otsr\\results_kernels_DIV2K\\0410\\0410_kernel_x4.mat\n",
      "scale_factor:  [0.25, 0.25, 1]\n",
      "output_shape:  [64 43  3]\n",
      "im.shape:  (255, 170, 3)\n"
     ]
    },
    {
     "name": "stderr",
     "output_type": "stream",
     "text": [
      "Resizing images:  56%|█████▌    | 410/738 [01:32<01:13,  4.49it/s]"
     ]
    },
    {
     "name": "stdout",
     "output_type": "stream",
     "text": [
      "input_img.size():  torch.Size([3, 158, 255])\n",
      "resize2_img.size():  torch.Size([3, 40, 64])\n",
      "resize2_cut_img.size():  torch.Size([3, 40, 64])\n",
      "create_HrLr kernel_path:C:\\SaiVinay\\SproutsAI\\GitHub_\\ir_srgan_otsr\\results_kernels_DIV2K\\0411\\0411_kernel_x4.mat\n",
      "scale_factor:  [0.25, 0.25, 1]\n",
      "output_shape:  [40 64  3]\n",
      "im.shape:  (158, 255, 3)\n"
     ]
    },
    {
     "name": "stderr",
     "output_type": "stream",
     "text": [
      "Resizing images:  56%|█████▌    | 412/738 [01:32<01:07,  4.83it/s]"
     ]
    },
    {
     "name": "stdout",
     "output_type": "stream",
     "text": [
      "input_img.size():  torch.Size([3, 170, 255])\n",
      "resize2_img.size():  torch.Size([3, 43, 64])\n",
      "resize2_cut_img.size():  torch.Size([3, 40, 64])\n",
      "create_HrLr kernel_path:C:\\SaiVinay\\SproutsAI\\GitHub_\\ir_srgan_otsr\\results_kernels_DIV2K\\0412\\0412_kernel_x4.mat\n",
      "scale_factor:  [0.25, 0.25, 1]\n",
      "output_shape:  [43 64  3]\n",
      "im.shape:  (170, 255, 3)\n",
      "input_img.size():  torch.Size([3, 171, 255])\n",
      "resize2_img.size():  torch.Size([3, 43, 64])\n",
      "resize2_cut_img.size():  torch.Size([3, 40, 64])\n",
      "create_HrLr kernel_path:C:\\SaiVinay\\SproutsAI\\GitHub_\\ir_srgan_otsr\\results_kernels_DIV2K\\0413\\0413_kernel_x4.mat\n"
     ]
    },
    {
     "name": "stderr",
     "output_type": "stream",
     "text": [
      "Resizing images:  56%|█████▌    | 413/738 [01:33<01:04,  5.00it/s]"
     ]
    },
    {
     "name": "stdout",
     "output_type": "stream",
     "text": [
      "scale_factor:  [0.25, 0.25, 1]\n",
      "output_shape:  [43 64  3]\n",
      "im.shape:  (171, 255, 3)\n",
      "input_img.size():  torch.Size([3, 255, 170])\n",
      "resize2_img.size():  torch.Size([3, 64, 43])\n",
      "resize2_cut_img.size():  torch.Size([3, 64, 40])\n",
      "create_HrLr kernel_path:C:\\SaiVinay\\SproutsAI\\GitHub_\\ir_srgan_otsr\\results_kernels_DIV2K\\0414\\0414_kernel_x4.mat\n",
      "scale_factor:  [0.25, 0.25, 1]\n",
      "output_shape:  [64 43  3]\n",
      "im.shape:  (255, 170, 3)\n"
     ]
    },
    {
     "name": "stderr",
     "output_type": "stream",
     "text": [
      "Resizing images:  56%|█████▌    | 414/738 [01:33<01:11,  4.54it/s]"
     ]
    },
    {
     "name": "stdout",
     "output_type": "stream",
     "text": [
      "input_img.size():  torch.Size([3, 255, 170])\n",
      "resize2_img.size():  torch.Size([3, 64, 43])\n",
      "resize2_cut_img.size():  torch.Size([3, 64, 40])\n",
      "create_HrLr kernel_path:C:\\SaiVinay\\SproutsAI\\GitHub_\\ir_srgan_otsr\\results_kernels_DIV2K\\0415\\0415_kernel_x4.mat\n",
      "scale_factor:  [0.25, 0.25, 1]\n",
      "output_shape:  [64 43  3]\n",
      "im.shape:  (255, 170, 3)\n"
     ]
    },
    {
     "name": "stderr",
     "output_type": "stream",
     "text": [
      "Resizing images:  56%|█████▌    | 415/738 [01:33<01:12,  4.45it/s]"
     ]
    },
    {
     "name": "stdout",
     "output_type": "stream",
     "text": [
      "input_img.size():  torch.Size([3, 170, 255])\n",
      "resize2_img.size():  torch.Size([3, 43, 64])\n",
      "resize2_cut_img.size():  torch.Size([3, 40, 64])\n",
      "create_HrLr kernel_path:C:\\SaiVinay\\SproutsAI\\GitHub_\\ir_srgan_otsr\\results_kernels_DIV2K\\0416\\0416_kernel_x4.mat\n",
      "scale_factor:  [0.25, 0.25, 1]\n",
      "output_shape:  [43 64  3]\n",
      "im.shape:  (170, 255, 3)\n"
     ]
    },
    {
     "name": "stderr",
     "output_type": "stream",
     "text": [
      "Resizing images:  56%|█████▋    | 416/738 [01:33<01:11,  4.52it/s]"
     ]
    },
    {
     "name": "stdout",
     "output_type": "stream",
     "text": [
      "input_img.size():  torch.Size([3, 170, 255])\n",
      "resize2_img.size():  torch.Size([3, 43, 64])\n",
      "resize2_cut_img.size():  torch.Size([3, 40, 64])\n",
      "create_HrLr kernel_path:C:\\SaiVinay\\SproutsAI\\GitHub_\\ir_srgan_otsr\\results_kernels_DIV2K\\0417\\0417_kernel_x4.mat\n",
      "scale_factor:  [0.25, 0.25, 1]\n",
      "output_shape:  [43 64  3]\n",
      "im.shape:  (170, 255, 3)\n"
     ]
    },
    {
     "name": "stderr",
     "output_type": "stream",
     "text": [
      "Resizing images:  57%|█████▋    | 418/738 [01:34<01:07,  4.72it/s]"
     ]
    },
    {
     "name": "stdout",
     "output_type": "stream",
     "text": [
      "input_img.size():  torch.Size([3, 170, 255])\n",
      "resize2_img.size():  torch.Size([3, 43, 64])\n",
      "resize2_cut_img.size():  torch.Size([3, 40, 64])\n",
      "create_HrLr kernel_path:C:\\SaiVinay\\SproutsAI\\GitHub_\\ir_srgan_otsr\\results_kernels_DIV2K\\0418\\0418_kernel_x4.mat\n",
      "scale_factor:  [0.25, 0.25, 1]\n",
      "output_shape:  [43 64  3]\n",
      "im.shape:  (170, 255, 3)\n",
      "input_img.size():  torch.Size([3, 192, 255])\n",
      "resize2_img.size():  torch.Size([3, 48, 64])\n",
      "resize2_cut_img.size():  torch.Size([3, 48, 64])\n",
      "create_HrLr kernel_path:C:\\SaiVinay\\SproutsAI\\GitHub_\\ir_srgan_otsr\\results_kernels_DIV2K\\0419\\0419_kernel_x4.mat\n",
      "scale_factor:  [0.25, 0.25, 1]\n",
      "output_shape:  [48 64  3]\n",
      "im.shape:  (192, 255, 3)\n"
     ]
    },
    {
     "name": "stderr",
     "output_type": "stream",
     "text": [
      "Resizing images:  57%|█████▋    | 419/738 [01:34<01:10,  4.55it/s]"
     ]
    },
    {
     "name": "stdout",
     "output_type": "stream",
     "text": [
      "input_img.size():  torch.Size([3, 255, 192])\n",
      "resize2_img.size():  torch.Size([3, 64, 48])\n",
      "resize2_cut_img.size():  torch.Size([3, 64, 48])\n",
      "create_HrLr kernel_path:C:\\SaiVinay\\SproutsAI\\GitHub_\\ir_srgan_otsr\\results_kernels_DIV2K\\0420\\0420_kernel_x4.mat\n",
      "scale_factor:  [0.25, 0.25, 1]\n",
      "output_shape:  [64 48  3]\n",
      "im.shape:  (255, 192, 3)\n"
     ]
    },
    {
     "name": "stderr",
     "output_type": "stream",
     "text": [
      "Resizing images:  57%|█████▋    | 420/738 [01:34<01:09,  4.56it/s]"
     ]
    },
    {
     "name": "stdout",
     "output_type": "stream",
     "text": [
      "input_img.size():  torch.Size([3, 255, 191])\n",
      "resize2_img.size():  torch.Size([3, 64, 48])\n",
      "resize2_cut_img.size():  torch.Size([3, 64, 48])\n",
      "create_HrLr kernel_path:C:\\SaiVinay\\SproutsAI\\GitHub_\\ir_srgan_otsr\\results_kernels_DIV2K\\0421\\0421_kernel_x4.mat\n",
      "scale_factor:  [0.25, 0.25, 1]\n",
      "output_shape:  [64 48  3]\n",
      "im.shape:  (255, 191, 3)\n"
     ]
    },
    {
     "name": "stderr",
     "output_type": "stream",
     "text": [
      "Resizing images:  57%|█████▋    | 421/738 [01:34<01:08,  4.63it/s]"
     ]
    },
    {
     "name": "stdout",
     "output_type": "stream",
     "text": [
      "input_img.size():  torch.Size([3, 255, 170])\n",
      "resize2_img.size():  torch.Size([3, 64, 43])\n",
      "resize2_cut_img.size():  torch.Size([3, 64, 40])\n",
      "create_HrLr kernel_path:C:\\SaiVinay\\SproutsAI\\GitHub_\\ir_srgan_otsr\\results_kernels_DIV2K\\0422\\0422_kernel_x4.mat\n",
      "scale_factor:  [0.25, 0.25, 1]\n",
      "output_shape:  [64 43  3]\n",
      "im.shape:  (255, 170, 3)\n"
     ]
    },
    {
     "name": "stderr",
     "output_type": "stream",
     "text": [
      "Resizing images:  57%|█████▋    | 422/738 [01:35<01:08,  4.59it/s]"
     ]
    },
    {
     "name": "stdout",
     "output_type": "stream",
     "text": [
      "input_img.size():  torch.Size([3, 170, 255])\n",
      "resize2_img.size():  torch.Size([3, 43, 64])\n",
      "resize2_cut_img.size():  torch.Size([3, 40, 64])\n",
      "create_HrLr kernel_path:C:\\SaiVinay\\SproutsAI\\GitHub_\\ir_srgan_otsr\\results_kernels_DIV2K\\0423\\0423_kernel_x4.mat\n",
      "scale_factor:  [0.25, 0.25, 1]\n",
      "output_shape:  [43 64  3]\n",
      "im.shape:  (170, 255, 3)\n"
     ]
    },
    {
     "name": "stderr",
     "output_type": "stream",
     "text": [
      "Resizing images:  57%|█████▋    | 423/738 [01:35<01:08,  4.62it/s]"
     ]
    },
    {
     "name": "stdout",
     "output_type": "stream",
     "text": [
      "input_img.size():  torch.Size([3, 170, 255])\n",
      "resize2_img.size():  torch.Size([3, 43, 64])\n",
      "resize2_cut_img.size():  torch.Size([3, 40, 64])\n",
      "create_HrLr kernel_path:C:\\SaiVinay\\SproutsAI\\GitHub_\\ir_srgan_otsr\\results_kernels_DIV2K\\0424\\0424_kernel_x4.mat\n",
      "scale_factor:  [0.25, 0.25, 1]\n",
      "output_shape:  [43 64  3]\n",
      "im.shape:  (170, 255, 3)\n"
     ]
    },
    {
     "name": "stderr",
     "output_type": "stream",
     "text": [
      "Resizing images:  58%|█████▊    | 425/738 [01:35<01:06,  4.72it/s]"
     ]
    },
    {
     "name": "stdout",
     "output_type": "stream",
     "text": [
      "input_img.size():  torch.Size([3, 170, 255])\n",
      "resize2_img.size():  torch.Size([3, 43, 64])\n",
      "resize2_cut_img.size():  torch.Size([3, 40, 64])\n",
      "create_HrLr kernel_path:C:\\SaiVinay\\SproutsAI\\GitHub_\\ir_srgan_otsr\\results_kernels_DIV2K\\0425\\0425_kernel_x4.mat\n",
      "scale_factor:  [0.25, 0.25, 1]\n",
      "output_shape:  [43 64  3]\n",
      "im.shape:  (170, 255, 3)\n",
      "input_img.size():  torch.Size([3, 146, 255])\n",
      "resize2_img.size():  torch.Size([3, 37, 64])\n",
      "resize2_cut_img.size():  torch.Size([3, 36, 64])\n",
      "create_HrLr kernel_path:C:\\SaiVinay\\SproutsAI\\GitHub_\\ir_srgan_otsr\\results_kernels_DIV2K\\0426\\0426_kernel_x4.mat\n",
      "scale_factor:  [0.25, 0.25, 1]\n",
      "output_shape:  [37 64  3]\n",
      "im.shape:  (146, 255, 3)\n"
     ]
    },
    {
     "name": "stderr",
     "output_type": "stream",
     "text": [
      "Resizing images:  58%|█████▊    | 426/738 [01:35<01:06,  4.71it/s]"
     ]
    },
    {
     "name": "stdout",
     "output_type": "stream",
     "text": [
      "input_img.size():  torch.Size([3, 170, 255])\n",
      "resize2_img.size():  torch.Size([3, 43, 64])\n",
      "resize2_cut_img.size():  torch.Size([3, 40, 64])\n",
      "create_HrLr kernel_path:C:\\SaiVinay\\SproutsAI\\GitHub_\\ir_srgan_otsr\\results_kernels_DIV2K\\0427\\0427_kernel_x4.mat\n",
      "scale_factor:  [0.25, 0.25, 1]\n",
      "output_shape:  [43 64  3]\n",
      "im.shape:  (170, 255, 3)\n"
     ]
    },
    {
     "name": "stderr",
     "output_type": "stream",
     "text": [
      "Resizing images:  58%|█████▊    | 427/738 [01:36<01:09,  4.48it/s]"
     ]
    },
    {
     "name": "stdout",
     "output_type": "stream",
     "text": [
      "input_img.size():  torch.Size([3, 170, 255])\n",
      "resize2_img.size():  torch.Size([3, 43, 64])\n",
      "resize2_cut_img.size():  torch.Size([3, 40, 64])\n",
      "create_HrLr kernel_path:C:\\SaiVinay\\SproutsAI\\GitHub_\\ir_srgan_otsr\\results_kernels_DIV2K\\0428\\0428_kernel_x4.mat\n",
      "scale_factor:  [0.25, 0.25, 1]\n",
      "output_shape:  [43 64  3]\n",
      "im.shape:  (170, 255, 3)\n"
     ]
    },
    {
     "name": "stderr",
     "output_type": "stream",
     "text": [
      "Resizing images:  58%|█████▊    | 428/738 [01:36<01:07,  4.57it/s]"
     ]
    },
    {
     "name": "stdout",
     "output_type": "stream",
     "text": [
      "input_img.size():  torch.Size([3, 192, 255])\n",
      "resize2_img.size():  torch.Size([3, 48, 64])\n",
      "resize2_cut_img.size():  torch.Size([3, 48, 64])\n",
      "create_HrLr kernel_path:C:\\SaiVinay\\SproutsAI\\GitHub_\\ir_srgan_otsr\\results_kernels_DIV2K\\0429\\0429_kernel_x4.mat\n",
      "scale_factor:  [0.25, 0.25, 1]\n",
      "output_shape:  [48 64  3]\n",
      "im.shape:  (192, 255, 3)\n"
     ]
    },
    {
     "name": "stderr",
     "output_type": "stream",
     "text": [
      "Resizing images:  58%|█████▊    | 430/738 [01:36<01:05,  4.70it/s]"
     ]
    },
    {
     "name": "stdout",
     "output_type": "stream",
     "text": [
      "input_img.size():  torch.Size([3, 171, 255])\n",
      "resize2_img.size():  torch.Size([3, 43, 64])\n",
      "resize2_cut_img.size():  torch.Size([3, 40, 64])\n",
      "create_HrLr kernel_path:C:\\SaiVinay\\SproutsAI\\GitHub_\\ir_srgan_otsr\\results_kernels_DIV2K\\0430\\0430_kernel_x4.mat\n",
      "scale_factor:  [0.25, 0.25, 1]\n",
      "output_shape:  [43 64  3]\n",
      "im.shape:  (171, 255, 3)\n",
      "input_img.size():  torch.Size([3, 170, 255])\n",
      "resize2_img.size():  torch.Size([3, 43, 64])\n",
      "resize2_cut_img.size():  torch.Size([3, 40, 64])\n",
      "create_HrLr kernel_path:C:\\SaiVinay\\SproutsAI\\GitHub_\\ir_srgan_otsr\\results_kernels_DIV2K\\0431\\0431_kernel_x4.mat\n",
      "scale_factor:  [0.25, 0.25, 1]\n",
      "output_shape:  [43 64  3]\n",
      "im.shape:  (170, 255, 3)\n"
     ]
    },
    {
     "name": "stderr",
     "output_type": "stream",
     "text": [
      "Resizing images:  58%|█████▊    | 431/738 [01:36<01:06,  4.62it/s]"
     ]
    },
    {
     "name": "stdout",
     "output_type": "stream",
     "text": [
      "input_img.size():  torch.Size([3, 170, 255])\n",
      "resize2_img.size():  torch.Size([3, 43, 64])\n",
      "resize2_cut_img.size():  torch.Size([3, 40, 64])\n",
      "create_HrLr kernel_path:C:\\SaiVinay\\SproutsAI\\GitHub_\\ir_srgan_otsr\\results_kernels_DIV2K\\0432\\0432_kernel_x4.mat\n",
      "scale_factor:  [0.25, 0.25, 1]\n",
      "output_shape:  [43 64  3]\n",
      "im.shape:  (170, 255, 3)\n"
     ]
    },
    {
     "name": "stderr",
     "output_type": "stream",
     "text": [
      "Resizing images:  59%|█████▊    | 432/738 [01:37<01:07,  4.54it/s]"
     ]
    },
    {
     "name": "stdout",
     "output_type": "stream",
     "text": [
      "input_img.size():  torch.Size([3, 170, 255])\n",
      "resize2_img.size():  torch.Size([3, 43, 64])\n",
      "resize2_cut_img.size():  torch.Size([3, 40, 64])\n",
      "create_HrLr kernel_path:C:\\SaiVinay\\SproutsAI\\GitHub_\\ir_srgan_otsr\\results_kernels_DIV2K\\0433\\0433_kernel_x4.mat\n",
      "scale_factor:  [0.25, 0.25, 1]\n",
      "output_shape:  [43 64  3]\n",
      "im.shape:  (170, 255, 3)\n"
     ]
    },
    {
     "name": "stderr",
     "output_type": "stream",
     "text": [
      "Resizing images:  59%|█████▉    | 434/738 [01:37<01:03,  4.77it/s]"
     ]
    },
    {
     "name": "stdout",
     "output_type": "stream",
     "text": [
      "input_img.size():  torch.Size([3, 153, 255])\n",
      "resize2_img.size():  torch.Size([3, 39, 64])\n",
      "resize2_cut_img.size():  torch.Size([3, 36, 64])\n",
      "create_HrLr kernel_path:C:\\SaiVinay\\SproutsAI\\GitHub_\\ir_srgan_otsr\\results_kernels_DIV2K\\0434\\0434_kernel_x4.mat\n",
      "scale_factor:  [0.25, 0.25, 1]\n",
      "output_shape:  [39 64  3]\n",
      "im.shape:  (153, 255, 3)\n",
      "input_img.size():  torch.Size([3, 170, 255])\n",
      "resize2_img.size():  torch.Size([3, 43, 64])\n",
      "resize2_cut_img.size():  torch.Size([3, 40, 64])\n",
      "create_HrLr kernel_path:C:\\SaiVinay\\SproutsAI\\GitHub_\\ir_srgan_otsr\\results_kernels_DIV2K\\0435\\0435_kernel_x4.mat\n"
     ]
    },
    {
     "name": "stderr",
     "output_type": "stream",
     "text": [
      "Resizing images:  59%|█████▉    | 435/738 [01:37<01:02,  4.82it/s]"
     ]
    },
    {
     "name": "stdout",
     "output_type": "stream",
     "text": [
      "scale_factor:  [0.25, 0.25, 1]\n",
      "output_shape:  [43 64  3]\n",
      "im.shape:  (170, 255, 3)\n",
      "input_img.size():  torch.Size([3, 170, 255])\n",
      "resize2_img.size():  torch.Size([3, 43, 64])\n",
      "resize2_cut_img.size():  torch.Size([3, 40, 64])\n",
      "create_HrLr kernel_path:C:\\SaiVinay\\SproutsAI\\GitHub_\\ir_srgan_otsr\\results_kernels_DIV2K\\0436\\0436_kernel_x4.mat\n"
     ]
    },
    {
     "name": "stderr",
     "output_type": "stream",
     "text": [
      "Resizing images:  59%|█████▉    | 436/738 [01:38<01:00,  4.95it/s]"
     ]
    },
    {
     "name": "stdout",
     "output_type": "stream",
     "text": [
      "scale_factor:  [0.25, 0.25, 1]\n",
      "output_shape:  [43 64  3]\n",
      "im.shape:  (170, 255, 3)\n",
      "input_img.size():  torch.Size([3, 81, 255])\n",
      "resize2_img.size():  torch.Size([3, 21, 64])\n",
      "resize2_cut_img.size():  torch.Size([3, 20, 64])\n",
      "create_HrLr kernel_path:C:\\SaiVinay\\SproutsAI\\GitHub_\\ir_srgan_otsr\\results_kernels_DIV2K\\0437\\0437_kernel_x4.mat\n",
      "scale_factor:  [0.25, 0.25, 1]\n",
      "output_shape:  [21 64  3]\n",
      "im.shape:  (81, 255, 3)\n"
     ]
    },
    {
     "name": "stderr",
     "output_type": "stream",
     "text": [
      "Resizing images:  59%|█████▉    | 438/738 [01:38<00:56,  5.36it/s]"
     ]
    },
    {
     "name": "stdout",
     "output_type": "stream",
     "text": [
      "input_img.size():  torch.Size([3, 170, 255])\n",
      "resize2_img.size():  torch.Size([3, 43, 64])\n",
      "resize2_cut_img.size():  torch.Size([3, 40, 64])\n",
      "create_HrLr kernel_path:C:\\SaiVinay\\SproutsAI\\GitHub_\\ir_srgan_otsr\\results_kernels_DIV2K\\0438\\0438_kernel_x4.mat\n",
      "scale_factor:  [0.25, 0.25, 1]\n",
      "output_shape:  [43 64  3]\n",
      "im.shape:  (170, 255, 3)\n",
      "input_img.size():  torch.Size([3, 174, 255])\n",
      "resize2_img.size():  torch.Size([3, 44, 64])\n",
      "resize2_cut_img.size():  torch.Size([3, 44, 64])\n",
      "create_HrLr kernel_path:C:\\SaiVinay\\SproutsAI\\GitHub_\\ir_srgan_otsr\\results_kernels_DIV2K\\0439\\0439_kernel_x4.mat\n",
      "scale_factor:  [0.25, 0.25, 1]\n",
      "output_shape:  [44 64  3]\n",
      "im.shape:  (174, 255, 3)\n"
     ]
    },
    {
     "name": "stderr",
     "output_type": "stream",
     "text": [
      "Resizing images:  60%|█████▉    | 440/738 [01:38<00:58,  5.06it/s]"
     ]
    },
    {
     "name": "stdout",
     "output_type": "stream",
     "text": [
      "input_img.size():  torch.Size([3, 170, 255])\n",
      "resize2_img.size():  torch.Size([3, 43, 64])\n",
      "resize2_cut_img.size():  torch.Size([3, 40, 64])\n",
      "create_HrLr kernel_path:C:\\SaiVinay\\SproutsAI\\GitHub_\\ir_srgan_otsr\\results_kernels_DIV2K\\0440\\0440_kernel_x4.mat\n",
      "scale_factor:  [0.25, 0.25, 1]\n",
      "output_shape:  [43 64  3]\n",
      "im.shape:  (170, 255, 3)\n",
      "input_img.size():  torch.Size([3, 149, 255])\n",
      "resize2_img.size():  torch.Size([3, 38, 64])\n",
      "resize2_cut_img.size():  torch.Size([3, 36, 64])\n",
      "create_HrLr kernel_path:C:\\SaiVinay\\SproutsAI\\GitHub_\\ir_srgan_otsr\\results_kernels_DIV2K\\0441\\0441_kernel_x4.mat\n",
      "scale_factor:  [0.25, 0.25, 1]\n",
      "output_shape:  [38 64  3]\n",
      "im.shape:  (149, 255, 3)\n"
     ]
    },
    {
     "name": "stderr",
     "output_type": "stream",
     "text": [
      "Resizing images:  60%|█████▉    | 441/738 [01:38<01:00,  4.89it/s]"
     ]
    },
    {
     "name": "stdout",
     "output_type": "stream",
     "text": [
      "input_img.size():  torch.Size([3, 170, 255])\n",
      "resize2_img.size():  torch.Size([3, 43, 64])\n",
      "resize2_cut_img.size():  torch.Size([3, 40, 64])\n",
      "create_HrLr kernel_path:C:\\SaiVinay\\SproutsAI\\GitHub_\\ir_srgan_otsr\\results_kernels_DIV2K\\0442\\0442_kernel_x4.mat\n",
      "scale_factor:  [0.25, 0.25, 1]\n",
      "output_shape:  [43 64  3]\n",
      "im.shape:  (170, 255, 3)\n"
     ]
    },
    {
     "name": "stderr",
     "output_type": "stream",
     "text": [
      "Resizing images:  60%|█████▉    | 442/738 [01:39<01:03,  4.69it/s]"
     ]
    },
    {
     "name": "stdout",
     "output_type": "stream",
     "text": [
      "input_img.size():  torch.Size([3, 170, 255])\n",
      "resize2_img.size():  torch.Size([3, 43, 64])\n",
      "resize2_cut_img.size():  torch.Size([3, 40, 64])\n",
      "create_HrLr kernel_path:C:\\SaiVinay\\SproutsAI\\GitHub_\\ir_srgan_otsr\\results_kernels_DIV2K\\0443\\0443_kernel_x4.mat\n",
      "scale_factor:  [0.25, 0.25, 1]\n",
      "output_shape:  [43 64  3]\n",
      "im.shape:  (170, 255, 3)\n"
     ]
    },
    {
     "name": "stderr",
     "output_type": "stream",
     "text": [
      "Resizing images:  60%|██████    | 443/738 [01:39<01:03,  4.67it/s]"
     ]
    },
    {
     "name": "stdout",
     "output_type": "stream",
     "text": [
      "input_img.size():  torch.Size([3, 170, 255])\n",
      "resize2_img.size():  torch.Size([3, 43, 64])\n",
      "resize2_cut_img.size():  torch.Size([3, 40, 64])\n",
      "create_HrLr kernel_path:C:\\SaiVinay\\SproutsAI\\GitHub_\\ir_srgan_otsr\\results_kernels_DIV2K\\0444\\0444_kernel_x4.mat\n",
      "scale_factor:  [0.25, 0.25, 1]\n",
      "output_shape:  [43 64  3]\n",
      "im.shape:  (170, 255, 3)\n"
     ]
    },
    {
     "name": "stderr",
     "output_type": "stream",
     "text": [
      "Resizing images:  60%|██████    | 445/738 [01:39<01:01,  4.73it/s]"
     ]
    },
    {
     "name": "stdout",
     "output_type": "stream",
     "text": [
      "input_img.size():  torch.Size([3, 170, 255])\n",
      "resize2_img.size():  torch.Size([3, 43, 64])\n",
      "resize2_cut_img.size():  torch.Size([3, 40, 64])\n",
      "create_HrLr kernel_path:C:\\SaiVinay\\SproutsAI\\GitHub_\\ir_srgan_otsr\\results_kernels_DIV2K\\0445\\0445_kernel_x4.mat\n",
      "scale_factor:  [0.25, 0.25, 1]\n",
      "output_shape:  [43 64  3]\n",
      "im.shape:  (170, 255, 3)\n"
     ]
    },
    {
     "name": "stderr",
     "output_type": "stream",
     "text": [
      "Resizing images:  60%|██████    | 446/738 [01:40<00:58,  4.98it/s]"
     ]
    },
    {
     "name": "stdout",
     "output_type": "stream",
     "text": [
      "input_img.size():  torch.Size([3, 170, 255])\n",
      "resize2_img.size():  torch.Size([3, 43, 64])\n",
      "resize2_cut_img.size():  torch.Size([3, 40, 64])\n",
      "create_HrLr kernel_path:C:\\SaiVinay\\SproutsAI\\GitHub_\\ir_srgan_otsr\\results_kernels_DIV2K\\0446\\0446_kernel_x4.mat\n",
      "scale_factor:  [0.25, 0.25, 1]\n",
      "output_shape:  [43 64  3]\n",
      "im.shape:  (170, 255, 3)\n",
      "input_img.size():  torch.Size([3, 212, 255])\n",
      "resize2_img.size():  torch.Size([3, 53, 64])\n",
      "resize2_cut_img.size():  torch.Size([3, 52, 64])\n",
      "create_HrLr kernel_path:C:\\SaiVinay\\SproutsAI\\GitHub_\\ir_srgan_otsr\\results_kernels_DIV2K\\0447\\0447_kernel_x4.mat\n",
      "scale_factor:  [0.25, 0.25, 1]\n",
      "output_shape:  [53 64  3]\n",
      "im.shape:  (212, 255, 3)\n"
     ]
    },
    {
     "name": "stderr",
     "output_type": "stream",
     "text": [
      "Resizing images:  61%|██████    | 447/738 [01:40<01:04,  4.49it/s]"
     ]
    },
    {
     "name": "stdout",
     "output_type": "stream",
     "text": [
      "input_img.size():  torch.Size([3, 192, 255])\n",
      "resize2_img.size():  torch.Size([3, 48, 64])\n",
      "resize2_cut_img.size():  torch.Size([3, 48, 64])\n",
      "create_HrLr kernel_path:C:\\SaiVinay\\SproutsAI\\GitHub_\\ir_srgan_otsr\\results_kernels_DIV2K\\0448\\0448_kernel_x4.mat\n",
      "scale_factor:  [0.25, 0.25, 1]\n",
      "output_shape:  [48 64  3]\n",
      "im.shape:  (192, 255, 3)\n"
     ]
    },
    {
     "name": "stderr",
     "output_type": "stream",
     "text": [
      "Resizing images:  61%|██████    | 448/738 [01:40<01:04,  4.51it/s]"
     ]
    },
    {
     "name": "stdout",
     "output_type": "stream",
     "text": [
      "input_img.size():  torch.Size([3, 255, 171])\n",
      "resize2_img.size():  torch.Size([3, 64, 43])\n",
      "resize2_cut_img.size():  torch.Size([3, 64, 40])\n",
      "create_HrLr kernel_path:C:\\SaiVinay\\SproutsAI\\GitHub_\\ir_srgan_otsr\\results_kernels_DIV2K\\0449\\0449_kernel_x4.mat\n",
      "scale_factor:  [0.25, 0.25, 1]\n",
      "output_shape:  [64 43  3]\n",
      "im.shape:  (255, 171, 3)\n"
     ]
    },
    {
     "name": "stderr",
     "output_type": "stream",
     "text": [
      "Resizing images:  61%|██████    | 449/738 [01:40<01:01,  4.67it/s]"
     ]
    },
    {
     "name": "stdout",
     "output_type": "stream",
     "text": [
      "input_img.size():  torch.Size([3, 255, 255])\n",
      "resize2_img.size():  torch.Size([3, 64, 64])\n",
      "resize2_cut_img.size():  torch.Size([3, 64, 64])\n",
      "create_HrLr kernel_path:C:\\SaiVinay\\SproutsAI\\GitHub_\\ir_srgan_otsr\\results_kernels_DIV2K\\0450\\0450_kernel_x4.mat\n",
      "scale_factor:  [0.25, 0.25, 1]\n",
      "output_shape:  [64 64  3]\n",
      "im.shape:  (255, 255, 3)\n"
     ]
    },
    {
     "name": "stderr",
     "output_type": "stream",
     "text": [
      "Resizing images:  61%|██████    | 450/738 [01:41<01:09,  4.16it/s]"
     ]
    },
    {
     "name": "stdout",
     "output_type": "stream",
     "text": [
      "input_img.size():  torch.Size([3, 255, 170])\n",
      "resize2_img.size():  torch.Size([3, 64, 43])\n",
      "resize2_cut_img.size():  torch.Size([3, 64, 40])\n",
      "create_HrLr kernel_path:C:\\SaiVinay\\SproutsAI\\GitHub_\\ir_srgan_otsr\\results_kernels_DIV2K\\0451\\0451_kernel_x4.mat\n",
      "scale_factor:  [0.25, 0.25, 1]\n",
      "output_shape:  [64 43  3]\n",
      "im.shape:  (255, 170, 3)\n"
     ]
    },
    {
     "name": "stderr",
     "output_type": "stream",
     "text": [
      "Resizing images:  61%|██████    | 451/738 [01:41<01:09,  4.11it/s]"
     ]
    },
    {
     "name": "stdout",
     "output_type": "stream",
     "text": [
      "input_img.size():  torch.Size([3, 179, 255])\n",
      "resize2_img.size():  torch.Size([3, 45, 64])\n",
      "resize2_cut_img.size():  torch.Size([3, 44, 64])\n",
      "create_HrLr kernel_path:C:\\SaiVinay\\SproutsAI\\GitHub_\\ir_srgan_otsr\\results_kernels_DIV2K\\0452\\0452_kernel_x4.mat\n",
      "scale_factor:  [0.25, 0.25, 1]\n",
      "output_shape:  [45 64  3]\n",
      "im.shape:  (179, 255, 3)\n"
     ]
    },
    {
     "name": "stderr",
     "output_type": "stream",
     "text": [
      "Resizing images:  61%|██████    | 452/738 [01:41<01:13,  3.89it/s]"
     ]
    },
    {
     "name": "stdout",
     "output_type": "stream",
     "text": [
      "input_img.size():  torch.Size([3, 192, 255])\n",
      "resize2_img.size():  torch.Size([3, 48, 64])\n",
      "resize2_cut_img.size():  torch.Size([3, 48, 64])\n",
      "create_HrLr kernel_path:C:\\SaiVinay\\SproutsAI\\GitHub_\\ir_srgan_otsr\\results_kernels_DIV2K\\0453\\0453_kernel_x4.mat\n",
      "scale_factor:  [0.25, 0.25, 1]\n",
      "output_shape:  [48 64  3]\n",
      "im.shape:  (192, 255, 3)\n"
     ]
    },
    {
     "name": "stderr",
     "output_type": "stream",
     "text": [
      "Resizing images:  61%|██████▏   | 453/738 [01:41<01:13,  3.87it/s]"
     ]
    },
    {
     "name": "stdout",
     "output_type": "stream",
     "text": [
      "input_img.size():  torch.Size([3, 170, 255])\n",
      "resize2_img.size():  torch.Size([3, 43, 64])\n",
      "resize2_cut_img.size():  torch.Size([3, 40, 64])\n",
      "create_HrLr kernel_path:C:\\SaiVinay\\SproutsAI\\GitHub_\\ir_srgan_otsr\\results_kernels_DIV2K\\0454\\0454_kernel_x4.mat\n",
      "scale_factor:  [0.25, 0.25, 1]\n",
      "output_shape:  [43 64  3]\n",
      "im.shape:  (170, 255, 3)\n"
     ]
    },
    {
     "name": "stderr",
     "output_type": "stream",
     "text": [
      "Resizing images:  62%|██████▏   | 454/738 [01:42<01:13,  3.85it/s]"
     ]
    },
    {
     "name": "stdout",
     "output_type": "stream",
     "text": [
      "input_img.size():  torch.Size([3, 141, 255])\n",
      "resize2_img.size():  torch.Size([3, 36, 64])\n",
      "resize2_cut_img.size():  torch.Size([3, 36, 64])\n",
      "create_HrLr kernel_path:C:\\SaiVinay\\SproutsAI\\GitHub_\\ir_srgan_otsr\\results_kernels_DIV2K\\0455\\0455_kernel_x4.mat\n",
      "scale_factor:  [0.25, 0.25, 1]\n",
      "output_shape:  [36 64  3]\n",
      "im.shape:  (141, 255, 3)\n"
     ]
    },
    {
     "name": "stderr",
     "output_type": "stream",
     "text": [
      "Resizing images:  62%|██████▏   | 456/738 [01:42<01:05,  4.28it/s]"
     ]
    },
    {
     "name": "stdout",
     "output_type": "stream",
     "text": [
      "input_img.size():  torch.Size([3, 170, 255])\n",
      "resize2_img.size():  torch.Size([3, 43, 64])\n",
      "resize2_cut_img.size():  torch.Size([3, 40, 64])\n",
      "create_HrLr kernel_path:C:\\SaiVinay\\SproutsAI\\GitHub_\\ir_srgan_otsr\\results_kernels_DIV2K\\0456\\0456_kernel_x4.mat\n",
      "scale_factor:  [0.25, 0.25, 1]\n",
      "output_shape:  [43 64  3]\n",
      "im.shape:  (170, 255, 3)\n"
     ]
    },
    {
     "name": "stderr",
     "output_type": "stream",
     "text": [
      "Resizing images:  62%|██████▏   | 457/738 [01:42<01:01,  4.58it/s]"
     ]
    },
    {
     "name": "stdout",
     "output_type": "stream",
     "text": [
      "input_img.size():  torch.Size([3, 255, 146])\n",
      "resize2_img.size():  torch.Size([3, 64, 37])\n",
      "resize2_cut_img.size():  torch.Size([3, 64, 36])\n",
      "create_HrLr kernel_path:C:\\SaiVinay\\SproutsAI\\GitHub_\\ir_srgan_otsr\\results_kernels_DIV2K\\0457\\0457_kernel_x4.mat\n",
      "scale_factor:  [0.25, 0.25, 1]\n",
      "output_shape:  [64 37  3]\n",
      "im.shape:  (255, 146, 3)\n",
      "input_img.size():  torch.Size([3, 170, 255])\n",
      "resize2_img.size():  torch.Size([3, 43, 64])\n",
      "resize2_cut_img.size():  torch.Size([3, 40, 64])\n",
      "create_HrLr kernel_path:C:\\SaiVinay\\SproutsAI\\GitHub_\\ir_srgan_otsr\\results_kernels_DIV2K\\0458\\0458_kernel_x4.mat\n"
     ]
    },
    {
     "name": "stderr",
     "output_type": "stream",
     "text": [
      "Resizing images:  62%|██████▏   | 458/738 [01:42<01:01,  4.53it/s]"
     ]
    },
    {
     "name": "stdout",
     "output_type": "stream",
     "text": [
      "scale_factor:  [0.25, 0.25, 1]\n",
      "output_shape:  [43 64  3]\n",
      "im.shape:  (170, 255, 3)\n",
      "input_img.size():  torch.Size([3, 170, 255])\n",
      "resize2_img.size():  torch.Size([3, 43, 64])\n",
      "resize2_cut_img.size():  torch.Size([3, 40, 64])\n",
      "create_HrLr kernel_path:C:\\SaiVinay\\SproutsAI\\GitHub_\\ir_srgan_otsr\\results_kernels_DIV2K\\0459\\0459_kernel_x4.mat\n",
      "scale_factor:  [0.25, 0.25, 1]\n",
      "output_shape:  [43 64  3]\n",
      "im.shape:  (170, 255, 3)\n"
     ]
    },
    {
     "name": "stderr",
     "output_type": "stream",
     "text": [
      "Resizing images:  62%|██████▏   | 459/738 [01:43<01:12,  3.86it/s]"
     ]
    },
    {
     "name": "stdout",
     "output_type": "stream",
     "text": [
      "input_img.size():  torch.Size([3, 255, 243])\n",
      "resize2_img.size():  torch.Size([3, 64, 61])\n",
      "resize2_cut_img.size():  torch.Size([3, 64, 60])\n",
      "create_HrLr kernel_path:C:\\SaiVinay\\SproutsAI\\GitHub_\\ir_srgan_otsr\\results_kernels_DIV2K\\0460\\0460_kernel_x4.mat\n",
      "scale_factor:  [0.25, 0.25, 1]\n",
      "output_shape:  [64 61  3]\n",
      "im.shape:  (255, 243, 3)\n"
     ]
    },
    {
     "name": "stderr",
     "output_type": "stream",
     "text": [
      "Resizing images:  62%|██████▏   | 460/738 [01:43<01:12,  3.82it/s]"
     ]
    },
    {
     "name": "stdout",
     "output_type": "stream",
     "text": [
      "input_img.size():  torch.Size([3, 255, 180])\n",
      "resize2_img.size():  torch.Size([3, 64, 45])\n",
      "resize2_cut_img.size():  torch.Size([3, 64, 44])\n",
      "create_HrLr kernel_path:C:\\SaiVinay\\SproutsAI\\GitHub_\\ir_srgan_otsr\\results_kernels_DIV2K\\0461\\0461_kernel_x4.mat\n",
      "scale_factor:  [0.25, 0.25, 1]\n",
      "output_shape:  [64 45  3]\n",
      "im.shape:  (255, 180, 3)\n"
     ]
    },
    {
     "name": "stderr",
     "output_type": "stream",
     "text": [
      "Resizing images:  62%|██████▏   | 461/738 [01:43<01:10,  3.94it/s]"
     ]
    },
    {
     "name": "stdout",
     "output_type": "stream",
     "text": [
      "input_img.size():  torch.Size([3, 170, 255])\n",
      "resize2_img.size():  torch.Size([3, 43, 64])\n",
      "resize2_cut_img.size():  torch.Size([3, 40, 64])\n",
      "create_HrLr kernel_path:C:\\SaiVinay\\SproutsAI\\GitHub_\\ir_srgan_otsr\\results_kernels_DIV2K\\0462\\0462_kernel_x4.mat\n",
      "scale_factor:  [0.25, 0.25, 1]\n",
      "output_shape:  [43 64  3]\n",
      "im.shape:  (170, 255, 3)\n"
     ]
    },
    {
     "name": "stderr",
     "output_type": "stream",
     "text": [
      "Resizing images:  63%|██████▎   | 463/738 [01:44<01:04,  4.28it/s]"
     ]
    },
    {
     "name": "stdout",
     "output_type": "stream",
     "text": [
      "input_img.size():  torch.Size([3, 171, 255])\n",
      "resize2_img.size():  torch.Size([3, 43, 64])\n",
      "resize2_cut_img.size():  torch.Size([3, 40, 64])\n",
      "create_HrLr kernel_path:C:\\SaiVinay\\SproutsAI\\GitHub_\\ir_srgan_otsr\\results_kernels_DIV2K\\0463\\0463_kernel_x4.mat\n",
      "scale_factor:  [0.25, 0.25, 1]\n",
      "output_shape:  [43 64  3]\n",
      "im.shape:  (171, 255, 3)\n"
     ]
    },
    {
     "name": "stderr",
     "output_type": "stream",
     "text": [
      "Resizing images:  63%|██████▎   | 464/738 [01:44<01:01,  4.45it/s]"
     ]
    },
    {
     "name": "stdout",
     "output_type": "stream",
     "text": [
      "input_img.size():  torch.Size([3, 170, 255])\n",
      "resize2_img.size():  torch.Size([3, 43, 64])\n",
      "resize2_cut_img.size():  torch.Size([3, 40, 64])\n",
      "create_HrLr kernel_path:C:\\SaiVinay\\SproutsAI\\GitHub_\\ir_srgan_otsr\\results_kernels_DIV2K\\0464\\0464_kernel_x4.mat\n",
      "scale_factor:  [0.25, 0.25, 1]\n",
      "output_shape:  [43 64  3]\n",
      "im.shape:  (170, 255, 3)\n"
     ]
    },
    {
     "name": "stderr",
     "output_type": "stream",
     "text": [
      "Resizing images:  63%|██████▎   | 465/738 [01:44<00:59,  4.59it/s]"
     ]
    },
    {
     "name": "stdout",
     "output_type": "stream",
     "text": [
      "input_img.size():  torch.Size([3, 144, 255])\n",
      "resize2_img.size():  torch.Size([3, 36, 64])\n",
      "resize2_cut_img.size():  torch.Size([3, 36, 64])\n",
      "create_HrLr kernel_path:C:\\SaiVinay\\SproutsAI\\GitHub_\\ir_srgan_otsr\\results_kernels_DIV2K\\0465\\0465_kernel_x4.mat\n",
      "scale_factor:  [0.25, 0.25, 1]\n",
      "output_shape:  [36 64  3]\n",
      "im.shape:  (144, 255, 3)\n",
      "input_img.size():  torch.Size([3, 170, 255])\n",
      "resize2_img.size():  torch.Size([3, 43, 64])\n",
      "resize2_cut_img.size():  torch.Size([3, 40, 64])\n",
      "create_HrLr kernel_path:C:\\SaiVinay\\SproutsAI\\GitHub_\\ir_srgan_otsr\\results_kernels_DIV2K\\0466\\0466_kernel_x4.mat\n",
      "scale_factor:  [0.25, 0.25, 1]\n",
      "output_shape:  [43 64  3]\n",
      "im.shape:  (170, 255, 3)\n"
     ]
    },
    {
     "name": "stderr",
     "output_type": "stream",
     "text": [
      "Resizing images:  63%|██████▎   | 466/738 [01:44<01:03,  4.26it/s]"
     ]
    },
    {
     "name": "stdout",
     "output_type": "stream",
     "text": [
      "input_img.size():  torch.Size([3, 255, 170])\n",
      "resize2_img.size():  torch.Size([3, 64, 43])\n",
      "resize2_cut_img.size():  torch.Size([3, 64, 40])\n",
      "create_HrLr kernel_path:C:\\SaiVinay\\SproutsAI\\GitHub_\\ir_srgan_otsr\\results_kernels_DIV2K\\0467\\0467_kernel_x4.mat\n",
      "scale_factor:  [0.25, 0.25, 1]\n",
      "output_shape:  [64 43  3]\n",
      "im.shape:  (255, 170, 3)\n"
     ]
    },
    {
     "name": "stderr",
     "output_type": "stream",
     "text": [
      "Resizing images:  63%|██████▎   | 467/738 [01:45<01:02,  4.36it/s]"
     ]
    },
    {
     "name": "stdout",
     "output_type": "stream",
     "text": [
      "input_img.size():  torch.Size([3, 170, 255])\n",
      "resize2_img.size():  torch.Size([3, 43, 64])\n",
      "resize2_cut_img.size():  torch.Size([3, 40, 64])\n",
      "create_HrLr kernel_path:C:\\SaiVinay\\SproutsAI\\GitHub_\\ir_srgan_otsr\\results_kernels_DIV2K\\0468\\0468_kernel_x4.mat\n",
      "scale_factor:  [0.25, 0.25, 1]\n",
      "output_shape:  [43 64  3]\n",
      "im.shape:  (170, 255, 3)\n"
     ]
    },
    {
     "name": "stderr",
     "output_type": "stream",
     "text": [
      "Resizing images:  63%|██████▎   | 468/738 [01:45<01:03,  4.22it/s]"
     ]
    },
    {
     "name": "stdout",
     "output_type": "stream",
     "text": [
      "input_img.size():  torch.Size([3, 255, 170])\n",
      "resize2_img.size():  torch.Size([3, 64, 43])\n",
      "resize2_cut_img.size():  torch.Size([3, 64, 40])\n",
      "create_HrLr kernel_path:C:\\SaiVinay\\SproutsAI\\GitHub_\\ir_srgan_otsr\\results_kernels_DIV2K\\0469\\0469_kernel_x4.mat\n",
      "scale_factor:  [0.25, 0.25, 1]\n",
      "output_shape:  [64 43  3]\n",
      "im.shape:  (255, 170, 3)\n"
     ]
    },
    {
     "name": "stderr",
     "output_type": "stream",
     "text": [
      "Resizing images:  64%|██████▎   | 469/738 [01:45<01:02,  4.31it/s]"
     ]
    },
    {
     "name": "stdout",
     "output_type": "stream",
     "text": [
      "input_img.size():  torch.Size([3, 170, 255])\n",
      "resize2_img.size():  torch.Size([3, 43, 64])\n",
      "resize2_cut_img.size():  torch.Size([3, 40, 64])\n",
      "create_HrLr kernel_path:C:\\SaiVinay\\SproutsAI\\GitHub_\\ir_srgan_otsr\\results_kernels_DIV2K\\0470\\0470_kernel_x4.mat\n",
      "scale_factor:  [0.25, 0.25, 1]\n",
      "output_shape:  [43 64  3]\n",
      "im.shape:  (170, 255, 3)\n"
     ]
    },
    {
     "name": "stderr",
     "output_type": "stream",
     "text": [
      "Resizing images:  64%|██████▎   | 470/738 [01:45<01:02,  4.32it/s]"
     ]
    },
    {
     "name": "stdout",
     "output_type": "stream",
     "text": [
      "input_img.size():  torch.Size([3, 170, 255])\n",
      "resize2_img.size():  torch.Size([3, 43, 64])\n",
      "resize2_cut_img.size():  torch.Size([3, 40, 64])\n",
      "create_HrLr kernel_path:C:\\SaiVinay\\SproutsAI\\GitHub_\\ir_srgan_otsr\\results_kernels_DIV2K\\0471\\0471_kernel_x4.mat\n",
      "scale_factor:  [0.25, 0.25, 1]\n",
      "output_shape:  [43 64  3]\n",
      "im.shape:  (170, 255, 3)\n"
     ]
    },
    {
     "name": "stderr",
     "output_type": "stream",
     "text": [
      "Resizing images:  64%|██████▍   | 471/738 [01:46<01:00,  4.38it/s]"
     ]
    },
    {
     "name": "stdout",
     "output_type": "stream",
     "text": [
      "input_img.size():  torch.Size([3, 170, 255])\n",
      "resize2_img.size():  torch.Size([3, 43, 64])\n",
      "resize2_cut_img.size():  torch.Size([3, 40, 64])\n",
      "create_HrLr kernel_path:C:\\SaiVinay\\SproutsAI\\GitHub_\\ir_srgan_otsr\\results_kernels_DIV2K\\0472\\0472_kernel_x4.mat\n",
      "scale_factor:  [0.25, 0.25, 1]\n",
      "output_shape:  [43 64  3]\n",
      "im.shape:  (170, 255, 3)\n"
     ]
    },
    {
     "name": "stderr",
     "output_type": "stream",
     "text": [
      "Resizing images:  64%|██████▍   | 472/738 [01:46<01:00,  4.36it/s]"
     ]
    },
    {
     "name": "stdout",
     "output_type": "stream",
     "text": [
      "input_img.size():  torch.Size([3, 170, 255])\n",
      "resize2_img.size():  torch.Size([3, 43, 64])\n",
      "resize2_cut_img.size():  torch.Size([3, 40, 64])\n",
      "create_HrLr kernel_path:C:\\SaiVinay\\SproutsAI\\GitHub_\\ir_srgan_otsr\\results_kernels_DIV2K\\0473\\0473_kernel_x4.mat\n",
      "scale_factor:  [0.25, 0.25, 1]\n",
      "output_shape:  [43 64  3]\n",
      "im.shape:  (170, 255, 3)\n"
     ]
    },
    {
     "name": "stderr",
     "output_type": "stream",
     "text": [
      "Resizing images:  64%|██████▍   | 473/738 [01:46<00:59,  4.42it/s]"
     ]
    },
    {
     "name": "stdout",
     "output_type": "stream",
     "text": [
      "input_img.size():  torch.Size([3, 170, 255])\n",
      "resize2_img.size():  torch.Size([3, 43, 64])\n",
      "resize2_cut_img.size():  torch.Size([3, 40, 64])\n",
      "create_HrLr kernel_path:C:\\SaiVinay\\SproutsAI\\GitHub_\\ir_srgan_otsr\\results_kernels_DIV2K\\0474\\0474_kernel_x4.mat\n",
      "scale_factor:  [0.25, 0.25, 1]\n",
      "output_shape:  [43 64  3]\n",
      "im.shape:  (170, 255, 3)\n"
     ]
    },
    {
     "name": "stderr",
     "output_type": "stream",
     "text": [
      "Resizing images:  64%|██████▍   | 474/738 [01:46<00:58,  4.49it/s]"
     ]
    },
    {
     "name": "stdout",
     "output_type": "stream",
     "text": [
      "input_img.size():  torch.Size([3, 170, 255])\n",
      "resize2_img.size():  torch.Size([3, 43, 64])\n",
      "resize2_cut_img.size():  torch.Size([3, 40, 64])\n",
      "create_HrLr kernel_path:C:\\SaiVinay\\SproutsAI\\GitHub_\\ir_srgan_otsr\\results_kernels_DIV2K\\0475\\0475_kernel_x4.mat\n",
      "scale_factor:  [0.25, 0.25, 1]\n",
      "output_shape:  [43 64  3]\n",
      "im.shape:  (170, 255, 3)\n"
     ]
    },
    {
     "name": "stderr",
     "output_type": "stream",
     "text": [
      "Resizing images:  64%|██████▍   | 476/738 [01:47<00:57,  4.56it/s]"
     ]
    },
    {
     "name": "stdout",
     "output_type": "stream",
     "text": [
      "input_img.size():  torch.Size([3, 182, 255])\n",
      "resize2_img.size():  torch.Size([3, 46, 64])\n",
      "resize2_cut_img.size():  torch.Size([3, 44, 64])\n",
      "create_HrLr kernel_path:C:\\SaiVinay\\SproutsAI\\GitHub_\\ir_srgan_otsr\\results_kernels_DIV2K\\0476\\0476_kernel_x4.mat\n",
      "scale_factor:  [0.25, 0.25, 1]\n",
      "output_shape:  [46 64  3]\n",
      "im.shape:  (182, 255, 3)\n",
      "input_img.size():  torch.Size([3, 170, 255])\n",
      "resize2_img.size():  torch.Size([3, 43, 64])\n",
      "resize2_cut_img.size():  torch.Size([3, 40, 64])\n",
      "create_HrLr kernel_path:C:\\SaiVinay\\SproutsAI\\GitHub_\\ir_srgan_otsr\\results_kernels_DIV2K\\0477\\0477_kernel_x4.mat\n",
      "scale_factor:  [0.25, 0.25, 1]\n",
      "output_shape:  [43 64  3]\n",
      "im.shape:  (170, 255, 3)\n"
     ]
    },
    {
     "name": "stderr",
     "output_type": "stream",
     "text": [
      "Resizing images:  65%|██████▍   | 477/738 [01:47<00:58,  4.47it/s]"
     ]
    },
    {
     "name": "stdout",
     "output_type": "stream",
     "text": [
      "input_img.size():  torch.Size([3, 170, 255])\n",
      "resize2_img.size():  torch.Size([3, 43, 64])\n",
      "resize2_cut_img.size():  torch.Size([3, 40, 64])\n",
      "create_HrLr kernel_path:C:\\SaiVinay\\SproutsAI\\GitHub_\\ir_srgan_otsr\\results_kernels_DIV2K\\0478\\0478_kernel_x4.mat\n",
      "scale_factor:  [0.25, 0.25, 1]\n",
      "output_shape:  [43 64  3]\n",
      "im.shape:  (170, 255, 3)\n"
     ]
    },
    {
     "name": "stderr",
     "output_type": "stream",
     "text": [
      "Resizing images:  65%|██████▍   | 479/738 [01:47<00:56,  4.58it/s]"
     ]
    },
    {
     "name": "stdout",
     "output_type": "stream",
     "text": [
      "input_img.size():  torch.Size([3, 170, 255])\n",
      "resize2_img.size():  torch.Size([3, 43, 64])\n",
      "resize2_cut_img.size():  torch.Size([3, 40, 64])\n",
      "create_HrLr kernel_path:C:\\SaiVinay\\SproutsAI\\GitHub_\\ir_srgan_otsr\\results_kernels_DIV2K\\0479\\0479_kernel_x4.mat\n",
      "scale_factor:  [0.25, 0.25, 1]\n",
      "output_shape:  [43 64  3]\n",
      "im.shape:  (170, 255, 3)\n"
     ]
    },
    {
     "name": "stderr",
     "output_type": "stream",
     "text": [
      "Resizing images:  65%|██████▌   | 480/738 [01:47<00:54,  4.71it/s]"
     ]
    },
    {
     "name": "stdout",
     "output_type": "stream",
     "text": [
      "input_img.size():  torch.Size([3, 170, 255])\n",
      "resize2_img.size():  torch.Size([3, 43, 64])\n",
      "resize2_cut_img.size():  torch.Size([3, 40, 64])\n",
      "create_HrLr kernel_path:C:\\SaiVinay\\SproutsAI\\GitHub_\\ir_srgan_otsr\\results_kernels_DIV2K\\0480\\0480_kernel_x4.mat\n",
      "scale_factor:  [0.25, 0.25, 1]\n",
      "output_shape:  [43 64  3]\n",
      "im.shape:  (170, 255, 3)\n",
      "input_img.size():  torch.Size([3, 171, 255])\n",
      "resize2_img.size():  torch.Size([3, 43, 64])\n",
      "resize2_cut_img.size():  torch.Size([3, 40, 64])\n",
      "create_HrLr kernel_path:C:\\SaiVinay\\SproutsAI\\GitHub_\\ir_srgan_otsr\\results_kernels_DIV2K\\0481\\0481_kernel_x4.mat\n",
      "scale_factor:  [0.25, 0.25, 1]\n",
      "output_shape:  [43 64  3]\n",
      "im.shape:  (171, 255, 3)\n"
     ]
    },
    {
     "name": "stderr",
     "output_type": "stream",
     "text": [
      "Resizing images:  65%|██████▌   | 481/738 [01:48<00:57,  4.46it/s]"
     ]
    },
    {
     "name": "stdout",
     "output_type": "stream",
     "text": [
      "input_img.size():  torch.Size([3, 186, 255])\n",
      "resize2_img.size():  torch.Size([3, 47, 64])\n",
      "resize2_cut_img.size():  torch.Size([3, 44, 64])\n",
      "create_HrLr kernel_path:C:\\SaiVinay\\SproutsAI\\GitHub_\\ir_srgan_otsr\\results_kernels_DIV2K\\0482\\0482_kernel_x4.mat\n",
      "scale_factor:  [0.25, 0.25, 1]\n",
      "output_shape:  [47 64  3]\n",
      "im.shape:  (186, 255, 3)\n"
     ]
    },
    {
     "name": "stderr",
     "output_type": "stream",
     "text": [
      "Resizing images:  65%|██████▌   | 482/738 [01:48<00:58,  4.41it/s]"
     ]
    },
    {
     "name": "stdout",
     "output_type": "stream",
     "text": [
      "input_img.size():  torch.Size([3, 170, 255])\n",
      "resize2_img.size():  torch.Size([3, 43, 64])\n",
      "resize2_cut_img.size():  torch.Size([3, 40, 64])\n",
      "create_HrLr kernel_path:C:\\SaiVinay\\SproutsAI\\GitHub_\\ir_srgan_otsr\\results_kernels_DIV2K\\0483\\0483_kernel_x4.mat\n",
      "scale_factor:  [0.25, 0.25, 1]\n",
      "output_shape:  [43 64  3]\n",
      "im.shape:  (170, 255, 3)\n"
     ]
    },
    {
     "name": "stderr",
     "output_type": "stream",
     "text": [
      "Resizing images:  65%|██████▌   | 483/738 [01:48<00:57,  4.46it/s]"
     ]
    },
    {
     "name": "stdout",
     "output_type": "stream",
     "text": [
      "input_img.size():  torch.Size([3, 170, 255])\n",
      "resize2_img.size():  torch.Size([3, 43, 64])\n",
      "resize2_cut_img.size():  torch.Size([3, 40, 64])\n",
      "create_HrLr kernel_path:C:\\SaiVinay\\SproutsAI\\GitHub_\\ir_srgan_otsr\\results_kernels_DIV2K\\0484\\0484_kernel_x4.mat\n",
      "scale_factor:  [0.25, 0.25, 1]\n",
      "output_shape:  [43 64  3]\n",
      "im.shape:  (170, 255, 3)\n"
     ]
    },
    {
     "name": "stderr",
     "output_type": "stream",
     "text": [
      "Resizing images:  66%|██████▌   | 485/738 [01:49<00:53,  4.75it/s]"
     ]
    },
    {
     "name": "stdout",
     "output_type": "stream",
     "text": [
      "input_img.size():  torch.Size([3, 170, 255])\n",
      "resize2_img.size():  torch.Size([3, 43, 64])\n",
      "resize2_cut_img.size():  torch.Size([3, 40, 64])\n",
      "create_HrLr kernel_path:C:\\SaiVinay\\SproutsAI\\GitHub_\\ir_srgan_otsr\\results_kernels_DIV2K\\0485\\0485_kernel_x4.mat\n",
      "scale_factor:  [0.25, 0.25, 1]\n",
      "output_shape:  [43 64  3]\n",
      "im.shape:  (170, 255, 3)\n",
      "input_img.size():  torch.Size([3, 192, 255])\n",
      "resize2_img.size():  torch.Size([3, 48, 64])\n",
      "resize2_cut_img.size():  torch.Size([3, 48, 64])\n",
      "create_HrLr kernel_path:C:\\SaiVinay\\SproutsAI\\GitHub_\\ir_srgan_otsr\\results_kernels_DIV2K\\0486\\0486_kernel_x4.mat\n"
     ]
    },
    {
     "name": "stderr",
     "output_type": "stream",
     "text": [
      "Resizing images:  66%|██████▌   | 486/738 [01:49<00:54,  4.59it/s]"
     ]
    },
    {
     "name": "stdout",
     "output_type": "stream",
     "text": [
      "scale_factor:  [0.25, 0.25, 1]\n",
      "output_shape:  [48 64  3]\n",
      "im.shape:  (192, 255, 3)\n",
      "input_img.size():  torch.Size([3, 170, 255])\n",
      "resize2_img.size():  torch.Size([3, 43, 64])\n",
      "resize2_cut_img.size():  torch.Size([3, 40, 64])\n",
      "create_HrLr kernel_path:C:\\SaiVinay\\SproutsAI\\GitHub_\\ir_srgan_otsr\\results_kernels_DIV2K\\0487\\0487_kernel_x4.mat\n",
      "scale_factor:  [0.25, 0.25, 1]\n",
      "output_shape:  [43 64  3]\n",
      "im.shape:  (170, 255, 3)\n"
     ]
    },
    {
     "name": "stderr",
     "output_type": "stream",
     "text": [
      "Resizing images:  66%|██████▌   | 487/738 [01:49<00:54,  4.61it/s]"
     ]
    },
    {
     "name": "stdout",
     "output_type": "stream",
     "text": [
      "input_img.size():  torch.Size([3, 255, 170])\n",
      "resize2_img.size():  torch.Size([3, 64, 43])\n",
      "resize2_cut_img.size():  torch.Size([3, 64, 40])\n",
      "create_HrLr kernel_path:C:\\SaiVinay\\SproutsAI\\GitHub_\\ir_srgan_otsr\\results_kernels_DIV2K\\0488\\0488_kernel_x4.mat\n",
      "scale_factor:  [0.25, 0.25, 1]\n",
      "output_shape:  [64 43  3]\n",
      "im.shape:  (255, 170, 3)\n"
     ]
    },
    {
     "name": "stderr",
     "output_type": "stream",
     "text": [
      "Resizing images:  66%|██████▌   | 488/738 [01:49<00:54,  4.62it/s]"
     ]
    },
    {
     "name": "stdout",
     "output_type": "stream",
     "text": [
      "input_img.size():  torch.Size([3, 192, 255])\n",
      "resize2_img.size():  torch.Size([3, 48, 64])\n",
      "resize2_cut_img.size():  torch.Size([3, 48, 64])\n",
      "create_HrLr kernel_path:C:\\SaiVinay\\SproutsAI\\GitHub_\\ir_srgan_otsr\\results_kernels_DIV2K\\0489\\0489_kernel_x4.mat\n",
      "scale_factor:  [0.25, 0.25, 1]\n",
      "output_shape:  [48 64  3]\n",
      "im.shape:  (192, 255, 3)\n"
     ]
    },
    {
     "name": "stderr",
     "output_type": "stream",
     "text": [
      "Resizing images:  66%|██████▋   | 489/738 [01:49<00:54,  4.54it/s]"
     ]
    },
    {
     "name": "stdout",
     "output_type": "stream",
     "text": [
      "input_img.size():  torch.Size([3, 170, 255])\n",
      "resize2_img.size():  torch.Size([3, 43, 64])\n",
      "resize2_cut_img.size():  torch.Size([3, 40, 64])\n",
      "create_HrLr kernel_path:C:\\SaiVinay\\SproutsAI\\GitHub_\\ir_srgan_otsr\\results_kernels_DIV2K\\0490\\0490_kernel_x4.mat\n",
      "scale_factor:  [0.25, 0.25, 1]\n",
      "output_shape:  [43 64  3]\n",
      "im.shape:  (170, 255, 3)\n"
     ]
    },
    {
     "name": "stderr",
     "output_type": "stream",
     "text": [
      "Resizing images:  66%|██████▋   | 490/738 [01:50<00:54,  4.53it/s]"
     ]
    },
    {
     "name": "stdout",
     "output_type": "stream",
     "text": [
      "input_img.size():  torch.Size([3, 171, 255])\n",
      "resize2_img.size():  torch.Size([3, 43, 64])\n",
      "resize2_cut_img.size():  torch.Size([3, 40, 64])\n",
      "create_HrLr kernel_path:C:\\SaiVinay\\SproutsAI\\GitHub_\\ir_srgan_otsr\\results_kernels_DIV2K\\0491\\0491_kernel_x4.mat\n",
      "scale_factor:  [0.25, 0.25, 1]\n",
      "output_shape:  [43 64  3]\n",
      "im.shape:  (171, 255, 3)\n"
     ]
    },
    {
     "name": "stderr",
     "output_type": "stream",
     "text": [
      "Resizing images:  67%|██████▋   | 492/738 [01:50<00:51,  4.80it/s]"
     ]
    },
    {
     "name": "stdout",
     "output_type": "stream",
     "text": [
      "input_img.size():  torch.Size([3, 170, 255])\n",
      "resize2_img.size():  torch.Size([3, 43, 64])\n",
      "resize2_cut_img.size():  torch.Size([3, 40, 64])\n",
      "create_HrLr kernel_path:C:\\SaiVinay\\SproutsAI\\GitHub_\\ir_srgan_otsr\\results_kernels_DIV2K\\0492\\0492_kernel_x4.mat\n",
      "scale_factor:  [0.25, 0.25, 1]\n",
      "output_shape:  [43 64  3]\n",
      "im.shape:  (170, 255, 3)\n",
      "input_img.size():  torch.Size([3, 170, 255])\n",
      "resize2_img.size():  torch.Size([3, 43, 64])\n",
      "resize2_cut_img.size():  torch.Size([3, 40, 64])\n",
      "create_HrLr kernel_path:C:\\SaiVinay\\SproutsAI\\GitHub_\\ir_srgan_otsr\\results_kernels_DIV2K\\0493\\0493_kernel_x4.mat\n",
      "scale_factor:  [0.25, 0.25, 1]\n",
      "output_shape:  [43 64  3]\n",
      "im.shape:  (170, 255, 3)\n"
     ]
    },
    {
     "name": "stderr",
     "output_type": "stream",
     "text": [
      "Resizing images:  67%|██████▋   | 493/738 [01:50<00:51,  4.73it/s]"
     ]
    },
    {
     "name": "stdout",
     "output_type": "stream",
     "text": [
      "input_img.size():  torch.Size([3, 170, 255])\n",
      "resize2_img.size():  torch.Size([3, 43, 64])\n",
      "resize2_cut_img.size():  torch.Size([3, 40, 64])\n",
      "create_HrLr kernel_path:C:\\SaiVinay\\SproutsAI\\GitHub_\\ir_srgan_otsr\\results_kernels_DIV2K\\0494\\0494_kernel_x4.mat\n",
      "scale_factor:  [0.25, 0.25, 1]\n",
      "output_shape:  [43 64  3]\n",
      "im.shape:  (170, 255, 3)\n"
     ]
    },
    {
     "name": "stderr",
     "output_type": "stream",
     "text": [
      "Resizing images:  67%|██████▋   | 494/738 [01:51<00:52,  4.67it/s]"
     ]
    },
    {
     "name": "stdout",
     "output_type": "stream",
     "text": [
      "input_img.size():  torch.Size([3, 170, 255])\n",
      "resize2_img.size():  torch.Size([3, 43, 64])\n",
      "resize2_cut_img.size():  torch.Size([3, 40, 64])\n",
      "create_HrLr kernel_path:C:\\SaiVinay\\SproutsAI\\GitHub_\\ir_srgan_otsr\\results_kernels_DIV2K\\0495\\0495_kernel_x4.mat\n",
      "scale_factor:  [0.25, 0.25, 1]\n",
      "output_shape:  [43 64  3]\n",
      "im.shape:  (170, 255, 3)\n"
     ]
    },
    {
     "name": "stderr",
     "output_type": "stream",
     "text": [
      "Resizing images:  67%|██████▋   | 495/738 [01:51<00:53,  4.54it/s]"
     ]
    },
    {
     "name": "stdout",
     "output_type": "stream",
     "text": [
      "input_img.size():  torch.Size([3, 170, 255])\n",
      "resize2_img.size():  torch.Size([3, 43, 64])\n",
      "resize2_cut_img.size():  torch.Size([3, 40, 64])\n",
      "create_HrLr kernel_path:C:\\SaiVinay\\SproutsAI\\GitHub_\\ir_srgan_otsr\\results_kernels_DIV2K\\0496\\0496_kernel_x4.mat\n",
      "scale_factor:  [0.25, 0.25, 1]\n",
      "output_shape:  [43 64  3]\n",
      "im.shape:  (170, 255, 3)\n"
     ]
    },
    {
     "name": "stderr",
     "output_type": "stream",
     "text": [
      "Resizing images:  67%|██████▋   | 497/738 [01:51<00:51,  4.70it/s]"
     ]
    },
    {
     "name": "stdout",
     "output_type": "stream",
     "text": [
      "input_img.size():  torch.Size([3, 170, 255])\n",
      "resize2_img.size():  torch.Size([3, 43, 64])\n",
      "resize2_cut_img.size():  torch.Size([3, 40, 64])\n",
      "create_HrLr kernel_path:C:\\SaiVinay\\SproutsAI\\GitHub_\\ir_srgan_otsr\\results_kernels_DIV2K\\0497\\0497_kernel_x4.mat\n",
      "scale_factor:  [0.25, 0.25, 1]\n",
      "output_shape:  [43 64  3]\n",
      "im.shape:  (170, 255, 3)\n"
     ]
    },
    {
     "name": "stderr",
     "output_type": "stream",
     "text": [
      "Resizing images:  67%|██████▋   | 498/738 [01:51<00:49,  4.89it/s]"
     ]
    },
    {
     "name": "stdout",
     "output_type": "stream",
     "text": [
      "input_img.size():  torch.Size([3, 170, 255])\n",
      "resize2_img.size():  torch.Size([3, 43, 64])\n",
      "resize2_cut_img.size():  torch.Size([3, 40, 64])\n",
      "create_HrLr kernel_path:C:\\SaiVinay\\SproutsAI\\GitHub_\\ir_srgan_otsr\\results_kernels_DIV2K\\0498\\0498_kernel_x4.mat\n",
      "scale_factor:  [0.25, 0.25, 1]\n",
      "output_shape:  [43 64  3]\n",
      "im.shape:  (170, 255, 3)\n",
      "input_img.size():  torch.Size([3, 170, 255])\n",
      "resize2_img.size():  torch.Size([3, 43, 64])\n",
      "resize2_cut_img.size():  torch.Size([3, 40, 64])\n",
      "create_HrLr kernel_path:C:\\SaiVinay\\SproutsAI\\GitHub_\\ir_srgan_otsr\\results_kernels_DIV2K\\0499\\0499_kernel_x4.mat\n"
     ]
    },
    {
     "name": "stderr",
     "output_type": "stream",
     "text": [
      "Resizing images:  68%|██████▊   | 499/738 [01:52<00:50,  4.70it/s]"
     ]
    },
    {
     "name": "stdout",
     "output_type": "stream",
     "text": [
      "scale_factor:  [0.25, 0.25, 1]\n",
      "output_shape:  [43 64  3]\n",
      "im.shape:  (170, 255, 3)\n",
      "input_img.size():  torch.Size([3, 255, 255])\n",
      "resize2_img.size():  torch.Size([3, 64, 64])\n",
      "resize2_cut_img.size():  torch.Size([3, 64, 64])\n",
      "create_HrLr kernel_path:C:\\SaiVinay\\SproutsAI\\GitHub_\\ir_srgan_otsr\\results_kernels_DIV2K\\0500\\0500_kernel_x4.mat\n",
      "scale_factor:  [0.25, 0.25, 1]\n",
      "output_shape:  [64 64  3]\n",
      "im.shape:  (255, 255, 3)\n"
     ]
    },
    {
     "name": "stderr",
     "output_type": "stream",
     "text": [
      "Resizing images:  68%|██████▊   | 501/738 [01:52<00:52,  4.50it/s]"
     ]
    },
    {
     "name": "stdout",
     "output_type": "stream",
     "text": [
      "input_img.size():  torch.Size([3, 170, 255])\n",
      "resize2_img.size():  torch.Size([3, 43, 64])\n",
      "resize2_cut_img.size():  torch.Size([3, 40, 64])\n",
      "create_HrLr kernel_path:C:\\SaiVinay\\SproutsAI\\GitHub_\\ir_srgan_otsr\\results_kernels_DIV2K\\0501\\0501_kernel_x4.mat\n",
      "scale_factor:  [0.25, 0.25, 1]\n",
      "output_shape:  [43 64  3]\n",
      "im.shape:  (170, 255, 3)\n"
     ]
    },
    {
     "name": "stderr",
     "output_type": "stream",
     "text": [
      "Resizing images:  68%|██████▊   | 502/738 [01:52<00:51,  4.62it/s]"
     ]
    },
    {
     "name": "stdout",
     "output_type": "stream",
     "text": [
      "input_img.size():  torch.Size([3, 170, 255])\n",
      "resize2_img.size():  torch.Size([3, 43, 64])\n",
      "resize2_cut_img.size():  torch.Size([3, 40, 64])\n",
      "create_HrLr kernel_path:C:\\SaiVinay\\SproutsAI\\GitHub_\\ir_srgan_otsr\\results_kernels_DIV2K\\0502\\0502_kernel_x4.mat\n",
      "scale_factor:  [0.25, 0.25, 1]\n",
      "output_shape:  [43 64  3]\n",
      "im.shape:  (170, 255, 3)\n",
      "input_img.size():  torch.Size([3, 170, 255])\n",
      "resize2_img.size():  torch.Size([3, 43, 64])\n",
      "resize2_cut_img.size():  torch.Size([3, 40, 64])\n",
      "create_HrLr kernel_path:C:\\SaiVinay\\SproutsAI\\GitHub_\\ir_srgan_otsr\\results_kernels_DIV2K\\0503\\0503_kernel_x4.mat\n",
      "scale_factor:  [0.25, 0.25, 1]\n",
      "output_shape:  [43 64  3]\n",
      "im.shape:  (170, 255, 3)\n"
     ]
    },
    {
     "name": "stderr",
     "output_type": "stream",
     "text": [
      "Resizing images:  68%|██████▊   | 503/738 [01:53<00:50,  4.68it/s]"
     ]
    },
    {
     "name": "stdout",
     "output_type": "stream",
     "text": [
      "input_img.size():  torch.Size([3, 170, 255])\n",
      "resize2_img.size():  torch.Size([3, 43, 64])\n",
      "resize2_cut_img.size():  torch.Size([3, 40, 64])\n",
      "create_HrLr kernel_path:C:\\SaiVinay\\SproutsAI\\GitHub_\\ir_srgan_otsr\\results_kernels_DIV2K\\0504\\0504_kernel_x4.mat\n",
      "scale_factor:  [0.25, 0.25, 1]\n",
      "output_shape:  [43 64  3]\n",
      "im.shape:  (170, 255, 3)\n"
     ]
    },
    {
     "name": "stderr",
     "output_type": "stream",
     "text": [
      "Resizing images:  68%|██████▊   | 505/738 [01:53<00:48,  4.80it/s]"
     ]
    },
    {
     "name": "stdout",
     "output_type": "stream",
     "text": [
      "input_img.size():  torch.Size([3, 143, 255])\n",
      "resize2_img.size():  torch.Size([3, 36, 64])\n",
      "resize2_cut_img.size():  torch.Size([3, 36, 64])\n",
      "create_HrLr kernel_path:C:\\SaiVinay\\SproutsAI\\GitHub_\\ir_srgan_otsr\\results_kernels_DIV2K\\0505\\0505_kernel_x4.mat\n",
      "scale_factor:  [0.25, 0.25, 1]\n",
      "output_shape:  [36 64  3]\n",
      "im.shape:  (143, 255, 3)\n",
      "input_img.size():  torch.Size([3, 170, 255])\n",
      "resize2_img.size():  torch.Size([3, 43, 64])\n",
      "resize2_cut_img.size():  torch.Size([3, 40, 64])\n",
      "create_HrLr kernel_path:C:\\SaiVinay\\SproutsAI\\GitHub_\\ir_srgan_otsr\\results_kernels_DIV2K\\0506\\0506_kernel_x4.mat\n",
      "scale_factor:  [0.25, 0.25, 1]\n",
      "output_shape:  [43 64  3]\n",
      "im.shape:  (170, 255, 3)\n"
     ]
    },
    {
     "name": "stderr",
     "output_type": "stream",
     "text": [
      "Resizing images:  69%|██████▊   | 506/738 [01:53<00:48,  4.81it/s]"
     ]
    },
    {
     "name": "stdout",
     "output_type": "stream",
     "text": [
      "input_img.size():  torch.Size([3, 170, 255])\n",
      "resize2_img.size():  torch.Size([3, 43, 64])\n",
      "resize2_cut_img.size():  torch.Size([3, 40, 64])\n",
      "create_HrLr kernel_path:C:\\SaiVinay\\SproutsAI\\GitHub_\\ir_srgan_otsr\\results_kernels_DIV2K\\0507\\0507_kernel_x4.mat\n",
      "scale_factor:  [0.25, 0.25, 1]\n",
      "output_shape:  [43 64  3]\n",
      "im.shape:  (170, 255, 3)\n"
     ]
    },
    {
     "name": "stderr",
     "output_type": "stream",
     "text": [
      "Resizing images:  69%|██████▉   | 508/738 [01:54<00:48,  4.79it/s]"
     ]
    },
    {
     "name": "stdout",
     "output_type": "stream",
     "text": [
      "input_img.size():  torch.Size([3, 255, 171])\n",
      "resize2_img.size():  torch.Size([3, 64, 43])\n",
      "resize2_cut_img.size():  torch.Size([3, 64, 40])\n",
      "create_HrLr kernel_path:C:\\SaiVinay\\SproutsAI\\GitHub_\\ir_srgan_otsr\\results_kernels_DIV2K\\0508\\0508_kernel_x4.mat\n",
      "scale_factor:  [0.25, 0.25, 1]\n",
      "output_shape:  [64 43  3]\n",
      "im.shape:  (255, 171, 3)\n",
      "input_img.size():  torch.Size([3, 171, 255])\n",
      "resize2_img.size():  torch.Size([3, 43, 64])\n",
      "resize2_cut_img.size():  torch.Size([3, 40, 64])\n",
      "create_HrLr kernel_path:C:\\SaiVinay\\SproutsAI\\GitHub_\\ir_srgan_otsr\\results_kernels_DIV2K\\0509\\0509_kernel_x4.mat\n",
      "scale_factor:  [0.25, 0.25, 1]\n",
      "output_shape:  [43 64  3]\n",
      "im.shape:  (171, 255, 3)\n"
     ]
    },
    {
     "name": "stderr",
     "output_type": "stream",
     "text": [
      "Resizing images:  69%|██████▉   | 510/738 [01:54<00:48,  4.67it/s]"
     ]
    },
    {
     "name": "stdout",
     "output_type": "stream",
     "text": [
      "input_img.size():  torch.Size([3, 170, 255])\n",
      "resize2_img.size():  torch.Size([3, 43, 64])\n",
      "resize2_cut_img.size():  torch.Size([3, 40, 64])\n",
      "create_HrLr kernel_path:C:\\SaiVinay\\SproutsAI\\GitHub_\\ir_srgan_otsr\\results_kernels_DIV2K\\0510\\0510_kernel_x4.mat\n",
      "scale_factor:  [0.25, 0.25, 1]\n",
      "output_shape:  [43 64  3]\n",
      "im.shape:  (170, 255, 3)\n"
     ]
    },
    {
     "name": "stderr",
     "output_type": "stream",
     "text": [
      "Resizing images:  69%|██████▉   | 511/738 [01:54<00:45,  4.99it/s]"
     ]
    },
    {
     "name": "stdout",
     "output_type": "stream",
     "text": [
      "input_img.size():  torch.Size([3, 144, 255])\n",
      "resize2_img.size():  torch.Size([3, 36, 64])\n",
      "resize2_cut_img.size():  torch.Size([3, 36, 64])\n",
      "create_HrLr kernel_path:C:\\SaiVinay\\SproutsAI\\GitHub_\\ir_srgan_otsr\\results_kernels_DIV2K\\0511\\0511_kernel_x4.mat\n",
      "scale_factor:  [0.25, 0.25, 1]\n",
      "output_shape:  [36 64  3]\n",
      "im.shape:  (144, 255, 3)\n",
      "input_img.size():  torch.Size([3, 182, 255])\n",
      "resize2_img.size():  torch.Size([3, 46, 64])\n",
      "resize2_cut_img.size():  torch.Size([3, 44, 64])\n"
     ]
    },
    {
     "name": "stderr",
     "output_type": "stream",
     "text": [
      "Resizing images:  69%|██████▉   | 512/738 [01:54<00:47,  4.80it/s]"
     ]
    },
    {
     "name": "stdout",
     "output_type": "stream",
     "text": [
      "create_HrLr kernel_path:C:\\SaiVinay\\SproutsAI\\GitHub_\\ir_srgan_otsr\\results_kernels_DIV2K\\0512\\0512_kernel_x4.mat\n",
      "scale_factor:  [0.25, 0.25, 1]\n",
      "output_shape:  [46 64  3]\n",
      "im.shape:  (182, 255, 3)\n",
      "input_img.size():  torch.Size([3, 255, 255])\n",
      "resize2_img.size():  torch.Size([3, 64, 64])\n",
      "resize2_cut_img.size():  torch.Size([3, 64, 64])\n",
      "create_HrLr kernel_path:C:\\SaiVinay\\SproutsAI\\GitHub_\\ir_srgan_otsr\\results_kernels_DIV2K\\0513\\0513_kernel_x4.mat\n",
      "scale_factor:  [0.25, 0.25, 1]\n",
      "output_shape:  [64 64  3]\n",
      "im.shape:  (255, 255, 3)\n"
     ]
    },
    {
     "name": "stderr",
     "output_type": "stream",
     "text": [
      "Resizing images:  70%|██████▉   | 513/738 [01:55<00:51,  4.33it/s]"
     ]
    },
    {
     "name": "stdout",
     "output_type": "stream",
     "text": [
      "input_img.size():  torch.Size([3, 171, 255])\n",
      "resize2_img.size():  torch.Size([3, 43, 64])\n",
      "resize2_cut_img.size():  torch.Size([3, 40, 64])\n",
      "create_HrLr kernel_path:C:\\SaiVinay\\SproutsAI\\GitHub_\\ir_srgan_otsr\\results_kernels_DIV2K\\0514\\0514_kernel_x4.mat\n",
      "scale_factor:  [0.25, 0.25, 1]\n",
      "output_shape:  [43 64  3]\n",
      "im.shape:  (171, 255, 3)\n"
     ]
    },
    {
     "name": "stderr",
     "output_type": "stream",
     "text": [
      "Resizing images:  70%|██████▉   | 514/738 [01:55<00:52,  4.29it/s]"
     ]
    },
    {
     "name": "stdout",
     "output_type": "stream",
     "text": [
      "input_img.size():  torch.Size([3, 170, 255])\n",
      "resize2_img.size():  torch.Size([3, 43, 64])\n",
      "resize2_cut_img.size():  torch.Size([3, 40, 64])\n",
      "create_HrLr kernel_path:C:\\SaiVinay\\SproutsAI\\GitHub_\\ir_srgan_otsr\\results_kernels_DIV2K\\0515\\0515_kernel_x4.mat\n",
      "scale_factor:  [0.25, 0.25, 1]\n",
      "output_shape:  [43 64  3]\n",
      "im.shape:  (170, 255, 3)\n"
     ]
    },
    {
     "name": "stderr",
     "output_type": "stream",
     "text": [
      "Resizing images:  70%|██████▉   | 515/738 [01:55<00:51,  4.32it/s]"
     ]
    },
    {
     "name": "stdout",
     "output_type": "stream",
     "text": [
      "input_img.size():  torch.Size([3, 192, 255])\n",
      "resize2_img.size():  torch.Size([3, 48, 64])\n",
      "resize2_cut_img.size():  torch.Size([3, 48, 64])\n",
      "create_HrLr kernel_path:C:\\SaiVinay\\SproutsAI\\GitHub_\\ir_srgan_otsr\\results_kernels_DIV2K\\0516\\0516_kernel_x4.mat\n",
      "scale_factor:  [0.25, 0.25, 1]\n",
      "output_shape:  [48 64  3]\n",
      "im.shape:  (192, 255, 3)\n"
     ]
    },
    {
     "name": "stderr",
     "output_type": "stream",
     "text": [
      "Resizing images:  70%|██████▉   | 516/738 [01:55<00:51,  4.29it/s]"
     ]
    },
    {
     "name": "stdout",
     "output_type": "stream",
     "text": [
      "input_img.size():  torch.Size([3, 192, 255])\n",
      "resize2_img.size():  torch.Size([3, 48, 64])\n",
      "resize2_cut_img.size():  torch.Size([3, 48, 64])\n",
      "create_HrLr kernel_path:C:\\SaiVinay\\SproutsAI\\GitHub_\\ir_srgan_otsr\\results_kernels_DIV2K\\0517\\0517_kernel_x4.mat\n",
      "scale_factor:  [0.25, 0.25, 1]\n",
      "output_shape:  [48 64  3]\n",
      "im.shape:  (192, 255, 3)\n"
     ]
    },
    {
     "name": "stderr",
     "output_type": "stream",
     "text": [
      "Resizing images:  70%|███████   | 518/738 [01:56<00:48,  4.53it/s]"
     ]
    },
    {
     "name": "stdout",
     "output_type": "stream",
     "text": [
      "input_img.size():  torch.Size([3, 120, 255])\n",
      "resize2_img.size():  torch.Size([3, 30, 64])\n",
      "resize2_cut_img.size():  torch.Size([3, 28, 64])\n",
      "create_HrLr kernel_path:C:\\SaiVinay\\SproutsAI\\GitHub_\\ir_srgan_otsr\\results_kernels_DIV2K\\0518\\0518_kernel_x4.mat\n",
      "scale_factor:  [0.25, 0.25, 1]\n",
      "output_shape:  [30 64  3]\n",
      "im.shape:  (120, 255, 3)\n",
      "input_img.size():  torch.Size([3, 170, 255])\n",
      "resize2_img.size():  torch.Size([3, 43, 64])\n",
      "resize2_cut_img.size():  torch.Size([3, 40, 64])\n",
      "create_HrLr kernel_path:C:\\SaiVinay\\SproutsAI\\GitHub_\\ir_srgan_otsr\\results_kernels_DIV2K\\0519\\0519_kernel_x4.mat\n"
     ]
    },
    {
     "name": "stderr",
     "output_type": "stream",
     "text": [
      "Resizing images:  70%|███████   | 519/738 [01:56<00:48,  4.51it/s]"
     ]
    },
    {
     "name": "stdout",
     "output_type": "stream",
     "text": [
      "scale_factor:  [0.25, 0.25, 1]\n",
      "output_shape:  [43 64  3]\n",
      "im.shape:  (170, 255, 3)\n",
      "input_img.size():  torch.Size([3, 170, 255])\n",
      "resize2_img.size():  torch.Size([3, 43, 64])\n",
      "resize2_cut_img.size():  torch.Size([3, 40, 64])\n",
      "create_HrLr kernel_path:C:\\SaiVinay\\SproutsAI\\GitHub_\\ir_srgan_otsr\\results_kernels_DIV2K\\0520\\0520_kernel_x4.mat\n",
      "scale_factor:  [0.25, 0.25, 1]\n",
      "output_shape:  [43 64  3]\n",
      "im.shape:  (170, 255, 3)\n"
     ]
    },
    {
     "name": "stderr",
     "output_type": "stream",
     "text": [
      "Resizing images:  70%|███████   | 520/738 [01:56<00:48,  4.54it/s]"
     ]
    },
    {
     "name": "stdout",
     "output_type": "stream",
     "text": [
      "input_img.size():  torch.Size([3, 255, 171])\n",
      "resize2_img.size():  torch.Size([3, 64, 43])\n",
      "resize2_cut_img.size():  torch.Size([3, 64, 40])\n",
      "create_HrLr kernel_path:C:\\SaiVinay\\SproutsAI\\GitHub_\\ir_srgan_otsr\\results_kernels_DIV2K\\0521\\0521_kernel_x4.mat\n",
      "scale_factor:  [0.25, 0.25, 1]\n",
      "output_shape:  [64 43  3]\n",
      "im.shape:  (255, 171, 3)\n"
     ]
    },
    {
     "name": "stderr",
     "output_type": "stream",
     "text": [
      "Resizing images:  71%|███████   | 521/738 [01:56<00:47,  4.53it/s]"
     ]
    },
    {
     "name": "stdout",
     "output_type": "stream",
     "text": [
      "input_img.size():  torch.Size([3, 255, 170])\n",
      "resize2_img.size():  torch.Size([3, 64, 43])\n",
      "resize2_cut_img.size():  torch.Size([3, 64, 40])\n",
      "create_HrLr kernel_path:C:\\SaiVinay\\SproutsAI\\GitHub_\\ir_srgan_otsr\\results_kernels_DIV2K\\0522\\0522_kernel_x4.mat\n",
      "scale_factor:  [0.25, 0.25, 1]\n",
      "output_shape:  [64 43  3]\n",
      "im.shape:  (255, 170, 3)\n"
     ]
    },
    {
     "name": "stderr",
     "output_type": "stream",
     "text": [
      "Resizing images:  71%|███████   | 523/738 [01:57<00:46,  4.64it/s]"
     ]
    },
    {
     "name": "stdout",
     "output_type": "stream",
     "text": [
      "input_img.size():  torch.Size([3, 111, 255])\n",
      "resize2_img.size():  torch.Size([3, 28, 64])\n",
      "resize2_cut_img.size():  torch.Size([3, 28, 64])\n",
      "create_HrLr kernel_path:C:\\SaiVinay\\SproutsAI\\GitHub_\\ir_srgan_otsr\\results_kernels_DIV2K\\0523\\0523_kernel_x4.mat\n",
      "scale_factor:  [0.25, 0.25, 1]\n",
      "output_shape:  [28 64  3]\n",
      "im.shape:  (111, 255, 3)\n",
      "input_img.size():  torch.Size([3, 170, 255])\n",
      "resize2_img.size():  torch.Size([3, 43, 64])\n",
      "resize2_cut_img.size():  torch.Size([3, 40, 64])\n",
      "create_HrLr kernel_path:C:\\SaiVinay\\SproutsAI\\GitHub_\\ir_srgan_otsr\\results_kernels_DIV2K\\0524\\0524_kernel_x4.mat\n",
      "scale_factor:  [0.25, 0.25, 1]\n",
      "output_shape:  [43 64  3]\n",
      "im.shape:  (170, 255, 3)\n"
     ]
    },
    {
     "name": "stderr",
     "output_type": "stream",
     "text": [
      "Resizing images:  71%|███████   | 524/738 [01:57<00:47,  4.47it/s]"
     ]
    },
    {
     "name": "stdout",
     "output_type": "stream",
     "text": [
      "input_img.size():  torch.Size([3, 170, 255])\n",
      "resize2_img.size():  torch.Size([3, 43, 64])\n",
      "resize2_cut_img.size():  torch.Size([3, 40, 64])\n",
      "create_HrLr kernel_path:C:\\SaiVinay\\SproutsAI\\GitHub_\\ir_srgan_otsr\\results_kernels_DIV2K\\0525\\0525_kernel_x4.mat\n",
      "scale_factor:  [0.25, 0.25, 1]\n",
      "output_shape:  [43 64  3]\n",
      "im.shape:  (170, 255, 3)\n"
     ]
    },
    {
     "name": "stderr",
     "output_type": "stream",
     "text": [
      "Resizing images:  71%|███████   | 525/738 [01:57<00:48,  4.39it/s]"
     ]
    },
    {
     "name": "stdout",
     "output_type": "stream",
     "text": [
      "input_img.size():  torch.Size([3, 170, 255])\n",
      "resize2_img.size():  torch.Size([3, 43, 64])\n",
      "resize2_cut_img.size():  torch.Size([3, 40, 64])\n",
      "create_HrLr kernel_path:C:\\SaiVinay\\SproutsAI\\GitHub_\\ir_srgan_otsr\\results_kernels_DIV2K\\0526\\0526_kernel_x4.mat\n",
      "scale_factor:  [0.25, 0.25, 1]\n",
      "output_shape:  [43 64  3]\n",
      "im.shape:  (170, 255, 3)\n"
     ]
    },
    {
     "name": "stderr",
     "output_type": "stream",
     "text": [
      "Resizing images:  71%|███████▏  | 526/738 [01:58<00:49,  4.33it/s]"
     ]
    },
    {
     "name": "stdout",
     "output_type": "stream",
     "text": [
      "input_img.size():  torch.Size([3, 131, 255])\n",
      "resize2_img.size():  torch.Size([3, 33, 64])\n",
      "resize2_cut_img.size():  torch.Size([3, 32, 64])\n",
      "create_HrLr kernel_path:C:\\SaiVinay\\SproutsAI\\GitHub_\\ir_srgan_otsr\\results_kernels_DIV2K\\0527\\0527_kernel_x4.mat\n",
      "scale_factor:  [0.25, 0.25, 1]\n",
      "output_shape:  [33 64  3]\n",
      "im.shape:  (131, 255, 3)\n"
     ]
    },
    {
     "name": "stderr",
     "output_type": "stream",
     "text": [
      "Resizing images:  71%|███████▏  | 527/738 [01:58<00:47,  4.43it/s]"
     ]
    },
    {
     "name": "stdout",
     "output_type": "stream",
     "text": [
      "input_img.size():  torch.Size([3, 192, 255])\n",
      "resize2_img.size():  torch.Size([3, 48, 64])\n",
      "resize2_cut_img.size():  torch.Size([3, 48, 64])\n",
      "create_HrLr kernel_path:C:\\SaiVinay\\SproutsAI\\GitHub_\\ir_srgan_otsr\\results_kernels_DIV2K\\0528\\0528_kernel_x4.mat\n",
      "scale_factor:  [0.25, 0.25, 1]\n",
      "output_shape:  [48 64  3]\n",
      "im.shape:  (192, 255, 3)\n"
     ]
    },
    {
     "name": "stderr",
     "output_type": "stream",
     "text": [
      "Resizing images:  72%|███████▏  | 529/738 [01:58<00:44,  4.68it/s]"
     ]
    },
    {
     "name": "stdout",
     "output_type": "stream",
     "text": [
      "input_img.size():  torch.Size([3, 170, 255])\n",
      "resize2_img.size():  torch.Size([3, 43, 64])\n",
      "resize2_cut_img.size():  torch.Size([3, 40, 64])\n",
      "create_HrLr kernel_path:C:\\SaiVinay\\SproutsAI\\GitHub_\\ir_srgan_otsr\\results_kernels_DIV2K\\0529\\0529_kernel_x4.mat\n",
      "scale_factor:  [0.25, 0.25, 1]\n",
      "output_shape:  [43 64  3]\n",
      "im.shape:  (170, 255, 3)\n"
     ]
    },
    {
     "name": "stderr",
     "output_type": "stream",
     "text": [
      "Resizing images:  72%|███████▏  | 530/738 [01:58<00:43,  4.74it/s]"
     ]
    },
    {
     "name": "stdout",
     "output_type": "stream",
     "text": [
      "input_img.size():  torch.Size([3, 170, 255])\n",
      "resize2_img.size():  torch.Size([3, 43, 64])\n",
      "resize2_cut_img.size():  torch.Size([3, 40, 64])\n",
      "create_HrLr kernel_path:C:\\SaiVinay\\SproutsAI\\GitHub_\\ir_srgan_otsr\\results_kernels_DIV2K\\0530\\0530_kernel_x4.mat\n",
      "scale_factor:  [0.25, 0.25, 1]\n",
      "output_shape:  [43 64  3]\n",
      "im.shape:  (170, 255, 3)\n",
      "input_img.size():  torch.Size([3, 192, 255])\n",
      "resize2_img.size():  torch.Size([3, 48, 64])\n",
      "resize2_cut_img.size():  torch.Size([3, 48, 64])\n",
      "create_HrLr kernel_path:C:\\SaiVinay\\SproutsAI\\GitHub_\\ir_srgan_otsr\\results_kernels_DIV2K\\0531\\0531_kernel_x4.mat\n",
      "scale_factor:  [0.25, 0.25, 1]\n",
      "output_shape:  [48 64  3]\n",
      "im.shape:  (192, 255, 3)\n"
     ]
    },
    {
     "name": "stderr",
     "output_type": "stream",
     "text": [
      "Resizing images:  72%|███████▏  | 531/738 [01:59<00:45,  4.55it/s]"
     ]
    },
    {
     "name": "stdout",
     "output_type": "stream",
     "text": [
      "input_img.size():  torch.Size([3, 255, 170])\n",
      "resize2_img.size():  torch.Size([3, 64, 43])\n",
      "resize2_cut_img.size():  torch.Size([3, 64, 40])\n",
      "create_HrLr kernel_path:C:\\SaiVinay\\SproutsAI\\GitHub_\\ir_srgan_otsr\\results_kernels_DIV2K\\0532\\0532_kernel_x4.mat\n",
      "scale_factor:  [0.25, 0.25, 1]\n",
      "output_shape:  [64 43  3]\n",
      "im.shape:  (255, 170, 3)\n"
     ]
    },
    {
     "name": "stderr",
     "output_type": "stream",
     "text": [
      "Resizing images:  72%|███████▏  | 533/738 [01:59<00:45,  4.47it/s]"
     ]
    },
    {
     "name": "stdout",
     "output_type": "stream",
     "text": [
      "input_img.size():  torch.Size([3, 170, 255])\n",
      "resize2_img.size():  torch.Size([3, 43, 64])\n",
      "resize2_cut_img.size():  torch.Size([3, 40, 64])\n",
      "create_HrLr kernel_path:C:\\SaiVinay\\SproutsAI\\GitHub_\\ir_srgan_otsr\\results_kernels_DIV2K\\0533\\0533_kernel_x4.mat\n",
      "scale_factor:  [0.25, 0.25, 1]\n",
      "output_shape:  [43 64  3]\n",
      "im.shape:  (170, 255, 3)\n"
     ]
    },
    {
     "name": "stderr",
     "output_type": "stream",
     "text": [
      "Resizing images:  72%|███████▏  | 534/738 [01:59<00:42,  4.78it/s]"
     ]
    },
    {
     "name": "stdout",
     "output_type": "stream",
     "text": [
      "input_img.size():  torch.Size([3, 153, 255])\n",
      "resize2_img.size():  torch.Size([3, 39, 64])\n",
      "resize2_cut_img.size():  torch.Size([3, 36, 64])\n",
      "create_HrLr kernel_path:C:\\SaiVinay\\SproutsAI\\GitHub_\\ir_srgan_otsr\\results_kernels_DIV2K\\0534\\0534_kernel_x4.mat\n",
      "scale_factor:  [0.25, 0.25, 1]\n",
      "output_shape:  [39 64  3]\n",
      "im.shape:  (153, 255, 3)\n",
      "input_img.size():  torch.Size([3, 161, 255])\n",
      "resize2_img.size():  torch.Size([3, 41, 64])\n",
      "resize2_cut_img.size():  torch.Size([3, 40, 64])\n",
      "create_HrLr kernel_path:C:\\SaiVinay\\SproutsAI\\GitHub_\\ir_srgan_otsr\\results_kernels_DIV2K\\0535\\0535_kernel_x4.mat\n"
     ]
    },
    {
     "name": "stderr",
     "output_type": "stream",
     "text": [
      "Resizing images:  72%|███████▏  | 535/738 [02:00<00:41,  4.84it/s]"
     ]
    },
    {
     "name": "stdout",
     "output_type": "stream",
     "text": [
      "scale_factor:  [0.25, 0.25, 1]\n",
      "output_shape:  [41 64  3]\n",
      "im.shape:  (161, 255, 3)\n",
      "input_img.size():  torch.Size([3, 170, 255])\n",
      "resize2_img.size():  torch.Size([3, 43, 64])\n",
      "resize2_cut_img.size():  torch.Size([3, 40, 64])\n",
      "create_HrLr kernel_path:C:\\SaiVinay\\SproutsAI\\GitHub_\\ir_srgan_otsr\\results_kernels_DIV2K\\0536\\0536_kernel_x4.mat\n",
      "scale_factor:  [0.25, 0.25, 1]\n",
      "output_shape:  [43 64  3]\n",
      "im.shape:  (170, 255, 3)\n"
     ]
    },
    {
     "name": "stderr",
     "output_type": "stream",
     "text": [
      "Resizing images:  73%|███████▎  | 536/738 [02:00<00:43,  4.60it/s]"
     ]
    },
    {
     "name": "stdout",
     "output_type": "stream",
     "text": [
      "input_img.size():  torch.Size([3, 170, 255])\n",
      "resize2_img.size():  torch.Size([3, 43, 64])\n",
      "resize2_cut_img.size():  torch.Size([3, 40, 64])\n",
      "create_HrLr kernel_path:C:\\SaiVinay\\SproutsAI\\GitHub_\\ir_srgan_otsr\\results_kernels_DIV2K\\0537\\0537_kernel_x4.mat\n",
      "scale_factor:  [0.25, 0.25, 1]\n",
      "output_shape:  [43 64  3]\n",
      "im.shape:  (170, 255, 3)\n"
     ]
    },
    {
     "name": "stderr",
     "output_type": "stream",
     "text": [
      "Resizing images:  73%|███████▎  | 537/738 [02:00<00:46,  4.32it/s]"
     ]
    },
    {
     "name": "stdout",
     "output_type": "stream",
     "text": [
      "input_img.size():  torch.Size([3, 170, 255])\n",
      "resize2_img.size():  torch.Size([3, 43, 64])\n",
      "resize2_cut_img.size():  torch.Size([3, 40, 64])\n",
      "create_HrLr kernel_path:C:\\SaiVinay\\SproutsAI\\GitHub_\\ir_srgan_otsr\\results_kernels_DIV2K\\0538\\0538_kernel_x4.mat\n",
      "scale_factor:  [0.25, 0.25, 1]\n",
      "output_shape:  [43 64  3]\n",
      "im.shape:  (170, 255, 3)\n"
     ]
    },
    {
     "name": "stderr",
     "output_type": "stream",
     "text": [
      "Resizing images:  73%|███████▎  | 538/738 [02:00<00:46,  4.30it/s]"
     ]
    },
    {
     "name": "stdout",
     "output_type": "stream",
     "text": [
      "input_img.size():  torch.Size([3, 171, 255])\n",
      "resize2_img.size():  torch.Size([3, 43, 64])\n",
      "resize2_cut_img.size():  torch.Size([3, 40, 64])\n",
      "create_HrLr kernel_path:C:\\SaiVinay\\SproutsAI\\GitHub_\\ir_srgan_otsr\\results_kernels_DIV2K\\0539\\0539_kernel_x4.mat\n",
      "scale_factor:  [0.25, 0.25, 1]\n",
      "output_shape:  [43 64  3]\n",
      "im.shape:  (171, 255, 3)\n"
     ]
    },
    {
     "name": "stderr",
     "output_type": "stream",
     "text": [
      "Resizing images:  73%|███████▎  | 539/738 [02:00<00:45,  4.38it/s]"
     ]
    },
    {
     "name": "stdout",
     "output_type": "stream",
     "text": [
      "input_img.size():  torch.Size([3, 170, 255])\n",
      "resize2_img.size():  torch.Size([3, 43, 64])\n",
      "resize2_cut_img.size():  torch.Size([3, 40, 64])\n",
      "create_HrLr kernel_path:C:\\SaiVinay\\SproutsAI\\GitHub_\\ir_srgan_otsr\\results_kernels_DIV2K\\0540\\0540_kernel_x4.mat\n",
      "scale_factor:  [0.25, 0.25, 1]\n",
      "output_shape:  [43 64  3]\n",
      "im.shape:  (170, 255, 3)\n"
     ]
    },
    {
     "name": "stderr",
     "output_type": "stream",
     "text": [
      "Resizing images:  73%|███████▎  | 540/738 [02:01<00:44,  4.41it/s]"
     ]
    },
    {
     "name": "stdout",
     "output_type": "stream",
     "text": [
      "input_img.size():  torch.Size([3, 171, 255])\n",
      "resize2_img.size():  torch.Size([3, 43, 64])\n",
      "resize2_cut_img.size():  torch.Size([3, 40, 64])\n",
      "create_HrLr kernel_path:C:\\SaiVinay\\SproutsAI\\GitHub_\\ir_srgan_otsr\\results_kernels_DIV2K\\0541\\0541_kernel_x4.mat\n",
      "scale_factor:  [0.25, 0.25, 1]\n",
      "output_shape:  [43 64  3]\n",
      "im.shape:  (171, 255, 3)\n"
     ]
    },
    {
     "name": "stderr",
     "output_type": "stream",
     "text": [
      "Resizing images:  73%|███████▎  | 542/738 [02:01<00:40,  4.89it/s]"
     ]
    },
    {
     "name": "stdout",
     "output_type": "stream",
     "text": [
      "input_img.size():  torch.Size([3, 143, 255])\n",
      "resize2_img.size():  torch.Size([3, 36, 64])\n",
      "resize2_cut_img.size():  torch.Size([3, 36, 64])\n",
      "create_HrLr kernel_path:C:\\SaiVinay\\SproutsAI\\GitHub_\\ir_srgan_otsr\\results_kernels_DIV2K\\0542\\0542_kernel_x4.mat\n",
      "scale_factor:  [0.25, 0.25, 1]\n",
      "output_shape:  [36 64  3]\n",
      "im.shape:  (143, 255, 3)\n",
      "input_img.size():  torch.Size([3, 255, 170])\n",
      "resize2_img.size():  torch.Size([3, 64, 43])\n",
      "resize2_cut_img.size():  torch.Size([3, 64, 40])\n"
     ]
    },
    {
     "name": "stderr",
     "output_type": "stream",
     "text": [
      "Resizing images:  74%|███████▎  | 543/738 [02:01<00:40,  4.83it/s]"
     ]
    },
    {
     "name": "stdout",
     "output_type": "stream",
     "text": [
      "create_HrLr kernel_path:C:\\SaiVinay\\SproutsAI\\GitHub_\\ir_srgan_otsr\\results_kernels_DIV2K\\0543\\0543_kernel_x4.mat\n",
      "scale_factor:  [0.25, 0.25, 1]\n",
      "output_shape:  [64 43  3]\n",
      "im.shape:  (255, 170, 3)\n",
      "input_img.size():  torch.Size([3, 170, 255])\n",
      "resize2_img.size():  torch.Size([3, 43, 64])\n",
      "resize2_cut_img.size():  torch.Size([3, 40, 64])\n",
      "create_HrLr kernel_path:C:\\SaiVinay\\SproutsAI\\GitHub_\\ir_srgan_otsr\\results_kernels_DIV2K\\0544\\0544_kernel_x4.mat\n"
     ]
    },
    {
     "name": "stderr",
     "output_type": "stream",
     "text": [
      "Resizing images:  74%|███████▎  | 544/738 [02:02<00:40,  4.74it/s]"
     ]
    },
    {
     "name": "stdout",
     "output_type": "stream",
     "text": [
      "scale_factor:  [0.25, 0.25, 1]\n",
      "output_shape:  [43 64  3]\n",
      "im.shape:  (170, 255, 3)\n",
      "input_img.size():  torch.Size([3, 255, 249])\n",
      "resize2_img.size():  torch.Size([3, 64, 63])\n",
      "resize2_cut_img.size():  torch.Size([3, 64, 60])\n",
      "create_HrLr kernel_path:C:\\SaiVinay\\SproutsAI\\GitHub_\\ir_srgan_otsr\\results_kernels_DIV2K\\0545\\0545_kernel_x4.mat\n",
      "scale_factor:  [0.25, 0.25, 1]\n",
      "output_shape:  [64 63  3]\n",
      "im.shape:  (255, 249, 3)\n"
     ]
    },
    {
     "name": "stderr",
     "output_type": "stream",
     "text": [
      "Resizing images:  74%|███████▍  | 545/738 [02:02<00:46,  4.14it/s]"
     ]
    },
    {
     "name": "stdout",
     "output_type": "stream",
     "text": [
      "input_img.size():  torch.Size([3, 192, 255])\n",
      "resize2_img.size():  torch.Size([3, 48, 64])\n",
      "resize2_cut_img.size():  torch.Size([3, 48, 64])\n",
      "create_HrLr kernel_path:C:\\SaiVinay\\SproutsAI\\GitHub_\\ir_srgan_otsr\\results_kernels_DIV2K\\0546\\0546_kernel_x4.mat\n",
      "scale_factor:  [0.25, 0.25, 1]\n",
      "output_shape:  [48 64  3]\n",
      "im.shape:  (192, 255, 3)\n"
     ]
    },
    {
     "name": "stderr",
     "output_type": "stream",
     "text": [
      "Resizing images:  74%|███████▍  | 546/738 [02:02<00:48,  3.92it/s]"
     ]
    },
    {
     "name": "stdout",
     "output_type": "stream",
     "text": [
      "input_img.size():  torch.Size([3, 144, 255])\n",
      "resize2_img.size():  torch.Size([3, 36, 64])\n",
      "resize2_cut_img.size():  torch.Size([3, 36, 64])\n",
      "create_HrLr kernel_path:C:\\SaiVinay\\SproutsAI\\GitHub_\\ir_srgan_otsr\\results_kernels_DIV2K\\0547\\0547_kernel_x4.mat\n",
      "scale_factor:  [0.25, 0.25, 1]\n",
      "output_shape:  [36 64  3]\n",
      "im.shape:  (144, 255, 3)\n"
     ]
    },
    {
     "name": "stderr",
     "output_type": "stream",
     "text": [
      "Resizing images:  74%|███████▍  | 547/738 [02:02<00:48,  3.95it/s]"
     ]
    },
    {
     "name": "stdout",
     "output_type": "stream",
     "text": [
      "input_img.size():  torch.Size([3, 170, 255])\n",
      "resize2_img.size():  torch.Size([3, 43, 64])\n",
      "resize2_cut_img.size():  torch.Size([3, 40, 64])\n",
      "create_HrLr kernel_path:C:\\SaiVinay\\SproutsAI\\GitHub_\\ir_srgan_otsr\\results_kernels_DIV2K\\0548\\0548_kernel_x4.mat\n",
      "scale_factor:  [0.25, 0.25, 1]\n",
      "output_shape:  [43 64  3]\n",
      "im.shape:  (170, 255, 3)\n"
     ]
    },
    {
     "name": "stderr",
     "output_type": "stream",
     "text": [
      "Resizing images:  74%|███████▍  | 548/738 [02:03<00:46,  4.07it/s]"
     ]
    },
    {
     "name": "stdout",
     "output_type": "stream",
     "text": [
      "input_img.size():  torch.Size([3, 170, 255])\n",
      "resize2_img.size():  torch.Size([3, 43, 64])\n",
      "resize2_cut_img.size():  torch.Size([3, 40, 64])\n",
      "create_HrLr kernel_path:C:\\SaiVinay\\SproutsAI\\GitHub_\\ir_srgan_otsr\\results_kernels_DIV2K\\0549\\0549_kernel_x4.mat\n",
      "scale_factor:  [0.25, 0.25, 1]\n",
      "output_shape:  [43 64  3]\n",
      "im.shape:  (170, 255, 3)\n"
     ]
    },
    {
     "name": "stderr",
     "output_type": "stream",
     "text": [
      "Resizing images:  75%|███████▍  | 550/738 [02:03<00:44,  4.24it/s]"
     ]
    },
    {
     "name": "stdout",
     "output_type": "stream",
     "text": [
      "input_img.size():  torch.Size([3, 153, 255])\n",
      "resize2_img.size():  torch.Size([3, 39, 64])\n",
      "resize2_cut_img.size():  torch.Size([3, 36, 64])\n",
      "create_HrLr kernel_path:C:\\SaiVinay\\SproutsAI\\GitHub_\\ir_srgan_otsr\\results_kernels_DIV2K\\0550\\0550_kernel_x4.mat\n",
      "scale_factor:  [0.25, 0.25, 1]\n",
      "output_shape:  [39 64  3]\n",
      "im.shape:  (153, 255, 3)\n",
      "input_img.size():  torch.Size([3, 170, 255])\n",
      "resize2_img.size():  torch.Size([3, 43, 64])\n",
      "resize2_cut_img.size():  torch.Size([3, 40, 64])\n",
      "create_HrLr kernel_path:C:\\SaiVinay\\SproutsAI\\GitHub_\\ir_srgan_otsr\\results_kernels_DIV2K\\0551\\0551_kernel_x4.mat\n",
      "scale_factor:  [0.25, 0.25, 1]\n",
      "output_shape:  [43 64  3]\n",
      "im.shape:  (170, 255, 3)\n"
     ]
    },
    {
     "name": "stderr",
     "output_type": "stream",
     "text": [
      "Resizing images:  75%|███████▍  | 551/738 [02:03<00:44,  4.17it/s]"
     ]
    },
    {
     "name": "stdout",
     "output_type": "stream",
     "text": [
      "input_img.size():  torch.Size([3, 170, 255])\n",
      "resize2_img.size():  torch.Size([3, 43, 64])\n",
      "resize2_cut_img.size():  torch.Size([3, 40, 64])\n",
      "create_HrLr kernel_path:C:\\SaiVinay\\SproutsAI\\GitHub_\\ir_srgan_otsr\\results_kernels_DIV2K\\0552\\0552_kernel_x4.mat\n",
      "scale_factor:  [0.25, 0.25, 1]\n",
      "output_shape:  [43 64  3]\n",
      "im.shape:  (170, 255, 3)\n"
     ]
    },
    {
     "name": "stderr",
     "output_type": "stream",
     "text": [
      "Resizing images:  75%|███████▍  | 552/738 [02:04<00:44,  4.22it/s]"
     ]
    },
    {
     "name": "stdout",
     "output_type": "stream",
     "text": [
      "input_img.size():  torch.Size([3, 170, 255])\n",
      "resize2_img.size():  torch.Size([3, 43, 64])\n",
      "resize2_cut_img.size():  torch.Size([3, 40, 64])\n",
      "create_HrLr kernel_path:C:\\SaiVinay\\SproutsAI\\GitHub_\\ir_srgan_otsr\\results_kernels_DIV2K\\0553\\0553_kernel_x4.mat\n",
      "scale_factor:  [0.25, 0.25, 1]\n",
      "output_shape:  [43 64  3]\n",
      "im.shape:  (170, 255, 3)\n"
     ]
    },
    {
     "name": "stderr",
     "output_type": "stream",
     "text": [
      "Resizing images:  75%|███████▍  | 553/738 [02:04<00:43,  4.22it/s]"
     ]
    },
    {
     "name": "stdout",
     "output_type": "stream",
     "text": [
      "input_img.size():  torch.Size([3, 167, 255])\n",
      "resize2_img.size():  torch.Size([3, 42, 64])\n",
      "resize2_cut_img.size():  torch.Size([3, 40, 64])\n",
      "create_HrLr kernel_path:C:\\SaiVinay\\SproutsAI\\GitHub_\\ir_srgan_otsr\\results_kernels_DIV2K\\0554\\0554_kernel_x4.mat\n",
      "scale_factor:  [0.25, 0.25, 1]\n",
      "output_shape:  [42 64  3]\n",
      "im.shape:  (167, 255, 3)\n"
     ]
    },
    {
     "name": "stderr",
     "output_type": "stream",
     "text": [
      "Resizing images:  75%|███████▌  | 554/738 [02:04<00:43,  4.22it/s]"
     ]
    },
    {
     "name": "stdout",
     "output_type": "stream",
     "text": [
      "input_img.size():  torch.Size([3, 170, 255])\n",
      "resize2_img.size():  torch.Size([3, 43, 64])\n",
      "resize2_cut_img.size():  torch.Size([3, 40, 64])\n",
      "create_HrLr kernel_path:C:\\SaiVinay\\SproutsAI\\GitHub_\\ir_srgan_otsr\\results_kernels_DIV2K\\0555\\0555_kernel_x4.mat\n",
      "scale_factor:  [0.25, 0.25, 1]\n",
      "output_shape:  [43 64  3]\n",
      "im.shape:  (170, 255, 3)\n"
     ]
    },
    {
     "name": "stderr",
     "output_type": "stream",
     "text": [
      "Resizing images:  75%|███████▌  | 555/738 [02:04<00:41,  4.37it/s]"
     ]
    },
    {
     "name": "stdout",
     "output_type": "stream",
     "text": [
      "input_img.size():  torch.Size([3, 170, 255])\n",
      "resize2_img.size():  torch.Size([3, 43, 64])\n",
      "resize2_cut_img.size():  torch.Size([3, 40, 64])\n",
      "create_HrLr kernel_path:C:\\SaiVinay\\SproutsAI\\GitHub_\\ir_srgan_otsr\\results_kernels_DIV2K\\0556\\0556_kernel_x4.mat\n",
      "scale_factor:  [0.25, 0.25, 1]\n",
      "output_shape:  [43 64  3]\n",
      "im.shape:  (170, 255, 3)\n"
     ]
    },
    {
     "name": "stderr",
     "output_type": "stream",
     "text": [
      "Resizing images:  75%|███████▌  | 557/738 [02:05<00:39,  4.60it/s]"
     ]
    },
    {
     "name": "stdout",
     "output_type": "stream",
     "text": [
      "input_img.size():  torch.Size([3, 144, 255])\n",
      "resize2_img.size():  torch.Size([3, 36, 64])\n",
      "resize2_cut_img.size():  torch.Size([3, 36, 64])\n",
      "create_HrLr kernel_path:C:\\SaiVinay\\SproutsAI\\GitHub_\\ir_srgan_otsr\\results_kernels_DIV2K\\0557\\0557_kernel_x4.mat\n",
      "scale_factor:  [0.25, 0.25, 1]\n",
      "output_shape:  [36 64  3]\n",
      "im.shape:  (144, 255, 3)\n",
      "input_img.size():  torch.Size([3, 170, 255])\n",
      "resize2_img.size():  torch.Size([3, 43, 64])\n",
      "resize2_cut_img.size():  torch.Size([3, 40, 64])\n",
      "create_HrLr kernel_path:C:\\SaiVinay\\SproutsAI\\GitHub_\\ir_srgan_otsr\\results_kernels_DIV2K\\0558\\0558_kernel_x4.mat\n",
      "scale_factor:  [0.25, 0.25, 1]\n",
      "output_shape:  [43 64  3]\n",
      "im.shape:  (170, 255, 3)\n"
     ]
    },
    {
     "name": "stderr",
     "output_type": "stream",
     "text": [
      "Resizing images:  76%|███████▌  | 558/738 [02:05<00:39,  4.54it/s]"
     ]
    },
    {
     "name": "stdout",
     "output_type": "stream",
     "text": [
      "input_img.size():  torch.Size([3, 192, 255])\n",
      "resize2_img.size():  torch.Size([3, 48, 64])\n",
      "resize2_cut_img.size():  torch.Size([3, 48, 64])\n",
      "create_HrLr kernel_path:C:\\SaiVinay\\SproutsAI\\GitHub_\\ir_srgan_otsr\\results_kernels_DIV2K\\0559\\0559_kernel_x4.mat\n",
      "scale_factor:  [0.25, 0.25, 1]\n",
      "output_shape:  [48 64  3]\n",
      "im.shape:  (192, 255, 3)\n"
     ]
    },
    {
     "name": "stderr",
     "output_type": "stream",
     "text": [
      "Resizing images:  76%|███████▌  | 560/738 [02:05<00:37,  4.76it/s]"
     ]
    },
    {
     "name": "stdout",
     "output_type": "stream",
     "text": [
      "input_img.size():  torch.Size([3, 137, 255])\n",
      "resize2_img.size():  torch.Size([3, 35, 64])\n",
      "resize2_cut_img.size():  torch.Size([3, 32, 64])\n",
      "create_HrLr kernel_path:C:\\SaiVinay\\SproutsAI\\GitHub_\\ir_srgan_otsr\\results_kernels_DIV2K\\0560\\0560_kernel_x4.mat\n",
      "scale_factor:  [0.25, 0.25, 1]\n",
      "output_shape:  [35 64  3]\n",
      "im.shape:  (137, 255, 3)\n",
      "input_img.size():  torch.Size([3, 147, 255])\n",
      "resize2_img.size():  torch.Size([3, 37, 64])\n",
      "resize2_cut_img.size():  torch.Size([3, 36, 64])\n"
     ]
    },
    {
     "name": "stderr",
     "output_type": "stream",
     "text": [
      "Resizing images:  76%|███████▌  | 561/738 [02:05<00:36,  4.82it/s]"
     ]
    },
    {
     "name": "stdout",
     "output_type": "stream",
     "text": [
      "create_HrLr kernel_path:C:\\SaiVinay\\SproutsAI\\GitHub_\\ir_srgan_otsr\\results_kernels_DIV2K\\0561\\0561_kernel_x4.mat\n",
      "scale_factor:  [0.25, 0.25, 1]\n",
      "output_shape:  [37 64  3]\n",
      "im.shape:  (147, 255, 3)\n",
      "input_img.size():  torch.Size([3, 170, 255])\n",
      "resize2_img.size():  torch.Size([3, 43, 64])\n",
      "resize2_cut_img.size():  torch.Size([3, 40, 64])\n",
      "create_HrLr kernel_path:C:\\SaiVinay\\SproutsAI\\GitHub_\\ir_srgan_otsr\\results_kernels_DIV2K\\0562\\0562_kernel_x4.mat\n",
      "scale_factor:  [0.25, 0.25, 1]\n",
      "output_shape:  [43 64  3]\n",
      "im.shape:  (170, 255, 3)\n"
     ]
    },
    {
     "name": "stderr",
     "output_type": "stream",
     "text": [
      "Resizing images:  76%|███████▌  | 562/738 [02:06<00:39,  4.50it/s]"
     ]
    },
    {
     "name": "stdout",
     "output_type": "stream",
     "text": [
      "input_img.size():  torch.Size([3, 170, 255])\n",
      "resize2_img.size():  torch.Size([3, 43, 64])\n",
      "resize2_cut_img.size():  torch.Size([3, 40, 64])\n",
      "create_HrLr kernel_path:C:\\SaiVinay\\SproutsAI\\GitHub_\\ir_srgan_otsr\\results_kernels_DIV2K\\0563\\0563_kernel_x4.mat\n",
      "scale_factor:  [0.25, 0.25, 1]\n",
      "output_shape:  [43 64  3]\n",
      "im.shape:  (170, 255, 3)\n"
     ]
    },
    {
     "name": "stderr",
     "output_type": "stream",
     "text": [
      "Resizing images:  76%|███████▋  | 563/738 [02:06<00:39,  4.48it/s]"
     ]
    },
    {
     "name": "stdout",
     "output_type": "stream",
     "text": [
      "input_img.size():  torch.Size([3, 201, 255])\n",
      "resize2_img.size():  torch.Size([3, 51, 64])\n",
      "resize2_cut_img.size():  torch.Size([3, 48, 64])\n",
      "create_HrLr kernel_path:C:\\SaiVinay\\SproutsAI\\GitHub_\\ir_srgan_otsr\\results_kernels_DIV2K\\0564\\0564_kernel_x4.mat\n",
      "scale_factor:  [0.25, 0.25, 1]\n",
      "output_shape:  [51 64  3]\n",
      "im.shape:  (201, 255, 3)\n"
     ]
    },
    {
     "name": "stderr",
     "output_type": "stream",
     "text": [
      "Resizing images:  76%|███████▋  | 564/738 [02:06<00:38,  4.50it/s]"
     ]
    },
    {
     "name": "stdout",
     "output_type": "stream",
     "text": [
      "input_img.size():  torch.Size([3, 255, 170])\n",
      "resize2_img.size():  torch.Size([3, 64, 43])\n",
      "resize2_cut_img.size():  torch.Size([3, 64, 40])\n",
      "create_HrLr kernel_path:C:\\SaiVinay\\SproutsAI\\GitHub_\\ir_srgan_otsr\\results_kernels_DIV2K\\0565\\0565_kernel_x4.mat\n",
      "scale_factor:  [0.25, 0.25, 1]\n",
      "output_shape:  [64 43  3]\n",
      "im.shape:  (255, 170, 3)\n"
     ]
    },
    {
     "name": "stderr",
     "output_type": "stream",
     "text": [
      "Resizing images:  77%|███████▋  | 565/738 [02:06<00:37,  4.58it/s]"
     ]
    },
    {
     "name": "stdout",
     "output_type": "stream",
     "text": [
      "input_img.size():  torch.Size([3, 171, 255])\n",
      "resize2_img.size():  torch.Size([3, 43, 64])\n",
      "resize2_cut_img.size():  torch.Size([3, 40, 64])\n",
      "create_HrLr kernel_path:C:\\SaiVinay\\SproutsAI\\GitHub_\\ir_srgan_otsr\\results_kernels_DIV2K\\0566\\0566_kernel_x4.mat\n",
      "scale_factor:  [0.25, 0.25, 1]\n",
      "output_shape:  [43 64  3]\n",
      "im.shape:  (171, 255, 3)\n"
     ]
    },
    {
     "name": "stderr",
     "output_type": "stream",
     "text": [
      "Resizing images:  77%|███████▋  | 566/738 [02:07<00:38,  4.50it/s]"
     ]
    },
    {
     "name": "stdout",
     "output_type": "stream",
     "text": [
      "input_img.size():  torch.Size([3, 170, 255])\n",
      "resize2_img.size():  torch.Size([3, 43, 64])\n",
      "resize2_cut_img.size():  torch.Size([3, 40, 64])\n",
      "create_HrLr kernel_path:C:\\SaiVinay\\SproutsAI\\GitHub_\\ir_srgan_otsr\\results_kernels_DIV2K\\0567\\0567_kernel_x4.mat\n",
      "scale_factor:  [0.25, 0.25, 1]\n",
      "output_shape:  [43 64  3]\n",
      "im.shape:  (170, 255, 3)\n"
     ]
    },
    {
     "name": "stderr",
     "output_type": "stream",
     "text": [
      "Resizing images:  77%|███████▋  | 567/738 [02:07<00:39,  4.33it/s]"
     ]
    },
    {
     "name": "stdout",
     "output_type": "stream",
     "text": [
      "input_img.size():  torch.Size([3, 255, 228])\n",
      "resize2_img.size():  torch.Size([3, 64, 57])\n",
      "resize2_cut_img.size():  torch.Size([3, 64, 56])\n",
      "create_HrLr kernel_path:C:\\SaiVinay\\SproutsAI\\GitHub_\\ir_srgan_otsr\\results_kernels_DIV2K\\0568\\0568_kernel_x4.mat\n",
      "scale_factor:  [0.25, 0.25, 1]\n",
      "output_shape:  [64 57  3]\n",
      "im.shape:  (255, 228, 3)\n"
     ]
    },
    {
     "name": "stderr",
     "output_type": "stream",
     "text": [
      "Resizing images:  77%|███████▋  | 569/738 [02:07<00:39,  4.25it/s]"
     ]
    },
    {
     "name": "stdout",
     "output_type": "stream",
     "text": [
      "input_img.size():  torch.Size([3, 170, 255])\n",
      "resize2_img.size():  torch.Size([3, 43, 64])\n",
      "resize2_cut_img.size():  torch.Size([3, 40, 64])\n",
      "create_HrLr kernel_path:C:\\SaiVinay\\SproutsAI\\GitHub_\\ir_srgan_otsr\\results_kernels_DIV2K\\0569\\0569_kernel_x4.mat\n",
      "scale_factor:  [0.25, 0.25, 1]\n",
      "output_shape:  [43 64  3]\n",
      "im.shape:  (170, 255, 3)\n",
      "input_img.size():  torch.Size([3, 170, 255])\n",
      "resize2_img.size():  torch.Size([3, 43, 64])\n",
      "resize2_cut_img.size():  torch.Size([3, 40, 64])\n",
      "create_HrLr kernel_path:C:\\SaiVinay\\SproutsAI\\GitHub_\\ir_srgan_otsr\\results_kernels_DIV2K\\0570\\0570_kernel_x4.mat\n",
      "scale_factor:  [0.25, 0.25, 1]\n",
      "output_shape:  [43 64  3]\n",
      "im.shape:  (170, 255, 3)\n"
     ]
    },
    {
     "name": "stderr",
     "output_type": "stream",
     "text": [
      "Resizing images:  77%|███████▋  | 570/738 [02:08<00:40,  4.12it/s]"
     ]
    },
    {
     "name": "stdout",
     "output_type": "stream",
     "text": [
      "input_img.size():  torch.Size([3, 170, 255])\n",
      "resize2_img.size():  torch.Size([3, 43, 64])\n",
      "resize2_cut_img.size():  torch.Size([3, 40, 64])\n",
      "create_HrLr kernel_path:C:\\SaiVinay\\SproutsAI\\GitHub_\\ir_srgan_otsr\\results_kernels_DIV2K\\0571\\0571_kernel_x4.mat\n",
      "scale_factor:  [0.25, 0.25, 1]\n",
      "output_shape:  [43 64  3]\n",
      "im.shape:  (170, 255, 3)\n"
     ]
    },
    {
     "name": "stderr",
     "output_type": "stream",
     "text": [
      "Resizing images:  78%|███████▊  | 572/738 [02:08<00:36,  4.59it/s]"
     ]
    },
    {
     "name": "stdout",
     "output_type": "stream",
     "text": [
      "input_img.size():  torch.Size([3, 170, 255])\n",
      "resize2_img.size():  torch.Size([3, 43, 64])\n",
      "resize2_cut_img.size():  torch.Size([3, 40, 64])\n",
      "create_HrLr kernel_path:C:\\SaiVinay\\SproutsAI\\GitHub_\\ir_srgan_otsr\\results_kernels_DIV2K\\0572\\0572_kernel_x4.mat\n",
      "scale_factor:  [0.25, 0.25, 1]\n",
      "output_shape:  [43 64  3]\n",
      "im.shape:  (170, 255, 3)\n",
      "input_img.size():  torch.Size([3, 170, 255])\n",
      "resize2_img.size():  torch.Size([3, 43, 64])\n",
      "resize2_cut_img.size():  torch.Size([3, 40, 64])\n",
      "create_HrLr kernel_path:C:\\SaiVinay\\SproutsAI\\GitHub_\\ir_srgan_otsr\\results_kernels_DIV2K\\0573\\0573_kernel_x4.mat\n"
     ]
    },
    {
     "name": "stderr",
     "output_type": "stream",
     "text": [
      "Resizing images:  78%|███████▊  | 573/738 [02:08<00:34,  4.72it/s]"
     ]
    },
    {
     "name": "stdout",
     "output_type": "stream",
     "text": [
      "scale_factor:  [0.25, 0.25, 1]\n",
      "output_shape:  [43 64  3]\n",
      "im.shape:  (170, 255, 3)\n",
      "input_img.size():  torch.Size([3, 167, 255])\n",
      "resize2_img.size():  torch.Size([3, 42, 64])\n",
      "resize2_cut_img.size():  torch.Size([3, 40, 64])\n",
      "create_HrLr kernel_path:C:\\SaiVinay\\SproutsAI\\GitHub_\\ir_srgan_otsr\\results_kernels_DIV2K\\0574\\0574_kernel_x4.mat\n",
      "scale_factor:  [0.25, 0.25, 1]\n",
      "output_shape:  [42 64  3]\n",
      "im.shape:  (167, 255, 3)\n"
     ]
    },
    {
     "name": "stderr",
     "output_type": "stream",
     "text": [
      "Resizing images:  78%|███████▊  | 574/738 [02:08<00:33,  4.84it/s]"
     ]
    },
    {
     "name": "stdout",
     "output_type": "stream",
     "text": [
      "input_img.size():  torch.Size([3, 170, 255])\n",
      "resize2_img.size():  torch.Size([3, 43, 64])\n",
      "resize2_cut_img.size():  torch.Size([3, 40, 64])\n",
      "create_HrLr kernel_path:C:\\SaiVinay\\SproutsAI\\GitHub_\\ir_srgan_otsr\\results_kernels_DIV2K\\0575\\0575_kernel_x4.mat\n",
      "scale_factor:  [0.25, 0.25, 1]\n",
      "output_shape:  [43 64  3]\n",
      "im.shape:  (170, 255, 3)\n"
     ]
    },
    {
     "name": "stderr",
     "output_type": "stream",
     "text": [
      "Resizing images:  78%|███████▊  | 575/738 [02:09<00:36,  4.51it/s]"
     ]
    },
    {
     "name": "stdout",
     "output_type": "stream",
     "text": [
      "input_img.size():  torch.Size([3, 170, 255])\n",
      "resize2_img.size():  torch.Size([3, 43, 64])\n",
      "resize2_cut_img.size():  torch.Size([3, 40, 64])\n",
      "create_HrLr kernel_path:C:\\SaiVinay\\SproutsAI\\GitHub_\\ir_srgan_otsr\\results_kernels_DIV2K\\0576\\0576_kernel_x4.mat\n",
      "scale_factor:  [0.25, 0.25, 1]\n",
      "output_shape:  [43 64  3]\n",
      "im.shape:  (170, 255, 3)\n"
     ]
    },
    {
     "name": "stderr",
     "output_type": "stream",
     "text": [
      "Resizing images:  78%|███████▊  | 577/738 [02:09<00:35,  4.52it/s]"
     ]
    },
    {
     "name": "stdout",
     "output_type": "stream",
     "text": [
      "input_img.size():  torch.Size([3, 255, 168])\n",
      "resize2_img.size():  torch.Size([3, 64, 42])\n",
      "resize2_cut_img.size():  torch.Size([3, 64, 40])\n",
      "create_HrLr kernel_path:C:\\SaiVinay\\SproutsAI\\GitHub_\\ir_srgan_otsr\\results_kernels_DIV2K\\0577\\0577_kernel_x4.mat\n",
      "scale_factor:  [0.25, 0.25, 1]\n",
      "output_shape:  [64 42  3]\n",
      "im.shape:  (255, 168, 3)\n"
     ]
    },
    {
     "name": "stderr",
     "output_type": "stream",
     "text": [
      "Resizing images:  78%|███████▊  | 578/738 [02:09<00:33,  4.75it/s]"
     ]
    },
    {
     "name": "stdout",
     "output_type": "stream",
     "text": [
      "input_img.size():  torch.Size([3, 156, 255])\n",
      "resize2_img.size():  torch.Size([3, 39, 64])\n",
      "resize2_cut_img.size():  torch.Size([3, 36, 64])\n",
      "create_HrLr kernel_path:C:\\SaiVinay\\SproutsAI\\GitHub_\\ir_srgan_otsr\\results_kernels_DIV2K\\0578\\0578_kernel_x4.mat\n",
      "scale_factor:  [0.25, 0.25, 1]\n",
      "output_shape:  [39 64  3]\n",
      "im.shape:  (156, 255, 3)\n"
     ]
    },
    {
     "name": "stderr",
     "output_type": "stream",
     "text": [
      "Resizing images:  78%|███████▊  | 579/738 [02:09<00:32,  4.94it/s]"
     ]
    },
    {
     "name": "stdout",
     "output_type": "stream",
     "text": [
      "input_img.size():  torch.Size([3, 144, 255])\n",
      "resize2_img.size():  torch.Size([3, 36, 64])\n",
      "resize2_cut_img.size():  torch.Size([3, 36, 64])\n",
      "create_HrLr kernel_path:C:\\SaiVinay\\SproutsAI\\GitHub_\\ir_srgan_otsr\\results_kernels_DIV2K\\0579\\0579_kernel_x4.mat\n",
      "scale_factor:  [0.25, 0.25, 1]\n",
      "output_shape:  [36 64  3]\n",
      "im.shape:  (144, 255, 3)\n"
     ]
    },
    {
     "name": "stderr",
     "output_type": "stream",
     "text": [
      "Resizing images:  79%|███████▊  | 580/738 [02:10<00:32,  4.90it/s]"
     ]
    },
    {
     "name": "stdout",
     "output_type": "stream",
     "text": [
      "input_img.size():  torch.Size([3, 168, 255])\n",
      "resize2_img.size():  torch.Size([3, 42, 64])\n",
      "resize2_cut_img.size():  torch.Size([3, 40, 64])\n",
      "create_HrLr kernel_path:C:\\SaiVinay\\SproutsAI\\GitHub_\\ir_srgan_otsr\\results_kernels_DIV2K\\0580\\0580_kernel_x4.mat\n",
      "scale_factor:  [0.25, 0.25, 1]\n",
      "output_shape:  [42 64  3]\n",
      "im.shape:  (168, 255, 3)\n"
     ]
    },
    {
     "name": "stderr",
     "output_type": "stream",
     "text": [
      "Resizing images:  79%|███████▊  | 581/738 [02:10<00:29,  5.30it/s]"
     ]
    },
    {
     "name": "stdout",
     "output_type": "stream",
     "text": [
      "input_img.size():  torch.Size([3, 134, 255])\n",
      "resize2_img.size():  torch.Size([3, 34, 64])\n",
      "resize2_cut_img.size():  torch.Size([3, 32, 64])\n",
      "create_HrLr kernel_path:C:\\SaiVinay\\SproutsAI\\GitHub_\\ir_srgan_otsr\\results_kernels_DIV2K\\0581\\0581_kernel_x4.mat\n",
      "scale_factor:  [0.25, 0.25, 1]\n",
      "output_shape:  [34 64  3]\n",
      "im.shape:  (134, 255, 3)\n",
      "input_img.size():  torch.Size([3, 170, 255])\n",
      "resize2_img.size():  torch.Size([3, 43, 64])\n",
      "resize2_cut_img.size():  torch.Size([3, 40, 64])\n",
      "create_HrLr kernel_path:C:\\SaiVinay\\SproutsAI\\GitHub_\\ir_srgan_otsr\\results_kernels_DIV2K\\0582\\0582_kernel_x4.mat\n",
      "scale_factor:  [0.25, 0.25, 1]\n",
      "output_shape:  [43 64  3]\n",
      "im.shape:  (170, 255, 3)\n"
     ]
    },
    {
     "name": "stderr",
     "output_type": "stream",
     "text": [
      "Resizing images:  79%|███████▉  | 583/738 [02:10<00:29,  5.23it/s]"
     ]
    },
    {
     "name": "stdout",
     "output_type": "stream",
     "text": [
      "input_img.size():  torch.Size([3, 149, 255])\n",
      "resize2_img.size():  torch.Size([3, 38, 64])\n",
      "resize2_cut_img.size():  torch.Size([3, 36, 64])\n",
      "create_HrLr kernel_path:C:\\SaiVinay\\SproutsAI\\GitHub_\\ir_srgan_otsr\\results_kernels_DIV2K\\0583\\0583_kernel_x4.mat\n",
      "scale_factor:  [0.25, 0.25, 1]\n",
      "output_shape:  [38 64  3]\n",
      "im.shape:  (149, 255, 3)\n",
      "input_img.size():  torch.Size([3, 170, 255])\n",
      "resize2_img.size():  torch.Size([3, 43, 64])\n",
      "resize2_cut_img.size():  torch.Size([3, 40, 64])\n",
      "create_HrLr kernel_path:C:\\SaiVinay\\SproutsAI\\GitHub_\\ir_srgan_otsr\\results_kernels_DIV2K\\0584\\0584_kernel_x4.mat\n",
      "scale_factor:  [0.25, 0.25, 1]\n",
      "output_shape:  [43 64  3]\n",
      "im.shape:  (170, 255, 3)\n"
     ]
    },
    {
     "name": "stderr",
     "output_type": "stream",
     "text": [
      "Resizing images:  79%|███████▉  | 585/738 [02:11<00:29,  5.12it/s]"
     ]
    },
    {
     "name": "stdout",
     "output_type": "stream",
     "text": [
      "input_img.size():  torch.Size([3, 156, 255])\n",
      "resize2_img.size():  torch.Size([3, 39, 64])\n",
      "resize2_cut_img.size():  torch.Size([3, 36, 64])\n",
      "create_HrLr kernel_path:C:\\SaiVinay\\SproutsAI\\GitHub_\\ir_srgan_otsr\\results_kernels_DIV2K\\0585\\0585_kernel_x4.mat\n",
      "scale_factor:  [0.25, 0.25, 1]\n",
      "output_shape:  [39 64  3]\n",
      "im.shape:  (156, 255, 3)\n"
     ]
    },
    {
     "name": "stderr",
     "output_type": "stream",
     "text": [
      "Resizing images:  79%|███████▉  | 586/738 [02:11<00:30,  5.04it/s]"
     ]
    },
    {
     "name": "stdout",
     "output_type": "stream",
     "text": [
      "input_img.size():  torch.Size([3, 255, 179])\n",
      "resize2_img.size():  torch.Size([3, 64, 45])\n",
      "resize2_cut_img.size():  torch.Size([3, 64, 44])\n",
      "create_HrLr kernel_path:C:\\SaiVinay\\SproutsAI\\GitHub_\\ir_srgan_otsr\\results_kernels_DIV2K\\0586\\0586_kernel_x4.mat\n",
      "scale_factor:  [0.25, 0.25, 1]\n",
      "output_shape:  [64 45  3]\n",
      "im.shape:  (255, 179, 3)\n",
      "input_img.size():  torch.Size([3, 171, 255])\n",
      "resize2_img.size():  torch.Size([3, 43, 64])\n",
      "resize2_cut_img.size():  torch.Size([3, 40, 64])\n",
      "create_HrLr kernel_path:C:\\SaiVinay\\SproutsAI\\GitHub_\\ir_srgan_otsr\\results_kernels_DIV2K\\0587\\0587_kernel_x4.mat\n",
      "scale_factor:  [0.25, 0.25, 1]\n",
      "output_shape:  [43 64  3]\n",
      "im.shape:  (171, 255, 3)\n"
     ]
    },
    {
     "name": "stderr",
     "output_type": "stream",
     "text": [
      "Resizing images:  80%|███████▉  | 587/738 [02:11<00:30,  4.88it/s]"
     ]
    },
    {
     "name": "stdout",
     "output_type": "stream",
     "text": [
      "input_img.size():  torch.Size([3, 170, 255])\n",
      "resize2_img.size():  torch.Size([3, 43, 64])\n",
      "resize2_cut_img.size():  torch.Size([3, 40, 64])\n",
      "create_HrLr kernel_path:C:\\SaiVinay\\SproutsAI\\GitHub_\\ir_srgan_otsr\\results_kernels_DIV2K\\0588\\0588_kernel_x4.mat\n",
      "scale_factor:  [0.25, 0.25, 1]\n",
      "output_shape:  [43 64  3]\n",
      "im.shape:  (170, 255, 3)\n"
     ]
    },
    {
     "name": "stderr",
     "output_type": "stream",
     "text": [
      "Resizing images:  80%|███████▉  | 588/738 [02:11<00:31,  4.77it/s]"
     ]
    },
    {
     "name": "stdout",
     "output_type": "stream",
     "text": [
      "input_img.size():  torch.Size([3, 170, 255])\n",
      "resize2_img.size():  torch.Size([3, 43, 64])\n",
      "resize2_cut_img.size():  torch.Size([3, 40, 64])\n",
      "create_HrLr kernel_path:C:\\SaiVinay\\SproutsAI\\GitHub_\\ir_srgan_otsr\\results_kernels_DIV2K\\0589\\0589_kernel_x4.mat\n",
      "scale_factor:  [0.25, 0.25, 1]\n",
      "output_shape:  [43 64  3]\n",
      "im.shape:  (170, 255, 3)\n"
     ]
    },
    {
     "name": "stderr",
     "output_type": "stream",
     "text": [
      "Resizing images:  80%|███████▉  | 589/738 [02:11<00:31,  4.78it/s]"
     ]
    },
    {
     "name": "stdout",
     "output_type": "stream",
     "text": [
      "input_img.size():  torch.Size([3, 255, 170])\n",
      "resize2_img.size():  torch.Size([3, 64, 43])\n",
      "resize2_cut_img.size():  torch.Size([3, 64, 40])\n",
      "create_HrLr kernel_path:C:\\SaiVinay\\SproutsAI\\GitHub_\\ir_srgan_otsr\\results_kernels_DIV2K\\0590\\0590_kernel_x4.mat\n",
      "scale_factor:  [0.25, 0.25, 1]\n",
      "output_shape:  [64 43  3]\n",
      "im.shape:  (255, 170, 3)\n"
     ]
    },
    {
     "name": "stderr",
     "output_type": "stream",
     "text": [
      "Resizing images:  80%|███████▉  | 590/738 [02:12<00:32,  4.55it/s]"
     ]
    },
    {
     "name": "stdout",
     "output_type": "stream",
     "text": [
      "input_img.size():  torch.Size([3, 152, 255])\n",
      "resize2_img.size():  torch.Size([3, 38, 64])\n",
      "resize2_cut_img.size():  torch.Size([3, 36, 64])\n",
      "create_HrLr kernel_path:C:\\SaiVinay\\SproutsAI\\GitHub_\\ir_srgan_otsr\\results_kernels_DIV2K\\0591\\0591_kernel_x4.mat\n",
      "scale_factor:  [0.25, 0.25, 1]\n",
      "output_shape:  [38 64  3]\n",
      "im.shape:  (152, 255, 3)\n"
     ]
    },
    {
     "name": "stderr",
     "output_type": "stream",
     "text": [
      "Resizing images:  80%|████████  | 592/738 [02:12<00:30,  4.80it/s]"
     ]
    },
    {
     "name": "stdout",
     "output_type": "stream",
     "text": [
      "input_img.size():  torch.Size([3, 170, 255])\n",
      "resize2_img.size():  torch.Size([3, 43, 64])\n",
      "resize2_cut_img.size():  torch.Size([3, 40, 64])\n",
      "create_HrLr kernel_path:C:\\SaiVinay\\SproutsAI\\GitHub_\\ir_srgan_otsr\\results_kernels_DIV2K\\0592\\0592_kernel_x4.mat\n",
      "scale_factor:  [0.25, 0.25, 1]\n",
      "output_shape:  [43 64  3]\n",
      "im.shape:  (170, 255, 3)\n",
      "input_img.size():  torch.Size([3, 170, 255])\n",
      "resize2_img.size():  torch.Size([3, 43, 64])\n",
      "resize2_cut_img.size():  torch.Size([3, 40, 64])\n"
     ]
    },
    {
     "name": "stderr",
     "output_type": "stream",
     "text": [
      "Resizing images:  80%|████████  | 593/738 [02:12<00:31,  4.67it/s]"
     ]
    },
    {
     "name": "stdout",
     "output_type": "stream",
     "text": [
      "create_HrLr kernel_path:C:\\SaiVinay\\SproutsAI\\GitHub_\\ir_srgan_otsr\\results_kernels_DIV2K\\0593\\0593_kernel_x4.mat\n",
      "scale_factor:  [0.25, 0.25, 1]\n",
      "output_shape:  [43 64  3]\n",
      "im.shape:  (170, 255, 3)\n",
      "input_img.size():  torch.Size([3, 170, 255])\n",
      "resize2_img.size():  torch.Size([3, 43, 64])\n",
      "resize2_cut_img.size():  torch.Size([3, 40, 64])\n",
      "create_HrLr kernel_path:C:\\SaiVinay\\SproutsAI\\GitHub_\\ir_srgan_otsr\\results_kernels_DIV2K\\0594\\0594_kernel_x4.mat\n",
      "scale_factor:  [0.25, 0.25, 1]\n",
      "output_shape:  [43 64  3]\n",
      "im.shape:  (170, 255, 3)\n"
     ]
    },
    {
     "name": "stderr",
     "output_type": "stream",
     "text": [
      "Resizing images:  80%|████████  | 594/738 [02:13<00:30,  4.66it/s]"
     ]
    },
    {
     "name": "stdout",
     "output_type": "stream",
     "text": [
      "input_img.size():  torch.Size([3, 179, 255])\n",
      "resize2_img.size():  torch.Size([3, 45, 64])\n",
      "resize2_cut_img.size():  torch.Size([3, 44, 64])\n",
      "create_HrLr kernel_path:C:\\SaiVinay\\SproutsAI\\GitHub_\\ir_srgan_otsr\\results_kernels_DIV2K\\0595\\0595_kernel_x4.mat\n",
      "scale_factor:  [0.25, 0.25, 1]\n",
      "output_shape:  [45 64  3]\n",
      "im.shape:  (179, 255, 3)\n"
     ]
    },
    {
     "name": "stderr",
     "output_type": "stream",
     "text": [
      "Resizing images:  81%|████████  | 596/738 [02:13<00:29,  4.87it/s]"
     ]
    },
    {
     "name": "stdout",
     "output_type": "stream",
     "text": [
      "input_img.size():  torch.Size([3, 170, 255])\n",
      "resize2_img.size():  torch.Size([3, 43, 64])\n",
      "resize2_cut_img.size():  torch.Size([3, 40, 64])\n",
      "create_HrLr kernel_path:C:\\SaiVinay\\SproutsAI\\GitHub_\\ir_srgan_otsr\\results_kernels_DIV2K\\0596\\0596_kernel_x4.mat\n",
      "scale_factor:  [0.25, 0.25, 1]\n",
      "output_shape:  [43 64  3]\n",
      "im.shape:  (170, 255, 3)\n",
      "input_img.size():  torch.Size([3, 255, 170])\n",
      "resize2_img.size():  torch.Size([3, 64, 43])\n",
      "resize2_cut_img.size():  torch.Size([3, 64, 40])\n",
      "create_HrLr kernel_path:C:\\SaiVinay\\SproutsAI\\GitHub_\\ir_srgan_otsr\\results_kernels_DIV2K\\0597\\0597_kernel_x4.mat\n",
      "scale_factor:  [0.25, 0.25, 1]\n",
      "output_shape:  [64 43  3]\n",
      "im.shape:  (255, 170, 3)\n"
     ]
    },
    {
     "name": "stderr",
     "output_type": "stream",
     "text": [
      "Resizing images:  81%|████████  | 597/738 [02:13<00:29,  4.72it/s]"
     ]
    },
    {
     "name": "stdout",
     "output_type": "stream",
     "text": [
      "input_img.size():  torch.Size([3, 170, 255])\n",
      "resize2_img.size():  torch.Size([3, 43, 64])\n",
      "resize2_cut_img.size():  torch.Size([3, 40, 64])\n",
      "create_HrLr kernel_path:C:\\SaiVinay\\SproutsAI\\GitHub_\\ir_srgan_otsr\\results_kernels_DIV2K\\0598\\0598_kernel_x4.mat\n",
      "scale_factor:  [0.25, 0.25, 1]\n",
      "output_shape:  [43 64  3]\n",
      "im.shape:  (170, 255, 3)\n"
     ]
    },
    {
     "name": "stderr",
     "output_type": "stream",
     "text": [
      "Resizing images:  81%|████████  | 599/738 [02:14<00:27,  5.06it/s]"
     ]
    },
    {
     "name": "stdout",
     "output_type": "stream",
     "text": [
      "input_img.size():  torch.Size([3, 170, 255])\n",
      "resize2_img.size():  torch.Size([3, 43, 64])\n",
      "resize2_cut_img.size():  torch.Size([3, 40, 64])\n",
      "create_HrLr kernel_path:C:\\SaiVinay\\SproutsAI\\GitHub_\\ir_srgan_otsr\\results_kernels_DIV2K\\0599\\0599_kernel_x4.mat\n",
      "scale_factor:  [0.25, 0.25, 1]\n",
      "output_shape:  [43 64  3]\n",
      "im.shape:  (170, 255, 3)\n",
      "input_img.size():  torch.Size([3, 192, 255])\n",
      "resize2_img.size():  torch.Size([3, 48, 64])\n",
      "resize2_cut_img.size():  torch.Size([3, 48, 64])\n",
      "create_HrLr kernel_path:C:\\SaiVinay\\SproutsAI\\GitHub_\\ir_srgan_otsr\\results_kernels_DIV2K\\0600\\0600_kernel_x4.mat\n"
     ]
    },
    {
     "name": "stderr",
     "output_type": "stream",
     "text": [
      "Resizing images:  81%|████████▏ | 600/738 [02:14<00:29,  4.64it/s]"
     ]
    },
    {
     "name": "stdout",
     "output_type": "stream",
     "text": [
      "scale_factor:  [0.25, 0.25, 1]\n",
      "output_shape:  [48 64  3]\n",
      "im.shape:  (192, 255, 3)\n",
      "input_img.size():  torch.Size([3, 170, 255])\n",
      "resize2_img.size():  torch.Size([3, 43, 64])\n",
      "resize2_cut_img.size():  torch.Size([3, 40, 64])\n",
      "create_HrLr kernel_path:C:\\SaiVinay\\SproutsAI\\GitHub_\\ir_srgan_otsr\\results_kernels_DIV2K\\0601\\0601_kernel_x4.mat\n",
      "scale_factor:  [0.25, 0.25, 1]\n",
      "output_shape:  [43 64  3]\n",
      "im.shape:  (170, 255, 3)\n"
     ]
    },
    {
     "name": "stderr",
     "output_type": "stream",
     "text": [
      "Resizing images:  82%|████████▏ | 602/738 [02:14<00:28,  4.84it/s]"
     ]
    },
    {
     "name": "stdout",
     "output_type": "stream",
     "text": [
      "input_img.size():  torch.Size([3, 170, 255])\n",
      "resize2_img.size():  torch.Size([3, 43, 64])\n",
      "resize2_cut_img.size():  torch.Size([3, 40, 64])\n",
      "create_HrLr kernel_path:C:\\SaiVinay\\SproutsAI\\GitHub_\\ir_srgan_otsr\\results_kernels_DIV2K\\0602\\0602_kernel_x4.mat\n",
      "scale_factor:  [0.25, 0.25, 1]\n",
      "output_shape:  [43 64  3]\n",
      "im.shape:  (170, 255, 3)\n",
      "input_img.size():  torch.Size([3, 255, 170])\n",
      "resize2_img.size():  torch.Size([3, 64, 43])\n",
      "resize2_cut_img.size():  torch.Size([3, 64, 40])\n",
      "create_HrLr kernel_path:C:\\SaiVinay\\SproutsAI\\GitHub_\\ir_srgan_otsr\\results_kernels_DIV2K\\0603\\0603_kernel_x4.mat\n",
      "scale_factor:  [0.25, 0.25, 1]\n",
      "output_shape:  [64 43  3]\n",
      "im.shape:  (255, 170, 3)\n"
     ]
    },
    {
     "name": "stderr",
     "output_type": "stream",
     "text": [
      "Resizing images:  82%|████████▏ | 603/738 [02:14<00:28,  4.74it/s]"
     ]
    },
    {
     "name": "stdout",
     "output_type": "stream",
     "text": [
      "input_img.size():  torch.Size([3, 170, 255])\n",
      "resize2_img.size():  torch.Size([3, 43, 64])\n",
      "resize2_cut_img.size():  torch.Size([3, 40, 64])\n",
      "create_HrLr kernel_path:C:\\SaiVinay\\SproutsAI\\GitHub_\\ir_srgan_otsr\\results_kernels_DIV2K\\0604\\0604_kernel_x4.mat\n",
      "scale_factor:  [0.25, 0.25, 1]\n",
      "output_shape:  [43 64  3]\n",
      "im.shape:  (170, 255, 3)\n"
     ]
    },
    {
     "name": "stderr",
     "output_type": "stream",
     "text": [
      "Resizing images:  82%|████████▏ | 604/738 [02:15<00:28,  4.77it/s]"
     ]
    },
    {
     "name": "stdout",
     "output_type": "stream",
     "text": [
      "input_img.size():  torch.Size([3, 179, 255])\n",
      "resize2_img.size():  torch.Size([3, 45, 64])\n",
      "resize2_cut_img.size():  torch.Size([3, 44, 64])\n",
      "create_HrLr kernel_path:C:\\SaiVinay\\SproutsAI\\GitHub_\\ir_srgan_otsr\\results_kernels_DIV2K\\0605\\0605_kernel_x4.mat\n",
      "scale_factor:  [0.25, 0.25, 1]\n",
      "output_shape:  [45 64  3]\n",
      "im.shape:  (179, 255, 3)\n"
     ]
    },
    {
     "name": "stderr",
     "output_type": "stream",
     "text": [
      "Resizing images:  82%|████████▏ | 605/738 [02:15<00:28,  4.61it/s]"
     ]
    },
    {
     "name": "stdout",
     "output_type": "stream",
     "text": [
      "input_img.size():  torch.Size([3, 170, 255])\n",
      "resize2_img.size():  torch.Size([3, 43, 64])\n",
      "resize2_cut_img.size():  torch.Size([3, 40, 64])\n",
      "create_HrLr kernel_path:C:\\SaiVinay\\SproutsAI\\GitHub_\\ir_srgan_otsr\\results_kernels_DIV2K\\0606\\0606_kernel_x4.mat\n",
      "scale_factor:  [0.25, 0.25, 1]\n",
      "output_shape:  [43 64  3]\n",
      "im.shape:  (170, 255, 3)\n"
     ]
    },
    {
     "name": "stderr",
     "output_type": "stream",
     "text": [
      "Resizing images:  82%|████████▏ | 607/738 [02:15<00:27,  4.77it/s]"
     ]
    },
    {
     "name": "stdout",
     "output_type": "stream",
     "text": [
      "input_img.size():  torch.Size([3, 170, 255])\n",
      "resize2_img.size():  torch.Size([3, 43, 64])\n",
      "resize2_cut_img.size():  torch.Size([3, 40, 64])\n",
      "create_HrLr kernel_path:C:\\SaiVinay\\SproutsAI\\GitHub_\\ir_srgan_otsr\\results_kernels_DIV2K\\0607\\0607_kernel_x4.mat\n",
      "scale_factor:  [0.25, 0.25, 1]\n",
      "output_shape:  [43 64  3]\n",
      "im.shape:  (170, 255, 3)\n",
      "input_img.size():  torch.Size([3, 255, 170])\n",
      "resize2_img.size():  torch.Size([3, 64, 43])\n",
      "resize2_cut_img.size():  torch.Size([3, 64, 40])\n",
      "create_HrLr kernel_path:C:\\SaiVinay\\SproutsAI\\GitHub_\\ir_srgan_otsr\\results_kernels_DIV2K\\0608\\0608_kernel_x4.mat\n"
     ]
    },
    {
     "name": "stderr",
     "output_type": "stream",
     "text": [
      "Resizing images:  82%|████████▏ | 608/738 [02:16<00:27,  4.81it/s]"
     ]
    },
    {
     "name": "stdout",
     "output_type": "stream",
     "text": [
      "scale_factor:  [0.25, 0.25, 1]\n",
      "output_shape:  [64 43  3]\n",
      "im.shape:  (255, 170, 3)\n",
      "input_img.size():  torch.Size([3, 170, 255])\n",
      "resize2_img.size():  torch.Size([3, 43, 64])\n",
      "resize2_cut_img.size():  torch.Size([3, 40, 64])\n",
      "create_HrLr kernel_path:C:\\SaiVinay\\SproutsAI\\GitHub_\\ir_srgan_otsr\\results_kernels_DIV2K\\0609\\0609_kernel_x4.mat\n"
     ]
    },
    {
     "name": "stderr",
     "output_type": "stream",
     "text": [
      "Resizing images:  83%|████████▎ | 609/738 [02:16<00:27,  4.69it/s]"
     ]
    },
    {
     "name": "stdout",
     "output_type": "stream",
     "text": [
      "scale_factor:  [0.25, 0.25, 1]\n",
      "output_shape:  [43 64  3]\n",
      "im.shape:  (170, 255, 3)\n",
      "input_img.size():  torch.Size([3, 180, 255])\n",
      "resize2_img.size():  torch.Size([3, 45, 64])\n",
      "resize2_cut_img.size():  torch.Size([3, 44, 64])\n",
      "create_HrLr kernel_path:C:\\SaiVinay\\SproutsAI\\GitHub_\\ir_srgan_otsr\\results_kernels_DIV2K\\0610\\0610_kernel_x4.mat\n",
      "scale_factor:  [0.25, 0.25, 1]\n",
      "output_shape:  [45 64  3]\n",
      "im.shape:  (180, 255, 3)\n"
     ]
    },
    {
     "name": "stderr",
     "output_type": "stream",
     "text": [
      "Resizing images:  83%|████████▎ | 611/738 [02:16<00:25,  4.92it/s]"
     ]
    },
    {
     "name": "stdout",
     "output_type": "stream",
     "text": [
      "input_img.size():  torch.Size([3, 170, 255])\n",
      "resize2_img.size():  torch.Size([3, 43, 64])\n",
      "resize2_cut_img.size():  torch.Size([3, 40, 64])\n",
      "create_HrLr kernel_path:C:\\SaiVinay\\SproutsAI\\GitHub_\\ir_srgan_otsr\\results_kernels_DIV2K\\0611\\0611_kernel_x4.mat\n",
      "scale_factor:  [0.25, 0.25, 1]\n",
      "output_shape:  [43 64  3]\n",
      "im.shape:  (170, 255, 3)\n",
      "input_img.size():  torch.Size([3, 149, 255])\n",
      "resize2_img.size():  torch.Size([3, 38, 64])\n",
      "resize2_cut_img.size():  torch.Size([3, 36, 64])\n",
      "create_HrLr kernel_path:C:\\SaiVinay\\SproutsAI\\GitHub_\\ir_srgan_otsr\\results_kernels_DIV2K\\0612\\0612_kernel_x4.mat\n",
      "scale_factor:  [0.25, 0.25, 1]\n",
      "output_shape:  [38 64  3]\n",
      "im.shape:  (149, 255, 3)\n"
     ]
    },
    {
     "name": "stderr",
     "output_type": "stream",
     "text": [
      "Resizing images:  83%|████████▎ | 612/738 [02:16<00:25,  4.98it/s]"
     ]
    },
    {
     "name": "stdout",
     "output_type": "stream",
     "text": [
      "input_img.size():  torch.Size([3, 198, 255])\n",
      "resize2_img.size():  torch.Size([3, 50, 64])\n",
      "resize2_cut_img.size():  torch.Size([3, 48, 64])\n",
      "create_HrLr kernel_path:C:\\SaiVinay\\SproutsAI\\GitHub_\\ir_srgan_otsr\\results_kernels_DIV2K\\0613\\0613_kernel_x4.mat\n",
      "scale_factor:  [0.25, 0.25, 1]\n",
      "output_shape:  [50 64  3]\n",
      "im.shape:  (198, 255, 3)\n"
     ]
    },
    {
     "name": "stderr",
     "output_type": "stream",
     "text": [
      "Resizing images:  83%|████████▎ | 613/738 [02:17<00:26,  4.67it/s]"
     ]
    },
    {
     "name": "stdout",
     "output_type": "stream",
     "text": [
      "input_img.size():  torch.Size([3, 255, 170])\n",
      "resize2_img.size():  torch.Size([3, 64, 43])\n",
      "resize2_cut_img.size():  torch.Size([3, 64, 40])\n",
      "create_HrLr kernel_path:C:\\SaiVinay\\SproutsAI\\GitHub_\\ir_srgan_otsr\\results_kernels_DIV2K\\0614\\0614_kernel_x4.mat\n",
      "scale_factor:  [0.25, 0.25, 1]\n",
      "output_shape:  [64 43  3]\n",
      "im.shape:  (255, 170, 3)\n"
     ]
    },
    {
     "name": "stderr",
     "output_type": "stream",
     "text": [
      "Resizing images:  83%|████████▎ | 614/738 [02:17<00:27,  4.47it/s]"
     ]
    },
    {
     "name": "stdout",
     "output_type": "stream",
     "text": [
      "input_img.size():  torch.Size([3, 255, 170])\n",
      "resize2_img.size():  torch.Size([3, 64, 43])\n",
      "resize2_cut_img.size():  torch.Size([3, 64, 40])\n",
      "create_HrLr kernel_path:C:\\SaiVinay\\SproutsAI\\GitHub_\\ir_srgan_otsr\\results_kernels_DIV2K\\0615\\0615_kernel_x4.mat\n",
      "scale_factor:  [0.25, 0.25, 1]\n",
      "output_shape:  [64 43  3]\n",
      "im.shape:  (255, 170, 3)\n"
     ]
    },
    {
     "name": "stderr",
     "output_type": "stream",
     "text": [
      "Resizing images:  83%|████████▎ | 615/738 [02:17<00:27,  4.46it/s]"
     ]
    },
    {
     "name": "stdout",
     "output_type": "stream",
     "text": [
      "input_img.size():  torch.Size([3, 171, 255])\n",
      "resize2_img.size():  torch.Size([3, 43, 64])\n",
      "resize2_cut_img.size():  torch.Size([3, 40, 64])\n",
      "create_HrLr kernel_path:C:\\SaiVinay\\SproutsAI\\GitHub_\\ir_srgan_otsr\\results_kernels_DIV2K\\0616\\0616_kernel_x4.mat\n",
      "scale_factor:  [0.25, 0.25, 1]\n",
      "output_shape:  [43 64  3]\n",
      "im.shape:  (171, 255, 3)\n"
     ]
    },
    {
     "name": "stderr",
     "output_type": "stream",
     "text": [
      "Resizing images:  83%|████████▎ | 616/738 [02:17<00:26,  4.54it/s]"
     ]
    },
    {
     "name": "stdout",
     "output_type": "stream",
     "text": [
      "input_img.size():  torch.Size([3, 170, 255])\n",
      "resize2_img.size():  torch.Size([3, 43, 64])\n",
      "resize2_cut_img.size():  torch.Size([3, 40, 64])\n",
      "create_HrLr kernel_path:C:\\SaiVinay\\SproutsAI\\GitHub_\\ir_srgan_otsr\\results_kernels_DIV2K\\0617\\0617_kernel_x4.mat\n",
      "scale_factor:  [0.25, 0.25, 1]\n",
      "output_shape:  [43 64  3]\n",
      "im.shape:  (170, 255, 3)\n"
     ]
    },
    {
     "name": "stderr",
     "output_type": "stream",
     "text": [
      "Resizing images:  84%|████████▎ | 617/738 [02:17<00:26,  4.53it/s]"
     ]
    },
    {
     "name": "stdout",
     "output_type": "stream",
     "text": [
      "input_img.size():  torch.Size([3, 170, 255])\n",
      "resize2_img.size():  torch.Size([3, 43, 64])\n",
      "resize2_cut_img.size():  torch.Size([3, 40, 64])\n",
      "create_HrLr kernel_path:C:\\SaiVinay\\SproutsAI\\GitHub_\\ir_srgan_otsr\\results_kernels_DIV2K\\0618\\0618_kernel_x4.mat\n",
      "scale_factor:  [0.25, 0.25, 1]\n",
      "output_shape:  [43 64  3]\n",
      "im.shape:  (170, 255, 3)\n"
     ]
    },
    {
     "name": "stderr",
     "output_type": "stream",
     "text": [
      "Resizing images:  84%|████████▎ | 618/738 [02:18<00:27,  4.33it/s]"
     ]
    },
    {
     "name": "stdout",
     "output_type": "stream",
     "text": [
      "input_img.size():  torch.Size([3, 191, 255])\n",
      "resize2_img.size():  torch.Size([3, 48, 64])\n",
      "resize2_cut_img.size():  torch.Size([3, 48, 64])\n",
      "create_HrLr kernel_path:C:\\SaiVinay\\SproutsAI\\GitHub_\\ir_srgan_otsr\\results_kernels_DIV2K\\0619\\0619_kernel_x4.mat\n",
      "scale_factor:  [0.25, 0.25, 1]\n",
      "output_shape:  [48 64  3]\n",
      "im.shape:  (191, 255, 3)\n"
     ]
    },
    {
     "name": "stderr",
     "output_type": "stream",
     "text": [
      "Resizing images:  84%|████████▍ | 619/738 [02:18<00:27,  4.26it/s]"
     ]
    },
    {
     "name": "stdout",
     "output_type": "stream",
     "text": [
      "input_img.size():  torch.Size([3, 170, 255])\n",
      "resize2_img.size():  torch.Size([3, 43, 64])\n",
      "resize2_cut_img.size():  torch.Size([3, 40, 64])\n",
      "create_HrLr kernel_path:C:\\SaiVinay\\SproutsAI\\GitHub_\\ir_srgan_otsr\\results_kernels_DIV2K\\0620\\0620_kernel_x4.mat\n",
      "scale_factor:  [0.25, 0.25, 1]\n",
      "output_shape:  [43 64  3]\n",
      "im.shape:  (170, 255, 3)\n"
     ]
    },
    {
     "name": "stderr",
     "output_type": "stream",
     "text": [
      "Resizing images:  84%|████████▍ | 620/738 [02:18<00:26,  4.42it/s]"
     ]
    },
    {
     "name": "stdout",
     "output_type": "stream",
     "text": [
      "input_img.size():  torch.Size([3, 170, 255])\n",
      "resize2_img.size():  torch.Size([3, 43, 64])\n",
      "resize2_cut_img.size():  torch.Size([3, 40, 64])\n",
      "create_HrLr kernel_path:C:\\SaiVinay\\SproutsAI\\GitHub_\\ir_srgan_otsr\\results_kernels_DIV2K\\0621\\0621_kernel_x4.mat\n",
      "scale_factor:  [0.25, 0.25, 1]\n",
      "output_shape:  [43 64  3]\n",
      "im.shape:  (170, 255, 3)\n"
     ]
    },
    {
     "name": "stderr",
     "output_type": "stream",
     "text": [
      "Resizing images:  84%|████████▍ | 622/738 [02:19<00:25,  4.56it/s]"
     ]
    },
    {
     "name": "stdout",
     "output_type": "stream",
     "text": [
      "input_img.size():  torch.Size([3, 182, 255])\n",
      "resize2_img.size():  torch.Size([3, 46, 64])\n",
      "resize2_cut_img.size():  torch.Size([3, 44, 64])\n",
      "create_HrLr kernel_path:C:\\SaiVinay\\SproutsAI\\GitHub_\\ir_srgan_otsr\\results_kernels_DIV2K\\0622\\0622_kernel_x4.mat\n",
      "scale_factor:  [0.25, 0.25, 1]\n",
      "output_shape:  [46 64  3]\n",
      "im.shape:  (182, 255, 3)\n",
      "input_img.size():  torch.Size([3, 170, 255])\n",
      "resize2_img.size():  torch.Size([3, 43, 64])\n",
      "resize2_cut_img.size():  torch.Size([3, 40, 64])\n",
      "create_HrLr kernel_path:C:\\SaiVinay\\SproutsAI\\GitHub_\\ir_srgan_otsr\\results_kernels_DIV2K\\0623\\0623_kernel_x4.mat\n",
      "scale_factor:  [0.25, 0.25, 1]\n",
      "output_shape:  [43 64  3]\n",
      "im.shape:  (170, 255, 3)\n"
     ]
    },
    {
     "name": "stderr",
     "output_type": "stream",
     "text": [
      "Resizing images:  85%|████████▍ | 624/738 [02:19<00:23,  4.80it/s]"
     ]
    },
    {
     "name": "stdout",
     "output_type": "stream",
     "text": [
      "input_img.size():  torch.Size([3, 255, 170])\n",
      "resize2_img.size():  torch.Size([3, 64, 43])\n",
      "resize2_cut_img.size():  torch.Size([3, 64, 40])\n",
      "create_HrLr kernel_path:C:\\SaiVinay\\SproutsAI\\GitHub_\\ir_srgan_otsr\\results_kernels_DIV2K\\0624\\0624_kernel_x4.mat\n",
      "scale_factor:  [0.25, 0.25, 1]\n",
      "output_shape:  [64 43  3]\n",
      "im.shape:  (255, 170, 3)\n"
     ]
    },
    {
     "name": "stderr",
     "output_type": "stream",
     "text": [
      "Resizing images:  85%|████████▍ | 625/738 [02:19<00:22,  5.04it/s]"
     ]
    },
    {
     "name": "stdout",
     "output_type": "stream",
     "text": [
      "input_img.size():  torch.Size([3, 255, 170])\n",
      "resize2_img.size():  torch.Size([3, 64, 43])\n",
      "resize2_cut_img.size():  torch.Size([3, 64, 40])\n",
      "create_HrLr kernel_path:C:\\SaiVinay\\SproutsAI\\GitHub_\\ir_srgan_otsr\\results_kernels_DIV2K\\0625\\0625_kernel_x4.mat\n",
      "scale_factor:  [0.25, 0.25, 1]\n",
      "output_shape:  [64 43  3]\n",
      "im.shape:  (255, 170, 3)\n",
      "input_img.size():  torch.Size([3, 170, 255])\n",
      "resize2_img.size():  torch.Size([3, 43, 64])\n",
      "resize2_cut_img.size():  torch.Size([3, 40, 64])\n",
      "create_HrLr kernel_path:C:\\SaiVinay\\SproutsAI\\GitHub_\\ir_srgan_otsr\\results_kernels_DIV2K\\0626\\0626_kernel_x4.mat\n"
     ]
    },
    {
     "name": "stderr",
     "output_type": "stream",
     "text": [
      "Resizing images:  85%|████████▍ | 626/738 [02:19<00:23,  4.85it/s]"
     ]
    },
    {
     "name": "stdout",
     "output_type": "stream",
     "text": [
      "scale_factor:  [0.25, 0.25, 1]\n",
      "output_shape:  [43 64  3]\n",
      "im.shape:  (170, 255, 3)\n",
      "input_img.size():  torch.Size([3, 108, 255])\n",
      "resize2_img.size():  torch.Size([3, 27, 64])\n",
      "resize2_cut_img.size():  torch.Size([3, 24, 64])\n",
      "create_HrLr kernel_path:C:\\SaiVinay\\SproutsAI\\GitHub_\\ir_srgan_otsr\\results_kernels_DIV2K\\0627\\0627_kernel_x4.mat\n",
      "scale_factor:  [0.25, 0.25, 1]\n",
      "output_shape:  [27 64  3]\n",
      "im.shape:  (108, 255, 3)\n"
     ]
    },
    {
     "name": "stderr",
     "output_type": "stream",
     "text": [
      "Resizing images:  85%|████████▍ | 627/738 [02:20<00:21,  5.23it/s]"
     ]
    },
    {
     "name": "stdout",
     "output_type": "stream",
     "text": [
      "input_img.size():  torch.Size([3, 255, 204])\n",
      "resize2_img.size():  torch.Size([3, 64, 51])\n",
      "resize2_cut_img.size():  torch.Size([3, 64, 48])\n",
      "create_HrLr kernel_path:C:\\SaiVinay\\SproutsAI\\GitHub_\\ir_srgan_otsr\\results_kernels_DIV2K\\0628\\0628_kernel_x4.mat\n",
      "scale_factor:  [0.25, 0.25, 1]\n",
      "output_shape:  [64 51  3]\n",
      "im.shape:  (255, 204, 3)\n"
     ]
    },
    {
     "name": "stderr",
     "output_type": "stream",
     "text": [
      "Resizing images:  85%|████████▌ | 628/738 [02:20<00:23,  4.72it/s]"
     ]
    },
    {
     "name": "stdout",
     "output_type": "stream",
     "text": [
      "input_img.size():  torch.Size([3, 183, 255])\n",
      "resize2_img.size():  torch.Size([3, 46, 64])\n",
      "resize2_cut_img.size():  torch.Size([3, 44, 64])\n",
      "create_HrLr kernel_path:C:\\SaiVinay\\SproutsAI\\GitHub_\\ir_srgan_otsr\\results_kernels_DIV2K\\0629\\0629_kernel_x4.mat\n",
      "scale_factor:  [0.25, 0.25, 1]\n",
      "output_shape:  [46 64  3]\n",
      "im.shape:  (183, 255, 3)\n"
     ]
    },
    {
     "name": "stderr",
     "output_type": "stream",
     "text": [
      "Resizing images:  85%|████████▌ | 629/738 [02:20<00:24,  4.53it/s]"
     ]
    },
    {
     "name": "stdout",
     "output_type": "stream",
     "text": [
      "input_img.size():  torch.Size([3, 170, 255])\n",
      "resize2_img.size():  torch.Size([3, 43, 64])\n",
      "resize2_cut_img.size():  torch.Size([3, 40, 64])\n",
      "create_HrLr kernel_path:C:\\SaiVinay\\SproutsAI\\GitHub_\\ir_srgan_otsr\\results_kernels_DIV2K\\0630\\0630_kernel_x4.mat\n",
      "scale_factor:  [0.25, 0.25, 1]\n",
      "output_shape:  [43 64  3]\n",
      "im.shape:  (170, 255, 3)\n"
     ]
    },
    {
     "name": "stderr",
     "output_type": "stream",
     "text": [
      "Resizing images:  86%|████████▌ | 631/738 [02:20<00:22,  4.68it/s]"
     ]
    },
    {
     "name": "stdout",
     "output_type": "stream",
     "text": [
      "input_img.size():  torch.Size([3, 170, 255])\n",
      "resize2_img.size():  torch.Size([3, 43, 64])\n",
      "resize2_cut_img.size():  torch.Size([3, 40, 64])\n",
      "create_HrLr kernel_path:C:\\SaiVinay\\SproutsAI\\GitHub_\\ir_srgan_otsr\\results_kernels_DIV2K\\0631\\0631_kernel_x4.mat\n",
      "scale_factor:  [0.25, 0.25, 1]\n",
      "output_shape:  [43 64  3]\n",
      "im.shape:  (170, 255, 3)\n",
      "input_img.size():  torch.Size([3, 170, 255])\n",
      "resize2_img.size():  torch.Size([3, 43, 64])\n",
      "resize2_cut_img.size():  torch.Size([3, 40, 64])\n",
      "create_HrLr kernel_path:C:\\SaiVinay\\SproutsAI\\GitHub_\\ir_srgan_otsr\\results_kernels_DIV2K\\0632\\0632_kernel_x4.mat\n",
      "scale_factor:  [0.25, 0.25, 1]\n",
      "output_shape:  [43 64  3]\n",
      "im.shape:  (170, 255, 3)\n"
     ]
    },
    {
     "name": "stderr",
     "output_type": "stream",
     "text": [
      "Resizing images:  86%|████████▌ | 633/738 [02:21<00:22,  4.65it/s]"
     ]
    },
    {
     "name": "stdout",
     "output_type": "stream",
     "text": [
      "input_img.size():  torch.Size([3, 170, 255])\n",
      "resize2_img.size():  torch.Size([3, 43, 64])\n",
      "resize2_cut_img.size():  torch.Size([3, 40, 64])\n",
      "create_HrLr kernel_path:C:\\SaiVinay\\SproutsAI\\GitHub_\\ir_srgan_otsr\\results_kernels_DIV2K\\0633\\0633_kernel_x4.mat\n",
      "scale_factor:  [0.25, 0.25, 1]\n",
      "output_shape:  [43 64  3]\n",
      "im.shape:  (170, 255, 3)\n",
      "input_img.size():  torch.Size([3, 170, 255])\n",
      "resize2_img.size():  torch.Size([3, 43, 64])\n",
      "resize2_cut_img.size():  torch.Size([3, 40, 64])\n",
      "create_HrLr kernel_path:C:\\SaiVinay\\SproutsAI\\GitHub_\\ir_srgan_otsr\\results_kernels_DIV2K\\0634\\0634_kernel_x4.mat\n",
      "scale_factor:  [0.25, 0.25, 1]\n",
      "output_shape:  [43 64  3]\n",
      "im.shape:  (170, 255, 3)\n"
     ]
    },
    {
     "name": "stderr",
     "output_type": "stream",
     "text": [
      "Resizing images:  86%|████████▌ | 634/738 [02:21<00:22,  4.68it/s]"
     ]
    },
    {
     "name": "stdout",
     "output_type": "stream",
     "text": [
      "input_img.size():  torch.Size([3, 171, 255])\n",
      "resize2_img.size():  torch.Size([3, 43, 64])\n",
      "resize2_cut_img.size():  torch.Size([3, 40, 64])\n",
      "create_HrLr kernel_path:C:\\SaiVinay\\SproutsAI\\GitHub_\\ir_srgan_otsr\\results_kernels_DIV2K\\0635\\0635_kernel_x4.mat\n",
      "scale_factor:  [0.25, 0.25, 1]\n",
      "output_shape:  [43 64  3]\n",
      "im.shape:  (171, 255, 3)\n"
     ]
    },
    {
     "name": "stderr",
     "output_type": "stream",
     "text": [
      "Resizing images:  86%|████████▌ | 636/738 [02:22<00:21,  4.82it/s]"
     ]
    },
    {
     "name": "stdout",
     "output_type": "stream",
     "text": [
      "input_img.size():  torch.Size([3, 170, 255])\n",
      "resize2_img.size():  torch.Size([3, 43, 64])\n",
      "resize2_cut_img.size():  torch.Size([3, 40, 64])\n",
      "create_HrLr kernel_path:C:\\SaiVinay\\SproutsAI\\GitHub_\\ir_srgan_otsr\\results_kernels_DIV2K\\0636\\0636_kernel_x4.mat\n",
      "scale_factor:  [0.25, 0.25, 1]\n",
      "output_shape:  [43 64  3]\n",
      "im.shape:  (170, 255, 3)\n",
      "input_img.size():  torch.Size([3, 192, 255])\n",
      "resize2_img.size():  torch.Size([3, 48, 64])\n",
      "resize2_cut_img.size():  torch.Size([3, 48, 64])\n",
      "create_HrLr kernel_path:C:\\SaiVinay\\SproutsAI\\GitHub_\\ir_srgan_otsr\\results_kernels_DIV2K\\0637\\0637_kernel_x4.mat\n",
      "scale_factor:  [0.25, 0.25, 1]\n",
      "output_shape:  [48 64  3]\n",
      "im.shape:  (192, 255, 3)\n"
     ]
    },
    {
     "name": "stderr",
     "output_type": "stream",
     "text": [
      "Resizing images:  86%|████████▋ | 638/738 [02:22<00:21,  4.62it/s]"
     ]
    },
    {
     "name": "stdout",
     "output_type": "stream",
     "text": [
      "input_img.size():  torch.Size([3, 170, 255])\n",
      "resize2_img.size():  torch.Size([3, 43, 64])\n",
      "resize2_cut_img.size():  torch.Size([3, 40, 64])\n",
      "create_HrLr kernel_path:C:\\SaiVinay\\SproutsAI\\GitHub_\\ir_srgan_otsr\\results_kernels_DIV2K\\0638\\0638_kernel_x4.mat\n",
      "scale_factor:  [0.25, 0.25, 1]\n",
      "output_shape:  [43 64  3]\n",
      "im.shape:  (170, 255, 3)\n",
      "input_img.size():  torch.Size([3, 170, 255])\n",
      "resize2_img.size():  torch.Size([3, 43, 64])\n",
      "resize2_cut_img.size():  torch.Size([3, 40, 64])\n",
      "create_HrLr kernel_path:C:\\SaiVinay\\SproutsAI\\GitHub_\\ir_srgan_otsr\\results_kernels_DIV2K\\0639\\0639_kernel_x4.mat\n",
      "scale_factor:  [0.25, 0.25, 1]\n",
      "output_shape:  [43 64  3]\n",
      "im.shape:  (170, 255, 3)\n"
     ]
    },
    {
     "name": "stderr",
     "output_type": "stream",
     "text": [
      "Resizing images:  87%|████████▋ | 639/738 [02:22<00:21,  4.69it/s]"
     ]
    },
    {
     "name": "stdout",
     "output_type": "stream",
     "text": [
      "input_img.size():  torch.Size([3, 170, 255])\n",
      "resize2_img.size():  torch.Size([3, 43, 64])\n",
      "resize2_cut_img.size():  torch.Size([3, 40, 64])\n",
      "create_HrLr kernel_path:C:\\SaiVinay\\SproutsAI\\GitHub_\\ir_srgan_otsr\\results_kernels_DIV2K\\0640\\0640_kernel_x4.mat\n",
      "scale_factor:  [0.25, 0.25, 1]\n",
      "output_shape:  [43 64  3]\n",
      "im.shape:  (170, 255, 3)\n"
     ]
    },
    {
     "name": "stderr",
     "output_type": "stream",
     "text": [
      "Resizing images:  87%|████████▋ | 640/738 [02:22<00:20,  4.69it/s]"
     ]
    },
    {
     "name": "stdout",
     "output_type": "stream",
     "text": [
      "input_img.size():  torch.Size([3, 170, 255])\n",
      "resize2_img.size():  torch.Size([3, 43, 64])\n",
      "resize2_cut_img.size():  torch.Size([3, 40, 64])\n",
      "create_HrLr kernel_path:C:\\SaiVinay\\SproutsAI\\GitHub_\\ir_srgan_otsr\\results_kernels_DIV2K\\0641\\0641_kernel_x4.mat\n",
      "scale_factor:  [0.25, 0.25, 1]\n",
      "output_shape:  [43 64  3]\n",
      "im.shape:  (170, 255, 3)\n"
     ]
    },
    {
     "name": "stderr",
     "output_type": "stream",
     "text": [
      "Resizing images:  87%|████████▋ | 641/738 [02:23<00:21,  4.55it/s]"
     ]
    },
    {
     "name": "stdout",
     "output_type": "stream",
     "text": [
      "input_img.size():  torch.Size([3, 170, 255])\n",
      "resize2_img.size():  torch.Size([3, 43, 64])\n",
      "resize2_cut_img.size():  torch.Size([3, 40, 64])\n",
      "create_HrLr kernel_path:C:\\SaiVinay\\SproutsAI\\GitHub_\\ir_srgan_otsr\\results_kernels_DIV2K\\0642\\0642_kernel_x4.mat\n",
      "scale_factor:  [0.25, 0.25, 1]\n",
      "output_shape:  [43 64  3]\n",
      "im.shape:  (170, 255, 3)\n"
     ]
    },
    {
     "name": "stderr",
     "output_type": "stream",
     "text": [
      "Resizing images:  87%|████████▋ | 642/738 [02:23<00:20,  4.69it/s]"
     ]
    },
    {
     "name": "stdout",
     "output_type": "stream",
     "text": [
      "input_img.size():  torch.Size([3, 192, 255])\n",
      "resize2_img.size():  torch.Size([3, 48, 64])\n",
      "resize2_cut_img.size():  torch.Size([3, 48, 64])\n",
      "create_HrLr kernel_path:C:\\SaiVinay\\SproutsAI\\GitHub_\\ir_srgan_otsr\\results_kernels_DIV2K\\0643\\0643_kernel_x4.mat\n",
      "scale_factor:  [0.25, 0.25, 1]\n",
      "output_shape:  [48 64  3]\n",
      "im.shape:  (192, 255, 3)\n"
     ]
    },
    {
     "name": "stderr",
     "output_type": "stream",
     "text": [
      "Resizing images:  87%|████████▋ | 643/738 [02:23<00:21,  4.46it/s]"
     ]
    },
    {
     "name": "stdout",
     "output_type": "stream",
     "text": [
      "input_img.size():  torch.Size([3, 170, 255])\n",
      "resize2_img.size():  torch.Size([3, 43, 64])\n",
      "resize2_cut_img.size():  torch.Size([3, 40, 64])\n",
      "create_HrLr kernel_path:C:\\SaiVinay\\SproutsAI\\GitHub_\\ir_srgan_otsr\\results_kernels_DIV2K\\0644\\0644_kernel_x4.mat\n",
      "scale_factor:  [0.25, 0.25, 1]\n",
      "output_shape:  [43 64  3]\n",
      "im.shape:  (170, 255, 3)\n"
     ]
    },
    {
     "name": "stderr",
     "output_type": "stream",
     "text": [
      "Resizing images:  87%|████████▋ | 644/738 [02:23<00:21,  4.46it/s]"
     ]
    },
    {
     "name": "stdout",
     "output_type": "stream",
     "text": [
      "input_img.size():  torch.Size([3, 170, 255])\n",
      "resize2_img.size():  torch.Size([3, 43, 64])\n",
      "resize2_cut_img.size():  torch.Size([3, 40, 64])\n",
      "create_HrLr kernel_path:C:\\SaiVinay\\SproutsAI\\GitHub_\\ir_srgan_otsr\\results_kernels_DIV2K\\0645\\0645_kernel_x4.mat\n",
      "scale_factor:  [0.25, 0.25, 1]\n",
      "output_shape:  [43 64  3]\n",
      "im.shape:  (170, 255, 3)\n"
     ]
    },
    {
     "name": "stderr",
     "output_type": "stream",
     "text": [
      "Resizing images:  87%|████████▋ | 645/738 [02:24<00:22,  4.11it/s]"
     ]
    },
    {
     "name": "stdout",
     "output_type": "stream",
     "text": [
      "input_img.size():  torch.Size([3, 185, 255])\n",
      "resize2_img.size():  torch.Size([3, 47, 64])\n",
      "resize2_cut_img.size():  torch.Size([3, 44, 64])\n",
      "create_HrLr kernel_path:C:\\SaiVinay\\SproutsAI\\GitHub_\\ir_srgan_otsr\\results_kernels_DIV2K\\0646\\0646_kernel_x4.mat\n",
      "scale_factor:  [0.25, 0.25, 1]\n",
      "output_shape:  [47 64  3]\n",
      "im.shape:  (185, 255, 3)\n"
     ]
    },
    {
     "name": "stderr",
     "output_type": "stream",
     "text": [
      "Resizing images:  88%|████████▊ | 646/738 [02:24<00:22,  4.05it/s]"
     ]
    },
    {
     "name": "stdout",
     "output_type": "stream",
     "text": [
      "input_img.size():  torch.Size([3, 170, 255])\n",
      "resize2_img.size():  torch.Size([3, 43, 64])\n",
      "resize2_cut_img.size():  torch.Size([3, 40, 64])\n",
      "create_HrLr kernel_path:C:\\SaiVinay\\SproutsAI\\GitHub_\\ir_srgan_otsr\\results_kernels_DIV2K\\0647\\0647_kernel_x4.mat\n",
      "scale_factor:  [0.25, 0.25, 1]\n",
      "output_shape:  [43 64  3]\n",
      "im.shape:  (170, 255, 3)\n"
     ]
    },
    {
     "name": "stderr",
     "output_type": "stream",
     "text": [
      "Resizing images:  88%|████████▊ | 647/738 [02:24<00:21,  4.20it/s]"
     ]
    },
    {
     "name": "stdout",
     "output_type": "stream",
     "text": [
      "input_img.size():  torch.Size([3, 170, 255])\n",
      "resize2_img.size():  torch.Size([3, 43, 64])\n",
      "resize2_cut_img.size():  torch.Size([3, 40, 64])\n",
      "create_HrLr kernel_path:C:\\SaiVinay\\SproutsAI\\GitHub_\\ir_srgan_otsr\\results_kernels_DIV2K\\0648\\0648_kernel_x4.mat\n",
      "scale_factor:  [0.25, 0.25, 1]\n",
      "output_shape:  [43 64  3]\n",
      "im.shape:  (170, 255, 3)\n"
     ]
    },
    {
     "name": "stderr",
     "output_type": "stream",
     "text": [
      "Resizing images:  88%|████████▊ | 648/738 [02:24<00:22,  4.07it/s]"
     ]
    },
    {
     "name": "stdout",
     "output_type": "stream",
     "text": [
      "input_img.size():  torch.Size([3, 192, 255])\n",
      "resize2_img.size():  torch.Size([3, 48, 64])\n",
      "resize2_cut_img.size():  torch.Size([3, 48, 64])\n",
      "create_HrLr kernel_path:C:\\SaiVinay\\SproutsAI\\GitHub_\\ir_srgan_otsr\\results_kernels_DIV2K\\0649\\0649_kernel_x4.mat\n",
      "scale_factor:  [0.25, 0.25, 1]\n",
      "output_shape:  [48 64  3]\n",
      "im.shape:  (192, 255, 3)\n"
     ]
    },
    {
     "name": "stderr",
     "output_type": "stream",
     "text": [
      "Resizing images:  88%|████████▊ | 649/738 [02:25<00:21,  4.11it/s]"
     ]
    },
    {
     "name": "stdout",
     "output_type": "stream",
     "text": [
      "input_img.size():  torch.Size([3, 182, 255])\n",
      "resize2_img.size():  torch.Size([3, 46, 64])\n",
      "resize2_cut_img.size():  torch.Size([3, 44, 64])\n",
      "create_HrLr kernel_path:C:\\SaiVinay\\SproutsAI\\GitHub_\\ir_srgan_otsr\\results_kernels_DIV2K\\0650\\0650_kernel_x4.mat\n",
      "scale_factor:  [0.25, 0.25, 1]\n",
      "output_shape:  [46 64  3]\n",
      "im.shape:  (182, 255, 3)\n"
     ]
    },
    {
     "name": "stderr",
     "output_type": "stream",
     "text": [
      "Resizing images:  88%|████████▊ | 650/738 [02:25<00:21,  4.05it/s]"
     ]
    },
    {
     "name": "stdout",
     "output_type": "stream",
     "text": [
      "input_img.size():  torch.Size([3, 153, 255])\n",
      "resize2_img.size():  torch.Size([3, 39, 64])\n",
      "resize2_cut_img.size():  torch.Size([3, 36, 64])\n",
      "create_HrLr kernel_path:C:\\SaiVinay\\SproutsAI\\GitHub_\\ir_srgan_otsr\\results_kernels_DIV2K\\0651\\0651_kernel_x4.mat\n",
      "scale_factor:  [0.25, 0.25, 1]\n",
      "output_shape:  [39 64  3]\n",
      "im.shape:  (153, 255, 3)\n"
     ]
    },
    {
     "name": "stderr",
     "output_type": "stream",
     "text": [
      "Resizing images:  88%|████████▊ | 651/738 [02:25<00:20,  4.22it/s]"
     ]
    },
    {
     "name": "stdout",
     "output_type": "stream",
     "text": [
      "input_img.size():  torch.Size([3, 170, 255])\n",
      "resize2_img.size():  torch.Size([3, 43, 64])\n",
      "resize2_cut_img.size():  torch.Size([3, 40, 64])\n",
      "create_HrLr kernel_path:C:\\SaiVinay\\SproutsAI\\GitHub_\\ir_srgan_otsr\\results_kernels_DIV2K\\0652\\0652_kernel_x4.mat\n",
      "scale_factor:  [0.25, 0.25, 1]\n",
      "output_shape:  [43 64  3]\n",
      "im.shape:  (170, 255, 3)\n"
     ]
    },
    {
     "name": "stderr",
     "output_type": "stream",
     "text": [
      "Resizing images:  88%|████████▊ | 652/738 [02:25<00:20,  4.28it/s]"
     ]
    },
    {
     "name": "stdout",
     "output_type": "stream",
     "text": [
      "input_img.size():  torch.Size([3, 198, 255])\n",
      "resize2_img.size():  torch.Size([3, 50, 64])\n",
      "resize2_cut_img.size():  torch.Size([3, 48, 64])\n",
      "create_HrLr kernel_path:C:\\SaiVinay\\SproutsAI\\GitHub_\\ir_srgan_otsr\\results_kernels_DIV2K\\0653\\0653_kernel_x4.mat\n",
      "scale_factor:  [0.25, 0.25, 1]\n",
      "output_shape:  [50 64  3]\n",
      "im.shape:  (198, 255, 3)\n"
     ]
    },
    {
     "name": "stderr",
     "output_type": "stream",
     "text": [
      "Resizing images:  88%|████████▊ | 653/738 [02:26<00:20,  4.09it/s]"
     ]
    },
    {
     "name": "stdout",
     "output_type": "stream",
     "text": [
      "input_img.size():  torch.Size([3, 168, 255])\n",
      "resize2_img.size():  torch.Size([3, 42, 64])\n",
      "resize2_cut_img.size():  torch.Size([3, 40, 64])\n",
      "create_HrLr kernel_path:C:\\SaiVinay\\SproutsAI\\GitHub_\\ir_srgan_otsr\\results_kernels_DIV2K\\0654\\0654_kernel_x4.mat\n",
      "scale_factor:  [0.25, 0.25, 1]\n",
      "output_shape:  [42 64  3]\n",
      "im.shape:  (168, 255, 3)\n"
     ]
    },
    {
     "name": "stderr",
     "output_type": "stream",
     "text": [
      "Resizing images:  89%|████████▊ | 654/738 [02:26<00:19,  4.22it/s]"
     ]
    },
    {
     "name": "stdout",
     "output_type": "stream",
     "text": [
      "input_img.size():  torch.Size([3, 170, 255])\n",
      "resize2_img.size():  torch.Size([3, 43, 64])\n",
      "resize2_cut_img.size():  torch.Size([3, 40, 64])\n",
      "create_HrLr kernel_path:C:\\SaiVinay\\SproutsAI\\GitHub_\\ir_srgan_otsr\\results_kernels_DIV2K\\0655\\0655_kernel_x4.mat\n",
      "scale_factor:  [0.25, 0.25, 1]\n",
      "output_shape:  [43 64  3]\n",
      "im.shape:  (170, 255, 3)\n"
     ]
    },
    {
     "name": "stderr",
     "output_type": "stream",
     "text": [
      "Resizing images:  89%|████████▉ | 656/738 [02:26<00:18,  4.46it/s]"
     ]
    },
    {
     "name": "stdout",
     "output_type": "stream",
     "text": [
      "input_img.size():  torch.Size([3, 165, 255])\n",
      "resize2_img.size():  torch.Size([3, 42, 64])\n",
      "resize2_cut_img.size():  torch.Size([3, 40, 64])\n",
      "create_HrLr kernel_path:C:\\SaiVinay\\SproutsAI\\GitHub_\\ir_srgan_otsr\\results_kernels_DIV2K\\0656\\0656_kernel_x4.mat\n",
      "scale_factor:  [0.25, 0.25, 1]\n",
      "output_shape:  [42 64  3]\n",
      "im.shape:  (165, 255, 3)\n",
      "input_img.size():  torch.Size([3, 192, 255])\n",
      "resize2_img.size():  torch.Size([3, 48, 64])\n",
      "resize2_cut_img.size():  torch.Size([3, 48, 64])\n",
      "create_HrLr kernel_path:C:\\SaiVinay\\SproutsAI\\GitHub_\\ir_srgan_otsr\\results_kernels_DIV2K\\0657\\0657_kernel_x4.mat\n",
      "scale_factor:  [0.25, 0.25, 1]\n",
      "output_shape:  [48 64  3]\n",
      "im.shape:  (192, 255, 3)\n"
     ]
    },
    {
     "name": "stderr",
     "output_type": "stream",
     "text": [
      "Resizing images:  89%|████████▉ | 657/738 [02:26<00:18,  4.42it/s]"
     ]
    },
    {
     "name": "stdout",
     "output_type": "stream",
     "text": [
      "input_img.size():  torch.Size([3, 170, 255])\n",
      "resize2_img.size():  torch.Size([3, 43, 64])\n",
      "resize2_cut_img.size():  torch.Size([3, 40, 64])\n",
      "create_HrLr kernel_path:C:\\SaiVinay\\SproutsAI\\GitHub_\\ir_srgan_otsr\\results_kernels_DIV2K\\0658\\0658_kernel_x4.mat\n",
      "scale_factor:  [0.25, 0.25, 1]\n",
      "output_shape:  [43 64  3]\n",
      "im.shape:  (170, 255, 3)\n"
     ]
    },
    {
     "name": "stderr",
     "output_type": "stream",
     "text": [
      "Resizing images:  89%|████████▉ | 659/738 [02:27<00:18,  4.30it/s]"
     ]
    },
    {
     "name": "stdout",
     "output_type": "stream",
     "text": [
      "input_img.size():  torch.Size([3, 170, 255])\n",
      "resize2_img.size():  torch.Size([3, 43, 64])\n",
      "resize2_cut_img.size():  torch.Size([3, 40, 64])\n",
      "create_HrLr kernel_path:C:\\SaiVinay\\SproutsAI\\GitHub_\\ir_srgan_otsr\\results_kernels_DIV2K\\0659\\0659_kernel_x4.mat\n",
      "scale_factor:  [0.25, 0.25, 1]\n",
      "output_shape:  [43 64  3]\n",
      "im.shape:  (170, 255, 3)\n"
     ]
    },
    {
     "name": "stderr",
     "output_type": "stream",
     "text": [
      "Resizing images:  89%|████████▉ | 660/738 [02:27<00:17,  4.48it/s]"
     ]
    },
    {
     "name": "stdout",
     "output_type": "stream",
     "text": [
      "input_img.size():  torch.Size([3, 170, 255])\n",
      "resize2_img.size():  torch.Size([3, 43, 64])\n",
      "resize2_cut_img.size():  torch.Size([3, 40, 64])\n",
      "create_HrLr kernel_path:C:\\SaiVinay\\SproutsAI\\GitHub_\\ir_srgan_otsr\\results_kernels_DIV2K\\0660\\0660_kernel_x4.mat\n",
      "scale_factor:  [0.25, 0.25, 1]\n",
      "output_shape:  [43 64  3]\n",
      "im.shape:  (170, 255, 3)\n"
     ]
    },
    {
     "name": "stderr",
     "output_type": "stream",
     "text": [
      "Resizing images:  90%|████████▉ | 661/738 [02:27<00:16,  4.59it/s]"
     ]
    },
    {
     "name": "stdout",
     "output_type": "stream",
     "text": [
      "input_img.size():  torch.Size([3, 162, 255])\n",
      "resize2_img.size():  torch.Size([3, 41, 64])\n",
      "resize2_cut_img.size():  torch.Size([3, 40, 64])\n",
      "create_HrLr kernel_path:C:\\SaiVinay\\SproutsAI\\GitHub_\\ir_srgan_otsr\\results_kernels_DIV2K\\0661\\0661_kernel_x4.mat\n",
      "scale_factor:  [0.25, 0.25, 1]\n",
      "output_shape:  [41 64  3]\n",
      "im.shape:  (162, 255, 3)\n",
      "input_img.size():  torch.Size([3, 170, 255])\n",
      "resize2_img.size():  torch.Size([3, 43, 64])\n",
      "resize2_cut_img.size():  torch.Size([3, 40, 64])\n",
      "create_HrLr kernel_path:C:\\SaiVinay\\SproutsAI\\GitHub_\\ir_srgan_otsr\\results_kernels_DIV2K\\0662\\0662_kernel_x4.mat\n",
      "scale_factor:  [0.25, 0.25, 1]\n",
      "output_shape:  [43 64  3]\n",
      "im.shape:  (170, 255, 3)\n"
     ]
    },
    {
     "name": "stderr",
     "output_type": "stream",
     "text": [
      "Resizing images:  90%|████████▉ | 662/738 [02:28<00:17,  4.35it/s]"
     ]
    },
    {
     "name": "stdout",
     "output_type": "stream",
     "text": [
      "input_img.size():  torch.Size([3, 170, 255])\n",
      "resize2_img.size():  torch.Size([3, 43, 64])\n",
      "resize2_cut_img.size():  torch.Size([3, 40, 64])\n",
      "create_HrLr kernel_path:C:\\SaiVinay\\SproutsAI\\GitHub_\\ir_srgan_otsr\\results_kernels_DIV2K\\0663\\0663_kernel_x4.mat\n",
      "scale_factor:  [0.25, 0.25, 1]\n",
      "output_shape:  [43 64  3]\n",
      "im.shape:  (170, 255, 3)\n"
     ]
    },
    {
     "name": "stderr",
     "output_type": "stream",
     "text": [
      "Resizing images:  90%|████████▉ | 663/738 [02:28<00:17,  4.30it/s]"
     ]
    },
    {
     "name": "stdout",
     "output_type": "stream",
     "text": [
      "input_img.size():  torch.Size([3, 204, 255])\n",
      "resize2_img.size():  torch.Size([3, 51, 64])\n",
      "resize2_cut_img.size():  torch.Size([3, 48, 64])\n",
      "create_HrLr kernel_path:C:\\SaiVinay\\SproutsAI\\GitHub_\\ir_srgan_otsr\\results_kernels_DIV2K\\0664\\0664_kernel_x4.mat\n",
      "scale_factor:  [0.25, 0.25, 1]\n",
      "output_shape:  [51 64  3]\n",
      "im.shape:  (204, 255, 3)\n"
     ]
    },
    {
     "name": "stderr",
     "output_type": "stream",
     "text": [
      "Resizing images:  90%|████████▉ | 664/738 [02:28<00:17,  4.16it/s]"
     ]
    },
    {
     "name": "stdout",
     "output_type": "stream",
     "text": [
      "input_img.size():  torch.Size([3, 170, 255])\n",
      "resize2_img.size():  torch.Size([3, 43, 64])\n",
      "resize2_cut_img.size():  torch.Size([3, 40, 64])\n",
      "create_HrLr kernel_path:C:\\SaiVinay\\SproutsAI\\GitHub_\\ir_srgan_otsr\\results_kernels_DIV2K\\0665\\0665_kernel_x4.mat\n",
      "scale_factor:  [0.25, 0.25, 1]\n",
      "output_shape:  [43 64  3]\n",
      "im.shape:  (170, 255, 3)\n"
     ]
    },
    {
     "name": "stderr",
     "output_type": "stream",
     "text": [
      "Resizing images:  90%|█████████ | 665/738 [02:28<00:17,  4.22it/s]"
     ]
    },
    {
     "name": "stdout",
     "output_type": "stream",
     "text": [
      "input_img.size():  torch.Size([3, 255, 185])\n",
      "resize2_img.size():  torch.Size([3, 64, 47])\n",
      "resize2_cut_img.size():  torch.Size([3, 64, 44])\n",
      "create_HrLr kernel_path:C:\\SaiVinay\\SproutsAI\\GitHub_\\ir_srgan_otsr\\results_kernels_DIV2K\\0666\\0666_kernel_x4.mat\n",
      "scale_factor:  [0.25, 0.25, 1]\n",
      "output_shape:  [64 47  3]\n",
      "im.shape:  (255, 185, 3)\n"
     ]
    },
    {
     "name": "stderr",
     "output_type": "stream",
     "text": [
      "Resizing images:  90%|█████████ | 666/738 [02:29<00:17,  4.22it/s]"
     ]
    },
    {
     "name": "stdout",
     "output_type": "stream",
     "text": [
      "input_img.size():  torch.Size([3, 170, 255])\n",
      "resize2_img.size():  torch.Size([3, 43, 64])\n",
      "resize2_cut_img.size():  torch.Size([3, 40, 64])\n",
      "create_HrLr kernel_path:C:\\SaiVinay\\SproutsAI\\GitHub_\\ir_srgan_otsr\\results_kernels_DIV2K\\0667\\0667_kernel_x4.mat\n",
      "scale_factor:  [0.25, 0.25, 1]\n",
      "output_shape:  [43 64  3]\n",
      "im.shape:  (170, 255, 3)\n"
     ]
    },
    {
     "name": "stderr",
     "output_type": "stream",
     "text": [
      "Resizing images:  91%|█████████ | 668/738 [02:29<00:16,  4.36it/s]"
     ]
    },
    {
     "name": "stdout",
     "output_type": "stream",
     "text": [
      "input_img.size():  torch.Size([3, 170, 255])\n",
      "resize2_img.size():  torch.Size([3, 43, 64])\n",
      "resize2_cut_img.size():  torch.Size([3, 40, 64])\n",
      "create_HrLr kernel_path:C:\\SaiVinay\\SproutsAI\\GitHub_\\ir_srgan_otsr\\results_kernels_DIV2K\\0668\\0668_kernel_x4.mat\n",
      "scale_factor:  [0.25, 0.25, 1]\n",
      "output_shape:  [43 64  3]\n",
      "im.shape:  (170, 255, 3)\n",
      "input_img.size():  torch.Size([3, 192, 255])\n",
      "resize2_img.size():  torch.Size([3, 48, 64])\n",
      "resize2_cut_img.size():  torch.Size([3, 48, 64])\n",
      "create_HrLr kernel_path:C:\\SaiVinay\\SproutsAI\\GitHub_\\ir_srgan_otsr\\results_kernels_DIV2K\\0669\\0669_kernel_x4.mat\n",
      "scale_factor:  [0.25, 0.25, 1]\n",
      "output_shape:  [48 64  3]\n",
      "im.shape:  (192, 255, 3)\n"
     ]
    },
    {
     "name": "stderr",
     "output_type": "stream",
     "text": [
      "Resizing images:  91%|█████████ | 669/738 [02:29<00:15,  4.51it/s]"
     ]
    },
    {
     "name": "stdout",
     "output_type": "stream",
     "text": [
      "input_img.size():  torch.Size([3, 255, 170])\n",
      "resize2_img.size():  torch.Size([3, 64, 43])\n",
      "resize2_cut_img.size():  torch.Size([3, 64, 40])\n",
      "create_HrLr kernel_path:C:\\SaiVinay\\SproutsAI\\GitHub_\\ir_srgan_otsr\\results_kernels_DIV2K\\0670\\0670_kernel_x4.mat\n",
      "scale_factor:  [0.25, 0.25, 1]\n",
      "output_shape:  [64 43  3]\n",
      "im.shape:  (255, 170, 3)\n"
     ]
    },
    {
     "name": "stderr",
     "output_type": "stream",
     "text": [
      "Resizing images:  91%|█████████ | 670/738 [02:29<00:15,  4.52it/s]"
     ]
    },
    {
     "name": "stdout",
     "output_type": "stream",
     "text": [
      "input_img.size():  torch.Size([3, 170, 255])\n",
      "resize2_img.size():  torch.Size([3, 43, 64])\n",
      "resize2_cut_img.size():  torch.Size([3, 40, 64])\n",
      "create_HrLr kernel_path:C:\\SaiVinay\\SproutsAI\\GitHub_\\ir_srgan_otsr\\results_kernels_DIV2K\\0671\\0671_kernel_x4.mat\n",
      "scale_factor:  [0.25, 0.25, 1]\n",
      "output_shape:  [43 64  3]\n",
      "im.shape:  (170, 255, 3)\n"
     ]
    },
    {
     "name": "stderr",
     "output_type": "stream",
     "text": [
      "Resizing images:  91%|█████████ | 671/738 [02:30<00:14,  4.54it/s]"
     ]
    },
    {
     "name": "stdout",
     "output_type": "stream",
     "text": [
      "input_img.size():  torch.Size([3, 164, 255])\n",
      "resize2_img.size():  torch.Size([3, 41, 64])\n",
      "resize2_cut_img.size():  torch.Size([3, 40, 64])\n",
      "create_HrLr kernel_path:C:\\SaiVinay\\SproutsAI\\GitHub_\\ir_srgan_otsr\\results_kernels_DIV2K\\0672\\0672_kernel_x4.mat\n",
      "scale_factor:  [0.25, 0.25, 1]\n",
      "output_shape:  [41 64  3]\n",
      "im.shape:  (164, 255, 3)\n"
     ]
    },
    {
     "name": "stderr",
     "output_type": "stream",
     "text": [
      "Resizing images:  91%|█████████ | 673/738 [02:30<00:14,  4.46it/s]"
     ]
    },
    {
     "name": "stdout",
     "output_type": "stream",
     "text": [
      "input_img.size():  torch.Size([3, 144, 255])\n",
      "resize2_img.size():  torch.Size([3, 36, 64])\n",
      "resize2_cut_img.size():  torch.Size([3, 36, 64])\n",
      "create_HrLr kernel_path:C:\\SaiVinay\\SproutsAI\\GitHub_\\ir_srgan_otsr\\results_kernels_DIV2K\\0673\\0673_kernel_x4.mat\n",
      "scale_factor:  [0.25, 0.25, 1]\n",
      "output_shape:  [36 64  3]\n",
      "im.shape:  (144, 255, 3)\n",
      "input_img.size():  torch.Size([3, 170, 255])\n",
      "resize2_img.size():  torch.Size([3, 43, 64])\n",
      "resize2_cut_img.size():  torch.Size([3, 40, 64])\n",
      "create_HrLr kernel_path:C:\\SaiVinay\\SproutsAI\\GitHub_\\ir_srgan_otsr\\results_kernels_DIV2K\\0674\\0674_kernel_x4.mat\n",
      "scale_factor:  [0.25, 0.25, 1]\n",
      "output_shape:  [43 64  3]\n",
      "im.shape:  (170, 255, 3)\n"
     ]
    },
    {
     "name": "stderr",
     "output_type": "stream",
     "text": [
      "Resizing images:  91%|█████████▏| 674/738 [02:30<00:14,  4.53it/s]"
     ]
    },
    {
     "name": "stdout",
     "output_type": "stream",
     "text": [
      "input_img.size():  torch.Size([3, 170, 255])\n",
      "resize2_img.size():  torch.Size([3, 43, 64])\n",
      "resize2_cut_img.size():  torch.Size([3, 40, 64])\n",
      "create_HrLr kernel_path:C:\\SaiVinay\\SproutsAI\\GitHub_\\ir_srgan_otsr\\results_kernels_DIV2K\\0675\\0675_kernel_x4.mat\n",
      "scale_factor:  [0.25, 0.25, 1]\n",
      "output_shape:  [43 64  3]\n",
      "im.shape:  (170, 255, 3)\n"
     ]
    },
    {
     "name": "stderr",
     "output_type": "stream",
     "text": [
      "Resizing images:  91%|█████████▏| 675/738 [02:31<00:13,  4.53it/s]"
     ]
    },
    {
     "name": "stdout",
     "output_type": "stream",
     "text": [
      "input_img.size():  torch.Size([3, 168, 255])\n",
      "resize2_img.size():  torch.Size([3, 42, 64])\n",
      "resize2_cut_img.size():  torch.Size([3, 40, 64])\n",
      "create_HrLr kernel_path:C:\\SaiVinay\\SproutsAI\\GitHub_\\ir_srgan_otsr\\results_kernels_DIV2K\\0676\\0676_kernel_x4.mat\n",
      "scale_factor:  [0.25, 0.25, 1]\n",
      "output_shape:  [42 64  3]\n",
      "im.shape:  (168, 255, 3)\n"
     ]
    },
    {
     "name": "stderr",
     "output_type": "stream",
     "text": [
      "Resizing images:  92%|█████████▏| 676/738 [02:31<00:13,  4.45it/s]"
     ]
    },
    {
     "name": "stdout",
     "output_type": "stream",
     "text": [
      "input_img.size():  torch.Size([3, 173, 255])\n",
      "resize2_img.size():  torch.Size([3, 44, 64])\n",
      "resize2_cut_img.size():  torch.Size([3, 44, 64])\n",
      "create_HrLr kernel_path:C:\\SaiVinay\\SproutsAI\\GitHub_\\ir_srgan_otsr\\results_kernels_DIV2K\\0677\\0677_kernel_x4.mat\n",
      "scale_factor:  [0.25, 0.25, 1]\n",
      "output_shape:  [44 64  3]\n",
      "im.shape:  (173, 255, 3)\n"
     ]
    },
    {
     "name": "stderr",
     "output_type": "stream",
     "text": [
      "Resizing images:  92%|█████████▏| 677/738 [02:31<00:13,  4.45it/s]"
     ]
    },
    {
     "name": "stdout",
     "output_type": "stream",
     "text": [
      "input_img.size():  torch.Size([3, 182, 255])\n",
      "resize2_img.size():  torch.Size([3, 46, 64])\n",
      "resize2_cut_img.size():  torch.Size([3, 44, 64])\n",
      "create_HrLr kernel_path:C:\\SaiVinay\\SproutsAI\\GitHub_\\ir_srgan_otsr\\results_kernels_DIV2K\\0678\\0678_kernel_x4.mat\n",
      "scale_factor:  [0.25, 0.25, 1]\n",
      "output_shape:  [46 64  3]\n",
      "im.shape:  (182, 255, 3)\n"
     ]
    },
    {
     "name": "stderr",
     "output_type": "stream",
     "text": [
      "Resizing images:  92%|█████████▏| 678/738 [02:31<00:13,  4.52it/s]"
     ]
    },
    {
     "name": "stdout",
     "output_type": "stream",
     "text": [
      "input_img.size():  torch.Size([3, 183, 255])\n",
      "resize2_img.size():  torch.Size([3, 46, 64])\n",
      "resize2_cut_img.size():  torch.Size([3, 44, 64])\n",
      "create_HrLr kernel_path:C:\\SaiVinay\\SproutsAI\\GitHub_\\ir_srgan_otsr\\results_kernels_DIV2K\\0679\\0679_kernel_x4.mat\n",
      "scale_factor:  [0.25, 0.25, 1]\n",
      "output_shape:  [46 64  3]\n",
      "im.shape:  (183, 255, 3)\n"
     ]
    },
    {
     "name": "stderr",
     "output_type": "stream",
     "text": [
      "Resizing images:  92%|█████████▏| 679/738 [02:31<00:13,  4.31it/s]"
     ]
    },
    {
     "name": "stdout",
     "output_type": "stream",
     "text": [
      "input_img.size():  torch.Size([3, 152, 255])\n",
      "resize2_img.size():  torch.Size([3, 38, 64])\n",
      "resize2_cut_img.size():  torch.Size([3, 36, 64])\n",
      "create_HrLr kernel_path:C:\\SaiVinay\\SproutsAI\\GitHub_\\ir_srgan_otsr\\results_kernels_DIV2K\\0680\\0680_kernel_x4.mat\n",
      "scale_factor:  [0.25, 0.25, 1]\n",
      "output_shape:  [38 64  3]\n",
      "im.shape:  (152, 255, 3)\n"
     ]
    },
    {
     "name": "stderr",
     "output_type": "stream",
     "text": [
      "Resizing images:  92%|█████████▏| 681/738 [02:32<00:12,  4.64it/s]"
     ]
    },
    {
     "name": "stdout",
     "output_type": "stream",
     "text": [
      "input_img.size():  torch.Size([3, 170, 255])\n",
      "resize2_img.size():  torch.Size([3, 43, 64])\n",
      "resize2_cut_img.size():  torch.Size([3, 40, 64])\n",
      "create_HrLr kernel_path:C:\\SaiVinay\\SproutsAI\\GitHub_\\ir_srgan_otsr\\results_kernels_DIV2K\\0681\\0681_kernel_x4.mat\n",
      "scale_factor:  [0.25, 0.25, 1]\n",
      "output_shape:  [43 64  3]\n",
      "im.shape:  (170, 255, 3)\n",
      "input_img.size():  torch.Size([3, 171, 255])\n",
      "resize2_img.size():  torch.Size([3, 43, 64])\n",
      "resize2_cut_img.size():  torch.Size([3, 40, 64])\n",
      "create_HrLr kernel_path:C:\\SaiVinay\\SproutsAI\\GitHub_\\ir_srgan_otsr\\results_kernels_DIV2K\\0682\\0682_kernel_x4.mat\n",
      "scale_factor:  [0.25, 0.25, 1]\n",
      "output_shape:  [43 64  3]\n",
      "im.shape:  (171, 255, 3)\n"
     ]
    },
    {
     "name": "stderr",
     "output_type": "stream",
     "text": [
      "Resizing images:  92%|█████████▏| 682/738 [02:32<00:11,  4.68it/s]"
     ]
    },
    {
     "name": "stdout",
     "output_type": "stream",
     "text": [
      "input_img.size():  torch.Size([3, 170, 255])\n",
      "resize2_img.size():  torch.Size([3, 43, 64])\n",
      "resize2_cut_img.size():  torch.Size([3, 40, 64])\n",
      "create_HrLr kernel_path:C:\\SaiVinay\\SproutsAI\\GitHub_\\ir_srgan_otsr\\results_kernels_DIV2K\\0683\\0683_kernel_x4.mat\n",
      "scale_factor:  [0.25, 0.25, 1]\n",
      "output_shape:  [43 64  3]\n",
      "im.shape:  (170, 255, 3)\n"
     ]
    },
    {
     "name": "stderr",
     "output_type": "stream",
     "text": [
      "Resizing images:  93%|█████████▎| 683/738 [02:32<00:12,  4.57it/s]"
     ]
    },
    {
     "name": "stdout",
     "output_type": "stream",
     "text": [
      "input_img.size():  torch.Size([3, 170, 255])\n",
      "resize2_img.size():  torch.Size([3, 43, 64])\n",
      "resize2_cut_img.size():  torch.Size([3, 40, 64])\n",
      "create_HrLr kernel_path:C:\\SaiVinay\\SproutsAI\\GitHub_\\ir_srgan_otsr\\results_kernels_DIV2K\\0684\\0684_kernel_x4.mat\n",
      "scale_factor:  [0.25, 0.25, 1]\n",
      "output_shape:  [43 64  3]\n",
      "im.shape:  (170, 255, 3)\n"
     ]
    },
    {
     "name": "stderr",
     "output_type": "stream",
     "text": [
      "Resizing images:  93%|█████████▎| 684/738 [02:33<00:11,  4.69it/s]"
     ]
    },
    {
     "name": "stdout",
     "output_type": "stream",
     "text": [
      "input_img.size():  torch.Size([3, 135, 255])\n",
      "resize2_img.size():  torch.Size([3, 34, 64])\n",
      "resize2_cut_img.size():  torch.Size([3, 32, 64])\n",
      "create_HrLr kernel_path:C:\\SaiVinay\\SproutsAI\\GitHub_\\ir_srgan_otsr\\results_kernels_DIV2K\\0685\\0685_kernel_x4.mat\n",
      "scale_factor:  [0.25, 0.25, 1]\n",
      "output_shape:  [34 64  3]\n",
      "im.shape:  (135, 255, 3)\n"
     ]
    },
    {
     "name": "stderr",
     "output_type": "stream",
     "text": [
      "Resizing images:  93%|█████████▎| 685/738 [02:33<00:11,  4.73it/s]"
     ]
    },
    {
     "name": "stdout",
     "output_type": "stream",
     "text": [
      "input_img.size():  torch.Size([3, 170, 255])\n",
      "resize2_img.size():  torch.Size([3, 43, 64])\n",
      "resize2_cut_img.size():  torch.Size([3, 40, 64])\n",
      "create_HrLr kernel_path:C:\\SaiVinay\\SproutsAI\\GitHub_\\ir_srgan_otsr\\results_kernels_DIV2K\\0686\\0686_kernel_x4.mat\n",
      "scale_factor:  [0.25, 0.25, 1]\n",
      "output_shape:  [43 64  3]\n",
      "im.shape:  (170, 255, 3)\n"
     ]
    },
    {
     "name": "stderr",
     "output_type": "stream",
     "text": [
      "Resizing images:  93%|█████████▎| 686/738 [02:33<00:10,  4.76it/s]"
     ]
    },
    {
     "name": "stdout",
     "output_type": "stream",
     "text": [
      "input_img.size():  torch.Size([3, 192, 255])\n",
      "resize2_img.size():  torch.Size([3, 48, 64])\n",
      "resize2_cut_img.size():  torch.Size([3, 48, 64])\n",
      "create_HrLr kernel_path:C:\\SaiVinay\\SproutsAI\\GitHub_\\ir_srgan_otsr\\results_kernels_DIV2K\\0687\\0687_kernel_x4.mat\n",
      "scale_factor:  [0.25, 0.25, 1]\n",
      "output_shape:  [48 64  3]\n",
      "im.shape:  (192, 255, 3)\n"
     ]
    },
    {
     "name": "stderr",
     "output_type": "stream",
     "text": [
      "Resizing images:  93%|█████████▎| 687/738 [02:33<00:11,  4.62it/s]"
     ]
    },
    {
     "name": "stdout",
     "output_type": "stream",
     "text": [
      "input_img.size():  torch.Size([3, 170, 255])\n",
      "resize2_img.size():  torch.Size([3, 43, 64])\n",
      "resize2_cut_img.size():  torch.Size([3, 40, 64])\n",
      "create_HrLr kernel_path:C:\\SaiVinay\\SproutsAI\\GitHub_\\ir_srgan_otsr\\results_kernels_DIV2K\\0688\\0688_kernel_x4.mat\n",
      "scale_factor:  [0.25, 0.25, 1]\n",
      "output_shape:  [43 64  3]\n",
      "im.shape:  (170, 255, 3)\n"
     ]
    },
    {
     "name": "stderr",
     "output_type": "stream",
     "text": [
      "Resizing images:  93%|█████████▎| 688/738 [02:33<00:10,  4.55it/s]"
     ]
    },
    {
     "name": "stdout",
     "output_type": "stream",
     "text": [
      "input_img.size():  torch.Size([3, 170, 255])\n",
      "resize2_img.size():  torch.Size([3, 43, 64])\n",
      "resize2_cut_img.size():  torch.Size([3, 40, 64])\n",
      "create_HrLr kernel_path:C:\\SaiVinay\\SproutsAI\\GitHub_\\ir_srgan_otsr\\results_kernels_DIV2K\\0689\\0689_kernel_x4.mat\n",
      "scale_factor:  [0.25, 0.25, 1]\n",
      "output_shape:  [43 64  3]\n",
      "im.shape:  (170, 255, 3)\n"
     ]
    },
    {
     "name": "stderr",
     "output_type": "stream",
     "text": [
      "Resizing images:  93%|█████████▎| 689/738 [02:34<00:10,  4.46it/s]"
     ]
    },
    {
     "name": "stdout",
     "output_type": "stream",
     "text": [
      "input_img.size():  torch.Size([3, 255, 170])\n",
      "resize2_img.size():  torch.Size([3, 64, 43])\n",
      "resize2_cut_img.size():  torch.Size([3, 64, 40])\n",
      "create_HrLr kernel_path:C:\\SaiVinay\\SproutsAI\\GitHub_\\ir_srgan_otsr\\results_kernels_DIV2K\\0690\\0690_kernel_x4.mat\n",
      "scale_factor:  [0.25, 0.25, 1]\n",
      "output_shape:  [64 43  3]\n",
      "im.shape:  (255, 170, 3)\n"
     ]
    },
    {
     "name": "stderr",
     "output_type": "stream",
     "text": [
      "Resizing images:  93%|█████████▎| 690/738 [02:34<00:10,  4.37it/s]"
     ]
    },
    {
     "name": "stdout",
     "output_type": "stream",
     "text": [
      "input_img.size():  torch.Size([3, 170, 255])\n",
      "resize2_img.size():  torch.Size([3, 43, 64])\n",
      "resize2_cut_img.size():  torch.Size([3, 40, 64])\n",
      "create_HrLr kernel_path:C:\\SaiVinay\\SproutsAI\\GitHub_\\ir_srgan_otsr\\results_kernels_DIV2K\\0691\\0691_kernel_x4.mat\n",
      "scale_factor:  [0.25, 0.25, 1]\n",
      "output_shape:  [43 64  3]\n",
      "im.shape:  (170, 255, 3)\n"
     ]
    },
    {
     "name": "stderr",
     "output_type": "stream",
     "text": [
      "Resizing images:  94%|█████████▍| 692/738 [02:34<00:09,  4.63it/s]"
     ]
    },
    {
     "name": "stdout",
     "output_type": "stream",
     "text": [
      "input_img.size():  torch.Size([3, 170, 255])\n",
      "resize2_img.size():  torch.Size([3, 43, 64])\n",
      "resize2_cut_img.size():  torch.Size([3, 40, 64])\n",
      "create_HrLr kernel_path:C:\\SaiVinay\\SproutsAI\\GitHub_\\ir_srgan_otsr\\results_kernels_DIV2K\\0692\\0692_kernel_x4.mat\n",
      "scale_factor:  [0.25, 0.25, 1]\n",
      "output_shape:  [43 64  3]\n",
      "im.shape:  (170, 255, 3)\n",
      "input_img.size():  torch.Size([3, 192, 255])\n",
      "resize2_img.size():  torch.Size([3, 48, 64])\n",
      "resize2_cut_img.size():  torch.Size([3, 48, 64])\n",
      "create_HrLr kernel_path:C:\\SaiVinay\\SproutsAI\\GitHub_\\ir_srgan_otsr\\results_kernels_DIV2K\\0693\\0693_kernel_x4.mat\n",
      "scale_factor:  [0.25, 0.25, 1]\n",
      "output_shape:  [48 64  3]\n",
      "im.shape:  (192, 255, 3)\n"
     ]
    },
    {
     "name": "stderr",
     "output_type": "stream",
     "text": [
      "Resizing images:  94%|█████████▍| 693/738 [02:34<00:09,  4.70it/s]"
     ]
    },
    {
     "name": "stdout",
     "output_type": "stream",
     "text": [
      "input_img.size():  torch.Size([3, 255, 170])\n",
      "resize2_img.size():  torch.Size([3, 64, 43])\n",
      "resize2_cut_img.size():  torch.Size([3, 64, 40])\n",
      "create_HrLr kernel_path:C:\\SaiVinay\\SproutsAI\\GitHub_\\ir_srgan_otsr\\results_kernels_DIV2K\\0694\\0694_kernel_x4.mat\n",
      "scale_factor:  [0.25, 0.25, 1]\n",
      "output_shape:  [64 43  3]\n",
      "im.shape:  (255, 170, 3)\n"
     ]
    },
    {
     "name": "stderr",
     "output_type": "stream",
     "text": [
      "Resizing images:  94%|█████████▍| 694/738 [02:35<00:09,  4.51it/s]"
     ]
    },
    {
     "name": "stdout",
     "output_type": "stream",
     "text": [
      "input_img.size():  torch.Size([3, 170, 255])\n",
      "resize2_img.size():  torch.Size([3, 43, 64])\n",
      "resize2_cut_img.size():  torch.Size([3, 40, 64])\n",
      "create_HrLr kernel_path:C:\\SaiVinay\\SproutsAI\\GitHub_\\ir_srgan_otsr\\results_kernels_DIV2K\\0695\\0695_kernel_x4.mat\n",
      "scale_factor:  [0.25, 0.25, 1]\n",
      "output_shape:  [43 64  3]\n",
      "im.shape:  (170, 255, 3)\n"
     ]
    },
    {
     "name": "stderr",
     "output_type": "stream",
     "text": [
      "Resizing images:  94%|█████████▍| 696/738 [02:35<00:08,  4.80it/s]"
     ]
    },
    {
     "name": "stdout",
     "output_type": "stream",
     "text": [
      "input_img.size():  torch.Size([3, 255, 170])\n",
      "resize2_img.size():  torch.Size([3, 64, 43])\n",
      "resize2_cut_img.size():  torch.Size([3, 64, 40])\n",
      "create_HrLr kernel_path:C:\\SaiVinay\\SproutsAI\\GitHub_\\ir_srgan_otsr\\results_kernels_DIV2K\\0696\\0696_kernel_x4.mat\n",
      "scale_factor:  [0.25, 0.25, 1]\n",
      "output_shape:  [64 43  3]\n",
      "im.shape:  (255, 170, 3)\n",
      "input_img.size():  torch.Size([3, 170, 255])\n",
      "resize2_img.size():  torch.Size([3, 43, 64])\n",
      "resize2_cut_img.size():  torch.Size([3, 40, 64])\n",
      "create_HrLr kernel_path:C:\\SaiVinay\\SproutsAI\\GitHub_\\ir_srgan_otsr\\results_kernels_DIV2K\\0697\\0697_kernel_x4.mat\n"
     ]
    },
    {
     "name": "stderr",
     "output_type": "stream",
     "text": [
      "Resizing images:  94%|█████████▍| 697/738 [02:35<00:08,  4.63it/s]"
     ]
    },
    {
     "name": "stdout",
     "output_type": "stream",
     "text": [
      "scale_factor:  [0.25, 0.25, 1]\n",
      "output_shape:  [43 64  3]\n",
      "im.shape:  (170, 255, 3)\n",
      "input_img.size():  torch.Size([3, 255, 246])\n",
      "resize2_img.size():  torch.Size([3, 64, 62])\n",
      "resize2_cut_img.size():  torch.Size([3, 64, 60])\n",
      "create_HrLr kernel_path:C:\\SaiVinay\\SproutsAI\\GitHub_\\ir_srgan_otsr\\results_kernels_DIV2K\\0698\\0698_kernel_x4.mat\n",
      "scale_factor:  [0.25, 0.25, 1]\n",
      "output_shape:  [64 62  3]\n",
      "im.shape:  (255, 246, 3)\n"
     ]
    },
    {
     "name": "stderr",
     "output_type": "stream",
     "text": [
      "Resizing images:  95%|█████████▍| 698/738 [02:36<00:09,  4.29it/s]"
     ]
    },
    {
     "name": "stdout",
     "output_type": "stream",
     "text": [
      "input_img.size():  torch.Size([3, 255, 197])\n",
      "resize2_img.size():  torch.Size([3, 64, 50])\n",
      "resize2_cut_img.size():  torch.Size([3, 64, 48])\n",
      "create_HrLr kernel_path:C:\\SaiVinay\\SproutsAI\\GitHub_\\ir_srgan_otsr\\results_kernels_DIV2K\\0699\\0699_kernel_x4.mat\n",
      "scale_factor:  [0.25, 0.25, 1]\n",
      "output_shape:  [64 50  3]\n",
      "im.shape:  (255, 197, 3)\n"
     ]
    },
    {
     "name": "stderr",
     "output_type": "stream",
     "text": [
      "Resizing images:  95%|█████████▍| 699/738 [02:36<00:09,  4.04it/s]"
     ]
    },
    {
     "name": "stdout",
     "output_type": "stream",
     "text": [
      "input_img.size():  torch.Size([3, 216, 255])\n",
      "resize2_img.size():  torch.Size([3, 54, 64])\n",
      "resize2_cut_img.size():  torch.Size([3, 52, 64])\n",
      "create_HrLr kernel_path:C:\\SaiVinay\\SproutsAI\\GitHub_\\ir_srgan_otsr\\results_kernels_DIV2K\\0700\\0700_kernel_x4.mat\n",
      "scale_factor:  [0.25, 0.25, 1]\n",
      "output_shape:  [54 64  3]\n",
      "im.shape:  (216, 255, 3)\n"
     ]
    },
    {
     "name": "stderr",
     "output_type": "stream",
     "text": [
      "Resizing images:  95%|█████████▍| 700/738 [02:36<00:09,  3.99it/s]"
     ]
    },
    {
     "name": "stdout",
     "output_type": "stream",
     "text": [
      "input_img.size():  torch.Size([3, 168, 255])\n",
      "resize2_img.size():  torch.Size([3, 42, 64])\n",
      "resize2_cut_img.size():  torch.Size([3, 40, 64])\n",
      "create_HrLr kernel_path:C:\\SaiVinay\\SproutsAI\\GitHub_\\ir_srgan_otsr\\results_kernels_DIV2K\\0701\\0701_kernel_x4.mat\n",
      "scale_factor:  [0.25, 0.25, 1]\n",
      "output_shape:  [42 64  3]\n",
      "im.shape:  (168, 255, 3)\n"
     ]
    },
    {
     "name": "stderr",
     "output_type": "stream",
     "text": [
      "Resizing images:  95%|█████████▍| 701/738 [02:36<00:09,  4.10it/s]"
     ]
    },
    {
     "name": "stdout",
     "output_type": "stream",
     "text": [
      "input_img.size():  torch.Size([3, 165, 255])\n",
      "resize2_img.size():  torch.Size([3, 42, 64])\n",
      "resize2_cut_img.size():  torch.Size([3, 40, 64])\n",
      "create_HrLr kernel_path:C:\\SaiVinay\\SproutsAI\\GitHub_\\ir_srgan_otsr\\results_kernels_DIV2K\\0702\\0702_kernel_x4.mat\n",
      "scale_factor:  [0.25, 0.25, 1]\n",
      "output_shape:  [42 64  3]\n",
      "im.shape:  (165, 255, 3)\n"
     ]
    },
    {
     "name": "stderr",
     "output_type": "stream",
     "text": [
      "Resizing images:  95%|█████████▌| 702/738 [02:37<00:08,  4.10it/s]"
     ]
    },
    {
     "name": "stdout",
     "output_type": "stream",
     "text": [
      "input_img.size():  torch.Size([3, 255, 170])\n",
      "resize2_img.size():  torch.Size([3, 64, 43])\n",
      "resize2_cut_img.size():  torch.Size([3, 64, 40])\n",
      "create_HrLr kernel_path:C:\\SaiVinay\\SproutsAI\\GitHub_\\ir_srgan_otsr\\results_kernels_DIV2K\\0703\\0703_kernel_x4.mat\n",
      "scale_factor:  [0.25, 0.25, 1]\n",
      "output_shape:  [64 43  3]\n",
      "im.shape:  (255, 170, 3)\n"
     ]
    },
    {
     "name": "stderr",
     "output_type": "stream",
     "text": [
      "Resizing images:  95%|█████████▌| 703/738 [02:37<00:08,  4.20it/s]"
     ]
    },
    {
     "name": "stdout",
     "output_type": "stream",
     "text": [
      "input_img.size():  torch.Size([3, 170, 255])\n",
      "resize2_img.size():  torch.Size([3, 43, 64])\n",
      "resize2_cut_img.size():  torch.Size([3, 40, 64])\n",
      "create_HrLr kernel_path:C:\\SaiVinay\\SproutsAI\\GitHub_\\ir_srgan_otsr\\results_kernels_DIV2K\\0704\\0704_kernel_x4.mat\n",
      "scale_factor:  [0.25, 0.25, 1]\n",
      "output_shape:  [43 64  3]\n",
      "im.shape:  (170, 255, 3)\n"
     ]
    },
    {
     "name": "stderr",
     "output_type": "stream",
     "text": [
      "Resizing images:  95%|█████████▌| 704/738 [02:37<00:08,  4.09it/s]"
     ]
    },
    {
     "name": "stdout",
     "output_type": "stream",
     "text": [
      "input_img.size():  torch.Size([3, 170, 255])\n",
      "resize2_img.size():  torch.Size([3, 43, 64])\n",
      "resize2_cut_img.size():  torch.Size([3, 40, 64])\n",
      "create_HrLr kernel_path:C:\\SaiVinay\\SproutsAI\\GitHub_\\ir_srgan_otsr\\results_kernels_DIV2K\\0705\\0705_kernel_x4.mat\n",
      "scale_factor:  [0.25, 0.25, 1]\n",
      "output_shape:  [43 64  3]\n",
      "im.shape:  (170, 255, 3)\n"
     ]
    },
    {
     "name": "stderr",
     "output_type": "stream",
     "text": [
      "Resizing images:  96%|█████████▌| 705/738 [02:37<00:07,  4.23it/s]"
     ]
    },
    {
     "name": "stdout",
     "output_type": "stream",
     "text": [
      "input_img.size():  torch.Size([3, 171, 255])\n",
      "resize2_img.size():  torch.Size([3, 43, 64])\n",
      "resize2_cut_img.size():  torch.Size([3, 40, 64])\n",
      "create_HrLr kernel_path:C:\\SaiVinay\\SproutsAI\\GitHub_\\ir_srgan_otsr\\results_kernels_DIV2K\\0706\\0706_kernel_x4.mat\n",
      "scale_factor:  [0.25, 0.25, 1]\n",
      "output_shape:  [43 64  3]\n",
      "im.shape:  (171, 255, 3)\n"
     ]
    },
    {
     "name": "stderr",
     "output_type": "stream",
     "text": [
      "Resizing images:  96%|█████████▌| 706/738 [02:38<00:07,  4.34it/s]"
     ]
    },
    {
     "name": "stdout",
     "output_type": "stream",
     "text": [
      "input_img.size():  torch.Size([3, 170, 255])\n",
      "resize2_img.size():  torch.Size([3, 43, 64])\n",
      "resize2_cut_img.size():  torch.Size([3, 40, 64])\n",
      "create_HrLr kernel_path:C:\\SaiVinay\\SproutsAI\\GitHub_\\ir_srgan_otsr\\results_kernels_DIV2K\\0707\\0707_kernel_x4.mat\n",
      "scale_factor:  [0.25, 0.25, 1]\n",
      "output_shape:  [43 64  3]\n",
      "im.shape:  (170, 255, 3)\n"
     ]
    },
    {
     "name": "stderr",
     "output_type": "stream",
     "text": [
      "Resizing images:  96%|█████████▌| 707/738 [02:38<00:07,  4.34it/s]"
     ]
    },
    {
     "name": "stdout",
     "output_type": "stream",
     "text": [
      "input_img.size():  torch.Size([3, 170, 255])\n",
      "resize2_img.size():  torch.Size([3, 43, 64])\n",
      "resize2_cut_img.size():  torch.Size([3, 40, 64])\n",
      "create_HrLr kernel_path:C:\\SaiVinay\\SproutsAI\\GitHub_\\ir_srgan_otsr\\results_kernels_DIV2K\\0708\\0708_kernel_x4.mat\n",
      "scale_factor:  [0.25, 0.25, 1]\n",
      "output_shape:  [43 64  3]\n",
      "im.shape:  (170, 255, 3)\n"
     ]
    },
    {
     "name": "stderr",
     "output_type": "stream",
     "text": [
      "Resizing images:  96%|█████████▌| 708/738 [02:38<00:06,  4.32it/s]"
     ]
    },
    {
     "name": "stdout",
     "output_type": "stream",
     "text": [
      "input_img.size():  torch.Size([3, 170, 255])\n",
      "resize2_img.size():  torch.Size([3, 43, 64])\n",
      "resize2_cut_img.size():  torch.Size([3, 40, 64])\n",
      "create_HrLr kernel_path:C:\\SaiVinay\\SproutsAI\\GitHub_\\ir_srgan_otsr\\results_kernels_DIV2K\\0709\\0709_kernel_x4.mat\n",
      "scale_factor:  [0.25, 0.25, 1]\n",
      "output_shape:  [43 64  3]\n",
      "im.shape:  (170, 255, 3)\n"
     ]
    },
    {
     "name": "stderr",
     "output_type": "stream",
     "text": [
      "Resizing images:  96%|█████████▌| 710/738 [02:38<00:05,  4.79it/s]"
     ]
    },
    {
     "name": "stdout",
     "output_type": "stream",
     "text": [
      "input_img.size():  torch.Size([3, 117, 255])\n",
      "resize2_img.size():  torch.Size([3, 30, 64])\n",
      "resize2_cut_img.size():  torch.Size([3, 28, 64])\n",
      "create_HrLr kernel_path:C:\\SaiVinay\\SproutsAI\\GitHub_\\ir_srgan_otsr\\results_kernels_DIV2K\\0710\\0710_kernel_x4.mat\n",
      "scale_factor:  [0.25, 0.25, 1]\n",
      "output_shape:  [30 64  3]\n",
      "im.shape:  (117, 255, 3)\n",
      "input_img.size():  torch.Size([3, 192, 255])\n",
      "resize2_img.size():  torch.Size([3, 48, 64])\n",
      "resize2_cut_img.size():  torch.Size([3, 48, 64])\n",
      "create_HrLr kernel_path:C:\\SaiVinay\\SproutsAI\\GitHub_\\ir_srgan_otsr\\results_kernels_DIV2K\\0711\\0711_kernel_x4.mat\n",
      "scale_factor:  [0.25, 0.25, 1]\n",
      "output_shape:  [48 64  3]\n",
      "im.shape:  (192, 255, 3)\n"
     ]
    },
    {
     "name": "stderr",
     "output_type": "stream",
     "text": [
      "Resizing images:  96%|█████████▋| 711/738 [02:39<00:05,  4.63it/s]"
     ]
    },
    {
     "name": "stdout",
     "output_type": "stream",
     "text": [
      "input_img.size():  torch.Size([3, 224, 255])\n",
      "resize2_img.size():  torch.Size([3, 56, 64])\n",
      "resize2_cut_img.size():  torch.Size([3, 56, 64])\n",
      "create_HrLr kernel_path:C:\\SaiVinay\\SproutsAI\\GitHub_\\ir_srgan_otsr\\results_kernels_DIV2K\\0712\\0712_kernel_x4.mat\n",
      "scale_factor:  [0.25, 0.25, 1]\n",
      "output_shape:  [56 64  3]\n",
      "im.shape:  (224, 255, 3)\n"
     ]
    },
    {
     "name": "stderr",
     "output_type": "stream",
     "text": [
      "Resizing images:  96%|█████████▋| 712/738 [02:39<00:06,  4.29it/s]"
     ]
    },
    {
     "name": "stdout",
     "output_type": "stream",
     "text": [
      "input_img.size():  torch.Size([3, 168, 255])\n",
      "resize2_img.size():  torch.Size([3, 42, 64])\n",
      "resize2_cut_img.size():  torch.Size([3, 40, 64])\n",
      "create_HrLr kernel_path:C:\\SaiVinay\\SproutsAI\\GitHub_\\ir_srgan_otsr\\results_kernels_DIV2K\\0713\\0713_kernel_x4.mat\n",
      "scale_factor:  [0.25, 0.25, 1]\n",
      "output_shape:  [42 64  3]\n",
      "im.shape:  (168, 255, 3)\n"
     ]
    },
    {
     "name": "stderr",
     "output_type": "stream",
     "text": [
      "Resizing images:  97%|█████████▋| 714/738 [02:39<00:05,  4.49it/s]"
     ]
    },
    {
     "name": "stdout",
     "output_type": "stream",
     "text": [
      "input_img.size():  torch.Size([3, 191, 255])\n",
      "resize2_img.size():  torch.Size([3, 48, 64])\n",
      "resize2_cut_img.size():  torch.Size([3, 48, 64])\n",
      "create_HrLr kernel_path:C:\\SaiVinay\\SproutsAI\\GitHub_\\ir_srgan_otsr\\results_kernels_DIV2K\\0714\\0714_kernel_x4.mat\n",
      "scale_factor:  [0.25, 0.25, 1]\n",
      "output_shape:  [48 64  3]\n",
      "im.shape:  (191, 255, 3)\n",
      "input_img.size():  torch.Size([3, 167, 255])\n",
      "resize2_img.size():  torch.Size([3, 42, 64])\n",
      "resize2_cut_img.size():  torch.Size([3, 40, 64])\n",
      "create_HrLr kernel_path:C:\\SaiVinay\\SproutsAI\\GitHub_\\ir_srgan_otsr\\results_kernels_DIV2K\\0715\\0715_kernel_x4.mat\n",
      "scale_factor:  [0.25, 0.25, 1]\n",
      "output_shape:  [42 64  3]\n",
      "im.shape:  (167, 255, 3)\n"
     ]
    },
    {
     "name": "stderr",
     "output_type": "stream",
     "text": [
      "Resizing images:  97%|█████████▋| 715/738 [02:40<00:05,  4.54it/s]"
     ]
    },
    {
     "name": "stdout",
     "output_type": "stream",
     "text": [
      "input_img.size():  torch.Size([3, 255, 255])\n",
      "resize2_img.size():  torch.Size([3, 64, 64])\n",
      "resize2_cut_img.size():  torch.Size([3, 64, 64])\n",
      "create_HrLr kernel_path:C:\\SaiVinay\\SproutsAI\\GitHub_\\ir_srgan_otsr\\results_kernels_DIV2K\\0716\\0716_kernel_x4.mat\n",
      "scale_factor:  [0.25, 0.25, 1]\n",
      "output_shape:  [64 64  3]\n",
      "im.shape:  (255, 255, 3)\n"
     ]
    },
    {
     "name": "stderr",
     "output_type": "stream",
     "text": [
      "Resizing images:  97%|█████████▋| 716/738 [02:40<00:05,  4.25it/s]"
     ]
    },
    {
     "name": "stdout",
     "output_type": "stream",
     "text": [
      "input_img.size():  torch.Size([3, 170, 255])\n",
      "resize2_img.size():  torch.Size([3, 43, 64])\n",
      "resize2_cut_img.size():  torch.Size([3, 40, 64])\n",
      "create_HrLr kernel_path:C:\\SaiVinay\\SproutsAI\\GitHub_\\ir_srgan_otsr\\results_kernels_DIV2K\\0717\\0717_kernel_x4.mat\n",
      "scale_factor:  [0.25, 0.25, 1]\n",
      "output_shape:  [43 64  3]\n",
      "im.shape:  (170, 255, 3)\n"
     ]
    },
    {
     "name": "stderr",
     "output_type": "stream",
     "text": [
      "Resizing images:  97%|█████████▋| 717/738 [02:40<00:05,  4.15it/s]"
     ]
    },
    {
     "name": "stdout",
     "output_type": "stream",
     "text": [
      "input_img.size():  torch.Size([3, 170, 255])\n",
      "resize2_img.size():  torch.Size([3, 43, 64])\n",
      "resize2_cut_img.size():  torch.Size([3, 40, 64])\n",
      "create_HrLr kernel_path:C:\\SaiVinay\\SproutsAI\\GitHub_\\ir_srgan_otsr\\results_kernels_DIV2K\\0718\\0718_kernel_x4.mat\n",
      "scale_factor:  [0.25, 0.25, 1]\n",
      "output_shape:  [43 64  3]\n",
      "im.shape:  (170, 255, 3)\n"
     ]
    },
    {
     "name": "stderr",
     "output_type": "stream",
     "text": [
      "Resizing images:  97%|█████████▋| 718/738 [02:40<00:04,  4.16it/s]"
     ]
    },
    {
     "name": "stdout",
     "output_type": "stream",
     "text": [
      "input_img.size():  torch.Size([3, 170, 255])\n",
      "resize2_img.size():  torch.Size([3, 43, 64])\n",
      "resize2_cut_img.size():  torch.Size([3, 40, 64])\n",
      "create_HrLr kernel_path:C:\\SaiVinay\\SproutsAI\\GitHub_\\ir_srgan_otsr\\results_kernels_DIV2K\\0719\\0719_kernel_x4.mat\n",
      "scale_factor:  [0.25, 0.25, 1]\n",
      "output_shape:  [43 64  3]\n",
      "im.shape:  (170, 255, 3)\n"
     ]
    },
    {
     "name": "stderr",
     "output_type": "stream",
     "text": [
      "Resizing images:  97%|█████████▋| 719/738 [02:41<00:04,  4.25it/s]"
     ]
    },
    {
     "name": "stdout",
     "output_type": "stream",
     "text": [
      "input_img.size():  torch.Size([3, 170, 255])\n",
      "resize2_img.size():  torch.Size([3, 43, 64])\n",
      "resize2_cut_img.size():  torch.Size([3, 40, 64])\n",
      "create_HrLr kernel_path:C:\\SaiVinay\\SproutsAI\\GitHub_\\ir_srgan_otsr\\results_kernels_DIV2K\\0720\\0720_kernel_x4.mat\n",
      "scale_factor:  [0.25, 0.25, 1]\n",
      "output_shape:  [43 64  3]\n",
      "im.shape:  (170, 255, 3)\n"
     ]
    },
    {
     "name": "stderr",
     "output_type": "stream",
     "text": [
      "Resizing images:  98%|█████████▊| 720/738 [02:41<00:04,  4.17it/s]"
     ]
    },
    {
     "name": "stdout",
     "output_type": "stream",
     "text": [
      "input_img.size():  torch.Size([3, 170, 255])\n",
      "resize2_img.size():  torch.Size([3, 43, 64])\n",
      "resize2_cut_img.size():  torch.Size([3, 40, 64])\n",
      "create_HrLr kernel_path:C:\\SaiVinay\\SproutsAI\\GitHub_\\ir_srgan_otsr\\results_kernels_DIV2K\\0721\\0721_kernel_x4.mat\n",
      "scale_factor:  [0.25, 0.25, 1]\n",
      "output_shape:  [43 64  3]\n",
      "im.shape:  (170, 255, 3)\n"
     ]
    },
    {
     "name": "stderr",
     "output_type": "stream",
     "text": [
      "Resizing images:  98%|█████████▊| 721/738 [02:41<00:04,  4.10it/s]"
     ]
    },
    {
     "name": "stdout",
     "output_type": "stream",
     "text": [
      "input_img.size():  torch.Size([3, 170, 255])\n",
      "resize2_img.size():  torch.Size([3, 43, 64])\n",
      "resize2_cut_img.size():  torch.Size([3, 40, 64])\n",
      "create_HrLr kernel_path:C:\\SaiVinay\\SproutsAI\\GitHub_\\ir_srgan_otsr\\results_kernels_DIV2K\\0722\\0722_kernel_x4.mat\n",
      "scale_factor:  [0.25, 0.25, 1]\n",
      "output_shape:  [43 64  3]\n",
      "im.shape:  (170, 255, 3)\n"
     ]
    },
    {
     "name": "stderr",
     "output_type": "stream",
     "text": [
      "Resizing images:  98%|█████████▊| 722/738 [02:41<00:03,  4.15it/s]"
     ]
    },
    {
     "name": "stdout",
     "output_type": "stream",
     "text": [
      "input_img.size():  torch.Size([3, 170, 255])\n",
      "resize2_img.size():  torch.Size([3, 43, 64])\n",
      "resize2_cut_img.size():  torch.Size([3, 40, 64])\n",
      "create_HrLr kernel_path:C:\\SaiVinay\\SproutsAI\\GitHub_\\ir_srgan_otsr\\results_kernels_DIV2K\\0723\\0723_kernel_x4.mat\n",
      "scale_factor:  [0.25, 0.25, 1]\n",
      "output_shape:  [43 64  3]\n",
      "im.shape:  (170, 255, 3)\n"
     ]
    },
    {
     "name": "stderr",
     "output_type": "stream",
     "text": [
      "Resizing images:  98%|█████████▊| 723/738 [02:41<00:03,  4.34it/s]"
     ]
    },
    {
     "name": "stdout",
     "output_type": "stream",
     "text": [
      "input_img.size():  torch.Size([3, 255, 170])\n",
      "resize2_img.size():  torch.Size([3, 64, 43])\n",
      "resize2_cut_img.size():  torch.Size([3, 64, 40])\n",
      "create_HrLr kernel_path:C:\\SaiVinay\\SproutsAI\\GitHub_\\ir_srgan_otsr\\results_kernels_DIV2K\\0724\\0724_kernel_x4.mat\n",
      "scale_factor:  [0.25, 0.25, 1]\n",
      "output_shape:  [64 43  3]\n",
      "im.shape:  (255, 170, 3)\n"
     ]
    },
    {
     "name": "stderr",
     "output_type": "stream",
     "text": [
      "Resizing images:  98%|█████████▊| 724/738 [02:42<00:03,  4.30it/s]"
     ]
    },
    {
     "name": "stdout",
     "output_type": "stream",
     "text": [
      "input_img.size():  torch.Size([3, 170, 255])\n",
      "resize2_img.size():  torch.Size([3, 43, 64])\n",
      "resize2_cut_img.size():  torch.Size([3, 40, 64])\n",
      "create_HrLr kernel_path:C:\\SaiVinay\\SproutsAI\\GitHub_\\ir_srgan_otsr\\results_kernels_DIV2K\\0725\\0725_kernel_x4.mat\n",
      "scale_factor:  [0.25, 0.25, 1]\n",
      "output_shape:  [43 64  3]\n",
      "im.shape:  (170, 255, 3)\n"
     ]
    },
    {
     "name": "stderr",
     "output_type": "stream",
     "text": [
      "Resizing images:  98%|█████████▊| 725/738 [02:42<00:03,  4.31it/s]"
     ]
    },
    {
     "name": "stdout",
     "output_type": "stream",
     "text": [
      "input_img.size():  torch.Size([3, 144, 255])\n",
      "resize2_img.size():  torch.Size([3, 36, 64])\n",
      "resize2_cut_img.size():  torch.Size([3, 36, 64])\n",
      "create_HrLr kernel_path:C:\\SaiVinay\\SproutsAI\\GitHub_\\ir_srgan_otsr\\results_kernels_DIV2K\\0726\\0726_kernel_x4.mat\n",
      "scale_factor:  [0.25, 0.25, 1]\n",
      "output_shape:  [36 64  3]\n",
      "im.shape:  (144, 255, 3)\n"
     ]
    },
    {
     "name": "stderr",
     "output_type": "stream",
     "text": [
      "Resizing images:  98%|█████████▊| 726/738 [02:42<00:02,  4.40it/s]"
     ]
    },
    {
     "name": "stdout",
     "output_type": "stream",
     "text": [
      "input_img.size():  torch.Size([3, 170, 255])\n",
      "resize2_img.size():  torch.Size([3, 43, 64])\n",
      "resize2_cut_img.size():  torch.Size([3, 40, 64])\n",
      "create_HrLr kernel_path:C:\\SaiVinay\\SproutsAI\\GitHub_\\ir_srgan_otsr\\results_kernels_DIV2K\\0727\\0727_kernel_x4.mat\n",
      "scale_factor:  [0.25, 0.25, 1]\n",
      "output_shape:  [43 64  3]\n",
      "im.shape:  (170, 255, 3)\n"
     ]
    },
    {
     "name": "stderr",
     "output_type": "stream",
     "text": [
      "Resizing images:  99%|█████████▊| 727/738 [02:42<00:02,  4.42it/s]"
     ]
    },
    {
     "name": "stdout",
     "output_type": "stream",
     "text": [
      "input_img.size():  torch.Size([3, 171, 255])\n",
      "resize2_img.size():  torch.Size([3, 43, 64])\n",
      "resize2_cut_img.size():  torch.Size([3, 40, 64])\n",
      "create_HrLr kernel_path:C:\\SaiVinay\\SproutsAI\\GitHub_\\ir_srgan_otsr\\results_kernels_DIV2K\\0728\\0728_kernel_x4.mat\n",
      "scale_factor:  [0.25, 0.25, 1]\n",
      "output_shape:  [43 64  3]\n",
      "im.shape:  (171, 255, 3)\n"
     ]
    },
    {
     "name": "stderr",
     "output_type": "stream",
     "text": [
      "Resizing images:  99%|█████████▊| 728/738 [02:43<00:02,  4.39it/s]"
     ]
    },
    {
     "name": "stdout",
     "output_type": "stream",
     "text": [
      "input_img.size():  torch.Size([3, 170, 255])\n",
      "resize2_img.size():  torch.Size([3, 43, 64])\n",
      "resize2_cut_img.size():  torch.Size([3, 40, 64])\n",
      "create_HrLr kernel_path:C:\\SaiVinay\\SproutsAI\\GitHub_\\ir_srgan_otsr\\results_kernels_DIV2K\\0729\\0729_kernel_x4.mat\n",
      "scale_factor:  [0.25, 0.25, 1]\n",
      "output_shape:  [43 64  3]\n",
      "im.shape:  (170, 255, 3)\n"
     ]
    },
    {
     "name": "stderr",
     "output_type": "stream",
     "text": [
      "Resizing images:  99%|█████████▉| 729/738 [02:43<00:02,  4.37it/s]"
     ]
    },
    {
     "name": "stdout",
     "output_type": "stream",
     "text": [
      "input_img.size():  torch.Size([3, 170, 255])\n",
      "resize2_img.size():  torch.Size([3, 43, 64])\n",
      "resize2_cut_img.size():  torch.Size([3, 40, 64])\n",
      "create_HrLr kernel_path:C:\\SaiVinay\\SproutsAI\\GitHub_\\ir_srgan_otsr\\results_kernels_DIV2K\\0730\\0730_kernel_x4.mat\n",
      "scale_factor:  [0.25, 0.25, 1]\n",
      "output_shape:  [43 64  3]\n",
      "im.shape:  (170, 255, 3)\n"
     ]
    },
    {
     "name": "stderr",
     "output_type": "stream",
     "text": [
      "Resizing images:  99%|█████████▉| 730/738 [02:43<00:01,  4.36it/s]"
     ]
    },
    {
     "name": "stdout",
     "output_type": "stream",
     "text": [
      "input_img.size():  torch.Size([3, 170, 255])\n",
      "resize2_img.size():  torch.Size([3, 43, 64])\n",
      "resize2_cut_img.size():  torch.Size([3, 40, 64])\n",
      "create_HrLr kernel_path:C:\\SaiVinay\\SproutsAI\\GitHub_\\ir_srgan_otsr\\results_kernels_DIV2K\\0731\\0731_kernel_x4.mat\n",
      "scale_factor:  [0.25, 0.25, 1]\n",
      "output_shape:  [43 64  3]\n",
      "im.shape:  (170, 255, 3)\n"
     ]
    },
    {
     "name": "stderr",
     "output_type": "stream",
     "text": [
      "Resizing images:  99%|█████████▉| 731/738 [02:43<00:01,  4.40it/s]"
     ]
    },
    {
     "name": "stdout",
     "output_type": "stream",
     "text": [
      "input_img.size():  torch.Size([3, 192, 255])\n",
      "resize2_img.size():  torch.Size([3, 48, 64])\n",
      "resize2_cut_img.size():  torch.Size([3, 48, 64])\n",
      "create_HrLr kernel_path:C:\\SaiVinay\\SproutsAI\\GitHub_\\ir_srgan_otsr\\results_kernels_DIV2K\\0732\\0732_kernel_x4.mat\n",
      "scale_factor:  [0.25, 0.25, 1]\n",
      "output_shape:  [48 64  3]\n",
      "im.shape:  (192, 255, 3)\n"
     ]
    },
    {
     "name": "stderr",
     "output_type": "stream",
     "text": [
      "Resizing images:  99%|█████████▉| 732/738 [02:44<00:01,  4.38it/s]"
     ]
    },
    {
     "name": "stdout",
     "output_type": "stream",
     "text": [
      "input_img.size():  torch.Size([3, 164, 255])\n",
      "resize2_img.size():  torch.Size([3, 41, 64])\n",
      "resize2_cut_img.size():  torch.Size([3, 40, 64])\n",
      "create_HrLr kernel_path:C:\\SaiVinay\\SproutsAI\\GitHub_\\ir_srgan_otsr\\results_kernels_DIV2K\\0733\\0733_kernel_x4.mat\n",
      "scale_factor:  [0.25, 0.25, 1]\n",
      "output_shape:  [41 64  3]\n",
      "im.shape:  (164, 255, 3)\n"
     ]
    },
    {
     "name": "stderr",
     "output_type": "stream",
     "text": [
      "Resizing images:  99%|█████████▉| 733/738 [02:44<00:01,  4.46it/s]"
     ]
    },
    {
     "name": "stdout",
     "output_type": "stream",
     "text": [
      "input_img.size():  torch.Size([3, 255, 170])\n",
      "resize2_img.size():  torch.Size([3, 64, 43])\n",
      "resize2_cut_img.size():  torch.Size([3, 64, 40])\n",
      "create_HrLr kernel_path:C:\\SaiVinay\\SproutsAI\\GitHub_\\ir_srgan_otsr\\results_kernels_DIV2K\\0734\\0734_kernel_x4.mat\n",
      "scale_factor:  [0.25, 0.25, 1]\n",
      "output_shape:  [64 43  3]\n",
      "im.shape:  (255, 170, 3)\n"
     ]
    },
    {
     "name": "stderr",
     "output_type": "stream",
     "text": [
      "Resizing images:  99%|█████████▉| 734/738 [02:44<00:00,  4.38it/s]"
     ]
    },
    {
     "name": "stdout",
     "output_type": "stream",
     "text": [
      "input_img.size():  torch.Size([3, 192, 255])\n",
      "resize2_img.size():  torch.Size([3, 48, 64])\n",
      "resize2_cut_img.size():  torch.Size([3, 48, 64])\n",
      "create_HrLr kernel_path:C:\\SaiVinay\\SproutsAI\\GitHub_\\ir_srgan_otsr\\results_kernels_DIV2K\\0735\\0735_kernel_x4.mat\n",
      "scale_factor:  [0.25, 0.25, 1]\n",
      "output_shape:  [48 64  3]\n",
      "im.shape:  (192, 255, 3)\n"
     ]
    },
    {
     "name": "stderr",
     "output_type": "stream",
     "text": [
      "Resizing images: 100%|█████████▉| 736/738 [02:44<00:00,  4.57it/s]"
     ]
    },
    {
     "name": "stdout",
     "output_type": "stream",
     "text": [
      "input_img.size():  torch.Size([3, 182, 255])\n",
      "resize2_img.size():  torch.Size([3, 46, 64])\n",
      "resize2_cut_img.size():  torch.Size([3, 44, 64])\n",
      "create_HrLr kernel_path:C:\\SaiVinay\\SproutsAI\\GitHub_\\ir_srgan_otsr\\results_kernels_DIV2K\\0736\\0736_kernel_x4.mat\n",
      "scale_factor:  [0.25, 0.25, 1]\n",
      "output_shape:  [46 64  3]\n",
      "im.shape:  (182, 255, 3)\n",
      "input_img.size():  torch.Size([3, 170, 255])\n",
      "resize2_img.size():  torch.Size([3, 43, 64])\n",
      "resize2_cut_img.size():  torch.Size([3, 40, 64])\n",
      "create_HrLr kernel_path:C:\\SaiVinay\\SproutsAI\\GitHub_\\ir_srgan_otsr\\results_kernels_DIV2K\\0737\\0737_kernel_x4.mat\n",
      "scale_factor:  [0.25, 0.25, 1]\n",
      "output_shape:  [43 64  3]\n",
      "im.shape:  (170, 255, 3)\n"
     ]
    },
    {
     "name": "stderr",
     "output_type": "stream",
     "text": [
      "Resizing images: 100%|█████████▉| 737/738 [02:45<00:00,  4.27it/s]"
     ]
    },
    {
     "name": "stdout",
     "output_type": "stream",
     "text": [
      "input_img.size():  torch.Size([3, 170, 255])\n",
      "resize2_img.size():  torch.Size([3, 43, 64])\n",
      "resize2_cut_img.size():  torch.Size([3, 40, 64])\n",
      "create_HrLr kernel_path:C:\\SaiVinay\\SproutsAI\\GitHub_\\ir_srgan_otsr\\results_kernels_DIV2K\\0738\\0738_kernel_x4.mat\n",
      "scale_factor:  [0.25, 0.25, 1]\n",
      "output_shape:  [43 64  3]\n",
      "im.shape:  (170, 255, 3)\n"
     ]
    },
    {
     "name": "stderr",
     "output_type": "stream",
     "text": [
      "Resizing images: 100%|██████████| 738/738 [02:45<00:00,  4.46it/s]\n"
     ]
    }
   ],
   "source": [
    "from imageResize import get_img_resize\n",
    "\n",
    "input_source_dir = r'C:\\SaiVinay\\SproutsAI\\GitHub_\\ir_srgan_otsr\\DF2K_LR_HR\\imgsResizedLR'\n",
    "opt_kernel_path = r\"C:\\SaiVinay\\SproutsAI\\GitHub_\\ir_srgan_otsr\\results_kernels_DIV2K\"\n",
    "tdsr_hr_dir = r\"C:\\SaiVinay\\SproutsAI\\GitHub_\\ir_srgan_otsr\\DF2K_LR_HR\\imgsResizedHR_L2\"\n",
    "tdsr_lr_dir = r\"C:\\SaiVinay\\SproutsAI\\GitHub_\\ir_srgan_otsr\\DF2K_LR_HR\\imgsResizedLR_L2\"\n",
    "get_img_resize(input_source_dir, opt_kernel_path, cleanup_factor=4, upscale_factor=4, tdsr_hr_dir=tdsr_hr_dir, tdsr_lr_dir=tdsr_lr_dir)"
   ]
  }
 ],
 "metadata": {
  "kernelspec": {
   "display_name": "base",
   "language": "python",
   "name": "python3"
  },
  "language_info": {
   "codemirror_mode": {
    "name": "ipython",
    "version": 3
   },
   "file_extension": ".py",
   "mimetype": "text/x-python",
   "name": "python",
   "nbconvert_exporter": "python",
   "pygments_lexer": "ipython3",
   "version": "3.12.2"
  }
 },
 "nbformat": 4,
 "nbformat_minor": 2
}
