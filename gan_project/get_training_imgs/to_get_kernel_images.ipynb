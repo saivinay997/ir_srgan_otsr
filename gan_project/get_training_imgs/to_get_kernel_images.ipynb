{
 "cells": [
  {
   "cell_type": "code",
   "execution_count": 12,
   "metadata": {},
   "outputs": [
    {
     "name": "stdout",
     "output_type": "stream",
     "text": [
      "Number of images in the source directory: 25\n"
     ]
    },
    {
     "name": "stderr",
     "output_type": "stream",
     "text": [
      "Resizing images:   0%|          | 0/25 [00:00<?, ?it/s]"
     ]
    },
    {
     "name": "stdout",
     "output_type": "stream",
     "text": [
      "input_img.size():  torch.Size([3, 512, 640])\n",
      "resize2_img.size():  torch.Size([3, 128, 160])\n",
      "resize2_cut_img.size():  torch.Size([3, 128, 160])\n",
      "create_HrLr kernel_path:C:\\SaiVinay\\SproutsAI\\GitHub_\\ir_srgan_otsr\\DroneImages_4xkernels\\1266\\1266_kernel_x4.mat\n",
      "scale_factor:  [0.25, 0.25, 1]\n",
      "output_shape:  [128 160   3]\n",
      "im.shape:  (512, 640, 3)\n"
     ]
    },
    {
     "name": "stderr",
     "output_type": "stream",
     "text": [
      "Resizing images:   4%|▍         | 1/25 [00:00<00:23,  1.02it/s]"
     ]
    },
    {
     "name": "stdout",
     "output_type": "stream",
     "text": [
      "input_img.size():  torch.Size([3, 512, 640])\n",
      "resize2_img.size():  torch.Size([3, 128, 160])\n",
      "resize2_cut_img.size():  torch.Size([3, 128, 160])\n",
      "create_HrLr kernel_path:C:\\SaiVinay\\SproutsAI\\GitHub_\\ir_srgan_otsr\\DroneImages_4xkernels\\17746\\17746_kernel_x4.mat\n",
      "scale_factor:  [0.25, 0.25, 1]\n",
      "output_shape:  [128 160   3]\n",
      "im.shape:  (512, 640, 3)\n"
     ]
    },
    {
     "name": "stderr",
     "output_type": "stream",
     "text": [
      "Resizing images:   8%|▊         | 2/25 [00:01<00:22,  1.02it/s]"
     ]
    },
    {
     "name": "stdout",
     "output_type": "stream",
     "text": [
      "input_img.size():  torch.Size([3, 512, 640])\n",
      "resize2_img.size():  torch.Size([3, 128, 160])\n",
      "resize2_cut_img.size():  torch.Size([3, 128, 160])\n",
      "create_HrLr kernel_path:C:\\SaiVinay\\SproutsAI\\GitHub_\\ir_srgan_otsr\\DroneImages_4xkernels\\17877\\17877_kernel_x4.mat\n",
      "scale_factor:  [0.25, 0.25, 1]\n",
      "output_shape:  [128 160   3]\n",
      "im.shape:  (512, 640, 3)\n"
     ]
    },
    {
     "name": "stderr",
     "output_type": "stream",
     "text": [
      "Resizing images:  12%|█▏        | 3/25 [00:02<00:21,  1.02it/s]"
     ]
    },
    {
     "name": "stdout",
     "output_type": "stream",
     "text": [
      "input_img.size():  torch.Size([3, 512, 640])\n",
      "resize2_img.size():  torch.Size([3, 128, 160])\n",
      "resize2_cut_img.size():  torch.Size([3, 128, 160])\n",
      "create_HrLr kernel_path:C:\\SaiVinay\\SproutsAI\\GitHub_\\ir_srgan_otsr\\DroneImages_4xkernels\\18037\\18037_kernel_x4.mat\n",
      "scale_factor:  [0.25, 0.25, 1]\n",
      "output_shape:  [128 160   3]\n",
      "im.shape:  (512, 640, 3)\n"
     ]
    },
    {
     "name": "stderr",
     "output_type": "stream",
     "text": [
      "Resizing images:  16%|█▌        | 4/25 [00:03<00:20,  1.01it/s]"
     ]
    },
    {
     "name": "stdout",
     "output_type": "stream",
     "text": [
      "input_img.size():  torch.Size([3, 512, 640])\n",
      "resize2_img.size():  torch.Size([3, 128, 160])\n",
      "resize2_cut_img.size():  torch.Size([3, 128, 160])\n",
      "create_HrLr kernel_path:C:\\SaiVinay\\SproutsAI\\GitHub_\\ir_srgan_otsr\\DroneImages_4xkernels\\18276\\18276_kernel_x4.mat\n",
      "scale_factor:  [0.25, 0.25, 1]\n",
      "output_shape:  [128 160   3]\n",
      "im.shape:  (512, 640, 3)\n"
     ]
    },
    {
     "name": "stderr",
     "output_type": "stream",
     "text": [
      "Resizing images:  20%|██        | 5/25 [00:04<00:19,  1.02it/s]"
     ]
    },
    {
     "name": "stdout",
     "output_type": "stream",
     "text": [
      "input_img.size():  torch.Size([3, 512, 640])\n",
      "resize2_img.size():  torch.Size([3, 128, 160])\n",
      "resize2_cut_img.size():  torch.Size([3, 128, 160])\n",
      "create_HrLr kernel_path:C:\\SaiVinay\\SproutsAI\\GitHub_\\ir_srgan_otsr\\DroneImages_4xkernels\\18506\\18506_kernel_x4.mat\n",
      "scale_factor:  [0.25, 0.25, 1]\n",
      "output_shape:  [128 160   3]\n",
      "im.shape:  (512, 640, 3)\n"
     ]
    },
    {
     "name": "stderr",
     "output_type": "stream",
     "text": [
      "Resizing images:  24%|██▍       | 6/25 [00:05<00:18,  1.02it/s]"
     ]
    },
    {
     "name": "stdout",
     "output_type": "stream",
     "text": [
      "input_img.size():  torch.Size([3, 512, 640])\n",
      "resize2_img.size():  torch.Size([3, 128, 160])\n",
      "resize2_cut_img.size():  torch.Size([3, 128, 160])\n",
      "create_HrLr kernel_path:C:\\SaiVinay\\SproutsAI\\GitHub_\\ir_srgan_otsr\\DroneImages_4xkernels\\18597\\18597_kernel_x4.mat\n",
      "scale_factor:  [0.25, 0.25, 1]\n",
      "output_shape:  [128 160   3]\n",
      "im.shape:  (512, 640, 3)\n"
     ]
    },
    {
     "name": "stderr",
     "output_type": "stream",
     "text": [
      "Resizing images:  28%|██▊       | 7/25 [00:06<00:17,  1.01it/s]"
     ]
    },
    {
     "name": "stdout",
     "output_type": "stream",
     "text": [
      "input_img.size():  torch.Size([3, 512, 640])\n",
      "resize2_img.size():  torch.Size([3, 128, 160])\n",
      "resize2_cut_img.size():  torch.Size([3, 128, 160])\n",
      "create_HrLr kernel_path:C:\\SaiVinay\\SproutsAI\\GitHub_\\ir_srgan_otsr\\DroneImages_4xkernels\\18677\\18677_kernel_x4.mat\n",
      "scale_factor:  [0.25, 0.25, 1]\n",
      "output_shape:  [128 160   3]\n",
      "im.shape:  (512, 640, 3)\n"
     ]
    },
    {
     "name": "stderr",
     "output_type": "stream",
     "text": [
      "Resizing images:  32%|███▏      | 8/25 [00:08<00:20,  1.23s/it]"
     ]
    },
    {
     "name": "stdout",
     "output_type": "stream",
     "text": [
      "input_img.size():  torch.Size([3, 512, 640])\n",
      "resize2_img.size():  torch.Size([3, 128, 160])\n",
      "resize2_cut_img.size():  torch.Size([3, 128, 160])\n",
      "create_HrLr kernel_path:C:\\SaiVinay\\SproutsAI\\GitHub_\\ir_srgan_otsr\\DroneImages_4xkernels\\18678\\18678_kernel_x4.mat\n",
      "scale_factor:  [0.25, 0.25, 1]\n",
      "output_shape:  [128 160   3]\n",
      "im.shape:  (512, 640, 3)\n"
     ]
    },
    {
     "name": "stderr",
     "output_type": "stream",
     "text": [
      "Resizing images:  36%|███▌      | 9/25 [00:09<00:18,  1.16s/it]"
     ]
    },
    {
     "name": "stdout",
     "output_type": "stream",
     "text": [
      "input_img.size():  torch.Size([3, 512, 640])\n",
      "resize2_img.size():  torch.Size([3, 128, 160])\n",
      "resize2_cut_img.size():  torch.Size([3, 128, 160])\n",
      "create_HrLr kernel_path:C:\\SaiVinay\\SproutsAI\\GitHub_\\ir_srgan_otsr\\DroneImages_4xkernels\\18757\\18757_kernel_x4.mat\n",
      "scale_factor:  [0.25, 0.25, 1]\n",
      "output_shape:  [128 160   3]\n",
      "im.shape:  (512, 640, 3)\n"
     ]
    },
    {
     "name": "stderr",
     "output_type": "stream",
     "text": [
      "Resizing images:  40%|████      | 10/25 [00:10<00:16,  1.10s/it]"
     ]
    },
    {
     "name": "stdout",
     "output_type": "stream",
     "text": [
      "input_img.size():  torch.Size([3, 512, 640])\n",
      "resize2_img.size():  torch.Size([3, 128, 160])\n",
      "resize2_cut_img.size():  torch.Size([3, 128, 160])\n",
      "create_HrLr kernel_path:C:\\SaiVinay\\SproutsAI\\GitHub_\\ir_srgan_otsr\\DroneImages_4xkernels\\18877\\18877_kernel_x4.mat\n",
      "scale_factor:  [0.25, 0.25, 1]\n",
      "output_shape:  [128 160   3]\n",
      "im.shape:  (512, 640, 3)\n"
     ]
    },
    {
     "name": "stderr",
     "output_type": "stream",
     "text": [
      "Resizing images:  44%|████▍     | 11/25 [00:11<00:14,  1.07s/it]"
     ]
    },
    {
     "name": "stdout",
     "output_type": "stream",
     "text": [
      "input_img.size():  torch.Size([3, 512, 640])\n",
      "resize2_img.size():  torch.Size([3, 128, 160])\n",
      "resize2_cut_img.size():  torch.Size([3, 128, 160])\n",
      "create_HrLr kernel_path:C:\\SaiVinay\\SproutsAI\\GitHub_\\ir_srgan_otsr\\DroneImages_4xkernels\\18977\\18977_kernel_x4.mat\n",
      "scale_factor:  [0.25, 0.25, 1]\n",
      "output_shape:  [128 160   3]\n",
      "im.shape:  (512, 640, 3)\n"
     ]
    },
    {
     "name": "stderr",
     "output_type": "stream",
     "text": [
      "Resizing images:  48%|████▊     | 12/25 [00:12<00:13,  1.04s/it]"
     ]
    },
    {
     "name": "stdout",
     "output_type": "stream",
     "text": [
      "input_img.size():  torch.Size([3, 512, 640])\n",
      "resize2_img.size():  torch.Size([3, 128, 160])\n",
      "resize2_cut_img.size():  torch.Size([3, 128, 160])\n",
      "create_HrLr kernel_path:C:\\SaiVinay\\SproutsAI\\GitHub_\\ir_srgan_otsr\\DroneImages_4xkernels\\18978\\18978_kernel_x4.mat\n",
      "scale_factor:  [0.25, 0.25, 1]\n",
      "output_shape:  [128 160   3]\n",
      "im.shape:  (512, 640, 3)\n"
     ]
    },
    {
     "name": "stderr",
     "output_type": "stream",
     "text": [
      "Resizing images:  52%|█████▏    | 13/25 [00:13<00:12,  1.03s/it]"
     ]
    },
    {
     "name": "stdout",
     "output_type": "stream",
     "text": [
      "input_img.size():  torch.Size([3, 518, 698])\n",
      "resize2_img.size():  torch.Size([3, 130, 175])\n",
      "resize2_cut_img.size():  torch.Size([3, 128, 172])\n",
      "create_HrLr kernel_path:C:\\SaiVinay\\SproutsAI\\GitHub_\\ir_srgan_otsr\\DroneImages_4xkernels\\19\\19_kernel_x4.mat\n",
      "scale_factor:  [0.25, 0.25, 1]\n",
      "output_shape:  [130 175   3]\n",
      "im.shape:  (518, 698, 3)\n"
     ]
    },
    {
     "name": "stderr",
     "output_type": "stream",
     "text": [
      "Resizing images:  56%|█████▌    | 14/25 [00:14<00:11,  1.05s/it]"
     ]
    },
    {
     "name": "stdout",
     "output_type": "stream",
     "text": [
      "input_img.size():  torch.Size([3, 512, 640])\n",
      "resize2_img.size():  torch.Size([3, 128, 160])\n",
      "resize2_cut_img.size():  torch.Size([3, 128, 160])\n",
      "create_HrLr kernel_path:C:\\SaiVinay\\SproutsAI\\GitHub_\\ir_srgan_otsr\\DroneImages_4xkernels\\19066\\19066_kernel_x4.mat\n",
      "scale_factor:  [0.25, 0.25, 1]\n",
      "output_shape:  [128 160   3]\n",
      "im.shape:  (512, 640, 3)\n"
     ]
    },
    {
     "name": "stderr",
     "output_type": "stream",
     "text": [
      "Resizing images:  60%|██████    | 15/25 [00:15<00:10,  1.03s/it]"
     ]
    },
    {
     "name": "stdout",
     "output_type": "stream",
     "text": [
      "input_img.size():  torch.Size([3, 512, 640])\n",
      "resize2_img.size():  torch.Size([3, 128, 160])\n",
      "resize2_cut_img.size():  torch.Size([3, 128, 160])\n",
      "create_HrLr kernel_path:C:\\SaiVinay\\SproutsAI\\GitHub_\\ir_srgan_otsr\\DroneImages_4xkernels\\19156\\19156_kernel_x4.mat\n",
      "scale_factor:  [0.25, 0.25, 1]\n",
      "output_shape:  [128 160   3]\n",
      "im.shape:  (512, 640, 3)\n"
     ]
    },
    {
     "name": "stderr",
     "output_type": "stream",
     "text": [
      "Resizing images:  64%|██████▍   | 16/25 [00:16<00:09,  1.01s/it]"
     ]
    },
    {
     "name": "stdout",
     "output_type": "stream",
     "text": [
      "input_img.size():  torch.Size([3, 512, 640])\n",
      "resize2_img.size():  torch.Size([3, 128, 160])\n",
      "resize2_cut_img.size():  torch.Size([3, 128, 160])\n",
      "create_HrLr kernel_path:C:\\SaiVinay\\SproutsAI\\GitHub_\\ir_srgan_otsr\\DroneImages_4xkernels\\19157\\19157_kernel_x4.mat\n",
      "scale_factor:  [0.25, 0.25, 1]\n",
      "output_shape:  [128 160   3]\n",
      "im.shape:  (512, 640, 3)\n"
     ]
    },
    {
     "name": "stderr",
     "output_type": "stream",
     "text": [
      "Resizing images:  68%|██████▊   | 17/25 [00:17<00:08,  1.01s/it]"
     ]
    },
    {
     "name": "stdout",
     "output_type": "stream",
     "text": [
      "input_img.size():  torch.Size([3, 512, 640])\n",
      "resize2_img.size():  torch.Size([3, 128, 160])\n",
      "resize2_cut_img.size():  torch.Size([3, 128, 160])\n",
      "create_HrLr kernel_path:C:\\SaiVinay\\SproutsAI\\GitHub_\\ir_srgan_otsr\\DroneImages_4xkernels\\20236\\20236_kernel_x4.mat\n",
      "scale_factor:  [0.25, 0.25, 1]\n",
      "output_shape:  [128 160   3]\n",
      "im.shape:  (512, 640, 3)\n"
     ]
    },
    {
     "name": "stderr",
     "output_type": "stream",
     "text": [
      "Resizing images:  72%|███████▏  | 18/25 [00:18<00:07,  1.00s/it]"
     ]
    },
    {
     "name": "stdout",
     "output_type": "stream",
     "text": [
      "input_img.size():  torch.Size([3, 512, 640])\n",
      "resize2_img.size():  torch.Size([3, 128, 160])\n",
      "resize2_cut_img.size():  torch.Size([3, 128, 160])\n",
      "create_HrLr kernel_path:C:\\SaiVinay\\SproutsAI\\GitHub_\\ir_srgan_otsr\\DroneImages_4xkernels\\20436\\20436_kernel_x4.mat\n",
      "scale_factor:  [0.25, 0.25, 1]\n",
      "output_shape:  [128 160   3]\n",
      "im.shape:  (512, 640, 3)\n"
     ]
    },
    {
     "name": "stderr",
     "output_type": "stream",
     "text": [
      "Resizing images:  76%|███████▌  | 19/25 [00:19<00:05,  1.00it/s]"
     ]
    },
    {
     "name": "stdout",
     "output_type": "stream",
     "text": [
      "input_img.size():  torch.Size([3, 512, 640])\n",
      "resize2_img.size():  torch.Size([3, 128, 160])\n",
      "resize2_cut_img.size():  torch.Size([3, 128, 160])\n",
      "create_HrLr kernel_path:C:\\SaiVinay\\SproutsAI\\GitHub_\\ir_srgan_otsr\\DroneImages_4xkernels\\20452\\20452_kernel_x4.mat\n",
      "scale_factor:  [0.25, 0.25, 1]\n",
      "output_shape:  [128 160   3]\n",
      "im.shape:  (512, 640, 3)\n"
     ]
    },
    {
     "name": "stderr",
     "output_type": "stream",
     "text": [
      "Resizing images:  80%|████████  | 20/25 [00:20<00:04,  1.01it/s]"
     ]
    },
    {
     "name": "stdout",
     "output_type": "stream",
     "text": [
      "input_img.size():  torch.Size([3, 518, 698])\n",
      "resize2_img.size():  torch.Size([3, 130, 175])\n",
      "resize2_cut_img.size():  torch.Size([3, 128, 172])\n",
      "create_HrLr kernel_path:C:\\SaiVinay\\SproutsAI\\GitHub_\\ir_srgan_otsr\\DroneImages_4xkernels\\4\\4_kernel_x4.mat\n",
      "scale_factor:  [0.25, 0.25, 1]\n",
      "output_shape:  [130 175   3]\n",
      "im.shape:  (518, 698, 3)\n"
     ]
    },
    {
     "name": "stderr",
     "output_type": "stream",
     "text": [
      "Resizing images:  84%|████████▍ | 21/25 [00:21<00:04,  1.02s/it]"
     ]
    },
    {
     "name": "stdout",
     "output_type": "stream",
     "text": [
      "input_img.size():  torch.Size([3, 512, 640])\n",
      "resize2_img.size():  torch.Size([3, 128, 160])\n",
      "resize2_cut_img.size():  torch.Size([3, 128, 160])\n",
      "create_HrLr kernel_path:C:\\SaiVinay\\SproutsAI\\GitHub_\\ir_srgan_otsr\\DroneImages_4xkernels\\506\\506_kernel_x4.mat\n",
      "scale_factor:  [0.25, 0.25, 1]\n",
      "output_shape:  [128 160   3]\n",
      "im.shape:  (512, 640, 3)\n"
     ]
    },
    {
     "name": "stderr",
     "output_type": "stream",
     "text": [
      "Resizing images:  88%|████████▊ | 22/25 [00:22<00:03,  1.01s/it]"
     ]
    },
    {
     "name": "stdout",
     "output_type": "stream",
     "text": [
      "input_img.size():  torch.Size([3, 512, 640])\n",
      "resize2_img.size():  torch.Size([3, 128, 160])\n",
      "resize2_cut_img.size():  torch.Size([3, 128, 160])\n",
      "create_HrLr kernel_path:C:\\SaiVinay\\SproutsAI\\GitHub_\\ir_srgan_otsr\\DroneImages_4xkernels\\7926\\7926_kernel_x4.mat\n",
      "scale_factor:  [0.25, 0.25, 1]\n",
      "output_shape:  [128 160   3]\n",
      "im.shape:  (512, 640, 3)\n"
     ]
    },
    {
     "name": "stderr",
     "output_type": "stream",
     "text": [
      "Resizing images:  92%|█████████▏| 23/25 [00:23<00:01,  1.00it/s]"
     ]
    },
    {
     "name": "stdout",
     "output_type": "stream",
     "text": [
      "input_img.size():  torch.Size([3, 512, 640])\n",
      "resize2_img.size():  torch.Size([3, 128, 160])\n",
      "resize2_cut_img.size():  torch.Size([3, 128, 160])\n",
      "create_HrLr kernel_path:C:\\SaiVinay\\SproutsAI\\GitHub_\\ir_srgan_otsr\\DroneImages_4xkernels\\8566\\8566_kernel_x4.mat\n",
      "scale_factor:  [0.25, 0.25, 1]\n",
      "output_shape:  [128 160   3]\n",
      "im.shape:  (512, 640, 3)\n"
     ]
    },
    {
     "name": "stderr",
     "output_type": "stream",
     "text": [
      "Resizing images:  96%|█████████▌| 24/25 [00:24<00:00,  1.01it/s]"
     ]
    },
    {
     "name": "stdout",
     "output_type": "stream",
     "text": [
      "input_img.size():  torch.Size([3, 518, 698])\n",
      "resize2_img.size():  torch.Size([3, 130, 175])\n",
      "resize2_cut_img.size():  torch.Size([3, 128, 172])\n",
      "create_HrLr kernel_path:C:\\SaiVinay\\SproutsAI\\GitHub_\\ir_srgan_otsr\\DroneImages_4xkernels\\9\\9_kernel_x4.mat\n",
      "scale_factor:  [0.25, 0.25, 1]\n",
      "output_shape:  [130 175   3]\n",
      "im.shape:  (518, 698, 3)\n"
     ]
    },
    {
     "name": "stderr",
     "output_type": "stream",
     "text": [
      "Resizing images: 100%|██████████| 25/25 [00:25<00:00,  1.03s/it]\n"
     ]
    }
   ],
   "source": [
    "from imageResize import get_img_resize\n",
    "\n",
    "input_source_dir = r'C:\\SaiVinay\\SproutsAI\\GitHub_\\ir_srgan_otsr\\model_validation\\validation_datasets\\DroneImages\\3C_imgs'\n",
    "opt_kernel_path = r\"C:\\SaiVinay\\SproutsAI\\GitHub_\\ir_srgan_otsr\\DroneImages_4xkernels\"\n",
    "tdsr_hr_dir = r\"C:\\SaiVinay\\SproutsAI\\GitHub_\\ir_srgan_otsr\\model_validation\\validation_datasets\\DroneImages\\KernelResizeImages\\HR_imgs\"\n",
    "tdsr_lr_dir = r\"C:\\SaiVinay\\SproutsAI\\GitHub_\\ir_srgan_otsr\\model_validation\\validation_datasets\\DroneImages\\KernelResizeImages\\LR_imgs\"\n",
    "get_img_resize(input_source_dir, opt_kernel_path, cleanup_factor=4, upscale_factor=4, tdsr_hr_dir=tdsr_hr_dir, tdsr_lr_dir=tdsr_lr_dir)"
   ]
  },
  {
   "cell_type": "code",
   "execution_count": 11,
   "metadata": {},
   "outputs": [
    {
     "name": "stdout",
     "output_type": "stream",
     "text": [
      "shape of image:  (512, 640, 3)\n",
      "shape of image:  (512, 640, 3)\n",
      "shape of image:  (512, 640, 3)\n",
      "shape of image:  (512, 640, 3)\n",
      "shape of image:  (512, 640, 3)\n",
      "shape of image:  (512, 640, 3)\n",
      "shape of image:  (512, 640, 3)\n",
      "shape of image:  (512, 640, 3)\n",
      "shape of image:  (512, 640, 3)\n",
      "shape of image:  (512, 640, 3)\n",
      "shape of image:  (512, 640, 3)\n",
      "shape of image:  (512, 640, 3)\n",
      "shape of image:  (512, 640, 3)\n",
      "shape of image:  (518, 698, 3)\n",
      "shape of image:  (512, 640, 3)\n",
      "shape of image:  (512, 640, 3)\n",
      "shape of image:  (512, 640, 3)\n",
      "shape of image:  (512, 640, 3)\n",
      "shape of image:  (512, 640, 3)\n",
      "shape of image:  (512, 640, 3)\n",
      "shape of image:  (518, 698, 3)\n",
      "shape of image:  (512, 640, 3)\n",
      "shape of image:  (512, 640, 3)\n",
      "shape of image:  (512, 640, 3)\n",
      "shape of image:  (518, 698, 3)\n"
     ]
    }
   ],
   "source": [
    "### convert grayscale to RGB\n",
    "from PIL import Image\n",
    "import os\n",
    "import numpy as np\n",
    "import cv2\n",
    "\n",
    "def convert_grayscale_to_rgb(input_dir, output_dir):\n",
    "    for img_name in os.listdir(input_dir):\n",
    "        # print(img)\n",
    "        img_path = os.path.join(input_dir, img_name)\n",
    "        # print(img_path)\n",
    "        img = cv2.imread(img_path, cv2.IMREAD_GRAYSCALE)\n",
    "        img = cv2.cvtColor(img, cv2.COLOR_GRAY2RGB)\n",
    "        cv2.imwrite(os.path.join(output_dir, img_name), img)\n",
    "        print(\"shape of image: \", img.shape)\n",
    "\n",
    "input_dir = r\"C:\\SaiVinay\\SproutsAI\\GitHub_\\ir_srgan_otsr\\model_validation\\validation_datasets\\DroneImages\\test_images\"\n",
    "output_dir = r\"C:\\SaiVinay\\SproutsAI\\GitHub_\\ir_srgan_otsr\\model_validation\\validation_datasets\\DroneImages\\3C_imgs\"\n",
    "convert_grayscale_to_rgb(input_dir, output_dir)\n"
   ]
  },
  {
   "cell_type": "code",
   "execution_count": 16,
   "metadata": {},
   "outputs": [
    {
     "name": "stdout",
     "output_type": "stream",
     "text": [
      "shape of image:  (128, 160)\n",
      "shape of image:  (128, 160)\n",
      "shape of image:  (128, 160)\n",
      "shape of image:  (128, 160)\n",
      "shape of image:  (128, 160)\n",
      "shape of image:  (128, 160)\n",
      "shape of image:  (128, 160)\n",
      "shape of image:  (128, 160)\n",
      "shape of image:  (128, 160)\n",
      "shape of image:  (128, 160)\n",
      "shape of image:  (128, 160)\n",
      "shape of image:  (128, 160)\n",
      "shape of image:  (128, 160)\n",
      "shape of image:  (128, 160)\n",
      "shape of image:  (128, 160)\n",
      "shape of image:  (128, 160)\n",
      "shape of image:  (128, 160)\n",
      "shape of image:  (128, 160)\n",
      "shape of image:  (128, 160)\n",
      "shape of image:  (128, 160)\n"
     ]
    }
   ],
   "source": [
    "## Convert RGB to Grayscale\n",
    "\n",
    "def convert_rgb_to_grayscale(input_dir, output_dir):\n",
    "    for img_name in os.listdir(input_dir):\n",
    "        # print(img)\n",
    "        img_path = os.path.join(input_dir, img_name)\n",
    "        # print(img_path)\n",
    "        img = cv2.imread(img_path)\n",
    "        img = cv2.cvtColor(img, cv2.COLOR_RGB2GRAY)\n",
    "        cv2.imwrite(os.path.join(output_dir, img_name), img)\n",
    "        print(\"shape of image: \", img.shape)\n",
    "\n",
    "input_dir = r\"C:\\SaiVinay\\SproutsAI\\GitHub_\\ir_srgan_otsr\\model_validation\\validation_datasets\\FLIR_Dataset\\KernelResizeImages\\LR_imgs\"\n",
    "output_dir = r\"C:\\SaiVinay\\SproutsAI\\GitHub_\\ir_srgan_otsr\\model_validation\\validation_datasets\\FLIR_Dataset\\KernelResizeImages\\GrayScaleImgs\\LR_imgs\"\n",
    "convert_rgb_to_grayscale(input_dir, output_dir)\n"
   ]
  }
 ],
 "metadata": {
  "kernelspec": {
   "display_name": "base",
   "language": "python",
   "name": "python3"
  },
  "language_info": {
   "codemirror_mode": {
    "name": "ipython",
    "version": 3
   },
   "file_extension": ".py",
   "mimetype": "text/x-python",
   "name": "python",
   "nbconvert_exporter": "python",
   "pygments_lexer": "ipython3",
   "version": "3.12.2"
  }
 },
 "nbformat": 4,
 "nbformat_minor": 2
}
