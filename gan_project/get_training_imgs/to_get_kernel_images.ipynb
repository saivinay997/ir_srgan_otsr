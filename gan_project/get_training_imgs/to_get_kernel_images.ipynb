{
 "cells": [
  {
   "cell_type": "code",
   "execution_count": 3,
   "metadata": {},
   "outputs": [
    {
     "name": "stdout",
     "output_type": "stream",
     "text": [
      "Number of images in the source directory: 800\n"
     ]
    },
    {
     "name": "stderr",
     "output_type": "stream",
     "text": [
      "Resizing images:   0%|          | 0/800 [00:00<?, ?it/s]"
     ]
    },
    {
     "name": "stdout",
     "output_type": "stream",
     "text": [
      "input_img.size():  torch.Size([3, 1404, 2040])\n",
      "resize2_img.size():  torch.Size([3, 176, 255])\n",
      "resize2_cut_img.size():  torch.Size([3, 176, 248])\n",
      "create_HrLr kernel_path:C:\\SaiVinay\\SproutsAI\\GitHub_\\ir_srgan_otsr\\results_kernels_DIV2K\\0001\\0001_kernel_x4.mat\n",
      "scale_factor:  [0.125, 0.125, 1]\n",
      "output_shape:  [176 255   3]\n",
      "im.shape:  (1404, 2040, 3)\n"
     ]
    },
    {
     "name": "stderr",
     "output_type": "stream",
     "text": [
      "Resizing images:   0%|          | 1/800 [00:09<2:03:30,  9.28s/it]"
     ]
    },
    {
     "name": "stdout",
     "output_type": "stream",
     "text": [
      "input_img.size():  torch.Size([3, 1848, 2040])\n",
      "resize2_img.size():  torch.Size([3, 231, 255])\n",
      "resize2_cut_img.size():  torch.Size([3, 224, 248])\n",
      "create_HrLr kernel_path:C:\\SaiVinay\\SproutsAI\\GitHub_\\ir_srgan_otsr\\results_kernels_DIV2K\\0002\\0002_kernel_x4.mat\n",
      "scale_factor:  [0.125, 0.125, 1]\n",
      "output_shape:  [231 255   3]\n",
      "im.shape:  (1848, 2040, 3)\n"
     ]
    },
    {
     "name": "stderr",
     "output_type": "stream",
     "text": [
      "Resizing images:   0%|          | 2/800 [00:21<2:23:15, 10.77s/it]"
     ]
    },
    {
     "name": "stdout",
     "output_type": "stream",
     "text": [
      "input_img.size():  torch.Size([3, 1356, 2040])\n",
      "resize2_img.size():  torch.Size([3, 170, 255])\n",
      "resize2_cut_img.size():  torch.Size([3, 168, 248])\n",
      "create_HrLr kernel_path:C:\\SaiVinay\\SproutsAI\\GitHub_\\ir_srgan_otsr\\results_kernels_DIV2K\\0003\\0003_kernel_x4.mat\n",
      "scale_factor:  [0.125, 0.125, 1]\n",
      "output_shape:  [170 255   3]\n",
      "im.shape:  (1356, 2040, 3)\n"
     ]
    },
    {
     "name": "stderr",
     "output_type": "stream",
     "text": [
      "Resizing images:   0%|          | 3/800 [00:30<2:11:54,  9.93s/it]"
     ]
    },
    {
     "name": "stdout",
     "output_type": "stream",
     "text": [
      "input_img.size():  torch.Size([3, 1344, 2040])\n",
      "resize2_img.size():  torch.Size([3, 168, 255])\n",
      "resize2_cut_img.size():  torch.Size([3, 168, 248])\n",
      "create_HrLr kernel_path:C:\\SaiVinay\\SproutsAI\\GitHub_\\ir_srgan_otsr\\results_kernels_DIV2K\\0004\\0004_kernel_x4.mat\n",
      "scale_factor:  [0.125, 0.125, 1]\n",
      "output_shape:  [168 255   3]\n",
      "im.shape:  (1344, 2040, 3)\n"
     ]
    },
    {
     "name": "stderr",
     "output_type": "stream",
     "text": [
      "Resizing images:   0%|          | 4/800 [00:38<2:04:50,  9.41s/it]"
     ]
    },
    {
     "name": "stdout",
     "output_type": "stream",
     "text": [
      "input_img.size():  torch.Size([3, 2040, 1608])\n",
      "resize2_img.size():  torch.Size([3, 255, 201])\n",
      "resize2_cut_img.size():  torch.Size([3, 248, 200])\n",
      "create_HrLr kernel_path:C:\\SaiVinay\\SproutsAI\\GitHub_\\ir_srgan_otsr\\results_kernels_DIV2K\\0005\\0005_kernel_x4.mat\n",
      "scale_factor:  [0.125, 0.125, 1]\n",
      "output_shape:  [255 201   3]\n",
      "im.shape:  (2040, 1608, 3)\n"
     ]
    },
    {
     "name": "stderr",
     "output_type": "stream",
     "text": [
      "Resizing images:   1%|          | 5/800 [00:48<2:07:31,  9.62s/it]"
     ]
    },
    {
     "name": "stdout",
     "output_type": "stream",
     "text": [
      "input_img.size():  torch.Size([3, 2040, 1356])\n",
      "resize2_img.size():  torch.Size([3, 255, 170])\n",
      "resize2_cut_img.size():  torch.Size([3, 248, 168])\n",
      "create_HrLr kernel_path:C:\\SaiVinay\\SproutsAI\\GitHub_\\ir_srgan_otsr\\results_kernels_DIV2K\\0006\\0006_kernel_x4.mat\n",
      "scale_factor:  [0.125, 0.125, 1]\n",
      "output_shape:  [255 170   3]\n",
      "im.shape:  (2040, 1356, 3)\n"
     ]
    },
    {
     "name": "stderr",
     "output_type": "stream",
     "text": [
      "Resizing images:   1%|          | 6/800 [00:57<2:04:08,  9.38s/it]"
     ]
    },
    {
     "name": "stdout",
     "output_type": "stream",
     "text": [
      "input_img.size():  torch.Size([3, 1356, 2040])\n",
      "resize2_img.size():  torch.Size([3, 170, 255])\n",
      "resize2_cut_img.size():  torch.Size([3, 168, 248])\n",
      "create_HrLr kernel_path:C:\\SaiVinay\\SproutsAI\\GitHub_\\ir_srgan_otsr\\results_kernels_DIV2K\\0007\\0007_kernel_x4.mat\n",
      "scale_factor:  [0.125, 0.125, 1]\n",
      "output_shape:  [170 255   3]\n",
      "im.shape:  (1356, 2040, 3)\n"
     ]
    },
    {
     "name": "stderr",
     "output_type": "stream",
     "text": [
      "Resizing images:   1%|          | 7/800 [01:06<2:00:47,  9.14s/it]"
     ]
    },
    {
     "name": "stdout",
     "output_type": "stream",
     "text": [
      "input_img.size():  torch.Size([3, 1356, 2040])\n",
      "resize2_img.size():  torch.Size([3, 170, 255])\n",
      "resize2_cut_img.size():  torch.Size([3, 168, 248])\n",
      "create_HrLr kernel_path:C:\\SaiVinay\\SproutsAI\\GitHub_\\ir_srgan_otsr\\results_kernels_DIV2K\\0008\\0008_kernel_x4.mat\n",
      "scale_factor:  [0.125, 0.125, 1]\n",
      "output_shape:  [170 255   3]\n",
      "im.shape:  (1356, 2040, 3)\n"
     ]
    },
    {
     "name": "stderr",
     "output_type": "stream",
     "text": [
      "Resizing images:   1%|          | 8/800 [01:14<1:58:29,  8.98s/it]"
     ]
    },
    {
     "name": "stdout",
     "output_type": "stream",
     "text": [
      "input_img.size():  torch.Size([3, 1524, 2040])\n",
      "resize2_img.size():  torch.Size([3, 191, 255])\n",
      "resize2_cut_img.size():  torch.Size([3, 184, 248])\n",
      "create_HrLr kernel_path:C:\\SaiVinay\\SproutsAI\\GitHub_\\ir_srgan_otsr\\results_kernels_DIV2K\\0009\\0009_kernel_x4.mat\n",
      "scale_factor:  [0.125, 0.125, 1]\n",
      "output_shape:  [191 255   3]\n",
      "im.shape:  (1524, 2040, 3)\n"
     ]
    },
    {
     "name": "stderr",
     "output_type": "stream",
     "text": [
      "Resizing images:   1%|          | 9/800 [01:24<2:01:07,  9.19s/it]"
     ]
    },
    {
     "name": "stdout",
     "output_type": "stream",
     "text": [
      "input_img.size():  torch.Size([3, 1644, 2040])\n",
      "resize2_img.size():  torch.Size([3, 206, 255])\n",
      "resize2_cut_img.size():  torch.Size([3, 200, 248])\n",
      "create_HrLr kernel_path:C:\\SaiVinay\\SproutsAI\\GitHub_\\ir_srgan_otsr\\results_kernels_DIV2K\\0010\\0010_kernel_x4.mat\n",
      "scale_factor:  [0.125, 0.125, 1]\n",
      "output_shape:  [206 255   3]\n",
      "im.shape:  (1644, 2040, 3)\n"
     ]
    },
    {
     "name": "stderr",
     "output_type": "stream",
     "text": [
      "Resizing images:   1%|▏         | 10/800 [01:35<2:07:57,  9.72s/it]"
     ]
    },
    {
     "name": "stdout",
     "output_type": "stream",
     "text": [
      "input_img.size():  torch.Size([3, 1356, 2040])\n",
      "resize2_img.size():  torch.Size([3, 170, 255])\n",
      "resize2_cut_img.size():  torch.Size([3, 168, 248])\n",
      "create_HrLr kernel_path:C:\\SaiVinay\\SproutsAI\\GitHub_\\ir_srgan_otsr\\results_kernels_DIV2K\\0011\\0011_kernel_x4.mat\n",
      "scale_factor:  [0.125, 0.125, 1]\n",
      "output_shape:  [170 255   3]\n",
      "im.shape:  (1356, 2040, 3)\n"
     ]
    },
    {
     "name": "stderr",
     "output_type": "stream",
     "text": [
      "Resizing images:   1%|▏         | 11/800 [01:46<2:14:56, 10.26s/it]"
     ]
    },
    {
     "name": "stdout",
     "output_type": "stream",
     "text": [
      "input_img.size():  torch.Size([3, 1356, 2040])\n",
      "resize2_img.size():  torch.Size([3, 170, 255])\n",
      "resize2_cut_img.size():  torch.Size([3, 168, 248])\n",
      "create_HrLr kernel_path:C:\\SaiVinay\\SproutsAI\\GitHub_\\ir_srgan_otsr\\results_kernels_DIV2K\\0012\\0012_kernel_x4.mat\n",
      "scale_factor:  [0.125, 0.125, 1]\n",
      "output_shape:  [170 255   3]\n",
      "im.shape:  (1356, 2040, 3)\n"
     ]
    },
    {
     "name": "stderr",
     "output_type": "stream",
     "text": [
      "Resizing images:   2%|▏         | 12/800 [01:58<2:20:26, 10.69s/it]"
     ]
    },
    {
     "name": "stdout",
     "output_type": "stream",
     "text": [
      "input_img.size():  torch.Size([3, 1368, 2040])\n",
      "resize2_img.size():  torch.Size([3, 171, 255])\n",
      "resize2_cut_img.size():  torch.Size([3, 168, 248])\n",
      "create_HrLr kernel_path:C:\\SaiVinay\\SproutsAI\\GitHub_\\ir_srgan_otsr\\results_kernels_DIV2K\\0013\\0013_kernel_x4.mat\n",
      "scale_factor:  [0.125, 0.125, 1]\n",
      "output_shape:  [171 255   3]\n",
      "im.shape:  (1368, 2040, 3)\n"
     ]
    },
    {
     "name": "stderr",
     "output_type": "stream",
     "text": [
      "Resizing images:   2%|▏         | 13/800 [02:09<2:22:58, 10.90s/it]"
     ]
    },
    {
     "name": "stdout",
     "output_type": "stream",
     "text": [
      "input_img.size():  torch.Size([3, 2040, 1356])\n",
      "resize2_img.size():  torch.Size([3, 255, 170])\n",
      "resize2_cut_img.size():  torch.Size([3, 248, 168])\n",
      "create_HrLr kernel_path:C:\\SaiVinay\\SproutsAI\\GitHub_\\ir_srgan_otsr\\results_kernels_DIV2K\\0014\\0014_kernel_x4.mat\n",
      "scale_factor:  [0.125, 0.125, 1]\n",
      "output_shape:  [255 170   3]\n",
      "im.shape:  (2040, 1356, 3)\n"
     ]
    },
    {
     "name": "stderr",
     "output_type": "stream",
     "text": [
      "Resizing images:   2%|▏         | 14/800 [02:21<2:23:52, 10.98s/it]"
     ]
    },
    {
     "name": "stdout",
     "output_type": "stream",
     "text": [
      "input_img.size():  torch.Size([3, 1356, 2040])\n",
      "resize2_img.size():  torch.Size([3, 170, 255])\n",
      "resize2_cut_img.size():  torch.Size([3, 168, 248])\n",
      "create_HrLr kernel_path:C:\\SaiVinay\\SproutsAI\\GitHub_\\ir_srgan_otsr\\results_kernels_DIV2K\\0015\\0015_kernel_x4.mat\n",
      "scale_factor:  [0.125, 0.125, 1]\n",
      "output_shape:  [170 255   3]\n",
      "im.shape:  (1356, 2040, 3)\n"
     ]
    },
    {
     "name": "stderr",
     "output_type": "stream",
     "text": [
      "Resizing images:   2%|▏         | 15/800 [02:32<2:26:15, 11.18s/it]"
     ]
    },
    {
     "name": "stdout",
     "output_type": "stream",
     "text": [
      "input_img.size():  torch.Size([3, 1356, 2040])\n",
      "resize2_img.size():  torch.Size([3, 170, 255])\n",
      "resize2_cut_img.size():  torch.Size([3, 168, 248])\n",
      "create_HrLr kernel_path:C:\\SaiVinay\\SproutsAI\\GitHub_\\ir_srgan_otsr\\results_kernels_DIV2K\\0016\\0016_kernel_x4.mat\n",
      "scale_factor:  [0.125, 0.125, 1]\n",
      "output_shape:  [170 255   3]\n",
      "im.shape:  (1356, 2040, 3)\n"
     ]
    },
    {
     "name": "stderr",
     "output_type": "stream",
     "text": [
      "Resizing images:   2%|▏         | 16/800 [02:43<2:26:16, 11.19s/it]"
     ]
    },
    {
     "name": "stdout",
     "output_type": "stream",
     "text": [
      "input_img.size():  torch.Size([3, 1356, 2040])\n",
      "resize2_img.size():  torch.Size([3, 170, 255])\n",
      "resize2_cut_img.size():  torch.Size([3, 168, 248])\n",
      "create_HrLr kernel_path:C:\\SaiVinay\\SproutsAI\\GitHub_\\ir_srgan_otsr\\results_kernels_DIV2K\\0017\\0017_kernel_x4.mat\n",
      "scale_factor:  [0.125, 0.125, 1]\n",
      "output_shape:  [170 255   3]\n",
      "im.shape:  (1356, 2040, 3)\n"
     ]
    },
    {
     "name": "stderr",
     "output_type": "stream",
     "text": [
      "Resizing images:   2%|▏         | 17/800 [02:55<2:27:32, 11.31s/it]"
     ]
    },
    {
     "name": "stdout",
     "output_type": "stream",
     "text": [
      "input_img.size():  torch.Size([3, 1368, 2040])\n",
      "resize2_img.size():  torch.Size([3, 171, 255])\n",
      "resize2_cut_img.size():  torch.Size([3, 168, 248])\n",
      "create_HrLr kernel_path:C:\\SaiVinay\\SproutsAI\\GitHub_\\ir_srgan_otsr\\results_kernels_DIV2K\\0018\\0018_kernel_x4.mat\n",
      "scale_factor:  [0.125, 0.125, 1]\n",
      "output_shape:  [171 255   3]\n",
      "im.shape:  (1368, 2040, 3)\n"
     ]
    },
    {
     "name": "stderr",
     "output_type": "stream",
     "text": [
      "Resizing images:   2%|▏         | 18/800 [03:06<2:27:40, 11.33s/it]"
     ]
    },
    {
     "name": "stdout",
     "output_type": "stream",
     "text": [
      "input_img.size():  torch.Size([3, 1536, 2040])\n",
      "resize2_img.size():  torch.Size([3, 192, 255])\n",
      "resize2_cut_img.size():  torch.Size([3, 192, 248])\n",
      "create_HrLr kernel_path:C:\\SaiVinay\\SproutsAI\\GitHub_\\ir_srgan_otsr\\results_kernels_DIV2K\\0019\\0019_kernel_x4.mat\n",
      "scale_factor:  [0.125, 0.125, 1]\n",
      "output_shape:  [192 255   3]\n",
      "im.shape:  (1536, 2040, 3)\n"
     ]
    },
    {
     "name": "stderr",
     "output_type": "stream",
     "text": [
      "Resizing images:   2%|▏         | 19/800 [03:20<2:36:02, 11.99s/it]"
     ]
    },
    {
     "name": "stdout",
     "output_type": "stream",
     "text": [
      "input_img.size():  torch.Size([3, 1392, 2040])\n",
      "resize2_img.size():  torch.Size([3, 174, 255])\n",
      "resize2_cut_img.size():  torch.Size([3, 168, 248])\n",
      "create_HrLr kernel_path:C:\\SaiVinay\\SproutsAI\\GitHub_\\ir_srgan_otsr\\results_kernels_DIV2K\\0020\\0020_kernel_x4.mat\n",
      "scale_factor:  [0.125, 0.125, 1]\n",
      "output_shape:  [174 255   3]\n",
      "im.shape:  (1392, 2040, 3)\n"
     ]
    },
    {
     "name": "stderr",
     "output_type": "stream",
     "text": [
      "Resizing images:   2%|▎         | 20/800 [03:32<2:34:17, 11.87s/it]"
     ]
    },
    {
     "name": "stdout",
     "output_type": "stream",
     "text": [
      "input_img.size():  torch.Size([3, 768, 2040])\n",
      "resize2_img.size():  torch.Size([3, 96, 255])\n",
      "resize2_cut_img.size():  torch.Size([3, 96, 248])\n",
      "create_HrLr kernel_path:C:\\SaiVinay\\SproutsAI\\GitHub_\\ir_srgan_otsr\\results_kernels_DIV2K\\0021\\0021_kernel_x4.mat\n",
      "scale_factor:  [0.125, 0.125, 1]\n",
      "output_shape:  [ 96 255   3]\n",
      "im.shape:  (768, 2040, 3)\n"
     ]
    },
    {
     "name": "stderr",
     "output_type": "stream",
     "text": [
      "Resizing images:   3%|▎         | 21/800 [03:38<2:13:23, 10.27s/it]"
     ]
    },
    {
     "name": "stdout",
     "output_type": "stream",
     "text": [
      "input_img.size():  torch.Size([3, 960, 2040])\n",
      "resize2_img.size():  torch.Size([3, 120, 255])\n",
      "resize2_cut_img.size():  torch.Size([3, 120, 248])\n",
      "create_HrLr kernel_path:C:\\SaiVinay\\SproutsAI\\GitHub_\\ir_srgan_otsr\\results_kernels_DIV2K\\0022\\0022_kernel_x4.mat\n",
      "scale_factor:  [0.125, 0.125, 1]\n",
      "output_shape:  [120 255   3]\n",
      "im.shape:  (960, 2040, 3)\n"
     ]
    },
    {
     "name": "stderr",
     "output_type": "stream",
     "text": [
      "Resizing images:   3%|▎         | 22/800 [03:46<2:04:32,  9.60s/it]"
     ]
    },
    {
     "name": "stdout",
     "output_type": "stream",
     "text": [
      "input_img.size():  torch.Size([3, 1356, 2040])\n",
      "resize2_img.size():  torch.Size([3, 170, 255])\n",
      "resize2_cut_img.size():  torch.Size([3, 168, 248])\n",
      "create_HrLr kernel_path:C:\\SaiVinay\\SproutsAI\\GitHub_\\ir_srgan_otsr\\results_kernels_DIV2K\\0023\\0023_kernel_x4.mat\n",
      "scale_factor:  [0.125, 0.125, 1]\n",
      "output_shape:  [170 255   3]\n",
      "im.shape:  (1356, 2040, 3)\n"
     ]
    },
    {
     "name": "stderr",
     "output_type": "stream",
     "text": [
      "Resizing images:   3%|▎         | 23/800 [03:58<2:13:26, 10.30s/it]"
     ]
    },
    {
     "name": "stdout",
     "output_type": "stream",
     "text": [
      "input_img.size():  torch.Size([3, 1356, 2040])\n",
      "resize2_img.size():  torch.Size([3, 170, 255])\n",
      "resize2_cut_img.size():  torch.Size([3, 168, 248])\n",
      "create_HrLr kernel_path:C:\\SaiVinay\\SproutsAI\\GitHub_\\ir_srgan_otsr\\results_kernels_DIV2K\\0024\\0024_kernel_x4.mat\n",
      "scale_factor:  [0.125, 0.125, 1]\n",
      "output_shape:  [170 255   3]\n",
      "im.shape:  (1356, 2040, 3)\n"
     ]
    },
    {
     "name": "stderr",
     "output_type": "stream",
     "text": [
      "Resizing images:   3%|▎         | 24/800 [04:09<2:17:18, 10.62s/it]"
     ]
    },
    {
     "name": "stdout",
     "output_type": "stream",
     "text": [
      "input_img.size():  torch.Size([3, 2040, 1140])\n",
      "resize2_img.size():  torch.Size([3, 255, 143])\n",
      "resize2_cut_img.size():  torch.Size([3, 248, 136])\n",
      "create_HrLr kernel_path:C:\\SaiVinay\\SproutsAI\\GitHub_\\ir_srgan_otsr\\results_kernels_DIV2K\\0025\\0025_kernel_x4.mat\n",
      "scale_factor:  [0.125, 0.125, 1]\n",
      "output_shape:  [255 143   3]\n",
      "im.shape:  (2040, 1140, 3)\n"
     ]
    },
    {
     "name": "stderr",
     "output_type": "stream",
     "text": [
      "Resizing images:   3%|▎         | 25/800 [04:19<2:13:25, 10.33s/it]"
     ]
    },
    {
     "name": "stdout",
     "output_type": "stream",
     "text": [
      "input_img.size():  torch.Size([3, 1536, 2040])\n",
      "resize2_img.size():  torch.Size([3, 192, 255])\n",
      "resize2_cut_img.size():  torch.Size([3, 192, 248])\n",
      "create_HrLr kernel_path:C:\\SaiVinay\\SproutsAI\\GitHub_\\ir_srgan_otsr\\results_kernels_DIV2K\\0026\\0026_kernel_x4.mat\n",
      "scale_factor:  [0.125, 0.125, 1]\n",
      "output_shape:  [192 255   3]\n",
      "im.shape:  (1536, 2040, 3)\n"
     ]
    },
    {
     "name": "stderr",
     "output_type": "stream",
     "text": [
      "Resizing images:   3%|▎         | 26/800 [04:31<2:20:58, 10.93s/it]"
     ]
    },
    {
     "name": "stdout",
     "output_type": "stream",
     "text": [
      "input_img.size():  torch.Size([3, 1548, 2040])\n",
      "resize2_img.size():  torch.Size([3, 194, 255])\n",
      "resize2_cut_img.size():  torch.Size([3, 192, 248])\n",
      "create_HrLr kernel_path:C:\\SaiVinay\\SproutsAI\\GitHub_\\ir_srgan_otsr\\results_kernels_DIV2K\\0027\\0027_kernel_x4.mat\n",
      "scale_factor:  [0.125, 0.125, 1]\n",
      "output_shape:  [194 255   3]\n",
      "im.shape:  (1548, 2040, 3)\n"
     ]
    },
    {
     "name": "stderr",
     "output_type": "stream",
     "text": [
      "Resizing images:   3%|▎         | 27/800 [04:45<2:29:58, 11.64s/it]"
     ]
    },
    {
     "name": "stdout",
     "output_type": "stream",
     "text": [
      "input_img.size():  torch.Size([3, 1992, 2040])\n",
      "resize2_img.size():  torch.Size([3, 249, 255])\n",
      "resize2_cut_img.size():  torch.Size([3, 248, 248])\n",
      "create_HrLr kernel_path:C:\\SaiVinay\\SproutsAI\\GitHub_\\ir_srgan_otsr\\results_kernels_DIV2K\\0028\\0028_kernel_x4.mat\n",
      "scale_factor:  [0.125, 0.125, 1]\n",
      "output_shape:  [249 255   3]\n",
      "im.shape:  (1992, 2040, 3)\n"
     ]
    },
    {
     "name": "stderr",
     "output_type": "stream",
     "text": [
      "Resizing images:   4%|▎         | 28/800 [05:02<2:51:03, 13.29s/it]"
     ]
    },
    {
     "name": "stdout",
     "output_type": "stream",
     "text": [
      "input_img.size():  torch.Size([3, 1356, 2040])\n",
      "resize2_img.size():  torch.Size([3, 170, 255])\n",
      "resize2_cut_img.size():  torch.Size([3, 168, 248])\n",
      "create_HrLr kernel_path:C:\\SaiVinay\\SproutsAI\\GitHub_\\ir_srgan_otsr\\results_kernels_DIV2K\\0029\\0029_kernel_x4.mat\n",
      "scale_factor:  [0.125, 0.125, 1]\n",
      "output_shape:  [170 255   3]\n",
      "im.shape:  (1356, 2040, 3)\n"
     ]
    },
    {
     "name": "stderr",
     "output_type": "stream",
     "text": [
      "Resizing images:   4%|▎         | 29/800 [05:13<2:41:40, 12.58s/it]"
     ]
    },
    {
     "name": "stdout",
     "output_type": "stream",
     "text": [
      "input_img.size():  torch.Size([3, 1272, 2040])\n",
      "resize2_img.size():  torch.Size([3, 159, 255])\n",
      "resize2_cut_img.size():  torch.Size([3, 152, 248])\n",
      "create_HrLr kernel_path:C:\\SaiVinay\\SproutsAI\\GitHub_\\ir_srgan_otsr\\results_kernels_DIV2K\\0030\\0030_kernel_x4.mat\n",
      "scale_factor:  [0.125, 0.125, 1]\n",
      "output_shape:  [159 255   3]\n",
      "im.shape:  (1272, 2040, 3)\n"
     ]
    },
    {
     "name": "stderr",
     "output_type": "stream",
     "text": [
      "Resizing images:   4%|▍         | 30/800 [05:23<2:33:13, 11.94s/it]"
     ]
    },
    {
     "name": "stdout",
     "output_type": "stream",
     "text": [
      "input_img.size():  torch.Size([3, 1356, 2040])\n",
      "resize2_img.size():  torch.Size([3, 170, 255])\n",
      "resize2_cut_img.size():  torch.Size([3, 168, 248])\n",
      "create_HrLr kernel_path:C:\\SaiVinay\\SproutsAI\\GitHub_\\ir_srgan_otsr\\results_kernels_DIV2K\\0031\\0031_kernel_x4.mat\n",
      "scale_factor:  [0.125, 0.125, 1]\n",
      "output_shape:  [170 255   3]\n",
      "im.shape:  (1356, 2040, 3)\n"
     ]
    },
    {
     "name": "stderr",
     "output_type": "stream",
     "text": [
      "Resizing images:   4%|▍         | 31/800 [05:35<2:31:16, 11.80s/it]"
     ]
    },
    {
     "name": "stdout",
     "output_type": "stream",
     "text": [
      "input_img.size():  torch.Size([3, 1356, 2040])\n",
      "resize2_img.size():  torch.Size([3, 170, 255])\n",
      "resize2_cut_img.size():  torch.Size([3, 168, 248])\n",
      "create_HrLr kernel_path:C:\\SaiVinay\\SproutsAI\\GitHub_\\ir_srgan_otsr\\results_kernels_DIV2K\\0032\\0032_kernel_x4.mat\n",
      "scale_factor:  [0.125, 0.125, 1]\n",
      "output_shape:  [170 255   3]\n",
      "im.shape:  (1356, 2040, 3)\n"
     ]
    },
    {
     "name": "stderr",
     "output_type": "stream",
     "text": [
      "Resizing images:   4%|▍         | 32/800 [05:46<2:29:29, 11.68s/it]"
     ]
    },
    {
     "name": "stdout",
     "output_type": "stream",
     "text": [
      "input_img.size():  torch.Size([3, 1356, 2040])\n",
      "resize2_img.size():  torch.Size([3, 170, 255])\n",
      "resize2_cut_img.size():  torch.Size([3, 168, 248])\n",
      "create_HrLr kernel_path:C:\\SaiVinay\\SproutsAI\\GitHub_\\ir_srgan_otsr\\results_kernels_DIV2K\\0033\\0033_kernel_x4.mat\n",
      "scale_factor:  [0.125, 0.125, 1]\n",
      "output_shape:  [170 255   3]\n",
      "im.shape:  (1356, 2040, 3)\n"
     ]
    },
    {
     "name": "stderr",
     "output_type": "stream",
     "text": [
      "Resizing images:   4%|▍         | 33/800 [05:57<2:27:38, 11.55s/it]"
     ]
    },
    {
     "name": "stdout",
     "output_type": "stream",
     "text": [
      "input_img.size():  torch.Size([3, 1356, 2040])\n",
      "resize2_img.size():  torch.Size([3, 170, 255])\n",
      "resize2_cut_img.size():  torch.Size([3, 168, 248])\n",
      "create_HrLr kernel_path:C:\\SaiVinay\\SproutsAI\\GitHub_\\ir_srgan_otsr\\results_kernels_DIV2K\\0034\\0034_kernel_x4.mat\n",
      "scale_factor:  [0.125, 0.125, 1]\n",
      "output_shape:  [170 255   3]\n",
      "im.shape:  (1356, 2040, 3)\n"
     ]
    },
    {
     "name": "stderr",
     "output_type": "stream",
     "text": [
      "Resizing images:   4%|▍         | 34/800 [06:08<2:25:31, 11.40s/it]"
     ]
    },
    {
     "name": "stdout",
     "output_type": "stream",
     "text": [
      "input_img.size():  torch.Size([3, 1356, 2040])\n",
      "resize2_img.size():  torch.Size([3, 170, 255])\n",
      "resize2_cut_img.size():  torch.Size([3, 168, 248])\n",
      "create_HrLr kernel_path:C:\\SaiVinay\\SproutsAI\\GitHub_\\ir_srgan_otsr\\results_kernels_DIV2K\\0035\\0035_kernel_x4.mat\n",
      "scale_factor:  [0.125, 0.125, 1]\n",
      "output_shape:  [170 255   3]\n",
      "im.shape:  (1356, 2040, 3)\n"
     ]
    },
    {
     "name": "stderr",
     "output_type": "stream",
     "text": [
      "Resizing images:   4%|▍         | 35/800 [06:20<2:24:36, 11.34s/it]"
     ]
    },
    {
     "name": "stdout",
     "output_type": "stream",
     "text": [
      "input_img.size():  torch.Size([3, 1536, 2040])\n",
      "resize2_img.size():  torch.Size([3, 192, 255])\n",
      "resize2_cut_img.size():  torch.Size([3, 192, 248])\n",
      "create_HrLr kernel_path:C:\\SaiVinay\\SproutsAI\\GitHub_\\ir_srgan_otsr\\results_kernels_DIV2K\\0036\\0036_kernel_x4.mat\n",
      "scale_factor:  [0.125, 0.125, 1]\n",
      "output_shape:  [192 255   3]\n",
      "im.shape:  (1536, 2040, 3)\n"
     ]
    },
    {
     "name": "stderr",
     "output_type": "stream",
     "text": [
      "Resizing images:   4%|▍         | 36/800 [06:33<2:31:11, 11.87s/it]"
     ]
    },
    {
     "name": "stdout",
     "output_type": "stream",
     "text": [
      "input_img.size():  torch.Size([3, 1356, 2040])\n",
      "resize2_img.size():  torch.Size([3, 170, 255])\n",
      "resize2_cut_img.size():  torch.Size([3, 168, 248])\n",
      "create_HrLr kernel_path:C:\\SaiVinay\\SproutsAI\\GitHub_\\ir_srgan_otsr\\results_kernels_DIV2K\\0037\\0037_kernel_x4.mat\n",
      "scale_factor:  [0.125, 0.125, 1]\n",
      "output_shape:  [170 255   3]\n",
      "im.shape:  (1356, 2040, 3)\n"
     ]
    },
    {
     "name": "stderr",
     "output_type": "stream",
     "text": [
      "Resizing images:   5%|▍         | 37/800 [06:43<2:25:29, 11.44s/it]"
     ]
    },
    {
     "name": "stdout",
     "output_type": "stream",
     "text": [
      "input_img.size():  torch.Size([3, 1224, 2040])\n",
      "resize2_img.size():  torch.Size([3, 153, 255])\n",
      "resize2_cut_img.size():  torch.Size([3, 152, 248])\n",
      "create_HrLr kernel_path:C:\\SaiVinay\\SproutsAI\\GitHub_\\ir_srgan_otsr\\results_kernels_DIV2K\\0038\\0038_kernel_x4.mat\n",
      "scale_factor:  [0.125, 0.125, 1]\n",
      "output_shape:  [153 255   3]\n",
      "im.shape:  (1224, 2040, 3)\n"
     ]
    },
    {
     "name": "stderr",
     "output_type": "stream",
     "text": [
      "Resizing images:   5%|▍         | 38/800 [06:51<2:11:16, 10.34s/it]"
     ]
    },
    {
     "name": "stdout",
     "output_type": "stream",
     "text": [
      "input_img.size():  torch.Size([3, 1356, 2040])\n",
      "resize2_img.size():  torch.Size([3, 170, 255])\n",
      "resize2_cut_img.size():  torch.Size([3, 168, 248])\n",
      "create_HrLr kernel_path:C:\\SaiVinay\\SproutsAI\\GitHub_\\ir_srgan_otsr\\results_kernels_DIV2K\\0039\\0039_kernel_x4.mat\n",
      "scale_factor:  [0.125, 0.125, 1]\n",
      "output_shape:  [170 255   3]\n",
      "im.shape:  (1356, 2040, 3)\n"
     ]
    },
    {
     "name": "stderr",
     "output_type": "stream",
     "text": [
      "Resizing images:   5%|▍         | 39/800 [06:59<2:03:45,  9.76s/it]"
     ]
    },
    {
     "name": "stdout",
     "output_type": "stream",
     "text": [
      "input_img.size():  torch.Size([3, 1356, 2040])\n",
      "resize2_img.size():  torch.Size([3, 170, 255])\n",
      "resize2_cut_img.size():  torch.Size([3, 168, 248])\n",
      "create_HrLr kernel_path:C:\\SaiVinay\\SproutsAI\\GitHub_\\ir_srgan_otsr\\results_kernels_DIV2K\\0040\\0040_kernel_x4.mat\n",
      "scale_factor:  [0.125, 0.125, 1]\n",
      "output_shape:  [170 255   3]\n",
      "im.shape:  (1356, 2040, 3)\n"
     ]
    },
    {
     "name": "stderr",
     "output_type": "stream",
     "text": [
      "Resizing images:   5%|▌         | 40/800 [07:08<1:58:00,  9.32s/it]"
     ]
    },
    {
     "name": "stdout",
     "output_type": "stream",
     "text": [
      "input_img.size():  torch.Size([3, 1356, 2040])\n",
      "resize2_img.size():  torch.Size([3, 170, 255])\n",
      "resize2_cut_img.size():  torch.Size([3, 168, 248])\n",
      "create_HrLr kernel_path:C:\\SaiVinay\\SproutsAI\\GitHub_\\ir_srgan_otsr\\results_kernels_DIV2K\\0041\\0041_kernel_x4.mat\n",
      "scale_factor:  [0.125, 0.125, 1]\n",
      "output_shape:  [170 255   3]\n",
      "im.shape:  (1356, 2040, 3)\n"
     ]
    },
    {
     "name": "stderr",
     "output_type": "stream",
     "text": [
      "Resizing images:   5%|▌         | 41/800 [07:16<1:54:57,  9.09s/it]"
     ]
    },
    {
     "name": "stdout",
     "output_type": "stream",
     "text": [
      "input_img.size():  torch.Size([3, 1356, 2040])\n",
      "resize2_img.size():  torch.Size([3, 170, 255])\n",
      "resize2_cut_img.size():  torch.Size([3, 168, 248])\n",
      "create_HrLr kernel_path:C:\\SaiVinay\\SproutsAI\\GitHub_\\ir_srgan_otsr\\results_kernels_DIV2K\\0042\\0042_kernel_x4.mat\n",
      "scale_factor:  [0.125, 0.125, 1]\n",
      "output_shape:  [170 255   3]\n",
      "im.shape:  (1356, 2040, 3)\n"
     ]
    },
    {
     "name": "stderr",
     "output_type": "stream",
     "text": [
      "Resizing images:   5%|▌         | 42/800 [07:25<1:52:35,  8.91s/it]"
     ]
    },
    {
     "name": "stdout",
     "output_type": "stream",
     "text": [
      "input_img.size():  torch.Size([3, 1356, 2040])\n",
      "resize2_img.size():  torch.Size([3, 170, 255])\n",
      "resize2_cut_img.size():  torch.Size([3, 168, 248])\n",
      "create_HrLr kernel_path:C:\\SaiVinay\\SproutsAI\\GitHub_\\ir_srgan_otsr\\results_kernels_DIV2K\\0043\\0043_kernel_x4.mat\n",
      "scale_factor:  [0.125, 0.125, 1]\n",
      "output_shape:  [170 255   3]\n",
      "im.shape:  (1356, 2040, 3)\n"
     ]
    },
    {
     "name": "stderr",
     "output_type": "stream",
     "text": [
      "Resizing images:   5%|▌         | 43/800 [07:33<1:49:31,  8.68s/it]"
     ]
    },
    {
     "name": "stdout",
     "output_type": "stream",
     "text": [
      "input_img.size():  torch.Size([3, 2040, 2040])\n",
      "resize2_img.size():  torch.Size([3, 255, 255])\n",
      "resize2_cut_img.size():  torch.Size([3, 248, 248])\n",
      "create_HrLr kernel_path:C:\\SaiVinay\\SproutsAI\\GitHub_\\ir_srgan_otsr\\results_kernels_DIV2K\\0044\\0044_kernel_x4.mat\n",
      "scale_factor:  [0.125, 0.125, 1]\n",
      "output_shape:  [255 255   3]\n",
      "im.shape:  (2040, 2040, 3)\n"
     ]
    },
    {
     "name": "stderr",
     "output_type": "stream",
     "text": [
      "Resizing images:   6%|▌         | 44/800 [07:47<2:08:54, 10.23s/it]"
     ]
    },
    {
     "name": "stdout",
     "output_type": "stream",
     "text": [
      "input_img.size():  torch.Size([3, 1140, 2040])\n",
      "resize2_img.size():  torch.Size([3, 143, 255])\n",
      "resize2_cut_img.size():  torch.Size([3, 136, 248])\n",
      "create_HrLr kernel_path:C:\\SaiVinay\\SproutsAI\\GitHub_\\ir_srgan_otsr\\results_kernels_DIV2K\\0045\\0045_kernel_x4.mat\n",
      "scale_factor:  [0.125, 0.125, 1]\n",
      "output_shape:  [143 255   3]\n",
      "im.shape:  (1140, 2040, 3)\n"
     ]
    },
    {
     "name": "stderr",
     "output_type": "stream",
     "text": [
      "Resizing images:   6%|▌         | 45/800 [07:54<1:57:06,  9.31s/it]"
     ]
    },
    {
     "name": "stdout",
     "output_type": "stream",
     "text": [
      "input_img.size():  torch.Size([3, 2040, 1356])\n",
      "resize2_img.size():  torch.Size([3, 255, 170])\n",
      "resize2_cut_img.size():  torch.Size([3, 248, 168])\n",
      "create_HrLr kernel_path:C:\\SaiVinay\\SproutsAI\\GitHub_\\ir_srgan_otsr\\results_kernels_DIV2K\\0046\\0046_kernel_x4.mat\n",
      "scale_factor:  [0.125, 0.125, 1]\n",
      "output_shape:  [255 170   3]\n",
      "im.shape:  (2040, 1356, 3)\n"
     ]
    },
    {
     "name": "stderr",
     "output_type": "stream",
     "text": [
      "Resizing images:   6%|▌         | 46/800 [08:03<1:56:32,  9.27s/it]"
     ]
    },
    {
     "name": "stdout",
     "output_type": "stream",
     "text": [
      "input_img.size():  torch.Size([3, 1356, 2040])\n",
      "resize2_img.size():  torch.Size([3, 170, 255])\n",
      "resize2_cut_img.size():  torch.Size([3, 168, 248])\n",
      "create_HrLr kernel_path:C:\\SaiVinay\\SproutsAI\\GitHub_\\ir_srgan_otsr\\results_kernels_DIV2K\\0047\\0047_kernel_x4.mat\n",
      "scale_factor:  [0.125, 0.125, 1]\n",
      "output_shape:  [170 255   3]\n",
      "im.shape:  (1356, 2040, 3)\n"
     ]
    },
    {
     "name": "stderr",
     "output_type": "stream",
     "text": [
      "Resizing images:   6%|▌         | 47/800 [08:12<1:56:10,  9.26s/it]"
     ]
    },
    {
     "name": "stdout",
     "output_type": "stream",
     "text": [
      "input_img.size():  torch.Size([3, 1356, 2040])\n",
      "resize2_img.size():  torch.Size([3, 170, 255])\n",
      "resize2_cut_img.size():  torch.Size([3, 168, 248])\n",
      "create_HrLr kernel_path:C:\\SaiVinay\\SproutsAI\\GitHub_\\ir_srgan_otsr\\results_kernels_DIV2K\\0048\\0048_kernel_x4.mat\n",
      "scale_factor:  [0.125, 0.125, 1]\n",
      "output_shape:  [170 255   3]\n",
      "im.shape:  (1356, 2040, 3)\n"
     ]
    },
    {
     "name": "stderr",
     "output_type": "stream",
     "text": [
      "Resizing images:   6%|▌         | 48/800 [08:21<1:55:31,  9.22s/it]"
     ]
    },
    {
     "name": "stdout",
     "output_type": "stream",
     "text": [
      "input_img.size():  torch.Size([3, 1356, 2040])\n",
      "resize2_img.size():  torch.Size([3, 170, 255])\n",
      "resize2_cut_img.size():  torch.Size([3, 168, 248])\n",
      "create_HrLr kernel_path:C:\\SaiVinay\\SproutsAI\\GitHub_\\ir_srgan_otsr\\results_kernels_DIV2K\\0049\\0049_kernel_x4.mat\n",
      "scale_factor:  [0.125, 0.125, 1]\n",
      "output_shape:  [170 255   3]\n",
      "im.shape:  (1356, 2040, 3)\n"
     ]
    },
    {
     "name": "stderr",
     "output_type": "stream",
     "text": [
      "Resizing images:   6%|▌         | 49/800 [08:30<1:54:27,  9.14s/it]"
     ]
    },
    {
     "name": "stdout",
     "output_type": "stream",
     "text": [
      "input_img.size():  torch.Size([3, 1356, 2040])\n",
      "resize2_img.size():  torch.Size([3, 170, 255])\n",
      "resize2_cut_img.size():  torch.Size([3, 168, 248])\n",
      "create_HrLr kernel_path:C:\\SaiVinay\\SproutsAI\\GitHub_\\ir_srgan_otsr\\results_kernels_DIV2K\\0050\\0050_kernel_x4.mat\n",
      "scale_factor:  [0.125, 0.125, 1]\n",
      "output_shape:  [170 255   3]\n",
      "im.shape:  (1356, 2040, 3)\n"
     ]
    },
    {
     "name": "stderr",
     "output_type": "stream",
     "text": [
      "Resizing images:   6%|▋         | 50/800 [08:40<1:55:14,  9.22s/it]"
     ]
    },
    {
     "name": "stdout",
     "output_type": "stream",
     "text": [
      "input_img.size():  torch.Size([3, 1368, 2040])\n",
      "resize2_img.size():  torch.Size([3, 171, 255])\n",
      "resize2_cut_img.size():  torch.Size([3, 168, 248])\n",
      "create_HrLr kernel_path:C:\\SaiVinay\\SproutsAI\\GitHub_\\ir_srgan_otsr\\results_kernels_DIV2K\\0051\\0051_kernel_x4.mat\n",
      "scale_factor:  [0.125, 0.125, 1]\n",
      "output_shape:  [171 255   3]\n",
      "im.shape:  (1368, 2040, 3)\n"
     ]
    },
    {
     "name": "stderr",
     "output_type": "stream",
     "text": [
      "Resizing images:   6%|▋         | 51/800 [08:48<1:53:04,  9.06s/it]"
     ]
    },
    {
     "name": "stdout",
     "output_type": "stream",
     "text": [
      "input_img.size():  torch.Size([3, 1356, 2040])\n",
      "resize2_img.size():  torch.Size([3, 170, 255])\n",
      "resize2_cut_img.size():  torch.Size([3, 168, 248])\n",
      "create_HrLr kernel_path:C:\\SaiVinay\\SproutsAI\\GitHub_\\ir_srgan_otsr\\results_kernels_DIV2K\\0052\\0052_kernel_x4.mat\n",
      "scale_factor:  [0.125, 0.125, 1]\n",
      "output_shape:  [170 255   3]\n",
      "im.shape:  (1356, 2040, 3)\n"
     ]
    },
    {
     "name": "stderr",
     "output_type": "stream",
     "text": [
      "Resizing images:   6%|▋         | 52/800 [08:57<1:51:10,  8.92s/it]"
     ]
    },
    {
     "name": "stdout",
     "output_type": "stream",
     "text": [
      "input_img.size():  torch.Size([3, 1356, 2040])\n",
      "resize2_img.size():  torch.Size([3, 170, 255])\n",
      "resize2_cut_img.size():  torch.Size([3, 168, 248])\n",
      "create_HrLr kernel_path:C:\\SaiVinay\\SproutsAI\\GitHub_\\ir_srgan_otsr\\results_kernels_DIV2K\\0053\\0053_kernel_x4.mat\n",
      "scale_factor:  [0.125, 0.125, 1]\n",
      "output_shape:  [170 255   3]\n",
      "im.shape:  (1356, 2040, 3)\n"
     ]
    },
    {
     "name": "stderr",
     "output_type": "stream",
     "text": [
      "Resizing images:   7%|▋         | 53/800 [09:06<1:51:17,  8.94s/it]"
     ]
    },
    {
     "name": "stdout",
     "output_type": "stream",
     "text": [
      "input_img.size():  torch.Size([3, 1332, 2040])\n",
      "resize2_img.size():  torch.Size([3, 167, 255])\n",
      "resize2_cut_img.size():  torch.Size([3, 160, 248])\n",
      "create_HrLr kernel_path:C:\\SaiVinay\\SproutsAI\\GitHub_\\ir_srgan_otsr\\results_kernels_DIV2K\\0054\\0054_kernel_x4.mat\n",
      "scale_factor:  [0.125, 0.125, 1]\n",
      "output_shape:  [167 255   3]\n",
      "im.shape:  (1332, 2040, 3)\n"
     ]
    },
    {
     "name": "stderr",
     "output_type": "stream",
     "text": [
      "Resizing images:   7%|▋         | 54/800 [09:14<1:48:08,  8.70s/it]"
     ]
    },
    {
     "name": "stdout",
     "output_type": "stream",
     "text": [
      "input_img.size():  torch.Size([3, 1152, 2040])\n",
      "resize2_img.size():  torch.Size([3, 144, 255])\n",
      "resize2_cut_img.size():  torch.Size([3, 144, 248])\n",
      "create_HrLr kernel_path:C:\\SaiVinay\\SproutsAI\\GitHub_\\ir_srgan_otsr\\results_kernels_DIV2K\\0055\\0055_kernel_x4.mat\n",
      "scale_factor:  [0.125, 0.125, 1]\n",
      "output_shape:  [144 255   3]\n",
      "im.shape:  (1152, 2040, 3)\n"
     ]
    },
    {
     "name": "stderr",
     "output_type": "stream",
     "text": [
      "Resizing images:   7%|▋         | 55/800 [09:22<1:43:37,  8.35s/it]"
     ]
    },
    {
     "name": "stdout",
     "output_type": "stream",
     "text": [
      "input_img.size():  torch.Size([3, 1380, 2040])\n",
      "resize2_img.size():  torch.Size([3, 173, 255])\n",
      "resize2_cut_img.size():  torch.Size([3, 168, 248])\n",
      "create_HrLr kernel_path:C:\\SaiVinay\\SproutsAI\\GitHub_\\ir_srgan_otsr\\results_kernels_DIV2K\\0056\\0056_kernel_x4.mat\n",
      "scale_factor:  [0.125, 0.125, 1]\n",
      "output_shape:  [173 255   3]\n",
      "im.shape:  (1380, 2040, 3)\n"
     ]
    },
    {
     "name": "stderr",
     "output_type": "stream",
     "text": [
      "Resizing images:   7%|▋         | 56/800 [09:31<1:45:47,  8.53s/it]"
     ]
    },
    {
     "name": "stdout",
     "output_type": "stream",
     "text": [
      "input_img.size():  torch.Size([3, 1356, 2040])\n",
      "resize2_img.size():  torch.Size([3, 170, 255])\n",
      "resize2_cut_img.size():  torch.Size([3, 168, 248])\n",
      "create_HrLr kernel_path:C:\\SaiVinay\\SproutsAI\\GitHub_\\ir_srgan_otsr\\results_kernels_DIV2K\\0057\\0057_kernel_x4.mat\n",
      "scale_factor:  [0.125, 0.125, 1]\n",
      "output_shape:  [170 255   3]\n",
      "im.shape:  (1356, 2040, 3)\n"
     ]
    },
    {
     "name": "stderr",
     "output_type": "stream",
     "text": [
      "Resizing images:   7%|▋         | 57/800 [09:40<1:47:28,  8.68s/it]"
     ]
    },
    {
     "name": "stdout",
     "output_type": "stream",
     "text": [
      "input_img.size():  torch.Size([3, 1356, 2040])\n",
      "resize2_img.size():  torch.Size([3, 170, 255])\n",
      "resize2_cut_img.size():  torch.Size([3, 168, 248])\n",
      "create_HrLr kernel_path:C:\\SaiVinay\\SproutsAI\\GitHub_\\ir_srgan_otsr\\results_kernels_DIV2K\\0058\\0058_kernel_x4.mat\n",
      "scale_factor:  [0.125, 0.125, 1]\n",
      "output_shape:  [170 255   3]\n",
      "im.shape:  (1356, 2040, 3)\n"
     ]
    },
    {
     "name": "stderr",
     "output_type": "stream",
     "text": [
      "Resizing images:   7%|▋         | 58/800 [09:49<1:50:39,  8.95s/it]"
     ]
    },
    {
     "name": "stdout",
     "output_type": "stream",
     "text": [
      "input_img.size():  torch.Size([3, 2040, 1644])\n",
      "resize2_img.size():  torch.Size([3, 255, 206])\n",
      "resize2_cut_img.size():  torch.Size([3, 248, 200])\n",
      "create_HrLr kernel_path:C:\\SaiVinay\\SproutsAI\\GitHub_\\ir_srgan_otsr\\results_kernels_DIV2K\\0059\\0059_kernel_x4.mat\n",
      "scale_factor:  [0.125, 0.125, 1]\n",
      "output_shape:  [255 206   3]\n",
      "im.shape:  (2040, 1644, 3)\n"
     ]
    },
    {
     "name": "stderr",
     "output_type": "stream",
     "text": [
      "Resizing images:   7%|▋         | 59/800 [10:00<1:58:09,  9.57s/it]"
     ]
    },
    {
     "name": "stdout",
     "output_type": "stream",
     "text": [
      "input_img.size():  torch.Size([3, 1224, 2040])\n",
      "resize2_img.size():  torch.Size([3, 153, 255])\n",
      "resize2_cut_img.size():  torch.Size([3, 152, 248])\n",
      "create_HrLr kernel_path:C:\\SaiVinay\\SproutsAI\\GitHub_\\ir_srgan_otsr\\results_kernels_DIV2K\\0060\\0060_kernel_x4.mat\n",
      "scale_factor:  [0.125, 0.125, 1]\n",
      "output_shape:  [153 255   3]\n",
      "im.shape:  (1224, 2040, 3)\n"
     ]
    },
    {
     "name": "stderr",
     "output_type": "stream",
     "text": [
      "Resizing images:   8%|▊         | 60/800 [10:08<1:51:24,  9.03s/it]"
     ]
    },
    {
     "name": "stdout",
     "output_type": "stream",
     "text": [
      "input_img.size():  torch.Size([3, 2040, 1284])\n",
      "resize2_img.size():  torch.Size([3, 255, 161])\n",
      "resize2_cut_img.size():  torch.Size([3, 248, 160])\n",
      "create_HrLr kernel_path:C:\\SaiVinay\\SproutsAI\\GitHub_\\ir_srgan_otsr\\results_kernels_DIV2K\\0061\\0061_kernel_x4.mat\n",
      "scale_factor:  [0.125, 0.125, 1]\n",
      "output_shape:  [255 161   3]\n",
      "im.shape:  (2040, 1284, 3)\n"
     ]
    },
    {
     "name": "stderr",
     "output_type": "stream",
     "text": [
      "Resizing images:   8%|▊         | 61/800 [10:16<1:48:53,  8.84s/it]"
     ]
    },
    {
     "name": "stdout",
     "output_type": "stream",
     "text": [
      "input_img.size():  torch.Size([3, 1428, 2040])\n",
      "resize2_img.size():  torch.Size([3, 179, 255])\n",
      "resize2_cut_img.size():  torch.Size([3, 176, 248])\n",
      "create_HrLr kernel_path:C:\\SaiVinay\\SproutsAI\\GitHub_\\ir_srgan_otsr\\results_kernels_DIV2K\\0062\\0062_kernel_x4.mat\n",
      "scale_factor:  [0.125, 0.125, 1]\n",
      "output_shape:  [179 255   3]\n",
      "im.shape:  (1428, 2040, 3)\n"
     ]
    },
    {
     "name": "stderr",
     "output_type": "stream",
     "text": [
      "Resizing images:   8%|▊         | 62/800 [10:25<1:49:18,  8.89s/it]"
     ]
    },
    {
     "name": "stdout",
     "output_type": "stream",
     "text": [
      "input_img.size():  torch.Size([3, 1584, 2040])\n",
      "resize2_img.size():  torch.Size([3, 198, 255])\n",
      "resize2_cut_img.size():  torch.Size([3, 192, 248])\n",
      "create_HrLr kernel_path:C:\\SaiVinay\\SproutsAI\\GitHub_\\ir_srgan_otsr\\results_kernels_DIV2K\\0063\\0063_kernel_x4.mat\n",
      "scale_factor:  [0.125, 0.125, 1]\n",
      "output_shape:  [198 255   3]\n",
      "im.shape:  (1584, 2040, 3)\n"
     ]
    },
    {
     "name": "stderr",
     "output_type": "stream",
     "text": [
      "Resizing images:   8%|▊         | 63/800 [10:35<1:51:42,  9.09s/it]"
     ]
    },
    {
     "name": "stdout",
     "output_type": "stream",
     "text": [
      "input_img.size():  torch.Size([3, 1356, 2040])\n",
      "resize2_img.size():  torch.Size([3, 170, 255])\n",
      "resize2_cut_img.size():  torch.Size([3, 168, 248])\n",
      "create_HrLr kernel_path:C:\\SaiVinay\\SproutsAI\\GitHub_\\ir_srgan_otsr\\results_kernels_DIV2K\\0064\\0064_kernel_x4.mat\n",
      "scale_factor:  [0.125, 0.125, 1]\n",
      "output_shape:  [170 255   3]\n",
      "im.shape:  (1356, 2040, 3)\n"
     ]
    },
    {
     "name": "stderr",
     "output_type": "stream",
     "text": [
      "Resizing images:   8%|▊         | 64/800 [10:44<1:52:34,  9.18s/it]"
     ]
    },
    {
     "name": "stdout",
     "output_type": "stream",
     "text": [
      "input_img.size():  torch.Size([3, 1188, 2040])\n",
      "resize2_img.size():  torch.Size([3, 149, 255])\n",
      "resize2_cut_img.size():  torch.Size([3, 144, 248])\n",
      "create_HrLr kernel_path:C:\\SaiVinay\\SproutsAI\\GitHub_\\ir_srgan_otsr\\results_kernels_DIV2K\\0065\\0065_kernel_x4.mat\n",
      "scale_factor:  [0.125, 0.125, 1]\n",
      "output_shape:  [149 255   3]\n",
      "im.shape:  (1188, 2040, 3)\n"
     ]
    },
    {
     "name": "stderr",
     "output_type": "stream",
     "text": [
      "Resizing images:   8%|▊         | 65/800 [10:51<1:44:57,  8.57s/it]"
     ]
    },
    {
     "name": "stdout",
     "output_type": "stream",
     "text": [
      "input_img.size():  torch.Size([3, 1356, 2040])\n",
      "resize2_img.size():  torch.Size([3, 170, 255])\n",
      "resize2_cut_img.size():  torch.Size([3, 168, 248])\n",
      "create_HrLr kernel_path:C:\\SaiVinay\\SproutsAI\\GitHub_\\ir_srgan_otsr\\results_kernels_DIV2K\\0066\\0066_kernel_x4.mat\n",
      "scale_factor:  [0.125, 0.125, 1]\n",
      "output_shape:  [170 255   3]\n",
      "im.shape:  (1356, 2040, 3)\n"
     ]
    },
    {
     "name": "stderr",
     "output_type": "stream",
     "text": [
      "Resizing images:   8%|▊         | 66/800 [11:00<1:45:03,  8.59s/it]"
     ]
    },
    {
     "name": "stdout",
     "output_type": "stream",
     "text": [
      "input_img.size():  torch.Size([3, 1320, 2040])\n",
      "resize2_img.size():  torch.Size([3, 165, 255])\n",
      "resize2_cut_img.size():  torch.Size([3, 160, 248])\n",
      "create_HrLr kernel_path:C:\\SaiVinay\\SproutsAI\\GitHub_\\ir_srgan_otsr\\results_kernels_DIV2K\\0067\\0067_kernel_x4.mat\n",
      "scale_factor:  [0.125, 0.125, 1]\n",
      "output_shape:  [165 255   3]\n",
      "im.shape:  (1320, 2040, 3)\n"
     ]
    },
    {
     "name": "stderr",
     "output_type": "stream",
     "text": [
      "Resizing images:   8%|▊         | 67/800 [11:08<1:43:55,  8.51s/it]"
     ]
    },
    {
     "name": "stdout",
     "output_type": "stream",
     "text": [
      "input_img.size():  torch.Size([3, 1380, 2040])\n",
      "resize2_img.size():  torch.Size([3, 173, 255])\n",
      "resize2_cut_img.size():  torch.Size([3, 168, 248])\n",
      "create_HrLr kernel_path:C:\\SaiVinay\\SproutsAI\\GitHub_\\ir_srgan_otsr\\results_kernels_DIV2K\\0068\\0068_kernel_x4.mat\n",
      "scale_factor:  [0.125, 0.125, 1]\n",
      "output_shape:  [173 255   3]\n",
      "im.shape:  (1380, 2040, 3)\n"
     ]
    },
    {
     "name": "stderr",
     "output_type": "stream",
     "text": [
      "Resizing images:   8%|▊         | 68/800 [11:18<1:46:02,  8.69s/it]"
     ]
    },
    {
     "name": "stdout",
     "output_type": "stream",
     "text": [
      "input_img.size():  torch.Size([3, 2040, 1248])\n",
      "resize2_img.size():  torch.Size([3, 255, 156])\n",
      "resize2_cut_img.size():  torch.Size([3, 248, 152])\n",
      "create_HrLr kernel_path:C:\\SaiVinay\\SproutsAI\\GitHub_\\ir_srgan_otsr\\results_kernels_DIV2K\\0069\\0069_kernel_x4.mat\n",
      "scale_factor:  [0.125, 0.125, 1]\n",
      "output_shape:  [255 156   3]\n",
      "im.shape:  (2040, 1248, 3)\n"
     ]
    },
    {
     "name": "stderr",
     "output_type": "stream",
     "text": [
      "Resizing images:   9%|▊         | 69/800 [11:25<1:42:55,  8.45s/it]"
     ]
    },
    {
     "name": "stdout",
     "output_type": "stream",
     "text": [
      "input_img.size():  torch.Size([3, 1356, 2040])\n",
      "resize2_img.size():  torch.Size([3, 170, 255])\n",
      "resize2_cut_img.size():  torch.Size([3, 168, 248])\n",
      "create_HrLr kernel_path:C:\\SaiVinay\\SproutsAI\\GitHub_\\ir_srgan_otsr\\results_kernels_DIV2K\\0070\\0070_kernel_x4.mat\n",
      "scale_factor:  [0.125, 0.125, 1]\n",
      "output_shape:  [170 255   3]\n",
      "im.shape:  (1356, 2040, 3)\n"
     ]
    },
    {
     "name": "stderr",
     "output_type": "stream",
     "text": [
      "Resizing images:   9%|▉         | 70/800 [11:34<1:42:33,  8.43s/it]"
     ]
    },
    {
     "name": "stdout",
     "output_type": "stream",
     "text": [
      "input_img.size():  torch.Size([3, 2040, 1356])\n",
      "resize2_img.size():  torch.Size([3, 255, 170])\n",
      "resize2_cut_img.size():  torch.Size([3, 248, 168])\n",
      "create_HrLr kernel_path:C:\\SaiVinay\\SproutsAI\\GitHub_\\ir_srgan_otsr\\results_kernels_DIV2K\\0071\\0071_kernel_x4.mat\n",
      "scale_factor:  [0.125, 0.125, 1]\n",
      "output_shape:  [255 170   3]\n",
      "im.shape:  (2040, 1356, 3)\n"
     ]
    },
    {
     "name": "stderr",
     "output_type": "stream",
     "text": [
      "Resizing images:   9%|▉         | 71/800 [11:43<1:43:36,  8.53s/it]"
     ]
    },
    {
     "name": "stdout",
     "output_type": "stream",
     "text": [
      "input_img.size():  torch.Size([3, 1356, 2040])\n",
      "resize2_img.size():  torch.Size([3, 170, 255])\n",
      "resize2_cut_img.size():  torch.Size([3, 168, 248])\n",
      "create_HrLr kernel_path:C:\\SaiVinay\\SproutsAI\\GitHub_\\ir_srgan_otsr\\results_kernels_DIV2K\\0072\\0072_kernel_x4.mat\n",
      "scale_factor:  [0.125, 0.125, 1]\n",
      "output_shape:  [170 255   3]\n",
      "im.shape:  (1356, 2040, 3)\n"
     ]
    },
    {
     "name": "stderr",
     "output_type": "stream",
     "text": [
      "Resizing images:   9%|▉         | 72/800 [11:51<1:44:13,  8.59s/it]"
     ]
    },
    {
     "name": "stdout",
     "output_type": "stream",
     "text": [
      "input_img.size():  torch.Size([3, 1140, 2040])\n",
      "resize2_img.size():  torch.Size([3, 143, 255])\n",
      "resize2_cut_img.size():  torch.Size([3, 136, 248])\n",
      "create_HrLr kernel_path:C:\\SaiVinay\\SproutsAI\\GitHub_\\ir_srgan_otsr\\results_kernels_DIV2K\\0073\\0073_kernel_x4.mat\n",
      "scale_factor:  [0.125, 0.125, 1]\n",
      "output_shape:  [143 255   3]\n",
      "im.shape:  (1140, 2040, 3)\n"
     ]
    },
    {
     "name": "stderr",
     "output_type": "stream",
     "text": [
      "Resizing images:   9%|▉         | 73/800 [11:59<1:39:39,  8.22s/it]"
     ]
    },
    {
     "name": "stdout",
     "output_type": "stream",
     "text": [
      "input_img.size():  torch.Size([3, 1356, 2040])\n",
      "resize2_img.size():  torch.Size([3, 170, 255])\n",
      "resize2_cut_img.size():  torch.Size([3, 168, 248])\n",
      "create_HrLr kernel_path:C:\\SaiVinay\\SproutsAI\\GitHub_\\ir_srgan_otsr\\results_kernels_DIV2K\\0074\\0074_kernel_x4.mat\n",
      "scale_factor:  [0.125, 0.125, 1]\n",
      "output_shape:  [170 255   3]\n",
      "im.shape:  (1356, 2040, 3)\n"
     ]
    },
    {
     "name": "stderr",
     "output_type": "stream",
     "text": [
      "Resizing images:   9%|▉         | 74/800 [12:07<1:40:41,  8.32s/it]"
     ]
    },
    {
     "name": "stdout",
     "output_type": "stream",
     "text": [
      "input_img.size():  torch.Size([3, 1356, 2040])\n",
      "resize2_img.size():  torch.Size([3, 170, 255])\n",
      "resize2_cut_img.size():  torch.Size([3, 168, 248])\n",
      "create_HrLr kernel_path:C:\\SaiVinay\\SproutsAI\\GitHub_\\ir_srgan_otsr\\results_kernels_DIV2K\\0075\\0075_kernel_x4.mat\n",
      "scale_factor:  [0.125, 0.125, 1]\n",
      "output_shape:  [170 255   3]\n",
      "im.shape:  (1356, 2040, 3)\n"
     ]
    },
    {
     "name": "stderr",
     "output_type": "stream",
     "text": [
      "Resizing images:   9%|▉         | 75/800 [12:16<1:41:20,  8.39s/it]"
     ]
    },
    {
     "name": "stdout",
     "output_type": "stream",
     "text": [
      "input_img.size():  torch.Size([3, 1572, 2040])\n",
      "resize2_img.size():  torch.Size([3, 197, 255])\n",
      "resize2_cut_img.size():  torch.Size([3, 192, 248])\n",
      "create_HrLr kernel_path:C:\\SaiVinay\\SproutsAI\\GitHub_\\ir_srgan_otsr\\results_kernels_DIV2K\\0076\\0076_kernel_x4.mat\n",
      "scale_factor:  [0.125, 0.125, 1]\n",
      "output_shape:  [197 255   3]\n",
      "im.shape:  (1572, 2040, 3)\n"
     ]
    },
    {
     "name": "stderr",
     "output_type": "stream",
     "text": [
      "Resizing images:  10%|▉         | 76/800 [12:26<1:47:20,  8.90s/it]"
     ]
    },
    {
     "name": "stdout",
     "output_type": "stream",
     "text": [
      "input_img.size():  torch.Size([3, 1356, 2040])\n",
      "resize2_img.size():  torch.Size([3, 170, 255])\n",
      "resize2_cut_img.size():  torch.Size([3, 168, 248])\n",
      "create_HrLr kernel_path:C:\\SaiVinay\\SproutsAI\\GitHub_\\ir_srgan_otsr\\results_kernels_DIV2K\\0077\\0077_kernel_x4.mat\n",
      "scale_factor:  [0.125, 0.125, 1]\n",
      "output_shape:  [170 255   3]\n",
      "im.shape:  (1356, 2040, 3)\n"
     ]
    },
    {
     "name": "stderr",
     "output_type": "stream",
     "text": [
      "Resizing images:  10%|▉         | 77/800 [12:35<1:46:55,  8.87s/it]"
     ]
    },
    {
     "name": "stdout",
     "output_type": "stream",
     "text": [
      "input_img.size():  torch.Size([3, 1356, 2040])\n",
      "resize2_img.size():  torch.Size([3, 170, 255])\n",
      "resize2_cut_img.size():  torch.Size([3, 168, 248])\n",
      "create_HrLr kernel_path:C:\\SaiVinay\\SproutsAI\\GitHub_\\ir_srgan_otsr\\results_kernels_DIV2K\\0078\\0078_kernel_x4.mat\n",
      "scale_factor:  [0.125, 0.125, 1]\n",
      "output_shape:  [170 255   3]\n",
      "im.shape:  (1356, 2040, 3)\n"
     ]
    },
    {
     "name": "stderr",
     "output_type": "stream",
     "text": [
      "Resizing images:  10%|▉         | 78/800 [12:43<1:45:05,  8.73s/it]"
     ]
    },
    {
     "name": "stdout",
     "output_type": "stream",
     "text": [
      "input_img.size():  torch.Size([3, 1356, 2040])\n",
      "resize2_img.size():  torch.Size([3, 170, 255])\n",
      "resize2_cut_img.size():  torch.Size([3, 168, 248])\n",
      "create_HrLr kernel_path:C:\\SaiVinay\\SproutsAI\\GitHub_\\ir_srgan_otsr\\results_kernels_DIV2K\\0079\\0079_kernel_x4.mat\n",
      "scale_factor:  [0.125, 0.125, 1]\n",
      "output_shape:  [170 255   3]\n",
      "im.shape:  (1356, 2040, 3)\n"
     ]
    },
    {
     "name": "stderr",
     "output_type": "stream",
     "text": [
      "Resizing images:  10%|▉         | 79/800 [12:52<1:44:38,  8.71s/it]"
     ]
    },
    {
     "name": "stdout",
     "output_type": "stream",
     "text": [
      "input_img.size():  torch.Size([3, 1332, 2040])\n",
      "resize2_img.size():  torch.Size([3, 167, 255])\n",
      "resize2_cut_img.size():  torch.Size([3, 160, 248])\n",
      "create_HrLr kernel_path:C:\\SaiVinay\\SproutsAI\\GitHub_\\ir_srgan_otsr\\results_kernels_DIV2K\\0080\\0080_kernel_x4.mat\n",
      "scale_factor:  [0.125, 0.125, 1]\n",
      "output_shape:  [167 255   3]\n",
      "im.shape:  (1332, 2040, 3)\n"
     ]
    },
    {
     "name": "stderr",
     "output_type": "stream",
     "text": [
      "Resizing images:  10%|█         | 80/800 [13:01<1:45:45,  8.81s/it]"
     ]
    },
    {
     "name": "stdout",
     "output_type": "stream",
     "text": [
      "input_img.size():  torch.Size([3, 1356, 2040])\n",
      "resize2_img.size():  torch.Size([3, 170, 255])\n",
      "resize2_cut_img.size():  torch.Size([3, 168, 248])\n",
      "create_HrLr kernel_path:C:\\SaiVinay\\SproutsAI\\GitHub_\\ir_srgan_otsr\\results_kernels_DIV2K\\0081\\0081_kernel_x4.mat\n",
      "scale_factor:  [0.125, 0.125, 1]\n",
      "output_shape:  [170 255   3]\n",
      "im.shape:  (1356, 2040, 3)\n"
     ]
    },
    {
     "name": "stderr",
     "output_type": "stream",
     "text": [
      "Resizing images:  10%|█         | 81/800 [13:10<1:46:59,  8.93s/it]"
     ]
    },
    {
     "name": "stdout",
     "output_type": "stream",
     "text": [
      "input_img.size():  torch.Size([3, 1212, 2040])\n",
      "resize2_img.size():  torch.Size([3, 152, 255])\n",
      "resize2_cut_img.size():  torch.Size([3, 152, 248])\n",
      "create_HrLr kernel_path:C:\\SaiVinay\\SproutsAI\\GitHub_\\ir_srgan_otsr\\results_kernels_DIV2K\\0082\\0082_kernel_x4.mat\n",
      "scale_factor:  [0.125, 0.125, 1]\n",
      "output_shape:  [152 255   3]\n",
      "im.shape:  (1212, 2040, 3)\n"
     ]
    },
    {
     "name": "stderr",
     "output_type": "stream",
     "text": [
      "Resizing images:  10%|█         | 82/800 [13:18<1:43:01,  8.61s/it]"
     ]
    },
    {
     "name": "stdout",
     "output_type": "stream",
     "text": [
      "input_img.size():  torch.Size([3, 1164, 2040])\n",
      "resize2_img.size():  torch.Size([3, 146, 255])\n",
      "resize2_cut_img.size():  torch.Size([3, 144, 248])\n",
      "create_HrLr kernel_path:C:\\SaiVinay\\SproutsAI\\GitHub_\\ir_srgan_otsr\\results_kernels_DIV2K\\0083\\0083_kernel_x4.mat\n",
      "scale_factor:  [0.125, 0.125, 1]\n",
      "output_shape:  [146 255   3]\n",
      "im.shape:  (1164, 2040, 3)\n"
     ]
    },
    {
     "name": "stderr",
     "output_type": "stream",
     "text": [
      "Resizing images:  10%|█         | 83/800 [13:25<1:37:54,  8.19s/it]"
     ]
    },
    {
     "name": "stdout",
     "output_type": "stream",
     "text": [
      "input_img.size():  torch.Size([3, 1368, 2040])\n",
      "resize2_img.size():  torch.Size([3, 171, 255])\n",
      "resize2_cut_img.size():  torch.Size([3, 168, 248])\n",
      "create_HrLr kernel_path:C:\\SaiVinay\\SproutsAI\\GitHub_\\ir_srgan_otsr\\results_kernels_DIV2K\\0084\\0084_kernel_x4.mat\n",
      "scale_factor:  [0.125, 0.125, 1]\n",
      "output_shape:  [171 255   3]\n",
      "im.shape:  (1368, 2040, 3)\n"
     ]
    },
    {
     "name": "stderr",
     "output_type": "stream",
     "text": [
      "Resizing images:  10%|█         | 84/800 [13:33<1:38:23,  8.24s/it]"
     ]
    },
    {
     "name": "stdout",
     "output_type": "stream",
     "text": [
      "input_img.size():  torch.Size([3, 1356, 2040])\n",
      "resize2_img.size():  torch.Size([3, 170, 255])\n",
      "resize2_cut_img.size():  torch.Size([3, 168, 248])\n",
      "create_HrLr kernel_path:C:\\SaiVinay\\SproutsAI\\GitHub_\\ir_srgan_otsr\\results_kernels_DIV2K\\0085\\0085_kernel_x4.mat\n",
      "scale_factor:  [0.125, 0.125, 1]\n",
      "output_shape:  [170 255   3]\n",
      "im.shape:  (1356, 2040, 3)\n"
     ]
    },
    {
     "name": "stderr",
     "output_type": "stream",
     "text": [
      "Resizing images:  11%|█         | 85/800 [13:43<1:41:41,  8.53s/it]"
     ]
    },
    {
     "name": "stdout",
     "output_type": "stream",
     "text": [
      "input_img.size():  torch.Size([3, 1356, 2040])\n",
      "resize2_img.size():  torch.Size([3, 170, 255])\n",
      "resize2_cut_img.size():  torch.Size([3, 168, 248])\n",
      "create_HrLr kernel_path:C:\\SaiVinay\\SproutsAI\\GitHub_\\ir_srgan_otsr\\results_kernels_DIV2K\\0086\\0086_kernel_x4.mat\n",
      "scale_factor:  [0.125, 0.125, 1]\n",
      "output_shape:  [170 255   3]\n",
      "im.shape:  (1356, 2040, 3)\n"
     ]
    },
    {
     "name": "stderr",
     "output_type": "stream",
     "text": [
      "Resizing images:  11%|█         | 86/800 [13:51<1:41:05,  8.50s/it]"
     ]
    },
    {
     "name": "stdout",
     "output_type": "stream",
     "text": [
      "input_img.size():  torch.Size([3, 1356, 2040])\n",
      "resize2_img.size():  torch.Size([3, 170, 255])\n",
      "resize2_cut_img.size():  torch.Size([3, 168, 248])\n",
      "create_HrLr kernel_path:C:\\SaiVinay\\SproutsAI\\GitHub_\\ir_srgan_otsr\\results_kernels_DIV2K\\0087\\0087_kernel_x4.mat\n",
      "scale_factor:  [0.125, 0.125, 1]\n",
      "output_shape:  [170 255   3]\n",
      "im.shape:  (1356, 2040, 3)\n"
     ]
    },
    {
     "name": "stderr",
     "output_type": "stream",
     "text": [
      "Resizing images:  11%|█         | 87/800 [14:00<1:41:55,  8.58s/it]"
     ]
    },
    {
     "name": "stdout",
     "output_type": "stream",
     "text": [
      "input_img.size():  torch.Size([3, 1356, 2040])\n",
      "resize2_img.size():  torch.Size([3, 170, 255])\n",
      "resize2_cut_img.size():  torch.Size([3, 168, 248])\n",
      "create_HrLr kernel_path:C:\\SaiVinay\\SproutsAI\\GitHub_\\ir_srgan_otsr\\results_kernels_DIV2K\\0088\\0088_kernel_x4.mat\n",
      "scale_factor:  [0.125, 0.125, 1]\n",
      "output_shape:  [170 255   3]\n",
      "im.shape:  (1356, 2040, 3)\n"
     ]
    },
    {
     "name": "stderr",
     "output_type": "stream",
     "text": [
      "Resizing images:  11%|█         | 88/800 [14:08<1:40:31,  8.47s/it]"
     ]
    },
    {
     "name": "stdout",
     "output_type": "stream",
     "text": [
      "input_img.size():  torch.Size([3, 2040, 1536])\n",
      "resize2_img.size():  torch.Size([3, 255, 192])\n",
      "resize2_cut_img.size():  torch.Size([3, 248, 192])\n",
      "create_HrLr kernel_path:C:\\SaiVinay\\SproutsAI\\GitHub_\\ir_srgan_otsr\\results_kernels_DIV2K\\0089\\0089_kernel_x4.mat\n",
      "scale_factor:  [0.125, 0.125, 1]\n",
      "output_shape:  [255 192   3]\n",
      "im.shape:  (2040, 1536, 3)\n"
     ]
    },
    {
     "name": "stderr",
     "output_type": "stream",
     "text": [
      "Resizing images:  11%|█         | 89/800 [14:18<1:44:50,  8.85s/it]"
     ]
    },
    {
     "name": "stdout",
     "output_type": "stream",
     "text": [
      "input_img.size():  torch.Size([3, 1356, 2040])\n",
      "resize2_img.size():  torch.Size([3, 170, 255])\n",
      "resize2_cut_img.size():  torch.Size([3, 168, 248])\n",
      "create_HrLr kernel_path:C:\\SaiVinay\\SproutsAI\\GitHub_\\ir_srgan_otsr\\results_kernels_DIV2K\\0090\\0090_kernel_x4.mat\n",
      "scale_factor:  [0.125, 0.125, 1]\n",
      "output_shape:  [170 255   3]\n",
      "im.shape:  (1356, 2040, 3)\n"
     ]
    },
    {
     "name": "stderr",
     "output_type": "stream",
     "text": [
      "Resizing images:  11%|█▏        | 90/800 [14:27<1:44:47,  8.86s/it]"
     ]
    },
    {
     "name": "stdout",
     "output_type": "stream",
     "text": [
      "input_img.size():  torch.Size([3, 1536, 2040])\n",
      "resize2_img.size():  torch.Size([3, 192, 255])\n",
      "resize2_cut_img.size():  torch.Size([3, 192, 248])\n",
      "create_HrLr kernel_path:C:\\SaiVinay\\SproutsAI\\GitHub_\\ir_srgan_otsr\\results_kernels_DIV2K\\0091\\0091_kernel_x4.mat\n",
      "scale_factor:  [0.125, 0.125, 1]\n",
      "output_shape:  [192 255   3]\n",
      "im.shape:  (1536, 2040, 3)\n"
     ]
    },
    {
     "name": "stderr",
     "output_type": "stream",
     "text": [
      "Resizing images:  11%|█▏        | 91/800 [14:37<1:50:03,  9.31s/it]"
     ]
    },
    {
     "name": "stdout",
     "output_type": "stream",
     "text": [
      "input_img.size():  torch.Size([3, 1152, 2040])\n",
      "resize2_img.size():  torch.Size([3, 144, 255])\n",
      "resize2_cut_img.size():  torch.Size([3, 144, 248])\n",
      "create_HrLr kernel_path:C:\\SaiVinay\\SproutsAI\\GitHub_\\ir_srgan_otsr\\results_kernels_DIV2K\\0092\\0092_kernel_x4.mat\n",
      "scale_factor:  [0.125, 0.125, 1]\n",
      "output_shape:  [144 255   3]\n",
      "im.shape:  (1152, 2040, 3)\n"
     ]
    },
    {
     "name": "stderr",
     "output_type": "stream",
     "text": [
      "Resizing images:  12%|█▏        | 92/800 [14:45<1:43:44,  8.79s/it]"
     ]
    },
    {
     "name": "stdout",
     "output_type": "stream",
     "text": [
      "input_img.size():  torch.Size([3, 1368, 2040])\n",
      "resize2_img.size():  torch.Size([3, 171, 255])\n",
      "resize2_cut_img.size():  torch.Size([3, 168, 248])\n",
      "create_HrLr kernel_path:C:\\SaiVinay\\SproutsAI\\GitHub_\\ir_srgan_otsr\\results_kernels_DIV2K\\0093\\0093_kernel_x4.mat\n",
      "scale_factor:  [0.125, 0.125, 1]\n",
      "output_shape:  [171 255   3]\n",
      "im.shape:  (1368, 2040, 3)\n"
     ]
    },
    {
     "name": "stderr",
     "output_type": "stream",
     "text": [
      "Resizing images:  12%|█▏        | 93/800 [14:53<1:42:12,  8.67s/it]"
     ]
    },
    {
     "name": "stdout",
     "output_type": "stream",
     "text": [
      "input_img.size():  torch.Size([3, 1272, 2040])\n",
      "resize2_img.size():  torch.Size([3, 159, 255])\n",
      "resize2_cut_img.size():  torch.Size([3, 152, 248])\n",
      "create_HrLr kernel_path:C:\\SaiVinay\\SproutsAI\\GitHub_\\ir_srgan_otsr\\results_kernels_DIV2K\\0094\\0094_kernel_x4.mat\n",
      "scale_factor:  [0.125, 0.125, 1]\n",
      "output_shape:  [159 255   3]\n",
      "im.shape:  (1272, 2040, 3)\n"
     ]
    },
    {
     "name": "stderr",
     "output_type": "stream",
     "text": [
      "Resizing images:  12%|█▏        | 94/800 [15:02<1:41:59,  8.67s/it]"
     ]
    },
    {
     "name": "stdout",
     "output_type": "stream",
     "text": [
      "input_img.size():  torch.Size([3, 1356, 2040])\n",
      "resize2_img.size():  torch.Size([3, 170, 255])\n",
      "resize2_cut_img.size():  torch.Size([3, 168, 248])\n",
      "create_HrLr kernel_path:C:\\SaiVinay\\SproutsAI\\GitHub_\\ir_srgan_otsr\\results_kernels_DIV2K\\0095\\0095_kernel_x4.mat\n",
      "scale_factor:  [0.125, 0.125, 1]\n",
      "output_shape:  [170 255   3]\n",
      "im.shape:  (1356, 2040, 3)\n"
     ]
    },
    {
     "name": "stderr",
     "output_type": "stream",
     "text": [
      "Resizing images:  12%|█▏        | 95/800 [15:10<1:41:20,  8.63s/it]"
     ]
    },
    {
     "name": "stdout",
     "output_type": "stream",
     "text": [
      "input_img.size():  torch.Size([3, 1356, 2040])\n",
      "resize2_img.size():  torch.Size([3, 170, 255])\n",
      "resize2_cut_img.size():  torch.Size([3, 168, 248])\n",
      "create_HrLr kernel_path:C:\\SaiVinay\\SproutsAI\\GitHub_\\ir_srgan_otsr\\results_kernels_DIV2K\\0096\\0096_kernel_x4.mat\n",
      "scale_factor:  [0.125, 0.125, 1]\n",
      "output_shape:  [170 255   3]\n",
      "im.shape:  (1356, 2040, 3)\n"
     ]
    },
    {
     "name": "stderr",
     "output_type": "stream",
     "text": [
      "Resizing images:  12%|█▏        | 96/800 [15:19<1:41:18,  8.63s/it]"
     ]
    },
    {
     "name": "stdout",
     "output_type": "stream",
     "text": [
      "input_img.size():  torch.Size([3, 1188, 2040])\n",
      "resize2_img.size():  torch.Size([3, 149, 255])\n",
      "resize2_cut_img.size():  torch.Size([3, 144, 248])\n",
      "create_HrLr kernel_path:C:\\SaiVinay\\SproutsAI\\GitHub_\\ir_srgan_otsr\\results_kernels_DIV2K\\0097\\0097_kernel_x4.mat\n",
      "scale_factor:  [0.125, 0.125, 1]\n",
      "output_shape:  [149 255   3]\n",
      "im.shape:  (1188, 2040, 3)\n"
     ]
    },
    {
     "name": "stderr",
     "output_type": "stream",
     "text": [
      "Resizing images:  12%|█▏        | 97/800 [15:26<1:37:05,  8.29s/it]"
     ]
    },
    {
     "name": "stdout",
     "output_type": "stream",
     "text": [
      "input_img.size():  torch.Size([3, 1536, 2040])\n",
      "resize2_img.size():  torch.Size([3, 192, 255])\n",
      "resize2_cut_img.size():  torch.Size([3, 192, 248])\n",
      "create_HrLr kernel_path:C:\\SaiVinay\\SproutsAI\\GitHub_\\ir_srgan_otsr\\results_kernels_DIV2K\\0098\\0098_kernel_x4.mat\n",
      "scale_factor:  [0.125, 0.125, 1]\n",
      "output_shape:  [192 255   3]\n",
      "im.shape:  (1536, 2040, 3)\n"
     ]
    },
    {
     "name": "stderr",
     "output_type": "stream",
     "text": [
      "Resizing images:  12%|█▏        | 98/800 [15:36<1:41:45,  8.70s/it]"
     ]
    },
    {
     "name": "stdout",
     "output_type": "stream",
     "text": [
      "input_img.size():  torch.Size([3, 1536, 2040])\n",
      "resize2_img.size():  torch.Size([3, 192, 255])\n",
      "resize2_cut_img.size():  torch.Size([3, 192, 248])\n",
      "create_HrLr kernel_path:C:\\SaiVinay\\SproutsAI\\GitHub_\\ir_srgan_otsr\\results_kernels_DIV2K\\0099\\0099_kernel_x4.mat\n",
      "scale_factor:  [0.125, 0.125, 1]\n",
      "output_shape:  [192 255   3]\n",
      "im.shape:  (1536, 2040, 3)\n"
     ]
    },
    {
     "name": "stderr",
     "output_type": "stream",
     "text": [
      "Resizing images:  12%|█▏        | 99/800 [15:46<1:45:45,  9.05s/it]"
     ]
    },
    {
     "name": "stdout",
     "output_type": "stream",
     "text": [
      "input_img.size():  torch.Size([3, 1356, 2040])\n",
      "resize2_img.size():  torch.Size([3, 170, 255])\n",
      "resize2_cut_img.size():  torch.Size([3, 168, 248])\n",
      "create_HrLr kernel_path:C:\\SaiVinay\\SproutsAI\\GitHub_\\ir_srgan_otsr\\results_kernels_DIV2K\\0100\\0100_kernel_x4.mat\n",
      "scale_factor:  [0.125, 0.125, 1]\n",
      "output_shape:  [170 255   3]\n",
      "im.shape:  (1356, 2040, 3)\n"
     ]
    },
    {
     "name": "stderr",
     "output_type": "stream",
     "text": [
      "Resizing images:  12%|█▎        | 100/800 [15:54<1:43:55,  8.91s/it]"
     ]
    },
    {
     "name": "stdout",
     "output_type": "stream",
     "text": [
      "input_img.size():  torch.Size([3, 1512, 2040])\n",
      "resize2_img.size():  torch.Size([3, 189, 255])\n",
      "resize2_cut_img.size():  torch.Size([3, 184, 248])\n",
      "create_HrLr kernel_path:C:\\SaiVinay\\SproutsAI\\GitHub_\\ir_srgan_otsr\\results_kernels_DIV2K\\0101\\0101_kernel_x4.mat\n",
      "scale_factor:  [0.125, 0.125, 1]\n",
      "output_shape:  [189 255   3]\n",
      "im.shape:  (1512, 2040, 3)\n"
     ]
    },
    {
     "name": "stderr",
     "output_type": "stream",
     "text": [
      "Resizing images:  13%|█▎        | 101/800 [16:04<1:44:43,  8.99s/it]"
     ]
    },
    {
     "name": "stdout",
     "output_type": "stream",
     "text": [
      "input_img.size():  torch.Size([3, 1368, 2040])\n",
      "resize2_img.size():  torch.Size([3, 171, 255])\n",
      "resize2_cut_img.size():  torch.Size([3, 168, 248])\n",
      "create_HrLr kernel_path:C:\\SaiVinay\\SproutsAI\\GitHub_\\ir_srgan_otsr\\results_kernels_DIV2K\\0102\\0102_kernel_x4.mat\n",
      "scale_factor:  [0.125, 0.125, 1]\n",
      "output_shape:  [171 255   3]\n",
      "im.shape:  (1368, 2040, 3)\n"
     ]
    },
    {
     "name": "stderr",
     "output_type": "stream",
     "text": [
      "Resizing images:  13%|█▎        | 102/800 [16:12<1:42:48,  8.84s/it]"
     ]
    },
    {
     "name": "stdout",
     "output_type": "stream",
     "text": [
      "input_img.size():  torch.Size([3, 1140, 2040])\n",
      "resize2_img.size():  torch.Size([3, 143, 255])\n",
      "resize2_cut_img.size():  torch.Size([3, 136, 248])\n",
      "create_HrLr kernel_path:C:\\SaiVinay\\SproutsAI\\GitHub_\\ir_srgan_otsr\\results_kernels_DIV2K\\0103\\0103_kernel_x4.mat\n",
      "scale_factor:  [0.125, 0.125, 1]\n",
      "output_shape:  [143 255   3]\n",
      "im.shape:  (1140, 2040, 3)\n"
     ]
    },
    {
     "name": "stderr",
     "output_type": "stream",
     "text": [
      "Resizing images:  13%|█▎        | 103/800 [16:19<1:37:09,  8.36s/it]"
     ]
    },
    {
     "name": "stdout",
     "output_type": "stream",
     "text": [
      "input_img.size():  torch.Size([3, 1320, 2040])\n",
      "resize2_img.size():  torch.Size([3, 165, 255])\n",
      "resize2_cut_img.size():  torch.Size([3, 160, 248])\n",
      "create_HrLr kernel_path:C:\\SaiVinay\\SproutsAI\\GitHub_\\ir_srgan_otsr\\results_kernels_DIV2K\\0104\\0104_kernel_x4.mat\n",
      "scale_factor:  [0.125, 0.125, 1]\n",
      "output_shape:  [165 255   3]\n",
      "im.shape:  (1320, 2040, 3)\n"
     ]
    },
    {
     "name": "stderr",
     "output_type": "stream",
     "text": [
      "Resizing images:  13%|█▎        | 104/800 [16:28<1:37:31,  8.41s/it]"
     ]
    },
    {
     "name": "stdout",
     "output_type": "stream",
     "text": [
      "input_img.size():  torch.Size([3, 1296, 2040])\n",
      "resize2_img.size():  torch.Size([3, 162, 255])\n",
      "resize2_cut_img.size():  torch.Size([3, 160, 248])\n",
      "create_HrLr kernel_path:C:\\SaiVinay\\SproutsAI\\GitHub_\\ir_srgan_otsr\\results_kernels_DIV2K\\0105\\0105_kernel_x4.mat\n",
      "scale_factor:  [0.125, 0.125, 1]\n",
      "output_shape:  [162 255   3]\n",
      "im.shape:  (1296, 2040, 3)\n"
     ]
    },
    {
     "name": "stderr",
     "output_type": "stream",
     "text": [
      "Resizing images:  13%|█▎        | 105/800 [16:37<1:38:56,  8.54s/it]"
     ]
    },
    {
     "name": "stdout",
     "output_type": "stream",
     "text": [
      "input_img.size():  torch.Size([3, 1152, 2040])\n",
      "resize2_img.size():  torch.Size([3, 144, 255])\n",
      "resize2_cut_img.size():  torch.Size([3, 144, 248])\n",
      "create_HrLr kernel_path:C:\\SaiVinay\\SproutsAI\\GitHub_\\ir_srgan_otsr\\results_kernels_DIV2K\\0106\\0106_kernel_x4.mat\n",
      "scale_factor:  [0.125, 0.125, 1]\n",
      "output_shape:  [144 255   3]\n",
      "im.shape:  (1152, 2040, 3)\n"
     ]
    },
    {
     "name": "stderr",
     "output_type": "stream",
     "text": [
      "Resizing images:  13%|█▎        | 106/800 [16:44<1:34:56,  8.21s/it]"
     ]
    },
    {
     "name": "stdout",
     "output_type": "stream",
     "text": [
      "input_img.size():  torch.Size([3, 1356, 2040])\n",
      "resize2_img.size():  torch.Size([3, 170, 255])\n",
      "resize2_cut_img.size():  torch.Size([3, 168, 248])\n",
      "create_HrLr kernel_path:C:\\SaiVinay\\SproutsAI\\GitHub_\\ir_srgan_otsr\\results_kernels_DIV2K\\0107\\0107_kernel_x4.mat\n",
      "scale_factor:  [0.125, 0.125, 1]\n",
      "output_shape:  [170 255   3]\n",
      "im.shape:  (1356, 2040, 3)\n"
     ]
    },
    {
     "name": "stderr",
     "output_type": "stream",
     "text": [
      "Resizing images:  13%|█▎        | 107/800 [16:52<1:34:47,  8.21s/it]"
     ]
    },
    {
     "name": "stdout",
     "output_type": "stream",
     "text": [
      "input_img.size():  torch.Size([3, 1536, 2040])\n",
      "resize2_img.size():  torch.Size([3, 192, 255])\n",
      "resize2_cut_img.size():  torch.Size([3, 192, 248])\n",
      "create_HrLr kernel_path:C:\\SaiVinay\\SproutsAI\\GitHub_\\ir_srgan_otsr\\results_kernels_DIV2K\\0108\\0108_kernel_x4.mat\n",
      "scale_factor:  [0.125, 0.125, 1]\n",
      "output_shape:  [192 255   3]\n",
      "im.shape:  (1536, 2040, 3)\n"
     ]
    },
    {
     "name": "stderr",
     "output_type": "stream",
     "text": [
      "Resizing images:  14%|█▎        | 108/800 [17:02<1:38:47,  8.57s/it]"
     ]
    },
    {
     "name": "stdout",
     "output_type": "stream",
     "text": [
      "input_img.size():  torch.Size([3, 1356, 2040])\n",
      "resize2_img.size():  torch.Size([3, 170, 255])\n",
      "resize2_cut_img.size():  torch.Size([3, 168, 248])\n",
      "create_HrLr kernel_path:C:\\SaiVinay\\SproutsAI\\GitHub_\\ir_srgan_otsr\\results_kernels_DIV2K\\0109\\0109_kernel_x4.mat\n",
      "scale_factor:  [0.125, 0.125, 1]\n",
      "output_shape:  [170 255   3]\n",
      "im.shape:  (1356, 2040, 3)\n"
     ]
    },
    {
     "name": "stderr",
     "output_type": "stream",
     "text": [
      "Resizing images:  14%|█▎        | 109/800 [17:10<1:38:53,  8.59s/it]"
     ]
    },
    {
     "name": "stdout",
     "output_type": "stream",
     "text": [
      "input_img.size():  torch.Size([3, 1356, 2040])\n",
      "resize2_img.size():  torch.Size([3, 170, 255])\n",
      "resize2_cut_img.size():  torch.Size([3, 168, 248])\n",
      "create_HrLr kernel_path:C:\\SaiVinay\\SproutsAI\\GitHub_\\ir_srgan_otsr\\results_kernels_DIV2K\\0110\\0110_kernel_x4.mat\n",
      "scale_factor:  [0.125, 0.125, 1]\n",
      "output_shape:  [170 255   3]\n",
      "im.shape:  (1356, 2040, 3)\n"
     ]
    },
    {
     "name": "stderr",
     "output_type": "stream",
     "text": [
      "Resizing images:  14%|█▍        | 110/800 [17:20<1:40:45,  8.76s/it]"
     ]
    },
    {
     "name": "stdout",
     "output_type": "stream",
     "text": [
      "input_img.size():  torch.Size([3, 1356, 2040])\n",
      "resize2_img.size():  torch.Size([3, 170, 255])\n",
      "resize2_cut_img.size():  torch.Size([3, 168, 248])\n",
      "create_HrLr kernel_path:C:\\SaiVinay\\SproutsAI\\GitHub_\\ir_srgan_otsr\\results_kernels_DIV2K\\0111\\0111_kernel_x4.mat\n",
      "scale_factor:  [0.125, 0.125, 1]\n",
      "output_shape:  [170 255   3]\n",
      "im.shape:  (1356, 2040, 3)\n"
     ]
    },
    {
     "name": "stderr",
     "output_type": "stream",
     "text": [
      "Resizing images:  14%|█▍        | 111/800 [17:28<1:40:21,  8.74s/it]"
     ]
    },
    {
     "name": "stdout",
     "output_type": "stream",
     "text": [
      "input_img.size():  torch.Size([3, 2040, 1356])\n",
      "resize2_img.size():  torch.Size([3, 255, 170])\n",
      "resize2_cut_img.size():  torch.Size([3, 248, 168])\n",
      "create_HrLr kernel_path:C:\\SaiVinay\\SproutsAI\\GitHub_\\ir_srgan_otsr\\results_kernels_DIV2K\\0112\\0112_kernel_x4.mat\n",
      "scale_factor:  [0.125, 0.125, 1]\n",
      "output_shape:  [255 170   3]\n",
      "im.shape:  (2040, 1356, 3)\n"
     ]
    },
    {
     "name": "stderr",
     "output_type": "stream",
     "text": [
      "Resizing images:  14%|█▍        | 112/800 [17:37<1:41:26,  8.85s/it]"
     ]
    },
    {
     "name": "stdout",
     "output_type": "stream",
     "text": [
      "input_img.size():  torch.Size([3, 1368, 2040])\n",
      "resize2_img.size():  torch.Size([3, 171, 255])\n",
      "resize2_cut_img.size():  torch.Size([3, 168, 248])\n",
      "create_HrLr kernel_path:C:\\SaiVinay\\SproutsAI\\GitHub_\\ir_srgan_otsr\\results_kernels_DIV2K\\0113\\0113_kernel_x4.mat\n",
      "scale_factor:  [0.125, 0.125, 1]\n",
      "output_shape:  [171 255   3]\n",
      "im.shape:  (1368, 2040, 3)\n"
     ]
    },
    {
     "name": "stderr",
     "output_type": "stream",
     "text": [
      "Resizing images:  14%|█▍        | 113/800 [17:46<1:40:38,  8.79s/it]"
     ]
    },
    {
     "name": "stdout",
     "output_type": "stream",
     "text": [
      "input_img.size():  torch.Size([3, 2040, 1368])\n",
      "resize2_img.size():  torch.Size([3, 255, 171])\n",
      "resize2_cut_img.size():  torch.Size([3, 248, 168])\n",
      "create_HrLr kernel_path:C:\\SaiVinay\\SproutsAI\\GitHub_\\ir_srgan_otsr\\results_kernels_DIV2K\\0114\\0114_kernel_x4.mat\n",
      "scale_factor:  [0.125, 0.125, 1]\n",
      "output_shape:  [255 171   3]\n",
      "im.shape:  (2040, 1368, 3)\n"
     ]
    },
    {
     "name": "stderr",
     "output_type": "stream",
     "text": [
      "Resizing images:  14%|█▍        | 114/800 [17:55<1:42:20,  8.95s/it]"
     ]
    },
    {
     "name": "stdout",
     "output_type": "stream",
     "text": [
      "input_img.size():  torch.Size([3, 1536, 2040])\n",
      "resize2_img.size():  torch.Size([3, 192, 255])\n",
      "resize2_cut_img.size():  torch.Size([3, 192, 248])\n",
      "create_HrLr kernel_path:C:\\SaiVinay\\SproutsAI\\GitHub_\\ir_srgan_otsr\\results_kernels_DIV2K\\0115\\0115_kernel_x4.mat\n",
      "scale_factor:  [0.125, 0.125, 1]\n",
      "output_shape:  [192 255   3]\n",
      "im.shape:  (1536, 2040, 3)\n"
     ]
    },
    {
     "name": "stderr",
     "output_type": "stream",
     "text": [
      "Resizing images:  14%|█▍        | 115/800 [18:05<1:43:05,  9.03s/it]"
     ]
    },
    {
     "name": "stdout",
     "output_type": "stream",
     "text": [
      "input_img.size():  torch.Size([3, 1356, 2040])\n",
      "resize2_img.size():  torch.Size([3, 170, 255])\n",
      "resize2_cut_img.size():  torch.Size([3, 168, 248])\n",
      "create_HrLr kernel_path:C:\\SaiVinay\\SproutsAI\\GitHub_\\ir_srgan_otsr\\results_kernels_DIV2K\\0116\\0116_kernel_x4.mat\n",
      "scale_factor:  [0.125, 0.125, 1]\n",
      "output_shape:  [170 255   3]\n",
      "im.shape:  (1356, 2040, 3)\n"
     ]
    },
    {
     "name": "stderr",
     "output_type": "stream",
     "text": [
      "Resizing images:  14%|█▍        | 116/800 [18:13<1:42:45,  9.01s/it]"
     ]
    },
    {
     "name": "stdout",
     "output_type": "stream",
     "text": [
      "input_img.size():  torch.Size([3, 1356, 2040])\n",
      "resize2_img.size():  torch.Size([3, 170, 255])\n",
      "resize2_cut_img.size():  torch.Size([3, 168, 248])\n",
      "create_HrLr kernel_path:C:\\SaiVinay\\SproutsAI\\GitHub_\\ir_srgan_otsr\\results_kernels_DIV2K\\0117\\0117_kernel_x4.mat\n",
      "scale_factor:  [0.125, 0.125, 1]\n",
      "output_shape:  [170 255   3]\n",
      "im.shape:  (1356, 2040, 3)\n"
     ]
    },
    {
     "name": "stderr",
     "output_type": "stream",
     "text": [
      "Resizing images:  15%|█▍        | 117/800 [18:22<1:41:19,  8.90s/it]"
     ]
    },
    {
     "name": "stdout",
     "output_type": "stream",
     "text": [
      "input_img.size():  torch.Size([3, 1488, 2040])\n",
      "resize2_img.size():  torch.Size([3, 186, 255])\n",
      "resize2_cut_img.size():  torch.Size([3, 184, 248])\n",
      "create_HrLr kernel_path:C:\\SaiVinay\\SproutsAI\\GitHub_\\ir_srgan_otsr\\results_kernels_DIV2K\\0118\\0118_kernel_x4.mat\n",
      "scale_factor:  [0.125, 0.125, 1]\n",
      "output_shape:  [186 255   3]\n",
      "im.shape:  (1488, 2040, 3)\n"
     ]
    },
    {
     "name": "stderr",
     "output_type": "stream",
     "text": [
      "Resizing images:  15%|█▍        | 118/800 [18:32<1:43:14,  9.08s/it]"
     ]
    },
    {
     "name": "stdout",
     "output_type": "stream",
     "text": [
      "input_img.size():  torch.Size([3, 2040, 1356])\n",
      "resize2_img.size():  torch.Size([3, 255, 170])\n",
      "resize2_cut_img.size():  torch.Size([3, 248, 168])\n",
      "create_HrLr kernel_path:C:\\SaiVinay\\SproutsAI\\GitHub_\\ir_srgan_otsr\\results_kernels_DIV2K\\0119\\0119_kernel_x4.mat\n",
      "scale_factor:  [0.125, 0.125, 1]\n",
      "output_shape:  [255 170   3]\n",
      "im.shape:  (2040, 1356, 3)\n"
     ]
    },
    {
     "name": "stderr",
     "output_type": "stream",
     "text": [
      "Resizing images:  15%|█▍        | 119/800 [18:41<1:42:31,  9.03s/it]"
     ]
    },
    {
     "name": "stdout",
     "output_type": "stream",
     "text": [
      "input_img.size():  torch.Size([3, 1356, 2040])\n",
      "resize2_img.size():  torch.Size([3, 170, 255])\n",
      "resize2_cut_img.size():  torch.Size([3, 168, 248])\n",
      "create_HrLr kernel_path:C:\\SaiVinay\\SproutsAI\\GitHub_\\ir_srgan_otsr\\results_kernels_DIV2K\\0120\\0120_kernel_x4.mat\n",
      "scale_factor:  [0.125, 0.125, 1]\n",
      "output_shape:  [170 255   3]\n",
      "im.shape:  (1356, 2040, 3)\n"
     ]
    },
    {
     "name": "stderr",
     "output_type": "stream",
     "text": [
      "Resizing images:  15%|█▌        | 120/800 [18:49<1:41:34,  8.96s/it]"
     ]
    },
    {
     "name": "stdout",
     "output_type": "stream",
     "text": [
      "input_img.size():  torch.Size([3, 1356, 2040])\n",
      "resize2_img.size():  torch.Size([3, 170, 255])\n",
      "resize2_cut_img.size():  torch.Size([3, 168, 248])\n",
      "create_HrLr kernel_path:C:\\SaiVinay\\SproutsAI\\GitHub_\\ir_srgan_otsr\\results_kernels_DIV2K\\0121\\0121_kernel_x4.mat\n",
      "scale_factor:  [0.125, 0.125, 1]\n",
      "output_shape:  [170 255   3]\n",
      "im.shape:  (1356, 2040, 3)\n"
     ]
    },
    {
     "name": "stderr",
     "output_type": "stream",
     "text": [
      "Resizing images:  15%|█▌        | 121/800 [18:59<1:42:09,  9.03s/it]"
     ]
    },
    {
     "name": "stdout",
     "output_type": "stream",
     "text": [
      "input_img.size():  torch.Size([3, 960, 2040])\n",
      "resize2_img.size():  torch.Size([3, 120, 255])\n",
      "resize2_cut_img.size():  torch.Size([3, 120, 248])\n",
      "create_HrLr kernel_path:C:\\SaiVinay\\SproutsAI\\GitHub_\\ir_srgan_otsr\\results_kernels_DIV2K\\0122\\0122_kernel_x4.mat\n",
      "scale_factor:  [0.125, 0.125, 1]\n",
      "output_shape:  [120 255   3]\n",
      "im.shape:  (960, 2040, 3)\n"
     ]
    },
    {
     "name": "stderr",
     "output_type": "stream",
     "text": [
      "Resizing images:  15%|█▌        | 122/800 [19:05<1:32:10,  8.16s/it]"
     ]
    },
    {
     "name": "stdout",
     "output_type": "stream",
     "text": [
      "input_img.size():  torch.Size([3, 1536, 2040])\n",
      "resize2_img.size():  torch.Size([3, 192, 255])\n",
      "resize2_cut_img.size():  torch.Size([3, 192, 248])\n",
      "create_HrLr kernel_path:C:\\SaiVinay\\SproutsAI\\GitHub_\\ir_srgan_otsr\\results_kernels_DIV2K\\0123\\0123_kernel_x4.mat\n",
      "scale_factor:  [0.125, 0.125, 1]\n",
      "output_shape:  [192 255   3]\n",
      "im.shape:  (1536, 2040, 3)\n"
     ]
    },
    {
     "name": "stderr",
     "output_type": "stream",
     "text": [
      "Resizing images:  15%|█▌        | 123/800 [19:14<1:37:43,  8.66s/it]"
     ]
    },
    {
     "name": "stdout",
     "output_type": "stream",
     "text": [
      "input_img.size():  torch.Size([3, 2040, 1356])\n",
      "resize2_img.size():  torch.Size([3, 255, 170])\n",
      "resize2_cut_img.size():  torch.Size([3, 248, 168])\n",
      "create_HrLr kernel_path:C:\\SaiVinay\\SproutsAI\\GitHub_\\ir_srgan_otsr\\results_kernels_DIV2K\\0124\\0124_kernel_x4.mat\n",
      "scale_factor:  [0.125, 0.125, 1]\n",
      "output_shape:  [255 170   3]\n",
      "im.shape:  (2040, 1356, 3)\n"
     ]
    },
    {
     "name": "stderr",
     "output_type": "stream",
     "text": [
      "Resizing images:  16%|█▌        | 124/800 [19:24<1:39:47,  8.86s/it]"
     ]
    },
    {
     "name": "stdout",
     "output_type": "stream",
     "text": [
      "input_img.size():  torch.Size([3, 1356, 2040])\n",
      "resize2_img.size():  torch.Size([3, 170, 255])\n",
      "resize2_cut_img.size():  torch.Size([3, 168, 248])\n",
      "create_HrLr kernel_path:C:\\SaiVinay\\SproutsAI\\GitHub_\\ir_srgan_otsr\\results_kernels_DIV2K\\0125\\0125_kernel_x4.mat\n",
      "scale_factor:  [0.125, 0.125, 1]\n",
      "output_shape:  [170 255   3]\n",
      "im.shape:  (1356, 2040, 3)\n"
     ]
    },
    {
     "name": "stderr",
     "output_type": "stream",
     "text": [
      "Resizing images:  16%|█▌        | 125/800 [19:33<1:39:30,  8.84s/it]"
     ]
    },
    {
     "name": "stdout",
     "output_type": "stream",
     "text": [
      "input_img.size():  torch.Size([3, 1464, 2040])\n",
      "resize2_img.size():  torch.Size([3, 183, 255])\n",
      "resize2_cut_img.size():  torch.Size([3, 176, 248])\n",
      "create_HrLr kernel_path:C:\\SaiVinay\\SproutsAI\\GitHub_\\ir_srgan_otsr\\results_kernels_DIV2K\\0126\\0126_kernel_x4.mat\n",
      "scale_factor:  [0.125, 0.125, 1]\n",
      "output_shape:  [183 255   3]\n",
      "im.shape:  (1464, 2040, 3)\n"
     ]
    },
    {
     "name": "stderr",
     "output_type": "stream",
     "text": [
      "Resizing images:  16%|█▌        | 126/800 [19:42<1:40:41,  8.96s/it]"
     ]
    },
    {
     "name": "stdout",
     "output_type": "stream",
     "text": [
      "input_img.size():  torch.Size([3, 1356, 2040])\n",
      "resize2_img.size():  torch.Size([3, 170, 255])\n",
      "resize2_cut_img.size():  torch.Size([3, 168, 248])\n",
      "create_HrLr kernel_path:C:\\SaiVinay\\SproutsAI\\GitHub_\\ir_srgan_otsr\\results_kernels_DIV2K\\0127\\0127_kernel_x4.mat\n",
      "scale_factor:  [0.125, 0.125, 1]\n",
      "output_shape:  [170 255   3]\n",
      "im.shape:  (1356, 2040, 3)\n"
     ]
    },
    {
     "name": "stderr",
     "output_type": "stream",
     "text": [
      "Resizing images:  16%|█▌        | 127/800 [19:51<1:40:16,  8.94s/it]"
     ]
    },
    {
     "name": "stdout",
     "output_type": "stream",
     "text": [
      "input_img.size():  torch.Size([3, 1284, 2040])\n",
      "resize2_img.size():  torch.Size([3, 161, 255])\n",
      "resize2_cut_img.size():  torch.Size([3, 160, 248])\n",
      "create_HrLr kernel_path:C:\\SaiVinay\\SproutsAI\\GitHub_\\ir_srgan_otsr\\results_kernels_DIV2K\\0128\\0128_kernel_x4.mat\n",
      "scale_factor:  [0.125, 0.125, 1]\n",
      "output_shape:  [161 255   3]\n",
      "im.shape:  (1284, 2040, 3)\n"
     ]
    },
    {
     "name": "stderr",
     "output_type": "stream",
     "text": [
      "Resizing images:  16%|█▌        | 128/800 [19:59<1:39:21,  8.87s/it]"
     ]
    },
    {
     "name": "stdout",
     "output_type": "stream",
     "text": [
      "input_img.size():  torch.Size([3, 1356, 2040])\n",
      "resize2_img.size():  torch.Size([3, 170, 255])\n",
      "resize2_cut_img.size():  torch.Size([3, 168, 248])\n",
      "create_HrLr kernel_path:C:\\SaiVinay\\SproutsAI\\GitHub_\\ir_srgan_otsr\\results_kernels_DIV2K\\0129\\0129_kernel_x4.mat\n",
      "scale_factor:  [0.125, 0.125, 1]\n",
      "output_shape:  [170 255   3]\n",
      "im.shape:  (1356, 2040, 3)\n"
     ]
    },
    {
     "name": "stderr",
     "output_type": "stream",
     "text": [
      "Resizing images:  16%|█▌        | 129/800 [20:08<1:37:23,  8.71s/it]"
     ]
    },
    {
     "name": "stdout",
     "output_type": "stream",
     "text": [
      "input_img.size():  torch.Size([3, 1356, 2040])\n",
      "resize2_img.size():  torch.Size([3, 170, 255])\n",
      "resize2_cut_img.size():  torch.Size([3, 168, 248])\n",
      "create_HrLr kernel_path:C:\\SaiVinay\\SproutsAI\\GitHub_\\ir_srgan_otsr\\results_kernels_DIV2K\\0130\\0130_kernel_x4.mat\n",
      "scale_factor:  [0.125, 0.125, 1]\n",
      "output_shape:  [170 255   3]\n",
      "im.shape:  (1356, 2040, 3)\n"
     ]
    },
    {
     "name": "stderr",
     "output_type": "stream",
     "text": [
      "Resizing images:  16%|█▋        | 130/800 [20:17<1:38:33,  8.83s/it]"
     ]
    },
    {
     "name": "stdout",
     "output_type": "stream",
     "text": [
      "input_img.size():  torch.Size([3, 1356, 2040])\n",
      "resize2_img.size():  torch.Size([3, 170, 255])\n",
      "resize2_cut_img.size():  torch.Size([3, 168, 248])\n",
      "create_HrLr kernel_path:C:\\SaiVinay\\SproutsAI\\GitHub_\\ir_srgan_otsr\\results_kernels_DIV2K\\0131\\0131_kernel_x4.mat\n",
      "scale_factor:  [0.125, 0.125, 1]\n",
      "output_shape:  [170 255   3]\n",
      "im.shape:  (1356, 2040, 3)\n"
     ]
    },
    {
     "name": "stderr",
     "output_type": "stream",
     "text": [
      "Resizing images:  16%|█▋        | 131/800 [20:25<1:37:09,  8.71s/it]"
     ]
    },
    {
     "name": "stdout",
     "output_type": "stream",
     "text": [
      "input_img.size():  torch.Size([3, 1296, 2040])\n",
      "resize2_img.size():  torch.Size([3, 162, 255])\n",
      "resize2_cut_img.size():  torch.Size([3, 160, 248])\n",
      "create_HrLr kernel_path:C:\\SaiVinay\\SproutsAI\\GitHub_\\ir_srgan_otsr\\results_kernels_DIV2K\\0132\\0132_kernel_x4.mat\n",
      "scale_factor:  [0.125, 0.125, 1]\n",
      "output_shape:  [162 255   3]\n",
      "im.shape:  (1296, 2040, 3)\n"
     ]
    },
    {
     "name": "stderr",
     "output_type": "stream",
     "text": [
      "Resizing images:  16%|█▋        | 132/800 [20:33<1:34:56,  8.53s/it]"
     ]
    },
    {
     "name": "stdout",
     "output_type": "stream",
     "text": [
      "input_img.size():  torch.Size([3, 1356, 2040])\n",
      "resize2_img.size():  torch.Size([3, 170, 255])\n",
      "resize2_cut_img.size():  torch.Size([3, 168, 248])\n",
      "create_HrLr kernel_path:C:\\SaiVinay\\SproutsAI\\GitHub_\\ir_srgan_otsr\\results_kernels_DIV2K\\0133\\0133_kernel_x4.mat\n",
      "scale_factor:  [0.125, 0.125, 1]\n",
      "output_shape:  [170 255   3]\n",
      "im.shape:  (1356, 2040, 3)\n"
     ]
    },
    {
     "name": "stderr",
     "output_type": "stream",
     "text": [
      "Resizing images:  17%|█▋        | 133/800 [20:43<1:37:14,  8.75s/it]"
     ]
    },
    {
     "name": "stdout",
     "output_type": "stream",
     "text": [
      "input_img.size():  torch.Size([3, 2040, 1776])\n",
      "resize2_img.size():  torch.Size([3, 255, 222])\n",
      "resize2_cut_img.size():  torch.Size([3, 248, 216])\n",
      "create_HrLr kernel_path:C:\\SaiVinay\\SproutsAI\\GitHub_\\ir_srgan_otsr\\results_kernels_DIV2K\\0134\\0134_kernel_x4.mat\n",
      "scale_factor:  [0.125, 0.125, 1]\n",
      "output_shape:  [255 222   3]\n",
      "im.shape:  (2040, 1776, 3)\n"
     ]
    },
    {
     "name": "stderr",
     "output_type": "stream",
     "text": [
      "Resizing images:  17%|█▋        | 134/800 [20:55<1:47:43,  9.70s/it]"
     ]
    },
    {
     "name": "stdout",
     "output_type": "stream",
     "text": [
      "input_img.size():  torch.Size([3, 1344, 2040])\n",
      "resize2_img.size():  torch.Size([3, 168, 255])\n",
      "resize2_cut_img.size():  torch.Size([3, 168, 248])\n",
      "create_HrLr kernel_path:C:\\SaiVinay\\SproutsAI\\GitHub_\\ir_srgan_otsr\\results_kernels_DIV2K\\0135\\0135_kernel_x4.mat\n",
      "scale_factor:  [0.125, 0.125, 1]\n",
      "output_shape:  [168 255   3]\n",
      "im.shape:  (1344, 2040, 3)\n"
     ]
    },
    {
     "name": "stderr",
     "output_type": "stream",
     "text": [
      "Resizing images:  17%|█▋        | 135/800 [21:03<1:44:00,  9.38s/it]"
     ]
    },
    {
     "name": "stdout",
     "output_type": "stream",
     "text": [
      "input_img.size():  torch.Size([3, 1356, 2040])\n",
      "resize2_img.size():  torch.Size([3, 170, 255])\n",
      "resize2_cut_img.size():  torch.Size([3, 168, 248])\n",
      "create_HrLr kernel_path:C:\\SaiVinay\\SproutsAI\\GitHub_\\ir_srgan_otsr\\results_kernels_DIV2K\\0136\\0136_kernel_x4.mat\n",
      "scale_factor:  [0.125, 0.125, 1]\n",
      "output_shape:  [170 255   3]\n",
      "im.shape:  (1356, 2040, 3)\n"
     ]
    },
    {
     "name": "stderr",
     "output_type": "stream",
     "text": [
      "Resizing images:  17%|█▋        | 136/800 [21:12<1:42:46,  9.29s/it]"
     ]
    },
    {
     "name": "stdout",
     "output_type": "stream",
     "text": [
      "input_img.size():  torch.Size([3, 1332, 2040])\n",
      "resize2_img.size():  torch.Size([3, 167, 255])\n",
      "resize2_cut_img.size():  torch.Size([3, 160, 248])\n",
      "create_HrLr kernel_path:C:\\SaiVinay\\SproutsAI\\GitHub_\\ir_srgan_otsr\\results_kernels_DIV2K\\0137\\0137_kernel_x4.mat\n",
      "scale_factor:  [0.125, 0.125, 1]\n",
      "output_shape:  [167 255   3]\n",
      "im.shape:  (1332, 2040, 3)\n"
     ]
    },
    {
     "name": "stderr",
     "output_type": "stream",
     "text": [
      "Resizing images:  17%|█▋        | 137/800 [21:21<1:41:31,  9.19s/it]"
     ]
    },
    {
     "name": "stdout",
     "output_type": "stream",
     "text": [
      "input_img.size():  torch.Size([3, 1356, 2040])\n",
      "resize2_img.size():  torch.Size([3, 170, 255])\n",
      "resize2_cut_img.size():  torch.Size([3, 168, 248])\n",
      "create_HrLr kernel_path:C:\\SaiVinay\\SproutsAI\\GitHub_\\ir_srgan_otsr\\results_kernels_DIV2K\\0138\\0138_kernel_x4.mat\n",
      "scale_factor:  [0.125, 0.125, 1]\n",
      "output_shape:  [170 255   3]\n",
      "im.shape:  (1356, 2040, 3)\n"
     ]
    },
    {
     "name": "stderr",
     "output_type": "stream",
     "text": [
      "Resizing images:  17%|█▋        | 138/800 [21:30<1:38:54,  8.96s/it]"
     ]
    },
    {
     "name": "stdout",
     "output_type": "stream",
     "text": [
      "input_img.size():  torch.Size([3, 948, 2040])\n",
      "resize2_img.size():  torch.Size([3, 119, 255])\n",
      "resize2_cut_img.size():  torch.Size([3, 112, 248])\n",
      "create_HrLr kernel_path:C:\\SaiVinay\\SproutsAI\\GitHub_\\ir_srgan_otsr\\results_kernels_DIV2K\\0139\\0139_kernel_x4.mat\n",
      "scale_factor:  [0.125, 0.125, 1]\n",
      "output_shape:  [119 255   3]\n",
      "im.shape:  (948, 2040, 3)\n"
     ]
    },
    {
     "name": "stderr",
     "output_type": "stream",
     "text": [
      "Resizing images:  17%|█▋        | 139/800 [21:36<1:28:48,  8.06s/it]"
     ]
    },
    {
     "name": "stdout",
     "output_type": "stream",
     "text": [
      "input_img.size():  torch.Size([3, 1356, 2040])\n",
      "resize2_img.size():  torch.Size([3, 170, 255])\n",
      "resize2_cut_img.size():  torch.Size([3, 168, 248])\n",
      "create_HrLr kernel_path:C:\\SaiVinay\\SproutsAI\\GitHub_\\ir_srgan_otsr\\results_kernels_DIV2K\\0140\\0140_kernel_x4.mat\n",
      "scale_factor:  [0.125, 0.125, 1]\n",
      "output_shape:  [170 255   3]\n",
      "im.shape:  (1356, 2040, 3)\n"
     ]
    },
    {
     "name": "stderr",
     "output_type": "stream",
     "text": [
      "Resizing images:  18%|█▊        | 140/800 [21:44<1:29:35,  8.15s/it]"
     ]
    },
    {
     "name": "stdout",
     "output_type": "stream",
     "text": [
      "input_img.size():  torch.Size([3, 1356, 2040])\n",
      "resize2_img.size():  torch.Size([3, 170, 255])\n",
      "resize2_cut_img.size():  torch.Size([3, 168, 248])\n",
      "create_HrLr kernel_path:C:\\SaiVinay\\SproutsAI\\GitHub_\\ir_srgan_otsr\\results_kernels_DIV2K\\0141\\0141_kernel_x4.mat\n",
      "scale_factor:  [0.125, 0.125, 1]\n",
      "output_shape:  [170 255   3]\n",
      "im.shape:  (1356, 2040, 3)\n"
     ]
    },
    {
     "name": "stderr",
     "output_type": "stream",
     "text": [
      "Resizing images:  18%|█▊        | 141/800 [21:53<1:30:59,  8.28s/it]"
     ]
    },
    {
     "name": "stdout",
     "output_type": "stream",
     "text": [
      "input_img.size():  torch.Size([3, 1356, 2040])\n",
      "resize2_img.size():  torch.Size([3, 170, 255])\n",
      "resize2_cut_img.size():  torch.Size([3, 168, 248])\n",
      "create_HrLr kernel_path:C:\\SaiVinay\\SproutsAI\\GitHub_\\ir_srgan_otsr\\results_kernels_DIV2K\\0142\\0142_kernel_x4.mat\n",
      "scale_factor:  [0.125, 0.125, 1]\n",
      "output_shape:  [170 255   3]\n",
      "im.shape:  (1356, 2040, 3)\n"
     ]
    },
    {
     "name": "stderr",
     "output_type": "stream",
     "text": [
      "Resizing images:  18%|█▊        | 142/800 [22:02<1:32:53,  8.47s/it]"
     ]
    },
    {
     "name": "stdout",
     "output_type": "stream",
     "text": [
      "input_img.size():  torch.Size([3, 1356, 2040])\n",
      "resize2_img.size():  torch.Size([3, 170, 255])\n",
      "resize2_cut_img.size():  torch.Size([3, 168, 248])\n",
      "create_HrLr kernel_path:C:\\SaiVinay\\SproutsAI\\GitHub_\\ir_srgan_otsr\\results_kernels_DIV2K\\0143\\0143_kernel_x4.mat\n",
      "scale_factor:  [0.125, 0.125, 1]\n",
      "output_shape:  [170 255   3]\n",
      "im.shape:  (1356, 2040, 3)\n"
     ]
    },
    {
     "name": "stderr",
     "output_type": "stream",
     "text": [
      "Resizing images:  18%|█▊        | 143/800 [22:10<1:33:21,  8.53s/it]"
     ]
    },
    {
     "name": "stdout",
     "output_type": "stream",
     "text": [
      "input_img.size():  torch.Size([3, 1356, 2040])\n",
      "resize2_img.size():  torch.Size([3, 170, 255])\n",
      "resize2_cut_img.size():  torch.Size([3, 168, 248])\n",
      "create_HrLr kernel_path:C:\\SaiVinay\\SproutsAI\\GitHub_\\ir_srgan_otsr\\results_kernels_DIV2K\\0144\\0144_kernel_x4.mat\n",
      "scale_factor:  [0.125, 0.125, 1]\n",
      "output_shape:  [170 255   3]\n",
      "im.shape:  (1356, 2040, 3)\n"
     ]
    },
    {
     "name": "stderr",
     "output_type": "stream",
     "text": [
      "Resizing images:  18%|█▊        | 144/800 [22:19<1:34:52,  8.68s/it]"
     ]
    },
    {
     "name": "stdout",
     "output_type": "stream",
     "text": [
      "input_img.size():  torch.Size([3, 732, 2040])\n",
      "resize2_img.size():  torch.Size([3, 92, 255])\n",
      "resize2_cut_img.size():  torch.Size([3, 88, 248])\n",
      "create_HrLr kernel_path:C:\\SaiVinay\\SproutsAI\\GitHub_\\ir_srgan_otsr\\results_kernels_DIV2K\\0145\\0145_kernel_x4.mat\n",
      "scale_factor:  [0.125, 0.125, 1]\n",
      "output_shape:  [ 92 255   3]\n",
      "im.shape:  (732, 2040, 3)\n"
     ]
    },
    {
     "name": "stderr",
     "output_type": "stream",
     "text": [
      "Resizing images:  18%|█▊        | 145/800 [22:24<1:21:08,  7.43s/it]"
     ]
    },
    {
     "name": "stdout",
     "output_type": "stream",
     "text": [
      "input_img.size():  torch.Size([3, 1356, 2040])\n",
      "resize2_img.size():  torch.Size([3, 170, 255])\n",
      "resize2_cut_img.size():  torch.Size([3, 168, 248])\n",
      "create_HrLr kernel_path:C:\\SaiVinay\\SproutsAI\\GitHub_\\ir_srgan_otsr\\results_kernels_DIV2K\\0146\\0146_kernel_x4.mat\n",
      "scale_factor:  [0.125, 0.125, 1]\n",
      "output_shape:  [170 255   3]\n",
      "im.shape:  (1356, 2040, 3)\n"
     ]
    },
    {
     "name": "stderr",
     "output_type": "stream",
     "text": [
      "Resizing images:  18%|█▊        | 146/800 [22:32<1:24:08,  7.72s/it]"
     ]
    },
    {
     "name": "stdout",
     "output_type": "stream",
     "text": [
      "input_img.size():  torch.Size([3, 1656, 2040])\n",
      "resize2_img.size():  torch.Size([3, 207, 255])\n",
      "resize2_cut_img.size():  torch.Size([3, 200, 248])\n",
      "create_HrLr kernel_path:C:\\SaiVinay\\SproutsAI\\GitHub_\\ir_srgan_otsr\\results_kernels_DIV2K\\0147\\0147_kernel_x4.mat\n",
      "scale_factor:  [0.125, 0.125, 1]\n",
      "output_shape:  [207 255   3]\n",
      "im.shape:  (1656, 2040, 3)\n"
     ]
    },
    {
     "name": "stderr",
     "output_type": "stream",
     "text": [
      "Resizing images:  18%|█▊        | 147/800 [22:43<1:32:56,  8.54s/it]"
     ]
    },
    {
     "name": "stdout",
     "output_type": "stream",
     "text": [
      "input_img.size():  torch.Size([3, 1356, 2040])\n",
      "resize2_img.size():  torch.Size([3, 170, 255])\n",
      "resize2_cut_img.size():  torch.Size([3, 168, 248])\n",
      "create_HrLr kernel_path:C:\\SaiVinay\\SproutsAI\\GitHub_\\ir_srgan_otsr\\results_kernels_DIV2K\\0148\\0148_kernel_x4.mat\n",
      "scale_factor:  [0.125, 0.125, 1]\n",
      "output_shape:  [170 255   3]\n",
      "im.shape:  (1356, 2040, 3)\n"
     ]
    },
    {
     "name": "stderr",
     "output_type": "stream",
     "text": [
      "Resizing images:  18%|█▊        | 148/800 [22:51<1:33:19,  8.59s/it]"
     ]
    },
    {
     "name": "stdout",
     "output_type": "stream",
     "text": [
      "input_img.size():  torch.Size([3, 1752, 2040])\n",
      "resize2_img.size():  torch.Size([3, 219, 255])\n",
      "resize2_cut_img.size():  torch.Size([3, 216, 248])\n",
      "create_HrLr kernel_path:C:\\SaiVinay\\SproutsAI\\GitHub_\\ir_srgan_otsr\\results_kernels_DIV2K\\0149\\0149_kernel_x4.mat\n",
      "scale_factor:  [0.125, 0.125, 1]\n",
      "output_shape:  [219 255   3]\n",
      "im.shape:  (1752, 2040, 3)\n"
     ]
    },
    {
     "name": "stderr",
     "output_type": "stream",
     "text": [
      "Resizing images:  19%|█▊        | 149/800 [23:02<1:40:41,  9.28s/it]"
     ]
    },
    {
     "name": "stdout",
     "output_type": "stream",
     "text": [
      "input_img.size():  torch.Size([3, 2040, 1164])\n",
      "resize2_img.size():  torch.Size([3, 255, 146])\n",
      "resize2_cut_img.size():  torch.Size([3, 248, 144])\n",
      "create_HrLr kernel_path:C:\\SaiVinay\\SproutsAI\\GitHub_\\ir_srgan_otsr\\results_kernels_DIV2K\\0150\\0150_kernel_x4.mat\n",
      "scale_factor:  [0.125, 0.125, 1]\n",
      "output_shape:  [255 146   3]\n",
      "im.shape:  (2040, 1164, 3)\n"
     ]
    },
    {
     "name": "stderr",
     "output_type": "stream",
     "text": [
      "Resizing images:  19%|█▉        | 150/800 [23:11<1:38:06,  9.06s/it]"
     ]
    },
    {
     "name": "stdout",
     "output_type": "stream",
     "text": [
      "input_img.size():  torch.Size([3, 1356, 2040])\n",
      "resize2_img.size():  torch.Size([3, 170, 255])\n",
      "resize2_cut_img.size():  torch.Size([3, 168, 248])\n",
      "create_HrLr kernel_path:C:\\SaiVinay\\SproutsAI\\GitHub_\\ir_srgan_otsr\\results_kernels_DIV2K\\0151\\0151_kernel_x4.mat\n",
      "scale_factor:  [0.125, 0.125, 1]\n",
      "output_shape:  [170 255   3]\n",
      "im.shape:  (1356, 2040, 3)\n"
     ]
    },
    {
     "name": "stderr",
     "output_type": "stream",
     "text": [
      "Resizing images:  19%|█▉        | 151/800 [23:19<1:36:26,  8.92s/it]"
     ]
    },
    {
     "name": "stdout",
     "output_type": "stream",
     "text": [
      "input_img.size():  torch.Size([3, 1356, 2040])\n",
      "resize2_img.size():  torch.Size([3, 170, 255])\n",
      "resize2_cut_img.size():  torch.Size([3, 168, 248])\n",
      "create_HrLr kernel_path:C:\\SaiVinay\\SproutsAI\\GitHub_\\ir_srgan_otsr\\results_kernels_DIV2K\\0152\\0152_kernel_x4.mat\n",
      "scale_factor:  [0.125, 0.125, 1]\n",
      "output_shape:  [170 255   3]\n",
      "im.shape:  (1356, 2040, 3)\n"
     ]
    },
    {
     "name": "stderr",
     "output_type": "stream",
     "text": [
      "Resizing images:  19%|█▉        | 152/800 [23:28<1:36:32,  8.94s/it]"
     ]
    },
    {
     "name": "stdout",
     "output_type": "stream",
     "text": [
      "input_img.size():  torch.Size([3, 1356, 2040])\n",
      "resize2_img.size():  torch.Size([3, 170, 255])\n",
      "resize2_cut_img.size():  torch.Size([3, 168, 248])\n",
      "create_HrLr kernel_path:C:\\SaiVinay\\SproutsAI\\GitHub_\\ir_srgan_otsr\\results_kernels_DIV2K\\0153\\0153_kernel_x4.mat\n",
      "scale_factor:  [0.125, 0.125, 1]\n",
      "output_shape:  [170 255   3]\n",
      "im.shape:  (1356, 2040, 3)\n"
     ]
    },
    {
     "name": "stderr",
     "output_type": "stream",
     "text": [
      "Resizing images:  19%|█▉        | 153/800 [23:37<1:35:31,  8.86s/it]"
     ]
    },
    {
     "name": "stdout",
     "output_type": "stream",
     "text": [
      "input_img.size():  torch.Size([3, 1356, 2040])\n",
      "resize2_img.size():  torch.Size([3, 170, 255])\n",
      "resize2_cut_img.size():  torch.Size([3, 168, 248])\n",
      "create_HrLr kernel_path:C:\\SaiVinay\\SproutsAI\\GitHub_\\ir_srgan_otsr\\results_kernels_DIV2K\\0154\\0154_kernel_x4.mat\n",
      "scale_factor:  [0.125, 0.125, 1]\n",
      "output_shape:  [170 255   3]\n",
      "im.shape:  (1356, 2040, 3)\n"
     ]
    },
    {
     "name": "stderr",
     "output_type": "stream",
     "text": [
      "Resizing images:  19%|█▉        | 154/800 [23:46<1:35:47,  8.90s/it]"
     ]
    },
    {
     "name": "stdout",
     "output_type": "stream",
     "text": [
      "input_img.size():  torch.Size([3, 2040, 2040])\n",
      "resize2_img.size():  torch.Size([3, 255, 255])\n",
      "resize2_cut_img.size():  torch.Size([3, 248, 248])\n",
      "create_HrLr kernel_path:C:\\SaiVinay\\SproutsAI\\GitHub_\\ir_srgan_otsr\\results_kernels_DIV2K\\0155\\0155_kernel_x4.mat\n",
      "scale_factor:  [0.125, 0.125, 1]\n",
      "output_shape:  [255 255   3]\n",
      "im.shape:  (2040, 2040, 3)\n"
     ]
    },
    {
     "name": "stderr",
     "output_type": "stream",
     "text": [
      "Resizing images:  19%|█▉        | 155/800 [23:59<1:49:31, 10.19s/it]"
     ]
    },
    {
     "name": "stdout",
     "output_type": "stream",
     "text": [
      "input_img.size():  torch.Size([3, 1356, 2040])\n",
      "resize2_img.size():  torch.Size([3, 170, 255])\n",
      "resize2_cut_img.size():  torch.Size([3, 168, 248])\n",
      "create_HrLr kernel_path:C:\\SaiVinay\\SproutsAI\\GitHub_\\ir_srgan_otsr\\results_kernels_DIV2K\\0156\\0156_kernel_x4.mat\n",
      "scale_factor:  [0.125, 0.125, 1]\n",
      "output_shape:  [170 255   3]\n",
      "im.shape:  (1356, 2040, 3)\n"
     ]
    },
    {
     "name": "stderr",
     "output_type": "stream",
     "text": [
      "Resizing images:  20%|█▉        | 156/800 [24:08<1:45:50,  9.86s/it]"
     ]
    },
    {
     "name": "stdout",
     "output_type": "stream",
     "text": [
      "input_img.size():  torch.Size([3, 1356, 2040])\n",
      "resize2_img.size():  torch.Size([3, 170, 255])\n",
      "resize2_cut_img.size():  torch.Size([3, 168, 248])\n",
      "create_HrLr kernel_path:C:\\SaiVinay\\SproutsAI\\GitHub_\\ir_srgan_otsr\\results_kernels_DIV2K\\0157\\0157_kernel_x4.mat\n",
      "scale_factor:  [0.125, 0.125, 1]\n",
      "output_shape:  [170 255   3]\n",
      "im.shape:  (1356, 2040, 3)\n"
     ]
    },
    {
     "name": "stderr",
     "output_type": "stream",
     "text": [
      "Resizing images:  20%|█▉        | 157/800 [24:17<1:42:19,  9.55s/it]"
     ]
    },
    {
     "name": "stdout",
     "output_type": "stream",
     "text": [
      "input_img.size():  torch.Size([3, 1224, 2040])\n",
      "resize2_img.size():  torch.Size([3, 153, 255])\n",
      "resize2_cut_img.size():  torch.Size([3, 152, 248])\n",
      "create_HrLr kernel_path:C:\\SaiVinay\\SproutsAI\\GitHub_\\ir_srgan_otsr\\results_kernels_DIV2K\\0158\\0158_kernel_x4.mat\n",
      "scale_factor:  [0.125, 0.125, 1]\n",
      "output_shape:  [153 255   3]\n",
      "im.shape:  (1224, 2040, 3)\n"
     ]
    },
    {
     "name": "stderr",
     "output_type": "stream",
     "text": [
      "Resizing images:  20%|█▉        | 158/800 [24:25<1:37:01,  9.07s/it]"
     ]
    },
    {
     "name": "stdout",
     "output_type": "stream",
     "text": [
      "input_img.size():  torch.Size([3, 1356, 2040])\n",
      "resize2_img.size():  torch.Size([3, 170, 255])\n",
      "resize2_cut_img.size():  torch.Size([3, 168, 248])\n",
      "create_HrLr kernel_path:C:\\SaiVinay\\SproutsAI\\GitHub_\\ir_srgan_otsr\\results_kernels_DIV2K\\0159\\0159_kernel_x4.mat\n",
      "scale_factor:  [0.125, 0.125, 1]\n",
      "output_shape:  [170 255   3]\n",
      "im.shape:  (1356, 2040, 3)\n"
     ]
    },
    {
     "name": "stderr",
     "output_type": "stream",
     "text": [
      "Resizing images:  20%|█▉        | 159/800 [24:34<1:36:12,  9.01s/it]"
     ]
    },
    {
     "name": "stdout",
     "output_type": "stream",
     "text": [
      "input_img.size():  torch.Size([3, 1356, 2040])\n",
      "resize2_img.size():  torch.Size([3, 170, 255])\n",
      "resize2_cut_img.size():  torch.Size([3, 168, 248])\n",
      "create_HrLr kernel_path:C:\\SaiVinay\\SproutsAI\\GitHub_\\ir_srgan_otsr\\results_kernels_DIV2K\\0160\\0160_kernel_x4.mat\n",
      "scale_factor:  [0.125, 0.125, 1]\n",
      "output_shape:  [170 255   3]\n",
      "im.shape:  (1356, 2040, 3)\n"
     ]
    },
    {
     "name": "stderr",
     "output_type": "stream",
     "text": [
      "Resizing images:  20%|██        | 160/800 [24:42<1:33:52,  8.80s/it]"
     ]
    },
    {
     "name": "stdout",
     "output_type": "stream",
     "text": [
      "input_img.size():  torch.Size([3, 1260, 2040])\n",
      "resize2_img.size():  torch.Size([3, 158, 255])\n",
      "resize2_cut_img.size():  torch.Size([3, 152, 248])\n",
      "create_HrLr kernel_path:C:\\SaiVinay\\SproutsAI\\GitHub_\\ir_srgan_otsr\\results_kernels_DIV2K\\0161\\0161_kernel_x4.mat\n",
      "scale_factor:  [0.125, 0.125, 1]\n",
      "output_shape:  [158 255   3]\n",
      "im.shape:  (1260, 2040, 3)\n"
     ]
    },
    {
     "name": "stderr",
     "output_type": "stream",
     "text": [
      "Resizing images:  20%|██        | 161/800 [24:50<1:30:57,  8.54s/it]"
     ]
    },
    {
     "name": "stdout",
     "output_type": "stream",
     "text": [
      "input_img.size():  torch.Size([3, 2040, 1368])\n",
      "resize2_img.size():  torch.Size([3, 255, 171])\n",
      "resize2_cut_img.size():  torch.Size([3, 248, 168])\n",
      "create_HrLr kernel_path:C:\\SaiVinay\\SproutsAI\\GitHub_\\ir_srgan_otsr\\results_kernels_DIV2K\\0162\\0162_kernel_x4.mat\n",
      "scale_factor:  [0.125, 0.125, 1]\n",
      "output_shape:  [255 171   3]\n",
      "im.shape:  (2040, 1368, 3)\n"
     ]
    },
    {
     "name": "stderr",
     "output_type": "stream",
     "text": [
      "Resizing images:  20%|██        | 162/800 [24:59<1:31:03,  8.56s/it]"
     ]
    },
    {
     "name": "stdout",
     "output_type": "stream",
     "text": [
      "input_img.size():  torch.Size([3, 1356, 2040])\n",
      "resize2_img.size():  torch.Size([3, 170, 255])\n",
      "resize2_cut_img.size():  torch.Size([3, 168, 248])\n",
      "create_HrLr kernel_path:C:\\SaiVinay\\SproutsAI\\GitHub_\\ir_srgan_otsr\\results_kernels_DIV2K\\0163\\0163_kernel_x4.mat\n",
      "scale_factor:  [0.125, 0.125, 1]\n",
      "output_shape:  [170 255   3]\n",
      "im.shape:  (1356, 2040, 3)\n"
     ]
    },
    {
     "name": "stderr",
     "output_type": "stream",
     "text": [
      "Resizing images:  20%|██        | 163/800 [25:08<1:32:26,  8.71s/it]"
     ]
    },
    {
     "name": "stdout",
     "output_type": "stream",
     "text": [
      "input_img.size():  torch.Size([3, 1356, 2040])\n",
      "resize2_img.size():  torch.Size([3, 170, 255])\n",
      "resize2_cut_img.size():  torch.Size([3, 168, 248])\n",
      "create_HrLr kernel_path:C:\\SaiVinay\\SproutsAI\\GitHub_\\ir_srgan_otsr\\results_kernels_DIV2K\\0164\\0164_kernel_x4.mat\n",
      "scale_factor:  [0.125, 0.125, 1]\n",
      "output_shape:  [170 255   3]\n",
      "im.shape:  (1356, 2040, 3)\n"
     ]
    },
    {
     "name": "stderr",
     "output_type": "stream",
     "text": [
      "Resizing images:  20%|██        | 164/800 [25:16<1:31:35,  8.64s/it]"
     ]
    },
    {
     "name": "stdout",
     "output_type": "stream",
     "text": [
      "input_img.size():  torch.Size([3, 1356, 2040])\n",
      "resize2_img.size():  torch.Size([3, 170, 255])\n",
      "resize2_cut_img.size():  torch.Size([3, 168, 248])\n",
      "create_HrLr kernel_path:C:\\SaiVinay\\SproutsAI\\GitHub_\\ir_srgan_otsr\\results_kernels_DIV2K\\0165\\0165_kernel_x4.mat\n",
      "scale_factor:  [0.125, 0.125, 1]\n",
      "output_shape:  [170 255   3]\n",
      "im.shape:  (1356, 2040, 3)\n"
     ]
    },
    {
     "name": "stderr",
     "output_type": "stream",
     "text": [
      "Resizing images:  21%|██        | 165/800 [25:25<1:31:36,  8.66s/it]"
     ]
    },
    {
     "name": "stdout",
     "output_type": "stream",
     "text": [
      "input_img.size():  torch.Size([3, 1356, 2040])\n",
      "resize2_img.size():  torch.Size([3, 170, 255])\n",
      "resize2_cut_img.size():  torch.Size([3, 168, 248])\n",
      "create_HrLr kernel_path:C:\\SaiVinay\\SproutsAI\\GitHub_\\ir_srgan_otsr\\results_kernels_DIV2K\\0166\\0166_kernel_x4.mat\n",
      "scale_factor:  [0.125, 0.125, 1]\n",
      "output_shape:  [170 255   3]\n",
      "im.shape:  (1356, 2040, 3)\n"
     ]
    },
    {
     "name": "stderr",
     "output_type": "stream",
     "text": [
      "Resizing images:  21%|██        | 166/800 [25:34<1:31:17,  8.64s/it]"
     ]
    },
    {
     "name": "stdout",
     "output_type": "stream",
     "text": [
      "input_img.size():  torch.Size([3, 2040, 1356])\n",
      "resize2_img.size():  torch.Size([3, 255, 170])\n",
      "resize2_cut_img.size():  torch.Size([3, 248, 168])\n",
      "create_HrLr kernel_path:C:\\SaiVinay\\SproutsAI\\GitHub_\\ir_srgan_otsr\\results_kernels_DIV2K\\0167\\0167_kernel_x4.mat\n",
      "scale_factor:  [0.125, 0.125, 1]\n",
      "output_shape:  [255 170   3]\n",
      "im.shape:  (2040, 1356, 3)\n"
     ]
    },
    {
     "name": "stderr",
     "output_type": "stream",
     "text": [
      "Resizing images:  21%|██        | 167/800 [25:42<1:31:46,  8.70s/it]"
     ]
    },
    {
     "name": "stdout",
     "output_type": "stream",
     "text": [
      "input_img.size():  torch.Size([3, 1356, 2040])\n",
      "resize2_img.size():  torch.Size([3, 170, 255])\n",
      "resize2_cut_img.size():  torch.Size([3, 168, 248])\n",
      "create_HrLr kernel_path:C:\\SaiVinay\\SproutsAI\\GitHub_\\ir_srgan_otsr\\results_kernels_DIV2K\\0168\\0168_kernel_x4.mat\n",
      "scale_factor:  [0.125, 0.125, 1]\n",
      "output_shape:  [170 255   3]\n",
      "im.shape:  (1356, 2040, 3)\n"
     ]
    },
    {
     "name": "stderr",
     "output_type": "stream",
     "text": [
      "Resizing images:  21%|██        | 168/800 [25:51<1:31:56,  8.73s/it]"
     ]
    },
    {
     "name": "stdout",
     "output_type": "stream",
     "text": [
      "input_img.size():  torch.Size([3, 1356, 2040])\n",
      "resize2_img.size():  torch.Size([3, 170, 255])\n",
      "resize2_cut_img.size():  torch.Size([3, 168, 248])\n",
      "create_HrLr kernel_path:C:\\SaiVinay\\SproutsAI\\GitHub_\\ir_srgan_otsr\\results_kernels_DIV2K\\0169\\0169_kernel_x4.mat\n",
      "scale_factor:  [0.125, 0.125, 1]\n",
      "output_shape:  [170 255   3]\n",
      "im.shape:  (1356, 2040, 3)\n"
     ]
    },
    {
     "name": "stderr",
     "output_type": "stream",
     "text": [
      "Resizing images:  21%|██        | 169/800 [26:00<1:32:12,  8.77s/it]"
     ]
    },
    {
     "name": "stdout",
     "output_type": "stream",
     "text": [
      "input_img.size():  torch.Size([3, 1152, 2040])\n",
      "resize2_img.size():  torch.Size([3, 144, 255])\n",
      "resize2_cut_img.size():  torch.Size([3, 144, 248])\n",
      "create_HrLr kernel_path:C:\\SaiVinay\\SproutsAI\\GitHub_\\ir_srgan_otsr\\results_kernels_DIV2K\\0170\\0170_kernel_x4.mat\n",
      "scale_factor:  [0.125, 0.125, 1]\n",
      "output_shape:  [144 255   3]\n",
      "im.shape:  (1152, 2040, 3)\n"
     ]
    },
    {
     "name": "stderr",
     "output_type": "stream",
     "text": [
      "Resizing images:  21%|██▏       | 170/800 [26:08<1:27:57,  8.38s/it]"
     ]
    },
    {
     "name": "stdout",
     "output_type": "stream",
     "text": [
      "input_img.size():  torch.Size([3, 1536, 2040])\n",
      "resize2_img.size():  torch.Size([3, 192, 255])\n",
      "resize2_cut_img.size():  torch.Size([3, 192, 248])\n",
      "create_HrLr kernel_path:C:\\SaiVinay\\SproutsAI\\GitHub_\\ir_srgan_otsr\\results_kernels_DIV2K\\0171\\0171_kernel_x4.mat\n",
      "scale_factor:  [0.125, 0.125, 1]\n",
      "output_shape:  [192 255   3]\n",
      "im.shape:  (1536, 2040, 3)\n"
     ]
    },
    {
     "name": "stderr",
     "output_type": "stream",
     "text": [
      "Resizing images:  21%|██▏       | 171/800 [26:17<1:32:21,  8.81s/it]"
     ]
    },
    {
     "name": "stdout",
     "output_type": "stream",
     "text": [
      "input_img.size():  torch.Size([3, 1260, 2040])\n",
      "resize2_img.size():  torch.Size([3, 158, 255])\n",
      "resize2_cut_img.size():  torch.Size([3, 152, 248])\n",
      "create_HrLr kernel_path:C:\\SaiVinay\\SproutsAI\\GitHub_\\ir_srgan_otsr\\results_kernels_DIV2K\\0172\\0172_kernel_x4.mat\n",
      "scale_factor:  [0.125, 0.125, 1]\n",
      "output_shape:  [158 255   3]\n",
      "im.shape:  (1260, 2040, 3)\n"
     ]
    },
    {
     "name": "stderr",
     "output_type": "stream",
     "text": [
      "Resizing images:  22%|██▏       | 172/800 [26:26<1:31:15,  8.72s/it]"
     ]
    },
    {
     "name": "stdout",
     "output_type": "stream",
     "text": [
      "input_img.size():  torch.Size([3, 1356, 2040])\n",
      "resize2_img.size():  torch.Size([3, 170, 255])\n",
      "resize2_cut_img.size():  torch.Size([3, 168, 248])\n",
      "create_HrLr kernel_path:C:\\SaiVinay\\SproutsAI\\GitHub_\\ir_srgan_otsr\\results_kernels_DIV2K\\0173\\0173_kernel_x4.mat\n",
      "scale_factor:  [0.125, 0.125, 1]\n",
      "output_shape:  [170 255   3]\n",
      "im.shape:  (1356, 2040, 3)\n"
     ]
    },
    {
     "name": "stderr",
     "output_type": "stream",
     "text": [
      "Resizing images:  22%|██▏       | 173/800 [26:34<1:30:02,  8.62s/it]"
     ]
    },
    {
     "name": "stdout",
     "output_type": "stream",
     "text": [
      "input_img.size():  torch.Size([3, 1308, 2040])\n",
      "resize2_img.size():  torch.Size([3, 164, 255])\n",
      "resize2_cut_img.size():  torch.Size([3, 160, 248])\n",
      "create_HrLr kernel_path:C:\\SaiVinay\\SproutsAI\\GitHub_\\ir_srgan_otsr\\results_kernels_DIV2K\\0174\\0174_kernel_x4.mat\n",
      "scale_factor:  [0.125, 0.125, 1]\n",
      "output_shape:  [164 255   3]\n",
      "im.shape:  (1308, 2040, 3)\n"
     ]
    },
    {
     "name": "stderr",
     "output_type": "stream",
     "text": [
      "Resizing images:  22%|██▏       | 174/800 [26:43<1:28:46,  8.51s/it]"
     ]
    },
    {
     "name": "stdout",
     "output_type": "stream",
     "text": [
      "input_img.size():  torch.Size([3, 1068, 2040])\n",
      "resize2_img.size():  torch.Size([3, 134, 255])\n",
      "resize2_cut_img.size():  torch.Size([3, 128, 248])\n",
      "create_HrLr kernel_path:C:\\SaiVinay\\SproutsAI\\GitHub_\\ir_srgan_otsr\\results_kernels_DIV2K\\0175\\0175_kernel_x4.mat\n",
      "scale_factor:  [0.125, 0.125, 1]\n",
      "output_shape:  [134 255   3]\n",
      "im.shape:  (1068, 2040, 3)\n"
     ]
    },
    {
     "name": "stderr",
     "output_type": "stream",
     "text": [
      "Resizing images:  22%|██▏       | 175/800 [26:49<1:23:14,  7.99s/it]"
     ]
    },
    {
     "name": "stdout",
     "output_type": "stream",
     "text": [
      "input_img.size():  torch.Size([3, 1644, 2040])\n",
      "resize2_img.size():  torch.Size([3, 206, 255])\n",
      "resize2_cut_img.size():  torch.Size([3, 200, 248])\n",
      "create_HrLr kernel_path:C:\\SaiVinay\\SproutsAI\\GitHub_\\ir_srgan_otsr\\results_kernels_DIV2K\\0176\\0176_kernel_x4.mat\n",
      "scale_factor:  [0.125, 0.125, 1]\n",
      "output_shape:  [206 255   3]\n",
      "im.shape:  (1644, 2040, 3)\n"
     ]
    },
    {
     "name": "stderr",
     "output_type": "stream",
     "text": [
      "Resizing images:  22%|██▏       | 176/800 [27:00<1:30:48,  8.73s/it]"
     ]
    },
    {
     "name": "stdout",
     "output_type": "stream",
     "text": [
      "input_img.size():  torch.Size([3, 1356, 2040])\n",
      "resize2_img.size():  torch.Size([3, 170, 255])\n",
      "resize2_cut_img.size():  torch.Size([3, 168, 248])\n",
      "create_HrLr kernel_path:C:\\SaiVinay\\SproutsAI\\GitHub_\\ir_srgan_otsr\\results_kernels_DIV2K\\0177\\0177_kernel_x4.mat\n",
      "scale_factor:  [0.125, 0.125, 1]\n",
      "output_shape:  [170 255   3]\n",
      "im.shape:  (1356, 2040, 3)\n"
     ]
    },
    {
     "name": "stderr",
     "output_type": "stream",
     "text": [
      "Resizing images:  22%|██▏       | 177/800 [27:09<1:31:14,  8.79s/it]"
     ]
    },
    {
     "name": "stdout",
     "output_type": "stream",
     "text": [
      "input_img.size():  torch.Size([3, 1356, 2040])\n",
      "resize2_img.size():  torch.Size([3, 170, 255])\n",
      "resize2_cut_img.size():  torch.Size([3, 168, 248])\n",
      "create_HrLr kernel_path:C:\\SaiVinay\\SproutsAI\\GitHub_\\ir_srgan_otsr\\results_kernels_DIV2K\\0178\\0178_kernel_x4.mat\n",
      "scale_factor:  [0.125, 0.125, 1]\n",
      "output_shape:  [170 255   3]\n",
      "im.shape:  (1356, 2040, 3)\n"
     ]
    },
    {
     "name": "stderr",
     "output_type": "stream",
     "text": [
      "Resizing images:  22%|██▏       | 178/800 [27:18<1:31:32,  8.83s/it]"
     ]
    },
    {
     "name": "stdout",
     "output_type": "stream",
     "text": [
      "input_img.size():  torch.Size([3, 1356, 2040])\n",
      "resize2_img.size():  torch.Size([3, 170, 255])\n",
      "resize2_cut_img.size():  torch.Size([3, 168, 248])\n",
      "create_HrLr kernel_path:C:\\SaiVinay\\SproutsAI\\GitHub_\\ir_srgan_otsr\\results_kernels_DIV2K\\0179\\0179_kernel_x4.mat\n",
      "scale_factor:  [0.125, 0.125, 1]\n",
      "output_shape:  [170 255   3]\n",
      "im.shape:  (1356, 2040, 3)\n"
     ]
    },
    {
     "name": "stderr",
     "output_type": "stream",
     "text": [
      "Resizing images:  22%|██▏       | 179/800 [27:27<1:32:14,  8.91s/it]"
     ]
    },
    {
     "name": "stdout",
     "output_type": "stream",
     "text": [
      "input_img.size():  torch.Size([3, 1356, 2040])\n",
      "resize2_img.size():  torch.Size([3, 170, 255])\n",
      "resize2_cut_img.size():  torch.Size([3, 168, 248])\n",
      "create_HrLr kernel_path:C:\\SaiVinay\\SproutsAI\\GitHub_\\ir_srgan_otsr\\results_kernels_DIV2K\\0180\\0180_kernel_x4.mat\n",
      "scale_factor:  [0.125, 0.125, 1]\n",
      "output_shape:  [170 255   3]\n",
      "im.shape:  (1356, 2040, 3)\n"
     ]
    },
    {
     "name": "stderr",
     "output_type": "stream",
     "text": [
      "Resizing images:  22%|██▎       | 180/800 [27:35<1:31:26,  8.85s/it]"
     ]
    },
    {
     "name": "stdout",
     "output_type": "stream",
     "text": [
      "input_img.size():  torch.Size([3, 1536, 2040])\n",
      "resize2_img.size():  torch.Size([3, 192, 255])\n",
      "resize2_cut_img.size():  torch.Size([3, 192, 248])\n",
      "create_HrLr kernel_path:C:\\SaiVinay\\SproutsAI\\GitHub_\\ir_srgan_otsr\\results_kernels_DIV2K\\0181\\0181_kernel_x4.mat\n",
      "scale_factor:  [0.125, 0.125, 1]\n",
      "output_shape:  [192 255   3]\n",
      "im.shape:  (1536, 2040, 3)\n"
     ]
    },
    {
     "name": "stderr",
     "output_type": "stream",
     "text": [
      "Resizing images:  23%|██▎       | 181/800 [27:45<1:34:26,  9.15s/it]"
     ]
    },
    {
     "name": "stdout",
     "output_type": "stream",
     "text": [
      "input_img.size():  torch.Size([3, 1248, 2040])\n",
      "resize2_img.size():  torch.Size([3, 156, 255])\n",
      "resize2_cut_img.size():  torch.Size([3, 152, 248])\n",
      "create_HrLr kernel_path:C:\\SaiVinay\\SproutsAI\\GitHub_\\ir_srgan_otsr\\results_kernels_DIV2K\\0182\\0182_kernel_x4.mat\n",
      "scale_factor:  [0.125, 0.125, 1]\n",
      "output_shape:  [156 255   3]\n",
      "im.shape:  (1248, 2040, 3)\n"
     ]
    },
    {
     "name": "stderr",
     "output_type": "stream",
     "text": [
      "Resizing images:  23%|██▎       | 182/800 [27:54<1:31:41,  8.90s/it]"
     ]
    },
    {
     "name": "stdout",
     "output_type": "stream",
     "text": [
      "input_img.size():  torch.Size([3, 1356, 2040])\n",
      "resize2_img.size():  torch.Size([3, 170, 255])\n",
      "resize2_cut_img.size():  torch.Size([3, 168, 248])\n",
      "create_HrLr kernel_path:C:\\SaiVinay\\SproutsAI\\GitHub_\\ir_srgan_otsr\\results_kernels_DIV2K\\0183\\0183_kernel_x4.mat\n",
      "scale_factor:  [0.125, 0.125, 1]\n",
      "output_shape:  [170 255   3]\n",
      "im.shape:  (1356, 2040, 3)\n"
     ]
    },
    {
     "name": "stderr",
     "output_type": "stream",
     "text": [
      "Resizing images:  23%|██▎       | 183/800 [28:03<1:31:51,  8.93s/it]"
     ]
    },
    {
     "name": "stdout",
     "output_type": "stream",
     "text": [
      "input_img.size():  torch.Size([3, 1356, 2040])\n",
      "resize2_img.size():  torch.Size([3, 170, 255])\n",
      "resize2_cut_img.size():  torch.Size([3, 168, 248])\n",
      "create_HrLr kernel_path:C:\\SaiVinay\\SproutsAI\\GitHub_\\ir_srgan_otsr\\results_kernels_DIV2K\\0184\\0184_kernel_x4.mat\n",
      "scale_factor:  [0.125, 0.125, 1]\n",
      "output_shape:  [170 255   3]\n",
      "im.shape:  (1356, 2040, 3)\n"
     ]
    },
    {
     "name": "stderr",
     "output_type": "stream",
     "text": [
      "Resizing images:  23%|██▎       | 184/800 [28:12<1:32:06,  8.97s/it]"
     ]
    },
    {
     "name": "stdout",
     "output_type": "stream",
     "text": [
      "input_img.size():  torch.Size([3, 1152, 2040])\n",
      "resize2_img.size():  torch.Size([3, 144, 255])\n",
      "resize2_cut_img.size():  torch.Size([3, 144, 248])\n",
      "create_HrLr kernel_path:C:\\SaiVinay\\SproutsAI\\GitHub_\\ir_srgan_otsr\\results_kernels_DIV2K\\0185\\0185_kernel_x4.mat\n",
      "scale_factor:  [0.125, 0.125, 1]\n",
      "output_shape:  [144 255   3]\n",
      "im.shape:  (1152, 2040, 3)\n"
     ]
    },
    {
     "name": "stderr",
     "output_type": "stream",
     "text": [
      "Resizing images:  23%|██▎       | 185/800 [28:19<1:27:46,  8.56s/it]"
     ]
    },
    {
     "name": "stdout",
     "output_type": "stream",
     "text": [
      "input_img.size():  torch.Size([3, 1356, 2040])\n",
      "resize2_img.size():  torch.Size([3, 170, 255])\n",
      "resize2_cut_img.size():  torch.Size([3, 168, 248])\n",
      "create_HrLr kernel_path:C:\\SaiVinay\\SproutsAI\\GitHub_\\ir_srgan_otsr\\results_kernels_DIV2K\\0186\\0186_kernel_x4.mat\n",
      "scale_factor:  [0.125, 0.125, 1]\n",
      "output_shape:  [170 255   3]\n",
      "im.shape:  (1356, 2040, 3)\n"
     ]
    },
    {
     "name": "stderr",
     "output_type": "stream",
     "text": [
      "Resizing images:  23%|██▎       | 186/800 [28:28<1:27:54,  8.59s/it]"
     ]
    },
    {
     "name": "stdout",
     "output_type": "stream",
     "text": [
      "input_img.size():  torch.Size([3, 1356, 2040])\n",
      "resize2_img.size():  torch.Size([3, 170, 255])\n",
      "resize2_cut_img.size():  torch.Size([3, 168, 248])\n",
      "create_HrLr kernel_path:C:\\SaiVinay\\SproutsAI\\GitHub_\\ir_srgan_otsr\\results_kernels_DIV2K\\0187\\0187_kernel_x4.mat\n",
      "scale_factor:  [0.125, 0.125, 1]\n",
      "output_shape:  [170 255   3]\n",
      "im.shape:  (1356, 2040, 3)\n"
     ]
    },
    {
     "name": "stderr",
     "output_type": "stream",
     "text": [
      "Resizing images:  23%|██▎       | 187/800 [28:37<1:29:50,  8.79s/it]"
     ]
    },
    {
     "name": "stdout",
     "output_type": "stream",
     "text": [
      "input_img.size():  torch.Size([3, 1548, 2040])\n",
      "resize2_img.size():  torch.Size([3, 194, 255])\n",
      "resize2_cut_img.size():  torch.Size([3, 192, 248])\n",
      "create_HrLr kernel_path:C:\\SaiVinay\\SproutsAI\\GitHub_\\ir_srgan_otsr\\results_kernels_DIV2K\\0188\\0188_kernel_x4.mat\n",
      "scale_factor:  [0.125, 0.125, 1]\n",
      "output_shape:  [194 255   3]\n",
      "im.shape:  (1548, 2040, 3)\n"
     ]
    },
    {
     "name": "stderr",
     "output_type": "stream",
     "text": [
      "Resizing images:  24%|██▎       | 188/800 [28:47<1:32:55,  9.11s/it]"
     ]
    },
    {
     "name": "stdout",
     "output_type": "stream",
     "text": [
      "input_img.size():  torch.Size([3, 1356, 2040])\n",
      "resize2_img.size():  torch.Size([3, 170, 255])\n",
      "resize2_cut_img.size():  torch.Size([3, 168, 248])\n",
      "create_HrLr kernel_path:C:\\SaiVinay\\SproutsAI\\GitHub_\\ir_srgan_otsr\\results_kernels_DIV2K\\0189\\0189_kernel_x4.mat\n",
      "scale_factor:  [0.125, 0.125, 1]\n",
      "output_shape:  [170 255   3]\n",
      "im.shape:  (1356, 2040, 3)\n"
     ]
    },
    {
     "name": "stderr",
     "output_type": "stream",
     "text": [
      "Resizing images:  24%|██▎       | 189/800 [28:56<1:31:21,  8.97s/it]"
     ]
    },
    {
     "name": "stdout",
     "output_type": "stream",
     "text": [
      "input_img.size():  torch.Size([3, 1356, 2040])\n",
      "resize2_img.size():  torch.Size([3, 170, 255])\n",
      "resize2_cut_img.size():  torch.Size([3, 168, 248])\n",
      "create_HrLr kernel_path:C:\\SaiVinay\\SproutsAI\\GitHub_\\ir_srgan_otsr\\results_kernels_DIV2K\\0190\\0190_kernel_x4.mat\n",
      "scale_factor:  [0.125, 0.125, 1]\n",
      "output_shape:  [170 255   3]\n",
      "im.shape:  (1356, 2040, 3)\n"
     ]
    },
    {
     "name": "stderr",
     "output_type": "stream",
     "text": [
      "Resizing images:  24%|██▍       | 190/800 [29:05<1:32:48,  9.13s/it]"
     ]
    },
    {
     "name": "stdout",
     "output_type": "stream",
     "text": [
      "input_img.size():  torch.Size([3, 1152, 2040])\n",
      "resize2_img.size():  torch.Size([3, 144, 255])\n",
      "resize2_cut_img.size():  torch.Size([3, 144, 248])\n",
      "create_HrLr kernel_path:C:\\SaiVinay\\SproutsAI\\GitHub_\\ir_srgan_otsr\\results_kernels_DIV2K\\0191\\0191_kernel_x4.mat\n",
      "scale_factor:  [0.125, 0.125, 1]\n",
      "output_shape:  [144 255   3]\n",
      "im.shape:  (1152, 2040, 3)\n"
     ]
    },
    {
     "name": "stderr",
     "output_type": "stream",
     "text": [
      "Resizing images:  24%|██▍       | 191/800 [29:13<1:29:43,  8.84s/it]"
     ]
    },
    {
     "name": "stdout",
     "output_type": "stream",
     "text": [
      "input_img.size():  torch.Size([3, 1452, 2040])\n",
      "resize2_img.size():  torch.Size([3, 182, 255])\n",
      "resize2_cut_img.size():  torch.Size([3, 176, 248])\n",
      "create_HrLr kernel_path:C:\\SaiVinay\\SproutsAI\\GitHub_\\ir_srgan_otsr\\results_kernels_DIV2K\\0192\\0192_kernel_x4.mat\n",
      "scale_factor:  [0.125, 0.125, 1]\n",
      "output_shape:  [182 255   3]\n",
      "im.shape:  (1452, 2040, 3)\n"
     ]
    },
    {
     "name": "stderr",
     "output_type": "stream",
     "text": [
      "Resizing images:  24%|██▍       | 192/800 [29:23<1:30:42,  8.95s/it]"
     ]
    },
    {
     "name": "stdout",
     "output_type": "stream",
     "text": [
      "input_img.size():  torch.Size([3, 1356, 2040])\n",
      "resize2_img.size():  torch.Size([3, 170, 255])\n",
      "resize2_cut_img.size():  torch.Size([3, 168, 248])\n",
      "create_HrLr kernel_path:C:\\SaiVinay\\SproutsAI\\GitHub_\\ir_srgan_otsr\\results_kernels_DIV2K\\0193\\0193_kernel_x4.mat\n",
      "scale_factor:  [0.125, 0.125, 1]\n",
      "output_shape:  [170 255   3]\n",
      "im.shape:  (1356, 2040, 3)\n"
     ]
    },
    {
     "name": "stderr",
     "output_type": "stream",
     "text": [
      "Resizing images:  24%|██▍       | 193/800 [29:31<1:28:25,  8.74s/it]"
     ]
    },
    {
     "name": "stdout",
     "output_type": "stream",
     "text": [
      "input_img.size():  torch.Size([3, 1356, 2040])\n",
      "resize2_img.size():  torch.Size([3, 170, 255])\n",
      "resize2_cut_img.size():  torch.Size([3, 168, 248])\n",
      "create_HrLr kernel_path:C:\\SaiVinay\\SproutsAI\\GitHub_\\ir_srgan_otsr\\results_kernels_DIV2K\\0194\\0194_kernel_x4.mat\n",
      "scale_factor:  [0.125, 0.125, 1]\n",
      "output_shape:  [170 255   3]\n",
      "im.shape:  (1356, 2040, 3)\n"
     ]
    },
    {
     "name": "stderr",
     "output_type": "stream",
     "text": [
      "Resizing images:  24%|██▍       | 194/800 [29:40<1:29:01,  8.82s/it]"
     ]
    },
    {
     "name": "stdout",
     "output_type": "stream",
     "text": [
      "input_img.size():  torch.Size([3, 1356, 2040])\n",
      "resize2_img.size():  torch.Size([3, 170, 255])\n",
      "resize2_cut_img.size():  torch.Size([3, 168, 248])\n",
      "create_HrLr kernel_path:C:\\SaiVinay\\SproutsAI\\GitHub_\\ir_srgan_otsr\\results_kernels_DIV2K\\0195\\0195_kernel_x4.mat\n",
      "scale_factor:  [0.125, 0.125, 1]\n",
      "output_shape:  [170 255   3]\n",
      "im.shape:  (1356, 2040, 3)\n"
     ]
    },
    {
     "name": "stderr",
     "output_type": "stream",
     "text": [
      "Resizing images:  24%|██▍       | 195/800 [29:48<1:27:27,  8.67s/it]"
     ]
    },
    {
     "name": "stdout",
     "output_type": "stream",
     "text": [
      "input_img.size():  torch.Size([3, 1356, 2040])\n",
      "resize2_img.size():  torch.Size([3, 170, 255])\n",
      "resize2_cut_img.size():  torch.Size([3, 168, 248])\n",
      "create_HrLr kernel_path:C:\\SaiVinay\\SproutsAI\\GitHub_\\ir_srgan_otsr\\results_kernels_DIV2K\\0196\\0196_kernel_x4.mat\n",
      "scale_factor:  [0.125, 0.125, 1]\n",
      "output_shape:  [170 255   3]\n",
      "im.shape:  (1356, 2040, 3)\n"
     ]
    },
    {
     "name": "stderr",
     "output_type": "stream",
     "text": [
      "Resizing images:  24%|██▍       | 196/800 [29:56<1:26:22,  8.58s/it]"
     ]
    },
    {
     "name": "stdout",
     "output_type": "stream",
     "text": [
      "input_img.size():  torch.Size([3, 1356, 2040])\n",
      "resize2_img.size():  torch.Size([3, 170, 255])\n",
      "resize2_cut_img.size():  torch.Size([3, 168, 248])\n",
      "create_HrLr kernel_path:C:\\SaiVinay\\SproutsAI\\GitHub_\\ir_srgan_otsr\\results_kernels_DIV2K\\0197\\0197_kernel_x4.mat\n",
      "scale_factor:  [0.125, 0.125, 1]\n",
      "output_shape:  [170 255   3]\n",
      "im.shape:  (1356, 2040, 3)\n"
     ]
    },
    {
     "name": "stderr",
     "output_type": "stream",
     "text": [
      "Resizing images:  25%|██▍       | 197/800 [30:05<1:26:04,  8.57s/it]"
     ]
    },
    {
     "name": "stdout",
     "output_type": "stream",
     "text": [
      "input_img.size():  torch.Size([3, 1356, 2040])\n",
      "resize2_img.size():  torch.Size([3, 170, 255])\n",
      "resize2_cut_img.size():  torch.Size([3, 168, 248])\n",
      "create_HrLr kernel_path:C:\\SaiVinay\\SproutsAI\\GitHub_\\ir_srgan_otsr\\results_kernels_DIV2K\\0198\\0198_kernel_x4.mat\n",
      "scale_factor:  [0.125, 0.125, 1]\n",
      "output_shape:  [170 255   3]\n",
      "im.shape:  (1356, 2040, 3)\n"
     ]
    },
    {
     "name": "stderr",
     "output_type": "stream",
     "text": [
      "Resizing images:  25%|██▍       | 198/800 [30:14<1:27:39,  8.74s/it]"
     ]
    },
    {
     "name": "stdout",
     "output_type": "stream",
     "text": [
      "input_img.size():  torch.Size([3, 1548, 2040])\n",
      "resize2_img.size():  torch.Size([3, 194, 255])\n",
      "resize2_cut_img.size():  torch.Size([3, 192, 248])\n",
      "create_HrLr kernel_path:C:\\SaiVinay\\SproutsAI\\GitHub_\\ir_srgan_otsr\\results_kernels_DIV2K\\0199\\0199_kernel_x4.mat\n",
      "scale_factor:  [0.125, 0.125, 1]\n",
      "output_shape:  [194 255   3]\n",
      "im.shape:  (1548, 2040, 3)\n"
     ]
    },
    {
     "name": "stderr",
     "output_type": "stream",
     "text": [
      "Resizing images:  25%|██▍       | 199/800 [30:25<1:32:23,  9.22s/it]"
     ]
    },
    {
     "name": "stdout",
     "output_type": "stream",
     "text": [
      "input_img.size():  torch.Size([3, 1356, 2040])\n",
      "resize2_img.size():  torch.Size([3, 170, 255])\n",
      "resize2_cut_img.size():  torch.Size([3, 168, 248])\n",
      "create_HrLr kernel_path:C:\\SaiVinay\\SproutsAI\\GitHub_\\ir_srgan_otsr\\results_kernels_DIV2K\\0200\\0200_kernel_x4.mat\n",
      "scale_factor:  [0.125, 0.125, 1]\n",
      "output_shape:  [170 255   3]\n",
      "im.shape:  (1356, 2040, 3)\n"
     ]
    },
    {
     "name": "stderr",
     "output_type": "stream",
     "text": [
      "Resizing images:  25%|██▌       | 200/800 [30:33<1:31:06,  9.11s/it]"
     ]
    },
    {
     "name": "stdout",
     "output_type": "stream",
     "text": [
      "input_img.size():  torch.Size([3, 1536, 2040])\n",
      "resize2_img.size():  torch.Size([3, 192, 255])\n",
      "resize2_cut_img.size():  torch.Size([3, 192, 248])\n",
      "create_HrLr kernel_path:C:\\SaiVinay\\SproutsAI\\GitHub_\\ir_srgan_otsr\\results_kernels_DIV2K\\0201\\0201_kernel_x4.mat\n",
      "scale_factor:  [0.125, 0.125, 1]\n",
      "output_shape:  [192 255   3]\n",
      "im.shape:  (1536, 2040, 3)\n"
     ]
    },
    {
     "name": "stderr",
     "output_type": "stream",
     "text": [
      "Resizing images:  25%|██▌       | 201/800 [30:44<1:34:03,  9.42s/it]"
     ]
    },
    {
     "name": "stdout",
     "output_type": "stream",
     "text": [
      "input_img.size():  torch.Size([3, 1356, 2040])\n",
      "resize2_img.size():  torch.Size([3, 170, 255])\n",
      "resize2_cut_img.size():  torch.Size([3, 168, 248])\n",
      "create_HrLr kernel_path:C:\\SaiVinay\\SproutsAI\\GitHub_\\ir_srgan_otsr\\results_kernels_DIV2K\\0202\\0202_kernel_x4.mat\n",
      "scale_factor:  [0.125, 0.125, 1]\n",
      "output_shape:  [170 255   3]\n",
      "im.shape:  (1356, 2040, 3)\n"
     ]
    },
    {
     "name": "stderr",
     "output_type": "stream",
     "text": [
      "Resizing images:  25%|██▌       | 202/800 [30:52<1:30:52,  9.12s/it]"
     ]
    },
    {
     "name": "stdout",
     "output_type": "stream",
     "text": [
      "input_img.size():  torch.Size([3, 1356, 2040])\n",
      "resize2_img.size():  torch.Size([3, 170, 255])\n",
      "resize2_cut_img.size():  torch.Size([3, 168, 248])\n",
      "create_HrLr kernel_path:C:\\SaiVinay\\SproutsAI\\GitHub_\\ir_srgan_otsr\\results_kernels_DIV2K\\0203\\0203_kernel_x4.mat\n",
      "scale_factor:  [0.125, 0.125, 1]\n",
      "output_shape:  [170 255   3]\n",
      "im.shape:  (1356, 2040, 3)\n"
     ]
    },
    {
     "name": "stderr",
     "output_type": "stream",
     "text": [
      "Resizing images:  25%|██▌       | 203/800 [31:00<1:27:56,  8.84s/it]"
     ]
    },
    {
     "name": "stdout",
     "output_type": "stream",
     "text": [
      "input_img.size():  torch.Size([3, 1260, 2040])\n",
      "resize2_img.size():  torch.Size([3, 158, 255])\n",
      "resize2_cut_img.size():  torch.Size([3, 152, 248])\n",
      "create_HrLr kernel_path:C:\\SaiVinay\\SproutsAI\\GitHub_\\ir_srgan_otsr\\results_kernels_DIV2K\\0204\\0204_kernel_x4.mat\n",
      "scale_factor:  [0.125, 0.125, 1]\n",
      "output_shape:  [158 255   3]\n",
      "im.shape:  (1260, 2040, 3)\n"
     ]
    },
    {
     "name": "stderr",
     "output_type": "stream",
     "text": [
      "Resizing images:  26%|██▌       | 204/800 [31:08<1:25:54,  8.65s/it]"
     ]
    },
    {
     "name": "stdout",
     "output_type": "stream",
     "text": [
      "input_img.size():  torch.Size([3, 852, 2040])\n",
      "resize2_img.size():  torch.Size([3, 107, 255])\n",
      "resize2_cut_img.size():  torch.Size([3, 104, 248])\n",
      "create_HrLr kernel_path:C:\\SaiVinay\\SproutsAI\\GitHub_\\ir_srgan_otsr\\results_kernels_DIV2K\\0205\\0205_kernel_x4.mat\n",
      "scale_factor:  [0.125, 0.125, 1]\n",
      "output_shape:  [107 255   3]\n",
      "im.shape:  (852, 2040, 3)\n"
     ]
    },
    {
     "name": "stderr",
     "output_type": "stream",
     "text": [
      "Resizing images:  26%|██▌       | 205/800 [31:14<1:16:00,  7.66s/it]"
     ]
    },
    {
     "name": "stdout",
     "output_type": "stream",
     "text": [
      "input_img.size():  torch.Size([3, 1356, 2040])\n",
      "resize2_img.size():  torch.Size([3, 170, 255])\n",
      "resize2_cut_img.size():  torch.Size([3, 168, 248])\n",
      "create_HrLr kernel_path:C:\\SaiVinay\\SproutsAI\\GitHub_\\ir_srgan_otsr\\results_kernels_DIV2K\\0206\\0206_kernel_x4.mat\n",
      "scale_factor:  [0.125, 0.125, 1]\n",
      "output_shape:  [170 255   3]\n",
      "im.shape:  (1356, 2040, 3)\n"
     ]
    },
    {
     "name": "stderr",
     "output_type": "stream",
     "text": [
      "Resizing images:  26%|██▌       | 206/800 [31:23<1:19:51,  8.07s/it]"
     ]
    },
    {
     "name": "stdout",
     "output_type": "stream",
     "text": [
      "input_img.size():  torch.Size([3, 1356, 2040])\n",
      "resize2_img.size():  torch.Size([3, 170, 255])\n",
      "resize2_cut_img.size():  torch.Size([3, 168, 248])\n",
      "create_HrLr kernel_path:C:\\SaiVinay\\SproutsAI\\GitHub_\\ir_srgan_otsr\\results_kernels_DIV2K\\0207\\0207_kernel_x4.mat\n",
      "scale_factor:  [0.125, 0.125, 1]\n",
      "output_shape:  [170 255   3]\n",
      "im.shape:  (1356, 2040, 3)\n"
     ]
    },
    {
     "name": "stderr",
     "output_type": "stream",
     "text": [
      "Resizing images:  26%|██▌       | 207/800 [31:31<1:21:01,  8.20s/it]"
     ]
    },
    {
     "name": "stdout",
     "output_type": "stream",
     "text": [
      "input_img.size():  torch.Size([3, 1356, 2040])\n",
      "resize2_img.size():  torch.Size([3, 170, 255])\n",
      "resize2_cut_img.size():  torch.Size([3, 168, 248])\n",
      "create_HrLr kernel_path:C:\\SaiVinay\\SproutsAI\\GitHub_\\ir_srgan_otsr\\results_kernels_DIV2K\\0208\\0208_kernel_x4.mat\n",
      "scale_factor:  [0.125, 0.125, 1]\n",
      "output_shape:  [170 255   3]\n",
      "im.shape:  (1356, 2040, 3)\n"
     ]
    },
    {
     "name": "stderr",
     "output_type": "stream",
     "text": [
      "Resizing images:  26%|██▌       | 208/800 [31:40<1:21:53,  8.30s/it]"
     ]
    },
    {
     "name": "stdout",
     "output_type": "stream",
     "text": [
      "input_img.size():  torch.Size([3, 1356, 2040])\n",
      "resize2_img.size():  torch.Size([3, 170, 255])\n",
      "resize2_cut_img.size():  torch.Size([3, 168, 248])\n",
      "create_HrLr kernel_path:C:\\SaiVinay\\SproutsAI\\GitHub_\\ir_srgan_otsr\\results_kernels_DIV2K\\0209\\0209_kernel_x4.mat\n",
      "scale_factor:  [0.125, 0.125, 1]\n",
      "output_shape:  [170 255   3]\n",
      "im.shape:  (1356, 2040, 3)\n"
     ]
    },
    {
     "name": "stderr",
     "output_type": "stream",
     "text": [
      "Resizing images:  26%|██▌       | 209/800 [31:49<1:23:49,  8.51s/it]"
     ]
    },
    {
     "name": "stdout",
     "output_type": "stream",
     "text": [
      "input_img.size():  torch.Size([3, 1356, 2040])\n",
      "resize2_img.size():  torch.Size([3, 170, 255])\n",
      "resize2_cut_img.size():  torch.Size([3, 168, 248])\n",
      "create_HrLr kernel_path:C:\\SaiVinay\\SproutsAI\\GitHub_\\ir_srgan_otsr\\results_kernels_DIV2K\\0210\\0210_kernel_x4.mat\n",
      "scale_factor:  [0.125, 0.125, 1]\n",
      "output_shape:  [170 255   3]\n",
      "im.shape:  (1356, 2040, 3)\n"
     ]
    },
    {
     "name": "stderr",
     "output_type": "stream",
     "text": [
      "Resizing images:  26%|██▋       | 210/800 [31:57<1:23:05,  8.45s/it]"
     ]
    },
    {
     "name": "stdout",
     "output_type": "stream",
     "text": [
      "input_img.size():  torch.Size([3, 1356, 2040])\n",
      "resize2_img.size():  torch.Size([3, 170, 255])\n",
      "resize2_cut_img.size():  torch.Size([3, 168, 248])\n",
      "create_HrLr kernel_path:C:\\SaiVinay\\SproutsAI\\GitHub_\\ir_srgan_otsr\\results_kernels_DIV2K\\0211\\0211_kernel_x4.mat\n",
      "scale_factor:  [0.125, 0.125, 1]\n",
      "output_shape:  [170 255   3]\n",
      "im.shape:  (1356, 2040, 3)\n"
     ]
    },
    {
     "name": "stderr",
     "output_type": "stream",
     "text": [
      "Resizing images:  26%|██▋       | 211/800 [32:05<1:22:13,  8.38s/it]"
     ]
    },
    {
     "name": "stdout",
     "output_type": "stream",
     "text": [
      "input_img.size():  torch.Size([3, 1536, 2040])\n",
      "resize2_img.size():  torch.Size([3, 192, 255])\n",
      "resize2_cut_img.size():  torch.Size([3, 192, 248])\n",
      "create_HrLr kernel_path:C:\\SaiVinay\\SproutsAI\\GitHub_\\ir_srgan_otsr\\results_kernels_DIV2K\\0212\\0212_kernel_x4.mat\n",
      "scale_factor:  [0.125, 0.125, 1]\n",
      "output_shape:  [192 255   3]\n",
      "im.shape:  (1536, 2040, 3)\n"
     ]
    },
    {
     "name": "stderr",
     "output_type": "stream",
     "text": [
      "Resizing images:  26%|██▋       | 212/800 [32:15<1:25:16,  8.70s/it]"
     ]
    },
    {
     "name": "stdout",
     "output_type": "stream",
     "text": [
      "input_img.size():  torch.Size([3, 1356, 2040])\n",
      "resize2_img.size():  torch.Size([3, 170, 255])\n",
      "resize2_cut_img.size():  torch.Size([3, 168, 248])\n",
      "create_HrLr kernel_path:C:\\SaiVinay\\SproutsAI\\GitHub_\\ir_srgan_otsr\\results_kernels_DIV2K\\0213\\0213_kernel_x4.mat\n",
      "scale_factor:  [0.125, 0.125, 1]\n",
      "output_shape:  [170 255   3]\n",
      "im.shape:  (1356, 2040, 3)\n"
     ]
    },
    {
     "name": "stderr",
     "output_type": "stream",
     "text": [
      "Resizing images:  27%|██▋       | 213/800 [32:23<1:24:58,  8.69s/it]"
     ]
    },
    {
     "name": "stdout",
     "output_type": "stream",
     "text": [
      "input_img.size():  torch.Size([3, 1356, 2040])\n",
      "resize2_img.size():  torch.Size([3, 170, 255])\n",
      "resize2_cut_img.size():  torch.Size([3, 168, 248])\n",
      "create_HrLr kernel_path:C:\\SaiVinay\\SproutsAI\\GitHub_\\ir_srgan_otsr\\results_kernels_DIV2K\\0214\\0214_kernel_x4.mat\n",
      "scale_factor:  [0.125, 0.125, 1]\n",
      "output_shape:  [170 255   3]\n",
      "im.shape:  (1356, 2040, 3)\n"
     ]
    },
    {
     "name": "stderr",
     "output_type": "stream",
     "text": [
      "Resizing images:  27%|██▋       | 214/800 [32:32<1:24:11,  8.62s/it]"
     ]
    },
    {
     "name": "stdout",
     "output_type": "stream",
     "text": [
      "input_img.size():  torch.Size([3, 1560, 2040])\n",
      "resize2_img.size():  torch.Size([3, 195, 255])\n",
      "resize2_cut_img.size():  torch.Size([3, 192, 248])\n",
      "create_HrLr kernel_path:C:\\SaiVinay\\SproutsAI\\GitHub_\\ir_srgan_otsr\\results_kernels_DIV2K\\0215\\0215_kernel_x4.mat\n",
      "scale_factor:  [0.125, 0.125, 1]\n",
      "output_shape:  [195 255   3]\n",
      "im.shape:  (1560, 2040, 3)\n"
     ]
    },
    {
     "name": "stderr",
     "output_type": "stream",
     "text": [
      "Resizing images:  27%|██▋       | 215/800 [32:42<1:28:16,  9.05s/it]"
     ]
    },
    {
     "name": "stdout",
     "output_type": "stream",
     "text": [
      "input_img.size():  torch.Size([3, 1632, 2040])\n",
      "resize2_img.size():  torch.Size([3, 204, 255])\n",
      "resize2_cut_img.size():  torch.Size([3, 200, 248])\n",
      "create_HrLr kernel_path:C:\\SaiVinay\\SproutsAI\\GitHub_\\ir_srgan_otsr\\results_kernels_DIV2K\\0216\\0216_kernel_x4.mat\n",
      "scale_factor:  [0.125, 0.125, 1]\n",
      "output_shape:  [204 255   3]\n",
      "im.shape:  (1632, 2040, 3)\n"
     ]
    },
    {
     "name": "stderr",
     "output_type": "stream",
     "text": [
      "Resizing images:  27%|██▋       | 216/800 [32:52<1:31:15,  9.38s/it]"
     ]
    },
    {
     "name": "stdout",
     "output_type": "stream",
     "text": [
      "input_img.size():  torch.Size([3, 2040, 2040])\n",
      "resize2_img.size():  torch.Size([3, 255, 255])\n",
      "resize2_cut_img.size():  torch.Size([3, 248, 248])\n",
      "create_HrLr kernel_path:C:\\SaiVinay\\SproutsAI\\GitHub_\\ir_srgan_otsr\\results_kernels_DIV2K\\0217\\0217_kernel_x4.mat\n",
      "scale_factor:  [0.125, 0.125, 1]\n",
      "output_shape:  [255 255   3]\n",
      "im.shape:  (2040, 2040, 3)\n"
     ]
    },
    {
     "name": "stderr",
     "output_type": "stream",
     "text": [
      "Resizing images:  27%|██▋       | 217/800 [33:06<1:43:40, 10.67s/it]"
     ]
    },
    {
     "name": "stdout",
     "output_type": "stream",
     "text": [
      "input_img.size():  torch.Size([3, 1356, 2040])\n",
      "resize2_img.size():  torch.Size([3, 170, 255])\n",
      "resize2_cut_img.size():  torch.Size([3, 168, 248])\n",
      "create_HrLr kernel_path:C:\\SaiVinay\\SproutsAI\\GitHub_\\ir_srgan_otsr\\results_kernels_DIV2K\\0218\\0218_kernel_x4.mat\n",
      "scale_factor:  [0.125, 0.125, 1]\n",
      "output_shape:  [170 255   3]\n",
      "im.shape:  (1356, 2040, 3)\n"
     ]
    },
    {
     "name": "stderr",
     "output_type": "stream",
     "text": [
      "Resizing images:  27%|██▋       | 218/800 [33:14<1:37:59, 10.10s/it]"
     ]
    },
    {
     "name": "stdout",
     "output_type": "stream",
     "text": [
      "input_img.size():  torch.Size([3, 1368, 2040])\n",
      "resize2_img.size():  torch.Size([3, 171, 255])\n",
      "resize2_cut_img.size():  torch.Size([3, 168, 248])\n",
      "create_HrLr kernel_path:C:\\SaiVinay\\SproutsAI\\GitHub_\\ir_srgan_otsr\\results_kernels_DIV2K\\0219\\0219_kernel_x4.mat\n",
      "scale_factor:  [0.125, 0.125, 1]\n",
      "output_shape:  [171 255   3]\n",
      "im.shape:  (1368, 2040, 3)\n"
     ]
    },
    {
     "name": "stderr",
     "output_type": "stream",
     "text": [
      "Resizing images:  27%|██▋       | 219/800 [33:23<1:33:51,  9.69s/it]"
     ]
    },
    {
     "name": "stdout",
     "output_type": "stream",
     "text": [
      "input_img.size():  torch.Size([3, 1356, 2040])\n",
      "resize2_img.size():  torch.Size([3, 170, 255])\n",
      "resize2_cut_img.size():  torch.Size([3, 168, 248])\n",
      "create_HrLr kernel_path:C:\\SaiVinay\\SproutsAI\\GitHub_\\ir_srgan_otsr\\results_kernels_DIV2K\\0220\\0220_kernel_x4.mat\n",
      "scale_factor:  [0.125, 0.125, 1]\n",
      "output_shape:  [170 255   3]\n",
      "im.shape:  (1356, 2040, 3)\n"
     ]
    },
    {
     "name": "stderr",
     "output_type": "stream",
     "text": [
      "Resizing images:  28%|██▊       | 220/800 [33:32<1:31:18,  9.44s/it]"
     ]
    },
    {
     "name": "stdout",
     "output_type": "stream",
     "text": [
      "input_img.size():  torch.Size([3, 1356, 2040])\n",
      "resize2_img.size():  torch.Size([3, 170, 255])\n",
      "resize2_cut_img.size():  torch.Size([3, 168, 248])\n",
      "create_HrLr kernel_path:C:\\SaiVinay\\SproutsAI\\GitHub_\\ir_srgan_otsr\\results_kernels_DIV2K\\0221\\0221_kernel_x4.mat\n",
      "scale_factor:  [0.125, 0.125, 1]\n",
      "output_shape:  [170 255   3]\n",
      "im.shape:  (1356, 2040, 3)\n"
     ]
    },
    {
     "name": "stderr",
     "output_type": "stream",
     "text": [
      "Resizing images:  28%|██▊       | 221/800 [33:41<1:29:23,  9.26s/it]"
     ]
    },
    {
     "name": "stdout",
     "output_type": "stream",
     "text": [
      "input_img.size():  torch.Size([3, 1164, 2040])\n",
      "resize2_img.size():  torch.Size([3, 146, 255])\n",
      "resize2_cut_img.size():  torch.Size([3, 144, 248])\n",
      "create_HrLr kernel_path:C:\\SaiVinay\\SproutsAI\\GitHub_\\ir_srgan_otsr\\results_kernels_DIV2K\\0222\\0222_kernel_x4.mat\n",
      "scale_factor:  [0.125, 0.125, 1]\n",
      "output_shape:  [146 255   3]\n",
      "im.shape:  (1164, 2040, 3)\n"
     ]
    },
    {
     "name": "stderr",
     "output_type": "stream",
     "text": [
      "Resizing images:  28%|██▊       | 222/800 [33:48<1:24:04,  8.73s/it]"
     ]
    },
    {
     "name": "stdout",
     "output_type": "stream",
     "text": [
      "input_img.size():  torch.Size([3, 1356, 2040])\n",
      "resize2_img.size():  torch.Size([3, 170, 255])\n",
      "resize2_cut_img.size():  torch.Size([3, 168, 248])\n",
      "create_HrLr kernel_path:C:\\SaiVinay\\SproutsAI\\GitHub_\\ir_srgan_otsr\\results_kernels_DIV2K\\0223\\0223_kernel_x4.mat\n",
      "scale_factor:  [0.125, 0.125, 1]\n",
      "output_shape:  [170 255   3]\n",
      "im.shape:  (1356, 2040, 3)\n"
     ]
    },
    {
     "name": "stderr",
     "output_type": "stream",
     "text": [
      "Resizing images:  28%|██▊       | 223/800 [33:58<1:25:14,  8.86s/it]"
     ]
    },
    {
     "name": "stdout",
     "output_type": "stream",
     "text": [
      "input_img.size():  torch.Size([3, 1356, 2040])\n",
      "resize2_img.size():  torch.Size([3, 170, 255])\n",
      "resize2_cut_img.size():  torch.Size([3, 168, 248])\n",
      "create_HrLr kernel_path:C:\\SaiVinay\\SproutsAI\\GitHub_\\ir_srgan_otsr\\results_kernels_DIV2K\\0224\\0224_kernel_x4.mat\n",
      "scale_factor:  [0.125, 0.125, 1]\n",
      "output_shape:  [170 255   3]\n",
      "im.shape:  (1356, 2040, 3)\n"
     ]
    },
    {
     "name": "stderr",
     "output_type": "stream",
     "text": [
      "Resizing images:  28%|██▊       | 224/800 [34:06<1:25:10,  8.87s/it]"
     ]
    },
    {
     "name": "stdout",
     "output_type": "stream",
     "text": [
      "input_img.size():  torch.Size([3, 1356, 2040])\n",
      "resize2_img.size():  torch.Size([3, 170, 255])\n",
      "resize2_cut_img.size():  torch.Size([3, 168, 248])\n",
      "create_HrLr kernel_path:C:\\SaiVinay\\SproutsAI\\GitHub_\\ir_srgan_otsr\\results_kernels_DIV2K\\0225\\0225_kernel_x4.mat\n",
      "scale_factor:  [0.125, 0.125, 1]\n",
      "output_shape:  [170 255   3]\n",
      "im.shape:  (1356, 2040, 3)\n"
     ]
    },
    {
     "name": "stderr",
     "output_type": "stream",
     "text": [
      "Resizing images:  28%|██▊       | 225/800 [34:16<1:25:32,  8.93s/it]"
     ]
    },
    {
     "name": "stdout",
     "output_type": "stream",
     "text": [
      "input_img.size():  torch.Size([3, 1356, 2040])\n",
      "resize2_img.size():  torch.Size([3, 170, 255])\n",
      "resize2_cut_img.size():  torch.Size([3, 168, 248])\n",
      "create_HrLr kernel_path:C:\\SaiVinay\\SproutsAI\\GitHub_\\ir_srgan_otsr\\results_kernels_DIV2K\\0226\\0226_kernel_x4.mat\n",
      "scale_factor:  [0.125, 0.125, 1]\n",
      "output_shape:  [170 255   3]\n",
      "im.shape:  (1356, 2040, 3)\n"
     ]
    },
    {
     "name": "stderr",
     "output_type": "stream",
     "text": [
      "Resizing images:  28%|██▊       | 226/800 [34:24<1:24:04,  8.79s/it]"
     ]
    },
    {
     "name": "stdout",
     "output_type": "stream",
     "text": [
      "input_img.size():  torch.Size([3, 2040, 1356])\n",
      "resize2_img.size():  torch.Size([3, 255, 170])\n",
      "resize2_cut_img.size():  torch.Size([3, 248, 168])\n",
      "create_HrLr kernel_path:C:\\SaiVinay\\SproutsAI\\GitHub_\\ir_srgan_otsr\\results_kernels_DIV2K\\0227\\0227_kernel_x4.mat\n",
      "scale_factor:  [0.125, 0.125, 1]\n",
      "output_shape:  [255 170   3]\n",
      "im.shape:  (2040, 1356, 3)\n"
     ]
    },
    {
     "name": "stderr",
     "output_type": "stream",
     "text": [
      "Resizing images:  28%|██▊       | 227/800 [34:33<1:23:26,  8.74s/it]"
     ]
    },
    {
     "name": "stdout",
     "output_type": "stream",
     "text": [
      "input_img.size():  torch.Size([3, 1356, 2040])\n",
      "resize2_img.size():  torch.Size([3, 170, 255])\n",
      "resize2_cut_img.size():  torch.Size([3, 168, 248])\n",
      "create_HrLr kernel_path:C:\\SaiVinay\\SproutsAI\\GitHub_\\ir_srgan_otsr\\results_kernels_DIV2K\\0228\\0228_kernel_x4.mat\n",
      "scale_factor:  [0.125, 0.125, 1]\n",
      "output_shape:  [170 255   3]\n",
      "im.shape:  (1356, 2040, 3)\n"
     ]
    },
    {
     "name": "stderr",
     "output_type": "stream",
     "text": [
      "Resizing images:  28%|██▊       | 228/800 [34:41<1:22:45,  8.68s/it]"
     ]
    },
    {
     "name": "stdout",
     "output_type": "stream",
     "text": [
      "input_img.size():  torch.Size([3, 1296, 2040])\n",
      "resize2_img.size():  torch.Size([3, 162, 255])\n",
      "resize2_cut_img.size():  torch.Size([3, 160, 248])\n",
      "create_HrLr kernel_path:C:\\SaiVinay\\SproutsAI\\GitHub_\\ir_srgan_otsr\\results_kernels_DIV2K\\0229\\0229_kernel_x4.mat\n",
      "scale_factor:  [0.125, 0.125, 1]\n",
      "output_shape:  [162 255   3]\n",
      "im.shape:  (1296, 2040, 3)\n"
     ]
    },
    {
     "name": "stderr",
     "output_type": "stream",
     "text": [
      "Resizing images:  29%|██▊       | 229/800 [34:50<1:21:52,  8.60s/it]"
     ]
    },
    {
     "name": "stdout",
     "output_type": "stream",
     "text": [
      "input_img.size():  torch.Size([3, 1392, 2040])\n",
      "resize2_img.size():  torch.Size([3, 174, 255])\n",
      "resize2_cut_img.size():  torch.Size([3, 168, 248])\n",
      "create_HrLr kernel_path:C:\\SaiVinay\\SproutsAI\\GitHub_\\ir_srgan_otsr\\results_kernels_DIV2K\\0230\\0230_kernel_x4.mat\n",
      "scale_factor:  [0.125, 0.125, 1]\n",
      "output_shape:  [174 255   3]\n",
      "im.shape:  (1392, 2040, 3)\n"
     ]
    },
    {
     "name": "stderr",
     "output_type": "stream",
     "text": [
      "Resizing images:  29%|██▉       | 230/800 [34:58<1:21:31,  8.58s/it]"
     ]
    },
    {
     "name": "stdout",
     "output_type": "stream",
     "text": [
      "input_img.size():  torch.Size([3, 1356, 2040])\n",
      "resize2_img.size():  torch.Size([3, 170, 255])\n",
      "resize2_cut_img.size():  torch.Size([3, 168, 248])\n",
      "create_HrLr kernel_path:C:\\SaiVinay\\SproutsAI\\GitHub_\\ir_srgan_otsr\\results_kernels_DIV2K\\0231\\0231_kernel_x4.mat\n",
      "scale_factor:  [0.125, 0.125, 1]\n",
      "output_shape:  [170 255   3]\n",
      "im.shape:  (1356, 2040, 3)\n"
     ]
    },
    {
     "name": "stderr",
     "output_type": "stream",
     "text": [
      "Resizing images:  29%|██▉       | 231/800 [35:07<1:21:12,  8.56s/it]"
     ]
    },
    {
     "name": "stdout",
     "output_type": "stream",
     "text": [
      "input_img.size():  torch.Size([3, 1356, 2040])\n",
      "resize2_img.size():  torch.Size([3, 170, 255])\n",
      "resize2_cut_img.size():  torch.Size([3, 168, 248])\n",
      "create_HrLr kernel_path:C:\\SaiVinay\\SproutsAI\\GitHub_\\ir_srgan_otsr\\results_kernels_DIV2K\\0232\\0232_kernel_x4.mat\n",
      "scale_factor:  [0.125, 0.125, 1]\n",
      "output_shape:  [170 255   3]\n",
      "im.shape:  (1356, 2040, 3)\n"
     ]
    },
    {
     "name": "stderr",
     "output_type": "stream",
     "text": [
      "Resizing images:  29%|██▉       | 232/800 [35:15<1:21:16,  8.59s/it]"
     ]
    },
    {
     "name": "stdout",
     "output_type": "stream",
     "text": [
      "input_img.size():  torch.Size([3, 1368, 2040])\n",
      "resize2_img.size():  torch.Size([3, 171, 255])\n",
      "resize2_cut_img.size():  torch.Size([3, 168, 248])\n",
      "create_HrLr kernel_path:C:\\SaiVinay\\SproutsAI\\GitHub_\\ir_srgan_otsr\\results_kernels_DIV2K\\0233\\0233_kernel_x4.mat\n",
      "scale_factor:  [0.125, 0.125, 1]\n",
      "output_shape:  [171 255   3]\n",
      "im.shape:  (1368, 2040, 3)\n"
     ]
    },
    {
     "name": "stderr",
     "output_type": "stream",
     "text": [
      "Resizing images:  29%|██▉       | 233/800 [35:24<1:22:31,  8.73s/it]"
     ]
    },
    {
     "name": "stdout",
     "output_type": "stream",
     "text": [
      "input_img.size():  torch.Size([3, 1356, 2040])\n",
      "resize2_img.size():  torch.Size([3, 170, 255])\n",
      "resize2_cut_img.size():  torch.Size([3, 168, 248])\n",
      "create_HrLr kernel_path:C:\\SaiVinay\\SproutsAI\\GitHub_\\ir_srgan_otsr\\results_kernels_DIV2K\\0234\\0234_kernel_x4.mat\n",
      "scale_factor:  [0.125, 0.125, 1]\n",
      "output_shape:  [170 255   3]\n",
      "im.shape:  (1356, 2040, 3)\n"
     ]
    },
    {
     "name": "stderr",
     "output_type": "stream",
     "text": [
      "Resizing images:  29%|██▉       | 234/800 [35:33<1:22:20,  8.73s/it]"
     ]
    },
    {
     "name": "stdout",
     "output_type": "stream",
     "text": [
      "input_img.size():  torch.Size([3, 1356, 2040])\n",
      "resize2_img.size():  torch.Size([3, 170, 255])\n",
      "resize2_cut_img.size():  torch.Size([3, 168, 248])\n",
      "create_HrLr kernel_path:C:\\SaiVinay\\SproutsAI\\GitHub_\\ir_srgan_otsr\\results_kernels_DIV2K\\0235\\0235_kernel_x4.mat\n",
      "scale_factor:  [0.125, 0.125, 1]\n",
      "output_shape:  [170 255   3]\n",
      "im.shape:  (1356, 2040, 3)\n"
     ]
    },
    {
     "name": "stderr",
     "output_type": "stream",
     "text": [
      "Resizing images:  29%|██▉       | 235/800 [35:42<1:22:16,  8.74s/it]"
     ]
    },
    {
     "name": "stdout",
     "output_type": "stream",
     "text": [
      "input_img.size():  torch.Size([3, 1356, 2040])\n",
      "resize2_img.size():  torch.Size([3, 170, 255])\n",
      "resize2_cut_img.size():  torch.Size([3, 168, 248])\n",
      "create_HrLr kernel_path:C:\\SaiVinay\\SproutsAI\\GitHub_\\ir_srgan_otsr\\results_kernels_DIV2K\\0236\\0236_kernel_x4.mat\n",
      "scale_factor:  [0.125, 0.125, 1]\n",
      "output_shape:  [170 255   3]\n",
      "im.shape:  (1356, 2040, 3)\n"
     ]
    },
    {
     "name": "stderr",
     "output_type": "stream",
     "text": [
      "Resizing images:  30%|██▉       | 236/800 [35:51<1:23:07,  8.84s/it]"
     ]
    },
    {
     "name": "stdout",
     "output_type": "stream",
     "text": [
      "input_img.size():  torch.Size([3, 1140, 2040])\n",
      "resize2_img.size():  torch.Size([3, 143, 255])\n",
      "resize2_cut_img.size():  torch.Size([3, 136, 248])\n",
      "create_HrLr kernel_path:C:\\SaiVinay\\SproutsAI\\GitHub_\\ir_srgan_otsr\\results_kernels_DIV2K\\0237\\0237_kernel_x4.mat\n",
      "scale_factor:  [0.125, 0.125, 1]\n",
      "output_shape:  [143 255   3]\n",
      "im.shape:  (1140, 2040, 3)\n"
     ]
    },
    {
     "name": "stderr",
     "output_type": "stream",
     "text": [
      "Resizing images:  30%|██▉       | 237/800 [35:58<1:19:12,  8.44s/it]"
     ]
    },
    {
     "name": "stdout",
     "output_type": "stream",
     "text": [
      "input_img.size():  torch.Size([3, 2040, 1296])\n",
      "resize2_img.size():  torch.Size([3, 255, 162])\n",
      "resize2_cut_img.size():  torch.Size([3, 248, 160])\n",
      "create_HrLr kernel_path:C:\\SaiVinay\\SproutsAI\\GitHub_\\ir_srgan_otsr\\results_kernels_DIV2K\\0238\\0238_kernel_x4.mat\n",
      "scale_factor:  [0.125, 0.125, 1]\n",
      "output_shape:  [255 162   3]\n",
      "im.shape:  (2040, 1296, 3)\n"
     ]
    },
    {
     "name": "stderr",
     "output_type": "stream",
     "text": [
      "Resizing images:  30%|██▉       | 238/800 [36:07<1:18:46,  8.41s/it]"
     ]
    },
    {
     "name": "stdout",
     "output_type": "stream",
     "text": [
      "input_img.size():  torch.Size([3, 1152, 2040])\n",
      "resize2_img.size():  torch.Size([3, 144, 255])\n",
      "resize2_cut_img.size():  torch.Size([3, 144, 248])\n",
      "create_HrLr kernel_path:C:\\SaiVinay\\SproutsAI\\GitHub_\\ir_srgan_otsr\\results_kernels_DIV2K\\0239\\0239_kernel_x4.mat\n",
      "scale_factor:  [0.125, 0.125, 1]\n",
      "output_shape:  [144 255   3]\n",
      "im.shape:  (1152, 2040, 3)\n"
     ]
    },
    {
     "name": "stderr",
     "output_type": "stream",
     "text": [
      "Resizing images:  30%|██▉       | 239/800 [36:14<1:16:10,  8.15s/it]"
     ]
    },
    {
     "name": "stdout",
     "output_type": "stream",
     "text": [
      "input_img.size():  torch.Size([3, 1836, 2040])\n",
      "resize2_img.size():  torch.Size([3, 230, 255])\n",
      "resize2_cut_img.size():  torch.Size([3, 224, 248])\n",
      "create_HrLr kernel_path:C:\\SaiVinay\\SproutsAI\\GitHub_\\ir_srgan_otsr\\results_kernels_DIV2K\\0240\\0240_kernel_x4.mat\n",
      "scale_factor:  [0.125, 0.125, 1]\n",
      "output_shape:  [230 255   3]\n",
      "im.shape:  (1836, 2040, 3)\n"
     ]
    },
    {
     "name": "stderr",
     "output_type": "stream",
     "text": [
      "Resizing images:  30%|███       | 240/800 [36:26<1:25:01,  9.11s/it]"
     ]
    },
    {
     "name": "stdout",
     "output_type": "stream",
     "text": [
      "input_img.size():  torch.Size([3, 1356, 2040])\n",
      "resize2_img.size():  torch.Size([3, 170, 255])\n",
      "resize2_cut_img.size():  torch.Size([3, 168, 248])\n",
      "create_HrLr kernel_path:C:\\SaiVinay\\SproutsAI\\GitHub_\\ir_srgan_otsr\\results_kernels_DIV2K\\0241\\0241_kernel_x4.mat\n",
      "scale_factor:  [0.125, 0.125, 1]\n",
      "output_shape:  [170 255   3]\n",
      "im.shape:  (1356, 2040, 3)\n"
     ]
    },
    {
     "name": "stderr",
     "output_type": "stream",
     "text": [
      "Resizing images:  30%|███       | 241/800 [36:34<1:23:25,  8.96s/it]"
     ]
    },
    {
     "name": "stdout",
     "output_type": "stream",
     "text": [
      "input_img.size():  torch.Size([3, 1356, 2040])\n",
      "resize2_img.size():  torch.Size([3, 170, 255])\n",
      "resize2_cut_img.size():  torch.Size([3, 168, 248])\n",
      "create_HrLr kernel_path:C:\\SaiVinay\\SproutsAI\\GitHub_\\ir_srgan_otsr\\results_kernels_DIV2K\\0242\\0242_kernel_x4.mat\n",
      "scale_factor:  [0.125, 0.125, 1]\n",
      "output_shape:  [170 255   3]\n",
      "im.shape:  (1356, 2040, 3)\n"
     ]
    },
    {
     "name": "stderr",
     "output_type": "stream",
     "text": [
      "Resizing images:  30%|███       | 242/800 [36:43<1:21:33,  8.77s/it]"
     ]
    },
    {
     "name": "stdout",
     "output_type": "stream",
     "text": [
      "input_img.size():  torch.Size([3, 780, 2040])\n",
      "resize2_img.size():  torch.Size([3, 98, 255])\n",
      "resize2_cut_img.size():  torch.Size([3, 96, 248])\n",
      "create_HrLr kernel_path:C:\\SaiVinay\\SproutsAI\\GitHub_\\ir_srgan_otsr\\results_kernels_DIV2K\\0243\\0243_kernel_x4.mat\n",
      "scale_factor:  [0.125, 0.125, 1]\n",
      "output_shape:  [ 98 255   3]\n",
      "im.shape:  (780, 2040, 3)\n"
     ]
    },
    {
     "name": "stderr",
     "output_type": "stream",
     "text": [
      "Resizing images:  30%|███       | 243/800 [36:47<1:10:28,  7.59s/it]"
     ]
    },
    {
     "name": "stdout",
     "output_type": "stream",
     "text": [
      "input_img.size():  torch.Size([3, 1536, 2040])\n",
      "resize2_img.size():  torch.Size([3, 192, 255])\n",
      "resize2_cut_img.size():  torch.Size([3, 192, 248])\n",
      "create_HrLr kernel_path:C:\\SaiVinay\\SproutsAI\\GitHub_\\ir_srgan_otsr\\results_kernels_DIV2K\\0244\\0244_kernel_x4.mat\n",
      "scale_factor:  [0.125, 0.125, 1]\n",
      "output_shape:  [192 255   3]\n",
      "im.shape:  (1536, 2040, 3)\n"
     ]
    },
    {
     "name": "stderr",
     "output_type": "stream",
     "text": [
      "Resizing images:  30%|███       | 244/800 [36:58<1:17:38,  8.38s/it]"
     ]
    },
    {
     "name": "stdout",
     "output_type": "stream",
     "text": [
      "input_img.size():  torch.Size([3, 1536, 2040])\n",
      "resize2_img.size():  torch.Size([3, 192, 255])\n",
      "resize2_cut_img.size():  torch.Size([3, 192, 248])\n",
      "create_HrLr kernel_path:C:\\SaiVinay\\SproutsAI\\GitHub_\\ir_srgan_otsr\\results_kernels_DIV2K\\0245\\0245_kernel_x4.mat\n",
      "scale_factor:  [0.125, 0.125, 1]\n",
      "output_shape:  [192 255   3]\n",
      "im.shape:  (1536, 2040, 3)\n"
     ]
    },
    {
     "name": "stderr",
     "output_type": "stream",
     "text": [
      "Resizing images:  31%|███       | 245/800 [37:07<1:20:26,  8.70s/it]"
     ]
    },
    {
     "name": "stdout",
     "output_type": "stream",
     "text": [
      "input_img.size():  torch.Size([3, 2040, 1356])\n",
      "resize2_img.size():  torch.Size([3, 255, 170])\n",
      "resize2_cut_img.size():  torch.Size([3, 248, 168])\n",
      "create_HrLr kernel_path:C:\\SaiVinay\\SproutsAI\\GitHub_\\ir_srgan_otsr\\results_kernels_DIV2K\\0246\\0246_kernel_x4.mat\n",
      "scale_factor:  [0.125, 0.125, 1]\n",
      "output_shape:  [255 170   3]\n",
      "im.shape:  (2040, 1356, 3)\n"
     ]
    },
    {
     "name": "stderr",
     "output_type": "stream",
     "text": [
      "Resizing images:  31%|███       | 246/800 [37:16<1:20:28,  8.71s/it]"
     ]
    },
    {
     "name": "stdout",
     "output_type": "stream",
     "text": [
      "input_img.size():  torch.Size([3, 1356, 2040])\n",
      "resize2_img.size():  torch.Size([3, 170, 255])\n",
      "resize2_cut_img.size():  torch.Size([3, 168, 248])\n",
      "create_HrLr kernel_path:C:\\SaiVinay\\SproutsAI\\GitHub_\\ir_srgan_otsr\\results_kernels_DIV2K\\0247\\0247_kernel_x4.mat\n",
      "scale_factor:  [0.125, 0.125, 1]\n",
      "output_shape:  [170 255   3]\n",
      "im.shape:  (1356, 2040, 3)\n"
     ]
    },
    {
     "name": "stderr",
     "output_type": "stream",
     "text": [
      "Resizing images:  31%|███       | 247/800 [37:25<1:20:41,  8.76s/it]"
     ]
    },
    {
     "name": "stdout",
     "output_type": "stream",
     "text": [
      "input_img.size():  torch.Size([3, 1356, 2040])\n",
      "resize2_img.size():  torch.Size([3, 170, 255])\n",
      "resize2_cut_img.size():  torch.Size([3, 168, 248])\n",
      "create_HrLr kernel_path:C:\\SaiVinay\\SproutsAI\\GitHub_\\ir_srgan_otsr\\results_kernels_DIV2K\\0248\\0248_kernel_x4.mat\n",
      "scale_factor:  [0.125, 0.125, 1]\n",
      "output_shape:  [170 255   3]\n",
      "im.shape:  (1356, 2040, 3)\n"
     ]
    },
    {
     "name": "stderr",
     "output_type": "stream",
     "text": [
      "Resizing images:  31%|███       | 248/800 [37:33<1:19:46,  8.67s/it]"
     ]
    },
    {
     "name": "stdout",
     "output_type": "stream",
     "text": [
      "input_img.size():  torch.Size([3, 1356, 2040])\n",
      "resize2_img.size():  torch.Size([3, 170, 255])\n",
      "resize2_cut_img.size():  torch.Size([3, 168, 248])\n",
      "create_HrLr kernel_path:C:\\SaiVinay\\SproutsAI\\GitHub_\\ir_srgan_otsr\\results_kernels_DIV2K\\0249\\0249_kernel_x4.mat\n",
      "scale_factor:  [0.125, 0.125, 1]\n",
      "output_shape:  [170 255   3]\n",
      "im.shape:  (1356, 2040, 3)\n"
     ]
    },
    {
     "name": "stderr",
     "output_type": "stream",
     "text": [
      "Resizing images:  31%|███       | 249/800 [37:42<1:19:11,  8.62s/it]"
     ]
    },
    {
     "name": "stdout",
     "output_type": "stream",
     "text": [
      "input_img.size():  torch.Size([3, 1356, 2040])\n",
      "resize2_img.size():  torch.Size([3, 170, 255])\n",
      "resize2_cut_img.size():  torch.Size([3, 168, 248])\n",
      "create_HrLr kernel_path:C:\\SaiVinay\\SproutsAI\\GitHub_\\ir_srgan_otsr\\results_kernels_DIV2K\\0250\\0250_kernel_x4.mat\n",
      "scale_factor:  [0.125, 0.125, 1]\n",
      "output_shape:  [170 255   3]\n",
      "im.shape:  (1356, 2040, 3)\n"
     ]
    },
    {
     "name": "stderr",
     "output_type": "stream",
     "text": [
      "Resizing images:  31%|███▏      | 250/800 [37:51<1:19:50,  8.71s/it]"
     ]
    },
    {
     "name": "stdout",
     "output_type": "stream",
     "text": [
      "input_img.size():  torch.Size([3, 1356, 2040])\n",
      "resize2_img.size():  torch.Size([3, 170, 255])\n",
      "resize2_cut_img.size():  torch.Size([3, 168, 248])\n",
      "create_HrLr kernel_path:C:\\SaiVinay\\SproutsAI\\GitHub_\\ir_srgan_otsr\\results_kernels_DIV2K\\0251\\0251_kernel_x4.mat\n",
      "scale_factor:  [0.125, 0.125, 1]\n",
      "output_shape:  [170 255   3]\n",
      "im.shape:  (1356, 2040, 3)\n"
     ]
    },
    {
     "name": "stderr",
     "output_type": "stream",
     "text": [
      "Resizing images:  31%|███▏      | 251/800 [38:00<1:21:51,  8.95s/it]"
     ]
    },
    {
     "name": "stdout",
     "output_type": "stream",
     "text": [
      "input_img.size():  torch.Size([3, 1356, 2040])\n",
      "resize2_img.size():  torch.Size([3, 170, 255])\n",
      "resize2_cut_img.size():  torch.Size([3, 168, 248])\n",
      "create_HrLr kernel_path:C:\\SaiVinay\\SproutsAI\\GitHub_\\ir_srgan_otsr\\results_kernels_DIV2K\\0252\\0252_kernel_x4.mat\n",
      "scale_factor:  [0.125, 0.125, 1]\n",
      "output_shape:  [170 255   3]\n",
      "im.shape:  (1356, 2040, 3)\n"
     ]
    },
    {
     "name": "stderr",
     "output_type": "stream",
     "text": [
      "Resizing images:  32%|███▏      | 252/800 [38:09<1:21:30,  8.92s/it]"
     ]
    },
    {
     "name": "stdout",
     "output_type": "stream",
     "text": [
      "input_img.size():  torch.Size([3, 1356, 2040])\n",
      "resize2_img.size():  torch.Size([3, 170, 255])\n",
      "resize2_cut_img.size():  torch.Size([3, 168, 248])\n",
      "create_HrLr kernel_path:C:\\SaiVinay\\SproutsAI\\GitHub_\\ir_srgan_otsr\\results_kernels_DIV2K\\0253\\0253_kernel_x4.mat\n",
      "scale_factor:  [0.125, 0.125, 1]\n",
      "output_shape:  [170 255   3]\n",
      "im.shape:  (1356, 2040, 3)\n"
     ]
    },
    {
     "name": "stderr",
     "output_type": "stream",
     "text": [
      "Resizing images:  32%|███▏      | 253/800 [38:19<1:23:08,  9.12s/it]"
     ]
    },
    {
     "name": "stdout",
     "output_type": "stream",
     "text": [
      "input_img.size():  torch.Size([3, 1356, 2040])\n",
      "resize2_img.size():  torch.Size([3, 170, 255])\n",
      "resize2_cut_img.size():  torch.Size([3, 168, 248])\n",
      "create_HrLr kernel_path:C:\\SaiVinay\\SproutsAI\\GitHub_\\ir_srgan_otsr\\results_kernels_DIV2K\\0254\\0254_kernel_x4.mat\n",
      "scale_factor:  [0.125, 0.125, 1]\n",
      "output_shape:  [170 255   3]\n",
      "im.shape:  (1356, 2040, 3)\n"
     ]
    },
    {
     "name": "stderr",
     "output_type": "stream",
     "text": [
      "Resizing images:  32%|███▏      | 254/800 [38:27<1:21:01,  8.90s/it]"
     ]
    },
    {
     "name": "stdout",
     "output_type": "stream",
     "text": [
      "input_img.size():  torch.Size([3, 1356, 2040])\n",
      "resize2_img.size():  torch.Size([3, 170, 255])\n",
      "resize2_cut_img.size():  torch.Size([3, 168, 248])\n",
      "create_HrLr kernel_path:C:\\SaiVinay\\SproutsAI\\GitHub_\\ir_srgan_otsr\\results_kernels_DIV2K\\0255\\0255_kernel_x4.mat\n",
      "scale_factor:  [0.125, 0.125, 1]\n",
      "output_shape:  [170 255   3]\n",
      "im.shape:  (1356, 2040, 3)\n"
     ]
    },
    {
     "name": "stderr",
     "output_type": "stream",
     "text": [
      "Resizing images:  32%|███▏      | 255/800 [38:36<1:21:13,  8.94s/it]"
     ]
    },
    {
     "name": "stdout",
     "output_type": "stream",
     "text": [
      "input_img.size():  torch.Size([3, 1356, 2040])\n",
      "resize2_img.size():  torch.Size([3, 170, 255])\n",
      "resize2_cut_img.size():  torch.Size([3, 168, 248])\n",
      "create_HrLr kernel_path:C:\\SaiVinay\\SproutsAI\\GitHub_\\ir_srgan_otsr\\results_kernels_DIV2K\\0256\\0256_kernel_x4.mat\n",
      "scale_factor:  [0.125, 0.125, 1]\n",
      "output_shape:  [170 255   3]\n",
      "im.shape:  (1356, 2040, 3)\n"
     ]
    },
    {
     "name": "stderr",
     "output_type": "stream",
     "text": [
      "Resizing images:  32%|███▏      | 256/800 [38:45<1:20:07,  8.84s/it]"
     ]
    },
    {
     "name": "stdout",
     "output_type": "stream",
     "text": [
      "input_img.size():  torch.Size([3, 1356, 2040])\n",
      "resize2_img.size():  torch.Size([3, 170, 255])\n",
      "resize2_cut_img.size():  torch.Size([3, 168, 248])\n",
      "create_HrLr kernel_path:C:\\SaiVinay\\SproutsAI\\GitHub_\\ir_srgan_otsr\\results_kernels_DIV2K\\0257\\0257_kernel_x4.mat\n",
      "scale_factor:  [0.125, 0.125, 1]\n",
      "output_shape:  [170 255   3]\n",
      "im.shape:  (1356, 2040, 3)\n"
     ]
    },
    {
     "name": "stderr",
     "output_type": "stream",
     "text": [
      "Resizing images:  32%|███▏      | 257/800 [38:53<1:19:30,  8.78s/it]"
     ]
    },
    {
     "name": "stdout",
     "output_type": "stream",
     "text": [
      "input_img.size():  torch.Size([3, 1356, 2040])\n",
      "resize2_img.size():  torch.Size([3, 170, 255])\n",
      "resize2_cut_img.size():  torch.Size([3, 168, 248])\n",
      "create_HrLr kernel_path:C:\\SaiVinay\\SproutsAI\\GitHub_\\ir_srgan_otsr\\results_kernels_DIV2K\\0258\\0258_kernel_x4.mat\n",
      "scale_factor:  [0.125, 0.125, 1]\n",
      "output_shape:  [170 255   3]\n",
      "im.shape:  (1356, 2040, 3)\n"
     ]
    },
    {
     "name": "stderr",
     "output_type": "stream",
     "text": [
      "Resizing images:  32%|███▏      | 258/800 [39:03<1:20:55,  8.96s/it]"
     ]
    },
    {
     "name": "stdout",
     "output_type": "stream",
     "text": [
      "input_img.size():  torch.Size([3, 1296, 2040])\n",
      "resize2_img.size():  torch.Size([3, 162, 255])\n",
      "resize2_cut_img.size():  torch.Size([3, 160, 248])\n",
      "create_HrLr kernel_path:C:\\SaiVinay\\SproutsAI\\GitHub_\\ir_srgan_otsr\\results_kernels_DIV2K\\0259\\0259_kernel_x4.mat\n",
      "scale_factor:  [0.125, 0.125, 1]\n",
      "output_shape:  [162 255   3]\n",
      "im.shape:  (1296, 2040, 3)\n"
     ]
    },
    {
     "name": "stderr",
     "output_type": "stream",
     "text": [
      "Resizing images:  32%|███▏      | 259/800 [39:11<1:18:47,  8.74s/it]"
     ]
    },
    {
     "name": "stdout",
     "output_type": "stream",
     "text": [
      "input_img.size():  torch.Size([3, 1356, 2040])\n",
      "resize2_img.size():  torch.Size([3, 170, 255])\n",
      "resize2_cut_img.size():  torch.Size([3, 168, 248])\n",
      "create_HrLr kernel_path:C:\\SaiVinay\\SproutsAI\\GitHub_\\ir_srgan_otsr\\results_kernels_DIV2K\\0260\\0260_kernel_x4.mat\n",
      "scale_factor:  [0.125, 0.125, 1]\n",
      "output_shape:  [170 255   3]\n",
      "im.shape:  (1356, 2040, 3)\n"
     ]
    },
    {
     "name": "stderr",
     "output_type": "stream",
     "text": [
      "Resizing images:  32%|███▎      | 260/800 [39:20<1:20:00,  8.89s/it]"
     ]
    },
    {
     "name": "stdout",
     "output_type": "stream",
     "text": [
      "input_img.size():  torch.Size([3, 1356, 2040])\n",
      "resize2_img.size():  torch.Size([3, 170, 255])\n",
      "resize2_cut_img.size():  torch.Size([3, 168, 248])\n",
      "create_HrLr kernel_path:C:\\SaiVinay\\SproutsAI\\GitHub_\\ir_srgan_otsr\\results_kernels_DIV2K\\0261\\0261_kernel_x4.mat\n",
      "scale_factor:  [0.125, 0.125, 1]\n",
      "output_shape:  [170 255   3]\n",
      "im.shape:  (1356, 2040, 3)\n"
     ]
    },
    {
     "name": "stderr",
     "output_type": "stream",
     "text": [
      "Resizing images:  33%|███▎      | 261/800 [39:28<1:17:42,  8.65s/it]"
     ]
    },
    {
     "name": "stdout",
     "output_type": "stream",
     "text": [
      "input_img.size():  torch.Size([3, 1356, 2040])\n",
      "resize2_img.size():  torch.Size([3, 170, 255])\n",
      "resize2_cut_img.size():  torch.Size([3, 168, 248])\n",
      "create_HrLr kernel_path:C:\\SaiVinay\\SproutsAI\\GitHub_\\ir_srgan_otsr\\results_kernels_DIV2K\\0262\\0262_kernel_x4.mat\n",
      "scale_factor:  [0.125, 0.125, 1]\n",
      "output_shape:  [170 255   3]\n",
      "im.shape:  (1356, 2040, 3)\n"
     ]
    },
    {
     "name": "stderr",
     "output_type": "stream",
     "text": [
      "Resizing images:  33%|███▎      | 262/800 [39:36<1:16:46,  8.56s/it]"
     ]
    },
    {
     "name": "stdout",
     "output_type": "stream",
     "text": [
      "input_img.size():  torch.Size([3, 1332, 2040])\n",
      "resize2_img.size():  torch.Size([3, 167, 255])\n",
      "resize2_cut_img.size():  torch.Size([3, 160, 248])\n",
      "create_HrLr kernel_path:C:\\SaiVinay\\SproutsAI\\GitHub_\\ir_srgan_otsr\\results_kernels_DIV2K\\0263\\0263_kernel_x4.mat\n",
      "scale_factor:  [0.125, 0.125, 1]\n",
      "output_shape:  [167 255   3]\n",
      "im.shape:  (1332, 2040, 3)\n"
     ]
    },
    {
     "name": "stderr",
     "output_type": "stream",
     "text": [
      "Resizing images:  33%|███▎      | 263/800 [39:45<1:16:09,  8.51s/it]"
     ]
    },
    {
     "name": "stdout",
     "output_type": "stream",
     "text": [
      "input_img.size():  torch.Size([3, 1356, 2040])\n",
      "resize2_img.size():  torch.Size([3, 170, 255])\n",
      "resize2_cut_img.size():  torch.Size([3, 168, 248])\n",
      "create_HrLr kernel_path:C:\\SaiVinay\\SproutsAI\\GitHub_\\ir_srgan_otsr\\results_kernels_DIV2K\\0264\\0264_kernel_x4.mat\n",
      "scale_factor:  [0.125, 0.125, 1]\n",
      "output_shape:  [170 255   3]\n",
      "im.shape:  (1356, 2040, 3)\n"
     ]
    },
    {
     "name": "stderr",
     "output_type": "stream",
     "text": [
      "Resizing images:  33%|███▎      | 264/800 [39:54<1:17:01,  8.62s/it]"
     ]
    },
    {
     "name": "stdout",
     "output_type": "stream",
     "text": [
      "input_img.size():  torch.Size([3, 1356, 2040])\n",
      "resize2_img.size():  torch.Size([3, 170, 255])\n",
      "resize2_cut_img.size():  torch.Size([3, 168, 248])\n",
      "create_HrLr kernel_path:C:\\SaiVinay\\SproutsAI\\GitHub_\\ir_srgan_otsr\\results_kernels_DIV2K\\0265\\0265_kernel_x4.mat\n",
      "scale_factor:  [0.125, 0.125, 1]\n",
      "output_shape:  [170 255   3]\n",
      "im.shape:  (1356, 2040, 3)\n"
     ]
    },
    {
     "name": "stderr",
     "output_type": "stream",
     "text": [
      "Resizing images:  33%|███▎      | 265/800 [40:02<1:17:08,  8.65s/it]"
     ]
    },
    {
     "name": "stdout",
     "output_type": "stream",
     "text": [
      "input_img.size():  torch.Size([3, 1356, 2040])\n",
      "resize2_img.size():  torch.Size([3, 170, 255])\n",
      "resize2_cut_img.size():  torch.Size([3, 168, 248])\n",
      "create_HrLr kernel_path:C:\\SaiVinay\\SproutsAI\\GitHub_\\ir_srgan_otsr\\results_kernels_DIV2K\\0266\\0266_kernel_x4.mat\n",
      "scale_factor:  [0.125, 0.125, 1]\n",
      "output_shape:  [170 255   3]\n",
      "im.shape:  (1356, 2040, 3)\n"
     ]
    },
    {
     "name": "stderr",
     "output_type": "stream",
     "text": [
      "Resizing images:  33%|███▎      | 266/800 [40:11<1:16:16,  8.57s/it]"
     ]
    },
    {
     "name": "stdout",
     "output_type": "stream",
     "text": [
      "input_img.size():  torch.Size([3, 1356, 2040])\n",
      "resize2_img.size():  torch.Size([3, 170, 255])\n",
      "resize2_cut_img.size():  torch.Size([3, 168, 248])\n",
      "create_HrLr kernel_path:C:\\SaiVinay\\SproutsAI\\GitHub_\\ir_srgan_otsr\\results_kernels_DIV2K\\0267\\0267_kernel_x4.mat\n",
      "scale_factor:  [0.125, 0.125, 1]\n",
      "output_shape:  [170 255   3]\n",
      "im.shape:  (1356, 2040, 3)\n"
     ]
    },
    {
     "name": "stderr",
     "output_type": "stream",
     "text": [
      "Resizing images:  33%|███▎      | 267/800 [40:21<1:19:21,  8.93s/it]"
     ]
    },
    {
     "name": "stdout",
     "output_type": "stream",
     "text": [
      "input_img.size():  torch.Size([3, 1356, 2040])\n",
      "resize2_img.size():  torch.Size([3, 170, 255])\n",
      "resize2_cut_img.size():  torch.Size([3, 168, 248])\n",
      "create_HrLr kernel_path:C:\\SaiVinay\\SproutsAI\\GitHub_\\ir_srgan_otsr\\results_kernels_DIV2K\\0268\\0268_kernel_x4.mat\n",
      "scale_factor:  [0.125, 0.125, 1]\n",
      "output_shape:  [170 255   3]\n",
      "im.shape:  (1356, 2040, 3)\n"
     ]
    },
    {
     "name": "stderr",
     "output_type": "stream",
     "text": [
      "Resizing images:  34%|███▎      | 268/800 [40:29<1:18:55,  8.90s/it]"
     ]
    },
    {
     "name": "stdout",
     "output_type": "stream",
     "text": [
      "input_img.size():  torch.Size([3, 1632, 2040])\n",
      "resize2_img.size():  torch.Size([3, 204, 255])\n",
      "resize2_cut_img.size():  torch.Size([3, 200, 248])\n",
      "create_HrLr kernel_path:C:\\SaiVinay\\SproutsAI\\GitHub_\\ir_srgan_otsr\\results_kernels_DIV2K\\0269\\0269_kernel_x4.mat\n",
      "scale_factor:  [0.125, 0.125, 1]\n",
      "output_shape:  [204 255   3]\n",
      "im.shape:  (1632, 2040, 3)\n"
     ]
    },
    {
     "name": "stderr",
     "output_type": "stream",
     "text": [
      "Resizing images:  34%|███▎      | 269/800 [40:40<1:23:11,  9.40s/it]"
     ]
    },
    {
     "name": "stdout",
     "output_type": "stream",
     "text": [
      "input_img.size():  torch.Size([3, 1356, 2040])\n",
      "resize2_img.size():  torch.Size([3, 170, 255])\n",
      "resize2_cut_img.size():  torch.Size([3, 168, 248])\n",
      "create_HrLr kernel_path:C:\\SaiVinay\\SproutsAI\\GitHub_\\ir_srgan_otsr\\results_kernels_DIV2K\\0270\\0270_kernel_x4.mat\n",
      "scale_factor:  [0.125, 0.125, 1]\n",
      "output_shape:  [170 255   3]\n",
      "im.shape:  (1356, 2040, 3)\n"
     ]
    },
    {
     "name": "stderr",
     "output_type": "stream",
     "text": [
      "Resizing images:  34%|███▍      | 270/800 [40:49<1:20:43,  9.14s/it]"
     ]
    },
    {
     "name": "stdout",
     "output_type": "stream",
     "text": [
      "input_img.size():  torch.Size([3, 1536, 2040])\n",
      "resize2_img.size():  torch.Size([3, 192, 255])\n",
      "resize2_cut_img.size():  torch.Size([3, 192, 248])\n",
      "create_HrLr kernel_path:C:\\SaiVinay\\SproutsAI\\GitHub_\\ir_srgan_otsr\\results_kernels_DIV2K\\0271\\0271_kernel_x4.mat\n",
      "scale_factor:  [0.125, 0.125, 1]\n",
      "output_shape:  [192 255   3]\n",
      "im.shape:  (1536, 2040, 3)\n"
     ]
    },
    {
     "name": "stderr",
     "output_type": "stream",
     "text": [
      "Resizing images:  34%|███▍      | 271/800 [40:58<1:21:32,  9.25s/it]"
     ]
    },
    {
     "name": "stdout",
     "output_type": "stream",
     "text": [
      "input_img.size():  torch.Size([3, 1188, 2040])\n",
      "resize2_img.size():  torch.Size([3, 149, 255])\n",
      "resize2_cut_img.size():  torch.Size([3, 144, 248])\n",
      "create_HrLr kernel_path:C:\\SaiVinay\\SproutsAI\\GitHub_\\ir_srgan_otsr\\results_kernels_DIV2K\\0272\\0272_kernel_x4.mat\n",
      "scale_factor:  [0.125, 0.125, 1]\n",
      "output_shape:  [149 255   3]\n",
      "im.shape:  (1188, 2040, 3)\n"
     ]
    },
    {
     "name": "stderr",
     "output_type": "stream",
     "text": [
      "Resizing images:  34%|███▍      | 272/800 [41:06<1:18:12,  8.89s/it]"
     ]
    },
    {
     "name": "stdout",
     "output_type": "stream",
     "text": [
      "input_img.size():  torch.Size([3, 1356, 2040])\n",
      "resize2_img.size():  torch.Size([3, 170, 255])\n",
      "resize2_cut_img.size():  torch.Size([3, 168, 248])\n",
      "create_HrLr kernel_path:C:\\SaiVinay\\SproutsAI\\GitHub_\\ir_srgan_otsr\\results_kernels_DIV2K\\0273\\0273_kernel_x4.mat\n",
      "scale_factor:  [0.125, 0.125, 1]\n",
      "output_shape:  [170 255   3]\n",
      "im.shape:  (1356, 2040, 3)\n"
     ]
    },
    {
     "name": "stderr",
     "output_type": "stream",
     "text": [
      "Resizing images:  34%|███▍      | 273/800 [41:15<1:18:35,  8.95s/it]"
     ]
    },
    {
     "name": "stdout",
     "output_type": "stream",
     "text": [
      "input_img.size():  torch.Size([3, 1356, 2040])\n",
      "resize2_img.size():  torch.Size([3, 170, 255])\n",
      "resize2_cut_img.size():  torch.Size([3, 168, 248])\n",
      "create_HrLr kernel_path:C:\\SaiVinay\\SproutsAI\\GitHub_\\ir_srgan_otsr\\results_kernels_DIV2K\\0274\\0274_kernel_x4.mat\n",
      "scale_factor:  [0.125, 0.125, 1]\n",
      "output_shape:  [170 255   3]\n",
      "im.shape:  (1356, 2040, 3)\n"
     ]
    },
    {
     "name": "stderr",
     "output_type": "stream",
     "text": [
      "Resizing images:  34%|███▍      | 274/800 [41:24<1:17:27,  8.84s/it]"
     ]
    },
    {
     "name": "stdout",
     "output_type": "stream",
     "text": [
      "input_img.size():  torch.Size([3, 1356, 2040])\n",
      "resize2_img.size():  torch.Size([3, 170, 255])\n",
      "resize2_cut_img.size():  torch.Size([3, 168, 248])\n",
      "create_HrLr kernel_path:C:\\SaiVinay\\SproutsAI\\GitHub_\\ir_srgan_otsr\\results_kernels_DIV2K\\0275\\0275_kernel_x4.mat\n",
      "scale_factor:  [0.125, 0.125, 1]\n",
      "output_shape:  [170 255   3]\n",
      "im.shape:  (1356, 2040, 3)\n"
     ]
    },
    {
     "name": "stderr",
     "output_type": "stream",
     "text": [
      "Resizing images:  34%|███▍      | 275/800 [41:33<1:17:12,  8.82s/it]"
     ]
    },
    {
     "name": "stdout",
     "output_type": "stream",
     "text": [
      "input_img.size():  torch.Size([3, 1356, 2040])\n",
      "resize2_img.size():  torch.Size([3, 170, 255])\n",
      "resize2_cut_img.size():  torch.Size([3, 168, 248])\n",
      "create_HrLr kernel_path:C:\\SaiVinay\\SproutsAI\\GitHub_\\ir_srgan_otsr\\results_kernels_DIV2K\\0276\\0276_kernel_x4.mat\n",
      "scale_factor:  [0.125, 0.125, 1]\n",
      "output_shape:  [170 255   3]\n",
      "im.shape:  (1356, 2040, 3)\n"
     ]
    },
    {
     "name": "stderr",
     "output_type": "stream",
     "text": [
      "Resizing images:  34%|███▍      | 276/800 [41:41<1:17:03,  8.82s/it]"
     ]
    },
    {
     "name": "stdout",
     "output_type": "stream",
     "text": [
      "input_img.size():  torch.Size([3, 1356, 2040])\n",
      "resize2_img.size():  torch.Size([3, 170, 255])\n",
      "resize2_cut_img.size():  torch.Size([3, 168, 248])\n",
      "create_HrLr kernel_path:C:\\SaiVinay\\SproutsAI\\GitHub_\\ir_srgan_otsr\\results_kernels_DIV2K\\0277\\0277_kernel_x4.mat\n",
      "scale_factor:  [0.125, 0.125, 1]\n",
      "output_shape:  [170 255   3]\n",
      "im.shape:  (1356, 2040, 3)\n"
     ]
    },
    {
     "name": "stderr",
     "output_type": "stream",
     "text": [
      "Resizing images:  35%|███▍      | 277/800 [41:50<1:16:27,  8.77s/it]"
     ]
    },
    {
     "name": "stdout",
     "output_type": "stream",
     "text": [
      "input_img.size():  torch.Size([3, 2040, 1356])\n",
      "resize2_img.size():  torch.Size([3, 255, 170])\n",
      "resize2_cut_img.size():  torch.Size([3, 248, 168])\n",
      "create_HrLr kernel_path:C:\\SaiVinay\\SproutsAI\\GitHub_\\ir_srgan_otsr\\results_kernels_DIV2K\\0278\\0278_kernel_x4.mat\n",
      "scale_factor:  [0.125, 0.125, 1]\n",
      "output_shape:  [255 170   3]\n",
      "im.shape:  (2040, 1356, 3)\n"
     ]
    },
    {
     "name": "stderr",
     "output_type": "stream",
     "text": [
      "Resizing images:  35%|███▍      | 278/800 [41:59<1:15:57,  8.73s/it]"
     ]
    },
    {
     "name": "stdout",
     "output_type": "stream",
     "text": [
      "input_img.size():  torch.Size([3, 1356, 2040])\n",
      "resize2_img.size():  torch.Size([3, 170, 255])\n",
      "resize2_cut_img.size():  torch.Size([3, 168, 248])\n",
      "create_HrLr kernel_path:C:\\SaiVinay\\SproutsAI\\GitHub_\\ir_srgan_otsr\\results_kernels_DIV2K\\0279\\0279_kernel_x4.mat\n",
      "scale_factor:  [0.125, 0.125, 1]\n",
      "output_shape:  [170 255   3]\n",
      "im.shape:  (1356, 2040, 3)\n"
     ]
    },
    {
     "name": "stderr",
     "output_type": "stream",
     "text": [
      "Resizing images:  35%|███▍      | 279/800 [42:07<1:15:51,  8.74s/it]"
     ]
    },
    {
     "name": "stdout",
     "output_type": "stream",
     "text": [
      "input_img.size():  torch.Size([3, 1152, 2040])\n",
      "resize2_img.size():  torch.Size([3, 144, 255])\n",
      "resize2_cut_img.size():  torch.Size([3, 144, 248])\n",
      "create_HrLr kernel_path:C:\\SaiVinay\\SproutsAI\\GitHub_\\ir_srgan_otsr\\results_kernels_DIV2K\\0280\\0280_kernel_x4.mat\n",
      "scale_factor:  [0.125, 0.125, 1]\n",
      "output_shape:  [144 255   3]\n",
      "im.shape:  (1152, 2040, 3)\n"
     ]
    },
    {
     "name": "stderr",
     "output_type": "stream",
     "text": [
      "Resizing images:  35%|███▌      | 280/800 [42:15<1:13:39,  8.50s/it]"
     ]
    },
    {
     "name": "stdout",
     "output_type": "stream",
     "text": [
      "input_img.size():  torch.Size([3, 1152, 2040])\n",
      "resize2_img.size():  torch.Size([3, 144, 255])\n",
      "resize2_cut_img.size():  torch.Size([3, 144, 248])\n",
      "create_HrLr kernel_path:C:\\SaiVinay\\SproutsAI\\GitHub_\\ir_srgan_otsr\\results_kernels_DIV2K\\0281\\0281_kernel_x4.mat\n",
      "scale_factor:  [0.125, 0.125, 1]\n",
      "output_shape:  [144 255   3]\n",
      "im.shape:  (1152, 2040, 3)\n"
     ]
    },
    {
     "name": "stderr",
     "output_type": "stream",
     "text": [
      "Resizing images:  35%|███▌      | 281/800 [42:23<1:09:57,  8.09s/it]"
     ]
    },
    {
     "name": "stdout",
     "output_type": "stream",
     "text": [
      "input_img.size():  torch.Size([3, 1356, 2040])\n",
      "resize2_img.size():  torch.Size([3, 170, 255])\n",
      "resize2_cut_img.size():  torch.Size([3, 168, 248])\n",
      "create_HrLr kernel_path:C:\\SaiVinay\\SproutsAI\\GitHub_\\ir_srgan_otsr\\results_kernels_DIV2K\\0282\\0282_kernel_x4.mat\n",
      "scale_factor:  [0.125, 0.125, 1]\n",
      "output_shape:  [170 255   3]\n",
      "im.shape:  (1356, 2040, 3)\n"
     ]
    },
    {
     "name": "stderr",
     "output_type": "stream",
     "text": [
      "Resizing images:  35%|███▌      | 282/800 [42:32<1:12:27,  8.39s/it]"
     ]
    },
    {
     "name": "stdout",
     "output_type": "stream",
     "text": [
      "input_img.size():  torch.Size([3, 1356, 2040])\n",
      "resize2_img.size():  torch.Size([3, 170, 255])\n",
      "resize2_cut_img.size():  torch.Size([3, 168, 248])\n",
      "create_HrLr kernel_path:C:\\SaiVinay\\SproutsAI\\GitHub_\\ir_srgan_otsr\\results_kernels_DIV2K\\0283\\0283_kernel_x4.mat\n",
      "scale_factor:  [0.125, 0.125, 1]\n",
      "output_shape:  [170 255   3]\n",
      "im.shape:  (1356, 2040, 3)\n"
     ]
    },
    {
     "name": "stderr",
     "output_type": "stream",
     "text": [
      "Resizing images:  35%|███▌      | 283/800 [42:40<1:12:45,  8.44s/it]"
     ]
    },
    {
     "name": "stdout",
     "output_type": "stream",
     "text": [
      "input_img.size():  torch.Size([3, 1356, 2040])\n",
      "resize2_img.size():  torch.Size([3, 170, 255])\n",
      "resize2_cut_img.size():  torch.Size([3, 168, 248])\n",
      "create_HrLr kernel_path:C:\\SaiVinay\\SproutsAI\\GitHub_\\ir_srgan_otsr\\results_kernels_DIV2K\\0284\\0284_kernel_x4.mat\n",
      "scale_factor:  [0.125, 0.125, 1]\n",
      "output_shape:  [170 255   3]\n",
      "im.shape:  (1356, 2040, 3)\n"
     ]
    },
    {
     "name": "stderr",
     "output_type": "stream",
     "text": [
      "Resizing images:  36%|███▌      | 284/800 [42:49<1:13:47,  8.58s/it]"
     ]
    },
    {
     "name": "stdout",
     "output_type": "stream",
     "text": [
      "input_img.size():  torch.Size([3, 2040, 1236])\n",
      "resize2_img.size():  torch.Size([3, 255, 155])\n",
      "resize2_cut_img.size():  torch.Size([3, 248, 152])\n",
      "create_HrLr kernel_path:C:\\SaiVinay\\SproutsAI\\GitHub_\\ir_srgan_otsr\\results_kernels_DIV2K\\0285\\0285_kernel_x4.mat\n",
      "scale_factor:  [0.125, 0.125, 1]\n",
      "output_shape:  [255 155   3]\n",
      "im.shape:  (2040, 1236, 3)\n"
     ]
    },
    {
     "name": "stderr",
     "output_type": "stream",
     "text": [
      "Resizing images:  36%|███▌      | 285/800 [42:57<1:11:48,  8.37s/it]"
     ]
    },
    {
     "name": "stdout",
     "output_type": "stream",
     "text": [
      "input_img.size():  torch.Size([3, 1536, 2040])\n",
      "resize2_img.size():  torch.Size([3, 192, 255])\n",
      "resize2_cut_img.size():  torch.Size([3, 192, 248])\n",
      "create_HrLr kernel_path:C:\\SaiVinay\\SproutsAI\\GitHub_\\ir_srgan_otsr\\results_kernels_DIV2K\\0286\\0286_kernel_x4.mat\n",
      "scale_factor:  [0.125, 0.125, 1]\n",
      "output_shape:  [192 255   3]\n",
      "im.shape:  (1536, 2040, 3)\n"
     ]
    },
    {
     "name": "stderr",
     "output_type": "stream",
     "text": [
      "Resizing images:  36%|███▌      | 286/800 [43:07<1:15:06,  8.77s/it]"
     ]
    },
    {
     "name": "stdout",
     "output_type": "stream",
     "text": [
      "input_img.size():  torch.Size([3, 1356, 2040])\n",
      "resize2_img.size():  torch.Size([3, 170, 255])\n",
      "resize2_cut_img.size():  torch.Size([3, 168, 248])\n",
      "create_HrLr kernel_path:C:\\SaiVinay\\SproutsAI\\GitHub_\\ir_srgan_otsr\\results_kernels_DIV2K\\0287\\0287_kernel_x4.mat\n",
      "scale_factor:  [0.125, 0.125, 1]\n",
      "output_shape:  [170 255   3]\n",
      "im.shape:  (1356, 2040, 3)\n"
     ]
    },
    {
     "name": "stderr",
     "output_type": "stream",
     "text": [
      "Resizing images:  36%|███▌      | 287/800 [43:15<1:15:04,  8.78s/it]"
     ]
    },
    {
     "name": "stdout",
     "output_type": "stream",
     "text": [
      "input_img.size():  torch.Size([3, 1356, 2040])\n",
      "resize2_img.size():  torch.Size([3, 170, 255])\n",
      "resize2_cut_img.size():  torch.Size([3, 168, 248])\n",
      "create_HrLr kernel_path:C:\\SaiVinay\\SproutsAI\\GitHub_\\ir_srgan_otsr\\results_kernels_DIV2K\\0288\\0288_kernel_x4.mat\n",
      "scale_factor:  [0.125, 0.125, 1]\n",
      "output_shape:  [170 255   3]\n",
      "im.shape:  (1356, 2040, 3)\n"
     ]
    },
    {
     "name": "stderr",
     "output_type": "stream",
     "text": [
      "Resizing images:  36%|███▌      | 288/800 [43:24<1:14:24,  8.72s/it]"
     ]
    },
    {
     "name": "stdout",
     "output_type": "stream",
     "text": [
      "input_img.size():  torch.Size([3, 2040, 1356])\n",
      "resize2_img.size():  torch.Size([3, 255, 170])\n",
      "resize2_cut_img.size():  torch.Size([3, 248, 168])\n",
      "create_HrLr kernel_path:C:\\SaiVinay\\SproutsAI\\GitHub_\\ir_srgan_otsr\\results_kernels_DIV2K\\0289\\0289_kernel_x4.mat\n",
      "scale_factor:  [0.125, 0.125, 1]\n",
      "output_shape:  [255 170   3]\n",
      "im.shape:  (2040, 1356, 3)\n"
     ]
    },
    {
     "name": "stderr",
     "output_type": "stream",
     "text": [
      "Resizing images:  36%|███▌      | 289/800 [43:33<1:14:42,  8.77s/it]"
     ]
    },
    {
     "name": "stdout",
     "output_type": "stream",
     "text": [
      "input_img.size():  torch.Size([3, 1356, 2040])\n",
      "resize2_img.size():  torch.Size([3, 170, 255])\n",
      "resize2_cut_img.size():  torch.Size([3, 168, 248])\n",
      "create_HrLr kernel_path:C:\\SaiVinay\\SproutsAI\\GitHub_\\ir_srgan_otsr\\results_kernels_DIV2K\\0290\\0290_kernel_x4.mat\n",
      "scale_factor:  [0.125, 0.125, 1]\n",
      "output_shape:  [170 255   3]\n",
      "im.shape:  (1356, 2040, 3)\n"
     ]
    },
    {
     "name": "stderr",
     "output_type": "stream",
     "text": [
      "Resizing images:  36%|███▋      | 290/800 [43:42<1:15:04,  8.83s/it]"
     ]
    },
    {
     "name": "stdout",
     "output_type": "stream",
     "text": [
      "input_img.size():  torch.Size([3, 1260, 2040])\n",
      "resize2_img.size():  torch.Size([3, 158, 255])\n",
      "resize2_cut_img.size():  torch.Size([3, 152, 248])\n",
      "create_HrLr kernel_path:C:\\SaiVinay\\SproutsAI\\GitHub_\\ir_srgan_otsr\\results_kernels_DIV2K\\0291\\0291_kernel_x4.mat\n",
      "scale_factor:  [0.125, 0.125, 1]\n",
      "output_shape:  [158 255   3]\n",
      "im.shape:  (1260, 2040, 3)\n"
     ]
    },
    {
     "name": "stderr",
     "output_type": "stream",
     "text": [
      "Resizing images:  36%|███▋      | 291/800 [43:50<1:12:52,  8.59s/it]"
     ]
    },
    {
     "name": "stdout",
     "output_type": "stream",
     "text": [
      "input_img.size():  torch.Size([3, 1356, 2040])\n",
      "resize2_img.size():  torch.Size([3, 170, 255])\n",
      "resize2_cut_img.size():  torch.Size([3, 168, 248])\n",
      "create_HrLr kernel_path:C:\\SaiVinay\\SproutsAI\\GitHub_\\ir_srgan_otsr\\results_kernels_DIV2K\\0292\\0292_kernel_x4.mat\n",
      "scale_factor:  [0.125, 0.125, 1]\n",
      "output_shape:  [170 255   3]\n",
      "im.shape:  (1356, 2040, 3)\n"
     ]
    },
    {
     "name": "stderr",
     "output_type": "stream",
     "text": [
      "Resizing images:  36%|███▋      | 292/800 [43:59<1:14:35,  8.81s/it]"
     ]
    },
    {
     "name": "stdout",
     "output_type": "stream",
     "text": [
      "input_img.size():  torch.Size([3, 1152, 2040])\n",
      "resize2_img.size():  torch.Size([3, 144, 255])\n",
      "resize2_cut_img.size():  torch.Size([3, 144, 248])\n",
      "create_HrLr kernel_path:C:\\SaiVinay\\SproutsAI\\GitHub_\\ir_srgan_otsr\\results_kernels_DIV2K\\0293\\0293_kernel_x4.mat\n",
      "scale_factor:  [0.125, 0.125, 1]\n",
      "output_shape:  [144 255   3]\n",
      "im.shape:  (1152, 2040, 3)\n"
     ]
    },
    {
     "name": "stderr",
     "output_type": "stream",
     "text": [
      "Resizing images:  37%|███▋      | 293/800 [44:07<1:11:02,  8.41s/it]"
     ]
    },
    {
     "name": "stdout",
     "output_type": "stream",
     "text": [
      "input_img.size():  torch.Size([3, 1356, 2040])\n",
      "resize2_img.size():  torch.Size([3, 170, 255])\n",
      "resize2_cut_img.size():  torch.Size([3, 168, 248])\n",
      "create_HrLr kernel_path:C:\\SaiVinay\\SproutsAI\\GitHub_\\ir_srgan_otsr\\results_kernels_DIV2K\\0294\\0294_kernel_x4.mat\n",
      "scale_factor:  [0.125, 0.125, 1]\n",
      "output_shape:  [170 255   3]\n",
      "im.shape:  (1356, 2040, 3)\n"
     ]
    },
    {
     "name": "stderr",
     "output_type": "stream",
     "text": [
      "Resizing images:  37%|███▋      | 294/800 [44:16<1:12:46,  8.63s/it]"
     ]
    },
    {
     "name": "stdout",
     "output_type": "stream",
     "text": [
      "input_img.size():  torch.Size([3, 1356, 2040])\n",
      "resize2_img.size():  torch.Size([3, 170, 255])\n",
      "resize2_cut_img.size():  torch.Size([3, 168, 248])\n",
      "create_HrLr kernel_path:C:\\SaiVinay\\SproutsAI\\GitHub_\\ir_srgan_otsr\\results_kernels_DIV2K\\0295\\0295_kernel_x4.mat\n",
      "scale_factor:  [0.125, 0.125, 1]\n",
      "output_shape:  [170 255   3]\n",
      "im.shape:  (1356, 2040, 3)\n"
     ]
    },
    {
     "name": "stderr",
     "output_type": "stream",
     "text": [
      "Resizing images:  37%|███▋      | 295/800 [44:25<1:13:17,  8.71s/it]"
     ]
    },
    {
     "name": "stdout",
     "output_type": "stream",
     "text": [
      "input_img.size():  torch.Size([3, 1356, 2040])\n",
      "resize2_img.size():  torch.Size([3, 170, 255])\n",
      "resize2_cut_img.size():  torch.Size([3, 168, 248])\n",
      "create_HrLr kernel_path:C:\\SaiVinay\\SproutsAI\\GitHub_\\ir_srgan_otsr\\results_kernels_DIV2K\\0296\\0296_kernel_x4.mat\n",
      "scale_factor:  [0.125, 0.125, 1]\n",
      "output_shape:  [170 255   3]\n",
      "im.shape:  (1356, 2040, 3)\n"
     ]
    },
    {
     "name": "stderr",
     "output_type": "stream",
     "text": [
      "Resizing images:  37%|███▋      | 296/800 [44:34<1:13:17,  8.72s/it]"
     ]
    },
    {
     "name": "stdout",
     "output_type": "stream",
     "text": [
      "input_img.size():  torch.Size([3, 1344, 2040])\n",
      "resize2_img.size():  torch.Size([3, 168, 255])\n",
      "resize2_cut_img.size():  torch.Size([3, 168, 248])\n",
      "create_HrLr kernel_path:C:\\SaiVinay\\SproutsAI\\GitHub_\\ir_srgan_otsr\\results_kernels_DIV2K\\0297\\0297_kernel_x4.mat\n",
      "scale_factor:  [0.125, 0.125, 1]\n",
      "output_shape:  [168 255   3]\n",
      "im.shape:  (1344, 2040, 3)\n"
     ]
    },
    {
     "name": "stderr",
     "output_type": "stream",
     "text": [
      "Resizing images:  37%|███▋      | 297/800 [44:42<1:11:41,  8.55s/it]"
     ]
    },
    {
     "name": "stdout",
     "output_type": "stream",
     "text": [
      "input_img.size():  torch.Size([3, 1224, 2040])\n",
      "resize2_img.size():  torch.Size([3, 153, 255])\n",
      "resize2_cut_img.size():  torch.Size([3, 152, 248])\n",
      "create_HrLr kernel_path:C:\\SaiVinay\\SproutsAI\\GitHub_\\ir_srgan_otsr\\results_kernels_DIV2K\\0298\\0298_kernel_x4.mat\n",
      "scale_factor:  [0.125, 0.125, 1]\n",
      "output_shape:  [153 255   3]\n",
      "im.shape:  (1224, 2040, 3)\n"
     ]
    },
    {
     "name": "stderr",
     "output_type": "stream",
     "text": [
      "Resizing images:  37%|███▋      | 298/800 [44:50<1:10:18,  8.40s/it]"
     ]
    },
    {
     "name": "stdout",
     "output_type": "stream",
     "text": [
      "input_img.size():  torch.Size([3, 1392, 2040])\n",
      "resize2_img.size():  torch.Size([3, 174, 255])\n",
      "resize2_cut_img.size():  torch.Size([3, 168, 248])\n",
      "create_HrLr kernel_path:C:\\SaiVinay\\SproutsAI\\GitHub_\\ir_srgan_otsr\\results_kernels_DIV2K\\0299\\0299_kernel_x4.mat\n",
      "scale_factor:  [0.125, 0.125, 1]\n",
      "output_shape:  [174 255   3]\n",
      "im.shape:  (1392, 2040, 3)\n"
     ]
    },
    {
     "name": "stderr",
     "output_type": "stream",
     "text": [
      "Resizing images:  37%|███▋      | 299/800 [44:59<1:11:53,  8.61s/it]"
     ]
    },
    {
     "name": "stdout",
     "output_type": "stream",
     "text": [
      "input_img.size():  torch.Size([3, 1320, 2040])\n",
      "resize2_img.size():  torch.Size([3, 165, 255])\n",
      "resize2_cut_img.size():  torch.Size([3, 160, 248])\n",
      "create_HrLr kernel_path:C:\\SaiVinay\\SproutsAI\\GitHub_\\ir_srgan_otsr\\results_kernels_DIV2K\\0300\\0300_kernel_x4.mat\n",
      "scale_factor:  [0.125, 0.125, 1]\n",
      "output_shape:  [165 255   3]\n",
      "im.shape:  (1320, 2040, 3)\n"
     ]
    },
    {
     "name": "stderr",
     "output_type": "stream",
     "text": [
      "Resizing images:  38%|███▊      | 300/800 [45:07<1:10:08,  8.42s/it]"
     ]
    },
    {
     "name": "stdout",
     "output_type": "stream",
     "text": [
      "input_img.size():  torch.Size([3, 1356, 2040])\n",
      "resize2_img.size():  torch.Size([3, 170, 255])\n",
      "resize2_cut_img.size():  torch.Size([3, 168, 248])\n",
      "create_HrLr kernel_path:C:\\SaiVinay\\SproutsAI\\GitHub_\\ir_srgan_otsr\\results_kernels_DIV2K\\0301\\0301_kernel_x4.mat\n",
      "scale_factor:  [0.125, 0.125, 1]\n",
      "output_shape:  [170 255   3]\n",
      "im.shape:  (1356, 2040, 3)\n"
     ]
    },
    {
     "name": "stderr",
     "output_type": "stream",
     "text": [
      "Resizing images:  38%|███▊      | 301/800 [45:16<1:11:54,  8.65s/it]"
     ]
    },
    {
     "name": "stdout",
     "output_type": "stream",
     "text": [
      "input_img.size():  torch.Size([3, 1356, 2040])\n",
      "resize2_img.size():  torch.Size([3, 170, 255])\n",
      "resize2_cut_img.size():  torch.Size([3, 168, 248])\n",
      "create_HrLr kernel_path:C:\\SaiVinay\\SproutsAI\\GitHub_\\ir_srgan_otsr\\results_kernels_DIV2K\\0302\\0302_kernel_x4.mat\n",
      "scale_factor:  [0.125, 0.125, 1]\n",
      "output_shape:  [170 255   3]\n",
      "im.shape:  (1356, 2040, 3)\n"
     ]
    },
    {
     "name": "stderr",
     "output_type": "stream",
     "text": [
      "Resizing images:  38%|███▊      | 302/800 [45:25<1:12:21,  8.72s/it]"
     ]
    },
    {
     "name": "stdout",
     "output_type": "stream",
     "text": [
      "input_img.size():  torch.Size([3, 1356, 2040])\n",
      "resize2_img.size():  torch.Size([3, 170, 255])\n",
      "resize2_cut_img.size():  torch.Size([3, 168, 248])\n",
      "create_HrLr kernel_path:C:\\SaiVinay\\SproutsAI\\GitHub_\\ir_srgan_otsr\\results_kernels_DIV2K\\0303\\0303_kernel_x4.mat\n",
      "scale_factor:  [0.125, 0.125, 1]\n",
      "output_shape:  [170 255   3]\n",
      "im.shape:  (1356, 2040, 3)\n"
     ]
    },
    {
     "name": "stderr",
     "output_type": "stream",
     "text": [
      "Resizing images:  38%|███▊      | 303/800 [45:34<1:12:04,  8.70s/it]"
     ]
    },
    {
     "name": "stdout",
     "output_type": "stream",
     "text": [
      "input_img.size():  torch.Size([3, 1224, 2040])\n",
      "resize2_img.size():  torch.Size([3, 153, 255])\n",
      "resize2_cut_img.size():  torch.Size([3, 152, 248])\n",
      "create_HrLr kernel_path:C:\\SaiVinay\\SproutsAI\\GitHub_\\ir_srgan_otsr\\results_kernels_DIV2K\\0304\\0304_kernel_x4.mat\n",
      "scale_factor:  [0.125, 0.125, 1]\n",
      "output_shape:  [153 255   3]\n",
      "im.shape:  (1224, 2040, 3)\n"
     ]
    },
    {
     "name": "stderr",
     "output_type": "stream",
     "text": [
      "Resizing images:  38%|███▊      | 304/800 [45:41<1:10:00,  8.47s/it]"
     ]
    },
    {
     "name": "stdout",
     "output_type": "stream",
     "text": [
      "input_img.size():  torch.Size([3, 1356, 2040])\n",
      "resize2_img.size():  torch.Size([3, 170, 255])\n",
      "resize2_cut_img.size():  torch.Size([3, 168, 248])\n",
      "create_HrLr kernel_path:C:\\SaiVinay\\SproutsAI\\GitHub_\\ir_srgan_otsr\\results_kernels_DIV2K\\0305\\0305_kernel_x4.mat\n",
      "scale_factor:  [0.125, 0.125, 1]\n",
      "output_shape:  [170 255   3]\n",
      "im.shape:  (1356, 2040, 3)\n"
     ]
    },
    {
     "name": "stderr",
     "output_type": "stream",
     "text": [
      "Resizing images:  38%|███▊      | 305/800 [45:50<1:10:27,  8.54s/it]"
     ]
    },
    {
     "name": "stdout",
     "output_type": "stream",
     "text": [
      "input_img.size():  torch.Size([3, 1356, 2040])\n",
      "resize2_img.size():  torch.Size([3, 170, 255])\n",
      "resize2_cut_img.size():  torch.Size([3, 168, 248])\n",
      "create_HrLr kernel_path:C:\\SaiVinay\\SproutsAI\\GitHub_\\ir_srgan_otsr\\results_kernels_DIV2K\\0306\\0306_kernel_x4.mat\n",
      "scale_factor:  [0.125, 0.125, 1]\n",
      "output_shape:  [170 255   3]\n",
      "im.shape:  (1356, 2040, 3)\n"
     ]
    },
    {
     "name": "stderr",
     "output_type": "stream",
     "text": [
      "Resizing images:  38%|███▊      | 306/800 [45:59<1:10:53,  8.61s/it]"
     ]
    },
    {
     "name": "stdout",
     "output_type": "stream",
     "text": [
      "input_img.size():  torch.Size([3, 1356, 2040])\n",
      "resize2_img.size():  torch.Size([3, 170, 255])\n",
      "resize2_cut_img.size():  torch.Size([3, 168, 248])\n",
      "create_HrLr kernel_path:C:\\SaiVinay\\SproutsAI\\GitHub_\\ir_srgan_otsr\\results_kernels_DIV2K\\0307\\0307_kernel_x4.mat\n",
      "scale_factor:  [0.125, 0.125, 1]\n",
      "output_shape:  [170 255   3]\n",
      "im.shape:  (1356, 2040, 3)\n"
     ]
    },
    {
     "name": "stderr",
     "output_type": "stream",
     "text": [
      "Resizing images:  38%|███▊      | 307/800 [46:08<1:11:19,  8.68s/it]"
     ]
    },
    {
     "name": "stdout",
     "output_type": "stream",
     "text": [
      "input_img.size():  torch.Size([3, 1356, 2040])\n",
      "resize2_img.size():  torch.Size([3, 170, 255])\n",
      "resize2_cut_img.size():  torch.Size([3, 168, 248])\n",
      "create_HrLr kernel_path:C:\\SaiVinay\\SproutsAI\\GitHub_\\ir_srgan_otsr\\results_kernels_DIV2K\\0308\\0308_kernel_x4.mat\n",
      "scale_factor:  [0.125, 0.125, 1]\n",
      "output_shape:  [170 255   3]\n",
      "im.shape:  (1356, 2040, 3)\n"
     ]
    },
    {
     "name": "stderr",
     "output_type": "stream",
     "text": [
      "Resizing images:  38%|███▊      | 308/800 [46:16<1:10:41,  8.62s/it]"
     ]
    },
    {
     "name": "stdout",
     "output_type": "stream",
     "text": [
      "input_img.size():  torch.Size([3, 1356, 2040])\n",
      "resize2_img.size():  torch.Size([3, 170, 255])\n",
      "resize2_cut_img.size():  torch.Size([3, 168, 248])\n",
      "create_HrLr kernel_path:C:\\SaiVinay\\SproutsAI\\GitHub_\\ir_srgan_otsr\\results_kernels_DIV2K\\0309\\0309_kernel_x4.mat\n",
      "scale_factor:  [0.125, 0.125, 1]\n",
      "output_shape:  [170 255   3]\n",
      "im.shape:  (1356, 2040, 3)\n"
     ]
    },
    {
     "name": "stderr",
     "output_type": "stream",
     "text": [
      "Resizing images:  39%|███▊      | 309/800 [46:25<1:10:58,  8.67s/it]"
     ]
    },
    {
     "name": "stdout",
     "output_type": "stream",
     "text": [
      "input_img.size():  torch.Size([3, 1356, 2040])\n",
      "resize2_img.size():  torch.Size([3, 170, 255])\n",
      "resize2_cut_img.size():  torch.Size([3, 168, 248])\n",
      "create_HrLr kernel_path:C:\\SaiVinay\\SproutsAI\\GitHub_\\ir_srgan_otsr\\results_kernels_DIV2K\\0310\\0310_kernel_x4.mat\n",
      "scale_factor:  [0.125, 0.125, 1]\n",
      "output_shape:  [170 255   3]\n",
      "im.shape:  (1356, 2040, 3)\n"
     ]
    },
    {
     "name": "stderr",
     "output_type": "stream",
     "text": [
      "Resizing images:  39%|███▉      | 310/800 [46:34<1:11:33,  8.76s/it]"
     ]
    },
    {
     "name": "stdout",
     "output_type": "stream",
     "text": [
      "input_img.size():  torch.Size([3, 1188, 2040])\n",
      "resize2_img.size():  torch.Size([3, 149, 255])\n",
      "resize2_cut_img.size():  torch.Size([3, 144, 248])\n",
      "create_HrLr kernel_path:C:\\SaiVinay\\SproutsAI\\GitHub_\\ir_srgan_otsr\\results_kernels_DIV2K\\0311\\0311_kernel_x4.mat\n",
      "scale_factor:  [0.125, 0.125, 1]\n",
      "output_shape:  [149 255   3]\n",
      "im.shape:  (1188, 2040, 3)\n"
     ]
    },
    {
     "name": "stderr",
     "output_type": "stream",
     "text": [
      "Resizing images:  39%|███▉      | 311/800 [46:41<1:07:54,  8.33s/it]"
     ]
    },
    {
     "name": "stdout",
     "output_type": "stream",
     "text": [
      "input_img.size():  torch.Size([3, 2040, 1716])\n",
      "resize2_img.size():  torch.Size([3, 255, 215])\n",
      "resize2_cut_img.size():  torch.Size([3, 248, 208])\n",
      "create_HrLr kernel_path:C:\\SaiVinay\\SproutsAI\\GitHub_\\ir_srgan_otsr\\results_kernels_DIV2K\\0312\\0312_kernel_x4.mat\n",
      "scale_factor:  [0.125, 0.125, 1]\n",
      "output_shape:  [255 215   3]\n",
      "im.shape:  (2040, 1716, 3)\n"
     ]
    },
    {
     "name": "stderr",
     "output_type": "stream",
     "text": [
      "Resizing images:  39%|███▉      | 312/800 [46:52<1:14:20,  9.14s/it]"
     ]
    },
    {
     "name": "stdout",
     "output_type": "stream",
     "text": [
      "input_img.size():  torch.Size([3, 2040, 1356])\n",
      "resize2_img.size():  torch.Size([3, 255, 170])\n",
      "resize2_cut_img.size():  torch.Size([3, 248, 168])\n",
      "create_HrLr kernel_path:C:\\SaiVinay\\SproutsAI\\GitHub_\\ir_srgan_otsr\\results_kernels_DIV2K\\0313\\0313_kernel_x4.mat\n",
      "scale_factor:  [0.125, 0.125, 1]\n",
      "output_shape:  [255 170   3]\n",
      "im.shape:  (2040, 1356, 3)\n"
     ]
    },
    {
     "name": "stderr",
     "output_type": "stream",
     "text": [
      "Resizing images:  39%|███▉      | 313/800 [47:01<1:12:00,  8.87s/it]"
     ]
    },
    {
     "name": "stdout",
     "output_type": "stream",
     "text": [
      "input_img.size():  torch.Size([3, 1356, 2040])\n",
      "resize2_img.size():  torch.Size([3, 170, 255])\n",
      "resize2_cut_img.size():  torch.Size([3, 168, 248])\n",
      "create_HrLr kernel_path:C:\\SaiVinay\\SproutsAI\\GitHub_\\ir_srgan_otsr\\results_kernels_DIV2K\\0314\\0314_kernel_x4.mat\n",
      "scale_factor:  [0.125, 0.125, 1]\n",
      "output_shape:  [170 255   3]\n",
      "im.shape:  (1356, 2040, 3)\n"
     ]
    },
    {
     "name": "stderr",
     "output_type": "stream",
     "text": [
      "Resizing images:  39%|███▉      | 314/800 [47:10<1:12:00,  8.89s/it]"
     ]
    },
    {
     "name": "stdout",
     "output_type": "stream",
     "text": [
      "input_img.size():  torch.Size([3, 1200, 2040])\n",
      "resize2_img.size():  torch.Size([3, 150, 255])\n",
      "resize2_cut_img.size():  torch.Size([3, 144, 248])\n",
      "create_HrLr kernel_path:C:\\SaiVinay\\SproutsAI\\GitHub_\\ir_srgan_otsr\\results_kernels_DIV2K\\0315\\0315_kernel_x4.mat\n",
      "scale_factor:  [0.125, 0.125, 1]\n",
      "output_shape:  [150 255   3]\n",
      "im.shape:  (1200, 2040, 3)\n"
     ]
    },
    {
     "name": "stderr",
     "output_type": "stream",
     "text": [
      "Resizing images:  39%|███▉      | 315/800 [47:18<1:10:50,  8.76s/it]"
     ]
    },
    {
     "name": "stdout",
     "output_type": "stream",
     "text": [
      "input_img.size():  torch.Size([3, 1332, 2040])\n",
      "resize2_img.size():  torch.Size([3, 167, 255])\n",
      "resize2_cut_img.size():  torch.Size([3, 160, 248])\n",
      "create_HrLr kernel_path:C:\\SaiVinay\\SproutsAI\\GitHub_\\ir_srgan_otsr\\results_kernels_DIV2K\\0316\\0316_kernel_x4.mat\n",
      "scale_factor:  [0.125, 0.125, 1]\n",
      "output_shape:  [167 255   3]\n",
      "im.shape:  (1332, 2040, 3)\n"
     ]
    },
    {
     "name": "stderr",
     "output_type": "stream",
     "text": [
      "Resizing images:  40%|███▉      | 316/800 [47:27<1:10:59,  8.80s/it]"
     ]
    },
    {
     "name": "stdout",
     "output_type": "stream",
     "text": [
      "input_img.size():  torch.Size([3, 1356, 2040])\n",
      "resize2_img.size():  torch.Size([3, 170, 255])\n",
      "resize2_cut_img.size():  torch.Size([3, 168, 248])\n",
      "create_HrLr kernel_path:C:\\SaiVinay\\SproutsAI\\GitHub_\\ir_srgan_otsr\\results_kernels_DIV2K\\0317\\0317_kernel_x4.mat\n",
      "scale_factor:  [0.125, 0.125, 1]\n",
      "output_shape:  [170 255   3]\n",
      "im.shape:  (1356, 2040, 3)\n"
     ]
    },
    {
     "name": "stderr",
     "output_type": "stream",
     "text": [
      "Resizing images:  40%|███▉      | 317/800 [47:35<1:10:07,  8.71s/it]"
     ]
    },
    {
     "name": "stdout",
     "output_type": "stream",
     "text": [
      "input_img.size():  torch.Size([3, 1356, 2040])\n",
      "resize2_img.size():  torch.Size([3, 170, 255])\n",
      "resize2_cut_img.size():  torch.Size([3, 168, 248])\n",
      "create_HrLr kernel_path:C:\\SaiVinay\\SproutsAI\\GitHub_\\ir_srgan_otsr\\results_kernels_DIV2K\\0318\\0318_kernel_x4.mat\n",
      "scale_factor:  [0.125, 0.125, 1]\n",
      "output_shape:  [170 255   3]\n",
      "im.shape:  (1356, 2040, 3)\n"
     ]
    },
    {
     "name": "stderr",
     "output_type": "stream",
     "text": [
      "Resizing images:  40%|███▉      | 318/800 [47:45<1:11:05,  8.85s/it]"
     ]
    },
    {
     "name": "stdout",
     "output_type": "stream",
     "text": [
      "input_img.size():  torch.Size([3, 1356, 2040])\n",
      "resize2_img.size():  torch.Size([3, 170, 255])\n",
      "resize2_cut_img.size():  torch.Size([3, 168, 248])\n",
      "create_HrLr kernel_path:C:\\SaiVinay\\SproutsAI\\GitHub_\\ir_srgan_otsr\\results_kernels_DIV2K\\0319\\0319_kernel_x4.mat\n",
      "scale_factor:  [0.125, 0.125, 1]\n",
      "output_shape:  [170 255   3]\n",
      "im.shape:  (1356, 2040, 3)\n"
     ]
    },
    {
     "name": "stderr",
     "output_type": "stream",
     "text": [
      "Resizing images:  40%|███▉      | 319/800 [47:54<1:11:27,  8.91s/it]"
     ]
    },
    {
     "name": "stdout",
     "output_type": "stream",
     "text": [
      "input_img.size():  torch.Size([3, 1356, 2040])\n",
      "resize2_img.size():  torch.Size([3, 170, 255])\n",
      "resize2_cut_img.size():  torch.Size([3, 168, 248])\n",
      "create_HrLr kernel_path:C:\\SaiVinay\\SproutsAI\\GitHub_\\ir_srgan_otsr\\results_kernels_DIV2K\\0320\\0320_kernel_x4.mat\n",
      "scale_factor:  [0.125, 0.125, 1]\n",
      "output_shape:  [170 255   3]\n",
      "im.shape:  (1356, 2040, 3)\n"
     ]
    },
    {
     "name": "stderr",
     "output_type": "stream",
     "text": [
      "Resizing images:  40%|████      | 320/800 [48:02<1:10:04,  8.76s/it]"
     ]
    },
    {
     "name": "stdout",
     "output_type": "stream",
     "text": [
      "input_img.size():  torch.Size([3, 1356, 2040])\n",
      "resize2_img.size():  torch.Size([3, 170, 255])\n",
      "resize2_cut_img.size():  torch.Size([3, 168, 248])\n",
      "create_HrLr kernel_path:C:\\SaiVinay\\SproutsAI\\GitHub_\\ir_srgan_otsr\\results_kernels_DIV2K\\0321\\0321_kernel_x4.mat\n",
      "scale_factor:  [0.125, 0.125, 1]\n",
      "output_shape:  [170 255   3]\n",
      "im.shape:  (1356, 2040, 3)\n"
     ]
    },
    {
     "name": "stderr",
     "output_type": "stream",
     "text": [
      "Resizing images:  40%|████      | 321/800 [48:11<1:11:19,  8.93s/it]"
     ]
    },
    {
     "name": "stdout",
     "output_type": "stream",
     "text": [
      "input_img.size():  torch.Size([3, 1644, 2040])\n",
      "resize2_img.size():  torch.Size([3, 206, 255])\n",
      "resize2_cut_img.size():  torch.Size([3, 200, 248])\n",
      "create_HrLr kernel_path:C:\\SaiVinay\\SproutsAI\\GitHub_\\ir_srgan_otsr\\results_kernels_DIV2K\\0322\\0322_kernel_x4.mat\n",
      "scale_factor:  [0.125, 0.125, 1]\n",
      "output_shape:  [206 255   3]\n",
      "im.shape:  (1644, 2040, 3)\n"
     ]
    },
    {
     "name": "stderr",
     "output_type": "stream",
     "text": [
      "Resizing images:  40%|████      | 322/800 [48:22<1:15:27,  9.47s/it]"
     ]
    },
    {
     "name": "stdout",
     "output_type": "stream",
     "text": [
      "input_img.size():  torch.Size([3, 1356, 2040])\n",
      "resize2_img.size():  torch.Size([3, 170, 255])\n",
      "resize2_cut_img.size():  torch.Size([3, 168, 248])\n",
      "create_HrLr kernel_path:C:\\SaiVinay\\SproutsAI\\GitHub_\\ir_srgan_otsr\\results_kernels_DIV2K\\0323\\0323_kernel_x4.mat\n",
      "scale_factor:  [0.125, 0.125, 1]\n",
      "output_shape:  [170 255   3]\n",
      "im.shape:  (1356, 2040, 3)\n"
     ]
    },
    {
     "name": "stderr",
     "output_type": "stream",
     "text": [
      "Resizing images:  40%|████      | 323/800 [48:31<1:13:40,  9.27s/it]"
     ]
    },
    {
     "name": "stdout",
     "output_type": "stream",
     "text": [
      "input_img.size():  torch.Size([3, 2040, 1356])\n",
      "resize2_img.size():  torch.Size([3, 255, 170])\n",
      "resize2_cut_img.size():  torch.Size([3, 248, 168])\n",
      "create_HrLr kernel_path:C:\\SaiVinay\\SproutsAI\\GitHub_\\ir_srgan_otsr\\results_kernels_DIV2K\\0324\\0324_kernel_x4.mat\n",
      "scale_factor:  [0.125, 0.125, 1]\n",
      "output_shape:  [255 170   3]\n",
      "im.shape:  (2040, 1356, 3)\n"
     ]
    },
    {
     "name": "stderr",
     "output_type": "stream",
     "text": [
      "Resizing images:  40%|████      | 324/800 [48:39<1:10:46,  8.92s/it]"
     ]
    },
    {
     "name": "stdout",
     "output_type": "stream",
     "text": [
      "input_img.size():  torch.Size([3, 1356, 2040])\n",
      "resize2_img.size():  torch.Size([3, 170, 255])\n",
      "resize2_cut_img.size():  torch.Size([3, 168, 248])\n",
      "create_HrLr kernel_path:C:\\SaiVinay\\SproutsAI\\GitHub_\\ir_srgan_otsr\\results_kernels_DIV2K\\0325\\0325_kernel_x4.mat\n",
      "scale_factor:  [0.125, 0.125, 1]\n",
      "output_shape:  [170 255   3]\n",
      "im.shape:  (1356, 2040, 3)\n"
     ]
    },
    {
     "name": "stderr",
     "output_type": "stream",
     "text": [
      "Resizing images:  41%|████      | 325/800 [48:48<1:10:05,  8.85s/it]"
     ]
    },
    {
     "name": "stdout",
     "output_type": "stream",
     "text": [
      "input_img.size():  torch.Size([3, 1356, 2040])\n",
      "resize2_img.size():  torch.Size([3, 170, 255])\n",
      "resize2_cut_img.size():  torch.Size([3, 168, 248])\n",
      "create_HrLr kernel_path:C:\\SaiVinay\\SproutsAI\\GitHub_\\ir_srgan_otsr\\results_kernels_DIV2K\\0326\\0326_kernel_x4.mat\n",
      "scale_factor:  [0.125, 0.125, 1]\n",
      "output_shape:  [170 255   3]\n",
      "im.shape:  (1356, 2040, 3)\n"
     ]
    },
    {
     "name": "stderr",
     "output_type": "stream",
     "text": [
      "Resizing images:  41%|████      | 326/800 [48:56<1:09:20,  8.78s/it]"
     ]
    },
    {
     "name": "stdout",
     "output_type": "stream",
     "text": [
      "input_img.size():  torch.Size([3, 1152, 2040])\n",
      "resize2_img.size():  torch.Size([3, 144, 255])\n",
      "resize2_cut_img.size():  torch.Size([3, 144, 248])\n",
      "create_HrLr kernel_path:C:\\SaiVinay\\SproutsAI\\GitHub_\\ir_srgan_otsr\\results_kernels_DIV2K\\0327\\0327_kernel_x4.mat\n",
      "scale_factor:  [0.125, 0.125, 1]\n",
      "output_shape:  [144 255   3]\n",
      "im.shape:  (1152, 2040, 3)\n"
     ]
    },
    {
     "name": "stderr",
     "output_type": "stream",
     "text": [
      "Resizing images:  41%|████      | 327/800 [49:04<1:05:32,  8.31s/it]"
     ]
    },
    {
     "name": "stdout",
     "output_type": "stream",
     "text": [
      "input_img.size():  torch.Size([3, 1356, 2040])\n",
      "resize2_img.size():  torch.Size([3, 170, 255])\n",
      "resize2_cut_img.size():  torch.Size([3, 168, 248])\n",
      "create_HrLr kernel_path:C:\\SaiVinay\\SproutsAI\\GitHub_\\ir_srgan_otsr\\results_kernels_DIV2K\\0328\\0328_kernel_x4.mat\n",
      "scale_factor:  [0.125, 0.125, 1]\n",
      "output_shape:  [170 255   3]\n",
      "im.shape:  (1356, 2040, 3)\n"
     ]
    },
    {
     "name": "stderr",
     "output_type": "stream",
     "text": [
      "Resizing images:  41%|████      | 328/800 [49:12<1:05:32,  8.33s/it]"
     ]
    },
    {
     "name": "stdout",
     "output_type": "stream",
     "text": [
      "input_img.size():  torch.Size([3, 2040, 1356])\n",
      "resize2_img.size():  torch.Size([3, 255, 170])\n",
      "resize2_cut_img.size():  torch.Size([3, 248, 168])\n",
      "create_HrLr kernel_path:C:\\SaiVinay\\SproutsAI\\GitHub_\\ir_srgan_otsr\\results_kernels_DIV2K\\0329\\0329_kernel_x4.mat\n",
      "scale_factor:  [0.125, 0.125, 1]\n",
      "output_shape:  [255 170   3]\n",
      "im.shape:  (2040, 1356, 3)\n"
     ]
    },
    {
     "name": "stderr",
     "output_type": "stream",
     "text": [
      "Resizing images:  41%|████      | 329/800 [49:21<1:07:21,  8.58s/it]"
     ]
    },
    {
     "name": "stdout",
     "output_type": "stream",
     "text": [
      "input_img.size():  torch.Size([3, 1140, 2040])\n",
      "resize2_img.size():  torch.Size([3, 143, 255])\n",
      "resize2_cut_img.size():  torch.Size([3, 136, 248])\n",
      "create_HrLr kernel_path:C:\\SaiVinay\\SproutsAI\\GitHub_\\ir_srgan_otsr\\results_kernels_DIV2K\\0330\\0330_kernel_x4.mat\n",
      "scale_factor:  [0.125, 0.125, 1]\n",
      "output_shape:  [143 255   3]\n",
      "im.shape:  (1140, 2040, 3)\n"
     ]
    },
    {
     "name": "stderr",
     "output_type": "stream",
     "text": [
      "Resizing images:  41%|████▏     | 330/800 [49:28<1:04:19,  8.21s/it]"
     ]
    },
    {
     "name": "stdout",
     "output_type": "stream",
     "text": [
      "input_img.size():  torch.Size([3, 2040, 1356])\n",
      "resize2_img.size():  torch.Size([3, 255, 170])\n",
      "resize2_cut_img.size():  torch.Size([3, 248, 168])\n",
      "create_HrLr kernel_path:C:\\SaiVinay\\SproutsAI\\GitHub_\\ir_srgan_otsr\\results_kernels_DIV2K\\0331\\0331_kernel_x4.mat\n",
      "scale_factor:  [0.125, 0.125, 1]\n",
      "output_shape:  [255 170   3]\n",
      "im.shape:  (2040, 1356, 3)\n"
     ]
    },
    {
     "name": "stderr",
     "output_type": "stream",
     "text": [
      "Resizing images:  41%|████▏     | 331/800 [49:38<1:06:18,  8.48s/it]"
     ]
    },
    {
     "name": "stdout",
     "output_type": "stream",
     "text": [
      "input_img.size():  torch.Size([3, 1224, 2040])\n",
      "resize2_img.size():  torch.Size([3, 153, 255])\n",
      "resize2_cut_img.size():  torch.Size([3, 152, 248])\n",
      "create_HrLr kernel_path:C:\\SaiVinay\\SproutsAI\\GitHub_\\ir_srgan_otsr\\results_kernels_DIV2K\\0332\\0332_kernel_x4.mat\n",
      "scale_factor:  [0.125, 0.125, 1]\n",
      "output_shape:  [153 255   3]\n",
      "im.shape:  (1224, 2040, 3)\n"
     ]
    },
    {
     "name": "stderr",
     "output_type": "stream",
     "text": [
      "Resizing images:  42%|████▏     | 332/800 [49:45<1:04:13,  8.23s/it]"
     ]
    },
    {
     "name": "stdout",
     "output_type": "stream",
     "text": [
      "input_img.size():  torch.Size([3, 1356, 2040])\n",
      "resize2_img.size():  torch.Size([3, 170, 255])\n",
      "resize2_cut_img.size():  torch.Size([3, 168, 248])\n",
      "create_HrLr kernel_path:C:\\SaiVinay\\SproutsAI\\GitHub_\\ir_srgan_otsr\\results_kernels_DIV2K\\0333\\0333_kernel_x4.mat\n",
      "scale_factor:  [0.125, 0.125, 1]\n",
      "output_shape:  [170 255   3]\n",
      "im.shape:  (1356, 2040, 3)\n"
     ]
    },
    {
     "name": "stderr",
     "output_type": "stream",
     "text": [
      "Resizing images:  42%|████▏     | 333/800 [49:54<1:05:58,  8.48s/it]"
     ]
    },
    {
     "name": "stdout",
     "output_type": "stream",
     "text": [
      "input_img.size():  torch.Size([3, 1356, 2040])\n",
      "resize2_img.size():  torch.Size([3, 170, 255])\n",
      "resize2_cut_img.size():  torch.Size([3, 168, 248])\n",
      "create_HrLr kernel_path:C:\\SaiVinay\\SproutsAI\\GitHub_\\ir_srgan_otsr\\results_kernels_DIV2K\\0334\\0334_kernel_x4.mat\n",
      "scale_factor:  [0.125, 0.125, 1]\n",
      "output_shape:  [170 255   3]\n",
      "im.shape:  (1356, 2040, 3)\n"
     ]
    },
    {
     "name": "stderr",
     "output_type": "stream",
     "text": [
      "Resizing images:  42%|████▏     | 334/800 [50:03<1:07:02,  8.63s/it]"
     ]
    },
    {
     "name": "stdout",
     "output_type": "stream",
     "text": [
      "input_img.size():  torch.Size([3, 1272, 2040])\n",
      "resize2_img.size():  torch.Size([3, 159, 255])\n",
      "resize2_cut_img.size():  torch.Size([3, 152, 248])\n",
      "create_HrLr kernel_path:C:\\SaiVinay\\SproutsAI\\GitHub_\\ir_srgan_otsr\\results_kernels_DIV2K\\0335\\0335_kernel_x4.mat\n",
      "scale_factor:  [0.125, 0.125, 1]\n",
      "output_shape:  [159 255   3]\n",
      "im.shape:  (1272, 2040, 3)\n"
     ]
    },
    {
     "name": "stderr",
     "output_type": "stream",
     "text": [
      "Resizing images:  42%|████▏     | 335/800 [50:11<1:05:48,  8.49s/it]"
     ]
    },
    {
     "name": "stdout",
     "output_type": "stream",
     "text": [
      "input_img.size():  torch.Size([3, 1356, 2040])\n",
      "resize2_img.size():  torch.Size([3, 170, 255])\n",
      "resize2_cut_img.size():  torch.Size([3, 168, 248])\n",
      "create_HrLr kernel_path:C:\\SaiVinay\\SproutsAI\\GitHub_\\ir_srgan_otsr\\results_kernels_DIV2K\\0336\\0336_kernel_x4.mat\n",
      "scale_factor:  [0.125, 0.125, 1]\n",
      "output_shape:  [170 255   3]\n",
      "im.shape:  (1356, 2040, 3)\n"
     ]
    },
    {
     "name": "stderr",
     "output_type": "stream",
     "text": [
      "Resizing images:  42%|████▏     | 336/800 [50:20<1:06:52,  8.65s/it]"
     ]
    },
    {
     "name": "stdout",
     "output_type": "stream",
     "text": [
      "input_img.size():  torch.Size([3, 2040, 1632])\n",
      "resize2_img.size():  torch.Size([3, 255, 204])\n",
      "resize2_cut_img.size():  torch.Size([3, 248, 200])\n",
      "create_HrLr kernel_path:C:\\SaiVinay\\SproutsAI\\GitHub_\\ir_srgan_otsr\\results_kernels_DIV2K\\0337\\0337_kernel_x4.mat\n",
      "scale_factor:  [0.125, 0.125, 1]\n",
      "output_shape:  [255 204   3]\n",
      "im.shape:  (2040, 1632, 3)\n"
     ]
    },
    {
     "name": "stderr",
     "output_type": "stream",
     "text": [
      "Resizing images:  42%|████▏     | 337/800 [50:32<1:12:40,  9.42s/it]"
     ]
    },
    {
     "name": "stdout",
     "output_type": "stream",
     "text": [
      "input_img.size():  torch.Size([3, 1356, 2040])\n",
      "resize2_img.size():  torch.Size([3, 170, 255])\n",
      "resize2_cut_img.size():  torch.Size([3, 168, 248])\n",
      "create_HrLr kernel_path:C:\\SaiVinay\\SproutsAI\\GitHub_\\ir_srgan_otsr\\results_kernels_DIV2K\\0338\\0338_kernel_x4.mat\n",
      "scale_factor:  [0.125, 0.125, 1]\n",
      "output_shape:  [170 255   3]\n",
      "im.shape:  (1356, 2040, 3)\n"
     ]
    },
    {
     "name": "stderr",
     "output_type": "stream",
     "text": [
      "Resizing images:  42%|████▏     | 338/800 [50:41<1:11:35,  9.30s/it]"
     ]
    },
    {
     "name": "stdout",
     "output_type": "stream",
     "text": [
      "input_img.size():  torch.Size([3, 1356, 2040])\n",
      "resize2_img.size():  torch.Size([3, 170, 255])\n",
      "resize2_cut_img.size():  torch.Size([3, 168, 248])\n",
      "create_HrLr kernel_path:C:\\SaiVinay\\SproutsAI\\GitHub_\\ir_srgan_otsr\\results_kernels_DIV2K\\0339\\0339_kernel_x4.mat\n",
      "scale_factor:  [0.125, 0.125, 1]\n",
      "output_shape:  [170 255   3]\n",
      "im.shape:  (1356, 2040, 3)\n"
     ]
    },
    {
     "name": "stderr",
     "output_type": "stream",
     "text": [
      "Resizing images:  42%|████▏     | 339/800 [50:49<1:09:20,  9.03s/it]"
     ]
    },
    {
     "name": "stdout",
     "output_type": "stream",
     "text": [
      "input_img.size():  torch.Size([3, 744, 2040])\n",
      "resize2_img.size():  torch.Size([3, 93, 255])\n",
      "resize2_cut_img.size():  torch.Size([3, 88, 248])\n",
      "create_HrLr kernel_path:C:\\SaiVinay\\SproutsAI\\GitHub_\\ir_srgan_otsr\\results_kernels_DIV2K\\0340\\0340_kernel_x4.mat\n",
      "scale_factor:  [0.125, 0.125, 1]\n",
      "output_shape:  [ 93 255   3]\n",
      "im.shape:  (744, 2040, 3)\n"
     ]
    },
    {
     "name": "stderr",
     "output_type": "stream",
     "text": [
      "Resizing images:  42%|████▎     | 340/800 [50:54<59:59,  7.82s/it]  "
     ]
    },
    {
     "name": "stdout",
     "output_type": "stream",
     "text": [
      "input_img.size():  torch.Size([3, 1440, 2040])\n",
      "resize2_img.size():  torch.Size([3, 180, 255])\n",
      "resize2_cut_img.size():  torch.Size([3, 176, 248])\n",
      "create_HrLr kernel_path:C:\\SaiVinay\\SproutsAI\\GitHub_\\ir_srgan_otsr\\results_kernels_DIV2K\\0341\\0341_kernel_x4.mat\n",
      "scale_factor:  [0.125, 0.125, 1]\n",
      "output_shape:  [180 255   3]\n",
      "im.shape:  (1440, 2040, 3)\n"
     ]
    },
    {
     "name": "stderr",
     "output_type": "stream",
     "text": [
      "Resizing images:  43%|████▎     | 341/800 [51:04<1:03:51,  8.35s/it]"
     ]
    },
    {
     "name": "stdout",
     "output_type": "stream",
     "text": [
      "input_img.size():  torch.Size([3, 1356, 2040])\n",
      "resize2_img.size():  torch.Size([3, 170, 255])\n",
      "resize2_cut_img.size():  torch.Size([3, 168, 248])\n",
      "create_HrLr kernel_path:C:\\SaiVinay\\SproutsAI\\GitHub_\\ir_srgan_otsr\\results_kernels_DIV2K\\0342\\0342_kernel_x4.mat\n",
      "scale_factor:  [0.125, 0.125, 1]\n",
      "output_shape:  [170 255   3]\n",
      "im.shape:  (1356, 2040, 3)\n"
     ]
    },
    {
     "name": "stderr",
     "output_type": "stream",
     "text": [
      "Resizing images:  43%|████▎     | 342/800 [51:12<1:04:15,  8.42s/it]"
     ]
    },
    {
     "name": "stdout",
     "output_type": "stream",
     "text": [
      "input_img.size():  torch.Size([3, 1200, 2040])\n",
      "resize2_img.size():  torch.Size([3, 150, 255])\n",
      "resize2_cut_img.size():  torch.Size([3, 144, 248])\n",
      "create_HrLr kernel_path:C:\\SaiVinay\\SproutsAI\\GitHub_\\ir_srgan_otsr\\results_kernels_DIV2K\\0343\\0343_kernel_x4.mat\n",
      "scale_factor:  [0.125, 0.125, 1]\n",
      "output_shape:  [150 255   3]\n",
      "im.shape:  (1200, 2040, 3)\n"
     ]
    },
    {
     "name": "stderr",
     "output_type": "stream",
     "text": [
      "Resizing images:  43%|████▎     | 343/800 [51:20<1:03:08,  8.29s/it]"
     ]
    },
    {
     "name": "stdout",
     "output_type": "stream",
     "text": [
      "input_img.size():  torch.Size([3, 2040, 1356])\n",
      "resize2_img.size():  torch.Size([3, 255, 170])\n",
      "resize2_cut_img.size():  torch.Size([3, 248, 168])\n",
      "create_HrLr kernel_path:C:\\SaiVinay\\SproutsAI\\GitHub_\\ir_srgan_otsr\\results_kernels_DIV2K\\0344\\0344_kernel_x4.mat\n",
      "scale_factor:  [0.125, 0.125, 1]\n",
      "output_shape:  [255 170   3]\n",
      "im.shape:  (2040, 1356, 3)\n"
     ]
    },
    {
     "name": "stderr",
     "output_type": "stream",
     "text": [
      "Resizing images:  43%|████▎     | 344/800 [51:29<1:04:53,  8.54s/it]"
     ]
    },
    {
     "name": "stdout",
     "output_type": "stream",
     "text": [
      "input_img.size():  torch.Size([3, 1356, 2040])\n",
      "resize2_img.size():  torch.Size([3, 170, 255])\n",
      "resize2_cut_img.size():  torch.Size([3, 168, 248])\n",
      "create_HrLr kernel_path:C:\\SaiVinay\\SproutsAI\\GitHub_\\ir_srgan_otsr\\results_kernels_DIV2K\\0345\\0345_kernel_x4.mat\n",
      "scale_factor:  [0.125, 0.125, 1]\n",
      "output_shape:  [170 255   3]\n",
      "im.shape:  (1356, 2040, 3)\n"
     ]
    },
    {
     "name": "stderr",
     "output_type": "stream",
     "text": [
      "Resizing images:  43%|████▎     | 345/800 [51:38<1:05:12,  8.60s/it]"
     ]
    },
    {
     "name": "stdout",
     "output_type": "stream",
     "text": [
      "input_img.size():  torch.Size([3, 1356, 2040])\n",
      "resize2_img.size():  torch.Size([3, 170, 255])\n",
      "resize2_cut_img.size():  torch.Size([3, 168, 248])\n",
      "create_HrLr kernel_path:C:\\SaiVinay\\SproutsAI\\GitHub_\\ir_srgan_otsr\\results_kernels_DIV2K\\0346\\0346_kernel_x4.mat\n",
      "scale_factor:  [0.125, 0.125, 1]\n",
      "output_shape:  [170 255   3]\n",
      "im.shape:  (1356, 2040, 3)\n"
     ]
    },
    {
     "name": "stderr",
     "output_type": "stream",
     "text": [
      "Resizing images:  43%|████▎     | 346/800 [51:46<1:04:36,  8.54s/it]"
     ]
    },
    {
     "name": "stdout",
     "output_type": "stream",
     "text": [
      "input_img.size():  torch.Size([3, 1800, 2040])\n",
      "resize2_img.size():  torch.Size([3, 225, 255])\n",
      "resize2_cut_img.size():  torch.Size([3, 224, 248])\n",
      "create_HrLr kernel_path:C:\\SaiVinay\\SproutsAI\\GitHub_\\ir_srgan_otsr\\results_kernels_DIV2K\\0347\\0347_kernel_x4.mat\n",
      "scale_factor:  [0.125, 0.125, 1]\n",
      "output_shape:  [225 255   3]\n",
      "im.shape:  (1800, 2040, 3)\n"
     ]
    },
    {
     "name": "stderr",
     "output_type": "stream",
     "text": [
      "Resizing images:  43%|████▎     | 347/800 [51:58<1:11:47,  9.51s/it]"
     ]
    },
    {
     "name": "stdout",
     "output_type": "stream",
     "text": [
      "input_img.size():  torch.Size([3, 1260, 2040])\n",
      "resize2_img.size():  torch.Size([3, 158, 255])\n",
      "resize2_cut_img.size():  torch.Size([3, 152, 248])\n",
      "create_HrLr kernel_path:C:\\SaiVinay\\SproutsAI\\GitHub_\\ir_srgan_otsr\\results_kernels_DIV2K\\0348\\0348_kernel_x4.mat\n",
      "scale_factor:  [0.125, 0.125, 1]\n",
      "output_shape:  [158 255   3]\n",
      "im.shape:  (1260, 2040, 3)\n"
     ]
    },
    {
     "name": "stderr",
     "output_type": "stream",
     "text": [
      "Resizing images:  44%|████▎     | 348/800 [52:06<1:08:24,  9.08s/it]"
     ]
    },
    {
     "name": "stdout",
     "output_type": "stream",
     "text": [
      "input_img.size():  torch.Size([3, 1392, 2040])\n",
      "resize2_img.size():  torch.Size([3, 174, 255])\n",
      "resize2_cut_img.size():  torch.Size([3, 168, 248])\n",
      "create_HrLr kernel_path:C:\\SaiVinay\\SproutsAI\\GitHub_\\ir_srgan_otsr\\results_kernels_DIV2K\\0349\\0349_kernel_x4.mat\n",
      "scale_factor:  [0.125, 0.125, 1]\n",
      "output_shape:  [174 255   3]\n",
      "im.shape:  (1392, 2040, 3)\n"
     ]
    },
    {
     "name": "stderr",
     "output_type": "stream",
     "text": [
      "Resizing images:  44%|████▎     | 349/800 [52:15<1:07:27,  8.97s/it]"
     ]
    },
    {
     "name": "stdout",
     "output_type": "stream",
     "text": [
      "input_img.size():  torch.Size([3, 2040, 1116])\n",
      "resize2_img.size():  torch.Size([3, 255, 140])\n",
      "resize2_cut_img.size():  torch.Size([3, 248, 136])\n",
      "create_HrLr kernel_path:C:\\SaiVinay\\SproutsAI\\GitHub_\\ir_srgan_otsr\\results_kernels_DIV2K\\0350\\0350_kernel_x4.mat\n",
      "scale_factor:  [0.125, 0.125, 1]\n",
      "output_shape:  [255 140   3]\n",
      "im.shape:  (2040, 1116, 3)\n"
     ]
    },
    {
     "name": "stderr",
     "output_type": "stream",
     "text": [
      "Resizing images:  44%|████▍     | 350/800 [52:22<1:03:41,  8.49s/it]"
     ]
    },
    {
     "name": "stdout",
     "output_type": "stream",
     "text": [
      "input_img.size():  torch.Size([3, 1356, 2040])\n",
      "resize2_img.size():  torch.Size([3, 170, 255])\n",
      "resize2_cut_img.size():  torch.Size([3, 168, 248])\n",
      "create_HrLr kernel_path:C:\\SaiVinay\\SproutsAI\\GitHub_\\ir_srgan_otsr\\results_kernels_DIV2K\\0351\\0351_kernel_x4.mat\n",
      "scale_factor:  [0.125, 0.125, 1]\n",
      "output_shape:  [170 255   3]\n",
      "im.shape:  (1356, 2040, 3)\n"
     ]
    },
    {
     "name": "stderr",
     "output_type": "stream",
     "text": [
      "Resizing images:  44%|████▍     | 351/800 [52:31<1:03:25,  8.48s/it]"
     ]
    },
    {
     "name": "stdout",
     "output_type": "stream",
     "text": [
      "input_img.size():  torch.Size([3, 888, 2040])\n",
      "resize2_img.size():  torch.Size([3, 111, 255])\n",
      "resize2_cut_img.size():  torch.Size([3, 104, 248])\n",
      "create_HrLr kernel_path:C:\\SaiVinay\\SproutsAI\\GitHub_\\ir_srgan_otsr\\results_kernels_DIV2K\\0352\\0352_kernel_x4.mat\n",
      "scale_factor:  [0.125, 0.125, 1]\n",
      "output_shape:  [111 255   3]\n",
      "im.shape:  (888, 2040, 3)\n"
     ]
    },
    {
     "name": "stderr",
     "output_type": "stream",
     "text": [
      "Resizing images:  44%|████▍     | 352/800 [52:36<56:54,  7.62s/it]  "
     ]
    },
    {
     "name": "stdout",
     "output_type": "stream",
     "text": [
      "input_img.size():  torch.Size([3, 1536, 2040])\n",
      "resize2_img.size():  torch.Size([3, 192, 255])\n",
      "resize2_cut_img.size():  torch.Size([3, 192, 248])\n",
      "create_HrLr kernel_path:C:\\SaiVinay\\SproutsAI\\GitHub_\\ir_srgan_otsr\\results_kernels_DIV2K\\0353\\0353_kernel_x4.mat\n",
      "scale_factor:  [0.125, 0.125, 1]\n",
      "output_shape:  [192 255   3]\n",
      "im.shape:  (1536, 2040, 3)\n"
     ]
    },
    {
     "name": "stderr",
     "output_type": "stream",
     "text": [
      "Resizing images:  44%|████▍     | 353/800 [52:47<1:02:28,  8.38s/it]"
     ]
    },
    {
     "name": "stdout",
     "output_type": "stream",
     "text": [
      "input_img.size():  torch.Size([3, 1356, 2040])\n",
      "resize2_img.size():  torch.Size([3, 170, 255])\n",
      "resize2_cut_img.size():  torch.Size([3, 168, 248])\n",
      "create_HrLr kernel_path:C:\\SaiVinay\\SproutsAI\\GitHub_\\ir_srgan_otsr\\results_kernels_DIV2K\\0354\\0354_kernel_x4.mat\n",
      "scale_factor:  [0.125, 0.125, 1]\n",
      "output_shape:  [170 255   3]\n",
      "im.shape:  (1356, 2040, 3)\n"
     ]
    },
    {
     "name": "stderr",
     "output_type": "stream",
     "text": [
      "Resizing images:  44%|████▍     | 354/800 [52:56<1:03:31,  8.55s/it]"
     ]
    },
    {
     "name": "stdout",
     "output_type": "stream",
     "text": [
      "input_img.size():  torch.Size([3, 1356, 2040])\n",
      "resize2_img.size():  torch.Size([3, 170, 255])\n",
      "resize2_cut_img.size():  torch.Size([3, 168, 248])\n",
      "create_HrLr kernel_path:C:\\SaiVinay\\SproutsAI\\GitHub_\\ir_srgan_otsr\\results_kernels_DIV2K\\0355\\0355_kernel_x4.mat\n",
      "scale_factor:  [0.125, 0.125, 1]\n",
      "output_shape:  [170 255   3]\n",
      "im.shape:  (1356, 2040, 3)\n"
     ]
    },
    {
     "name": "stderr",
     "output_type": "stream",
     "text": [
      "Resizing images:  44%|████▍     | 355/800 [53:05<1:04:48,  8.74s/it]"
     ]
    },
    {
     "name": "stdout",
     "output_type": "stream",
     "text": [
      "input_img.size():  torch.Size([3, 1272, 2040])\n",
      "resize2_img.size():  torch.Size([3, 159, 255])\n",
      "resize2_cut_img.size():  torch.Size([3, 152, 248])\n",
      "create_HrLr kernel_path:C:\\SaiVinay\\SproutsAI\\GitHub_\\ir_srgan_otsr\\results_kernels_DIV2K\\0356\\0356_kernel_x4.mat\n",
      "scale_factor:  [0.125, 0.125, 1]\n",
      "output_shape:  [159 255   3]\n",
      "im.shape:  (1272, 2040, 3)\n"
     ]
    },
    {
     "name": "stderr",
     "output_type": "stream",
     "text": [
      "Resizing images:  44%|████▍     | 356/800 [53:13<1:03:56,  8.64s/it]"
     ]
    },
    {
     "name": "stdout",
     "output_type": "stream",
     "text": [
      "input_img.size():  torch.Size([3, 1176, 2040])\n",
      "resize2_img.size():  torch.Size([3, 147, 255])\n",
      "resize2_cut_img.size():  torch.Size([3, 144, 248])\n",
      "create_HrLr kernel_path:C:\\SaiVinay\\SproutsAI\\GitHub_\\ir_srgan_otsr\\results_kernels_DIV2K\\0357\\0357_kernel_x4.mat\n",
      "scale_factor:  [0.125, 0.125, 1]\n",
      "output_shape:  [147 255   3]\n",
      "im.shape:  (1176, 2040, 3)\n"
     ]
    },
    {
     "name": "stderr",
     "output_type": "stream",
     "text": [
      "Resizing images:  45%|████▍     | 357/800 [53:21<1:01:30,  8.33s/it]"
     ]
    },
    {
     "name": "stdout",
     "output_type": "stream",
     "text": [
      "input_img.size():  torch.Size([3, 1356, 2040])\n",
      "resize2_img.size():  torch.Size([3, 170, 255])\n",
      "resize2_cut_img.size():  torch.Size([3, 168, 248])\n",
      "create_HrLr kernel_path:C:\\SaiVinay\\SproutsAI\\GitHub_\\ir_srgan_otsr\\results_kernels_DIV2K\\0358\\0358_kernel_x4.mat\n",
      "scale_factor:  [0.125, 0.125, 1]\n",
      "output_shape:  [170 255   3]\n",
      "im.shape:  (1356, 2040, 3)\n"
     ]
    },
    {
     "name": "stderr",
     "output_type": "stream",
     "text": [
      "Resizing images:  45%|████▍     | 358/800 [53:30<1:02:44,  8.52s/it]"
     ]
    },
    {
     "name": "stdout",
     "output_type": "stream",
     "text": [
      "input_img.size():  torch.Size([3, 1356, 2040])\n",
      "resize2_img.size():  torch.Size([3, 170, 255])\n",
      "resize2_cut_img.size():  torch.Size([3, 168, 248])\n",
      "create_HrLr kernel_path:C:\\SaiVinay\\SproutsAI\\GitHub_\\ir_srgan_otsr\\results_kernels_DIV2K\\0359\\0359_kernel_x4.mat\n",
      "scale_factor:  [0.125, 0.125, 1]\n",
      "output_shape:  [170 255   3]\n",
      "im.shape:  (1356, 2040, 3)\n"
     ]
    },
    {
     "name": "stderr",
     "output_type": "stream",
     "text": [
      "Resizing images:  45%|████▍     | 359/800 [53:38<1:02:50,  8.55s/it]"
     ]
    },
    {
     "name": "stdout",
     "output_type": "stream",
     "text": [
      "input_img.size():  torch.Size([3, 2004, 2040])\n",
      "resize2_img.size():  torch.Size([3, 251, 255])\n",
      "resize2_cut_img.size():  torch.Size([3, 248, 248])\n",
      "create_HrLr kernel_path:C:\\SaiVinay\\SproutsAI\\GitHub_\\ir_srgan_otsr\\results_kernels_DIV2K\\0360\\0360_kernel_x4.mat\n",
      "scale_factor:  [0.125, 0.125, 1]\n",
      "output_shape:  [251 255   3]\n",
      "im.shape:  (2004, 2040, 3)\n"
     ]
    },
    {
     "name": "stderr",
     "output_type": "stream",
     "text": [
      "Resizing images:  45%|████▌     | 360/800 [53:52<1:14:01, 10.10s/it]"
     ]
    },
    {
     "name": "stdout",
     "output_type": "stream",
     "text": [
      "input_img.size():  torch.Size([3, 2040, 1536])\n",
      "resize2_img.size():  torch.Size([3, 255, 192])\n",
      "resize2_cut_img.size():  torch.Size([3, 248, 192])\n",
      "create_HrLr kernel_path:C:\\SaiVinay\\SproutsAI\\GitHub_\\ir_srgan_otsr\\results_kernels_DIV2K\\0361\\0361_kernel_x4.mat\n",
      "scale_factor:  [0.125, 0.125, 1]\n",
      "output_shape:  [255 192   3]\n",
      "im.shape:  (2040, 1536, 3)\n"
     ]
    },
    {
     "name": "stderr",
     "output_type": "stream",
     "text": [
      "Resizing images:  45%|████▌     | 361/800 [54:02<1:13:39, 10.07s/it]"
     ]
    },
    {
     "name": "stdout",
     "output_type": "stream",
     "text": [
      "input_img.size():  torch.Size([3, 1464, 2040])\n",
      "resize2_img.size():  torch.Size([3, 183, 255])\n",
      "resize2_cut_img.size():  torch.Size([3, 176, 248])\n",
      "create_HrLr kernel_path:C:\\SaiVinay\\SproutsAI\\GitHub_\\ir_srgan_otsr\\results_kernels_DIV2K\\0362\\0362_kernel_x4.mat\n",
      "scale_factor:  [0.125, 0.125, 1]\n",
      "output_shape:  [183 255   3]\n",
      "im.shape:  (1464, 2040, 3)\n"
     ]
    },
    {
     "name": "stderr",
     "output_type": "stream",
     "text": [
      "Resizing images:  45%|████▌     | 362/800 [54:11<1:11:51,  9.84s/it]"
     ]
    },
    {
     "name": "stdout",
     "output_type": "stream",
     "text": [
      "input_img.size():  torch.Size([3, 1356, 2040])\n",
      "resize2_img.size():  torch.Size([3, 170, 255])\n",
      "resize2_cut_img.size():  torch.Size([3, 168, 248])\n",
      "create_HrLr kernel_path:C:\\SaiVinay\\SproutsAI\\GitHub_\\ir_srgan_otsr\\results_kernels_DIV2K\\0363\\0363_kernel_x4.mat\n",
      "scale_factor:  [0.125, 0.125, 1]\n",
      "output_shape:  [170 255   3]\n",
      "im.shape:  (1356, 2040, 3)\n"
     ]
    },
    {
     "name": "stderr",
     "output_type": "stream",
     "text": [
      "Resizing images:  45%|████▌     | 363/800 [54:20<1:09:08,  9.49s/it]"
     ]
    },
    {
     "name": "stdout",
     "output_type": "stream",
     "text": [
      "input_img.size():  torch.Size([3, 1356, 2040])\n",
      "resize2_img.size():  torch.Size([3, 170, 255])\n",
      "resize2_cut_img.size():  torch.Size([3, 168, 248])\n",
      "create_HrLr kernel_path:C:\\SaiVinay\\SproutsAI\\GitHub_\\ir_srgan_otsr\\results_kernels_DIV2K\\0364\\0364_kernel_x4.mat\n",
      "scale_factor:  [0.125, 0.125, 1]\n",
      "output_shape:  [170 255   3]\n",
      "im.shape:  (1356, 2040, 3)\n"
     ]
    },
    {
     "name": "stderr",
     "output_type": "stream",
     "text": [
      "Resizing images:  46%|████▌     | 364/800 [54:29<1:08:30,  9.43s/it]"
     ]
    },
    {
     "name": "stdout",
     "output_type": "stream",
     "text": [
      "input_img.size():  torch.Size([3, 1212, 2040])\n",
      "resize2_img.size():  torch.Size([3, 152, 255])\n",
      "resize2_cut_img.size():  torch.Size([3, 152, 248])\n",
      "create_HrLr kernel_path:C:\\SaiVinay\\SproutsAI\\GitHub_\\ir_srgan_otsr\\results_kernels_DIV2K\\0365\\0365_kernel_x4.mat\n",
      "scale_factor:  [0.125, 0.125, 1]\n",
      "output_shape:  [152 255   3]\n",
      "im.shape:  (1212, 2040, 3)\n"
     ]
    },
    {
     "name": "stderr",
     "output_type": "stream",
     "text": [
      "Resizing images:  46%|████▌     | 365/800 [54:37<1:04:50,  8.94s/it]"
     ]
    },
    {
     "name": "stdout",
     "output_type": "stream",
     "text": [
      "input_img.size():  torch.Size([3, 1356, 2040])\n",
      "resize2_img.size():  torch.Size([3, 170, 255])\n",
      "resize2_cut_img.size():  torch.Size([3, 168, 248])\n",
      "create_HrLr kernel_path:C:\\SaiVinay\\SproutsAI\\GitHub_\\ir_srgan_otsr\\results_kernels_DIV2K\\0366\\0366_kernel_x4.mat\n",
      "scale_factor:  [0.125, 0.125, 1]\n",
      "output_shape:  [170 255   3]\n",
      "im.shape:  (1356, 2040, 3)\n"
     ]
    },
    {
     "name": "stderr",
     "output_type": "stream",
     "text": [
      "Resizing images:  46%|████▌     | 366/800 [54:45<1:03:25,  8.77s/it]"
     ]
    },
    {
     "name": "stdout",
     "output_type": "stream",
     "text": [
      "input_img.size():  torch.Size([3, 1356, 2040])\n",
      "resize2_img.size():  torch.Size([3, 170, 255])\n",
      "resize2_cut_img.size():  torch.Size([3, 168, 248])\n",
      "create_HrLr kernel_path:C:\\SaiVinay\\SproutsAI\\GitHub_\\ir_srgan_otsr\\results_kernels_DIV2K\\0367\\0367_kernel_x4.mat\n",
      "scale_factor:  [0.125, 0.125, 1]\n",
      "output_shape:  [170 255   3]\n",
      "im.shape:  (1356, 2040, 3)\n"
     ]
    },
    {
     "name": "stderr",
     "output_type": "stream",
     "text": [
      "Resizing images:  46%|████▌     | 367/800 [54:54<1:03:06,  8.74s/it]"
     ]
    },
    {
     "name": "stdout",
     "output_type": "stream",
     "text": [
      "input_img.size():  torch.Size([3, 1356, 2040])\n",
      "resize2_img.size():  torch.Size([3, 170, 255])\n",
      "resize2_cut_img.size():  torch.Size([3, 168, 248])\n",
      "create_HrLr kernel_path:C:\\SaiVinay\\SproutsAI\\GitHub_\\ir_srgan_otsr\\results_kernels_DIV2K\\0368\\0368_kernel_x4.mat\n",
      "scale_factor:  [0.125, 0.125, 1]\n",
      "output_shape:  [170 255   3]\n",
      "im.shape:  (1356, 2040, 3)\n"
     ]
    },
    {
     "name": "stderr",
     "output_type": "stream",
     "text": [
      "Resizing images:  46%|████▌     | 368/800 [55:03<1:02:59,  8.75s/it]"
     ]
    },
    {
     "name": "stdout",
     "output_type": "stream",
     "text": [
      "input_img.size():  torch.Size([3, 1356, 2040])\n",
      "resize2_img.size():  torch.Size([3, 170, 255])\n",
      "resize2_cut_img.size():  torch.Size([3, 168, 248])\n",
      "create_HrLr kernel_path:C:\\SaiVinay\\SproutsAI\\GitHub_\\ir_srgan_otsr\\results_kernels_DIV2K\\0369\\0369_kernel_x4.mat\n",
      "scale_factor:  [0.125, 0.125, 1]\n",
      "output_shape:  [170 255   3]\n",
      "im.shape:  (1356, 2040, 3)\n"
     ]
    },
    {
     "name": "stderr",
     "output_type": "stream",
     "text": [
      "Resizing images:  46%|████▌     | 369/800 [55:11<1:02:06,  8.65s/it]"
     ]
    },
    {
     "name": "stdout",
     "output_type": "stream",
     "text": [
      "input_img.size():  torch.Size([3, 1356, 2040])\n",
      "resize2_img.size():  torch.Size([3, 170, 255])\n",
      "resize2_cut_img.size():  torch.Size([3, 168, 248])\n",
      "create_HrLr kernel_path:C:\\SaiVinay\\SproutsAI\\GitHub_\\ir_srgan_otsr\\results_kernels_DIV2K\\0370\\0370_kernel_x4.mat\n",
      "scale_factor:  [0.125, 0.125, 1]\n",
      "output_shape:  [170 255   3]\n",
      "im.shape:  (1356, 2040, 3)\n"
     ]
    },
    {
     "name": "stderr",
     "output_type": "stream",
     "text": [
      "Resizing images:  46%|████▋     | 370/800 [55:20<1:01:34,  8.59s/it]"
     ]
    },
    {
     "name": "stdout",
     "output_type": "stream",
     "text": [
      "input_img.size():  torch.Size([3, 1356, 2040])\n",
      "resize2_img.size():  torch.Size([3, 170, 255])\n",
      "resize2_cut_img.size():  torch.Size([3, 168, 248])\n",
      "create_HrLr kernel_path:C:\\SaiVinay\\SproutsAI\\GitHub_\\ir_srgan_otsr\\results_kernels_DIV2K\\0371\\0371_kernel_x4.mat\n",
      "scale_factor:  [0.125, 0.125, 1]\n",
      "output_shape:  [170 255   3]\n",
      "im.shape:  (1356, 2040, 3)\n"
     ]
    },
    {
     "name": "stderr",
     "output_type": "stream",
     "text": [
      "Resizing images:  46%|████▋     | 371/800 [55:28<1:01:22,  8.58s/it]"
     ]
    },
    {
     "name": "stdout",
     "output_type": "stream",
     "text": [
      "input_img.size():  torch.Size([3, 1140, 2040])\n",
      "resize2_img.size():  torch.Size([3, 143, 255])\n",
      "resize2_cut_img.size():  torch.Size([3, 136, 248])\n",
      "create_HrLr kernel_path:C:\\SaiVinay\\SproutsAI\\GitHub_\\ir_srgan_otsr\\results_kernels_DIV2K\\0372\\0372_kernel_x4.mat\n",
      "scale_factor:  [0.125, 0.125, 1]\n",
      "output_shape:  [143 255   3]\n",
      "im.shape:  (1140, 2040, 3)\n"
     ]
    },
    {
     "name": "stderr",
     "output_type": "stream",
     "text": [
      "Resizing images:  46%|████▋     | 372/800 [55:35<57:21,  8.04s/it]  "
     ]
    },
    {
     "name": "stdout",
     "output_type": "stream",
     "text": [
      "input_img.size():  torch.Size([3, 2040, 1356])\n",
      "resize2_img.size():  torch.Size([3, 255, 170])\n",
      "resize2_cut_img.size():  torch.Size([3, 248, 168])\n",
      "create_HrLr kernel_path:C:\\SaiVinay\\SproutsAI\\GitHub_\\ir_srgan_otsr\\results_kernels_DIV2K\\0373\\0373_kernel_x4.mat\n",
      "scale_factor:  [0.125, 0.125, 1]\n",
      "output_shape:  [255 170   3]\n",
      "im.shape:  (2040, 1356, 3)\n"
     ]
    },
    {
     "name": "stderr",
     "output_type": "stream",
     "text": [
      "Resizing images:  47%|████▋     | 373/800 [55:44<59:22,  8.34s/it]"
     ]
    },
    {
     "name": "stdout",
     "output_type": "stream",
     "text": [
      "input_img.size():  torch.Size([3, 2040, 1632])\n",
      "resize2_img.size():  torch.Size([3, 255, 204])\n",
      "resize2_cut_img.size():  torch.Size([3, 248, 200])\n",
      "create_HrLr kernel_path:C:\\SaiVinay\\SproutsAI\\GitHub_\\ir_srgan_otsr\\results_kernels_DIV2K\\0374\\0374_kernel_x4.mat\n",
      "scale_factor:  [0.125, 0.125, 1]\n",
      "output_shape:  [255 204   3]\n",
      "im.shape:  (2040, 1632, 3)\n"
     ]
    },
    {
     "name": "stderr",
     "output_type": "stream",
     "text": [
      "Resizing images:  47%|████▋     | 374/800 [55:55<1:03:49,  8.99s/it]"
     ]
    },
    {
     "name": "stdout",
     "output_type": "stream",
     "text": [
      "input_img.size():  torch.Size([3, 2040, 1356])\n",
      "resize2_img.size():  torch.Size([3, 255, 170])\n",
      "resize2_cut_img.size():  torch.Size([3, 248, 168])\n",
      "create_HrLr kernel_path:C:\\SaiVinay\\SproutsAI\\GitHub_\\ir_srgan_otsr\\results_kernels_DIV2K\\0375\\0375_kernel_x4.mat\n",
      "scale_factor:  [0.125, 0.125, 1]\n",
      "output_shape:  [255 170   3]\n",
      "im.shape:  (2040, 1356, 3)\n"
     ]
    },
    {
     "name": "stderr",
     "output_type": "stream",
     "text": [
      "Resizing images:  47%|████▋     | 375/800 [56:03<1:02:50,  8.87s/it]"
     ]
    },
    {
     "name": "stdout",
     "output_type": "stream",
     "text": [
      "input_img.size():  torch.Size([3, 1356, 2040])\n",
      "resize2_img.size():  torch.Size([3, 170, 255])\n",
      "resize2_cut_img.size():  torch.Size([3, 168, 248])\n",
      "create_HrLr kernel_path:C:\\SaiVinay\\SproutsAI\\GitHub_\\ir_srgan_otsr\\results_kernels_DIV2K\\0376\\0376_kernel_x4.mat\n",
      "scale_factor:  [0.125, 0.125, 1]\n",
      "output_shape:  [170 255   3]\n",
      "im.shape:  (1356, 2040, 3)\n"
     ]
    },
    {
     "name": "stderr",
     "output_type": "stream",
     "text": [
      "Resizing images:  47%|████▋     | 376/800 [56:12<1:03:00,  8.92s/it]"
     ]
    },
    {
     "name": "stdout",
     "output_type": "stream",
     "text": [
      "input_img.size():  torch.Size([3, 1356, 2040])\n",
      "resize2_img.size():  torch.Size([3, 170, 255])\n",
      "resize2_cut_img.size():  torch.Size([3, 168, 248])\n",
      "create_HrLr kernel_path:C:\\SaiVinay\\SproutsAI\\GitHub_\\ir_srgan_otsr\\results_kernels_DIV2K\\0377\\0377_kernel_x4.mat\n",
      "scale_factor:  [0.125, 0.125, 1]\n",
      "output_shape:  [170 255   3]\n",
      "im.shape:  (1356, 2040, 3)\n"
     ]
    },
    {
     "name": "stderr",
     "output_type": "stream",
     "text": [
      "Resizing images:  47%|████▋     | 377/800 [56:21<1:02:58,  8.93s/it]"
     ]
    },
    {
     "name": "stdout",
     "output_type": "stream",
     "text": [
      "input_img.size():  torch.Size([3, 1536, 2040])\n",
      "resize2_img.size():  torch.Size([3, 192, 255])\n",
      "resize2_cut_img.size():  torch.Size([3, 192, 248])\n",
      "create_HrLr kernel_path:C:\\SaiVinay\\SproutsAI\\GitHub_\\ir_srgan_otsr\\results_kernels_DIV2K\\0378\\0378_kernel_x4.mat\n",
      "scale_factor:  [0.125, 0.125, 1]\n",
      "output_shape:  [192 255   3]\n",
      "im.shape:  (1536, 2040, 3)\n"
     ]
    },
    {
     "name": "stderr",
     "output_type": "stream",
     "text": [
      "Resizing images:  47%|████▋     | 378/800 [56:31<1:04:40,  9.20s/it]"
     ]
    },
    {
     "name": "stdout",
     "output_type": "stream",
     "text": [
      "input_img.size():  torch.Size([3, 1368, 2040])\n",
      "resize2_img.size():  torch.Size([3, 171, 255])\n",
      "resize2_cut_img.size():  torch.Size([3, 168, 248])\n",
      "create_HrLr kernel_path:C:\\SaiVinay\\SproutsAI\\GitHub_\\ir_srgan_otsr\\results_kernels_DIV2K\\0379\\0379_kernel_x4.mat\n",
      "scale_factor:  [0.125, 0.125, 1]\n",
      "output_shape:  [171 255   3]\n",
      "im.shape:  (1368, 2040, 3)\n"
     ]
    },
    {
     "name": "stderr",
     "output_type": "stream",
     "text": [
      "Resizing images:  47%|████▋     | 379/800 [56:40<1:03:38,  9.07s/it]"
     ]
    },
    {
     "name": "stdout",
     "output_type": "stream",
     "text": [
      "input_img.size():  torch.Size([3, 1272, 2040])\n",
      "resize2_img.size():  torch.Size([3, 159, 255])\n",
      "resize2_cut_img.size():  torch.Size([3, 152, 248])\n",
      "create_HrLr kernel_path:C:\\SaiVinay\\SproutsAI\\GitHub_\\ir_srgan_otsr\\results_kernels_DIV2K\\0380\\0380_kernel_x4.mat\n",
      "scale_factor:  [0.125, 0.125, 1]\n",
      "output_shape:  [159 255   3]\n",
      "im.shape:  (1272, 2040, 3)\n"
     ]
    },
    {
     "name": "stderr",
     "output_type": "stream",
     "text": [
      "Resizing images:  48%|████▊     | 380/800 [56:48<1:01:20,  8.76s/it]"
     ]
    },
    {
     "name": "stdout",
     "output_type": "stream",
     "text": [
      "input_img.size():  torch.Size([3, 1452, 2040])\n",
      "resize2_img.size():  torch.Size([3, 182, 255])\n",
      "resize2_cut_img.size():  torch.Size([3, 176, 248])\n",
      "create_HrLr kernel_path:C:\\SaiVinay\\SproutsAI\\GitHub_\\ir_srgan_otsr\\results_kernels_DIV2K\\0381\\0381_kernel_x4.mat\n",
      "scale_factor:  [0.125, 0.125, 1]\n",
      "output_shape:  [182 255   3]\n",
      "im.shape:  (1452, 2040, 3)\n"
     ]
    },
    {
     "name": "stderr",
     "output_type": "stream",
     "text": [
      "Resizing images:  48%|████▊     | 381/800 [56:57<1:01:46,  8.85s/it]"
     ]
    },
    {
     "name": "stdout",
     "output_type": "stream",
     "text": [
      "input_img.size():  torch.Size([3, 1356, 2040])\n",
      "resize2_img.size():  torch.Size([3, 170, 255])\n",
      "resize2_cut_img.size():  torch.Size([3, 168, 248])\n",
      "create_HrLr kernel_path:C:\\SaiVinay\\SproutsAI\\GitHub_\\ir_srgan_otsr\\results_kernels_DIV2K\\0382\\0382_kernel_x4.mat\n",
      "scale_factor:  [0.125, 0.125, 1]\n",
      "output_shape:  [170 255   3]\n",
      "im.shape:  (1356, 2040, 3)\n"
     ]
    },
    {
     "name": "stderr",
     "output_type": "stream",
     "text": [
      "Resizing images:  48%|████▊     | 382/800 [57:05<1:00:51,  8.74s/it]"
     ]
    },
    {
     "name": "stdout",
     "output_type": "stream",
     "text": [
      "input_img.size():  torch.Size([3, 1512, 2040])\n",
      "resize2_img.size():  torch.Size([3, 189, 255])\n",
      "resize2_cut_img.size():  torch.Size([3, 184, 248])\n",
      "create_HrLr kernel_path:C:\\SaiVinay\\SproutsAI\\GitHub_\\ir_srgan_otsr\\results_kernels_DIV2K\\0383\\0383_kernel_x4.mat\n",
      "scale_factor:  [0.125, 0.125, 1]\n",
      "output_shape:  [189 255   3]\n",
      "im.shape:  (1512, 2040, 3)\n"
     ]
    },
    {
     "name": "stderr",
     "output_type": "stream",
     "text": [
      "Resizing images:  48%|████▊     | 383/800 [57:15<1:02:59,  9.06s/it]"
     ]
    },
    {
     "name": "stdout",
     "output_type": "stream",
     "text": [
      "input_img.size():  torch.Size([3, 1356, 2040])\n",
      "resize2_img.size():  torch.Size([3, 170, 255])\n",
      "resize2_cut_img.size():  torch.Size([3, 168, 248])\n",
      "create_HrLr kernel_path:C:\\SaiVinay\\SproutsAI\\GitHub_\\ir_srgan_otsr\\results_kernels_DIV2K\\0384\\0384_kernel_x4.mat\n",
      "scale_factor:  [0.125, 0.125, 1]\n",
      "output_shape:  [170 255   3]\n",
      "im.shape:  (1356, 2040, 3)\n"
     ]
    },
    {
     "name": "stderr",
     "output_type": "stream",
     "text": [
      "Resizing images:  48%|████▊     | 384/800 [57:24<1:02:05,  8.96s/it]"
     ]
    },
    {
     "name": "stdout",
     "output_type": "stream",
     "text": [
      "input_img.size():  torch.Size([3, 2040, 1440])\n",
      "resize2_img.size():  torch.Size([3, 255, 180])\n",
      "resize2_cut_img.size():  torch.Size([3, 248, 176])\n",
      "create_HrLr kernel_path:C:\\SaiVinay\\SproutsAI\\GitHub_\\ir_srgan_otsr\\results_kernels_DIV2K\\0385\\0385_kernel_x4.mat\n",
      "scale_factor:  [0.125, 0.125, 1]\n",
      "output_shape:  [255 180   3]\n",
      "im.shape:  (2040, 1440, 3)\n"
     ]
    },
    {
     "name": "stderr",
     "output_type": "stream",
     "text": [
      "Resizing images:  48%|████▊     | 385/800 [57:33<1:02:38,  9.06s/it]"
     ]
    },
    {
     "name": "stdout",
     "output_type": "stream",
     "text": [
      "input_img.size():  torch.Size([3, 1356, 2040])\n",
      "resize2_img.size():  torch.Size([3, 170, 255])\n",
      "resize2_cut_img.size():  torch.Size([3, 168, 248])\n",
      "create_HrLr kernel_path:C:\\SaiVinay\\SproutsAI\\GitHub_\\ir_srgan_otsr\\results_kernels_DIV2K\\0386\\0386_kernel_x4.mat\n",
      "scale_factor:  [0.125, 0.125, 1]\n",
      "output_shape:  [170 255   3]\n",
      "im.shape:  (1356, 2040, 3)\n"
     ]
    },
    {
     "name": "stderr",
     "output_type": "stream",
     "text": [
      "Resizing images:  48%|████▊     | 386/800 [57:42<1:01:36,  8.93s/it]"
     ]
    },
    {
     "name": "stdout",
     "output_type": "stream",
     "text": [
      "input_img.size():  torch.Size([3, 972, 2040])\n",
      "resize2_img.size():  torch.Size([3, 122, 255])\n",
      "resize2_cut_img.size():  torch.Size([3, 120, 248])\n",
      "create_HrLr kernel_path:C:\\SaiVinay\\SproutsAI\\GitHub_\\ir_srgan_otsr\\results_kernels_DIV2K\\0387\\0387_kernel_x4.mat\n",
      "scale_factor:  [0.125, 0.125, 1]\n",
      "output_shape:  [122 255   3]\n",
      "im.shape:  (972, 2040, 3)\n"
     ]
    },
    {
     "name": "stderr",
     "output_type": "stream",
     "text": [
      "Resizing images:  48%|████▊     | 387/800 [57:48<55:50,  8.11s/it]  "
     ]
    },
    {
     "name": "stdout",
     "output_type": "stream",
     "text": [
      "input_img.size():  torch.Size([3, 1356, 2040])\n",
      "resize2_img.size():  torch.Size([3, 170, 255])\n",
      "resize2_cut_img.size():  torch.Size([3, 168, 248])\n",
      "create_HrLr kernel_path:C:\\SaiVinay\\SproutsAI\\GitHub_\\ir_srgan_otsr\\results_kernels_DIV2K\\0388\\0388_kernel_x4.mat\n",
      "scale_factor:  [0.125, 0.125, 1]\n",
      "output_shape:  [170 255   3]\n",
      "im.shape:  (1356, 2040, 3)\n"
     ]
    },
    {
     "name": "stderr",
     "output_type": "stream",
     "text": [
      "Resizing images:  48%|████▊     | 388/800 [57:57<56:34,  8.24s/it]"
     ]
    },
    {
     "name": "stdout",
     "output_type": "stream",
     "text": [
      "input_img.size():  torch.Size([3, 1356, 2040])\n",
      "resize2_img.size():  torch.Size([3, 170, 255])\n",
      "resize2_cut_img.size():  torch.Size([3, 168, 248])\n",
      "create_HrLr kernel_path:C:\\SaiVinay\\SproutsAI\\GitHub_\\ir_srgan_otsr\\results_kernels_DIV2K\\0389\\0389_kernel_x4.mat\n",
      "scale_factor:  [0.125, 0.125, 1]\n",
      "output_shape:  [170 255   3]\n",
      "im.shape:  (1356, 2040, 3)\n"
     ]
    },
    {
     "name": "stderr",
     "output_type": "stream",
     "text": [
      "Resizing images:  49%|████▊     | 389/800 [58:05<56:34,  8.26s/it]"
     ]
    },
    {
     "name": "stdout",
     "output_type": "stream",
     "text": [
      "input_img.size():  torch.Size([3, 1308, 2040])\n",
      "resize2_img.size():  torch.Size([3, 164, 255])\n",
      "resize2_cut_img.size():  torch.Size([3, 160, 248])\n",
      "create_HrLr kernel_path:C:\\SaiVinay\\SproutsAI\\GitHub_\\ir_srgan_otsr\\results_kernels_DIV2K\\0390\\0390_kernel_x4.mat\n",
      "scale_factor:  [0.125, 0.125, 1]\n",
      "output_shape:  [164 255   3]\n",
      "im.shape:  (1308, 2040, 3)\n"
     ]
    },
    {
     "name": "stderr",
     "output_type": "stream",
     "text": [
      "Resizing images:  49%|████▉     | 390/800 [58:13<56:35,  8.28s/it]"
     ]
    },
    {
     "name": "stdout",
     "output_type": "stream",
     "text": [
      "input_img.size():  torch.Size([3, 1356, 2040])\n",
      "resize2_img.size():  torch.Size([3, 170, 255])\n",
      "resize2_cut_img.size():  torch.Size([3, 168, 248])\n",
      "create_HrLr kernel_path:C:\\SaiVinay\\SproutsAI\\GitHub_\\ir_srgan_otsr\\results_kernels_DIV2K\\0391\\0391_kernel_x4.mat\n",
      "scale_factor:  [0.125, 0.125, 1]\n",
      "output_shape:  [170 255   3]\n",
      "im.shape:  (1356, 2040, 3)\n"
     ]
    },
    {
     "name": "stderr",
     "output_type": "stream",
     "text": [
      "Resizing images:  49%|████▉     | 391/800 [58:22<57:22,  8.42s/it]"
     ]
    },
    {
     "name": "stdout",
     "output_type": "stream",
     "text": [
      "input_img.size():  torch.Size([3, 1152, 2040])\n",
      "resize2_img.size():  torch.Size([3, 144, 255])\n",
      "resize2_cut_img.size():  torch.Size([3, 144, 248])\n",
      "create_HrLr kernel_path:C:\\SaiVinay\\SproutsAI\\GitHub_\\ir_srgan_otsr\\results_kernels_DIV2K\\0392\\0392_kernel_x4.mat\n",
      "scale_factor:  [0.125, 0.125, 1]\n",
      "output_shape:  [144 255   3]\n",
      "im.shape:  (1152, 2040, 3)\n"
     ]
    },
    {
     "name": "stderr",
     "output_type": "stream",
     "text": [
      "Resizing images:  49%|████▉     | 392/800 [58:29<54:14,  7.98s/it]"
     ]
    },
    {
     "name": "stdout",
     "output_type": "stream",
     "text": [
      "input_img.size():  torch.Size([3, 1356, 2040])\n",
      "resize2_img.size():  torch.Size([3, 170, 255])\n",
      "resize2_cut_img.size():  torch.Size([3, 168, 248])\n",
      "create_HrLr kernel_path:C:\\SaiVinay\\SproutsAI\\GitHub_\\ir_srgan_otsr\\results_kernels_DIV2K\\0393\\0393_kernel_x4.mat\n",
      "scale_factor:  [0.125, 0.125, 1]\n",
      "output_shape:  [170 255   3]\n",
      "im.shape:  (1356, 2040, 3)\n"
     ]
    },
    {
     "name": "stderr",
     "output_type": "stream",
     "text": [
      "Resizing images:  49%|████▉     | 393/800 [58:38<55:42,  8.21s/it]"
     ]
    },
    {
     "name": "stdout",
     "output_type": "stream",
     "text": [
      "input_img.size():  torch.Size([3, 1536, 2040])\n",
      "resize2_img.size():  torch.Size([3, 192, 255])\n",
      "resize2_cut_img.size():  torch.Size([3, 192, 248])\n",
      "create_HrLr kernel_path:C:\\SaiVinay\\SproutsAI\\GitHub_\\ir_srgan_otsr\\results_kernels_DIV2K\\0394\\0394_kernel_x4.mat\n",
      "scale_factor:  [0.125, 0.125, 1]\n",
      "output_shape:  [192 255   3]\n",
      "im.shape:  (1536, 2040, 3)\n"
     ]
    },
    {
     "name": "stderr",
     "output_type": "stream",
     "text": [
      "Resizing images:  49%|████▉     | 394/800 [58:48<59:13,  8.75s/it]"
     ]
    },
    {
     "name": "stdout",
     "output_type": "stream",
     "text": [
      "input_img.size():  torch.Size([3, 1356, 2040])\n",
      "resize2_img.size():  torch.Size([3, 170, 255])\n",
      "resize2_cut_img.size():  torch.Size([3, 168, 248])\n",
      "create_HrLr kernel_path:C:\\SaiVinay\\SproutsAI\\GitHub_\\ir_srgan_otsr\\results_kernels_DIV2K\\0395\\0395_kernel_x4.mat\n",
      "scale_factor:  [0.125, 0.125, 1]\n",
      "output_shape:  [170 255   3]\n",
      "im.shape:  (1356, 2040, 3)\n"
     ]
    },
    {
     "name": "stderr",
     "output_type": "stream",
     "text": [
      "Resizing images:  49%|████▉     | 395/800 [58:57<59:19,  8.79s/it]"
     ]
    },
    {
     "name": "stdout",
     "output_type": "stream",
     "text": [
      "input_img.size():  torch.Size([3, 1356, 2040])\n",
      "resize2_img.size():  torch.Size([3, 170, 255])\n",
      "resize2_cut_img.size():  torch.Size([3, 168, 248])\n",
      "create_HrLr kernel_path:C:\\SaiVinay\\SproutsAI\\GitHub_\\ir_srgan_otsr\\results_kernels_DIV2K\\0396\\0396_kernel_x4.mat\n",
      "scale_factor:  [0.125, 0.125, 1]\n",
      "output_shape:  [170 255   3]\n",
      "im.shape:  (1356, 2040, 3)\n"
     ]
    },
    {
     "name": "stderr",
     "output_type": "stream",
     "text": [
      "Resizing images:  50%|████▉     | 396/800 [59:06<59:44,  8.87s/it]"
     ]
    },
    {
     "name": "stdout",
     "output_type": "stream",
     "text": [
      "input_img.size():  torch.Size([3, 1260, 2040])\n",
      "resize2_img.size():  torch.Size([3, 158, 255])\n",
      "resize2_cut_img.size():  torch.Size([3, 152, 248])\n",
      "create_HrLr kernel_path:C:\\SaiVinay\\SproutsAI\\GitHub_\\ir_srgan_otsr\\results_kernels_DIV2K\\0397\\0397_kernel_x4.mat\n",
      "scale_factor:  [0.125, 0.125, 1]\n",
      "output_shape:  [158 255   3]\n",
      "im.shape:  (1260, 2040, 3)\n"
     ]
    },
    {
     "name": "stderr",
     "output_type": "stream",
     "text": [
      "Resizing images:  50%|████▉     | 397/800 [59:14<57:37,  8.58s/it]"
     ]
    },
    {
     "name": "stdout",
     "output_type": "stream",
     "text": [
      "input_img.size():  torch.Size([3, 1356, 2040])\n",
      "resize2_img.size():  torch.Size([3, 170, 255])\n",
      "resize2_cut_img.size():  torch.Size([3, 168, 248])\n",
      "create_HrLr kernel_path:C:\\SaiVinay\\SproutsAI\\GitHub_\\ir_srgan_otsr\\results_kernels_DIV2K\\0398\\0398_kernel_x4.mat\n",
      "scale_factor:  [0.125, 0.125, 1]\n",
      "output_shape:  [170 255   3]\n",
      "im.shape:  (1356, 2040, 3)\n"
     ]
    },
    {
     "name": "stderr",
     "output_type": "stream",
     "text": [
      "Resizing images:  50%|████▉     | 398/800 [59:22<57:20,  8.56s/it]"
     ]
    },
    {
     "name": "stdout",
     "output_type": "stream",
     "text": [
      "input_img.size():  torch.Size([3, 2040, 1356])\n",
      "resize2_img.size():  torch.Size([3, 255, 170])\n",
      "resize2_cut_img.size():  torch.Size([3, 248, 168])\n",
      "create_HrLr kernel_path:C:\\SaiVinay\\SproutsAI\\GitHub_\\ir_srgan_otsr\\results_kernels_DIV2K\\0399\\0399_kernel_x4.mat\n",
      "scale_factor:  [0.125, 0.125, 1]\n",
      "output_shape:  [255 170   3]\n",
      "im.shape:  (2040, 1356, 3)\n"
     ]
    },
    {
     "name": "stderr",
     "output_type": "stream",
     "text": [
      "Resizing images:  50%|████▉     | 399/800 [59:30<56:54,  8.52s/it]"
     ]
    },
    {
     "name": "stdout",
     "output_type": "stream",
     "text": [
      "input_img.size():  torch.Size([3, 1284, 2040])\n",
      "resize2_img.size():  torch.Size([3, 161, 255])\n",
      "resize2_cut_img.size():  torch.Size([3, 160, 248])\n",
      "create_HrLr kernel_path:C:\\SaiVinay\\SproutsAI\\GitHub_\\ir_srgan_otsr\\results_kernels_DIV2K\\0400\\0400_kernel_x4.mat\n",
      "scale_factor:  [0.125, 0.125, 1]\n",
      "output_shape:  [161 255   3]\n",
      "im.shape:  (1284, 2040, 3)\n"
     ]
    },
    {
     "name": "stderr",
     "output_type": "stream",
     "text": [
      "Resizing images:  50%|█████     | 400/800 [59:38<55:46,  8.37s/it]"
     ]
    },
    {
     "name": "stdout",
     "output_type": "stream",
     "text": [
      "input_img.size():  torch.Size([3, 1356, 2040])\n",
      "resize2_img.size():  torch.Size([3, 170, 255])\n",
      "resize2_cut_img.size():  torch.Size([3, 168, 248])\n",
      "create_HrLr kernel_path:C:\\SaiVinay\\SproutsAI\\GitHub_\\ir_srgan_otsr\\results_kernels_DIV2K\\0401\\0401_kernel_x4.mat\n",
      "scale_factor:  [0.125, 0.125, 1]\n",
      "output_shape:  [170 255   3]\n",
      "im.shape:  (1356, 2040, 3)\n"
     ]
    },
    {
     "name": "stderr",
     "output_type": "stream",
     "text": [
      "Resizing images:  50%|█████     | 401/800 [59:47<55:50,  8.40s/it]"
     ]
    },
    {
     "name": "stdout",
     "output_type": "stream",
     "text": [
      "input_img.size():  torch.Size([3, 1356, 2040])\n",
      "resize2_img.size():  torch.Size([3, 170, 255])\n",
      "resize2_cut_img.size():  torch.Size([3, 168, 248])\n",
      "create_HrLr kernel_path:C:\\SaiVinay\\SproutsAI\\GitHub_\\ir_srgan_otsr\\results_kernels_DIV2K\\0402\\0402_kernel_x4.mat\n",
      "scale_factor:  [0.125, 0.125, 1]\n",
      "output_shape:  [170 255   3]\n",
      "im.shape:  (1356, 2040, 3)\n"
     ]
    },
    {
     "name": "stderr",
     "output_type": "stream",
     "text": [
      "Resizing images:  50%|█████     | 402/800 [59:56<56:53,  8.58s/it]"
     ]
    },
    {
     "name": "stdout",
     "output_type": "stream",
     "text": [
      "input_img.size():  torch.Size([3, 1356, 2040])\n",
      "resize2_img.size():  torch.Size([3, 170, 255])\n",
      "resize2_cut_img.size():  torch.Size([3, 168, 248])\n",
      "create_HrLr kernel_path:C:\\SaiVinay\\SproutsAI\\GitHub_\\ir_srgan_otsr\\results_kernels_DIV2K\\0403\\0403_kernel_x4.mat\n",
      "scale_factor:  [0.125, 0.125, 1]\n",
      "output_shape:  [170 255   3]\n",
      "im.shape:  (1356, 2040, 3)\n"
     ]
    },
    {
     "name": "stderr",
     "output_type": "stream",
     "text": [
      "Resizing images:  50%|█████     | 403/800 [1:00:05<57:04,  8.63s/it]"
     ]
    },
    {
     "name": "stdout",
     "output_type": "stream",
     "text": [
      "input_img.size():  torch.Size([3, 1632, 2040])\n",
      "resize2_img.size():  torch.Size([3, 204, 255])\n",
      "resize2_cut_img.size():  torch.Size([3, 200, 248])\n",
      "create_HrLr kernel_path:C:\\SaiVinay\\SproutsAI\\GitHub_\\ir_srgan_otsr\\results_kernels_DIV2K\\0404\\0404_kernel_x4.mat\n",
      "scale_factor:  [0.125, 0.125, 1]\n",
      "output_shape:  [204 255   3]\n",
      "im.shape:  (1632, 2040, 3)\n"
     ]
    },
    {
     "name": "stderr",
     "output_type": "stream",
     "text": [
      "Resizing images:  50%|█████     | 404/800 [1:00:15<1:00:12,  9.12s/it]"
     ]
    },
    {
     "name": "stdout",
     "output_type": "stream",
     "text": [
      "input_img.size():  torch.Size([3, 1356, 2040])\n",
      "resize2_img.size():  torch.Size([3, 170, 255])\n",
      "resize2_cut_img.size():  torch.Size([3, 168, 248])\n",
      "create_HrLr kernel_path:C:\\SaiVinay\\SproutsAI\\GitHub_\\ir_srgan_otsr\\results_kernels_DIV2K\\0405\\0405_kernel_x4.mat\n",
      "scale_factor:  [0.125, 0.125, 1]\n",
      "output_shape:  [170 255   3]\n",
      "im.shape:  (1356, 2040, 3)\n"
     ]
    },
    {
     "name": "stderr",
     "output_type": "stream",
     "text": [
      "Resizing images:  51%|█████     | 405/800 [1:00:24<59:47,  9.08s/it]  "
     ]
    },
    {
     "name": "stdout",
     "output_type": "stream",
     "text": [
      "input_img.size():  torch.Size([3, 2040, 1356])\n",
      "resize2_img.size():  torch.Size([3, 255, 170])\n",
      "resize2_cut_img.size():  torch.Size([3, 248, 168])\n",
      "create_HrLr kernel_path:C:\\SaiVinay\\SproutsAI\\GitHub_\\ir_srgan_otsr\\results_kernels_DIV2K\\0406\\0406_kernel_x4.mat\n",
      "scale_factor:  [0.125, 0.125, 1]\n",
      "output_shape:  [255 170   3]\n",
      "im.shape:  (2040, 1356, 3)\n"
     ]
    },
    {
     "name": "stderr",
     "output_type": "stream",
     "text": [
      "Resizing images:  51%|█████     | 406/800 [1:00:33<59:26,  9.05s/it]"
     ]
    },
    {
     "name": "stdout",
     "output_type": "stream",
     "text": [
      "input_img.size():  torch.Size([3, 1356, 2040])\n",
      "resize2_img.size():  torch.Size([3, 170, 255])\n",
      "resize2_cut_img.size():  torch.Size([3, 168, 248])\n",
      "create_HrLr kernel_path:C:\\SaiVinay\\SproutsAI\\GitHub_\\ir_srgan_otsr\\results_kernels_DIV2K\\0407\\0407_kernel_x4.mat\n",
      "scale_factor:  [0.125, 0.125, 1]\n",
      "output_shape:  [170 255   3]\n",
      "im.shape:  (1356, 2040, 3)\n"
     ]
    },
    {
     "name": "stderr",
     "output_type": "stream",
     "text": [
      "Resizing images:  51%|█████     | 407/800 [1:00:42<58:56,  9.00s/it]"
     ]
    },
    {
     "name": "stdout",
     "output_type": "stream",
     "text": [
      "input_img.size():  torch.Size([3, 1464, 2040])\n",
      "resize2_img.size():  torch.Size([3, 183, 255])\n",
      "resize2_cut_img.size():  torch.Size([3, 176, 248])\n",
      "create_HrLr kernel_path:C:\\SaiVinay\\SproutsAI\\GitHub_\\ir_srgan_otsr\\results_kernels_DIV2K\\0408\\0408_kernel_x4.mat\n",
      "scale_factor:  [0.125, 0.125, 1]\n",
      "output_shape:  [183 255   3]\n",
      "im.shape:  (1464, 2040, 3)\n"
     ]
    },
    {
     "name": "stderr",
     "output_type": "stream",
     "text": [
      "Resizing images:  51%|█████     | 408/800 [1:00:51<59:40,  9.13s/it]"
     ]
    },
    {
     "name": "stdout",
     "output_type": "stream",
     "text": [
      "input_img.size():  torch.Size([3, 1368, 2040])\n",
      "resize2_img.size():  torch.Size([3, 171, 255])\n",
      "resize2_cut_img.size():  torch.Size([3, 168, 248])\n",
      "create_HrLr kernel_path:C:\\SaiVinay\\SproutsAI\\GitHub_\\ir_srgan_otsr\\results_kernels_DIV2K\\0409\\0409_kernel_x4.mat\n",
      "scale_factor:  [0.125, 0.125, 1]\n",
      "output_shape:  [171 255   3]\n",
      "im.shape:  (1368, 2040, 3)\n"
     ]
    },
    {
     "name": "stderr",
     "output_type": "stream",
     "text": [
      "Resizing images:  51%|█████     | 409/800 [1:01:00<58:06,  8.92s/it]"
     ]
    },
    {
     "name": "stdout",
     "output_type": "stream",
     "text": [
      "input_img.size():  torch.Size([3, 2040, 1356])\n",
      "resize2_img.size():  torch.Size([3, 255, 170])\n",
      "resize2_cut_img.size():  torch.Size([3, 248, 168])\n",
      "create_HrLr kernel_path:C:\\SaiVinay\\SproutsAI\\GitHub_\\ir_srgan_otsr\\results_kernels_DIV2K\\0410\\0410_kernel_x4.mat\n",
      "scale_factor:  [0.125, 0.125, 1]\n",
      "output_shape:  [255 170   3]\n",
      "im.shape:  (2040, 1356, 3)\n"
     ]
    },
    {
     "name": "stderr",
     "output_type": "stream",
     "text": [
      "Resizing images:  51%|█████▏    | 410/800 [1:01:09<58:00,  8.92s/it]"
     ]
    },
    {
     "name": "stdout",
     "output_type": "stream",
     "text": [
      "input_img.size():  torch.Size([3, 1260, 2040])\n",
      "resize2_img.size():  torch.Size([3, 158, 255])\n",
      "resize2_cut_img.size():  torch.Size([3, 152, 248])\n",
      "create_HrLr kernel_path:C:\\SaiVinay\\SproutsAI\\GitHub_\\ir_srgan_otsr\\results_kernels_DIV2K\\0411\\0411_kernel_x4.mat\n",
      "scale_factor:  [0.125, 0.125, 1]\n",
      "output_shape:  [158 255   3]\n",
      "im.shape:  (1260, 2040, 3)\n"
     ]
    },
    {
     "name": "stderr",
     "output_type": "stream",
     "text": [
      "Resizing images:  51%|█████▏    | 411/800 [1:01:16<55:25,  8.55s/it]"
     ]
    },
    {
     "name": "stdout",
     "output_type": "stream",
     "text": [
      "input_img.size():  torch.Size([3, 1356, 2040])\n",
      "resize2_img.size():  torch.Size([3, 170, 255])\n",
      "resize2_cut_img.size():  torch.Size([3, 168, 248])\n",
      "create_HrLr kernel_path:C:\\SaiVinay\\SproutsAI\\GitHub_\\ir_srgan_otsr\\results_kernels_DIV2K\\0412\\0412_kernel_x4.mat\n",
      "scale_factor:  [0.125, 0.125, 1]\n",
      "output_shape:  [170 255   3]\n",
      "im.shape:  (1356, 2040, 3)\n"
     ]
    },
    {
     "name": "stderr",
     "output_type": "stream",
     "text": [
      "Resizing images:  52%|█████▏    | 412/800 [1:01:25<55:38,  8.60s/it]"
     ]
    },
    {
     "name": "stdout",
     "output_type": "stream",
     "text": [
      "input_img.size():  torch.Size([3, 1368, 2040])\n",
      "resize2_img.size():  torch.Size([3, 171, 255])\n",
      "resize2_cut_img.size():  torch.Size([3, 168, 248])\n",
      "create_HrLr kernel_path:C:\\SaiVinay\\SproutsAI\\GitHub_\\ir_srgan_otsr\\results_kernels_DIV2K\\0413\\0413_kernel_x4.mat\n",
      "scale_factor:  [0.125, 0.125, 1]\n",
      "output_shape:  [171 255   3]\n",
      "im.shape:  (1368, 2040, 3)\n"
     ]
    },
    {
     "name": "stderr",
     "output_type": "stream",
     "text": [
      "Resizing images:  52%|█████▏    | 413/800 [1:01:33<54:55,  8.51s/it]"
     ]
    },
    {
     "name": "stdout",
     "output_type": "stream",
     "text": [
      "input_img.size():  torch.Size([3, 2040, 1356])\n",
      "resize2_img.size():  torch.Size([3, 255, 170])\n",
      "resize2_cut_img.size():  torch.Size([3, 248, 168])\n",
      "create_HrLr kernel_path:C:\\SaiVinay\\SproutsAI\\GitHub_\\ir_srgan_otsr\\results_kernels_DIV2K\\0414\\0414_kernel_x4.mat\n",
      "scale_factor:  [0.125, 0.125, 1]\n",
      "output_shape:  [255 170   3]\n",
      "im.shape:  (2040, 1356, 3)\n"
     ]
    },
    {
     "name": "stderr",
     "output_type": "stream",
     "text": [
      "Resizing images:  52%|█████▏    | 414/800 [1:01:42<55:16,  8.59s/it]"
     ]
    },
    {
     "name": "stdout",
     "output_type": "stream",
     "text": [
      "input_img.size():  torch.Size([3, 2040, 1356])\n",
      "resize2_img.size():  torch.Size([3, 255, 170])\n",
      "resize2_cut_img.size():  torch.Size([3, 248, 168])\n",
      "create_HrLr kernel_path:C:\\SaiVinay\\SproutsAI\\GitHub_\\ir_srgan_otsr\\results_kernels_DIV2K\\0415\\0415_kernel_x4.mat\n",
      "scale_factor:  [0.125, 0.125, 1]\n",
      "output_shape:  [255 170   3]\n",
      "im.shape:  (2040, 1356, 3)\n"
     ]
    },
    {
     "name": "stderr",
     "output_type": "stream",
     "text": [
      "Resizing images:  52%|█████▏    | 415/800 [1:01:51<55:26,  8.64s/it]"
     ]
    },
    {
     "name": "stdout",
     "output_type": "stream",
     "text": [
      "input_img.size():  torch.Size([3, 1356, 2040])\n",
      "resize2_img.size():  torch.Size([3, 170, 255])\n",
      "resize2_cut_img.size():  torch.Size([3, 168, 248])\n",
      "create_HrLr kernel_path:C:\\SaiVinay\\SproutsAI\\GitHub_\\ir_srgan_otsr\\results_kernels_DIV2K\\0416\\0416_kernel_x4.mat\n",
      "scale_factor:  [0.125, 0.125, 1]\n",
      "output_shape:  [170 255   3]\n",
      "im.shape:  (1356, 2040, 3)\n"
     ]
    },
    {
     "name": "stderr",
     "output_type": "stream",
     "text": [
      "Resizing images:  52%|█████▏    | 416/800 [1:02:00<56:28,  8.82s/it]"
     ]
    },
    {
     "name": "stdout",
     "output_type": "stream",
     "text": [
      "input_img.size():  torch.Size([3, 1356, 2040])\n",
      "resize2_img.size():  torch.Size([3, 170, 255])\n",
      "resize2_cut_img.size():  torch.Size([3, 168, 248])\n",
      "create_HrLr kernel_path:C:\\SaiVinay\\SproutsAI\\GitHub_\\ir_srgan_otsr\\results_kernels_DIV2K\\0417\\0417_kernel_x4.mat\n",
      "scale_factor:  [0.125, 0.125, 1]\n",
      "output_shape:  [170 255   3]\n",
      "im.shape:  (1356, 2040, 3)\n"
     ]
    },
    {
     "name": "stderr",
     "output_type": "stream",
     "text": [
      "Resizing images:  52%|█████▏    | 417/800 [1:02:09<55:53,  8.76s/it]"
     ]
    },
    {
     "name": "stdout",
     "output_type": "stream",
     "text": [
      "input_img.size():  torch.Size([3, 1356, 2040])\n",
      "resize2_img.size():  torch.Size([3, 170, 255])\n",
      "resize2_cut_img.size():  torch.Size([3, 168, 248])\n",
      "create_HrLr kernel_path:C:\\SaiVinay\\SproutsAI\\GitHub_\\ir_srgan_otsr\\results_kernels_DIV2K\\0418\\0418_kernel_x4.mat\n",
      "scale_factor:  [0.125, 0.125, 1]\n",
      "output_shape:  [170 255   3]\n",
      "im.shape:  (1356, 2040, 3)\n"
     ]
    },
    {
     "name": "stderr",
     "output_type": "stream",
     "text": [
      "Resizing images:  52%|█████▏    | 418/800 [1:02:17<55:22,  8.70s/it]"
     ]
    },
    {
     "name": "stdout",
     "output_type": "stream",
     "text": [
      "input_img.size():  torch.Size([3, 1536, 2040])\n",
      "resize2_img.size():  torch.Size([3, 192, 255])\n",
      "resize2_cut_img.size():  torch.Size([3, 192, 248])\n",
      "create_HrLr kernel_path:C:\\SaiVinay\\SproutsAI\\GitHub_\\ir_srgan_otsr\\results_kernels_DIV2K\\0419\\0419_kernel_x4.mat\n",
      "scale_factor:  [0.125, 0.125, 1]\n",
      "output_shape:  [192 255   3]\n",
      "im.shape:  (1536, 2040, 3)\n"
     ]
    },
    {
     "name": "stderr",
     "output_type": "stream",
     "text": [
      "Resizing images:  52%|█████▏    | 419/800 [1:02:28<58:59,  9.29s/it]"
     ]
    },
    {
     "name": "stdout",
     "output_type": "stream",
     "text": [
      "input_img.size():  torch.Size([3, 2040, 1536])\n",
      "resize2_img.size():  torch.Size([3, 255, 192])\n",
      "resize2_cut_img.size():  torch.Size([3, 248, 192])\n",
      "create_HrLr kernel_path:C:\\SaiVinay\\SproutsAI\\GitHub_\\ir_srgan_otsr\\results_kernels_DIV2K\\0420\\0420_kernel_x4.mat\n",
      "scale_factor:  [0.125, 0.125, 1]\n",
      "output_shape:  [255 192   3]\n",
      "im.shape:  (2040, 1536, 3)\n"
     ]
    },
    {
     "name": "stderr",
     "output_type": "stream",
     "text": [
      "Resizing images:  52%|█████▎    | 420/800 [1:02:37<59:02,  9.32s/it]"
     ]
    },
    {
     "name": "stdout",
     "output_type": "stream",
     "text": [
      "input_img.size():  torch.Size([3, 2040, 1524])\n",
      "resize2_img.size():  torch.Size([3, 255, 191])\n",
      "resize2_cut_img.size():  torch.Size([3, 248, 184])\n",
      "create_HrLr kernel_path:C:\\SaiVinay\\SproutsAI\\GitHub_\\ir_srgan_otsr\\results_kernels_DIV2K\\0421\\0421_kernel_x4.mat\n",
      "scale_factor:  [0.125, 0.125, 1]\n",
      "output_shape:  [255 191   3]\n",
      "im.shape:  (2040, 1524, 3)\n"
     ]
    },
    {
     "name": "stderr",
     "output_type": "stream",
     "text": [
      "Resizing images:  53%|█████▎    | 421/800 [1:02:47<59:13,  9.38s/it]"
     ]
    },
    {
     "name": "stdout",
     "output_type": "stream",
     "text": [
      "input_img.size():  torch.Size([3, 2040, 1356])\n",
      "resize2_img.size():  torch.Size([3, 255, 170])\n",
      "resize2_cut_img.size():  torch.Size([3, 248, 168])\n",
      "create_HrLr kernel_path:C:\\SaiVinay\\SproutsAI\\GitHub_\\ir_srgan_otsr\\results_kernels_DIV2K\\0422\\0422_kernel_x4.mat\n",
      "scale_factor:  [0.125, 0.125, 1]\n",
      "output_shape:  [255 170   3]\n",
      "im.shape:  (2040, 1356, 3)\n"
     ]
    },
    {
     "name": "stderr",
     "output_type": "stream",
     "text": [
      "Resizing images:  53%|█████▎    | 422/800 [1:02:55<57:41,  9.16s/it]"
     ]
    },
    {
     "name": "stdout",
     "output_type": "stream",
     "text": [
      "input_img.size():  torch.Size([3, 1356, 2040])\n",
      "resize2_img.size():  torch.Size([3, 170, 255])\n",
      "resize2_cut_img.size():  torch.Size([3, 168, 248])\n",
      "create_HrLr kernel_path:C:\\SaiVinay\\SproutsAI\\GitHub_\\ir_srgan_otsr\\results_kernels_DIV2K\\0423\\0423_kernel_x4.mat\n",
      "scale_factor:  [0.125, 0.125, 1]\n",
      "output_shape:  [170 255   3]\n",
      "im.shape:  (1356, 2040, 3)\n"
     ]
    },
    {
     "name": "stderr",
     "output_type": "stream",
     "text": [
      "Resizing images:  53%|█████▎    | 423/800 [1:03:04<56:44,  9.03s/it]"
     ]
    },
    {
     "name": "stdout",
     "output_type": "stream",
     "text": [
      "input_img.size():  torch.Size([3, 1356, 2040])\n",
      "resize2_img.size():  torch.Size([3, 170, 255])\n",
      "resize2_cut_img.size():  torch.Size([3, 168, 248])\n",
      "create_HrLr kernel_path:C:\\SaiVinay\\SproutsAI\\GitHub_\\ir_srgan_otsr\\results_kernels_DIV2K\\0424\\0424_kernel_x4.mat\n",
      "scale_factor:  [0.125, 0.125, 1]\n",
      "output_shape:  [170 255   3]\n",
      "im.shape:  (1356, 2040, 3)\n"
     ]
    },
    {
     "name": "stderr",
     "output_type": "stream",
     "text": [
      "Resizing images:  53%|█████▎    | 424/800 [1:03:14<57:08,  9.12s/it]"
     ]
    },
    {
     "name": "stdout",
     "output_type": "stream",
     "text": [
      "input_img.size():  torch.Size([3, 1356, 2040])\n",
      "resize2_img.size():  torch.Size([3, 170, 255])\n",
      "resize2_cut_img.size():  torch.Size([3, 168, 248])\n",
      "create_HrLr kernel_path:C:\\SaiVinay\\SproutsAI\\GitHub_\\ir_srgan_otsr\\results_kernels_DIV2K\\0425\\0425_kernel_x4.mat\n",
      "scale_factor:  [0.125, 0.125, 1]\n",
      "output_shape:  [170 255   3]\n",
      "im.shape:  (1356, 2040, 3)\n"
     ]
    },
    {
     "name": "stderr",
     "output_type": "stream",
     "text": [
      "Resizing images:  53%|█████▎    | 425/800 [1:03:23<57:31,  9.20s/it]"
     ]
    },
    {
     "name": "stdout",
     "output_type": "stream",
     "text": [
      "input_img.size():  torch.Size([3, 1164, 2040])\n",
      "resize2_img.size():  torch.Size([3, 146, 255])\n",
      "resize2_cut_img.size():  torch.Size([3, 144, 248])\n",
      "create_HrLr kernel_path:C:\\SaiVinay\\SproutsAI\\GitHub_\\ir_srgan_otsr\\results_kernels_DIV2K\\0426\\0426_kernel_x4.mat\n",
      "scale_factor:  [0.125, 0.125, 1]\n",
      "output_shape:  [146 255   3]\n",
      "im.shape:  (1164, 2040, 3)\n"
     ]
    },
    {
     "name": "stderr",
     "output_type": "stream",
     "text": [
      "Resizing images:  53%|█████▎    | 426/800 [1:03:30<54:02,  8.67s/it]"
     ]
    },
    {
     "name": "stdout",
     "output_type": "stream",
     "text": [
      "input_img.size():  torch.Size([3, 1356, 2040])\n",
      "resize2_img.size():  torch.Size([3, 170, 255])\n",
      "resize2_cut_img.size():  torch.Size([3, 168, 248])\n",
      "create_HrLr kernel_path:C:\\SaiVinay\\SproutsAI\\GitHub_\\ir_srgan_otsr\\results_kernels_DIV2K\\0427\\0427_kernel_x4.mat\n",
      "scale_factor:  [0.125, 0.125, 1]\n",
      "output_shape:  [170 255   3]\n",
      "im.shape:  (1356, 2040, 3)\n"
     ]
    },
    {
     "name": "stderr",
     "output_type": "stream",
     "text": [
      "Resizing images:  53%|█████▎    | 427/800 [1:03:39<53:19,  8.58s/it]"
     ]
    },
    {
     "name": "stdout",
     "output_type": "stream",
     "text": [
      "input_img.size():  torch.Size([3, 1356, 2040])\n",
      "resize2_img.size():  torch.Size([3, 170, 255])\n",
      "resize2_cut_img.size():  torch.Size([3, 168, 248])\n",
      "create_HrLr kernel_path:C:\\SaiVinay\\SproutsAI\\GitHub_\\ir_srgan_otsr\\results_kernels_DIV2K\\0428\\0428_kernel_x4.mat\n",
      "scale_factor:  [0.125, 0.125, 1]\n",
      "output_shape:  [170 255   3]\n",
      "im.shape:  (1356, 2040, 3)\n"
     ]
    },
    {
     "name": "stderr",
     "output_type": "stream",
     "text": [
      "Resizing images:  54%|█████▎    | 428/800 [1:03:48<53:45,  8.67s/it]"
     ]
    },
    {
     "name": "stdout",
     "output_type": "stream",
     "text": [
      "input_img.size():  torch.Size([3, 1536, 2040])\n",
      "resize2_img.size():  torch.Size([3, 192, 255])\n",
      "resize2_cut_img.size():  torch.Size([3, 192, 248])\n",
      "create_HrLr kernel_path:C:\\SaiVinay\\SproutsAI\\GitHub_\\ir_srgan_otsr\\results_kernels_DIV2K\\0429\\0429_kernel_x4.mat\n",
      "scale_factor:  [0.125, 0.125, 1]\n",
      "output_shape:  [192 255   3]\n",
      "im.shape:  (1536, 2040, 3)\n"
     ]
    },
    {
     "name": "stderr",
     "output_type": "stream",
     "text": [
      "Resizing images:  54%|█████▎    | 429/800 [1:03:57<55:44,  9.01s/it]"
     ]
    },
    {
     "name": "stdout",
     "output_type": "stream",
     "text": [
      "input_img.size():  torch.Size([3, 1368, 2040])\n",
      "resize2_img.size():  torch.Size([3, 171, 255])\n",
      "resize2_cut_img.size():  torch.Size([3, 168, 248])\n",
      "create_HrLr kernel_path:C:\\SaiVinay\\SproutsAI\\GitHub_\\ir_srgan_otsr\\results_kernels_DIV2K\\0430\\0430_kernel_x4.mat\n",
      "scale_factor:  [0.125, 0.125, 1]\n",
      "output_shape:  [171 255   3]\n",
      "im.shape:  (1368, 2040, 3)\n"
     ]
    },
    {
     "name": "stderr",
     "output_type": "stream",
     "text": [
      "Resizing images:  54%|█████▍    | 430/800 [1:04:06<54:35,  8.85s/it]"
     ]
    },
    {
     "name": "stdout",
     "output_type": "stream",
     "text": [
      "input_img.size():  torch.Size([3, 1356, 2040])\n",
      "resize2_img.size():  torch.Size([3, 170, 255])\n",
      "resize2_cut_img.size():  torch.Size([3, 168, 248])\n",
      "create_HrLr kernel_path:C:\\SaiVinay\\SproutsAI\\GitHub_\\ir_srgan_otsr\\results_kernels_DIV2K\\0431\\0431_kernel_x4.mat\n",
      "scale_factor:  [0.125, 0.125, 1]\n",
      "output_shape:  [170 255   3]\n",
      "im.shape:  (1356, 2040, 3)\n"
     ]
    },
    {
     "name": "stderr",
     "output_type": "stream",
     "text": [
      "Resizing images:  54%|█████▍    | 431/800 [1:04:15<54:40,  8.89s/it]"
     ]
    },
    {
     "name": "stdout",
     "output_type": "stream",
     "text": [
      "input_img.size():  torch.Size([3, 1356, 2040])\n",
      "resize2_img.size():  torch.Size([3, 170, 255])\n",
      "resize2_cut_img.size():  torch.Size([3, 168, 248])\n",
      "create_HrLr kernel_path:C:\\SaiVinay\\SproutsAI\\GitHub_\\ir_srgan_otsr\\results_kernels_DIV2K\\0432\\0432_kernel_x4.mat\n",
      "scale_factor:  [0.125, 0.125, 1]\n",
      "output_shape:  [170 255   3]\n",
      "im.shape:  (1356, 2040, 3)\n"
     ]
    },
    {
     "name": "stderr",
     "output_type": "stream",
     "text": [
      "Resizing images:  54%|█████▍    | 432/800 [1:04:24<54:25,  8.87s/it]"
     ]
    },
    {
     "name": "stdout",
     "output_type": "stream",
     "text": [
      "input_img.size():  torch.Size([3, 1356, 2040])\n",
      "resize2_img.size():  torch.Size([3, 170, 255])\n",
      "resize2_cut_img.size():  torch.Size([3, 168, 248])\n",
      "create_HrLr kernel_path:C:\\SaiVinay\\SproutsAI\\GitHub_\\ir_srgan_otsr\\results_kernels_DIV2K\\0433\\0433_kernel_x4.mat\n",
      "scale_factor:  [0.125, 0.125, 1]\n",
      "output_shape:  [170 255   3]\n",
      "im.shape:  (1356, 2040, 3)\n"
     ]
    },
    {
     "name": "stderr",
     "output_type": "stream",
     "text": [
      "Resizing images:  54%|█████▍    | 433/800 [1:04:33<54:43,  8.95s/it]"
     ]
    },
    {
     "name": "stdout",
     "output_type": "stream",
     "text": [
      "input_img.size():  torch.Size([3, 1224, 2040])\n",
      "resize2_img.size():  torch.Size([3, 153, 255])\n",
      "resize2_cut_img.size():  torch.Size([3, 152, 248])\n",
      "create_HrLr kernel_path:C:\\SaiVinay\\SproutsAI\\GitHub_\\ir_srgan_otsr\\results_kernels_DIV2K\\0434\\0434_kernel_x4.mat\n",
      "scale_factor:  [0.125, 0.125, 1]\n",
      "output_shape:  [153 255   3]\n",
      "im.shape:  (1224, 2040, 3)\n"
     ]
    },
    {
     "name": "stderr",
     "output_type": "stream",
     "text": [
      "Resizing images:  54%|█████▍    | 434/800 [1:04:41<52:17,  8.57s/it]"
     ]
    },
    {
     "name": "stdout",
     "output_type": "stream",
     "text": [
      "input_img.size():  torch.Size([3, 1356, 2040])\n",
      "resize2_img.size():  torch.Size([3, 170, 255])\n",
      "resize2_cut_img.size():  torch.Size([3, 168, 248])\n",
      "create_HrLr kernel_path:C:\\SaiVinay\\SproutsAI\\GitHub_\\ir_srgan_otsr\\results_kernels_DIV2K\\0435\\0435_kernel_x4.mat\n",
      "scale_factor:  [0.125, 0.125, 1]\n",
      "output_shape:  [170 255   3]\n",
      "im.shape:  (1356, 2040, 3)\n"
     ]
    },
    {
     "name": "stderr",
     "output_type": "stream",
     "text": [
      "Resizing images:  54%|█████▍    | 435/800 [1:04:50<53:34,  8.81s/it]"
     ]
    },
    {
     "name": "stdout",
     "output_type": "stream",
     "text": [
      "input_img.size():  torch.Size([3, 1356, 2040])\n",
      "resize2_img.size():  torch.Size([3, 170, 255])\n",
      "resize2_cut_img.size():  torch.Size([3, 168, 248])\n",
      "create_HrLr kernel_path:C:\\SaiVinay\\SproutsAI\\GitHub_\\ir_srgan_otsr\\results_kernels_DIV2K\\0436\\0436_kernel_x4.mat\n",
      "scale_factor:  [0.125, 0.125, 1]\n",
      "output_shape:  [170 255   3]\n",
      "im.shape:  (1356, 2040, 3)\n"
     ]
    },
    {
     "name": "stderr",
     "output_type": "stream",
     "text": [
      "Resizing images:  55%|█████▍    | 436/800 [1:04:59<53:20,  8.79s/it]"
     ]
    },
    {
     "name": "stdout",
     "output_type": "stream",
     "text": [
      "input_img.size():  torch.Size([3, 648, 2040])\n",
      "resize2_img.size():  torch.Size([3, 81, 255])\n",
      "resize2_cut_img.size():  torch.Size([3, 80, 248])\n",
      "create_HrLr kernel_path:C:\\SaiVinay\\SproutsAI\\GitHub_\\ir_srgan_otsr\\results_kernels_DIV2K\\0437\\0437_kernel_x4.mat\n",
      "scale_factor:  [0.125, 0.125, 1]\n",
      "output_shape:  [ 81 255   3]\n",
      "im.shape:  (648, 2040, 3)\n"
     ]
    },
    {
     "name": "stderr",
     "output_type": "stream",
     "text": [
      "Resizing images:  55%|█████▍    | 437/800 [1:05:03<45:13,  7.48s/it]"
     ]
    },
    {
     "name": "stdout",
     "output_type": "stream",
     "text": [
      "input_img.size():  torch.Size([3, 1356, 2040])\n",
      "resize2_img.size():  torch.Size([3, 170, 255])\n",
      "resize2_cut_img.size():  torch.Size([3, 168, 248])\n",
      "create_HrLr kernel_path:C:\\SaiVinay\\SproutsAI\\GitHub_\\ir_srgan_otsr\\results_kernels_DIV2K\\0438\\0438_kernel_x4.mat\n",
      "scale_factor:  [0.125, 0.125, 1]\n",
      "output_shape:  [170 255   3]\n",
      "im.shape:  (1356, 2040, 3)\n"
     ]
    },
    {
     "name": "stderr",
     "output_type": "stream",
     "text": [
      "Resizing images:  55%|█████▍    | 438/800 [1:05:11<46:48,  7.76s/it]"
     ]
    },
    {
     "name": "stdout",
     "output_type": "stream",
     "text": [
      "input_img.size():  torch.Size([3, 1392, 2040])\n",
      "resize2_img.size():  torch.Size([3, 174, 255])\n",
      "resize2_cut_img.size():  torch.Size([3, 168, 248])\n",
      "create_HrLr kernel_path:C:\\SaiVinay\\SproutsAI\\GitHub_\\ir_srgan_otsr\\results_kernels_DIV2K\\0439\\0439_kernel_x4.mat\n",
      "scale_factor:  [0.125, 0.125, 1]\n",
      "output_shape:  [174 255   3]\n",
      "im.shape:  (1392, 2040, 3)\n"
     ]
    },
    {
     "name": "stderr",
     "output_type": "stream",
     "text": [
      "Resizing images:  55%|█████▍    | 439/800 [1:05:20<48:26,  8.05s/it]"
     ]
    },
    {
     "name": "stdout",
     "output_type": "stream",
     "text": [
      "input_img.size():  torch.Size([3, 1356, 2040])\n",
      "resize2_img.size():  torch.Size([3, 170, 255])\n",
      "resize2_cut_img.size():  torch.Size([3, 168, 248])\n",
      "create_HrLr kernel_path:C:\\SaiVinay\\SproutsAI\\GitHub_\\ir_srgan_otsr\\results_kernels_DIV2K\\0440\\0440_kernel_x4.mat\n",
      "scale_factor:  [0.125, 0.125, 1]\n",
      "output_shape:  [170 255   3]\n",
      "im.shape:  (1356, 2040, 3)\n"
     ]
    },
    {
     "name": "stderr",
     "output_type": "stream",
     "text": [
      "Resizing images:  55%|█████▌    | 440/800 [1:05:29<49:03,  8.18s/it]"
     ]
    },
    {
     "name": "stdout",
     "output_type": "stream",
     "text": [
      "input_img.size():  torch.Size([3, 1188, 2040])\n",
      "resize2_img.size():  torch.Size([3, 149, 255])\n",
      "resize2_cut_img.size():  torch.Size([3, 144, 248])\n",
      "create_HrLr kernel_path:C:\\SaiVinay\\SproutsAI\\GitHub_\\ir_srgan_otsr\\results_kernels_DIV2K\\0441\\0441_kernel_x4.mat\n",
      "scale_factor:  [0.125, 0.125, 1]\n",
      "output_shape:  [149 255   3]\n",
      "im.shape:  (1188, 2040, 3)\n"
     ]
    },
    {
     "name": "stderr",
     "output_type": "stream",
     "text": [
      "Resizing images:  55%|█████▌    | 441/800 [1:05:36<47:36,  7.96s/it]"
     ]
    },
    {
     "name": "stdout",
     "output_type": "stream",
     "text": [
      "input_img.size():  torch.Size([3, 1356, 2040])\n",
      "resize2_img.size():  torch.Size([3, 170, 255])\n",
      "resize2_cut_img.size():  torch.Size([3, 168, 248])\n",
      "create_HrLr kernel_path:C:\\SaiVinay\\SproutsAI\\GitHub_\\ir_srgan_otsr\\results_kernels_DIV2K\\0442\\0442_kernel_x4.mat\n",
      "scale_factor:  [0.125, 0.125, 1]\n",
      "output_shape:  [170 255   3]\n",
      "im.shape:  (1356, 2040, 3)\n"
     ]
    },
    {
     "name": "stderr",
     "output_type": "stream",
     "text": [
      "Resizing images:  55%|█████▌    | 442/800 [1:05:45<49:14,  8.25s/it]"
     ]
    },
    {
     "name": "stdout",
     "output_type": "stream",
     "text": [
      "input_img.size():  torch.Size([3, 1356, 2040])\n",
      "resize2_img.size():  torch.Size([3, 170, 255])\n",
      "resize2_cut_img.size():  torch.Size([3, 168, 248])\n",
      "create_HrLr kernel_path:C:\\SaiVinay\\SproutsAI\\GitHub_\\ir_srgan_otsr\\results_kernels_DIV2K\\0443\\0443_kernel_x4.mat\n",
      "scale_factor:  [0.125, 0.125, 1]\n",
      "output_shape:  [170 255   3]\n",
      "im.shape:  (1356, 2040, 3)\n"
     ]
    },
    {
     "name": "stderr",
     "output_type": "stream",
     "text": [
      "Resizing images:  55%|█████▌    | 443/800 [1:05:53<48:53,  8.22s/it]"
     ]
    },
    {
     "name": "stdout",
     "output_type": "stream",
     "text": [
      "input_img.size():  torch.Size([3, 1356, 2040])\n",
      "resize2_img.size():  torch.Size([3, 170, 255])\n",
      "resize2_cut_img.size():  torch.Size([3, 168, 248])\n",
      "create_HrLr kernel_path:C:\\SaiVinay\\SproutsAI\\GitHub_\\ir_srgan_otsr\\results_kernels_DIV2K\\0444\\0444_kernel_x4.mat\n",
      "scale_factor:  [0.125, 0.125, 1]\n",
      "output_shape:  [170 255   3]\n",
      "im.shape:  (1356, 2040, 3)\n"
     ]
    },
    {
     "name": "stderr",
     "output_type": "stream",
     "text": [
      "Resizing images:  56%|█████▌    | 444/800 [1:06:02<49:44,  8.38s/it]"
     ]
    },
    {
     "name": "stdout",
     "output_type": "stream",
     "text": [
      "input_img.size():  torch.Size([3, 1356, 2040])\n",
      "resize2_img.size():  torch.Size([3, 170, 255])\n",
      "resize2_cut_img.size():  torch.Size([3, 168, 248])\n",
      "create_HrLr kernel_path:C:\\SaiVinay\\SproutsAI\\GitHub_\\ir_srgan_otsr\\results_kernels_DIV2K\\0445\\0445_kernel_x4.mat\n",
      "scale_factor:  [0.125, 0.125, 1]\n",
      "output_shape:  [170 255   3]\n",
      "im.shape:  (1356, 2040, 3)\n"
     ]
    },
    {
     "name": "stderr",
     "output_type": "stream",
     "text": [
      "Resizing images:  56%|█████▌    | 445/800 [1:06:11<50:19,  8.51s/it]"
     ]
    },
    {
     "name": "stdout",
     "output_type": "stream",
     "text": [
      "input_img.size():  torch.Size([3, 1356, 2040])\n",
      "resize2_img.size():  torch.Size([3, 170, 255])\n",
      "resize2_cut_img.size():  torch.Size([3, 168, 248])\n",
      "create_HrLr kernel_path:C:\\SaiVinay\\SproutsAI\\GitHub_\\ir_srgan_otsr\\results_kernels_DIV2K\\0446\\0446_kernel_x4.mat\n",
      "scale_factor:  [0.125, 0.125, 1]\n",
      "output_shape:  [170 255   3]\n",
      "im.shape:  (1356, 2040, 3)\n"
     ]
    },
    {
     "name": "stderr",
     "output_type": "stream",
     "text": [
      "Resizing images:  56%|█████▌    | 446/800 [1:06:19<50:03,  8.48s/it]"
     ]
    },
    {
     "name": "stdout",
     "output_type": "stream",
     "text": [
      "input_img.size():  torch.Size([3, 1692, 2040])\n",
      "resize2_img.size():  torch.Size([3, 212, 255])\n",
      "resize2_cut_img.size():  torch.Size([3, 208, 248])\n",
      "create_HrLr kernel_path:C:\\SaiVinay\\SproutsAI\\GitHub_\\ir_srgan_otsr\\results_kernels_DIV2K\\0447\\0447_kernel_x4.mat\n",
      "scale_factor:  [0.125, 0.125, 1]\n",
      "output_shape:  [212 255   3]\n",
      "im.shape:  (1692, 2040, 3)\n"
     ]
    },
    {
     "name": "stderr",
     "output_type": "stream",
     "text": [
      "Resizing images:  56%|█████▌    | 447/800 [1:06:30<54:26,  9.25s/it]"
     ]
    },
    {
     "name": "stdout",
     "output_type": "stream",
     "text": [
      "input_img.size():  torch.Size([3, 1536, 2040])\n",
      "resize2_img.size():  torch.Size([3, 192, 255])\n",
      "resize2_cut_img.size():  torch.Size([3, 192, 248])\n",
      "create_HrLr kernel_path:C:\\SaiVinay\\SproutsAI\\GitHub_\\ir_srgan_otsr\\results_kernels_DIV2K\\0448\\0448_kernel_x4.mat\n",
      "scale_factor:  [0.125, 0.125, 1]\n",
      "output_shape:  [192 255   3]\n",
      "im.shape:  (1536, 2040, 3)\n"
     ]
    },
    {
     "name": "stderr",
     "output_type": "stream",
     "text": [
      "Resizing images:  56%|█████▌    | 448/800 [1:06:40<55:19,  9.43s/it]"
     ]
    },
    {
     "name": "stdout",
     "output_type": "stream",
     "text": [
      "input_img.size():  torch.Size([3, 2040, 1368])\n",
      "resize2_img.size():  torch.Size([3, 255, 171])\n",
      "resize2_cut_img.size():  torch.Size([3, 248, 168])\n",
      "create_HrLr kernel_path:C:\\SaiVinay\\SproutsAI\\GitHub_\\ir_srgan_otsr\\results_kernels_DIV2K\\0449\\0449_kernel_x4.mat\n",
      "scale_factor:  [0.125, 0.125, 1]\n",
      "output_shape:  [255 171   3]\n",
      "im.shape:  (2040, 1368, 3)\n"
     ]
    },
    {
     "name": "stderr",
     "output_type": "stream",
     "text": [
      "Resizing images:  56%|█████▌    | 449/800 [1:06:49<54:15,  9.28s/it]"
     ]
    },
    {
     "name": "stdout",
     "output_type": "stream",
     "text": [
      "input_img.size():  torch.Size([3, 2040, 2040])\n",
      "resize2_img.size():  torch.Size([3, 255, 255])\n",
      "resize2_cut_img.size():  torch.Size([3, 248, 248])\n",
      "create_HrLr kernel_path:C:\\SaiVinay\\SproutsAI\\GitHub_\\ir_srgan_otsr\\results_kernels_DIV2K\\0450\\0450_kernel_x4.mat\n",
      "scale_factor:  [0.125, 0.125, 1]\n",
      "output_shape:  [255 255   3]\n",
      "im.shape:  (2040, 2040, 3)\n"
     ]
    },
    {
     "name": "stderr",
     "output_type": "stream",
     "text": [
      "Resizing images:  56%|█████▋    | 450/800 [1:07:02<1:00:39, 10.40s/it]"
     ]
    },
    {
     "name": "stdout",
     "output_type": "stream",
     "text": [
      "input_img.size():  torch.Size([3, 2040, 1356])\n",
      "resize2_img.size():  torch.Size([3, 255, 170])\n",
      "resize2_cut_img.size():  torch.Size([3, 248, 168])\n",
      "create_HrLr kernel_path:C:\\SaiVinay\\SproutsAI\\GitHub_\\ir_srgan_otsr\\results_kernels_DIV2K\\0451\\0451_kernel_x4.mat\n",
      "scale_factor:  [0.125, 0.125, 1]\n",
      "output_shape:  [255 170   3]\n",
      "im.shape:  (2040, 1356, 3)\n"
     ]
    },
    {
     "name": "stderr",
     "output_type": "stream",
     "text": [
      "Resizing images:  56%|█████▋    | 451/800 [1:07:11<57:23,  9.87s/it]  "
     ]
    },
    {
     "name": "stdout",
     "output_type": "stream",
     "text": [
      "input_img.size():  torch.Size([3, 1428, 2040])\n",
      "resize2_img.size():  torch.Size([3, 179, 255])\n",
      "resize2_cut_img.size():  torch.Size([3, 176, 248])\n",
      "create_HrLr kernel_path:C:\\SaiVinay\\SproutsAI\\GitHub_\\ir_srgan_otsr\\results_kernels_DIV2K\\0452\\0452_kernel_x4.mat\n",
      "scale_factor:  [0.125, 0.125, 1]\n",
      "output_shape:  [179 255   3]\n",
      "im.shape:  (1428, 2040, 3)\n"
     ]
    },
    {
     "name": "stderr",
     "output_type": "stream",
     "text": [
      "Resizing images:  56%|█████▋    | 452/800 [1:07:19<55:26,  9.56s/it]"
     ]
    },
    {
     "name": "stdout",
     "output_type": "stream",
     "text": [
      "input_img.size():  torch.Size([3, 1536, 2040])\n",
      "resize2_img.size():  torch.Size([3, 192, 255])\n",
      "resize2_cut_img.size():  torch.Size([3, 192, 248])\n",
      "create_HrLr kernel_path:C:\\SaiVinay\\SproutsAI\\GitHub_\\ir_srgan_otsr\\results_kernels_DIV2K\\0453\\0453_kernel_x4.mat\n",
      "scale_factor:  [0.125, 0.125, 1]\n",
      "output_shape:  [192 255   3]\n",
      "im.shape:  (1536, 2040, 3)\n"
     ]
    },
    {
     "name": "stderr",
     "output_type": "stream",
     "text": [
      "Resizing images:  57%|█████▋    | 453/800 [1:07:29<55:54,  9.67s/it]"
     ]
    },
    {
     "name": "stdout",
     "output_type": "stream",
     "text": [
      "input_img.size():  torch.Size([3, 1356, 2040])\n",
      "resize2_img.size():  torch.Size([3, 170, 255])\n",
      "resize2_cut_img.size():  torch.Size([3, 168, 248])\n",
      "create_HrLr kernel_path:C:\\SaiVinay\\SproutsAI\\GitHub_\\ir_srgan_otsr\\results_kernels_DIV2K\\0454\\0454_kernel_x4.mat\n",
      "scale_factor:  [0.125, 0.125, 1]\n",
      "output_shape:  [170 255   3]\n",
      "im.shape:  (1356, 2040, 3)\n"
     ]
    },
    {
     "name": "stderr",
     "output_type": "stream",
     "text": [
      "Resizing images:  57%|█████▋    | 454/800 [1:07:38<54:11,  9.40s/it]"
     ]
    },
    {
     "name": "stdout",
     "output_type": "stream",
     "text": [
      "input_img.size():  torch.Size([3, 1128, 2040])\n",
      "resize2_img.size():  torch.Size([3, 141, 255])\n",
      "resize2_cut_img.size():  torch.Size([3, 136, 248])\n",
      "create_HrLr kernel_path:C:\\SaiVinay\\SproutsAI\\GitHub_\\ir_srgan_otsr\\results_kernels_DIV2K\\0455\\0455_kernel_x4.mat\n",
      "scale_factor:  [0.125, 0.125, 1]\n",
      "output_shape:  [141 255   3]\n",
      "im.shape:  (1128, 2040, 3)\n"
     ]
    },
    {
     "name": "stderr",
     "output_type": "stream",
     "text": [
      "Resizing images:  57%|█████▋    | 455/800 [1:07:45<50:04,  8.71s/it]"
     ]
    },
    {
     "name": "stdout",
     "output_type": "stream",
     "text": [
      "input_img.size():  torch.Size([3, 1356, 2040])\n",
      "resize2_img.size():  torch.Size([3, 170, 255])\n",
      "resize2_cut_img.size():  torch.Size([3, 168, 248])\n",
      "create_HrLr kernel_path:C:\\SaiVinay\\SproutsAI\\GitHub_\\ir_srgan_otsr\\results_kernels_DIV2K\\0456\\0456_kernel_x4.mat\n",
      "scale_factor:  [0.125, 0.125, 1]\n",
      "output_shape:  [170 255   3]\n",
      "im.shape:  (1356, 2040, 3)\n"
     ]
    },
    {
     "name": "stderr",
     "output_type": "stream",
     "text": [
      "Resizing images:  57%|█████▋    | 456/800 [1:07:54<50:01,  8.73s/it]"
     ]
    },
    {
     "name": "stdout",
     "output_type": "stream",
     "text": [
      "input_img.size():  torch.Size([3, 2040, 1164])\n",
      "resize2_img.size():  torch.Size([3, 255, 146])\n",
      "resize2_cut_img.size():  torch.Size([3, 248, 144])\n",
      "create_HrLr kernel_path:C:\\SaiVinay\\SproutsAI\\GitHub_\\ir_srgan_otsr\\results_kernels_DIV2K\\0457\\0457_kernel_x4.mat\n",
      "scale_factor:  [0.125, 0.125, 1]\n",
      "output_shape:  [255 146   3]\n",
      "im.shape:  (2040, 1164, 3)\n"
     ]
    },
    {
     "name": "stderr",
     "output_type": "stream",
     "text": [
      "Resizing images:  57%|█████▋    | 457/800 [1:08:01<47:13,  8.26s/it]"
     ]
    },
    {
     "name": "stdout",
     "output_type": "stream",
     "text": [
      "input_img.size():  torch.Size([3, 1356, 2040])\n",
      "resize2_img.size():  torch.Size([3, 170, 255])\n",
      "resize2_cut_img.size():  torch.Size([3, 168, 248])\n",
      "create_HrLr kernel_path:C:\\SaiVinay\\SproutsAI\\GitHub_\\ir_srgan_otsr\\results_kernels_DIV2K\\0458\\0458_kernel_x4.mat\n",
      "scale_factor:  [0.125, 0.125, 1]\n",
      "output_shape:  [170 255   3]\n",
      "im.shape:  (1356, 2040, 3)\n"
     ]
    },
    {
     "name": "stderr",
     "output_type": "stream",
     "text": [
      "Resizing images:  57%|█████▋    | 458/800 [1:08:10<48:06,  8.44s/it]"
     ]
    },
    {
     "name": "stdout",
     "output_type": "stream",
     "text": [
      "input_img.size():  torch.Size([3, 1356, 2040])\n",
      "resize2_img.size():  torch.Size([3, 170, 255])\n",
      "resize2_cut_img.size():  torch.Size([3, 168, 248])\n",
      "create_HrLr kernel_path:C:\\SaiVinay\\SproutsAI\\GitHub_\\ir_srgan_otsr\\results_kernels_DIV2K\\0459\\0459_kernel_x4.mat\n",
      "scale_factor:  [0.125, 0.125, 1]\n",
      "output_shape:  [170 255   3]\n",
      "im.shape:  (1356, 2040, 3)\n"
     ]
    },
    {
     "name": "stderr",
     "output_type": "stream",
     "text": [
      "Resizing images:  57%|█████▋    | 459/800 [1:08:24<56:46,  9.99s/it]"
     ]
    },
    {
     "name": "stdout",
     "output_type": "stream",
     "text": [
      "input_img.size():  torch.Size([3, 2040, 1944])\n",
      "resize2_img.size():  torch.Size([3, 255, 243])\n",
      "resize2_cut_img.size():  torch.Size([3, 248, 240])\n",
      "create_HrLr kernel_path:C:\\SaiVinay\\SproutsAI\\GitHub_\\ir_srgan_otsr\\results_kernels_DIV2K\\0460\\0460_kernel_x4.mat\n",
      "scale_factor:  [0.125, 0.125, 1]\n",
      "output_shape:  [255 243   3]\n",
      "im.shape:  (2040, 1944, 3)\n"
     ]
    },
    {
     "name": "stderr",
     "output_type": "stream",
     "text": [
      "Resizing images:  57%|█████▊    | 460/800 [1:08:36<1:01:21, 10.83s/it]"
     ]
    },
    {
     "name": "stdout",
     "output_type": "stream",
     "text": [
      "input_img.size():  torch.Size([3, 2040, 1440])\n",
      "resize2_img.size():  torch.Size([3, 255, 180])\n",
      "resize2_cut_img.size():  torch.Size([3, 248, 176])\n",
      "create_HrLr kernel_path:C:\\SaiVinay\\SproutsAI\\GitHub_\\ir_srgan_otsr\\results_kernels_DIV2K\\0461\\0461_kernel_x4.mat\n",
      "scale_factor:  [0.125, 0.125, 1]\n",
      "output_shape:  [255 180   3]\n",
      "im.shape:  (2040, 1440, 3)\n"
     ]
    },
    {
     "name": "stderr",
     "output_type": "stream",
     "text": [
      "Resizing images:  58%|█████▊    | 461/800 [1:08:47<1:00:22, 10.69s/it]"
     ]
    },
    {
     "name": "stdout",
     "output_type": "stream",
     "text": [
      "input_img.size():  torch.Size([3, 1356, 2040])\n",
      "resize2_img.size():  torch.Size([3, 170, 255])\n",
      "resize2_cut_img.size():  torch.Size([3, 168, 248])\n",
      "create_HrLr kernel_path:C:\\SaiVinay\\SproutsAI\\GitHub_\\ir_srgan_otsr\\results_kernels_DIV2K\\0462\\0462_kernel_x4.mat\n",
      "scale_factor:  [0.125, 0.125, 1]\n",
      "output_shape:  [170 255   3]\n",
      "im.shape:  (1356, 2040, 3)\n"
     ]
    },
    {
     "name": "stderr",
     "output_type": "stream",
     "text": [
      "Resizing images:  58%|█████▊    | 462/800 [1:08:56<56:55, 10.10s/it]  "
     ]
    },
    {
     "name": "stdout",
     "output_type": "stream",
     "text": [
      "input_img.size():  torch.Size([3, 1368, 2040])\n",
      "resize2_img.size():  torch.Size([3, 171, 255])\n",
      "resize2_cut_img.size():  torch.Size([3, 168, 248])\n",
      "create_HrLr kernel_path:C:\\SaiVinay\\SproutsAI\\GitHub_\\ir_srgan_otsr\\results_kernels_DIV2K\\0463\\0463_kernel_x4.mat\n",
      "scale_factor:  [0.125, 0.125, 1]\n",
      "output_shape:  [171 255   3]\n",
      "im.shape:  (1368, 2040, 3)\n"
     ]
    },
    {
     "name": "stderr",
     "output_type": "stream",
     "text": [
      "Resizing images:  58%|█████▊    | 463/800 [1:09:04<54:28,  9.70s/it]"
     ]
    },
    {
     "name": "stdout",
     "output_type": "stream",
     "text": [
      "input_img.size():  torch.Size([3, 1356, 2040])\n",
      "resize2_img.size():  torch.Size([3, 170, 255])\n",
      "resize2_cut_img.size():  torch.Size([3, 168, 248])\n",
      "create_HrLr kernel_path:C:\\SaiVinay\\SproutsAI\\GitHub_\\ir_srgan_otsr\\results_kernels_DIV2K\\0464\\0464_kernel_x4.mat\n",
      "scale_factor:  [0.125, 0.125, 1]\n",
      "output_shape:  [170 255   3]\n",
      "im.shape:  (1356, 2040, 3)\n"
     ]
    },
    {
     "name": "stderr",
     "output_type": "stream",
     "text": [
      "Resizing images:  58%|█████▊    | 464/800 [1:09:13<52:05,  9.30s/it]"
     ]
    },
    {
     "name": "stdout",
     "output_type": "stream",
     "text": [
      "input_img.size():  torch.Size([3, 1152, 2040])\n",
      "resize2_img.size():  torch.Size([3, 144, 255])\n",
      "resize2_cut_img.size():  torch.Size([3, 144, 248])\n",
      "create_HrLr kernel_path:C:\\SaiVinay\\SproutsAI\\GitHub_\\ir_srgan_otsr\\results_kernels_DIV2K\\0465\\0465_kernel_x4.mat\n",
      "scale_factor:  [0.125, 0.125, 1]\n",
      "output_shape:  [144 255   3]\n",
      "im.shape:  (1152, 2040, 3)\n"
     ]
    },
    {
     "name": "stderr",
     "output_type": "stream",
     "text": [
      "Resizing images:  58%|█████▊    | 465/800 [1:09:21<49:31,  8.87s/it]"
     ]
    },
    {
     "name": "stdout",
     "output_type": "stream",
     "text": [
      "input_img.size():  torch.Size([3, 1356, 2040])\n",
      "resize2_img.size():  torch.Size([3, 170, 255])\n",
      "resize2_cut_img.size():  torch.Size([3, 168, 248])\n",
      "create_HrLr kernel_path:C:\\SaiVinay\\SproutsAI\\GitHub_\\ir_srgan_otsr\\results_kernels_DIV2K\\0466\\0466_kernel_x4.mat\n",
      "scale_factor:  [0.125, 0.125, 1]\n",
      "output_shape:  [170 255   3]\n",
      "im.shape:  (1356, 2040, 3)\n"
     ]
    },
    {
     "name": "stderr",
     "output_type": "stream",
     "text": [
      "Resizing images:  58%|█████▊    | 466/800 [1:09:29<49:09,  8.83s/it]"
     ]
    },
    {
     "name": "stdout",
     "output_type": "stream",
     "text": [
      "input_img.size():  torch.Size([3, 2040, 1356])\n",
      "resize2_img.size():  torch.Size([3, 255, 170])\n",
      "resize2_cut_img.size():  torch.Size([3, 248, 168])\n",
      "create_HrLr kernel_path:C:\\SaiVinay\\SproutsAI\\GitHub_\\ir_srgan_otsr\\results_kernels_DIV2K\\0467\\0467_kernel_x4.mat\n",
      "scale_factor:  [0.125, 0.125, 1]\n",
      "output_shape:  [255 170   3]\n",
      "im.shape:  (2040, 1356, 3)\n"
     ]
    },
    {
     "name": "stderr",
     "output_type": "stream",
     "text": [
      "Resizing images:  58%|█████▊    | 467/800 [1:09:38<49:23,  8.90s/it]"
     ]
    },
    {
     "name": "stdout",
     "output_type": "stream",
     "text": [
      "input_img.size():  torch.Size([3, 1356, 2040])\n",
      "resize2_img.size():  torch.Size([3, 170, 255])\n",
      "resize2_cut_img.size():  torch.Size([3, 168, 248])\n",
      "create_HrLr kernel_path:C:\\SaiVinay\\SproutsAI\\GitHub_\\ir_srgan_otsr\\results_kernels_DIV2K\\0468\\0468_kernel_x4.mat\n",
      "scale_factor:  [0.125, 0.125, 1]\n",
      "output_shape:  [170 255   3]\n",
      "im.shape:  (1356, 2040, 3)\n"
     ]
    },
    {
     "name": "stderr",
     "output_type": "stream",
     "text": [
      "Resizing images:  58%|█████▊    | 468/800 [1:09:47<49:15,  8.90s/it]"
     ]
    },
    {
     "name": "stdout",
     "output_type": "stream",
     "text": [
      "input_img.size():  torch.Size([3, 2040, 1356])\n",
      "resize2_img.size():  torch.Size([3, 255, 170])\n",
      "resize2_cut_img.size():  torch.Size([3, 248, 168])\n",
      "create_HrLr kernel_path:C:\\SaiVinay\\SproutsAI\\GitHub_\\ir_srgan_otsr\\results_kernels_DIV2K\\0469\\0469_kernel_x4.mat\n",
      "scale_factor:  [0.125, 0.125, 1]\n",
      "output_shape:  [255 170   3]\n",
      "im.shape:  (2040, 1356, 3)\n"
     ]
    },
    {
     "name": "stderr",
     "output_type": "stream",
     "text": [
      "Resizing images:  59%|█████▊    | 469/800 [1:09:56<49:26,  8.96s/it]"
     ]
    },
    {
     "name": "stdout",
     "output_type": "stream",
     "text": [
      "input_img.size():  torch.Size([3, 1356, 2040])\n",
      "resize2_img.size():  torch.Size([3, 170, 255])\n",
      "resize2_cut_img.size():  torch.Size([3, 168, 248])\n",
      "create_HrLr kernel_path:C:\\SaiVinay\\SproutsAI\\GitHub_\\ir_srgan_otsr\\results_kernels_DIV2K\\0470\\0470_kernel_x4.mat\n",
      "scale_factor:  [0.125, 0.125, 1]\n",
      "output_shape:  [170 255   3]\n",
      "im.shape:  (1356, 2040, 3)\n"
     ]
    },
    {
     "name": "stderr",
     "output_type": "stream",
     "text": [
      "Resizing images:  59%|█████▉    | 470/800 [1:10:05<48:24,  8.80s/it]"
     ]
    },
    {
     "name": "stdout",
     "output_type": "stream",
     "text": [
      "input_img.size():  torch.Size([3, 1356, 2040])\n",
      "resize2_img.size():  torch.Size([3, 170, 255])\n",
      "resize2_cut_img.size():  torch.Size([3, 168, 248])\n",
      "create_HrLr kernel_path:C:\\SaiVinay\\SproutsAI\\GitHub_\\ir_srgan_otsr\\results_kernels_DIV2K\\0471\\0471_kernel_x4.mat\n",
      "scale_factor:  [0.125, 0.125, 1]\n",
      "output_shape:  [170 255   3]\n",
      "im.shape:  (1356, 2040, 3)\n"
     ]
    },
    {
     "name": "stderr",
     "output_type": "stream",
     "text": [
      "Resizing images:  59%|█████▉    | 471/800 [1:10:13<47:34,  8.68s/it]"
     ]
    },
    {
     "name": "stdout",
     "output_type": "stream",
     "text": [
      "input_img.size():  torch.Size([3, 1356, 2040])\n",
      "resize2_img.size():  torch.Size([3, 170, 255])\n",
      "resize2_cut_img.size():  torch.Size([3, 168, 248])\n",
      "create_HrLr kernel_path:C:\\SaiVinay\\SproutsAI\\GitHub_\\ir_srgan_otsr\\results_kernels_DIV2K\\0472\\0472_kernel_x4.mat\n",
      "scale_factor:  [0.125, 0.125, 1]\n",
      "output_shape:  [170 255   3]\n",
      "im.shape:  (1356, 2040, 3)\n"
     ]
    },
    {
     "name": "stderr",
     "output_type": "stream",
     "text": [
      "Resizing images:  59%|█████▉    | 472/800 [1:10:22<47:21,  8.66s/it]"
     ]
    },
    {
     "name": "stdout",
     "output_type": "stream",
     "text": [
      "input_img.size():  torch.Size([3, 1356, 2040])\n",
      "resize2_img.size():  torch.Size([3, 170, 255])\n",
      "resize2_cut_img.size():  torch.Size([3, 168, 248])\n",
      "create_HrLr kernel_path:C:\\SaiVinay\\SproutsAI\\GitHub_\\ir_srgan_otsr\\results_kernels_DIV2K\\0473\\0473_kernel_x4.mat\n",
      "scale_factor:  [0.125, 0.125, 1]\n",
      "output_shape:  [170 255   3]\n",
      "im.shape:  (1356, 2040, 3)\n"
     ]
    },
    {
     "name": "stderr",
     "output_type": "stream",
     "text": [
      "Resizing images:  59%|█████▉    | 473/800 [1:10:31<47:50,  8.78s/it]"
     ]
    },
    {
     "name": "stdout",
     "output_type": "stream",
     "text": [
      "input_img.size():  torch.Size([3, 1356, 2040])\n",
      "resize2_img.size():  torch.Size([3, 170, 255])\n",
      "resize2_cut_img.size():  torch.Size([3, 168, 248])\n",
      "create_HrLr kernel_path:C:\\SaiVinay\\SproutsAI\\GitHub_\\ir_srgan_otsr\\results_kernels_DIV2K\\0474\\0474_kernel_x4.mat\n",
      "scale_factor:  [0.125, 0.125, 1]\n",
      "output_shape:  [170 255   3]\n",
      "im.shape:  (1356, 2040, 3)\n"
     ]
    },
    {
     "name": "stderr",
     "output_type": "stream",
     "text": [
      "Resizing images:  59%|█████▉    | 474/800 [1:10:40<48:00,  8.84s/it]"
     ]
    },
    {
     "name": "stdout",
     "output_type": "stream",
     "text": [
      "input_img.size():  torch.Size([3, 1356, 2040])\n",
      "resize2_img.size():  torch.Size([3, 170, 255])\n",
      "resize2_cut_img.size():  torch.Size([3, 168, 248])\n",
      "create_HrLr kernel_path:C:\\SaiVinay\\SproutsAI\\GitHub_\\ir_srgan_otsr\\results_kernels_DIV2K\\0475\\0475_kernel_x4.mat\n",
      "scale_factor:  [0.125, 0.125, 1]\n",
      "output_shape:  [170 255   3]\n",
      "im.shape:  (1356, 2040, 3)\n"
     ]
    },
    {
     "name": "stderr",
     "output_type": "stream",
     "text": [
      "Resizing images:  59%|█████▉    | 475/800 [1:10:48<47:26,  8.76s/it]"
     ]
    },
    {
     "name": "stdout",
     "output_type": "stream",
     "text": [
      "input_img.size():  torch.Size([3, 1452, 2040])\n",
      "resize2_img.size():  torch.Size([3, 182, 255])\n",
      "resize2_cut_img.size():  torch.Size([3, 176, 248])\n",
      "create_HrLr kernel_path:C:\\SaiVinay\\SproutsAI\\GitHub_\\ir_srgan_otsr\\results_kernels_DIV2K\\0476\\0476_kernel_x4.mat\n",
      "scale_factor:  [0.125, 0.125, 1]\n",
      "output_shape:  [182 255   3]\n",
      "im.shape:  (1452, 2040, 3)\n"
     ]
    },
    {
     "name": "stderr",
     "output_type": "stream",
     "text": [
      "Resizing images:  60%|█████▉    | 476/800 [1:10:57<47:39,  8.82s/it]"
     ]
    },
    {
     "name": "stdout",
     "output_type": "stream",
     "text": [
      "input_img.size():  torch.Size([3, 1356, 2040])\n",
      "resize2_img.size():  torch.Size([3, 170, 255])\n",
      "resize2_cut_img.size():  torch.Size([3, 168, 248])\n",
      "create_HrLr kernel_path:C:\\SaiVinay\\SproutsAI\\GitHub_\\ir_srgan_otsr\\results_kernels_DIV2K\\0477\\0477_kernel_x4.mat\n",
      "scale_factor:  [0.125, 0.125, 1]\n",
      "output_shape:  [170 255   3]\n",
      "im.shape:  (1356, 2040, 3)\n"
     ]
    },
    {
     "name": "stderr",
     "output_type": "stream",
     "text": [
      "Resizing images:  60%|█████▉    | 477/800 [1:11:06<47:55,  8.90s/it]"
     ]
    },
    {
     "name": "stdout",
     "output_type": "stream",
     "text": [
      "input_img.size():  torch.Size([3, 1356, 2040])\n",
      "resize2_img.size():  torch.Size([3, 170, 255])\n",
      "resize2_cut_img.size():  torch.Size([3, 168, 248])\n",
      "create_HrLr kernel_path:C:\\SaiVinay\\SproutsAI\\GitHub_\\ir_srgan_otsr\\results_kernels_DIV2K\\0478\\0478_kernel_x4.mat\n",
      "scale_factor:  [0.125, 0.125, 1]\n",
      "output_shape:  [170 255   3]\n",
      "im.shape:  (1356, 2040, 3)\n"
     ]
    },
    {
     "name": "stderr",
     "output_type": "stream",
     "text": [
      "Resizing images:  60%|█████▉    | 478/800 [1:11:15<46:44,  8.71s/it]"
     ]
    },
    {
     "name": "stdout",
     "output_type": "stream",
     "text": [
      "input_img.size():  torch.Size([3, 1356, 2040])\n",
      "resize2_img.size():  torch.Size([3, 170, 255])\n",
      "resize2_cut_img.size():  torch.Size([3, 168, 248])\n",
      "create_HrLr kernel_path:C:\\SaiVinay\\SproutsAI\\GitHub_\\ir_srgan_otsr\\results_kernels_DIV2K\\0479\\0479_kernel_x4.mat\n",
      "scale_factor:  [0.125, 0.125, 1]\n",
      "output_shape:  [170 255   3]\n",
      "im.shape:  (1356, 2040, 3)\n"
     ]
    },
    {
     "name": "stderr",
     "output_type": "stream",
     "text": [
      "Resizing images:  60%|█████▉    | 479/800 [1:11:23<46:21,  8.67s/it]"
     ]
    },
    {
     "name": "stdout",
     "output_type": "stream",
     "text": [
      "input_img.size():  torch.Size([3, 1356, 2040])\n",
      "resize2_img.size():  torch.Size([3, 170, 255])\n",
      "resize2_cut_img.size():  torch.Size([3, 168, 248])\n",
      "create_HrLr kernel_path:C:\\SaiVinay\\SproutsAI\\GitHub_\\ir_srgan_otsr\\results_kernels_DIV2K\\0480\\0480_kernel_x4.mat\n",
      "scale_factor:  [0.125, 0.125, 1]\n",
      "output_shape:  [170 255   3]\n",
      "im.shape:  (1356, 2040, 3)\n"
     ]
    },
    {
     "name": "stderr",
     "output_type": "stream",
     "text": [
      "Resizing images:  60%|██████    | 480/800 [1:11:32<46:39,  8.75s/it]"
     ]
    },
    {
     "name": "stdout",
     "output_type": "stream",
     "text": [
      "input_img.size():  torch.Size([3, 1368, 2040])\n",
      "resize2_img.size():  torch.Size([3, 171, 255])\n",
      "resize2_cut_img.size():  torch.Size([3, 168, 248])\n",
      "create_HrLr kernel_path:C:\\SaiVinay\\SproutsAI\\GitHub_\\ir_srgan_otsr\\results_kernels_DIV2K\\0481\\0481_kernel_x4.mat\n",
      "scale_factor:  [0.125, 0.125, 1]\n",
      "output_shape:  [171 255   3]\n",
      "im.shape:  (1368, 2040, 3)\n"
     ]
    },
    {
     "name": "stderr",
     "output_type": "stream",
     "text": [
      "Resizing images:  60%|██████    | 481/800 [1:11:41<46:42,  8.79s/it]"
     ]
    },
    {
     "name": "stdout",
     "output_type": "stream",
     "text": [
      "input_img.size():  torch.Size([3, 1488, 2040])\n",
      "resize2_img.size():  torch.Size([3, 186, 255])\n",
      "resize2_cut_img.size():  torch.Size([3, 184, 248])\n",
      "create_HrLr kernel_path:C:\\SaiVinay\\SproutsAI\\GitHub_\\ir_srgan_otsr\\results_kernels_DIV2K\\0482\\0482_kernel_x4.mat\n",
      "scale_factor:  [0.125, 0.125, 1]\n",
      "output_shape:  [186 255   3]\n",
      "im.shape:  (1488, 2040, 3)\n"
     ]
    },
    {
     "name": "stderr",
     "output_type": "stream",
     "text": [
      "Resizing images:  60%|██████    | 482/800 [1:11:51<47:42,  9.00s/it]"
     ]
    },
    {
     "name": "stdout",
     "output_type": "stream",
     "text": [
      "input_img.size():  torch.Size([3, 1356, 2040])\n",
      "resize2_img.size():  torch.Size([3, 170, 255])\n",
      "resize2_cut_img.size():  torch.Size([3, 168, 248])\n",
      "create_HrLr kernel_path:C:\\SaiVinay\\SproutsAI\\GitHub_\\ir_srgan_otsr\\results_kernels_DIV2K\\0483\\0483_kernel_x4.mat\n",
      "scale_factor:  [0.125, 0.125, 1]\n",
      "output_shape:  [170 255   3]\n",
      "im.shape:  (1356, 2040, 3)\n"
     ]
    },
    {
     "name": "stderr",
     "output_type": "stream",
     "text": [
      "Resizing images:  60%|██████    | 483/800 [1:12:00<47:40,  9.02s/it]"
     ]
    },
    {
     "name": "stdout",
     "output_type": "stream",
     "text": [
      "input_img.size():  torch.Size([3, 1356, 2040])\n",
      "resize2_img.size():  torch.Size([3, 170, 255])\n",
      "resize2_cut_img.size():  torch.Size([3, 168, 248])\n",
      "create_HrLr kernel_path:C:\\SaiVinay\\SproutsAI\\GitHub_\\ir_srgan_otsr\\results_kernels_DIV2K\\0484\\0484_kernel_x4.mat\n",
      "scale_factor:  [0.125, 0.125, 1]\n",
      "output_shape:  [170 255   3]\n",
      "im.shape:  (1356, 2040, 3)\n"
     ]
    },
    {
     "name": "stderr",
     "output_type": "stream",
     "text": [
      "Resizing images:  60%|██████    | 484/800 [1:12:08<46:56,  8.91s/it]"
     ]
    },
    {
     "name": "stdout",
     "output_type": "stream",
     "text": [
      "input_img.size():  torch.Size([3, 1356, 2040])\n",
      "resize2_img.size():  torch.Size([3, 170, 255])\n",
      "resize2_cut_img.size():  torch.Size([3, 168, 248])\n",
      "create_HrLr kernel_path:C:\\SaiVinay\\SproutsAI\\GitHub_\\ir_srgan_otsr\\results_kernels_DIV2K\\0485\\0485_kernel_x4.mat\n",
      "scale_factor:  [0.125, 0.125, 1]\n",
      "output_shape:  [170 255   3]\n",
      "im.shape:  (1356, 2040, 3)\n"
     ]
    },
    {
     "name": "stderr",
     "output_type": "stream",
     "text": [
      "Resizing images:  61%|██████    | 485/800 [1:12:17<46:04,  8.78s/it]"
     ]
    },
    {
     "name": "stdout",
     "output_type": "stream",
     "text": [
      "input_img.size():  torch.Size([3, 1536, 2040])\n",
      "resize2_img.size():  torch.Size([3, 192, 255])\n",
      "resize2_cut_img.size():  torch.Size([3, 192, 248])\n",
      "create_HrLr kernel_path:C:\\SaiVinay\\SproutsAI\\GitHub_\\ir_srgan_otsr\\results_kernels_DIV2K\\0486\\0486_kernel_x4.mat\n",
      "scale_factor:  [0.125, 0.125, 1]\n",
      "output_shape:  [192 255   3]\n",
      "im.shape:  (1536, 2040, 3)\n"
     ]
    },
    {
     "name": "stderr",
     "output_type": "stream",
     "text": [
      "Resizing images:  61%|██████    | 486/800 [1:12:27<48:14,  9.22s/it]"
     ]
    },
    {
     "name": "stdout",
     "output_type": "stream",
     "text": [
      "input_img.size():  torch.Size([3, 1356, 2040])\n",
      "resize2_img.size():  torch.Size([3, 170, 255])\n",
      "resize2_cut_img.size():  torch.Size([3, 168, 248])\n",
      "create_HrLr kernel_path:C:\\SaiVinay\\SproutsAI\\GitHub_\\ir_srgan_otsr\\results_kernels_DIV2K\\0487\\0487_kernel_x4.mat\n",
      "scale_factor:  [0.125, 0.125, 1]\n",
      "output_shape:  [170 255   3]\n",
      "im.shape:  (1356, 2040, 3)\n"
     ]
    },
    {
     "name": "stderr",
     "output_type": "stream",
     "text": [
      "Resizing images:  61%|██████    | 487/800 [1:12:35<46:46,  8.97s/it]"
     ]
    },
    {
     "name": "stdout",
     "output_type": "stream",
     "text": [
      "input_img.size():  torch.Size([3, 2040, 1356])\n",
      "resize2_img.size():  torch.Size([3, 255, 170])\n",
      "resize2_cut_img.size():  torch.Size([3, 248, 168])\n",
      "create_HrLr kernel_path:C:\\SaiVinay\\SproutsAI\\GitHub_\\ir_srgan_otsr\\results_kernels_DIV2K\\0488\\0488_kernel_x4.mat\n",
      "scale_factor:  [0.125, 0.125, 1]\n",
      "output_shape:  [255 170   3]\n",
      "im.shape:  (2040, 1356, 3)\n"
     ]
    },
    {
     "name": "stderr",
     "output_type": "stream",
     "text": [
      "Resizing images:  61%|██████    | 488/800 [1:12:45<46:55,  9.03s/it]"
     ]
    },
    {
     "name": "stdout",
     "output_type": "stream",
     "text": [
      "input_img.size():  torch.Size([3, 1536, 2040])\n",
      "resize2_img.size():  torch.Size([3, 192, 255])\n",
      "resize2_cut_img.size():  torch.Size([3, 192, 248])\n",
      "create_HrLr kernel_path:C:\\SaiVinay\\SproutsAI\\GitHub_\\ir_srgan_otsr\\results_kernels_DIV2K\\0489\\0489_kernel_x4.mat\n",
      "scale_factor:  [0.125, 0.125, 1]\n",
      "output_shape:  [192 255   3]\n",
      "im.shape:  (1536, 2040, 3)\n"
     ]
    },
    {
     "name": "stderr",
     "output_type": "stream",
     "text": [
      "Resizing images:  61%|██████    | 489/800 [1:12:55<48:39,  9.39s/it]"
     ]
    },
    {
     "name": "stdout",
     "output_type": "stream",
     "text": [
      "input_img.size():  torch.Size([3, 1356, 2040])\n",
      "resize2_img.size():  torch.Size([3, 170, 255])\n",
      "resize2_cut_img.size():  torch.Size([3, 168, 248])\n",
      "create_HrLr kernel_path:C:\\SaiVinay\\SproutsAI\\GitHub_\\ir_srgan_otsr\\results_kernels_DIV2K\\0490\\0490_kernel_x4.mat\n",
      "scale_factor:  [0.125, 0.125, 1]\n",
      "output_shape:  [170 255   3]\n",
      "im.shape:  (1356, 2040, 3)\n"
     ]
    },
    {
     "name": "stderr",
     "output_type": "stream",
     "text": [
      "Resizing images:  61%|██████▏   | 490/800 [1:13:03<47:08,  9.12s/it]"
     ]
    },
    {
     "name": "stdout",
     "output_type": "stream",
     "text": [
      "input_img.size():  torch.Size([3, 1368, 2040])\n",
      "resize2_img.size():  torch.Size([3, 171, 255])\n",
      "resize2_cut_img.size():  torch.Size([3, 168, 248])\n",
      "create_HrLr kernel_path:C:\\SaiVinay\\SproutsAI\\GitHub_\\ir_srgan_otsr\\results_kernels_DIV2K\\0491\\0491_kernel_x4.mat\n",
      "scale_factor:  [0.125, 0.125, 1]\n",
      "output_shape:  [171 255   3]\n",
      "im.shape:  (1368, 2040, 3)\n"
     ]
    },
    {
     "name": "stderr",
     "output_type": "stream",
     "text": [
      "Resizing images:  61%|██████▏   | 491/800 [1:13:12<45:44,  8.88s/it]"
     ]
    },
    {
     "name": "stdout",
     "output_type": "stream",
     "text": [
      "input_img.size():  torch.Size([3, 1356, 2040])\n",
      "resize2_img.size():  torch.Size([3, 170, 255])\n",
      "resize2_cut_img.size():  torch.Size([3, 168, 248])\n",
      "create_HrLr kernel_path:C:\\SaiVinay\\SproutsAI\\GitHub_\\ir_srgan_otsr\\results_kernels_DIV2K\\0492\\0492_kernel_x4.mat\n",
      "scale_factor:  [0.125, 0.125, 1]\n",
      "output_shape:  [170 255   3]\n",
      "im.shape:  (1356, 2040, 3)\n"
     ]
    },
    {
     "name": "stderr",
     "output_type": "stream",
     "text": [
      "Resizing images:  62%|██████▏   | 492/800 [1:13:20<45:06,  8.79s/it]"
     ]
    },
    {
     "name": "stdout",
     "output_type": "stream",
     "text": [
      "input_img.size():  torch.Size([3, 1356, 2040])\n",
      "resize2_img.size():  torch.Size([3, 170, 255])\n",
      "resize2_cut_img.size():  torch.Size([3, 168, 248])\n",
      "create_HrLr kernel_path:C:\\SaiVinay\\SproutsAI\\GitHub_\\ir_srgan_otsr\\results_kernels_DIV2K\\0493\\0493_kernel_x4.mat\n",
      "scale_factor:  [0.125, 0.125, 1]\n",
      "output_shape:  [170 255   3]\n",
      "im.shape:  (1356, 2040, 3)\n"
     ]
    },
    {
     "name": "stderr",
     "output_type": "stream",
     "text": [
      "Resizing images:  62%|██████▏   | 493/800 [1:13:29<44:35,  8.72s/it]"
     ]
    },
    {
     "name": "stdout",
     "output_type": "stream",
     "text": [
      "input_img.size():  torch.Size([3, 1356, 2040])\n",
      "resize2_img.size():  torch.Size([3, 170, 255])\n",
      "resize2_cut_img.size():  torch.Size([3, 168, 248])\n",
      "create_HrLr kernel_path:C:\\SaiVinay\\SproutsAI\\GitHub_\\ir_srgan_otsr\\results_kernels_DIV2K\\0494\\0494_kernel_x4.mat\n",
      "scale_factor:  [0.125, 0.125, 1]\n",
      "output_shape:  [170 255   3]\n",
      "im.shape:  (1356, 2040, 3)\n"
     ]
    },
    {
     "name": "stderr",
     "output_type": "stream",
     "text": [
      "Resizing images:  62%|██████▏   | 494/800 [1:13:38<44:53,  8.80s/it]"
     ]
    },
    {
     "name": "stdout",
     "output_type": "stream",
     "text": [
      "input_img.size():  torch.Size([3, 1356, 2040])\n",
      "resize2_img.size():  torch.Size([3, 170, 255])\n",
      "resize2_cut_img.size():  torch.Size([3, 168, 248])\n",
      "create_HrLr kernel_path:C:\\SaiVinay\\SproutsAI\\GitHub_\\ir_srgan_otsr\\results_kernels_DIV2K\\0495\\0495_kernel_x4.mat\n",
      "scale_factor:  [0.125, 0.125, 1]\n",
      "output_shape:  [170 255   3]\n",
      "im.shape:  (1356, 2040, 3)\n"
     ]
    },
    {
     "name": "stderr",
     "output_type": "stream",
     "text": [
      "Resizing images:  62%|██████▏   | 495/800 [1:13:47<45:15,  8.90s/it]"
     ]
    },
    {
     "name": "stdout",
     "output_type": "stream",
     "text": [
      "input_img.size():  torch.Size([3, 1356, 2040])\n",
      "resize2_img.size():  torch.Size([3, 170, 255])\n",
      "resize2_cut_img.size():  torch.Size([3, 168, 248])\n",
      "create_HrLr kernel_path:C:\\SaiVinay\\SproutsAI\\GitHub_\\ir_srgan_otsr\\results_kernels_DIV2K\\0496\\0496_kernel_x4.mat\n",
      "scale_factor:  [0.125, 0.125, 1]\n",
      "output_shape:  [170 255   3]\n",
      "im.shape:  (1356, 2040, 3)\n"
     ]
    },
    {
     "name": "stderr",
     "output_type": "stream",
     "text": [
      "Resizing images:  62%|██████▏   | 496/800 [1:13:56<45:30,  8.98s/it]"
     ]
    },
    {
     "name": "stdout",
     "output_type": "stream",
     "text": [
      "input_img.size():  torch.Size([3, 1356, 2040])\n",
      "resize2_img.size():  torch.Size([3, 170, 255])\n",
      "resize2_cut_img.size():  torch.Size([3, 168, 248])\n",
      "create_HrLr kernel_path:C:\\SaiVinay\\SproutsAI\\GitHub_\\ir_srgan_otsr\\results_kernels_DIV2K\\0497\\0497_kernel_x4.mat\n",
      "scale_factor:  [0.125, 0.125, 1]\n",
      "output_shape:  [170 255   3]\n",
      "im.shape:  (1356, 2040, 3)\n"
     ]
    },
    {
     "name": "stderr",
     "output_type": "stream",
     "text": [
      "Resizing images:  62%|██████▏   | 497/800 [1:14:04<44:11,  8.75s/it]"
     ]
    },
    {
     "name": "stdout",
     "output_type": "stream",
     "text": [
      "input_img.size():  torch.Size([3, 1356, 2040])\n",
      "resize2_img.size():  torch.Size([3, 170, 255])\n",
      "resize2_cut_img.size():  torch.Size([3, 168, 248])\n",
      "create_HrLr kernel_path:C:\\SaiVinay\\SproutsAI\\GitHub_\\ir_srgan_otsr\\results_kernels_DIV2K\\0498\\0498_kernel_x4.mat\n",
      "scale_factor:  [0.125, 0.125, 1]\n",
      "output_shape:  [170 255   3]\n",
      "im.shape:  (1356, 2040, 3)\n"
     ]
    },
    {
     "name": "stderr",
     "output_type": "stream",
     "text": [
      "Resizing images:  62%|██████▏   | 498/800 [1:14:13<44:14,  8.79s/it]"
     ]
    },
    {
     "name": "stdout",
     "output_type": "stream",
     "text": [
      "input_img.size():  torch.Size([3, 1356, 2040])\n",
      "resize2_img.size():  torch.Size([3, 170, 255])\n",
      "resize2_cut_img.size():  torch.Size([3, 168, 248])\n",
      "create_HrLr kernel_path:C:\\SaiVinay\\SproutsAI\\GitHub_\\ir_srgan_otsr\\results_kernels_DIV2K\\0499\\0499_kernel_x4.mat\n",
      "scale_factor:  [0.125, 0.125, 1]\n",
      "output_shape:  [170 255   3]\n",
      "im.shape:  (1356, 2040, 3)\n"
     ]
    },
    {
     "name": "stderr",
     "output_type": "stream",
     "text": [
      "Resizing images:  62%|██████▏   | 499/800 [1:14:22<43:54,  8.75s/it]"
     ]
    },
    {
     "name": "stdout",
     "output_type": "stream",
     "text": [
      "input_img.size():  torch.Size([3, 2040, 2040])\n",
      "resize2_img.size():  torch.Size([3, 255, 255])\n",
      "resize2_cut_img.size():  torch.Size([3, 248, 248])\n",
      "create_HrLr kernel_path:C:\\SaiVinay\\SproutsAI\\GitHub_\\ir_srgan_otsr\\results_kernels_DIV2K\\0500\\0500_kernel_x4.mat\n",
      "scale_factor:  [0.125, 0.125, 1]\n",
      "output_shape:  [255 255   3]\n",
      "im.shape:  (2040, 2040, 3)\n"
     ]
    },
    {
     "name": "stderr",
     "output_type": "stream",
     "text": [
      "Resizing images:  62%|██████▎   | 500/800 [1:14:34<49:24,  9.88s/it]"
     ]
    },
    {
     "name": "stdout",
     "output_type": "stream",
     "text": [
      "input_img.size():  torch.Size([3, 1356, 2040])\n",
      "resize2_img.size():  torch.Size([3, 170, 255])\n",
      "resize2_cut_img.size():  torch.Size([3, 168, 248])\n",
      "create_HrLr kernel_path:C:\\SaiVinay\\SproutsAI\\GitHub_\\ir_srgan_otsr\\results_kernels_DIV2K\\0501\\0501_kernel_x4.mat\n",
      "scale_factor:  [0.125, 0.125, 1]\n",
      "output_shape:  [170 255   3]\n",
      "im.shape:  (1356, 2040, 3)\n"
     ]
    },
    {
     "name": "stderr",
     "output_type": "stream",
     "text": [
      "Resizing images:  63%|██████▎   | 501/800 [1:14:43<47:23,  9.51s/it]"
     ]
    },
    {
     "name": "stdout",
     "output_type": "stream",
     "text": [
      "input_img.size():  torch.Size([3, 1356, 2040])\n",
      "resize2_img.size():  torch.Size([3, 170, 255])\n",
      "resize2_cut_img.size():  torch.Size([3, 168, 248])\n",
      "create_HrLr kernel_path:C:\\SaiVinay\\SproutsAI\\GitHub_\\ir_srgan_otsr\\results_kernels_DIV2K\\0502\\0502_kernel_x4.mat\n",
      "scale_factor:  [0.125, 0.125, 1]\n",
      "output_shape:  [170 255   3]\n",
      "im.shape:  (1356, 2040, 3)\n"
     ]
    },
    {
     "name": "stderr",
     "output_type": "stream",
     "text": [
      "Resizing images:  63%|██████▎   | 502/800 [1:14:51<45:43,  9.21s/it]"
     ]
    },
    {
     "name": "stdout",
     "output_type": "stream",
     "text": [
      "input_img.size():  torch.Size([3, 1356, 2040])\n",
      "resize2_img.size():  torch.Size([3, 170, 255])\n",
      "resize2_cut_img.size():  torch.Size([3, 168, 248])\n",
      "create_HrLr kernel_path:C:\\SaiVinay\\SproutsAI\\GitHub_\\ir_srgan_otsr\\results_kernels_DIV2K\\0503\\0503_kernel_x4.mat\n",
      "scale_factor:  [0.125, 0.125, 1]\n",
      "output_shape:  [170 255   3]\n",
      "im.shape:  (1356, 2040, 3)\n"
     ]
    },
    {
     "name": "stderr",
     "output_type": "stream",
     "text": [
      "Resizing images:  63%|██████▎   | 503/800 [1:15:01<45:17,  9.15s/it]"
     ]
    },
    {
     "name": "stdout",
     "output_type": "stream",
     "text": [
      "input_img.size():  torch.Size([3, 1356, 2040])\n",
      "resize2_img.size():  torch.Size([3, 170, 255])\n",
      "resize2_cut_img.size():  torch.Size([3, 168, 248])\n",
      "create_HrLr kernel_path:C:\\SaiVinay\\SproutsAI\\GitHub_\\ir_srgan_otsr\\results_kernels_DIV2K\\0504\\0504_kernel_x4.mat\n",
      "scale_factor:  [0.125, 0.125, 1]\n",
      "output_shape:  [170 255   3]\n",
      "im.shape:  (1356, 2040, 3)\n"
     ]
    },
    {
     "name": "stderr",
     "output_type": "stream",
     "text": [
      "Resizing images:  63%|██████▎   | 504/800 [1:15:09<44:40,  9.06s/it]"
     ]
    },
    {
     "name": "stdout",
     "output_type": "stream",
     "text": [
      "input_img.size():  torch.Size([3, 1140, 2040])\n",
      "resize2_img.size():  torch.Size([3, 143, 255])\n",
      "resize2_cut_img.size():  torch.Size([3, 136, 248])\n",
      "create_HrLr kernel_path:C:\\SaiVinay\\SproutsAI\\GitHub_\\ir_srgan_otsr\\results_kernels_DIV2K\\0505\\0505_kernel_x4.mat\n",
      "scale_factor:  [0.125, 0.125, 1]\n",
      "output_shape:  [143 255   3]\n",
      "im.shape:  (1140, 2040, 3)\n"
     ]
    },
    {
     "name": "stderr",
     "output_type": "stream",
     "text": [
      "Resizing images:  63%|██████▎   | 505/800 [1:15:16<41:39,  8.47s/it]"
     ]
    },
    {
     "name": "stdout",
     "output_type": "stream",
     "text": [
      "input_img.size():  torch.Size([3, 1356, 2040])\n",
      "resize2_img.size():  torch.Size([3, 170, 255])\n",
      "resize2_cut_img.size():  torch.Size([3, 168, 248])\n",
      "create_HrLr kernel_path:C:\\SaiVinay\\SproutsAI\\GitHub_\\ir_srgan_otsr\\results_kernels_DIV2K\\0506\\0506_kernel_x4.mat\n",
      "scale_factor:  [0.125, 0.125, 1]\n",
      "output_shape:  [170 255   3]\n",
      "im.shape:  (1356, 2040, 3)\n"
     ]
    },
    {
     "name": "stderr",
     "output_type": "stream",
     "text": [
      "Resizing images:  63%|██████▎   | 506/800 [1:15:25<41:54,  8.55s/it]"
     ]
    },
    {
     "name": "stdout",
     "output_type": "stream",
     "text": [
      "input_img.size():  torch.Size([3, 1356, 2040])\n",
      "resize2_img.size():  torch.Size([3, 170, 255])\n",
      "resize2_cut_img.size():  torch.Size([3, 168, 248])\n",
      "create_HrLr kernel_path:C:\\SaiVinay\\SproutsAI\\GitHub_\\ir_srgan_otsr\\results_kernels_DIV2K\\0507\\0507_kernel_x4.mat\n",
      "scale_factor:  [0.125, 0.125, 1]\n",
      "output_shape:  [170 255   3]\n",
      "im.shape:  (1356, 2040, 3)\n"
     ]
    },
    {
     "name": "stderr",
     "output_type": "stream",
     "text": [
      "Resizing images:  63%|██████▎   | 507/800 [1:15:34<41:25,  8.48s/it]"
     ]
    },
    {
     "name": "stdout",
     "output_type": "stream",
     "text": [
      "input_img.size():  torch.Size([3, 2040, 1368])\n",
      "resize2_img.size():  torch.Size([3, 255, 171])\n",
      "resize2_cut_img.size():  torch.Size([3, 248, 168])\n",
      "create_HrLr kernel_path:C:\\SaiVinay\\SproutsAI\\GitHub_\\ir_srgan_otsr\\results_kernels_DIV2K\\0508\\0508_kernel_x4.mat\n",
      "scale_factor:  [0.125, 0.125, 1]\n",
      "output_shape:  [255 171   3]\n",
      "im.shape:  (2040, 1368, 3)\n"
     ]
    },
    {
     "name": "stderr",
     "output_type": "stream",
     "text": [
      "Resizing images:  64%|██████▎   | 508/800 [1:15:42<41:27,  8.52s/it]"
     ]
    },
    {
     "name": "stdout",
     "output_type": "stream",
     "text": [
      "input_img.size():  torch.Size([3, 1368, 2040])\n",
      "resize2_img.size():  torch.Size([3, 171, 255])\n",
      "resize2_cut_img.size():  torch.Size([3, 168, 248])\n",
      "create_HrLr kernel_path:C:\\SaiVinay\\SproutsAI\\GitHub_\\ir_srgan_otsr\\results_kernels_DIV2K\\0509\\0509_kernel_x4.mat\n",
      "scale_factor:  [0.125, 0.125, 1]\n",
      "output_shape:  [171 255   3]\n",
      "im.shape:  (1368, 2040, 3)\n"
     ]
    },
    {
     "name": "stderr",
     "output_type": "stream",
     "text": [
      "Resizing images:  64%|██████▎   | 509/800 [1:15:51<41:21,  8.53s/it]"
     ]
    },
    {
     "name": "stdout",
     "output_type": "stream",
     "text": [
      "input_img.size():  torch.Size([3, 1356, 2040])\n",
      "resize2_img.size():  torch.Size([3, 170, 255])\n",
      "resize2_cut_img.size():  torch.Size([3, 168, 248])\n",
      "create_HrLr kernel_path:C:\\SaiVinay\\SproutsAI\\GitHub_\\ir_srgan_otsr\\results_kernels_DIV2K\\0510\\0510_kernel_x4.mat\n",
      "scale_factor:  [0.125, 0.125, 1]\n",
      "output_shape:  [170 255   3]\n",
      "im.shape:  (1356, 2040, 3)\n"
     ]
    },
    {
     "name": "stderr",
     "output_type": "stream",
     "text": [
      "Resizing images:  64%|██████▍   | 510/800 [1:16:00<41:42,  8.63s/it]"
     ]
    },
    {
     "name": "stdout",
     "output_type": "stream",
     "text": [
      "input_img.size():  torch.Size([3, 1152, 2040])\n",
      "resize2_img.size():  torch.Size([3, 144, 255])\n",
      "resize2_cut_img.size():  torch.Size([3, 144, 248])\n",
      "create_HrLr kernel_path:C:\\SaiVinay\\SproutsAI\\GitHub_\\ir_srgan_otsr\\results_kernels_DIV2K\\0511\\0511_kernel_x4.mat\n",
      "scale_factor:  [0.125, 0.125, 1]\n",
      "output_shape:  [144 255   3]\n",
      "im.shape:  (1152, 2040, 3)\n"
     ]
    },
    {
     "name": "stderr",
     "output_type": "stream",
     "text": [
      "Resizing images:  64%|██████▍   | 511/800 [1:16:07<39:39,  8.23s/it]"
     ]
    },
    {
     "name": "stdout",
     "output_type": "stream",
     "text": [
      "input_img.size():  torch.Size([3, 1452, 2040])\n",
      "resize2_img.size():  torch.Size([3, 182, 255])\n",
      "resize2_cut_img.size():  torch.Size([3, 176, 248])\n",
      "create_HrLr kernel_path:C:\\SaiVinay\\SproutsAI\\GitHub_\\ir_srgan_otsr\\results_kernels_DIV2K\\0512\\0512_kernel_x4.mat\n",
      "scale_factor:  [0.125, 0.125, 1]\n",
      "output_shape:  [182 255   3]\n",
      "im.shape:  (1452, 2040, 3)\n"
     ]
    },
    {
     "name": "stderr",
     "output_type": "stream",
     "text": [
      "Resizing images:  64%|██████▍   | 512/800 [1:16:16<40:39,  8.47s/it]"
     ]
    },
    {
     "name": "stdout",
     "output_type": "stream",
     "text": [
      "input_img.size():  torch.Size([3, 2040, 2040])\n",
      "resize2_img.size():  torch.Size([3, 255, 255])\n",
      "resize2_cut_img.size():  torch.Size([3, 248, 248])\n",
      "create_HrLr kernel_path:C:\\SaiVinay\\SproutsAI\\GitHub_\\ir_srgan_otsr\\results_kernels_DIV2K\\0513\\0513_kernel_x4.mat\n",
      "scale_factor:  [0.125, 0.125, 1]\n",
      "output_shape:  [255 255   3]\n",
      "im.shape:  (2040, 2040, 3)\n"
     ]
    },
    {
     "name": "stderr",
     "output_type": "stream",
     "text": [
      "Resizing images:  64%|██████▍   | 513/800 [1:16:29<46:58,  9.82s/it]"
     ]
    },
    {
     "name": "stdout",
     "output_type": "stream",
     "text": [
      "input_img.size():  torch.Size([3, 1368, 2040])\n",
      "resize2_img.size():  torch.Size([3, 171, 255])\n",
      "resize2_cut_img.size():  torch.Size([3, 168, 248])\n",
      "create_HrLr kernel_path:C:\\SaiVinay\\SproutsAI\\GitHub_\\ir_srgan_otsr\\results_kernels_DIV2K\\0514\\0514_kernel_x4.mat\n",
      "scale_factor:  [0.125, 0.125, 1]\n",
      "output_shape:  [171 255   3]\n",
      "im.shape:  (1368, 2040, 3)\n"
     ]
    },
    {
     "name": "stderr",
     "output_type": "stream",
     "text": [
      "Resizing images:  64%|██████▍   | 514/800 [1:16:37<44:57,  9.43s/it]"
     ]
    },
    {
     "name": "stdout",
     "output_type": "stream",
     "text": [
      "input_img.size():  torch.Size([3, 1356, 2040])\n",
      "resize2_img.size():  torch.Size([3, 170, 255])\n",
      "resize2_cut_img.size():  torch.Size([3, 168, 248])\n",
      "create_HrLr kernel_path:C:\\SaiVinay\\SproutsAI\\GitHub_\\ir_srgan_otsr\\results_kernels_DIV2K\\0515\\0515_kernel_x4.mat\n",
      "scale_factor:  [0.125, 0.125, 1]\n",
      "output_shape:  [170 255   3]\n",
      "im.shape:  (1356, 2040, 3)\n"
     ]
    },
    {
     "name": "stderr",
     "output_type": "stream",
     "text": [
      "Resizing images:  64%|██████▍   | 515/800 [1:16:46<42:57,  9.04s/it]"
     ]
    },
    {
     "name": "stdout",
     "output_type": "stream",
     "text": [
      "input_img.size():  torch.Size([3, 1536, 2040])\n",
      "resize2_img.size():  torch.Size([3, 192, 255])\n",
      "resize2_cut_img.size():  torch.Size([3, 192, 248])\n",
      "create_HrLr kernel_path:C:\\SaiVinay\\SproutsAI\\GitHub_\\ir_srgan_otsr\\results_kernels_DIV2K\\0516\\0516_kernel_x4.mat\n",
      "scale_factor:  [0.125, 0.125, 1]\n",
      "output_shape:  [192 255   3]\n",
      "im.shape:  (1536, 2040, 3)\n"
     ]
    },
    {
     "name": "stderr",
     "output_type": "stream",
     "text": [
      "Resizing images:  64%|██████▍   | 516/800 [1:16:55<43:45,  9.24s/it]"
     ]
    },
    {
     "name": "stdout",
     "output_type": "stream",
     "text": [
      "input_img.size():  torch.Size([3, 1536, 2040])\n",
      "resize2_img.size():  torch.Size([3, 192, 255])\n",
      "resize2_cut_img.size():  torch.Size([3, 192, 248])\n",
      "create_HrLr kernel_path:C:\\SaiVinay\\SproutsAI\\GitHub_\\ir_srgan_otsr\\results_kernels_DIV2K\\0517\\0517_kernel_x4.mat\n",
      "scale_factor:  [0.125, 0.125, 1]\n",
      "output_shape:  [192 255   3]\n",
      "im.shape:  (1536, 2040, 3)\n"
     ]
    },
    {
     "name": "stderr",
     "output_type": "stream",
     "text": [
      "Resizing images:  65%|██████▍   | 517/800 [1:17:06<45:16,  9.60s/it]"
     ]
    },
    {
     "name": "stdout",
     "output_type": "stream",
     "text": [
      "input_img.size():  torch.Size([3, 960, 2040])\n",
      "resize2_img.size():  torch.Size([3, 120, 255])\n",
      "resize2_cut_img.size():  torch.Size([3, 120, 248])\n",
      "create_HrLr kernel_path:C:\\SaiVinay\\SproutsAI\\GitHub_\\ir_srgan_otsr\\results_kernels_DIV2K\\0518\\0518_kernel_x4.mat\n",
      "scale_factor:  [0.125, 0.125, 1]\n",
      "output_shape:  [120 255   3]\n",
      "im.shape:  (960, 2040, 3)\n"
     ]
    },
    {
     "name": "stderr",
     "output_type": "stream",
     "text": [
      "Resizing images:  65%|██████▍   | 518/800 [1:17:12<40:28,  8.61s/it]"
     ]
    },
    {
     "name": "stdout",
     "output_type": "stream",
     "text": [
      "input_img.size():  torch.Size([3, 1356, 2040])\n",
      "resize2_img.size():  torch.Size([3, 170, 255])\n",
      "resize2_cut_img.size():  torch.Size([3, 168, 248])\n",
      "create_HrLr kernel_path:C:\\SaiVinay\\SproutsAI\\GitHub_\\ir_srgan_otsr\\results_kernels_DIV2K\\0519\\0519_kernel_x4.mat\n",
      "scale_factor:  [0.125, 0.125, 1]\n",
      "output_shape:  [170 255   3]\n",
      "im.shape:  (1356, 2040, 3)\n"
     ]
    },
    {
     "name": "stderr",
     "output_type": "stream",
     "text": [
      "Resizing images:  65%|██████▍   | 519/800 [1:17:21<40:32,  8.65s/it]"
     ]
    },
    {
     "name": "stdout",
     "output_type": "stream",
     "text": [
      "input_img.size():  torch.Size([3, 1356, 2040])\n",
      "resize2_img.size():  torch.Size([3, 170, 255])\n",
      "resize2_cut_img.size():  torch.Size([3, 168, 248])\n",
      "create_HrLr kernel_path:C:\\SaiVinay\\SproutsAI\\GitHub_\\ir_srgan_otsr\\results_kernels_DIV2K\\0520\\0520_kernel_x4.mat\n",
      "scale_factor:  [0.125, 0.125, 1]\n",
      "output_shape:  [170 255   3]\n",
      "im.shape:  (1356, 2040, 3)\n"
     ]
    },
    {
     "name": "stderr",
     "output_type": "stream",
     "text": [
      "Resizing images:  65%|██████▌   | 520/800 [1:17:30<41:02,  8.80s/it]"
     ]
    },
    {
     "name": "stdout",
     "output_type": "stream",
     "text": [
      "input_img.size():  torch.Size([3, 2040, 1368])\n",
      "resize2_img.size():  torch.Size([3, 255, 171])\n",
      "resize2_cut_img.size():  torch.Size([3, 248, 168])\n",
      "create_HrLr kernel_path:C:\\SaiVinay\\SproutsAI\\GitHub_\\ir_srgan_otsr\\results_kernels_DIV2K\\0521\\0521_kernel_x4.mat\n",
      "scale_factor:  [0.125, 0.125, 1]\n",
      "output_shape:  [255 171   3]\n",
      "im.shape:  (2040, 1368, 3)\n"
     ]
    },
    {
     "name": "stderr",
     "output_type": "stream",
     "text": [
      "Resizing images:  65%|██████▌   | 521/800 [1:17:38<40:37,  8.74s/it]"
     ]
    },
    {
     "name": "stdout",
     "output_type": "stream",
     "text": [
      "input_img.size():  torch.Size([3, 2040, 1356])\n",
      "resize2_img.size():  torch.Size([3, 255, 170])\n",
      "resize2_cut_img.size():  torch.Size([3, 248, 168])\n",
      "create_HrLr kernel_path:C:\\SaiVinay\\SproutsAI\\GitHub_\\ir_srgan_otsr\\results_kernels_DIV2K\\0522\\0522_kernel_x4.mat\n",
      "scale_factor:  [0.125, 0.125, 1]\n",
      "output_shape:  [255 170   3]\n",
      "im.shape:  (2040, 1356, 3)\n"
     ]
    },
    {
     "name": "stderr",
     "output_type": "stream",
     "text": [
      "Resizing images:  65%|██████▌   | 522/800 [1:17:47<40:40,  8.78s/it]"
     ]
    },
    {
     "name": "stdout",
     "output_type": "stream",
     "text": [
      "input_img.size():  torch.Size([3, 888, 2040])\n",
      "resize2_img.size():  torch.Size([3, 111, 255])\n",
      "resize2_cut_img.size():  torch.Size([3, 104, 248])\n",
      "create_HrLr kernel_path:C:\\SaiVinay\\SproutsAI\\GitHub_\\ir_srgan_otsr\\results_kernels_DIV2K\\0523\\0523_kernel_x4.mat\n",
      "scale_factor:  [0.125, 0.125, 1]\n",
      "output_shape:  [111 255   3]\n",
      "im.shape:  (888, 2040, 3)\n"
     ]
    },
    {
     "name": "stderr",
     "output_type": "stream",
     "text": [
      "Resizing images:  65%|██████▌   | 523/800 [1:17:53<35:53,  7.78s/it]"
     ]
    },
    {
     "name": "stdout",
     "output_type": "stream",
     "text": [
      "input_img.size():  torch.Size([3, 1356, 2040])\n",
      "resize2_img.size():  torch.Size([3, 170, 255])\n",
      "resize2_cut_img.size():  torch.Size([3, 168, 248])\n",
      "create_HrLr kernel_path:C:\\SaiVinay\\SproutsAI\\GitHub_\\ir_srgan_otsr\\results_kernels_DIV2K\\0524\\0524_kernel_x4.mat\n",
      "scale_factor:  [0.125, 0.125, 1]\n",
      "output_shape:  [170 255   3]\n",
      "im.shape:  (1356, 2040, 3)\n"
     ]
    },
    {
     "name": "stderr",
     "output_type": "stream",
     "text": [
      "Resizing images:  66%|██████▌   | 524/800 [1:18:02<37:39,  8.19s/it]"
     ]
    },
    {
     "name": "stdout",
     "output_type": "stream",
     "text": [
      "input_img.size():  torch.Size([3, 1356, 2040])\n",
      "resize2_img.size():  torch.Size([3, 170, 255])\n",
      "resize2_cut_img.size():  torch.Size([3, 168, 248])\n",
      "create_HrLr kernel_path:C:\\SaiVinay\\SproutsAI\\GitHub_\\ir_srgan_otsr\\results_kernels_DIV2K\\0525\\0525_kernel_x4.mat\n",
      "scale_factor:  [0.125, 0.125, 1]\n",
      "output_shape:  [170 255   3]\n",
      "im.shape:  (1356, 2040, 3)\n"
     ]
    },
    {
     "name": "stderr",
     "output_type": "stream",
     "text": [
      "Resizing images:  66%|██████▌   | 525/800 [1:18:11<38:24,  8.38s/it]"
     ]
    },
    {
     "name": "stdout",
     "output_type": "stream",
     "text": [
      "input_img.size():  torch.Size([3, 1356, 2040])\n",
      "resize2_img.size():  torch.Size([3, 170, 255])\n",
      "resize2_cut_img.size():  torch.Size([3, 168, 248])\n",
      "create_HrLr kernel_path:C:\\SaiVinay\\SproutsAI\\GitHub_\\ir_srgan_otsr\\results_kernels_DIV2K\\0526\\0526_kernel_x4.mat\n",
      "scale_factor:  [0.125, 0.125, 1]\n",
      "output_shape:  [170 255   3]\n",
      "im.shape:  (1356, 2040, 3)\n"
     ]
    },
    {
     "name": "stderr",
     "output_type": "stream",
     "text": [
      "Resizing images:  66%|██████▌   | 526/800 [1:18:20<38:58,  8.54s/it]"
     ]
    },
    {
     "name": "stdout",
     "output_type": "stream",
     "text": [
      "input_img.size():  torch.Size([3, 1044, 2040])\n",
      "resize2_img.size():  torch.Size([3, 131, 255])\n",
      "resize2_cut_img.size():  torch.Size([3, 128, 248])\n",
      "create_HrLr kernel_path:C:\\SaiVinay\\SproutsAI\\GitHub_\\ir_srgan_otsr\\results_kernels_DIV2K\\0527\\0527_kernel_x4.mat\n",
      "scale_factor:  [0.125, 0.125, 1]\n",
      "output_shape:  [131 255   3]\n",
      "im.shape:  (1044, 2040, 3)\n"
     ]
    },
    {
     "name": "stderr",
     "output_type": "stream",
     "text": [
      "Resizing images:  66%|██████▌   | 527/800 [1:18:26<36:04,  7.93s/it]"
     ]
    },
    {
     "name": "stdout",
     "output_type": "stream",
     "text": [
      "input_img.size():  torch.Size([3, 1536, 2040])\n",
      "resize2_img.size():  torch.Size([3, 192, 255])\n",
      "resize2_cut_img.size():  torch.Size([3, 192, 248])\n",
      "create_HrLr kernel_path:C:\\SaiVinay\\SproutsAI\\GitHub_\\ir_srgan_otsr\\results_kernels_DIV2K\\0528\\0528_kernel_x4.mat\n",
      "scale_factor:  [0.125, 0.125, 1]\n",
      "output_shape:  [192 255   3]\n",
      "im.shape:  (1536, 2040, 3)\n"
     ]
    },
    {
     "name": "stderr",
     "output_type": "stream",
     "text": [
      "Resizing images:  66%|██████▌   | 528/800 [1:18:37<39:17,  8.67s/it]"
     ]
    },
    {
     "name": "stdout",
     "output_type": "stream",
     "text": [
      "input_img.size():  torch.Size([3, 1356, 2040])\n",
      "resize2_img.size():  torch.Size([3, 170, 255])\n",
      "resize2_cut_img.size():  torch.Size([3, 168, 248])\n",
      "create_HrLr kernel_path:C:\\SaiVinay\\SproutsAI\\GitHub_\\ir_srgan_otsr\\results_kernels_DIV2K\\0529\\0529_kernel_x4.mat\n",
      "scale_factor:  [0.125, 0.125, 1]\n",
      "output_shape:  [170 255   3]\n",
      "im.shape:  (1356, 2040, 3)\n"
     ]
    },
    {
     "name": "stderr",
     "output_type": "stream",
     "text": [
      "Resizing images:  66%|██████▌   | 529/800 [1:18:45<38:15,  8.47s/it]"
     ]
    },
    {
     "name": "stdout",
     "output_type": "stream",
     "text": [
      "input_img.size():  torch.Size([3, 1356, 2040])\n",
      "resize2_img.size():  torch.Size([3, 170, 255])\n",
      "resize2_cut_img.size():  torch.Size([3, 168, 248])\n",
      "create_HrLr kernel_path:C:\\SaiVinay\\SproutsAI\\GitHub_\\ir_srgan_otsr\\results_kernels_DIV2K\\0530\\0530_kernel_x4.mat\n",
      "scale_factor:  [0.125, 0.125, 1]\n",
      "output_shape:  [170 255   3]\n",
      "im.shape:  (1356, 2040, 3)\n"
     ]
    },
    {
     "name": "stderr",
     "output_type": "stream",
     "text": [
      "Resizing images:  66%|██████▋   | 530/800 [1:18:53<38:31,  8.56s/it]"
     ]
    },
    {
     "name": "stdout",
     "output_type": "stream",
     "text": [
      "input_img.size():  torch.Size([3, 1536, 2040])\n",
      "resize2_img.size():  torch.Size([3, 192, 255])\n",
      "resize2_cut_img.size():  torch.Size([3, 192, 248])\n",
      "create_HrLr kernel_path:C:\\SaiVinay\\SproutsAI\\GitHub_\\ir_srgan_otsr\\results_kernels_DIV2K\\0531\\0531_kernel_x4.mat\n",
      "scale_factor:  [0.125, 0.125, 1]\n",
      "output_shape:  [192 255   3]\n",
      "im.shape:  (1536, 2040, 3)\n"
     ]
    },
    {
     "name": "stderr",
     "output_type": "stream",
     "text": [
      "Resizing images:  66%|██████▋   | 531/800 [1:19:03<39:31,  8.82s/it]"
     ]
    },
    {
     "name": "stdout",
     "output_type": "stream",
     "text": [
      "input_img.size():  torch.Size([3, 2040, 1356])\n",
      "resize2_img.size():  torch.Size([3, 255, 170])\n",
      "resize2_cut_img.size():  torch.Size([3, 248, 168])\n",
      "create_HrLr kernel_path:C:\\SaiVinay\\SproutsAI\\GitHub_\\ir_srgan_otsr\\results_kernels_DIV2K\\0532\\0532_kernel_x4.mat\n",
      "scale_factor:  [0.125, 0.125, 1]\n",
      "output_shape:  [255 170   3]\n",
      "im.shape:  (2040, 1356, 3)\n"
     ]
    },
    {
     "name": "stderr",
     "output_type": "stream",
     "text": [
      "Resizing images:  66%|██████▋   | 532/800 [1:19:11<39:10,  8.77s/it]"
     ]
    },
    {
     "name": "stdout",
     "output_type": "stream",
     "text": [
      "input_img.size():  torch.Size([3, 1356, 2040])\n",
      "resize2_img.size():  torch.Size([3, 170, 255])\n",
      "resize2_cut_img.size():  torch.Size([3, 168, 248])\n",
      "create_HrLr kernel_path:C:\\SaiVinay\\SproutsAI\\GitHub_\\ir_srgan_otsr\\results_kernels_DIV2K\\0533\\0533_kernel_x4.mat\n",
      "scale_factor:  [0.125, 0.125, 1]\n",
      "output_shape:  [170 255   3]\n",
      "im.shape:  (1356, 2040, 3)\n"
     ]
    },
    {
     "name": "stderr",
     "output_type": "stream",
     "text": [
      "Resizing images:  67%|██████▋   | 533/800 [1:19:20<38:16,  8.60s/it]"
     ]
    },
    {
     "name": "stdout",
     "output_type": "stream",
     "text": [
      "input_img.size():  torch.Size([3, 1224, 2040])\n",
      "resize2_img.size():  torch.Size([3, 153, 255])\n",
      "resize2_cut_img.size():  torch.Size([3, 152, 248])\n",
      "create_HrLr kernel_path:C:\\SaiVinay\\SproutsAI\\GitHub_\\ir_srgan_otsr\\results_kernels_DIV2K\\0534\\0534_kernel_x4.mat\n",
      "scale_factor:  [0.125, 0.125, 1]\n",
      "output_shape:  [153 255   3]\n",
      "im.shape:  (1224, 2040, 3)\n"
     ]
    },
    {
     "name": "stderr",
     "output_type": "stream",
     "text": [
      "Resizing images:  67%|██████▋   | 534/800 [1:19:27<37:09,  8.38s/it]"
     ]
    },
    {
     "name": "stdout",
     "output_type": "stream",
     "text": [
      "input_img.size():  torch.Size([3, 1284, 2040])\n",
      "resize2_img.size():  torch.Size([3, 161, 255])\n",
      "resize2_cut_img.size():  torch.Size([3, 160, 248])\n",
      "create_HrLr kernel_path:C:\\SaiVinay\\SproutsAI\\GitHub_\\ir_srgan_otsr\\results_kernels_DIV2K\\0535\\0535_kernel_x4.mat\n",
      "scale_factor:  [0.125, 0.125, 1]\n",
      "output_shape:  [161 255   3]\n",
      "im.shape:  (1284, 2040, 3)\n"
     ]
    },
    {
     "name": "stderr",
     "output_type": "stream",
     "text": [
      "Resizing images:  67%|██████▋   | 535/800 [1:19:36<36:48,  8.33s/it]"
     ]
    },
    {
     "name": "stdout",
     "output_type": "stream",
     "text": [
      "input_img.size():  torch.Size([3, 1356, 2040])\n",
      "resize2_img.size():  torch.Size([3, 170, 255])\n",
      "resize2_cut_img.size():  torch.Size([3, 168, 248])\n",
      "create_HrLr kernel_path:C:\\SaiVinay\\SproutsAI\\GitHub_\\ir_srgan_otsr\\results_kernels_DIV2K\\0536\\0536_kernel_x4.mat\n",
      "scale_factor:  [0.125, 0.125, 1]\n",
      "output_shape:  [170 255   3]\n",
      "im.shape:  (1356, 2040, 3)\n"
     ]
    },
    {
     "name": "stderr",
     "output_type": "stream",
     "text": [
      "Resizing images:  67%|██████▋   | 536/800 [1:19:44<37:07,  8.44s/it]"
     ]
    },
    {
     "name": "stdout",
     "output_type": "stream",
     "text": [
      "input_img.size():  torch.Size([3, 1356, 2040])\n",
      "resize2_img.size():  torch.Size([3, 170, 255])\n",
      "resize2_cut_img.size():  torch.Size([3, 168, 248])\n",
      "create_HrLr kernel_path:C:\\SaiVinay\\SproutsAI\\GitHub_\\ir_srgan_otsr\\results_kernels_DIV2K\\0537\\0537_kernel_x4.mat\n",
      "scale_factor:  [0.125, 0.125, 1]\n",
      "output_shape:  [170 255   3]\n",
      "im.shape:  (1356, 2040, 3)\n"
     ]
    },
    {
     "name": "stderr",
     "output_type": "stream",
     "text": [
      "Resizing images:  67%|██████▋   | 537/800 [1:19:53<37:02,  8.45s/it]"
     ]
    },
    {
     "name": "stdout",
     "output_type": "stream",
     "text": [
      "input_img.size():  torch.Size([3, 1356, 2040])\n",
      "resize2_img.size():  torch.Size([3, 170, 255])\n",
      "resize2_cut_img.size():  torch.Size([3, 168, 248])\n",
      "create_HrLr kernel_path:C:\\SaiVinay\\SproutsAI\\GitHub_\\ir_srgan_otsr\\results_kernels_DIV2K\\0538\\0538_kernel_x4.mat\n",
      "scale_factor:  [0.125, 0.125, 1]\n",
      "output_shape:  [170 255   3]\n",
      "im.shape:  (1356, 2040, 3)\n"
     ]
    },
    {
     "name": "stderr",
     "output_type": "stream",
     "text": [
      "Resizing images:  67%|██████▋   | 538/800 [1:20:02<37:37,  8.61s/it]"
     ]
    },
    {
     "name": "stdout",
     "output_type": "stream",
     "text": [
      "input_img.size():  torch.Size([3, 1368, 2040])\n",
      "resize2_img.size():  torch.Size([3, 171, 255])\n",
      "resize2_cut_img.size():  torch.Size([3, 168, 248])\n",
      "create_HrLr kernel_path:C:\\SaiVinay\\SproutsAI\\GitHub_\\ir_srgan_otsr\\results_kernels_DIV2K\\0539\\0539_kernel_x4.mat\n",
      "scale_factor:  [0.125, 0.125, 1]\n",
      "output_shape:  [171 255   3]\n",
      "im.shape:  (1368, 2040, 3)\n"
     ]
    },
    {
     "name": "stderr",
     "output_type": "stream",
     "text": [
      "Resizing images:  67%|██████▋   | 539/800 [1:20:11<38:10,  8.77s/it]"
     ]
    },
    {
     "name": "stdout",
     "output_type": "stream",
     "text": [
      "input_img.size():  torch.Size([3, 1356, 2040])\n",
      "resize2_img.size():  torch.Size([3, 170, 255])\n",
      "resize2_cut_img.size():  torch.Size([3, 168, 248])\n",
      "create_HrLr kernel_path:C:\\SaiVinay\\SproutsAI\\GitHub_\\ir_srgan_otsr\\results_kernels_DIV2K\\0540\\0540_kernel_x4.mat\n",
      "scale_factor:  [0.125, 0.125, 1]\n",
      "output_shape:  [170 255   3]\n",
      "im.shape:  (1356, 2040, 3)\n"
     ]
    },
    {
     "name": "stderr",
     "output_type": "stream",
     "text": [
      "Resizing images:  68%|██████▊   | 540/800 [1:20:20<37:49,  8.73s/it]"
     ]
    },
    {
     "name": "stdout",
     "output_type": "stream",
     "text": [
      "input_img.size():  torch.Size([3, 1368, 2040])\n",
      "resize2_img.size():  torch.Size([3, 171, 255])\n",
      "resize2_cut_img.size():  torch.Size([3, 168, 248])\n",
      "create_HrLr kernel_path:C:\\SaiVinay\\SproutsAI\\GitHub_\\ir_srgan_otsr\\results_kernels_DIV2K\\0541\\0541_kernel_x4.mat\n",
      "scale_factor:  [0.125, 0.125, 1]\n",
      "output_shape:  [171 255   3]\n",
      "im.shape:  (1368, 2040, 3)\n"
     ]
    },
    {
     "name": "stderr",
     "output_type": "stream",
     "text": [
      "Resizing images:  68%|██████▊   | 541/800 [1:20:28<37:52,  8.77s/it]"
     ]
    },
    {
     "name": "stdout",
     "output_type": "stream",
     "text": [
      "input_img.size():  torch.Size([3, 1140, 2040])\n",
      "resize2_img.size():  torch.Size([3, 143, 255])\n",
      "resize2_cut_img.size():  torch.Size([3, 136, 248])\n",
      "create_HrLr kernel_path:C:\\SaiVinay\\SproutsAI\\GitHub_\\ir_srgan_otsr\\results_kernels_DIV2K\\0542\\0542_kernel_x4.mat\n",
      "scale_factor:  [0.125, 0.125, 1]\n",
      "output_shape:  [143 255   3]\n",
      "im.shape:  (1140, 2040, 3)\n"
     ]
    },
    {
     "name": "stderr",
     "output_type": "stream",
     "text": [
      "Resizing images:  68%|██████▊   | 542/800 [1:20:35<35:22,  8.22s/it]"
     ]
    },
    {
     "name": "stdout",
     "output_type": "stream",
     "text": [
      "input_img.size():  torch.Size([3, 2040, 1356])\n",
      "resize2_img.size():  torch.Size([3, 255, 170])\n",
      "resize2_cut_img.size():  torch.Size([3, 248, 168])\n",
      "create_HrLr kernel_path:C:\\SaiVinay\\SproutsAI\\GitHub_\\ir_srgan_otsr\\results_kernels_DIV2K\\0543\\0543_kernel_x4.mat\n",
      "scale_factor:  [0.125, 0.125, 1]\n",
      "output_shape:  [255 170   3]\n",
      "im.shape:  (2040, 1356, 3)\n"
     ]
    },
    {
     "name": "stderr",
     "output_type": "stream",
     "text": [
      "Resizing images:  68%|██████▊   | 543/800 [1:20:44<36:11,  8.45s/it]"
     ]
    },
    {
     "name": "stdout",
     "output_type": "stream",
     "text": [
      "input_img.size():  torch.Size([3, 1356, 2040])\n",
      "resize2_img.size():  torch.Size([3, 170, 255])\n",
      "resize2_cut_img.size():  torch.Size([3, 168, 248])\n",
      "create_HrLr kernel_path:C:\\SaiVinay\\SproutsAI\\GitHub_\\ir_srgan_otsr\\results_kernels_DIV2K\\0544\\0544_kernel_x4.mat\n",
      "scale_factor:  [0.125, 0.125, 1]\n",
      "output_shape:  [170 255   3]\n",
      "im.shape:  (1356, 2040, 3)\n"
     ]
    },
    {
     "name": "stderr",
     "output_type": "stream",
     "text": [
      "Resizing images:  68%|██████▊   | 544/800 [1:20:53<36:37,  8.58s/it]"
     ]
    },
    {
     "name": "stdout",
     "output_type": "stream",
     "text": [
      "input_img.size():  torch.Size([3, 2040, 1992])\n",
      "resize2_img.size():  torch.Size([3, 255, 249])\n",
      "resize2_cut_img.size():  torch.Size([3, 248, 248])\n",
      "create_HrLr kernel_path:C:\\SaiVinay\\SproutsAI\\GitHub_\\ir_srgan_otsr\\results_kernels_DIV2K\\0545\\0545_kernel_x4.mat\n",
      "scale_factor:  [0.125, 0.125, 1]\n",
      "output_shape:  [255 249   3]\n",
      "im.shape:  (2040, 1992, 3)\n"
     ]
    },
    {
     "name": "stderr",
     "output_type": "stream",
     "text": [
      "Resizing images:  68%|██████▊   | 545/800 [1:21:05<40:38,  9.56s/it]"
     ]
    },
    {
     "name": "stdout",
     "output_type": "stream",
     "text": [
      "input_img.size():  torch.Size([3, 1536, 2040])\n",
      "resize2_img.size():  torch.Size([3, 192, 255])\n",
      "resize2_cut_img.size():  torch.Size([3, 192, 248])\n",
      "create_HrLr kernel_path:C:\\SaiVinay\\SproutsAI\\GitHub_\\ir_srgan_otsr\\results_kernels_DIV2K\\0546\\0546_kernel_x4.mat\n",
      "scale_factor:  [0.125, 0.125, 1]\n",
      "output_shape:  [192 255   3]\n",
      "im.shape:  (1536, 2040, 3)\n"
     ]
    },
    {
     "name": "stderr",
     "output_type": "stream",
     "text": [
      "Resizing images:  68%|██████▊   | 546/800 [1:21:15<40:29,  9.57s/it]"
     ]
    },
    {
     "name": "stdout",
     "output_type": "stream",
     "text": [
      "input_img.size():  torch.Size([3, 1152, 2040])\n",
      "resize2_img.size():  torch.Size([3, 144, 255])\n",
      "resize2_cut_img.size():  torch.Size([3, 144, 248])\n",
      "create_HrLr kernel_path:C:\\SaiVinay\\SproutsAI\\GitHub_\\ir_srgan_otsr\\results_kernels_DIV2K\\0547\\0547_kernel_x4.mat\n",
      "scale_factor:  [0.125, 0.125, 1]\n",
      "output_shape:  [144 255   3]\n",
      "im.shape:  (1152, 2040, 3)\n"
     ]
    },
    {
     "name": "stderr",
     "output_type": "stream",
     "text": [
      "Resizing images:  68%|██████▊   | 547/800 [1:21:22<37:50,  8.97s/it]"
     ]
    },
    {
     "name": "stdout",
     "output_type": "stream",
     "text": [
      "input_img.size():  torch.Size([3, 1356, 2040])\n",
      "resize2_img.size():  torch.Size([3, 170, 255])\n",
      "resize2_cut_img.size():  torch.Size([3, 168, 248])\n",
      "create_HrLr kernel_path:C:\\SaiVinay\\SproutsAI\\GitHub_\\ir_srgan_otsr\\results_kernels_DIV2K\\0548\\0548_kernel_x4.mat\n",
      "scale_factor:  [0.125, 0.125, 1]\n",
      "output_shape:  [170 255   3]\n",
      "im.shape:  (1356, 2040, 3)\n"
     ]
    },
    {
     "name": "stderr",
     "output_type": "stream",
     "text": [
      "Resizing images:  68%|██████▊   | 548/800 [1:21:31<37:10,  8.85s/it]"
     ]
    },
    {
     "name": "stdout",
     "output_type": "stream",
     "text": [
      "input_img.size():  torch.Size([3, 1356, 2040])\n",
      "resize2_img.size():  torch.Size([3, 170, 255])\n",
      "resize2_cut_img.size():  torch.Size([3, 168, 248])\n",
      "create_HrLr kernel_path:C:\\SaiVinay\\SproutsAI\\GitHub_\\ir_srgan_otsr\\results_kernels_DIV2K\\0549\\0549_kernel_x4.mat\n",
      "scale_factor:  [0.125, 0.125, 1]\n",
      "output_shape:  [170 255   3]\n",
      "im.shape:  (1356, 2040, 3)\n"
     ]
    },
    {
     "name": "stderr",
     "output_type": "stream",
     "text": [
      "Resizing images:  69%|██████▊   | 549/800 [1:21:39<36:10,  8.65s/it]"
     ]
    },
    {
     "name": "stdout",
     "output_type": "stream",
     "text": [
      "input_img.size():  torch.Size([3, 1224, 2040])\n",
      "resize2_img.size():  torch.Size([3, 153, 255])\n",
      "resize2_cut_img.size():  torch.Size([3, 152, 248])\n",
      "create_HrLr kernel_path:C:\\SaiVinay\\SproutsAI\\GitHub_\\ir_srgan_otsr\\results_kernels_DIV2K\\0550\\0550_kernel_x4.mat\n",
      "scale_factor:  [0.125, 0.125, 1]\n",
      "output_shape:  [153 255   3]\n",
      "im.shape:  (1224, 2040, 3)\n"
     ]
    },
    {
     "name": "stderr",
     "output_type": "stream",
     "text": [
      "Resizing images:  69%|██████▉   | 550/800 [1:21:47<35:19,  8.48s/it]"
     ]
    },
    {
     "name": "stdout",
     "output_type": "stream",
     "text": [
      "input_img.size():  torch.Size([3, 1356, 2040])\n",
      "resize2_img.size():  torch.Size([3, 170, 255])\n",
      "resize2_cut_img.size():  torch.Size([3, 168, 248])\n",
      "create_HrLr kernel_path:C:\\SaiVinay\\SproutsAI\\GitHub_\\ir_srgan_otsr\\results_kernels_DIV2K\\0551\\0551_kernel_x4.mat\n",
      "scale_factor:  [0.125, 0.125, 1]\n",
      "output_shape:  [170 255   3]\n",
      "im.shape:  (1356, 2040, 3)\n"
     ]
    },
    {
     "name": "stderr",
     "output_type": "stream",
     "text": [
      "Resizing images:  69%|██████▉   | 551/800 [1:21:56<35:58,  8.67s/it]"
     ]
    },
    {
     "name": "stdout",
     "output_type": "stream",
     "text": [
      "input_img.size():  torch.Size([3, 1356, 2040])\n",
      "resize2_img.size():  torch.Size([3, 170, 255])\n",
      "resize2_cut_img.size():  torch.Size([3, 168, 248])\n",
      "create_HrLr kernel_path:C:\\SaiVinay\\SproutsAI\\GitHub_\\ir_srgan_otsr\\results_kernels_DIV2K\\0552\\0552_kernel_x4.mat\n",
      "scale_factor:  [0.125, 0.125, 1]\n",
      "output_shape:  [170 255   3]\n",
      "im.shape:  (1356, 2040, 3)\n"
     ]
    },
    {
     "name": "stderr",
     "output_type": "stream",
     "text": [
      "Resizing images:  69%|██████▉   | 552/800 [1:22:05<35:51,  8.68s/it]"
     ]
    },
    {
     "name": "stdout",
     "output_type": "stream",
     "text": [
      "input_img.size():  torch.Size([3, 1356, 2040])\n",
      "resize2_img.size():  torch.Size([3, 170, 255])\n",
      "resize2_cut_img.size():  torch.Size([3, 168, 248])\n",
      "create_HrLr kernel_path:C:\\SaiVinay\\SproutsAI\\GitHub_\\ir_srgan_otsr\\results_kernels_DIV2K\\0553\\0553_kernel_x4.mat\n",
      "scale_factor:  [0.125, 0.125, 1]\n",
      "output_shape:  [170 255   3]\n",
      "im.shape:  (1356, 2040, 3)\n"
     ]
    },
    {
     "name": "stderr",
     "output_type": "stream",
     "text": [
      "Resizing images:  69%|██████▉   | 553/800 [1:22:13<35:24,  8.60s/it]"
     ]
    },
    {
     "name": "stdout",
     "output_type": "stream",
     "text": [
      "input_img.size():  torch.Size([3, 1332, 2040])\n",
      "resize2_img.size():  torch.Size([3, 167, 255])\n",
      "resize2_cut_img.size():  torch.Size([3, 160, 248])\n",
      "create_HrLr kernel_path:C:\\SaiVinay\\SproutsAI\\GitHub_\\ir_srgan_otsr\\results_kernels_DIV2K\\0554\\0554_kernel_x4.mat\n",
      "scale_factor:  [0.125, 0.125, 1]\n",
      "output_shape:  [167 255   3]\n",
      "im.shape:  (1332, 2040, 3)\n"
     ]
    },
    {
     "name": "stderr",
     "output_type": "stream",
     "text": [
      "Resizing images:  69%|██████▉   | 554/800 [1:22:22<35:12,  8.59s/it]"
     ]
    },
    {
     "name": "stdout",
     "output_type": "stream",
     "text": [
      "input_img.size():  torch.Size([3, 1356, 2040])\n",
      "resize2_img.size():  torch.Size([3, 170, 255])\n",
      "resize2_cut_img.size():  torch.Size([3, 168, 248])\n",
      "create_HrLr kernel_path:C:\\SaiVinay\\SproutsAI\\GitHub_\\ir_srgan_otsr\\results_kernels_DIV2K\\0555\\0555_kernel_x4.mat\n",
      "scale_factor:  [0.125, 0.125, 1]\n",
      "output_shape:  [170 255   3]\n",
      "im.shape:  (1356, 2040, 3)\n"
     ]
    },
    {
     "name": "stderr",
     "output_type": "stream",
     "text": [
      "Resizing images:  69%|██████▉   | 555/800 [1:22:31<35:04,  8.59s/it]"
     ]
    },
    {
     "name": "stdout",
     "output_type": "stream",
     "text": [
      "input_img.size():  torch.Size([3, 1356, 2040])\n",
      "resize2_img.size():  torch.Size([3, 170, 255])\n",
      "resize2_cut_img.size():  torch.Size([3, 168, 248])\n",
      "create_HrLr kernel_path:C:\\SaiVinay\\SproutsAI\\GitHub_\\ir_srgan_otsr\\results_kernels_DIV2K\\0556\\0556_kernel_x4.mat\n",
      "scale_factor:  [0.125, 0.125, 1]\n",
      "output_shape:  [170 255   3]\n",
      "im.shape:  (1356, 2040, 3)\n"
     ]
    },
    {
     "name": "stderr",
     "output_type": "stream",
     "text": [
      "Resizing images:  70%|██████▉   | 556/800 [1:22:39<34:44,  8.54s/it]"
     ]
    },
    {
     "name": "stdout",
     "output_type": "stream",
     "text": [
      "input_img.size():  torch.Size([3, 1152, 2040])\n",
      "resize2_img.size():  torch.Size([3, 144, 255])\n",
      "resize2_cut_img.size():  torch.Size([3, 144, 248])\n",
      "create_HrLr kernel_path:C:\\SaiVinay\\SproutsAI\\GitHub_\\ir_srgan_otsr\\results_kernels_DIV2K\\0557\\0557_kernel_x4.mat\n",
      "scale_factor:  [0.125, 0.125, 1]\n",
      "output_shape:  [144 255   3]\n",
      "im.shape:  (1152, 2040, 3)\n"
     ]
    },
    {
     "name": "stderr",
     "output_type": "stream",
     "text": [
      "Resizing images:  70%|██████▉   | 557/800 [1:22:46<32:58,  8.14s/it]"
     ]
    },
    {
     "name": "stdout",
     "output_type": "stream",
     "text": [
      "input_img.size():  torch.Size([3, 1356, 2040])\n",
      "resize2_img.size():  torch.Size([3, 170, 255])\n",
      "resize2_cut_img.size():  torch.Size([3, 168, 248])\n",
      "create_HrLr kernel_path:C:\\SaiVinay\\SproutsAI\\GitHub_\\ir_srgan_otsr\\results_kernels_DIV2K\\0558\\0558_kernel_x4.mat\n",
      "scale_factor:  [0.125, 0.125, 1]\n",
      "output_shape:  [170 255   3]\n",
      "im.shape:  (1356, 2040, 3)\n"
     ]
    },
    {
     "name": "stderr",
     "output_type": "stream",
     "text": [
      "Resizing images:  70%|██████▉   | 558/800 [1:22:55<34:11,  8.48s/it]"
     ]
    },
    {
     "name": "stdout",
     "output_type": "stream",
     "text": [
      "input_img.size():  torch.Size([3, 1536, 2040])\n",
      "resize2_img.size():  torch.Size([3, 192, 255])\n",
      "resize2_cut_img.size():  torch.Size([3, 192, 248])\n",
      "create_HrLr kernel_path:C:\\SaiVinay\\SproutsAI\\GitHub_\\ir_srgan_otsr\\results_kernels_DIV2K\\0559\\0559_kernel_x4.mat\n",
      "scale_factor:  [0.125, 0.125, 1]\n",
      "output_shape:  [192 255   3]\n",
      "im.shape:  (1536, 2040, 3)\n"
     ]
    },
    {
     "name": "stderr",
     "output_type": "stream",
     "text": [
      "Resizing images:  70%|██████▉   | 559/800 [1:23:05<35:28,  8.83s/it]"
     ]
    },
    {
     "name": "stdout",
     "output_type": "stream",
     "text": [
      "input_img.size():  torch.Size([3, 1092, 2040])\n",
      "resize2_img.size():  torch.Size([3, 137, 255])\n",
      "resize2_cut_img.size():  torch.Size([3, 136, 248])\n",
      "create_HrLr kernel_path:C:\\SaiVinay\\SproutsAI\\GitHub_\\ir_srgan_otsr\\results_kernels_DIV2K\\0560\\0560_kernel_x4.mat\n",
      "scale_factor:  [0.125, 0.125, 1]\n",
      "output_shape:  [137 255   3]\n",
      "im.shape:  (1092, 2040, 3)\n"
     ]
    },
    {
     "name": "stderr",
     "output_type": "stream",
     "text": [
      "Resizing images:  70%|███████   | 560/800 [1:23:12<32:58,  8.24s/it]"
     ]
    },
    {
     "name": "stdout",
     "output_type": "stream",
     "text": [
      "input_img.size():  torch.Size([3, 1176, 2040])\n",
      "resize2_img.size():  torch.Size([3, 147, 255])\n",
      "resize2_cut_img.size():  torch.Size([3, 144, 248])\n",
      "create_HrLr kernel_path:C:\\SaiVinay\\SproutsAI\\GitHub_\\ir_srgan_otsr\\results_kernels_DIV2K\\0561\\0561_kernel_x4.mat\n",
      "scale_factor:  [0.125, 0.125, 1]\n",
      "output_shape:  [147 255   3]\n",
      "im.shape:  (1176, 2040, 3)\n"
     ]
    },
    {
     "name": "stderr",
     "output_type": "stream",
     "text": [
      "Resizing images:  70%|███████   | 561/800 [1:23:20<32:12,  8.08s/it]"
     ]
    },
    {
     "name": "stdout",
     "output_type": "stream",
     "text": [
      "input_img.size():  torch.Size([3, 1356, 2040])\n",
      "resize2_img.size():  torch.Size([3, 170, 255])\n",
      "resize2_cut_img.size():  torch.Size([3, 168, 248])\n",
      "create_HrLr kernel_path:C:\\SaiVinay\\SproutsAI\\GitHub_\\ir_srgan_otsr\\results_kernels_DIV2K\\0562\\0562_kernel_x4.mat\n",
      "scale_factor:  [0.125, 0.125, 1]\n",
      "output_shape:  [170 255   3]\n",
      "im.shape:  (1356, 2040, 3)\n"
     ]
    },
    {
     "name": "stderr",
     "output_type": "stream",
     "text": [
      "Resizing images:  70%|███████   | 562/800 [1:23:29<33:14,  8.38s/it]"
     ]
    },
    {
     "name": "stdout",
     "output_type": "stream",
     "text": [
      "input_img.size():  torch.Size([3, 1356, 2040])\n",
      "resize2_img.size():  torch.Size([3, 170, 255])\n",
      "resize2_cut_img.size():  torch.Size([3, 168, 248])\n",
      "create_HrLr kernel_path:C:\\SaiVinay\\SproutsAI\\GitHub_\\ir_srgan_otsr\\results_kernels_DIV2K\\0563\\0563_kernel_x4.mat\n",
      "scale_factor:  [0.125, 0.125, 1]\n",
      "output_shape:  [170 255   3]\n",
      "im.shape:  (1356, 2040, 3)\n"
     ]
    },
    {
     "name": "stderr",
     "output_type": "stream",
     "text": [
      "Resizing images:  70%|███████   | 563/800 [1:23:37<33:26,  8.46s/it]"
     ]
    },
    {
     "name": "stdout",
     "output_type": "stream",
     "text": [
      "input_img.size():  torch.Size([3, 1608, 2040])\n",
      "resize2_img.size():  torch.Size([3, 201, 255])\n",
      "resize2_cut_img.size():  torch.Size([3, 200, 248])\n",
      "create_HrLr kernel_path:C:\\SaiVinay\\SproutsAI\\GitHub_\\ir_srgan_otsr\\results_kernels_DIV2K\\0564\\0564_kernel_x4.mat\n",
      "scale_factor:  [0.125, 0.125, 1]\n",
      "output_shape:  [201 255   3]\n",
      "im.shape:  (1608, 2040, 3)\n"
     ]
    },
    {
     "name": "stderr",
     "output_type": "stream",
     "text": [
      "Resizing images:  70%|███████   | 564/800 [1:23:48<36:05,  9.18s/it]"
     ]
    },
    {
     "name": "stdout",
     "output_type": "stream",
     "text": [
      "input_img.size():  torch.Size([3, 2040, 1356])\n",
      "resize2_img.size():  torch.Size([3, 255, 170])\n",
      "resize2_cut_img.size():  torch.Size([3, 248, 168])\n",
      "create_HrLr kernel_path:C:\\SaiVinay\\SproutsAI\\GitHub_\\ir_srgan_otsr\\results_kernels_DIV2K\\0565\\0565_kernel_x4.mat\n",
      "scale_factor:  [0.125, 0.125, 1]\n",
      "output_shape:  [255 170   3]\n",
      "im.shape:  (2040, 1356, 3)\n"
     ]
    },
    {
     "name": "stderr",
     "output_type": "stream",
     "text": [
      "Resizing images:  71%|███████   | 565/800 [1:23:57<35:35,  9.09s/it]"
     ]
    },
    {
     "name": "stdout",
     "output_type": "stream",
     "text": [
      "input_img.size():  torch.Size([3, 1368, 2040])\n",
      "resize2_img.size():  torch.Size([3, 171, 255])\n",
      "resize2_cut_img.size():  torch.Size([3, 168, 248])\n",
      "create_HrLr kernel_path:C:\\SaiVinay\\SproutsAI\\GitHub_\\ir_srgan_otsr\\results_kernels_DIV2K\\0566\\0566_kernel_x4.mat\n",
      "scale_factor:  [0.125, 0.125, 1]\n",
      "output_shape:  [171 255   3]\n",
      "im.shape:  (1368, 2040, 3)\n"
     ]
    },
    {
     "name": "stderr",
     "output_type": "stream",
     "text": [
      "Resizing images:  71%|███████   | 566/800 [1:24:06<34:38,  8.88s/it]"
     ]
    },
    {
     "name": "stdout",
     "output_type": "stream",
     "text": [
      "input_img.size():  torch.Size([3, 1356, 2040])\n",
      "resize2_img.size():  torch.Size([3, 170, 255])\n",
      "resize2_cut_img.size():  torch.Size([3, 168, 248])\n",
      "create_HrLr kernel_path:C:\\SaiVinay\\SproutsAI\\GitHub_\\ir_srgan_otsr\\results_kernels_DIV2K\\0567\\0567_kernel_x4.mat\n",
      "scale_factor:  [0.125, 0.125, 1]\n",
      "output_shape:  [170 255   3]\n",
      "im.shape:  (1356, 2040, 3)\n"
     ]
    },
    {
     "name": "stderr",
     "output_type": "stream",
     "text": [
      "Resizing images:  71%|███████   | 567/800 [1:24:14<33:48,  8.71s/it]"
     ]
    },
    {
     "name": "stdout",
     "output_type": "stream",
     "text": [
      "input_img.size():  torch.Size([3, 2040, 1824])\n",
      "resize2_img.size():  torch.Size([3, 255, 228])\n",
      "resize2_cut_img.size():  torch.Size([3, 248, 224])\n",
      "create_HrLr kernel_path:C:\\SaiVinay\\SproutsAI\\GitHub_\\ir_srgan_otsr\\results_kernels_DIV2K\\0568\\0568_kernel_x4.mat\n",
      "scale_factor:  [0.125, 0.125, 1]\n",
      "output_shape:  [255 228   3]\n",
      "im.shape:  (2040, 1824, 3)\n"
     ]
    },
    {
     "name": "stderr",
     "output_type": "stream",
     "text": [
      "Resizing images:  71%|███████   | 568/800 [1:24:26<37:13,  9.63s/it]"
     ]
    },
    {
     "name": "stdout",
     "output_type": "stream",
     "text": [
      "input_img.size():  torch.Size([3, 1356, 2040])\n",
      "resize2_img.size():  torch.Size([3, 170, 255])\n",
      "resize2_cut_img.size():  torch.Size([3, 168, 248])\n",
      "create_HrLr kernel_path:C:\\SaiVinay\\SproutsAI\\GitHub_\\ir_srgan_otsr\\results_kernels_DIV2K\\0569\\0569_kernel_x4.mat\n",
      "scale_factor:  [0.125, 0.125, 1]\n",
      "output_shape:  [170 255   3]\n",
      "im.shape:  (1356, 2040, 3)\n"
     ]
    },
    {
     "name": "stderr",
     "output_type": "stream",
     "text": [
      "Resizing images:  71%|███████   | 569/800 [1:24:34<35:49,  9.31s/it]"
     ]
    },
    {
     "name": "stdout",
     "output_type": "stream",
     "text": [
      "input_img.size():  torch.Size([3, 1356, 2040])\n",
      "resize2_img.size():  torch.Size([3, 170, 255])\n",
      "resize2_cut_img.size():  torch.Size([3, 168, 248])\n",
      "create_HrLr kernel_path:C:\\SaiVinay\\SproutsAI\\GitHub_\\ir_srgan_otsr\\results_kernels_DIV2K\\0570\\0570_kernel_x4.mat\n",
      "scale_factor:  [0.125, 0.125, 1]\n",
      "output_shape:  [170 255   3]\n",
      "im.shape:  (1356, 2040, 3)\n"
     ]
    },
    {
     "name": "stderr",
     "output_type": "stream",
     "text": [
      "Resizing images:  71%|███████▏  | 570/800 [1:24:43<35:22,  9.23s/it]"
     ]
    },
    {
     "name": "stdout",
     "output_type": "stream",
     "text": [
      "input_img.size():  torch.Size([3, 1356, 2040])\n",
      "resize2_img.size():  torch.Size([3, 170, 255])\n",
      "resize2_cut_img.size():  torch.Size([3, 168, 248])\n",
      "create_HrLr kernel_path:C:\\SaiVinay\\SproutsAI\\GitHub_\\ir_srgan_otsr\\results_kernels_DIV2K\\0571\\0571_kernel_x4.mat\n",
      "scale_factor:  [0.125, 0.125, 1]\n",
      "output_shape:  [170 255   3]\n",
      "im.shape:  (1356, 2040, 3)\n"
     ]
    },
    {
     "name": "stderr",
     "output_type": "stream",
     "text": [
      "Resizing images:  71%|███████▏  | 571/800 [1:24:52<34:47,  9.12s/it]"
     ]
    },
    {
     "name": "stdout",
     "output_type": "stream",
     "text": [
      "input_img.size():  torch.Size([3, 1356, 2040])\n",
      "resize2_img.size():  torch.Size([3, 170, 255])\n",
      "resize2_cut_img.size():  torch.Size([3, 168, 248])\n",
      "create_HrLr kernel_path:C:\\SaiVinay\\SproutsAI\\GitHub_\\ir_srgan_otsr\\results_kernels_DIV2K\\0572\\0572_kernel_x4.mat\n",
      "scale_factor:  [0.125, 0.125, 1]\n",
      "output_shape:  [170 255   3]\n",
      "im.shape:  (1356, 2040, 3)\n"
     ]
    },
    {
     "name": "stderr",
     "output_type": "stream",
     "text": [
      "Resizing images:  72%|███████▏  | 572/800 [1:25:01<34:00,  8.95s/it]"
     ]
    },
    {
     "name": "stdout",
     "output_type": "stream",
     "text": [
      "input_img.size():  torch.Size([3, 1356, 2040])\n",
      "resize2_img.size():  torch.Size([3, 170, 255])\n",
      "resize2_cut_img.size():  torch.Size([3, 168, 248])\n",
      "create_HrLr kernel_path:C:\\SaiVinay\\SproutsAI\\GitHub_\\ir_srgan_otsr\\results_kernels_DIV2K\\0573\\0573_kernel_x4.mat\n",
      "scale_factor:  [0.125, 0.125, 1]\n",
      "output_shape:  [170 255   3]\n",
      "im.shape:  (1356, 2040, 3)\n"
     ]
    },
    {
     "name": "stderr",
     "output_type": "stream",
     "text": [
      "Resizing images:  72%|███████▏  | 573/800 [1:25:10<33:50,  8.95s/it]"
     ]
    },
    {
     "name": "stdout",
     "output_type": "stream",
     "text": [
      "input_img.size():  torch.Size([3, 1332, 2040])\n",
      "resize2_img.size():  torch.Size([3, 167, 255])\n",
      "resize2_cut_img.size():  torch.Size([3, 160, 248])\n",
      "create_HrLr kernel_path:C:\\SaiVinay\\SproutsAI\\GitHub_\\ir_srgan_otsr\\results_kernels_DIV2K\\0574\\0574_kernel_x4.mat\n",
      "scale_factor:  [0.125, 0.125, 1]\n",
      "output_shape:  [167 255   3]\n",
      "im.shape:  (1332, 2040, 3)\n"
     ]
    },
    {
     "name": "stderr",
     "output_type": "stream",
     "text": [
      "Resizing images:  72%|███████▏  | 574/800 [1:25:18<33:18,  8.84s/it]"
     ]
    },
    {
     "name": "stdout",
     "output_type": "stream",
     "text": [
      "input_img.size():  torch.Size([3, 1356, 2040])\n",
      "resize2_img.size():  torch.Size([3, 170, 255])\n",
      "resize2_cut_img.size():  torch.Size([3, 168, 248])\n",
      "create_HrLr kernel_path:C:\\SaiVinay\\SproutsAI\\GitHub_\\ir_srgan_otsr\\results_kernels_DIV2K\\0575\\0575_kernel_x4.mat\n",
      "scale_factor:  [0.125, 0.125, 1]\n",
      "output_shape:  [170 255   3]\n",
      "im.shape:  (1356, 2040, 3)\n"
     ]
    },
    {
     "name": "stderr",
     "output_type": "stream",
     "text": [
      "Resizing images:  72%|███████▏  | 575/800 [1:25:26<32:31,  8.67s/it]"
     ]
    },
    {
     "name": "stdout",
     "output_type": "stream",
     "text": [
      "input_img.size():  torch.Size([3, 1356, 2040])\n",
      "resize2_img.size():  torch.Size([3, 170, 255])\n",
      "resize2_cut_img.size():  torch.Size([3, 168, 248])\n",
      "create_HrLr kernel_path:C:\\SaiVinay\\SproutsAI\\GitHub_\\ir_srgan_otsr\\results_kernels_DIV2K\\0576\\0576_kernel_x4.mat\n",
      "scale_factor:  [0.125, 0.125, 1]\n",
      "output_shape:  [170 255   3]\n",
      "im.shape:  (1356, 2040, 3)\n"
     ]
    },
    {
     "name": "stderr",
     "output_type": "stream",
     "text": [
      "Resizing images:  72%|███████▏  | 576/800 [1:25:36<32:54,  8.81s/it]"
     ]
    },
    {
     "name": "stdout",
     "output_type": "stream",
     "text": [
      "input_img.size():  torch.Size([3, 2040, 1344])\n",
      "resize2_img.size():  torch.Size([3, 255, 168])\n",
      "resize2_cut_img.size():  torch.Size([3, 248, 168])\n",
      "create_HrLr kernel_path:C:\\SaiVinay\\SproutsAI\\GitHub_\\ir_srgan_otsr\\results_kernels_DIV2K\\0577\\0577_kernel_x4.mat\n",
      "scale_factor:  [0.125, 0.125, 1]\n",
      "output_shape:  [255 168   3]\n",
      "im.shape:  (2040, 1344, 3)\n"
     ]
    },
    {
     "name": "stderr",
     "output_type": "stream",
     "text": [
      "Resizing images:  72%|███████▏  | 577/800 [1:25:44<32:19,  8.70s/it]"
     ]
    },
    {
     "name": "stdout",
     "output_type": "stream",
     "text": [
      "input_img.size():  torch.Size([3, 1248, 2040])\n",
      "resize2_img.size():  torch.Size([3, 156, 255])\n",
      "resize2_cut_img.size():  torch.Size([3, 152, 248])\n",
      "create_HrLr kernel_path:C:\\SaiVinay\\SproutsAI\\GitHub_\\ir_srgan_otsr\\results_kernels_DIV2K\\0578\\0578_kernel_x4.mat\n",
      "scale_factor:  [0.125, 0.125, 1]\n",
      "output_shape:  [156 255   3]\n",
      "im.shape:  (1248, 2040, 3)\n"
     ]
    },
    {
     "name": "stderr",
     "output_type": "stream",
     "text": [
      "Resizing images:  72%|███████▏  | 578/800 [1:25:52<31:11,  8.43s/it]"
     ]
    },
    {
     "name": "stdout",
     "output_type": "stream",
     "text": [
      "input_img.size():  torch.Size([3, 1152, 2040])\n",
      "resize2_img.size():  torch.Size([3, 144, 255])\n",
      "resize2_cut_img.size():  torch.Size([3, 144, 248])\n",
      "create_HrLr kernel_path:C:\\SaiVinay\\SproutsAI\\GitHub_\\ir_srgan_otsr\\results_kernels_DIV2K\\0579\\0579_kernel_x4.mat\n",
      "scale_factor:  [0.125, 0.125, 1]\n",
      "output_shape:  [144 255   3]\n",
      "im.shape:  (1152, 2040, 3)\n"
     ]
    },
    {
     "name": "stderr",
     "output_type": "stream",
     "text": [
      "Resizing images:  72%|███████▏  | 579/800 [1:25:59<29:22,  7.98s/it]"
     ]
    },
    {
     "name": "stdout",
     "output_type": "stream",
     "text": [
      "input_img.size():  torch.Size([3, 1344, 2040])\n",
      "resize2_img.size():  torch.Size([3, 168, 255])\n",
      "resize2_cut_img.size():  torch.Size([3, 168, 248])\n",
      "create_HrLr kernel_path:C:\\SaiVinay\\SproutsAI\\GitHub_\\ir_srgan_otsr\\results_kernels_DIV2K\\0580\\0580_kernel_x4.mat\n",
      "scale_factor:  [0.125, 0.125, 1]\n",
      "output_shape:  [168 255   3]\n",
      "im.shape:  (1344, 2040, 3)\n"
     ]
    },
    {
     "name": "stderr",
     "output_type": "stream",
     "text": [
      "Resizing images:  72%|███████▎  | 580/800 [1:26:07<29:30,  8.05s/it]"
     ]
    },
    {
     "name": "stdout",
     "output_type": "stream",
     "text": [
      "input_img.size():  torch.Size([3, 1068, 2040])\n",
      "resize2_img.size():  torch.Size([3, 134, 255])\n",
      "resize2_cut_img.size():  torch.Size([3, 128, 248])\n",
      "create_HrLr kernel_path:C:\\SaiVinay\\SproutsAI\\GitHub_\\ir_srgan_otsr\\results_kernels_DIV2K\\0581\\0581_kernel_x4.mat\n",
      "scale_factor:  [0.125, 0.125, 1]\n",
      "output_shape:  [134 255   3]\n",
      "im.shape:  (1068, 2040, 3)\n"
     ]
    },
    {
     "name": "stderr",
     "output_type": "stream",
     "text": [
      "Resizing images:  73%|███████▎  | 581/800 [1:26:14<28:07,  7.71s/it]"
     ]
    },
    {
     "name": "stdout",
     "output_type": "stream",
     "text": [
      "input_img.size():  torch.Size([3, 1356, 2040])\n",
      "resize2_img.size():  torch.Size([3, 170, 255])\n",
      "resize2_cut_img.size():  torch.Size([3, 168, 248])\n",
      "create_HrLr kernel_path:C:\\SaiVinay\\SproutsAI\\GitHub_\\ir_srgan_otsr\\results_kernels_DIV2K\\0582\\0582_kernel_x4.mat\n",
      "scale_factor:  [0.125, 0.125, 1]\n",
      "output_shape:  [170 255   3]\n",
      "im.shape:  (1356, 2040, 3)\n"
     ]
    },
    {
     "name": "stderr",
     "output_type": "stream",
     "text": [
      "Resizing images:  73%|███████▎  | 582/800 [1:26:22<28:36,  7.88s/it]"
     ]
    },
    {
     "name": "stdout",
     "output_type": "stream",
     "text": [
      "input_img.size():  torch.Size([3, 1188, 2040])\n",
      "resize2_img.size():  torch.Size([3, 149, 255])\n",
      "resize2_cut_img.size():  torch.Size([3, 144, 248])\n",
      "create_HrLr kernel_path:C:\\SaiVinay\\SproutsAI\\GitHub_\\ir_srgan_otsr\\results_kernels_DIV2K\\0583\\0583_kernel_x4.mat\n",
      "scale_factor:  [0.125, 0.125, 1]\n",
      "output_shape:  [149 255   3]\n",
      "im.shape:  (1188, 2040, 3)\n"
     ]
    },
    {
     "name": "stderr",
     "output_type": "stream",
     "text": [
      "Resizing images:  73%|███████▎  | 583/800 [1:26:30<28:28,  7.87s/it]"
     ]
    },
    {
     "name": "stdout",
     "output_type": "stream",
     "text": [
      "input_img.size():  torch.Size([3, 1356, 2040])\n",
      "resize2_img.size():  torch.Size([3, 170, 255])\n",
      "resize2_cut_img.size():  torch.Size([3, 168, 248])\n",
      "create_HrLr kernel_path:C:\\SaiVinay\\SproutsAI\\GitHub_\\ir_srgan_otsr\\results_kernels_DIV2K\\0584\\0584_kernel_x4.mat\n",
      "scale_factor:  [0.125, 0.125, 1]\n",
      "output_shape:  [170 255   3]\n",
      "im.shape:  (1356, 2040, 3)\n"
     ]
    },
    {
     "name": "stderr",
     "output_type": "stream",
     "text": [
      "Resizing images:  73%|███████▎  | 584/800 [1:26:38<28:53,  8.03s/it]"
     ]
    },
    {
     "name": "stdout",
     "output_type": "stream",
     "text": [
      "input_img.size():  torch.Size([3, 1248, 2040])\n",
      "resize2_img.size():  torch.Size([3, 156, 255])\n",
      "resize2_cut_img.size():  torch.Size([3, 152, 248])\n",
      "create_HrLr kernel_path:C:\\SaiVinay\\SproutsAI\\GitHub_\\ir_srgan_otsr\\results_kernels_DIV2K\\0585\\0585_kernel_x4.mat\n",
      "scale_factor:  [0.125, 0.125, 1]\n",
      "output_shape:  [156 255   3]\n",
      "im.shape:  (1248, 2040, 3)\n"
     ]
    },
    {
     "name": "stderr",
     "output_type": "stream",
     "text": [
      "Resizing images:  73%|███████▎  | 585/800 [1:26:46<28:31,  7.96s/it]"
     ]
    },
    {
     "name": "stdout",
     "output_type": "stream",
     "text": [
      "input_img.size():  torch.Size([3, 2040, 1428])\n",
      "resize2_img.size():  torch.Size([3, 255, 179])\n",
      "resize2_cut_img.size():  torch.Size([3, 248, 176])\n",
      "create_HrLr kernel_path:C:\\SaiVinay\\SproutsAI\\GitHub_\\ir_srgan_otsr\\results_kernels_DIV2K\\0586\\0586_kernel_x4.mat\n",
      "scale_factor:  [0.125, 0.125, 1]\n",
      "output_shape:  [255 179   3]\n",
      "im.shape:  (2040, 1428, 3)\n"
     ]
    },
    {
     "name": "stderr",
     "output_type": "stream",
     "text": [
      "Resizing images:  73%|███████▎  | 586/800 [1:26:55<29:16,  8.21s/it]"
     ]
    },
    {
     "name": "stdout",
     "output_type": "stream",
     "text": [
      "input_img.size():  torch.Size([3, 1368, 2040])\n",
      "resize2_img.size():  torch.Size([3, 171, 255])\n",
      "resize2_cut_img.size():  torch.Size([3, 168, 248])\n",
      "create_HrLr kernel_path:C:\\SaiVinay\\SproutsAI\\GitHub_\\ir_srgan_otsr\\results_kernels_DIV2K\\0587\\0587_kernel_x4.mat\n",
      "scale_factor:  [0.125, 0.125, 1]\n",
      "output_shape:  [171 255   3]\n",
      "im.shape:  (1368, 2040, 3)\n"
     ]
    },
    {
     "name": "stderr",
     "output_type": "stream",
     "text": [
      "Resizing images:  73%|███████▎  | 587/800 [1:27:03<29:29,  8.31s/it]"
     ]
    },
    {
     "name": "stdout",
     "output_type": "stream",
     "text": [
      "input_img.size():  torch.Size([3, 1356, 2040])\n",
      "resize2_img.size():  torch.Size([3, 170, 255])\n",
      "resize2_cut_img.size():  torch.Size([3, 168, 248])\n",
      "create_HrLr kernel_path:C:\\SaiVinay\\SproutsAI\\GitHub_\\ir_srgan_otsr\\results_kernels_DIV2K\\0588\\0588_kernel_x4.mat\n",
      "scale_factor:  [0.125, 0.125, 1]\n",
      "output_shape:  [170 255   3]\n",
      "im.shape:  (1356, 2040, 3)\n"
     ]
    },
    {
     "name": "stderr",
     "output_type": "stream",
     "text": [
      "Resizing images:  74%|███████▎  | 588/800 [1:27:12<29:16,  8.29s/it]"
     ]
    },
    {
     "name": "stdout",
     "output_type": "stream",
     "text": [
      "input_img.size():  torch.Size([3, 1356, 2040])\n",
      "resize2_img.size():  torch.Size([3, 170, 255])\n",
      "resize2_cut_img.size():  torch.Size([3, 168, 248])\n",
      "create_HrLr kernel_path:C:\\SaiVinay\\SproutsAI\\GitHub_\\ir_srgan_otsr\\results_kernels_DIV2K\\0589\\0589_kernel_x4.mat\n",
      "scale_factor:  [0.125, 0.125, 1]\n",
      "output_shape:  [170 255   3]\n",
      "im.shape:  (1356, 2040, 3)\n"
     ]
    },
    {
     "name": "stderr",
     "output_type": "stream",
     "text": [
      "Resizing images:  74%|███████▎  | 589/800 [1:27:20<29:15,  8.32s/it]"
     ]
    },
    {
     "name": "stdout",
     "output_type": "stream",
     "text": [
      "input_img.size():  torch.Size([3, 2040, 1356])\n",
      "resize2_img.size():  torch.Size([3, 255, 170])\n",
      "resize2_cut_img.size():  torch.Size([3, 248, 168])\n",
      "create_HrLr kernel_path:C:\\SaiVinay\\SproutsAI\\GitHub_\\ir_srgan_otsr\\results_kernels_DIV2K\\0590\\0590_kernel_x4.mat\n",
      "scale_factor:  [0.125, 0.125, 1]\n",
      "output_shape:  [255 170   3]\n",
      "im.shape:  (2040, 1356, 3)\n"
     ]
    },
    {
     "name": "stderr",
     "output_type": "stream",
     "text": [
      "Resizing images:  74%|███████▍  | 590/800 [1:27:29<29:35,  8.46s/it]"
     ]
    },
    {
     "name": "stdout",
     "output_type": "stream",
     "text": [
      "input_img.size():  torch.Size([3, 1212, 2040])\n",
      "resize2_img.size():  torch.Size([3, 152, 255])\n",
      "resize2_cut_img.size():  torch.Size([3, 152, 248])\n",
      "create_HrLr kernel_path:C:\\SaiVinay\\SproutsAI\\GitHub_\\ir_srgan_otsr\\results_kernels_DIV2K\\0591\\0591_kernel_x4.mat\n",
      "scale_factor:  [0.125, 0.125, 1]\n",
      "output_shape:  [152 255   3]\n",
      "im.shape:  (1212, 2040, 3)\n"
     ]
    },
    {
     "name": "stderr",
     "output_type": "stream",
     "text": [
      "Resizing images:  74%|███████▍  | 591/800 [1:27:37<28:44,  8.25s/it]"
     ]
    },
    {
     "name": "stdout",
     "output_type": "stream",
     "text": [
      "input_img.size():  torch.Size([3, 1356, 2040])\n",
      "resize2_img.size():  torch.Size([3, 170, 255])\n",
      "resize2_cut_img.size():  torch.Size([3, 168, 248])\n",
      "create_HrLr kernel_path:C:\\SaiVinay\\SproutsAI\\GitHub_\\ir_srgan_otsr\\results_kernels_DIV2K\\0592\\0592_kernel_x4.mat\n",
      "scale_factor:  [0.125, 0.125, 1]\n",
      "output_shape:  [170 255   3]\n",
      "im.shape:  (1356, 2040, 3)\n"
     ]
    },
    {
     "name": "stderr",
     "output_type": "stream",
     "text": [
      "Resizing images:  74%|███████▍  | 592/800 [1:27:45<29:03,  8.38s/it]"
     ]
    },
    {
     "name": "stdout",
     "output_type": "stream",
     "text": [
      "input_img.size():  torch.Size([3, 1356, 2040])\n",
      "resize2_img.size():  torch.Size([3, 170, 255])\n",
      "resize2_cut_img.size():  torch.Size([3, 168, 248])\n",
      "create_HrLr kernel_path:C:\\SaiVinay\\SproutsAI\\GitHub_\\ir_srgan_otsr\\results_kernels_DIV2K\\0593\\0593_kernel_x4.mat\n",
      "scale_factor:  [0.125, 0.125, 1]\n",
      "output_shape:  [170 255   3]\n",
      "im.shape:  (1356, 2040, 3)\n"
     ]
    },
    {
     "name": "stderr",
     "output_type": "stream",
     "text": [
      "Resizing images:  74%|███████▍  | 593/800 [1:27:54<29:39,  8.59s/it]"
     ]
    },
    {
     "name": "stdout",
     "output_type": "stream",
     "text": [
      "input_img.size():  torch.Size([3, 1356, 2040])\n",
      "resize2_img.size():  torch.Size([3, 170, 255])\n",
      "resize2_cut_img.size():  torch.Size([3, 168, 248])\n",
      "create_HrLr kernel_path:C:\\SaiVinay\\SproutsAI\\GitHub_\\ir_srgan_otsr\\results_kernels_DIV2K\\0594\\0594_kernel_x4.mat\n",
      "scale_factor:  [0.125, 0.125, 1]\n",
      "output_shape:  [170 255   3]\n",
      "im.shape:  (1356, 2040, 3)\n"
     ]
    },
    {
     "name": "stderr",
     "output_type": "stream",
     "text": [
      "Resizing images:  74%|███████▍  | 594/800 [1:28:03<29:23,  8.56s/it]"
     ]
    },
    {
     "name": "stdout",
     "output_type": "stream",
     "text": [
      "input_img.size():  torch.Size([3, 1428, 2040])\n",
      "resize2_img.size():  torch.Size([3, 179, 255])\n",
      "resize2_cut_img.size():  torch.Size([3, 176, 248])\n",
      "create_HrLr kernel_path:C:\\SaiVinay\\SproutsAI\\GitHub_\\ir_srgan_otsr\\results_kernels_DIV2K\\0595\\0595_kernel_x4.mat\n",
      "scale_factor:  [0.125, 0.125, 1]\n",
      "output_shape:  [179 255   3]\n",
      "im.shape:  (1428, 2040, 3)\n"
     ]
    },
    {
     "name": "stderr",
     "output_type": "stream",
     "text": [
      "Resizing images:  74%|███████▍  | 595/800 [1:28:12<29:52,  8.75s/it]"
     ]
    },
    {
     "name": "stdout",
     "output_type": "stream",
     "text": [
      "input_img.size():  torch.Size([3, 1356, 2040])\n",
      "resize2_img.size():  torch.Size([3, 170, 255])\n",
      "resize2_cut_img.size():  torch.Size([3, 168, 248])\n",
      "create_HrLr kernel_path:C:\\SaiVinay\\SproutsAI\\GitHub_\\ir_srgan_otsr\\results_kernels_DIV2K\\0596\\0596_kernel_x4.mat\n",
      "scale_factor:  [0.125, 0.125, 1]\n",
      "output_shape:  [170 255   3]\n",
      "im.shape:  (1356, 2040, 3)\n"
     ]
    },
    {
     "name": "stderr",
     "output_type": "stream",
     "text": [
      "Resizing images:  74%|███████▍  | 596/800 [1:28:21<29:57,  8.81s/it]"
     ]
    },
    {
     "name": "stdout",
     "output_type": "stream",
     "text": [
      "input_img.size():  torch.Size([3, 2040, 1356])\n",
      "resize2_img.size():  torch.Size([3, 255, 170])\n",
      "resize2_cut_img.size():  torch.Size([3, 248, 168])\n",
      "create_HrLr kernel_path:C:\\SaiVinay\\SproutsAI\\GitHub_\\ir_srgan_otsr\\results_kernels_DIV2K\\0597\\0597_kernel_x4.mat\n",
      "scale_factor:  [0.125, 0.125, 1]\n",
      "output_shape:  [255 170   3]\n",
      "im.shape:  (2040, 1356, 3)\n"
     ]
    },
    {
     "name": "stderr",
     "output_type": "stream",
     "text": [
      "Resizing images:  75%|███████▍  | 597/800 [1:28:30<29:56,  8.85s/it]"
     ]
    },
    {
     "name": "stdout",
     "output_type": "stream",
     "text": [
      "input_img.size():  torch.Size([3, 1356, 2040])\n",
      "resize2_img.size():  torch.Size([3, 170, 255])\n",
      "resize2_cut_img.size():  torch.Size([3, 168, 248])\n",
      "create_HrLr kernel_path:C:\\SaiVinay\\SproutsAI\\GitHub_\\ir_srgan_otsr\\results_kernels_DIV2K\\0598\\0598_kernel_x4.mat\n",
      "scale_factor:  [0.125, 0.125, 1]\n",
      "output_shape:  [170 255   3]\n",
      "im.shape:  (1356, 2040, 3)\n"
     ]
    },
    {
     "name": "stderr",
     "output_type": "stream",
     "text": [
      "Resizing images:  75%|███████▍  | 598/800 [1:28:39<29:59,  8.91s/it]"
     ]
    },
    {
     "name": "stdout",
     "output_type": "stream",
     "text": [
      "input_img.size():  torch.Size([3, 1356, 2040])\n",
      "resize2_img.size():  torch.Size([3, 170, 255])\n",
      "resize2_cut_img.size():  torch.Size([3, 168, 248])\n",
      "create_HrLr kernel_path:C:\\SaiVinay\\SproutsAI\\GitHub_\\ir_srgan_otsr\\results_kernels_DIV2K\\0599\\0599_kernel_x4.mat\n",
      "scale_factor:  [0.125, 0.125, 1]\n",
      "output_shape:  [170 255   3]\n",
      "im.shape:  (1356, 2040, 3)\n"
     ]
    },
    {
     "name": "stderr",
     "output_type": "stream",
     "text": [
      "Resizing images:  75%|███████▍  | 599/800 [1:28:49<30:30,  9.11s/it]"
     ]
    },
    {
     "name": "stdout",
     "output_type": "stream",
     "text": [
      "input_img.size():  torch.Size([3, 1536, 2040])\n",
      "resize2_img.size():  torch.Size([3, 192, 255])\n",
      "resize2_cut_img.size():  torch.Size([3, 192, 248])\n",
      "create_HrLr kernel_path:C:\\SaiVinay\\SproutsAI\\GitHub_\\ir_srgan_otsr\\results_kernels_DIV2K\\0600\\0600_kernel_x4.mat\n",
      "scale_factor:  [0.125, 0.125, 1]\n",
      "output_shape:  [192 255   3]\n",
      "im.shape:  (1536, 2040, 3)\n"
     ]
    },
    {
     "name": "stderr",
     "output_type": "stream",
     "text": [
      "Resizing images:  75%|███████▌  | 600/800 [1:28:59<32:03,  9.62s/it]"
     ]
    },
    {
     "name": "stdout",
     "output_type": "stream",
     "text": [
      "input_img.size():  torch.Size([3, 1356, 2040])\n",
      "resize2_img.size():  torch.Size([3, 170, 255])\n",
      "resize2_cut_img.size():  torch.Size([3, 168, 248])\n",
      "create_HrLr kernel_path:C:\\SaiVinay\\SproutsAI\\GitHub_\\ir_srgan_otsr\\results_kernels_DIV2K\\0601\\0601_kernel_x4.mat\n",
      "scale_factor:  [0.125, 0.125, 1]\n",
      "output_shape:  [170 255   3]\n",
      "im.shape:  (1356, 2040, 3)\n"
     ]
    },
    {
     "name": "stderr",
     "output_type": "stream",
     "text": [
      "Resizing images:  75%|███████▌  | 601/800 [1:29:08<31:16,  9.43s/it]"
     ]
    },
    {
     "name": "stdout",
     "output_type": "stream",
     "text": [
      "input_img.size():  torch.Size([3, 1356, 2040])\n",
      "resize2_img.size():  torch.Size([3, 170, 255])\n",
      "resize2_cut_img.size():  torch.Size([3, 168, 248])\n",
      "create_HrLr kernel_path:C:\\SaiVinay\\SproutsAI\\GitHub_\\ir_srgan_otsr\\results_kernels_DIV2K\\0602\\0602_kernel_x4.mat\n",
      "scale_factor:  [0.125, 0.125, 1]\n",
      "output_shape:  [170 255   3]\n",
      "im.shape:  (1356, 2040, 3)\n"
     ]
    },
    {
     "name": "stderr",
     "output_type": "stream",
     "text": [
      "Resizing images:  75%|███████▌  | 602/800 [1:29:18<31:09,  9.44s/it]"
     ]
    },
    {
     "name": "stdout",
     "output_type": "stream",
     "text": [
      "input_img.size():  torch.Size([3, 2040, 1356])\n",
      "resize2_img.size():  torch.Size([3, 255, 170])\n",
      "resize2_cut_img.size():  torch.Size([3, 248, 168])\n",
      "create_HrLr kernel_path:C:\\SaiVinay\\SproutsAI\\GitHub_\\ir_srgan_otsr\\results_kernels_DIV2K\\0603\\0603_kernel_x4.mat\n",
      "scale_factor:  [0.125, 0.125, 1]\n",
      "output_shape:  [255 170   3]\n",
      "im.shape:  (2040, 1356, 3)\n"
     ]
    },
    {
     "name": "stderr",
     "output_type": "stream",
     "text": [
      "Resizing images:  75%|███████▌  | 603/800 [1:29:27<31:02,  9.46s/it]"
     ]
    },
    {
     "name": "stdout",
     "output_type": "stream",
     "text": [
      "input_img.size():  torch.Size([3, 1356, 2040])\n",
      "resize2_img.size():  torch.Size([3, 170, 255])\n",
      "resize2_cut_img.size():  torch.Size([3, 168, 248])\n",
      "create_HrLr kernel_path:C:\\SaiVinay\\SproutsAI\\GitHub_\\ir_srgan_otsr\\results_kernels_DIV2K\\0604\\0604_kernel_x4.mat\n",
      "scale_factor:  [0.125, 0.125, 1]\n",
      "output_shape:  [170 255   3]\n",
      "im.shape:  (1356, 2040, 3)\n"
     ]
    },
    {
     "name": "stderr",
     "output_type": "stream",
     "text": [
      "Resizing images:  76%|███████▌  | 604/800 [1:29:35<29:32,  9.05s/it]"
     ]
    },
    {
     "name": "stdout",
     "output_type": "stream",
     "text": [
      "input_img.size():  torch.Size([3, 1428, 2040])\n",
      "resize2_img.size():  torch.Size([3, 179, 255])\n",
      "resize2_cut_img.size():  torch.Size([3, 176, 248])\n",
      "create_HrLr kernel_path:C:\\SaiVinay\\SproutsAI\\GitHub_\\ir_srgan_otsr\\results_kernels_DIV2K\\0605\\0605_kernel_x4.mat\n",
      "scale_factor:  [0.125, 0.125, 1]\n",
      "output_shape:  [179 255   3]\n",
      "im.shape:  (1428, 2040, 3)\n"
     ]
    },
    {
     "name": "stderr",
     "output_type": "stream",
     "text": [
      "Resizing images:  76%|███████▌  | 605/800 [1:29:44<29:23,  9.04s/it]"
     ]
    },
    {
     "name": "stdout",
     "output_type": "stream",
     "text": [
      "input_img.size():  torch.Size([3, 1356, 2040])\n",
      "resize2_img.size():  torch.Size([3, 170, 255])\n",
      "resize2_cut_img.size():  torch.Size([3, 168, 248])\n",
      "create_HrLr kernel_path:C:\\SaiVinay\\SproutsAI\\GitHub_\\ir_srgan_otsr\\results_kernels_DIV2K\\0606\\0606_kernel_x4.mat\n",
      "scale_factor:  [0.125, 0.125, 1]\n",
      "output_shape:  [170 255   3]\n",
      "im.shape:  (1356, 2040, 3)\n"
     ]
    },
    {
     "name": "stderr",
     "output_type": "stream",
     "text": [
      "Resizing images:  76%|███████▌  | 606/800 [1:29:53<28:25,  8.79s/it]"
     ]
    },
    {
     "name": "stdout",
     "output_type": "stream",
     "text": [
      "input_img.size():  torch.Size([3, 1356, 2040])\n",
      "resize2_img.size():  torch.Size([3, 170, 255])\n",
      "resize2_cut_img.size():  torch.Size([3, 168, 248])\n",
      "create_HrLr kernel_path:C:\\SaiVinay\\SproutsAI\\GitHub_\\ir_srgan_otsr\\results_kernels_DIV2K\\0607\\0607_kernel_x4.mat\n",
      "scale_factor:  [0.125, 0.125, 1]\n",
      "output_shape:  [170 255   3]\n",
      "im.shape:  (1356, 2040, 3)\n"
     ]
    },
    {
     "name": "stderr",
     "output_type": "stream",
     "text": [
      "Resizing images:  76%|███████▌  | 607/800 [1:30:01<27:54,  8.68s/it]"
     ]
    },
    {
     "name": "stdout",
     "output_type": "stream",
     "text": [
      "input_img.size():  torch.Size([3, 2040, 1356])\n",
      "resize2_img.size():  torch.Size([3, 255, 170])\n",
      "resize2_cut_img.size():  torch.Size([3, 248, 168])\n",
      "create_HrLr kernel_path:C:\\SaiVinay\\SproutsAI\\GitHub_\\ir_srgan_otsr\\results_kernels_DIV2K\\0608\\0608_kernel_x4.mat\n",
      "scale_factor:  [0.125, 0.125, 1]\n",
      "output_shape:  [255 170   3]\n",
      "im.shape:  (2040, 1356, 3)\n"
     ]
    },
    {
     "name": "stderr",
     "output_type": "stream",
     "text": [
      "Resizing images:  76%|███████▌  | 608/800 [1:30:10<28:10,  8.81s/it]"
     ]
    },
    {
     "name": "stdout",
     "output_type": "stream",
     "text": [
      "input_img.size():  torch.Size([3, 1356, 2040])\n",
      "resize2_img.size():  torch.Size([3, 170, 255])\n",
      "resize2_cut_img.size():  torch.Size([3, 168, 248])\n",
      "create_HrLr kernel_path:C:\\SaiVinay\\SproutsAI\\GitHub_\\ir_srgan_otsr\\results_kernels_DIV2K\\0609\\0609_kernel_x4.mat\n",
      "scale_factor:  [0.125, 0.125, 1]\n",
      "output_shape:  [170 255   3]\n",
      "im.shape:  (1356, 2040, 3)\n"
     ]
    },
    {
     "name": "stderr",
     "output_type": "stream",
     "text": [
      "Resizing images:  76%|███████▌  | 609/800 [1:30:19<28:15,  8.88s/it]"
     ]
    },
    {
     "name": "stdout",
     "output_type": "stream",
     "text": [
      "input_img.size():  torch.Size([3, 1440, 2040])\n",
      "resize2_img.size():  torch.Size([3, 180, 255])\n",
      "resize2_cut_img.size():  torch.Size([3, 176, 248])\n",
      "create_HrLr kernel_path:C:\\SaiVinay\\SproutsAI\\GitHub_\\ir_srgan_otsr\\results_kernels_DIV2K\\0610\\0610_kernel_x4.mat\n",
      "scale_factor:  [0.125, 0.125, 1]\n",
      "output_shape:  [180 255   3]\n",
      "im.shape:  (1440, 2040, 3)\n"
     ]
    },
    {
     "name": "stderr",
     "output_type": "stream",
     "text": [
      "Resizing images:  76%|███████▋  | 610/800 [1:30:29<29:03,  9.18s/it]"
     ]
    },
    {
     "name": "stdout",
     "output_type": "stream",
     "text": [
      "input_img.size():  torch.Size([3, 1356, 2040])\n",
      "resize2_img.size():  torch.Size([3, 170, 255])\n",
      "resize2_cut_img.size():  torch.Size([3, 168, 248])\n",
      "create_HrLr kernel_path:C:\\SaiVinay\\SproutsAI\\GitHub_\\ir_srgan_otsr\\results_kernels_DIV2K\\0611\\0611_kernel_x4.mat\n",
      "scale_factor:  [0.125, 0.125, 1]\n",
      "output_shape:  [170 255   3]\n",
      "im.shape:  (1356, 2040, 3)\n"
     ]
    },
    {
     "name": "stderr",
     "output_type": "stream",
     "text": [
      "Resizing images:  76%|███████▋  | 611/800 [1:30:38<28:12,  8.96s/it]"
     ]
    },
    {
     "name": "stdout",
     "output_type": "stream",
     "text": [
      "input_img.size():  torch.Size([3, 1188, 2040])\n",
      "resize2_img.size():  torch.Size([3, 149, 255])\n",
      "resize2_cut_img.size():  torch.Size([3, 144, 248])\n",
      "create_HrLr kernel_path:C:\\SaiVinay\\SproutsAI\\GitHub_\\ir_srgan_otsr\\results_kernels_DIV2K\\0612\\0612_kernel_x4.mat\n",
      "scale_factor:  [0.125, 0.125, 1]\n",
      "output_shape:  [149 255   3]\n",
      "im.shape:  (1188, 2040, 3)\n"
     ]
    },
    {
     "name": "stderr",
     "output_type": "stream",
     "text": [
      "Resizing images:  76%|███████▋  | 612/800 [1:30:45<26:56,  8.60s/it]"
     ]
    },
    {
     "name": "stdout",
     "output_type": "stream",
     "text": [
      "input_img.size():  torch.Size([3, 1584, 2040])\n",
      "resize2_img.size():  torch.Size([3, 198, 255])\n",
      "resize2_cut_img.size():  torch.Size([3, 192, 248])\n",
      "create_HrLr kernel_path:C:\\SaiVinay\\SproutsAI\\GitHub_\\ir_srgan_otsr\\results_kernels_DIV2K\\0613\\0613_kernel_x4.mat\n",
      "scale_factor:  [0.125, 0.125, 1]\n",
      "output_shape:  [198 255   3]\n",
      "im.shape:  (1584, 2040, 3)\n"
     ]
    },
    {
     "name": "stderr",
     "output_type": "stream",
     "text": [
      "Resizing images:  77%|███████▋  | 613/800 [1:30:56<28:18,  9.08s/it]"
     ]
    },
    {
     "name": "stdout",
     "output_type": "stream",
     "text": [
      "input_img.size():  torch.Size([3, 2040, 1356])\n",
      "resize2_img.size():  torch.Size([3, 255, 170])\n",
      "resize2_cut_img.size():  torch.Size([3, 248, 168])\n",
      "create_HrLr kernel_path:C:\\SaiVinay\\SproutsAI\\GitHub_\\ir_srgan_otsr\\results_kernels_DIV2K\\0614\\0614_kernel_x4.mat\n",
      "scale_factor:  [0.125, 0.125, 1]\n",
      "output_shape:  [255 170   3]\n",
      "im.shape:  (2040, 1356, 3)\n"
     ]
    },
    {
     "name": "stderr",
     "output_type": "stream",
     "text": [
      "Resizing images:  77%|███████▋  | 614/800 [1:31:05<28:05,  9.06s/it]"
     ]
    },
    {
     "name": "stdout",
     "output_type": "stream",
     "text": [
      "input_img.size():  torch.Size([3, 2040, 1356])\n",
      "resize2_img.size():  torch.Size([3, 255, 170])\n",
      "resize2_cut_img.size():  torch.Size([3, 248, 168])\n",
      "create_HrLr kernel_path:C:\\SaiVinay\\SproutsAI\\GitHub_\\ir_srgan_otsr\\results_kernels_DIV2K\\0615\\0615_kernel_x4.mat\n",
      "scale_factor:  [0.125, 0.125, 1]\n",
      "output_shape:  [255 170   3]\n",
      "im.shape:  (2040, 1356, 3)\n"
     ]
    },
    {
     "name": "stderr",
     "output_type": "stream",
     "text": [
      "Resizing images:  77%|███████▋  | 615/800 [1:31:14<28:13,  9.15s/it]"
     ]
    },
    {
     "name": "stdout",
     "output_type": "stream",
     "text": [
      "input_img.size():  torch.Size([3, 1368, 2040])\n",
      "resize2_img.size():  torch.Size([3, 171, 255])\n",
      "resize2_cut_img.size():  torch.Size([3, 168, 248])\n",
      "create_HrLr kernel_path:C:\\SaiVinay\\SproutsAI\\GitHub_\\ir_srgan_otsr\\results_kernels_DIV2K\\0616\\0616_kernel_x4.mat\n",
      "scale_factor:  [0.125, 0.125, 1]\n",
      "output_shape:  [171 255   3]\n",
      "im.shape:  (1368, 2040, 3)\n"
     ]
    },
    {
     "name": "stderr",
     "output_type": "stream",
     "text": [
      "Resizing images:  77%|███████▋  | 616/800 [1:31:23<27:50,  9.08s/it]"
     ]
    },
    {
     "name": "stdout",
     "output_type": "stream",
     "text": [
      "input_img.size():  torch.Size([3, 1356, 2040])\n",
      "resize2_img.size():  torch.Size([3, 170, 255])\n",
      "resize2_cut_img.size():  torch.Size([3, 168, 248])\n",
      "create_HrLr kernel_path:C:\\SaiVinay\\SproutsAI\\GitHub_\\ir_srgan_otsr\\results_kernels_DIV2K\\0617\\0617_kernel_x4.mat\n",
      "scale_factor:  [0.125, 0.125, 1]\n",
      "output_shape:  [170 255   3]\n",
      "im.shape:  (1356, 2040, 3)\n"
     ]
    },
    {
     "name": "stderr",
     "output_type": "stream",
     "text": [
      "Resizing images:  77%|███████▋  | 617/800 [1:31:32<27:19,  8.96s/it]"
     ]
    },
    {
     "name": "stdout",
     "output_type": "stream",
     "text": [
      "input_img.size():  torch.Size([3, 1356, 2040])\n",
      "resize2_img.size():  torch.Size([3, 170, 255])\n",
      "resize2_cut_img.size():  torch.Size([3, 168, 248])\n",
      "create_HrLr kernel_path:C:\\SaiVinay\\SproutsAI\\GitHub_\\ir_srgan_otsr\\results_kernels_DIV2K\\0618\\0618_kernel_x4.mat\n",
      "scale_factor:  [0.125, 0.125, 1]\n",
      "output_shape:  [170 255   3]\n",
      "im.shape:  (1356, 2040, 3)\n"
     ]
    },
    {
     "name": "stderr",
     "output_type": "stream",
     "text": [
      "Resizing images:  77%|███████▋  | 618/800 [1:31:41<27:14,  8.98s/it]"
     ]
    },
    {
     "name": "stdout",
     "output_type": "stream",
     "text": [
      "input_img.size():  torch.Size([3, 1524, 2040])\n",
      "resize2_img.size():  torch.Size([3, 191, 255])\n",
      "resize2_cut_img.size():  torch.Size([3, 184, 248])\n",
      "create_HrLr kernel_path:C:\\SaiVinay\\SproutsAI\\GitHub_\\ir_srgan_otsr\\results_kernels_DIV2K\\0619\\0619_kernel_x4.mat\n",
      "scale_factor:  [0.125, 0.125, 1]\n",
      "output_shape:  [191 255   3]\n",
      "im.shape:  (1524, 2040, 3)\n"
     ]
    },
    {
     "name": "stderr",
     "output_type": "stream",
     "text": [
      "Resizing images:  77%|███████▋  | 619/800 [1:31:50<27:50,  9.23s/it]"
     ]
    },
    {
     "name": "stdout",
     "output_type": "stream",
     "text": [
      "input_img.size():  torch.Size([3, 1356, 2040])\n",
      "resize2_img.size():  torch.Size([3, 170, 255])\n",
      "resize2_cut_img.size():  torch.Size([3, 168, 248])\n",
      "create_HrLr kernel_path:C:\\SaiVinay\\SproutsAI\\GitHub_\\ir_srgan_otsr\\results_kernels_DIV2K\\0620\\0620_kernel_x4.mat\n",
      "scale_factor:  [0.125, 0.125, 1]\n",
      "output_shape:  [170 255   3]\n",
      "im.shape:  (1356, 2040, 3)\n"
     ]
    },
    {
     "name": "stderr",
     "output_type": "stream",
     "text": [
      "Resizing images:  78%|███████▊  | 620/800 [1:31:59<27:10,  9.06s/it]"
     ]
    },
    {
     "name": "stdout",
     "output_type": "stream",
     "text": [
      "input_img.size():  torch.Size([3, 1356, 2040])\n",
      "resize2_img.size():  torch.Size([3, 170, 255])\n",
      "resize2_cut_img.size():  torch.Size([3, 168, 248])\n",
      "create_HrLr kernel_path:C:\\SaiVinay\\SproutsAI\\GitHub_\\ir_srgan_otsr\\results_kernels_DIV2K\\0621\\0621_kernel_x4.mat\n",
      "scale_factor:  [0.125, 0.125, 1]\n",
      "output_shape:  [170 255   3]\n",
      "im.shape:  (1356, 2040, 3)\n"
     ]
    },
    {
     "name": "stderr",
     "output_type": "stream",
     "text": [
      "Resizing images:  78%|███████▊  | 621/800 [1:32:07<26:13,  8.79s/it]"
     ]
    },
    {
     "name": "stdout",
     "output_type": "stream",
     "text": [
      "input_img.size():  torch.Size([3, 1452, 2040])\n",
      "resize2_img.size():  torch.Size([3, 182, 255])\n",
      "resize2_cut_img.size():  torch.Size([3, 176, 248])\n",
      "create_HrLr kernel_path:C:\\SaiVinay\\SproutsAI\\GitHub_\\ir_srgan_otsr\\results_kernels_DIV2K\\0622\\0622_kernel_x4.mat\n",
      "scale_factor:  [0.125, 0.125, 1]\n",
      "output_shape:  [182 255   3]\n",
      "im.shape:  (1452, 2040, 3)\n"
     ]
    },
    {
     "name": "stderr",
     "output_type": "stream",
     "text": [
      "Resizing images:  78%|███████▊  | 622/800 [1:32:17<26:36,  8.97s/it]"
     ]
    },
    {
     "name": "stdout",
     "output_type": "stream",
     "text": [
      "input_img.size():  torch.Size([3, 1356, 2040])\n",
      "resize2_img.size():  torch.Size([3, 170, 255])\n",
      "resize2_cut_img.size():  torch.Size([3, 168, 248])\n",
      "create_HrLr kernel_path:C:\\SaiVinay\\SproutsAI\\GitHub_\\ir_srgan_otsr\\results_kernels_DIV2K\\0623\\0623_kernel_x4.mat\n",
      "scale_factor:  [0.125, 0.125, 1]\n",
      "output_shape:  [170 255   3]\n",
      "im.shape:  (1356, 2040, 3)\n"
     ]
    },
    {
     "name": "stderr",
     "output_type": "stream",
     "text": [
      "Resizing images:  78%|███████▊  | 623/800 [1:32:25<26:10,  8.88s/it]"
     ]
    },
    {
     "name": "stdout",
     "output_type": "stream",
     "text": [
      "input_img.size():  torch.Size([3, 2040, 1356])\n",
      "resize2_img.size():  torch.Size([3, 255, 170])\n",
      "resize2_cut_img.size():  torch.Size([3, 248, 168])\n",
      "create_HrLr kernel_path:C:\\SaiVinay\\SproutsAI\\GitHub_\\ir_srgan_otsr\\results_kernels_DIV2K\\0624\\0624_kernel_x4.mat\n",
      "scale_factor:  [0.125, 0.125, 1]\n",
      "output_shape:  [255 170   3]\n",
      "im.shape:  (2040, 1356, 3)\n"
     ]
    },
    {
     "name": "stderr",
     "output_type": "stream",
     "text": [
      "Resizing images:  78%|███████▊  | 624/800 [1:32:34<25:50,  8.81s/it]"
     ]
    },
    {
     "name": "stdout",
     "output_type": "stream",
     "text": [
      "input_img.size():  torch.Size([3, 2040, 1356])\n",
      "resize2_img.size():  torch.Size([3, 255, 170])\n",
      "resize2_cut_img.size():  torch.Size([3, 248, 168])\n",
      "create_HrLr kernel_path:C:\\SaiVinay\\SproutsAI\\GitHub_\\ir_srgan_otsr\\results_kernels_DIV2K\\0625\\0625_kernel_x4.mat\n",
      "scale_factor:  [0.125, 0.125, 1]\n",
      "output_shape:  [255 170   3]\n",
      "im.shape:  (2040, 1356, 3)\n"
     ]
    },
    {
     "name": "stderr",
     "output_type": "stream",
     "text": [
      "Resizing images:  78%|███████▊  | 625/800 [1:32:43<26:01,  8.92s/it]"
     ]
    },
    {
     "name": "stdout",
     "output_type": "stream",
     "text": [
      "input_img.size():  torch.Size([3, 1356, 2040])\n",
      "resize2_img.size():  torch.Size([3, 170, 255])\n",
      "resize2_cut_img.size():  torch.Size([3, 168, 248])\n",
      "create_HrLr kernel_path:C:\\SaiVinay\\SproutsAI\\GitHub_\\ir_srgan_otsr\\results_kernels_DIV2K\\0626\\0626_kernel_x4.mat\n",
      "scale_factor:  [0.125, 0.125, 1]\n",
      "output_shape:  [170 255   3]\n",
      "im.shape:  (1356, 2040, 3)\n"
     ]
    },
    {
     "name": "stderr",
     "output_type": "stream",
     "text": [
      "Resizing images:  78%|███████▊  | 626/800 [1:32:52<25:52,  8.92s/it]"
     ]
    },
    {
     "name": "stdout",
     "output_type": "stream",
     "text": [
      "input_img.size():  torch.Size([3, 864, 2040])\n",
      "resize2_img.size():  torch.Size([3, 108, 255])\n",
      "resize2_cut_img.size():  torch.Size([3, 104, 248])\n",
      "create_HrLr kernel_path:C:\\SaiVinay\\SproutsAI\\GitHub_\\ir_srgan_otsr\\results_kernels_DIV2K\\0627\\0627_kernel_x4.mat\n",
      "scale_factor:  [0.125, 0.125, 1]\n",
      "output_shape:  [108 255   3]\n",
      "im.shape:  (864, 2040, 3)\n"
     ]
    },
    {
     "name": "stderr",
     "output_type": "stream",
     "text": [
      "Resizing images:  78%|███████▊  | 627/800 [1:32:58<22:50,  7.92s/it]"
     ]
    },
    {
     "name": "stdout",
     "output_type": "stream",
     "text": [
      "input_img.size():  torch.Size([3, 2040, 1632])\n",
      "resize2_img.size():  torch.Size([3, 255, 204])\n",
      "resize2_cut_img.size():  torch.Size([3, 248, 200])\n",
      "create_HrLr kernel_path:C:\\SaiVinay\\SproutsAI\\GitHub_\\ir_srgan_otsr\\results_kernels_DIV2K\\0628\\0628_kernel_x4.mat\n",
      "scale_factor:  [0.125, 0.125, 1]\n",
      "output_shape:  [255 204   3]\n",
      "im.shape:  (2040, 1632, 3)\n"
     ]
    },
    {
     "name": "stderr",
     "output_type": "stream",
     "text": [
      "Resizing images:  78%|███████▊  | 628/800 [1:33:08<24:32,  8.56s/it]"
     ]
    },
    {
     "name": "stdout",
     "output_type": "stream",
     "text": [
      "input_img.size():  torch.Size([3, 1464, 2040])\n",
      "resize2_img.size():  torch.Size([3, 183, 255])\n",
      "resize2_cut_img.size():  torch.Size([3, 176, 248])\n",
      "create_HrLr kernel_path:C:\\SaiVinay\\SproutsAI\\GitHub_\\ir_srgan_otsr\\results_kernels_DIV2K\\0629\\0629_kernel_x4.mat\n",
      "scale_factor:  [0.125, 0.125, 1]\n",
      "output_shape:  [183 255   3]\n",
      "im.shape:  (1464, 2040, 3)\n"
     ]
    },
    {
     "name": "stderr",
     "output_type": "stream",
     "text": [
      "Resizing images:  79%|███████▊  | 629/800 [1:33:18<25:40,  9.01s/it]"
     ]
    },
    {
     "name": "stdout",
     "output_type": "stream",
     "text": [
      "input_img.size():  torch.Size([3, 1356, 2040])\n",
      "resize2_img.size():  torch.Size([3, 170, 255])\n",
      "resize2_cut_img.size():  torch.Size([3, 168, 248])\n",
      "create_HrLr kernel_path:C:\\SaiVinay\\SproutsAI\\GitHub_\\ir_srgan_otsr\\results_kernels_DIV2K\\0630\\0630_kernel_x4.mat\n",
      "scale_factor:  [0.125, 0.125, 1]\n",
      "output_shape:  [170 255   3]\n",
      "im.shape:  (1356, 2040, 3)\n"
     ]
    },
    {
     "name": "stderr",
     "output_type": "stream",
     "text": [
      "Resizing images:  79%|███████▉  | 630/800 [1:33:26<25:08,  8.88s/it]"
     ]
    },
    {
     "name": "stdout",
     "output_type": "stream",
     "text": [
      "input_img.size():  torch.Size([3, 1356, 2040])\n",
      "resize2_img.size():  torch.Size([3, 170, 255])\n",
      "resize2_cut_img.size():  torch.Size([3, 168, 248])\n",
      "create_HrLr kernel_path:C:\\SaiVinay\\SproutsAI\\GitHub_\\ir_srgan_otsr\\results_kernels_DIV2K\\0631\\0631_kernel_x4.mat\n",
      "scale_factor:  [0.125, 0.125, 1]\n",
      "output_shape:  [170 255   3]\n",
      "im.shape:  (1356, 2040, 3)\n"
     ]
    },
    {
     "name": "stderr",
     "output_type": "stream",
     "text": [
      "Resizing images:  79%|███████▉  | 631/800 [1:33:35<25:00,  8.88s/it]"
     ]
    },
    {
     "name": "stdout",
     "output_type": "stream",
     "text": [
      "input_img.size():  torch.Size([3, 1356, 2040])\n",
      "resize2_img.size():  torch.Size([3, 170, 255])\n",
      "resize2_cut_img.size():  torch.Size([3, 168, 248])\n",
      "create_HrLr kernel_path:C:\\SaiVinay\\SproutsAI\\GitHub_\\ir_srgan_otsr\\results_kernels_DIV2K\\0632\\0632_kernel_x4.mat\n",
      "scale_factor:  [0.125, 0.125, 1]\n",
      "output_shape:  [170 255   3]\n",
      "im.shape:  (1356, 2040, 3)\n"
     ]
    },
    {
     "name": "stderr",
     "output_type": "stream",
     "text": [
      "Resizing images:  79%|███████▉  | 632/800 [1:33:44<24:36,  8.79s/it]"
     ]
    },
    {
     "name": "stdout",
     "output_type": "stream",
     "text": [
      "input_img.size():  torch.Size([3, 1356, 2040])\n",
      "resize2_img.size():  torch.Size([3, 170, 255])\n",
      "resize2_cut_img.size():  torch.Size([3, 168, 248])\n",
      "create_HrLr kernel_path:C:\\SaiVinay\\SproutsAI\\GitHub_\\ir_srgan_otsr\\results_kernels_DIV2K\\0633\\0633_kernel_x4.mat\n",
      "scale_factor:  [0.125, 0.125, 1]\n",
      "output_shape:  [170 255   3]\n",
      "im.shape:  (1356, 2040, 3)\n"
     ]
    },
    {
     "name": "stderr",
     "output_type": "stream",
     "text": [
      "Resizing images:  79%|███████▉  | 633/800 [1:33:53<24:44,  8.89s/it]"
     ]
    },
    {
     "name": "stdout",
     "output_type": "stream",
     "text": [
      "input_img.size():  torch.Size([3, 1356, 2040])\n",
      "resize2_img.size():  torch.Size([3, 170, 255])\n",
      "resize2_cut_img.size():  torch.Size([3, 168, 248])\n",
      "create_HrLr kernel_path:C:\\SaiVinay\\SproutsAI\\GitHub_\\ir_srgan_otsr\\results_kernels_DIV2K\\0634\\0634_kernel_x4.mat\n",
      "scale_factor:  [0.125, 0.125, 1]\n",
      "output_shape:  [170 255   3]\n",
      "im.shape:  (1356, 2040, 3)\n"
     ]
    },
    {
     "name": "stderr",
     "output_type": "stream",
     "text": [
      "Resizing images:  79%|███████▉  | 634/800 [1:34:01<24:19,  8.79s/it]"
     ]
    },
    {
     "name": "stdout",
     "output_type": "stream",
     "text": [
      "input_img.size():  torch.Size([3, 1368, 2040])\n",
      "resize2_img.size():  torch.Size([3, 171, 255])\n",
      "resize2_cut_img.size():  torch.Size([3, 168, 248])\n",
      "create_HrLr kernel_path:C:\\SaiVinay\\SproutsAI\\GitHub_\\ir_srgan_otsr\\results_kernels_DIV2K\\0635\\0635_kernel_x4.mat\n",
      "scale_factor:  [0.125, 0.125, 1]\n",
      "output_shape:  [171 255   3]\n",
      "im.shape:  (1368, 2040, 3)\n"
     ]
    },
    {
     "name": "stderr",
     "output_type": "stream",
     "text": [
      "Resizing images:  79%|███████▉  | 635/800 [1:34:11<24:28,  8.90s/it]"
     ]
    },
    {
     "name": "stdout",
     "output_type": "stream",
     "text": [
      "input_img.size():  torch.Size([3, 1356, 2040])\n",
      "resize2_img.size():  torch.Size([3, 170, 255])\n",
      "resize2_cut_img.size():  torch.Size([3, 168, 248])\n",
      "create_HrLr kernel_path:C:\\SaiVinay\\SproutsAI\\GitHub_\\ir_srgan_otsr\\results_kernels_DIV2K\\0636\\0636_kernel_x4.mat\n",
      "scale_factor:  [0.125, 0.125, 1]\n",
      "output_shape:  [170 255   3]\n",
      "im.shape:  (1356, 2040, 3)\n"
     ]
    },
    {
     "name": "stderr",
     "output_type": "stream",
     "text": [
      "Resizing images:  80%|███████▉  | 636/800 [1:34:19<23:54,  8.74s/it]"
     ]
    },
    {
     "name": "stdout",
     "output_type": "stream",
     "text": [
      "input_img.size():  torch.Size([3, 1536, 2040])\n",
      "resize2_img.size():  torch.Size([3, 192, 255])\n",
      "resize2_cut_img.size():  torch.Size([3, 192, 248])\n",
      "create_HrLr kernel_path:C:\\SaiVinay\\SproutsAI\\GitHub_\\ir_srgan_otsr\\results_kernels_DIV2K\\0637\\0637_kernel_x4.mat\n",
      "scale_factor:  [0.125, 0.125, 1]\n",
      "output_shape:  [192 255   3]\n",
      "im.shape:  (1536, 2040, 3)\n"
     ]
    },
    {
     "name": "stderr",
     "output_type": "stream",
     "text": [
      "Resizing images:  80%|███████▉  | 637/800 [1:34:30<25:14,  9.29s/it]"
     ]
    },
    {
     "name": "stdout",
     "output_type": "stream",
     "text": [
      "input_img.size():  torch.Size([3, 1356, 2040])\n",
      "resize2_img.size():  torch.Size([3, 170, 255])\n",
      "resize2_cut_img.size():  torch.Size([3, 168, 248])\n",
      "create_HrLr kernel_path:C:\\SaiVinay\\SproutsAI\\GitHub_\\ir_srgan_otsr\\results_kernels_DIV2K\\0638\\0638_kernel_x4.mat\n",
      "scale_factor:  [0.125, 0.125, 1]\n",
      "output_shape:  [170 255   3]\n",
      "im.shape:  (1356, 2040, 3)\n"
     ]
    },
    {
     "name": "stderr",
     "output_type": "stream",
     "text": [
      "Resizing images:  80%|███████▉  | 638/800 [1:34:38<24:42,  9.15s/it]"
     ]
    },
    {
     "name": "stdout",
     "output_type": "stream",
     "text": [
      "input_img.size():  torch.Size([3, 1356, 2040])\n",
      "resize2_img.size():  torch.Size([3, 170, 255])\n",
      "resize2_cut_img.size():  torch.Size([3, 168, 248])\n",
      "create_HrLr kernel_path:C:\\SaiVinay\\SproutsAI\\GitHub_\\ir_srgan_otsr\\results_kernels_DIV2K\\0639\\0639_kernel_x4.mat\n",
      "scale_factor:  [0.125, 0.125, 1]\n",
      "output_shape:  [170 255   3]\n",
      "im.shape:  (1356, 2040, 3)\n"
     ]
    },
    {
     "name": "stderr",
     "output_type": "stream",
     "text": [
      "Resizing images:  80%|███████▉  | 639/800 [1:34:46<23:42,  8.83s/it]"
     ]
    },
    {
     "name": "stdout",
     "output_type": "stream",
     "text": [
      "input_img.size():  torch.Size([3, 1356, 2040])\n",
      "resize2_img.size():  torch.Size([3, 170, 255])\n",
      "resize2_cut_img.size():  torch.Size([3, 168, 248])\n",
      "create_HrLr kernel_path:C:\\SaiVinay\\SproutsAI\\GitHub_\\ir_srgan_otsr\\results_kernels_DIV2K\\0640\\0640_kernel_x4.mat\n",
      "scale_factor:  [0.125, 0.125, 1]\n",
      "output_shape:  [170 255   3]\n",
      "im.shape:  (1356, 2040, 3)\n"
     ]
    },
    {
     "name": "stderr",
     "output_type": "stream",
     "text": [
      "Resizing images:  80%|████████  | 640/800 [1:34:55<23:11,  8.70s/it]"
     ]
    },
    {
     "name": "stdout",
     "output_type": "stream",
     "text": [
      "input_img.size():  torch.Size([3, 1356, 2040])\n",
      "resize2_img.size():  torch.Size([3, 170, 255])\n",
      "resize2_cut_img.size():  torch.Size([3, 168, 248])\n",
      "create_HrLr kernel_path:C:\\SaiVinay\\SproutsAI\\GitHub_\\ir_srgan_otsr\\results_kernels_DIV2K\\0641\\0641_kernel_x4.mat\n",
      "scale_factor:  [0.125, 0.125, 1]\n",
      "output_shape:  [170 255   3]\n",
      "im.shape:  (1356, 2040, 3)\n"
     ]
    },
    {
     "name": "stderr",
     "output_type": "stream",
     "text": [
      "Resizing images:  80%|████████  | 641/800 [1:35:03<22:54,  8.64s/it]"
     ]
    },
    {
     "name": "stdout",
     "output_type": "stream",
     "text": [
      "input_img.size():  torch.Size([3, 1356, 2040])\n",
      "resize2_img.size():  torch.Size([3, 170, 255])\n",
      "resize2_cut_img.size():  torch.Size([3, 168, 248])\n",
      "create_HrLr kernel_path:C:\\SaiVinay\\SproutsAI\\GitHub_\\ir_srgan_otsr\\results_kernels_DIV2K\\0642\\0642_kernel_x4.mat\n",
      "scale_factor:  [0.125, 0.125, 1]\n",
      "output_shape:  [170 255   3]\n",
      "im.shape:  (1356, 2040, 3)\n"
     ]
    },
    {
     "name": "stderr",
     "output_type": "stream",
     "text": [
      "Resizing images:  80%|████████  | 642/800 [1:35:12<23:08,  8.79s/it]"
     ]
    },
    {
     "name": "stdout",
     "output_type": "stream",
     "text": [
      "input_img.size():  torch.Size([3, 1536, 2040])\n",
      "resize2_img.size():  torch.Size([3, 192, 255])\n",
      "resize2_cut_img.size():  torch.Size([3, 192, 248])\n",
      "create_HrLr kernel_path:C:\\SaiVinay\\SproutsAI\\GitHub_\\ir_srgan_otsr\\results_kernels_DIV2K\\0643\\0643_kernel_x4.mat\n",
      "scale_factor:  [0.125, 0.125, 1]\n",
      "output_shape:  [192 255   3]\n",
      "im.shape:  (1536, 2040, 3)\n"
     ]
    },
    {
     "name": "stderr",
     "output_type": "stream",
     "text": [
      "Resizing images:  80%|████████  | 643/800 [1:35:22<23:42,  9.06s/it]"
     ]
    },
    {
     "name": "stdout",
     "output_type": "stream",
     "text": [
      "input_img.size():  torch.Size([3, 1356, 2040])\n",
      "resize2_img.size():  torch.Size([3, 170, 255])\n",
      "resize2_cut_img.size():  torch.Size([3, 168, 248])\n",
      "create_HrLr kernel_path:C:\\SaiVinay\\SproutsAI\\GitHub_\\ir_srgan_otsr\\results_kernels_DIV2K\\0644\\0644_kernel_x4.mat\n",
      "scale_factor:  [0.125, 0.125, 1]\n",
      "output_shape:  [170 255   3]\n",
      "im.shape:  (1356, 2040, 3)\n"
     ]
    },
    {
     "name": "stderr",
     "output_type": "stream",
     "text": [
      "Resizing images:  80%|████████  | 644/800 [1:35:31<23:17,  8.96s/it]"
     ]
    },
    {
     "name": "stdout",
     "output_type": "stream",
     "text": [
      "input_img.size():  torch.Size([3, 1356, 2040])\n",
      "resize2_img.size():  torch.Size([3, 170, 255])\n",
      "resize2_cut_img.size():  torch.Size([3, 168, 248])\n",
      "create_HrLr kernel_path:C:\\SaiVinay\\SproutsAI\\GitHub_\\ir_srgan_otsr\\results_kernels_DIV2K\\0645\\0645_kernel_x4.mat\n",
      "scale_factor:  [0.125, 0.125, 1]\n",
      "output_shape:  [170 255   3]\n",
      "im.shape:  (1356, 2040, 3)\n"
     ]
    },
    {
     "name": "stderr",
     "output_type": "stream",
     "text": [
      "Resizing images:  81%|████████  | 645/800 [1:35:39<22:45,  8.81s/it]"
     ]
    },
    {
     "name": "stdout",
     "output_type": "stream",
     "text": [
      "input_img.size():  torch.Size([3, 1476, 2040])\n",
      "resize2_img.size():  torch.Size([3, 185, 255])\n",
      "resize2_cut_img.size():  torch.Size([3, 184, 248])\n",
      "create_HrLr kernel_path:C:\\SaiVinay\\SproutsAI\\GitHub_\\ir_srgan_otsr\\results_kernels_DIV2K\\0646\\0646_kernel_x4.mat\n",
      "scale_factor:  [0.125, 0.125, 1]\n",
      "output_shape:  [185 255   3]\n",
      "im.shape:  (1476, 2040, 3)\n"
     ]
    },
    {
     "name": "stderr",
     "output_type": "stream",
     "text": [
      "Resizing images:  81%|████████  | 646/800 [1:35:49<23:16,  9.07s/it]"
     ]
    },
    {
     "name": "stdout",
     "output_type": "stream",
     "text": [
      "input_img.size():  torch.Size([3, 1356, 2040])\n",
      "resize2_img.size():  torch.Size([3, 170, 255])\n",
      "resize2_cut_img.size():  torch.Size([3, 168, 248])\n",
      "create_HrLr kernel_path:C:\\SaiVinay\\SproutsAI\\GitHub_\\ir_srgan_otsr\\results_kernels_DIV2K\\0647\\0647_kernel_x4.mat\n",
      "scale_factor:  [0.125, 0.125, 1]\n",
      "output_shape:  [170 255   3]\n",
      "im.shape:  (1356, 2040, 3)\n"
     ]
    },
    {
     "name": "stderr",
     "output_type": "stream",
     "text": [
      "Resizing images:  81%|████████  | 647/800 [1:35:58<23:17,  9.13s/it]"
     ]
    },
    {
     "name": "stdout",
     "output_type": "stream",
     "text": [
      "input_img.size():  torch.Size([3, 1356, 2040])\n",
      "resize2_img.size():  torch.Size([3, 170, 255])\n",
      "resize2_cut_img.size():  torch.Size([3, 168, 248])\n",
      "create_HrLr kernel_path:C:\\SaiVinay\\SproutsAI\\GitHub_\\ir_srgan_otsr\\results_kernels_DIV2K\\0648\\0648_kernel_x4.mat\n",
      "scale_factor:  [0.125, 0.125, 1]\n",
      "output_shape:  [170 255   3]\n",
      "im.shape:  (1356, 2040, 3)\n"
     ]
    },
    {
     "name": "stderr",
     "output_type": "stream",
     "text": [
      "Resizing images:  81%|████████  | 648/800 [1:36:07<22:47,  8.99s/it]"
     ]
    },
    {
     "name": "stdout",
     "output_type": "stream",
     "text": [
      "input_img.size():  torch.Size([3, 1536, 2040])\n",
      "resize2_img.size():  torch.Size([3, 192, 255])\n",
      "resize2_cut_img.size():  torch.Size([3, 192, 248])\n",
      "create_HrLr kernel_path:C:\\SaiVinay\\SproutsAI\\GitHub_\\ir_srgan_otsr\\results_kernels_DIV2K\\0649\\0649_kernel_x4.mat\n",
      "scale_factor:  [0.125, 0.125, 1]\n",
      "output_shape:  [192 255   3]\n",
      "im.shape:  (1536, 2040, 3)\n"
     ]
    },
    {
     "name": "stderr",
     "output_type": "stream",
     "text": [
      "Resizing images:  81%|████████  | 649/800 [1:36:16<22:58,  9.13s/it]"
     ]
    },
    {
     "name": "stdout",
     "output_type": "stream",
     "text": [
      "input_img.size():  torch.Size([3, 1452, 2040])\n",
      "resize2_img.size():  torch.Size([3, 182, 255])\n",
      "resize2_cut_img.size():  torch.Size([3, 176, 248])\n",
      "create_HrLr kernel_path:C:\\SaiVinay\\SproutsAI\\GitHub_\\ir_srgan_otsr\\results_kernels_DIV2K\\0650\\0650_kernel_x4.mat\n",
      "scale_factor:  [0.125, 0.125, 1]\n",
      "output_shape:  [182 255   3]\n",
      "im.shape:  (1452, 2040, 3)\n"
     ]
    },
    {
     "name": "stderr",
     "output_type": "stream",
     "text": [
      "Resizing images:  81%|████████▏ | 650/800 [1:36:26<23:09,  9.26s/it]"
     ]
    },
    {
     "name": "stdout",
     "output_type": "stream",
     "text": [
      "input_img.size():  torch.Size([3, 1224, 2040])\n",
      "resize2_img.size():  torch.Size([3, 153, 255])\n",
      "resize2_cut_img.size():  torch.Size([3, 152, 248])\n",
      "create_HrLr kernel_path:C:\\SaiVinay\\SproutsAI\\GitHub_\\ir_srgan_otsr\\results_kernels_DIV2K\\0651\\0651_kernel_x4.mat\n",
      "scale_factor:  [0.125, 0.125, 1]\n",
      "output_shape:  [153 255   3]\n",
      "im.shape:  (1224, 2040, 3)\n"
     ]
    },
    {
     "name": "stderr",
     "output_type": "stream",
     "text": [
      "Resizing images:  81%|████████▏ | 651/800 [1:36:34<21:49,  8.79s/it]"
     ]
    },
    {
     "name": "stdout",
     "output_type": "stream",
     "text": [
      "input_img.size():  torch.Size([3, 1356, 2040])\n",
      "resize2_img.size():  torch.Size([3, 170, 255])\n",
      "resize2_cut_img.size():  torch.Size([3, 168, 248])\n",
      "create_HrLr kernel_path:C:\\SaiVinay\\SproutsAI\\GitHub_\\ir_srgan_otsr\\results_kernels_DIV2K\\0652\\0652_kernel_x4.mat\n",
      "scale_factor:  [0.125, 0.125, 1]\n",
      "output_shape:  [170 255   3]\n",
      "im.shape:  (1356, 2040, 3)\n"
     ]
    },
    {
     "name": "stderr",
     "output_type": "stream",
     "text": [
      "Resizing images:  82%|████████▏ | 652/800 [1:36:42<21:39,  8.78s/it]"
     ]
    },
    {
     "name": "stdout",
     "output_type": "stream",
     "text": [
      "input_img.size():  torch.Size([3, 1584, 2040])\n",
      "resize2_img.size():  torch.Size([3, 198, 255])\n",
      "resize2_cut_img.size():  torch.Size([3, 192, 248])\n",
      "create_HrLr kernel_path:C:\\SaiVinay\\SproutsAI\\GitHub_\\ir_srgan_otsr\\results_kernels_DIV2K\\0653\\0653_kernel_x4.mat\n",
      "scale_factor:  [0.125, 0.125, 1]\n",
      "output_shape:  [198 255   3]\n",
      "im.shape:  (1584, 2040, 3)\n"
     ]
    },
    {
     "name": "stderr",
     "output_type": "stream",
     "text": [
      "Resizing images:  82%|████████▏ | 653/800 [1:36:53<22:32,  9.20s/it]"
     ]
    },
    {
     "name": "stdout",
     "output_type": "stream",
     "text": [
      "input_img.size():  torch.Size([3, 1344, 2040])\n",
      "resize2_img.size():  torch.Size([3, 168, 255])\n",
      "resize2_cut_img.size():  torch.Size([3, 168, 248])\n",
      "create_HrLr kernel_path:C:\\SaiVinay\\SproutsAI\\GitHub_\\ir_srgan_otsr\\results_kernels_DIV2K\\0654\\0654_kernel_x4.mat\n",
      "scale_factor:  [0.125, 0.125, 1]\n",
      "output_shape:  [168 255   3]\n",
      "im.shape:  (1344, 2040, 3)\n"
     ]
    },
    {
     "name": "stderr",
     "output_type": "stream",
     "text": [
      "Resizing images:  82%|████████▏ | 654/800 [1:37:02<22:11,  9.12s/it]"
     ]
    },
    {
     "name": "stdout",
     "output_type": "stream",
     "text": [
      "input_img.size():  torch.Size([3, 1356, 2040])\n",
      "resize2_img.size():  torch.Size([3, 170, 255])\n",
      "resize2_cut_img.size():  torch.Size([3, 168, 248])\n",
      "create_HrLr kernel_path:C:\\SaiVinay\\SproutsAI\\GitHub_\\ir_srgan_otsr\\results_kernels_DIV2K\\0655\\0655_kernel_x4.mat\n",
      "scale_factor:  [0.125, 0.125, 1]\n",
      "output_shape:  [170 255   3]\n",
      "im.shape:  (1356, 2040, 3)\n"
     ]
    },
    {
     "name": "stderr",
     "output_type": "stream",
     "text": [
      "Resizing images:  82%|████████▏ | 655/800 [1:37:10<21:55,  9.07s/it]"
     ]
    },
    {
     "name": "stdout",
     "output_type": "stream",
     "text": [
      "input_img.size():  torch.Size([3, 1320, 2040])\n",
      "resize2_img.size():  torch.Size([3, 165, 255])\n",
      "resize2_cut_img.size():  torch.Size([3, 160, 248])\n",
      "create_HrLr kernel_path:C:\\SaiVinay\\SproutsAI\\GitHub_\\ir_srgan_otsr\\results_kernels_DIV2K\\0656\\0656_kernel_x4.mat\n",
      "scale_factor:  [0.125, 0.125, 1]\n",
      "output_shape:  [165 255   3]\n",
      "im.shape:  (1320, 2040, 3)\n"
     ]
    },
    {
     "name": "stderr",
     "output_type": "stream",
     "text": [
      "Resizing images:  82%|████████▏ | 656/800 [1:37:19<21:08,  8.81s/it]"
     ]
    },
    {
     "name": "stdout",
     "output_type": "stream",
     "text": [
      "input_img.size():  torch.Size([3, 1536, 2040])\n",
      "resize2_img.size():  torch.Size([3, 192, 255])\n",
      "resize2_cut_img.size():  torch.Size([3, 192, 248])\n",
      "create_HrLr kernel_path:C:\\SaiVinay\\SproutsAI\\GitHub_\\ir_srgan_otsr\\results_kernels_DIV2K\\0657\\0657_kernel_x4.mat\n",
      "scale_factor:  [0.125, 0.125, 1]\n",
      "output_shape:  [192 255   3]\n",
      "im.shape:  (1536, 2040, 3)\n"
     ]
    },
    {
     "name": "stderr",
     "output_type": "stream",
     "text": [
      "Resizing images:  82%|████████▏ | 657/800 [1:37:29<21:47,  9.14s/it]"
     ]
    },
    {
     "name": "stdout",
     "output_type": "stream",
     "text": [
      "input_img.size():  torch.Size([3, 1356, 2040])\n",
      "resize2_img.size():  torch.Size([3, 170, 255])\n",
      "resize2_cut_img.size():  torch.Size([3, 168, 248])\n",
      "create_HrLr kernel_path:C:\\SaiVinay\\SproutsAI\\GitHub_\\ir_srgan_otsr\\results_kernels_DIV2K\\0658\\0658_kernel_x4.mat\n",
      "scale_factor:  [0.125, 0.125, 1]\n",
      "output_shape:  [170 255   3]\n",
      "im.shape:  (1356, 2040, 3)\n"
     ]
    },
    {
     "name": "stderr",
     "output_type": "stream",
     "text": [
      "Resizing images:  82%|████████▏ | 658/800 [1:37:37<21:24,  9.04s/it]"
     ]
    },
    {
     "name": "stdout",
     "output_type": "stream",
     "text": [
      "input_img.size():  torch.Size([3, 1356, 2040])\n",
      "resize2_img.size():  torch.Size([3, 170, 255])\n",
      "resize2_cut_img.size():  torch.Size([3, 168, 248])\n",
      "create_HrLr kernel_path:C:\\SaiVinay\\SproutsAI\\GitHub_\\ir_srgan_otsr\\results_kernels_DIV2K\\0659\\0659_kernel_x4.mat\n",
      "scale_factor:  [0.125, 0.125, 1]\n",
      "output_shape:  [170 255   3]\n",
      "im.shape:  (1356, 2040, 3)\n"
     ]
    },
    {
     "name": "stderr",
     "output_type": "stream",
     "text": [
      "Resizing images:  82%|████████▏ | 659/800 [1:37:46<20:37,  8.78s/it]"
     ]
    },
    {
     "name": "stdout",
     "output_type": "stream",
     "text": [
      "input_img.size():  torch.Size([3, 1356, 2040])\n",
      "resize2_img.size():  torch.Size([3, 170, 255])\n",
      "resize2_cut_img.size():  torch.Size([3, 168, 248])\n",
      "create_HrLr kernel_path:C:\\SaiVinay\\SproutsAI\\GitHub_\\ir_srgan_otsr\\results_kernels_DIV2K\\0660\\0660_kernel_x4.mat\n",
      "scale_factor:  [0.125, 0.125, 1]\n",
      "output_shape:  [170 255   3]\n",
      "im.shape:  (1356, 2040, 3)\n"
     ]
    },
    {
     "name": "stderr",
     "output_type": "stream",
     "text": [
      "Resizing images:  82%|████████▎ | 660/800 [1:37:55<20:44,  8.89s/it]"
     ]
    },
    {
     "name": "stdout",
     "output_type": "stream",
     "text": [
      "input_img.size():  torch.Size([3, 1296, 2040])\n",
      "resize2_img.size():  torch.Size([3, 162, 255])\n",
      "resize2_cut_img.size():  torch.Size([3, 160, 248])\n",
      "create_HrLr kernel_path:C:\\SaiVinay\\SproutsAI\\GitHub_\\ir_srgan_otsr\\results_kernels_DIV2K\\0661\\0661_kernel_x4.mat\n",
      "scale_factor:  [0.125, 0.125, 1]\n",
      "output_shape:  [162 255   3]\n",
      "im.shape:  (1296, 2040, 3)\n"
     ]
    },
    {
     "name": "stderr",
     "output_type": "stream",
     "text": [
      "Resizing images:  83%|████████▎ | 661/800 [1:38:03<19:53,  8.59s/it]"
     ]
    },
    {
     "name": "stdout",
     "output_type": "stream",
     "text": [
      "input_img.size():  torch.Size([3, 1356, 2040])\n",
      "resize2_img.size():  torch.Size([3, 170, 255])\n",
      "resize2_cut_img.size():  torch.Size([3, 168, 248])\n",
      "create_HrLr kernel_path:C:\\SaiVinay\\SproutsAI\\GitHub_\\ir_srgan_otsr\\results_kernels_DIV2K\\0662\\0662_kernel_x4.mat\n",
      "scale_factor:  [0.125, 0.125, 1]\n",
      "output_shape:  [170 255   3]\n",
      "im.shape:  (1356, 2040, 3)\n"
     ]
    },
    {
     "name": "stderr",
     "output_type": "stream",
     "text": [
      "Resizing images:  83%|████████▎ | 662/800 [1:38:12<20:10,  8.77s/it]"
     ]
    },
    {
     "name": "stdout",
     "output_type": "stream",
     "text": [
      "input_img.size():  torch.Size([3, 1356, 2040])\n",
      "resize2_img.size():  torch.Size([3, 170, 255])\n",
      "resize2_cut_img.size():  torch.Size([3, 168, 248])\n",
      "create_HrLr kernel_path:C:\\SaiVinay\\SproutsAI\\GitHub_\\ir_srgan_otsr\\results_kernels_DIV2K\\0663\\0663_kernel_x4.mat\n",
      "scale_factor:  [0.125, 0.125, 1]\n",
      "output_shape:  [170 255   3]\n",
      "im.shape:  (1356, 2040, 3)\n"
     ]
    },
    {
     "name": "stderr",
     "output_type": "stream",
     "text": [
      "Resizing images:  83%|████████▎ | 663/800 [1:38:20<19:42,  8.63s/it]"
     ]
    },
    {
     "name": "stdout",
     "output_type": "stream",
     "text": [
      "input_img.size():  torch.Size([3, 1632, 2040])\n",
      "resize2_img.size():  torch.Size([3, 204, 255])\n",
      "resize2_cut_img.size():  torch.Size([3, 200, 248])\n",
      "create_HrLr kernel_path:C:\\SaiVinay\\SproutsAI\\GitHub_\\ir_srgan_otsr\\results_kernels_DIV2K\\0664\\0664_kernel_x4.mat\n",
      "scale_factor:  [0.125, 0.125, 1]\n",
      "output_shape:  [204 255   3]\n",
      "im.shape:  (1632, 2040, 3)\n"
     ]
    },
    {
     "name": "stderr",
     "output_type": "stream",
     "text": [
      "Resizing images:  83%|████████▎ | 664/800 [1:38:30<20:33,  9.07s/it]"
     ]
    },
    {
     "name": "stdout",
     "output_type": "stream",
     "text": [
      "input_img.size():  torch.Size([3, 1356, 2040])\n",
      "resize2_img.size():  torch.Size([3, 170, 255])\n",
      "resize2_cut_img.size():  torch.Size([3, 168, 248])\n",
      "create_HrLr kernel_path:C:\\SaiVinay\\SproutsAI\\GitHub_\\ir_srgan_otsr\\results_kernels_DIV2K\\0665\\0665_kernel_x4.mat\n",
      "scale_factor:  [0.125, 0.125, 1]\n",
      "output_shape:  [170 255   3]\n",
      "im.shape:  (1356, 2040, 3)\n"
     ]
    },
    {
     "name": "stderr",
     "output_type": "stream",
     "text": [
      "Resizing images:  83%|████████▎ | 665/800 [1:38:39<20:26,  9.08s/it]"
     ]
    },
    {
     "name": "stdout",
     "output_type": "stream",
     "text": [
      "input_img.size():  torch.Size([3, 2040, 1476])\n",
      "resize2_img.size():  torch.Size([3, 255, 185])\n",
      "resize2_cut_img.size():  torch.Size([3, 248, 184])\n",
      "create_HrLr kernel_path:C:\\SaiVinay\\SproutsAI\\GitHub_\\ir_srgan_otsr\\results_kernels_DIV2K\\0666\\0666_kernel_x4.mat\n",
      "scale_factor:  [0.125, 0.125, 1]\n",
      "output_shape:  [255 185   3]\n",
      "im.shape:  (2040, 1476, 3)\n"
     ]
    },
    {
     "name": "stderr",
     "output_type": "stream",
     "text": [
      "Resizing images:  83%|████████▎ | 666/800 [1:38:48<20:00,  8.96s/it]"
     ]
    },
    {
     "name": "stdout",
     "output_type": "stream",
     "text": [
      "input_img.size():  torch.Size([3, 1356, 2040])\n",
      "resize2_img.size():  torch.Size([3, 170, 255])\n",
      "resize2_cut_img.size():  torch.Size([3, 168, 248])\n",
      "create_HrLr kernel_path:C:\\SaiVinay\\SproutsAI\\GitHub_\\ir_srgan_otsr\\results_kernels_DIV2K\\0667\\0667_kernel_x4.mat\n",
      "scale_factor:  [0.125, 0.125, 1]\n",
      "output_shape:  [170 255   3]\n",
      "im.shape:  (1356, 2040, 3)\n"
     ]
    },
    {
     "name": "stderr",
     "output_type": "stream",
     "text": [
      "Resizing images:  83%|████████▎ | 667/800 [1:38:57<19:35,  8.84s/it]"
     ]
    },
    {
     "name": "stdout",
     "output_type": "stream",
     "text": [
      "input_img.size():  torch.Size([3, 1356, 2040])\n",
      "resize2_img.size():  torch.Size([3, 170, 255])\n",
      "resize2_cut_img.size():  torch.Size([3, 168, 248])\n",
      "create_HrLr kernel_path:C:\\SaiVinay\\SproutsAI\\GitHub_\\ir_srgan_otsr\\results_kernels_DIV2K\\0668\\0668_kernel_x4.mat\n",
      "scale_factor:  [0.125, 0.125, 1]\n",
      "output_shape:  [170 255   3]\n",
      "im.shape:  (1356, 2040, 3)\n"
     ]
    },
    {
     "name": "stderr",
     "output_type": "stream",
     "text": [
      "Resizing images:  84%|████████▎ | 668/800 [1:39:05<19:17,  8.77s/it]"
     ]
    },
    {
     "name": "stdout",
     "output_type": "stream",
     "text": [
      "input_img.size():  torch.Size([3, 1536, 2040])\n",
      "resize2_img.size():  torch.Size([3, 192, 255])\n",
      "resize2_cut_img.size():  torch.Size([3, 192, 248])\n",
      "create_HrLr kernel_path:C:\\SaiVinay\\SproutsAI\\GitHub_\\ir_srgan_otsr\\results_kernels_DIV2K\\0669\\0669_kernel_x4.mat\n",
      "scale_factor:  [0.125, 0.125, 1]\n",
      "output_shape:  [192 255   3]\n",
      "im.shape:  (1536, 2040, 3)\n"
     ]
    },
    {
     "name": "stderr",
     "output_type": "stream",
     "text": [
      "Resizing images:  84%|████████▎ | 669/800 [1:39:15<19:45,  9.05s/it]"
     ]
    },
    {
     "name": "stdout",
     "output_type": "stream",
     "text": [
      "input_img.size():  torch.Size([3, 2040, 1356])\n",
      "resize2_img.size():  torch.Size([3, 255, 170])\n",
      "resize2_cut_img.size():  torch.Size([3, 248, 168])\n",
      "create_HrLr kernel_path:C:\\SaiVinay\\SproutsAI\\GitHub_\\ir_srgan_otsr\\results_kernels_DIV2K\\0670\\0670_kernel_x4.mat\n",
      "scale_factor:  [0.125, 0.125, 1]\n",
      "output_shape:  [255 170   3]\n",
      "im.shape:  (2040, 1356, 3)\n"
     ]
    },
    {
     "name": "stderr",
     "output_type": "stream",
     "text": [
      "Resizing images:  84%|████████▍ | 670/800 [1:39:24<19:41,  9.09s/it]"
     ]
    },
    {
     "name": "stdout",
     "output_type": "stream",
     "text": [
      "input_img.size():  torch.Size([3, 1356, 2040])\n",
      "resize2_img.size():  torch.Size([3, 170, 255])\n",
      "resize2_cut_img.size():  torch.Size([3, 168, 248])\n",
      "create_HrLr kernel_path:C:\\SaiVinay\\SproutsAI\\GitHub_\\ir_srgan_otsr\\results_kernels_DIV2K\\0671\\0671_kernel_x4.mat\n",
      "scale_factor:  [0.125, 0.125, 1]\n",
      "output_shape:  [170 255   3]\n",
      "im.shape:  (1356, 2040, 3)\n"
     ]
    },
    {
     "name": "stderr",
     "output_type": "stream",
     "text": [
      "Resizing images:  84%|████████▍ | 671/800 [1:39:32<18:55,  8.81s/it]"
     ]
    },
    {
     "name": "stdout",
     "output_type": "stream",
     "text": [
      "input_img.size():  torch.Size([3, 1308, 2040])\n",
      "resize2_img.size():  torch.Size([3, 164, 255])\n",
      "resize2_cut_img.size():  torch.Size([3, 160, 248])\n",
      "create_HrLr kernel_path:C:\\SaiVinay\\SproutsAI\\GitHub_\\ir_srgan_otsr\\results_kernels_DIV2K\\0672\\0672_kernel_x4.mat\n",
      "scale_factor:  [0.125, 0.125, 1]\n",
      "output_shape:  [164 255   3]\n",
      "im.shape:  (1308, 2040, 3)\n"
     ]
    },
    {
     "name": "stderr",
     "output_type": "stream",
     "text": [
      "Resizing images:  84%|████████▍ | 672/800 [1:39:41<18:30,  8.68s/it]"
     ]
    },
    {
     "name": "stdout",
     "output_type": "stream",
     "text": [
      "input_img.size():  torch.Size([3, 1152, 2040])\n",
      "resize2_img.size():  torch.Size([3, 144, 255])\n",
      "resize2_cut_img.size():  torch.Size([3, 144, 248])\n",
      "create_HrLr kernel_path:C:\\SaiVinay\\SproutsAI\\GitHub_\\ir_srgan_otsr\\results_kernels_DIV2K\\0673\\0673_kernel_x4.mat\n",
      "scale_factor:  [0.125, 0.125, 1]\n",
      "output_shape:  [144 255   3]\n",
      "im.shape:  (1152, 2040, 3)\n"
     ]
    },
    {
     "name": "stderr",
     "output_type": "stream",
     "text": [
      "Resizing images:  84%|████████▍ | 673/800 [1:39:48<17:33,  8.29s/it]"
     ]
    },
    {
     "name": "stdout",
     "output_type": "stream",
     "text": [
      "input_img.size():  torch.Size([3, 1356, 2040])\n",
      "resize2_img.size():  torch.Size([3, 170, 255])\n",
      "resize2_cut_img.size():  torch.Size([3, 168, 248])\n",
      "create_HrLr kernel_path:C:\\SaiVinay\\SproutsAI\\GitHub_\\ir_srgan_otsr\\results_kernels_DIV2K\\0674\\0674_kernel_x4.mat\n",
      "scale_factor:  [0.125, 0.125, 1]\n",
      "output_shape:  [170 255   3]\n",
      "im.shape:  (1356, 2040, 3)\n"
     ]
    },
    {
     "name": "stderr",
     "output_type": "stream",
     "text": [
      "Resizing images:  84%|████████▍ | 674/800 [1:39:57<17:49,  8.49s/it]"
     ]
    },
    {
     "name": "stdout",
     "output_type": "stream",
     "text": [
      "input_img.size():  torch.Size([3, 1356, 2040])\n",
      "resize2_img.size():  torch.Size([3, 170, 255])\n",
      "resize2_cut_img.size():  torch.Size([3, 168, 248])\n",
      "create_HrLr kernel_path:C:\\SaiVinay\\SproutsAI\\GitHub_\\ir_srgan_otsr\\results_kernels_DIV2K\\0675\\0675_kernel_x4.mat\n",
      "scale_factor:  [0.125, 0.125, 1]\n",
      "output_shape:  [170 255   3]\n",
      "im.shape:  (1356, 2040, 3)\n"
     ]
    },
    {
     "name": "stderr",
     "output_type": "stream",
     "text": [
      "Resizing images:  84%|████████▍ | 675/800 [1:40:06<17:49,  8.56s/it]"
     ]
    },
    {
     "name": "stdout",
     "output_type": "stream",
     "text": [
      "input_img.size():  torch.Size([3, 1344, 2040])\n",
      "resize2_img.size():  torch.Size([3, 168, 255])\n",
      "resize2_cut_img.size():  torch.Size([3, 168, 248])\n",
      "create_HrLr kernel_path:C:\\SaiVinay\\SproutsAI\\GitHub_\\ir_srgan_otsr\\results_kernels_DIV2K\\0676\\0676_kernel_x4.mat\n",
      "scale_factor:  [0.125, 0.125, 1]\n",
      "output_shape:  [168 255   3]\n",
      "im.shape:  (1344, 2040, 3)\n"
     ]
    },
    {
     "name": "stderr",
     "output_type": "stream",
     "text": [
      "Resizing images:  84%|████████▍ | 676/800 [1:40:14<17:33,  8.49s/it]"
     ]
    },
    {
     "name": "stdout",
     "output_type": "stream",
     "text": [
      "input_img.size():  torch.Size([3, 1380, 2040])\n",
      "resize2_img.size():  torch.Size([3, 173, 255])\n",
      "resize2_cut_img.size():  torch.Size([3, 168, 248])\n",
      "create_HrLr kernel_path:C:\\SaiVinay\\SproutsAI\\GitHub_\\ir_srgan_otsr\\results_kernels_DIV2K\\0677\\0677_kernel_x4.mat\n",
      "scale_factor:  [0.125, 0.125, 1]\n",
      "output_shape:  [173 255   3]\n",
      "im.shape:  (1380, 2040, 3)\n"
     ]
    },
    {
     "name": "stderr",
     "output_type": "stream",
     "text": [
      "Resizing images:  85%|████████▍ | 677/800 [1:40:23<17:56,  8.75s/it]"
     ]
    },
    {
     "name": "stdout",
     "output_type": "stream",
     "text": [
      "input_img.size():  torch.Size([3, 1452, 2040])\n",
      "resize2_img.size():  torch.Size([3, 182, 255])\n",
      "resize2_cut_img.size():  torch.Size([3, 176, 248])\n",
      "create_HrLr kernel_path:C:\\SaiVinay\\SproutsAI\\GitHub_\\ir_srgan_otsr\\results_kernels_DIV2K\\0678\\0678_kernel_x4.mat\n",
      "scale_factor:  [0.125, 0.125, 1]\n",
      "output_shape:  [182 255   3]\n",
      "im.shape:  (1452, 2040, 3)\n"
     ]
    },
    {
     "name": "stderr",
     "output_type": "stream",
     "text": [
      "Resizing images:  85%|████████▍ | 678/800 [1:40:32<18:00,  8.86s/it]"
     ]
    },
    {
     "name": "stdout",
     "output_type": "stream",
     "text": [
      "input_img.size():  torch.Size([3, 1464, 2040])\n",
      "resize2_img.size():  torch.Size([3, 183, 255])\n",
      "resize2_cut_img.size():  torch.Size([3, 176, 248])\n",
      "create_HrLr kernel_path:C:\\SaiVinay\\SproutsAI\\GitHub_\\ir_srgan_otsr\\results_kernels_DIV2K\\0679\\0679_kernel_x4.mat\n",
      "scale_factor:  [0.125, 0.125, 1]\n",
      "output_shape:  [183 255   3]\n",
      "im.shape:  (1464, 2040, 3)\n"
     ]
    },
    {
     "name": "stderr",
     "output_type": "stream",
     "text": [
      "Resizing images:  85%|████████▍ | 679/800 [1:40:42<18:12,  9.03s/it]"
     ]
    },
    {
     "name": "stdout",
     "output_type": "stream",
     "text": [
      "input_img.size():  torch.Size([3, 1212, 2040])\n",
      "resize2_img.size():  torch.Size([3, 152, 255])\n",
      "resize2_cut_img.size():  torch.Size([3, 152, 248])\n",
      "create_HrLr kernel_path:C:\\SaiVinay\\SproutsAI\\GitHub_\\ir_srgan_otsr\\results_kernels_DIV2K\\0680\\0680_kernel_x4.mat\n",
      "scale_factor:  [0.125, 0.125, 1]\n",
      "output_shape:  [152 255   3]\n",
      "im.shape:  (1212, 2040, 3)\n"
     ]
    },
    {
     "name": "stderr",
     "output_type": "stream",
     "text": [
      "Resizing images:  85%|████████▌ | 680/800 [1:40:49<17:13,  8.61s/it]"
     ]
    },
    {
     "name": "stdout",
     "output_type": "stream",
     "text": [
      "input_img.size():  torch.Size([3, 1356, 2040])\n",
      "resize2_img.size():  torch.Size([3, 170, 255])\n",
      "resize2_cut_img.size():  torch.Size([3, 168, 248])\n",
      "create_HrLr kernel_path:C:\\SaiVinay\\SproutsAI\\GitHub_\\ir_srgan_otsr\\results_kernels_DIV2K\\0681\\0681_kernel_x4.mat\n",
      "scale_factor:  [0.125, 0.125, 1]\n",
      "output_shape:  [170 255   3]\n",
      "im.shape:  (1356, 2040, 3)\n"
     ]
    },
    {
     "name": "stderr",
     "output_type": "stream",
     "text": [
      "Resizing images:  85%|████████▌ | 681/800 [1:40:58<16:59,  8.56s/it]"
     ]
    },
    {
     "name": "stdout",
     "output_type": "stream",
     "text": [
      "input_img.size():  torch.Size([3, 1368, 2040])\n",
      "resize2_img.size():  torch.Size([3, 171, 255])\n",
      "resize2_cut_img.size():  torch.Size([3, 168, 248])\n",
      "create_HrLr kernel_path:C:\\SaiVinay\\SproutsAI\\GitHub_\\ir_srgan_otsr\\results_kernels_DIV2K\\0682\\0682_kernel_x4.mat\n",
      "scale_factor:  [0.125, 0.125, 1]\n",
      "output_shape:  [171 255   3]\n",
      "im.shape:  (1368, 2040, 3)\n"
     ]
    },
    {
     "name": "stderr",
     "output_type": "stream",
     "text": [
      "Resizing images:  85%|████████▌ | 682/800 [1:41:06<16:44,  8.51s/it]"
     ]
    },
    {
     "name": "stdout",
     "output_type": "stream",
     "text": [
      "input_img.size():  torch.Size([3, 1356, 2040])\n",
      "resize2_img.size():  torch.Size([3, 170, 255])\n",
      "resize2_cut_img.size():  torch.Size([3, 168, 248])\n",
      "create_HrLr kernel_path:C:\\SaiVinay\\SproutsAI\\GitHub_\\ir_srgan_otsr\\results_kernels_DIV2K\\0683\\0683_kernel_x4.mat\n",
      "scale_factor:  [0.125, 0.125, 1]\n",
      "output_shape:  [170 255   3]\n",
      "im.shape:  (1356, 2040, 3)\n"
     ]
    },
    {
     "name": "stderr",
     "output_type": "stream",
     "text": [
      "Resizing images:  85%|████████▌ | 683/800 [1:41:15<16:53,  8.66s/it]"
     ]
    },
    {
     "name": "stdout",
     "output_type": "stream",
     "text": [
      "input_img.size():  torch.Size([3, 1356, 2040])\n",
      "resize2_img.size():  torch.Size([3, 170, 255])\n",
      "resize2_cut_img.size():  torch.Size([3, 168, 248])\n",
      "create_HrLr kernel_path:C:\\SaiVinay\\SproutsAI\\GitHub_\\ir_srgan_otsr\\results_kernels_DIV2K\\0684\\0684_kernel_x4.mat\n",
      "scale_factor:  [0.125, 0.125, 1]\n",
      "output_shape:  [170 255   3]\n",
      "im.shape:  (1356, 2040, 3)\n"
     ]
    },
    {
     "name": "stderr",
     "output_type": "stream",
     "text": [
      "Resizing images:  86%|████████▌ | 684/800 [1:41:24<16:43,  8.65s/it]"
     ]
    },
    {
     "name": "stdout",
     "output_type": "stream",
     "text": [
      "input_img.size():  torch.Size([3, 1080, 2040])\n",
      "resize2_img.size():  torch.Size([3, 135, 255])\n",
      "resize2_cut_img.size():  torch.Size([3, 128, 248])\n",
      "create_HrLr kernel_path:C:\\SaiVinay\\SproutsAI\\GitHub_\\ir_srgan_otsr\\results_kernels_DIV2K\\0685\\0685_kernel_x4.mat\n",
      "scale_factor:  [0.125, 0.125, 1]\n",
      "output_shape:  [135 255   3]\n",
      "im.shape:  (1080, 2040, 3)\n"
     ]
    },
    {
     "name": "stderr",
     "output_type": "stream",
     "text": [
      "Resizing images:  86%|████████▌ | 685/800 [1:41:31<15:53,  8.29s/it]"
     ]
    },
    {
     "name": "stdout",
     "output_type": "stream",
     "text": [
      "input_img.size():  torch.Size([3, 1356, 2040])\n",
      "resize2_img.size():  torch.Size([3, 170, 255])\n",
      "resize2_cut_img.size():  torch.Size([3, 168, 248])\n",
      "create_HrLr kernel_path:C:\\SaiVinay\\SproutsAI\\GitHub_\\ir_srgan_otsr\\results_kernels_DIV2K\\0686\\0686_kernel_x4.mat\n",
      "scale_factor:  [0.125, 0.125, 1]\n",
      "output_shape:  [170 255   3]\n",
      "im.shape:  (1356, 2040, 3)\n"
     ]
    },
    {
     "name": "stderr",
     "output_type": "stream",
     "text": [
      "Resizing images:  86%|████████▌ | 686/800 [1:41:40<16:00,  8.43s/it]"
     ]
    },
    {
     "name": "stdout",
     "output_type": "stream",
     "text": [
      "input_img.size():  torch.Size([3, 1536, 2040])\n",
      "resize2_img.size():  torch.Size([3, 192, 255])\n",
      "resize2_cut_img.size():  torch.Size([3, 192, 248])\n",
      "create_HrLr kernel_path:C:\\SaiVinay\\SproutsAI\\GitHub_\\ir_srgan_otsr\\results_kernels_DIV2K\\0687\\0687_kernel_x4.mat\n",
      "scale_factor:  [0.125, 0.125, 1]\n",
      "output_shape:  [192 255   3]\n",
      "im.shape:  (1536, 2040, 3)\n"
     ]
    },
    {
     "name": "stderr",
     "output_type": "stream",
     "text": [
      "Resizing images:  86%|████████▌ | 687/800 [1:41:50<16:55,  8.99s/it]"
     ]
    },
    {
     "name": "stdout",
     "output_type": "stream",
     "text": [
      "input_img.size():  torch.Size([3, 1356, 2040])\n",
      "resize2_img.size():  torch.Size([3, 170, 255])\n",
      "resize2_cut_img.size():  torch.Size([3, 168, 248])\n",
      "create_HrLr kernel_path:C:\\SaiVinay\\SproutsAI\\GitHub_\\ir_srgan_otsr\\results_kernels_DIV2K\\0688\\0688_kernel_x4.mat\n",
      "scale_factor:  [0.125, 0.125, 1]\n",
      "output_shape:  [170 255   3]\n",
      "im.shape:  (1356, 2040, 3)\n"
     ]
    },
    {
     "name": "stderr",
     "output_type": "stream",
     "text": [
      "Resizing images:  86%|████████▌ | 688/800 [1:41:59<16:41,  8.95s/it]"
     ]
    },
    {
     "name": "stdout",
     "output_type": "stream",
     "text": [
      "input_img.size():  torch.Size([3, 1356, 2040])\n",
      "resize2_img.size():  torch.Size([3, 170, 255])\n",
      "resize2_cut_img.size():  torch.Size([3, 168, 248])\n",
      "create_HrLr kernel_path:C:\\SaiVinay\\SproutsAI\\GitHub_\\ir_srgan_otsr\\results_kernels_DIV2K\\0689\\0689_kernel_x4.mat\n",
      "scale_factor:  [0.125, 0.125, 1]\n",
      "output_shape:  [170 255   3]\n",
      "im.shape:  (1356, 2040, 3)\n"
     ]
    },
    {
     "name": "stderr",
     "output_type": "stream",
     "text": [
      "Resizing images:  86%|████████▌ | 689/800 [1:42:08<16:37,  8.99s/it]"
     ]
    },
    {
     "name": "stdout",
     "output_type": "stream",
     "text": [
      "input_img.size():  torch.Size([3, 2040, 1356])\n",
      "resize2_img.size():  torch.Size([3, 255, 170])\n",
      "resize2_cut_img.size():  torch.Size([3, 248, 168])\n",
      "create_HrLr kernel_path:C:\\SaiVinay\\SproutsAI\\GitHub_\\ir_srgan_otsr\\results_kernels_DIV2K\\0690\\0690_kernel_x4.mat\n",
      "scale_factor:  [0.125, 0.125, 1]\n",
      "output_shape:  [255 170   3]\n",
      "im.shape:  (2040, 1356, 3)\n"
     ]
    },
    {
     "name": "stderr",
     "output_type": "stream",
     "text": [
      "Resizing images:  86%|████████▋ | 690/800 [1:42:17<16:13,  8.85s/it]"
     ]
    },
    {
     "name": "stdout",
     "output_type": "stream",
     "text": [
      "input_img.size():  torch.Size([3, 1356, 2040])\n",
      "resize2_img.size():  torch.Size([3, 170, 255])\n",
      "resize2_cut_img.size():  torch.Size([3, 168, 248])\n",
      "create_HrLr kernel_path:C:\\SaiVinay\\SproutsAI\\GitHub_\\ir_srgan_otsr\\results_kernels_DIV2K\\0691\\0691_kernel_x4.mat\n",
      "scale_factor:  [0.125, 0.125, 1]\n",
      "output_shape:  [170 255   3]\n",
      "im.shape:  (1356, 2040, 3)\n"
     ]
    },
    {
     "name": "stderr",
     "output_type": "stream",
     "text": [
      "Resizing images:  86%|████████▋ | 691/800 [1:42:25<15:52,  8.74s/it]"
     ]
    },
    {
     "name": "stdout",
     "output_type": "stream",
     "text": [
      "input_img.size():  torch.Size([3, 1356, 2040])\n",
      "resize2_img.size():  torch.Size([3, 170, 255])\n",
      "resize2_cut_img.size():  torch.Size([3, 168, 248])\n",
      "create_HrLr kernel_path:C:\\SaiVinay\\SproutsAI\\GitHub_\\ir_srgan_otsr\\results_kernels_DIV2K\\0692\\0692_kernel_x4.mat\n",
      "scale_factor:  [0.125, 0.125, 1]\n",
      "output_shape:  [170 255   3]\n",
      "im.shape:  (1356, 2040, 3)\n"
     ]
    },
    {
     "name": "stderr",
     "output_type": "stream",
     "text": [
      "Resizing images:  86%|████████▋ | 692/800 [1:42:34<15:37,  8.68s/it]"
     ]
    },
    {
     "name": "stdout",
     "output_type": "stream",
     "text": [
      "input_img.size():  torch.Size([3, 1536, 2040])\n",
      "resize2_img.size():  torch.Size([3, 192, 255])\n",
      "resize2_cut_img.size():  torch.Size([3, 192, 248])\n",
      "create_HrLr kernel_path:C:\\SaiVinay\\SproutsAI\\GitHub_\\ir_srgan_otsr\\results_kernels_DIV2K\\0693\\0693_kernel_x4.mat\n",
      "scale_factor:  [0.125, 0.125, 1]\n",
      "output_shape:  [192 255   3]\n",
      "im.shape:  (1536, 2040, 3)\n"
     ]
    },
    {
     "name": "stderr",
     "output_type": "stream",
     "text": [
      "Resizing images:  87%|████████▋ | 693/800 [1:42:44<16:11,  9.08s/it]"
     ]
    },
    {
     "name": "stdout",
     "output_type": "stream",
     "text": [
      "input_img.size():  torch.Size([3, 2040, 1356])\n",
      "resize2_img.size():  torch.Size([3, 255, 170])\n",
      "resize2_cut_img.size():  torch.Size([3, 248, 168])\n",
      "create_HrLr kernel_path:C:\\SaiVinay\\SproutsAI\\GitHub_\\ir_srgan_otsr\\results_kernels_DIV2K\\0694\\0694_kernel_x4.mat\n",
      "scale_factor:  [0.125, 0.125, 1]\n",
      "output_shape:  [255 170   3]\n",
      "im.shape:  (2040, 1356, 3)\n"
     ]
    },
    {
     "name": "stderr",
     "output_type": "stream",
     "text": [
      "Resizing images:  87%|████████▋ | 694/800 [1:42:53<15:50,  8.97s/it]"
     ]
    },
    {
     "name": "stdout",
     "output_type": "stream",
     "text": [
      "input_img.size():  torch.Size([3, 1356, 2040])\n",
      "resize2_img.size():  torch.Size([3, 170, 255])\n",
      "resize2_cut_img.size():  torch.Size([3, 168, 248])\n",
      "create_HrLr kernel_path:C:\\SaiVinay\\SproutsAI\\GitHub_\\ir_srgan_otsr\\results_kernels_DIV2K\\0695\\0695_kernel_x4.mat\n",
      "scale_factor:  [0.125, 0.125, 1]\n",
      "output_shape:  [170 255   3]\n",
      "im.shape:  (1356, 2040, 3)\n"
     ]
    },
    {
     "name": "stderr",
     "output_type": "stream",
     "text": [
      "Resizing images:  87%|████████▋ | 695/800 [1:43:01<15:37,  8.92s/it]"
     ]
    },
    {
     "name": "stdout",
     "output_type": "stream",
     "text": [
      "input_img.size():  torch.Size([3, 2040, 1356])\n",
      "resize2_img.size():  torch.Size([3, 255, 170])\n",
      "resize2_cut_img.size():  torch.Size([3, 248, 168])\n",
      "create_HrLr kernel_path:C:\\SaiVinay\\SproutsAI\\GitHub_\\ir_srgan_otsr\\results_kernels_DIV2K\\0696\\0696_kernel_x4.mat\n",
      "scale_factor:  [0.125, 0.125, 1]\n",
      "output_shape:  [255 170   3]\n",
      "im.shape:  (2040, 1356, 3)\n"
     ]
    },
    {
     "name": "stderr",
     "output_type": "stream",
     "text": [
      "Resizing images:  87%|████████▋ | 696/800 [1:43:11<15:32,  8.96s/it]"
     ]
    },
    {
     "name": "stdout",
     "output_type": "stream",
     "text": [
      "input_img.size():  torch.Size([3, 1356, 2040])\n",
      "resize2_img.size():  torch.Size([3, 170, 255])\n",
      "resize2_cut_img.size():  torch.Size([3, 168, 248])\n",
      "create_HrLr kernel_path:C:\\SaiVinay\\SproutsAI\\GitHub_\\ir_srgan_otsr\\results_kernels_DIV2K\\0697\\0697_kernel_x4.mat\n",
      "scale_factor:  [0.125, 0.125, 1]\n",
      "output_shape:  [170 255   3]\n",
      "im.shape:  (1356, 2040, 3)\n"
     ]
    },
    {
     "name": "stderr",
     "output_type": "stream",
     "text": [
      "Resizing images:  87%|████████▋ | 697/800 [1:43:19<15:18,  8.91s/it]"
     ]
    },
    {
     "name": "stdout",
     "output_type": "stream",
     "text": [
      "input_img.size():  torch.Size([3, 2040, 1968])\n",
      "resize2_img.size():  torch.Size([3, 255, 246])\n",
      "resize2_cut_img.size():  torch.Size([3, 248, 240])\n",
      "create_HrLr kernel_path:C:\\SaiVinay\\SproutsAI\\GitHub_\\ir_srgan_otsr\\results_kernels_DIV2K\\0698\\0698_kernel_x4.mat\n",
      "scale_factor:  [0.125, 0.125, 1]\n",
      "output_shape:  [255 246   3]\n",
      "im.shape:  (2040, 1968, 3)\n"
     ]
    },
    {
     "name": "stderr",
     "output_type": "stream",
     "text": [
      "Resizing images:  87%|████████▋ | 698/800 [1:43:32<16:49,  9.90s/it]"
     ]
    },
    {
     "name": "stdout",
     "output_type": "stream",
     "text": [
      "input_img.size():  torch.Size([3, 2040, 1572])\n",
      "resize2_img.size():  torch.Size([3, 255, 197])\n",
      "resize2_cut_img.size():  torch.Size([3, 248, 192])\n",
      "create_HrLr kernel_path:C:\\SaiVinay\\SproutsAI\\GitHub_\\ir_srgan_otsr\\results_kernels_DIV2K\\0699\\0699_kernel_x4.mat\n",
      "scale_factor:  [0.125, 0.125, 1]\n",
      "output_shape:  [255 197   3]\n",
      "im.shape:  (2040, 1572, 3)\n"
     ]
    },
    {
     "name": "stderr",
     "output_type": "stream",
     "text": [
      "Resizing images:  87%|████████▋ | 699/800 [1:43:42<16:50, 10.01s/it]"
     ]
    },
    {
     "name": "stdout",
     "output_type": "stream",
     "text": [
      "input_img.size():  torch.Size([3, 1728, 2040])\n",
      "resize2_img.size():  torch.Size([3, 216, 255])\n",
      "resize2_cut_img.size():  torch.Size([3, 216, 248])\n",
      "create_HrLr kernel_path:C:\\SaiVinay\\SproutsAI\\GitHub_\\ir_srgan_otsr\\results_kernels_DIV2K\\0700\\0700_kernel_x4.mat\n",
      "scale_factor:  [0.125, 0.125, 1]\n",
      "output_shape:  [216 255   3]\n",
      "im.shape:  (1728, 2040, 3)\n"
     ]
    },
    {
     "name": "stderr",
     "output_type": "stream",
     "text": [
      "Resizing images:  88%|████████▊ | 700/800 [1:43:53<17:31, 10.51s/it]"
     ]
    },
    {
     "name": "stdout",
     "output_type": "stream",
     "text": [
      "input_img.size():  torch.Size([3, 1344, 2040])\n",
      "resize2_img.size():  torch.Size([3, 168, 255])\n",
      "resize2_cut_img.size():  torch.Size([3, 168, 248])\n",
      "create_HrLr kernel_path:C:\\SaiVinay\\SproutsAI\\GitHub_\\ir_srgan_otsr\\results_kernels_DIV2K\\0701\\0701_kernel_x4.mat\n",
      "scale_factor:  [0.125, 0.125, 1]\n",
      "output_shape:  [168 255   3]\n",
      "im.shape:  (1344, 2040, 3)\n"
     ]
    },
    {
     "name": "stderr",
     "output_type": "stream",
     "text": [
      "Resizing images:  88%|████████▊ | 701/800 [1:44:02<16:23,  9.93s/it]"
     ]
    },
    {
     "name": "stdout",
     "output_type": "stream",
     "text": [
      "input_img.size():  torch.Size([3, 1320, 2040])\n",
      "resize2_img.size():  torch.Size([3, 165, 255])\n",
      "resize2_cut_img.size():  torch.Size([3, 160, 248])\n",
      "create_HrLr kernel_path:C:\\SaiVinay\\SproutsAI\\GitHub_\\ir_srgan_otsr\\results_kernels_DIV2K\\0702\\0702_kernel_x4.mat\n",
      "scale_factor:  [0.125, 0.125, 1]\n",
      "output_shape:  [165 255   3]\n",
      "im.shape:  (1320, 2040, 3)\n"
     ]
    },
    {
     "name": "stderr",
     "output_type": "stream",
     "text": [
      "Resizing images:  88%|████████▊ | 702/800 [1:44:11<15:47,  9.67s/it]"
     ]
    },
    {
     "name": "stdout",
     "output_type": "stream",
     "text": [
      "input_img.size():  torch.Size([3, 2040, 1356])\n",
      "resize2_img.size():  torch.Size([3, 255, 170])\n",
      "resize2_cut_img.size():  torch.Size([3, 248, 168])\n",
      "create_HrLr kernel_path:C:\\SaiVinay\\SproutsAI\\GitHub_\\ir_srgan_otsr\\results_kernels_DIV2K\\0703\\0703_kernel_x4.mat\n",
      "scale_factor:  [0.125, 0.125, 1]\n",
      "output_shape:  [255 170   3]\n",
      "im.shape:  (2040, 1356, 3)\n"
     ]
    },
    {
     "name": "stderr",
     "output_type": "stream",
     "text": [
      "Resizing images:  88%|████████▊ | 703/800 [1:44:20<15:12,  9.41s/it]"
     ]
    },
    {
     "name": "stdout",
     "output_type": "stream",
     "text": [
      "input_img.size():  torch.Size([3, 1356, 2040])\n",
      "resize2_img.size():  torch.Size([3, 170, 255])\n",
      "resize2_cut_img.size():  torch.Size([3, 168, 248])\n",
      "create_HrLr kernel_path:C:\\SaiVinay\\SproutsAI\\GitHub_\\ir_srgan_otsr\\results_kernels_DIV2K\\0704\\0704_kernel_x4.mat\n",
      "scale_factor:  [0.125, 0.125, 1]\n",
      "output_shape:  [170 255   3]\n",
      "im.shape:  (1356, 2040, 3)\n"
     ]
    },
    {
     "name": "stderr",
     "output_type": "stream",
     "text": [
      "Resizing images:  88%|████████▊ | 704/800 [1:44:29<14:44,  9.22s/it]"
     ]
    },
    {
     "name": "stdout",
     "output_type": "stream",
     "text": [
      "input_img.size():  torch.Size([3, 1356, 2040])\n",
      "resize2_img.size():  torch.Size([3, 170, 255])\n",
      "resize2_cut_img.size():  torch.Size([3, 168, 248])\n",
      "create_HrLr kernel_path:C:\\SaiVinay\\SproutsAI\\GitHub_\\ir_srgan_otsr\\results_kernels_DIV2K\\0705\\0705_kernel_x4.mat\n",
      "scale_factor:  [0.125, 0.125, 1]\n",
      "output_shape:  [170 255   3]\n",
      "im.shape:  (1356, 2040, 3)\n"
     ]
    },
    {
     "name": "stderr",
     "output_type": "stream",
     "text": [
      "Resizing images:  88%|████████▊ | 705/800 [1:44:37<14:23,  9.09s/it]"
     ]
    },
    {
     "name": "stdout",
     "output_type": "stream",
     "text": [
      "input_img.size():  torch.Size([3, 1368, 2040])\n",
      "resize2_img.size():  torch.Size([3, 171, 255])\n",
      "resize2_cut_img.size():  torch.Size([3, 168, 248])\n",
      "create_HrLr kernel_path:C:\\SaiVinay\\SproutsAI\\GitHub_\\ir_srgan_otsr\\results_kernels_DIV2K\\0706\\0706_kernel_x4.mat\n",
      "scale_factor:  [0.125, 0.125, 1]\n",
      "output_shape:  [171 255   3]\n",
      "im.shape:  (1368, 2040, 3)\n"
     ]
    },
    {
     "name": "stderr",
     "output_type": "stream",
     "text": [
      "Resizing images:  88%|████████▊ | 706/800 [1:44:46<13:55,  8.89s/it]"
     ]
    },
    {
     "name": "stdout",
     "output_type": "stream",
     "text": [
      "input_img.size():  torch.Size([3, 1356, 2040])\n",
      "resize2_img.size():  torch.Size([3, 170, 255])\n",
      "resize2_cut_img.size():  torch.Size([3, 168, 248])\n",
      "create_HrLr kernel_path:C:\\SaiVinay\\SproutsAI\\GitHub_\\ir_srgan_otsr\\results_kernels_DIV2K\\0707\\0707_kernel_x4.mat\n",
      "scale_factor:  [0.125, 0.125, 1]\n",
      "output_shape:  [170 255   3]\n",
      "im.shape:  (1356, 2040, 3)\n"
     ]
    },
    {
     "name": "stderr",
     "output_type": "stream",
     "text": [
      "Resizing images:  88%|████████▊ | 707/800 [1:44:55<13:50,  8.93s/it]"
     ]
    },
    {
     "name": "stdout",
     "output_type": "stream",
     "text": [
      "input_img.size():  torch.Size([3, 1356, 2040])\n",
      "resize2_img.size():  torch.Size([3, 170, 255])\n",
      "resize2_cut_img.size():  torch.Size([3, 168, 248])\n",
      "create_HrLr kernel_path:C:\\SaiVinay\\SproutsAI\\GitHub_\\ir_srgan_otsr\\results_kernels_DIV2K\\0708\\0708_kernel_x4.mat\n",
      "scale_factor:  [0.125, 0.125, 1]\n",
      "output_shape:  [170 255   3]\n",
      "im.shape:  (1356, 2040, 3)\n"
     ]
    },
    {
     "name": "stderr",
     "output_type": "stream",
     "text": [
      "Resizing images:  88%|████████▊ | 708/800 [1:45:04<13:39,  8.91s/it]"
     ]
    },
    {
     "name": "stdout",
     "output_type": "stream",
     "text": [
      "input_img.size():  torch.Size([3, 1356, 2040])\n",
      "resize2_img.size():  torch.Size([3, 170, 255])\n",
      "resize2_cut_img.size():  torch.Size([3, 168, 248])\n",
      "create_HrLr kernel_path:C:\\SaiVinay\\SproutsAI\\GitHub_\\ir_srgan_otsr\\results_kernels_DIV2K\\0709\\0709_kernel_x4.mat\n",
      "scale_factor:  [0.125, 0.125, 1]\n",
      "output_shape:  [170 255   3]\n",
      "im.shape:  (1356, 2040, 3)\n"
     ]
    },
    {
     "name": "stderr",
     "output_type": "stream",
     "text": [
      "Resizing images:  89%|████████▊ | 709/800 [1:45:13<13:26,  8.86s/it]"
     ]
    },
    {
     "name": "stdout",
     "output_type": "stream",
     "text": [
      "input_img.size():  torch.Size([3, 936, 2040])\n",
      "resize2_img.size():  torch.Size([3, 117, 255])\n",
      "resize2_cut_img.size():  torch.Size([3, 112, 248])\n",
      "create_HrLr kernel_path:C:\\SaiVinay\\SproutsAI\\GitHub_\\ir_srgan_otsr\\results_kernels_DIV2K\\0710\\0710_kernel_x4.mat\n",
      "scale_factor:  [0.125, 0.125, 1]\n",
      "output_shape:  [117 255   3]\n",
      "im.shape:  (936, 2040, 3)\n"
     ]
    },
    {
     "name": "stderr",
     "output_type": "stream",
     "text": [
      "Resizing images:  89%|████████▉ | 710/800 [1:45:18<11:54,  7.94s/it]"
     ]
    },
    {
     "name": "stdout",
     "output_type": "stream",
     "text": [
      "input_img.size():  torch.Size([3, 1536, 2040])\n",
      "resize2_img.size():  torch.Size([3, 192, 255])\n",
      "resize2_cut_img.size():  torch.Size([3, 192, 248])\n",
      "create_HrLr kernel_path:C:\\SaiVinay\\SproutsAI\\GitHub_\\ir_srgan_otsr\\results_kernels_DIV2K\\0711\\0711_kernel_x4.mat\n",
      "scale_factor:  [0.125, 0.125, 1]\n",
      "output_shape:  [192 255   3]\n",
      "im.shape:  (1536, 2040, 3)\n"
     ]
    },
    {
     "name": "stderr",
     "output_type": "stream",
     "text": [
      "Resizing images:  89%|████████▉ | 711/800 [1:45:29<12:47,  8.63s/it]"
     ]
    },
    {
     "name": "stdout",
     "output_type": "stream",
     "text": [
      "input_img.size():  torch.Size([3, 1788, 2040])\n",
      "resize2_img.size():  torch.Size([3, 224, 255])\n",
      "resize2_cut_img.size():  torch.Size([3, 224, 248])\n",
      "create_HrLr kernel_path:C:\\SaiVinay\\SproutsAI\\GitHub_\\ir_srgan_otsr\\results_kernels_DIV2K\\0712\\0712_kernel_x4.mat\n",
      "scale_factor:  [0.125, 0.125, 1]\n",
      "output_shape:  [224 255   3]\n",
      "im.shape:  (1788, 2040, 3)\n"
     ]
    },
    {
     "name": "stderr",
     "output_type": "stream",
     "text": [
      "Resizing images:  89%|████████▉ | 712/800 [1:45:39<13:31,  9.23s/it]"
     ]
    },
    {
     "name": "stdout",
     "output_type": "stream",
     "text": [
      "input_img.size():  torch.Size([3, 1344, 2040])\n",
      "resize2_img.size():  torch.Size([3, 168, 255])\n",
      "resize2_cut_img.size():  torch.Size([3, 168, 248])\n",
      "create_HrLr kernel_path:C:\\SaiVinay\\SproutsAI\\GitHub_\\ir_srgan_otsr\\results_kernels_DIV2K\\0713\\0713_kernel_x4.mat\n",
      "scale_factor:  [0.125, 0.125, 1]\n",
      "output_shape:  [168 255   3]\n",
      "im.shape:  (1344, 2040, 3)\n"
     ]
    },
    {
     "name": "stderr",
     "output_type": "stream",
     "text": [
      "Resizing images:  89%|████████▉ | 713/800 [1:45:48<13:08,  9.07s/it]"
     ]
    },
    {
     "name": "stdout",
     "output_type": "stream",
     "text": [
      "input_img.size():  torch.Size([3, 1524, 2040])\n",
      "resize2_img.size():  torch.Size([3, 191, 255])\n",
      "resize2_cut_img.size():  torch.Size([3, 184, 248])\n",
      "create_HrLr kernel_path:C:\\SaiVinay\\SproutsAI\\GitHub_\\ir_srgan_otsr\\results_kernels_DIV2K\\0714\\0714_kernel_x4.mat\n",
      "scale_factor:  [0.125, 0.125, 1]\n",
      "output_shape:  [191 255   3]\n",
      "im.shape:  (1524, 2040, 3)\n"
     ]
    },
    {
     "name": "stderr",
     "output_type": "stream",
     "text": [
      "Resizing images:  89%|████████▉ | 714/800 [1:45:58<13:21,  9.32s/it]"
     ]
    },
    {
     "name": "stdout",
     "output_type": "stream",
     "text": [
      "input_img.size():  torch.Size([3, 1332, 2040])\n",
      "resize2_img.size():  torch.Size([3, 167, 255])\n",
      "resize2_cut_img.size():  torch.Size([3, 160, 248])\n",
      "create_HrLr kernel_path:C:\\SaiVinay\\SproutsAI\\GitHub_\\ir_srgan_otsr\\results_kernels_DIV2K\\0715\\0715_kernel_x4.mat\n",
      "scale_factor:  [0.125, 0.125, 1]\n",
      "output_shape:  [167 255   3]\n",
      "im.shape:  (1332, 2040, 3)\n"
     ]
    },
    {
     "name": "stderr",
     "output_type": "stream",
     "text": [
      "Resizing images:  89%|████████▉ | 715/800 [1:46:06<12:53,  9.09s/it]"
     ]
    },
    {
     "name": "stdout",
     "output_type": "stream",
     "text": [
      "input_img.size():  torch.Size([3, 2040, 2040])\n",
      "resize2_img.size():  torch.Size([3, 255, 255])\n",
      "resize2_cut_img.size():  torch.Size([3, 248, 248])\n",
      "create_HrLr kernel_path:C:\\SaiVinay\\SproutsAI\\GitHub_\\ir_srgan_otsr\\results_kernels_DIV2K\\0716\\0716_kernel_x4.mat\n",
      "scale_factor:  [0.125, 0.125, 1]\n",
      "output_shape:  [255 255   3]\n",
      "im.shape:  (2040, 2040, 3)\n"
     ]
    },
    {
     "name": "stderr",
     "output_type": "stream",
     "text": [
      "Resizing images:  90%|████████▉ | 716/800 [1:46:19<14:21, 10.25s/it]"
     ]
    },
    {
     "name": "stdout",
     "output_type": "stream",
     "text": [
      "input_img.size():  torch.Size([3, 1356, 2040])\n",
      "resize2_img.size():  torch.Size([3, 170, 255])\n",
      "resize2_cut_img.size():  torch.Size([3, 168, 248])\n",
      "create_HrLr kernel_path:C:\\SaiVinay\\SproutsAI\\GitHub_\\ir_srgan_otsr\\results_kernels_DIV2K\\0717\\0717_kernel_x4.mat\n",
      "scale_factor:  [0.125, 0.125, 1]\n",
      "output_shape:  [170 255   3]\n",
      "im.shape:  (1356, 2040, 3)\n"
     ]
    },
    {
     "name": "stderr",
     "output_type": "stream",
     "text": [
      "Resizing images:  90%|████████▉ | 717/800 [1:46:28<13:25,  9.70s/it]"
     ]
    },
    {
     "name": "stdout",
     "output_type": "stream",
     "text": [
      "input_img.size():  torch.Size([3, 1356, 2040])\n",
      "resize2_img.size():  torch.Size([3, 170, 255])\n",
      "resize2_cut_img.size():  torch.Size([3, 168, 248])\n",
      "create_HrLr kernel_path:C:\\SaiVinay\\SproutsAI\\GitHub_\\ir_srgan_otsr\\results_kernels_DIV2K\\0718\\0718_kernel_x4.mat\n",
      "scale_factor:  [0.125, 0.125, 1]\n",
      "output_shape:  [170 255   3]\n",
      "im.shape:  (1356, 2040, 3)\n"
     ]
    },
    {
     "name": "stderr",
     "output_type": "stream",
     "text": [
      "Resizing images:  90%|████████▉ | 718/800 [1:46:36<12:34,  9.21s/it]"
     ]
    },
    {
     "name": "stdout",
     "output_type": "stream",
     "text": [
      "input_img.size():  torch.Size([3, 1356, 2040])\n",
      "resize2_img.size():  torch.Size([3, 170, 255])\n",
      "resize2_cut_img.size():  torch.Size([3, 168, 248])\n",
      "create_HrLr kernel_path:C:\\SaiVinay\\SproutsAI\\GitHub_\\ir_srgan_otsr\\results_kernels_DIV2K\\0719\\0719_kernel_x4.mat\n",
      "scale_factor:  [0.125, 0.125, 1]\n",
      "output_shape:  [170 255   3]\n",
      "im.shape:  (1356, 2040, 3)\n"
     ]
    },
    {
     "name": "stderr",
     "output_type": "stream",
     "text": [
      "Resizing images:  90%|████████▉ | 719/800 [1:46:44<12:09,  9.01s/it]"
     ]
    },
    {
     "name": "stdout",
     "output_type": "stream",
     "text": [
      "input_img.size():  torch.Size([3, 1356, 2040])\n",
      "resize2_img.size():  torch.Size([3, 170, 255])\n",
      "resize2_cut_img.size():  torch.Size([3, 168, 248])\n",
      "create_HrLr kernel_path:C:\\SaiVinay\\SproutsAI\\GitHub_\\ir_srgan_otsr\\results_kernels_DIV2K\\0720\\0720_kernel_x4.mat\n",
      "scale_factor:  [0.125, 0.125, 1]\n",
      "output_shape:  [170 255   3]\n",
      "im.shape:  (1356, 2040, 3)\n"
     ]
    },
    {
     "name": "stderr",
     "output_type": "stream",
     "text": [
      "Resizing images:  90%|█████████ | 720/800 [1:46:53<11:48,  8.85s/it]"
     ]
    },
    {
     "name": "stdout",
     "output_type": "stream",
     "text": [
      "input_img.size():  torch.Size([3, 1356, 2040])\n",
      "resize2_img.size():  torch.Size([3, 170, 255])\n",
      "resize2_cut_img.size():  torch.Size([3, 168, 248])\n",
      "create_HrLr kernel_path:C:\\SaiVinay\\SproutsAI\\GitHub_\\ir_srgan_otsr\\results_kernels_DIV2K\\0721\\0721_kernel_x4.mat\n",
      "scale_factor:  [0.125, 0.125, 1]\n",
      "output_shape:  [170 255   3]\n",
      "im.shape:  (1356, 2040, 3)\n"
     ]
    },
    {
     "name": "stderr",
     "output_type": "stream",
     "text": [
      "Resizing images:  90%|█████████ | 721/800 [1:47:02<11:38,  8.84s/it]"
     ]
    },
    {
     "name": "stdout",
     "output_type": "stream",
     "text": [
      "input_img.size():  torch.Size([3, 1356, 2040])\n",
      "resize2_img.size():  torch.Size([3, 170, 255])\n",
      "resize2_cut_img.size():  torch.Size([3, 168, 248])\n",
      "create_HrLr kernel_path:C:\\SaiVinay\\SproutsAI\\GitHub_\\ir_srgan_otsr\\results_kernels_DIV2K\\0722\\0722_kernel_x4.mat\n",
      "scale_factor:  [0.125, 0.125, 1]\n",
      "output_shape:  [170 255   3]\n",
      "im.shape:  (1356, 2040, 3)\n"
     ]
    },
    {
     "name": "stderr",
     "output_type": "stream",
     "text": [
      "Resizing images:  90%|█████████ | 722/800 [1:47:10<11:29,  8.84s/it]"
     ]
    },
    {
     "name": "stdout",
     "output_type": "stream",
     "text": [
      "input_img.size():  torch.Size([3, 1356, 2040])\n",
      "resize2_img.size():  torch.Size([3, 170, 255])\n",
      "resize2_cut_img.size():  torch.Size([3, 168, 248])\n",
      "create_HrLr kernel_path:C:\\SaiVinay\\SproutsAI\\GitHub_\\ir_srgan_otsr\\results_kernels_DIV2K\\0723\\0723_kernel_x4.mat\n",
      "scale_factor:  [0.125, 0.125, 1]\n",
      "output_shape:  [170 255   3]\n",
      "im.shape:  (1356, 2040, 3)\n"
     ]
    },
    {
     "name": "stderr",
     "output_type": "stream",
     "text": [
      "Resizing images:  90%|█████████ | 723/800 [1:47:19<11:08,  8.68s/it]"
     ]
    },
    {
     "name": "stdout",
     "output_type": "stream",
     "text": [
      "input_img.size():  torch.Size([3, 2040, 1356])\n",
      "resize2_img.size():  torch.Size([3, 255, 170])\n",
      "resize2_cut_img.size():  torch.Size([3, 248, 168])\n",
      "create_HrLr kernel_path:C:\\SaiVinay\\SproutsAI\\GitHub_\\ir_srgan_otsr\\results_kernels_DIV2K\\0724\\0724_kernel_x4.mat\n",
      "scale_factor:  [0.125, 0.125, 1]\n",
      "output_shape:  [255 170   3]\n",
      "im.shape:  (2040, 1356, 3)\n"
     ]
    },
    {
     "name": "stderr",
     "output_type": "stream",
     "text": [
      "Resizing images:  90%|█████████ | 724/800 [1:47:28<11:02,  8.71s/it]"
     ]
    },
    {
     "name": "stdout",
     "output_type": "stream",
     "text": [
      "input_img.size():  torch.Size([3, 1356, 2040])\n",
      "resize2_img.size():  torch.Size([3, 170, 255])\n",
      "resize2_cut_img.size():  torch.Size([3, 168, 248])\n",
      "create_HrLr kernel_path:C:\\SaiVinay\\SproutsAI\\GitHub_\\ir_srgan_otsr\\results_kernels_DIV2K\\0725\\0725_kernel_x4.mat\n",
      "scale_factor:  [0.125, 0.125, 1]\n",
      "output_shape:  [170 255   3]\n",
      "im.shape:  (1356, 2040, 3)\n"
     ]
    },
    {
     "name": "stderr",
     "output_type": "stream",
     "text": [
      "Resizing images:  91%|█████████ | 725/800 [1:47:36<10:51,  8.69s/it]"
     ]
    },
    {
     "name": "stdout",
     "output_type": "stream",
     "text": [
      "input_img.size():  torch.Size([3, 1152, 2040])\n",
      "resize2_img.size():  torch.Size([3, 144, 255])\n",
      "resize2_cut_img.size():  torch.Size([3, 144, 248])\n",
      "create_HrLr kernel_path:C:\\SaiVinay\\SproutsAI\\GitHub_\\ir_srgan_otsr\\results_kernels_DIV2K\\0726\\0726_kernel_x4.mat\n",
      "scale_factor:  [0.125, 0.125, 1]\n",
      "output_shape:  [144 255   3]\n",
      "im.shape:  (1152, 2040, 3)\n"
     ]
    },
    {
     "name": "stderr",
     "output_type": "stream",
     "text": [
      "Resizing images:  91%|█████████ | 726/800 [1:47:44<10:29,  8.50s/it]"
     ]
    },
    {
     "name": "stdout",
     "output_type": "stream",
     "text": [
      "input_img.size():  torch.Size([3, 1356, 2040])\n",
      "resize2_img.size():  torch.Size([3, 170, 255])\n",
      "resize2_cut_img.size():  torch.Size([3, 168, 248])\n",
      "create_HrLr kernel_path:C:\\SaiVinay\\SproutsAI\\GitHub_\\ir_srgan_otsr\\results_kernels_DIV2K\\0727\\0727_kernel_x4.mat\n",
      "scale_factor:  [0.125, 0.125, 1]\n",
      "output_shape:  [170 255   3]\n",
      "im.shape:  (1356, 2040, 3)\n"
     ]
    },
    {
     "name": "stderr",
     "output_type": "stream",
     "text": [
      "Resizing images:  91%|█████████ | 727/800 [1:47:53<10:34,  8.69s/it]"
     ]
    },
    {
     "name": "stdout",
     "output_type": "stream",
     "text": [
      "input_img.size():  torch.Size([3, 1368, 2040])\n",
      "resize2_img.size():  torch.Size([3, 171, 255])\n",
      "resize2_cut_img.size():  torch.Size([3, 168, 248])\n",
      "create_HrLr kernel_path:C:\\SaiVinay\\SproutsAI\\GitHub_\\ir_srgan_otsr\\results_kernels_DIV2K\\0728\\0728_kernel_x4.mat\n",
      "scale_factor:  [0.125, 0.125, 1]\n",
      "output_shape:  [171 255   3]\n",
      "im.shape:  (1368, 2040, 3)\n"
     ]
    },
    {
     "name": "stderr",
     "output_type": "stream",
     "text": [
      "Resizing images:  91%|█████████ | 728/800 [1:48:03<10:36,  8.84s/it]"
     ]
    },
    {
     "name": "stdout",
     "output_type": "stream",
     "text": [
      "input_img.size():  torch.Size([3, 1356, 2040])\n",
      "resize2_img.size():  torch.Size([3, 170, 255])\n",
      "resize2_cut_img.size():  torch.Size([3, 168, 248])\n",
      "create_HrLr kernel_path:C:\\SaiVinay\\SproutsAI\\GitHub_\\ir_srgan_otsr\\results_kernels_DIV2K\\0729\\0729_kernel_x4.mat\n",
      "scale_factor:  [0.125, 0.125, 1]\n",
      "output_shape:  [170 255   3]\n",
      "im.shape:  (1356, 2040, 3)\n"
     ]
    },
    {
     "name": "stderr",
     "output_type": "stream",
     "text": [
      "Resizing images:  91%|█████████ | 729/800 [1:48:11<10:19,  8.73s/it]"
     ]
    },
    {
     "name": "stdout",
     "output_type": "stream",
     "text": [
      "input_img.size():  torch.Size([3, 1356, 2040])\n",
      "resize2_img.size():  torch.Size([3, 170, 255])\n",
      "resize2_cut_img.size():  torch.Size([3, 168, 248])\n",
      "create_HrLr kernel_path:C:\\SaiVinay\\SproutsAI\\GitHub_\\ir_srgan_otsr\\results_kernels_DIV2K\\0730\\0730_kernel_x4.mat\n",
      "scale_factor:  [0.125, 0.125, 1]\n",
      "output_shape:  [170 255   3]\n",
      "im.shape:  (1356, 2040, 3)\n"
     ]
    },
    {
     "name": "stderr",
     "output_type": "stream",
     "text": [
      "Resizing images:  91%|█████████▏| 730/800 [1:48:19<10:03,  8.63s/it]"
     ]
    },
    {
     "name": "stdout",
     "output_type": "stream",
     "text": [
      "input_img.size():  torch.Size([3, 1356, 2040])\n",
      "resize2_img.size():  torch.Size([3, 170, 255])\n",
      "resize2_cut_img.size():  torch.Size([3, 168, 248])\n",
      "create_HrLr kernel_path:C:\\SaiVinay\\SproutsAI\\GitHub_\\ir_srgan_otsr\\results_kernels_DIV2K\\0731\\0731_kernel_x4.mat\n",
      "scale_factor:  [0.125, 0.125, 1]\n",
      "output_shape:  [170 255   3]\n",
      "im.shape:  (1356, 2040, 3)\n"
     ]
    },
    {
     "name": "stderr",
     "output_type": "stream",
     "text": [
      "Resizing images:  91%|█████████▏| 731/800 [1:48:29<10:07,  8.81s/it]"
     ]
    },
    {
     "name": "stdout",
     "output_type": "stream",
     "text": [
      "input_img.size():  torch.Size([3, 1536, 2040])\n",
      "resize2_img.size():  torch.Size([3, 192, 255])\n",
      "resize2_cut_img.size():  torch.Size([3, 192, 248])\n",
      "create_HrLr kernel_path:C:\\SaiVinay\\SproutsAI\\GitHub_\\ir_srgan_otsr\\results_kernels_DIV2K\\0732\\0732_kernel_x4.mat\n",
      "scale_factor:  [0.125, 0.125, 1]\n",
      "output_shape:  [192 255   3]\n",
      "im.shape:  (1536, 2040, 3)\n"
     ]
    },
    {
     "name": "stderr",
     "output_type": "stream",
     "text": [
      "Resizing images:  92%|█████████▏| 732/800 [1:48:38<10:17,  9.08s/it]"
     ]
    },
    {
     "name": "stdout",
     "output_type": "stream",
     "text": [
      "input_img.size():  torch.Size([3, 1308, 2040])\n",
      "resize2_img.size():  torch.Size([3, 164, 255])\n",
      "resize2_cut_img.size():  torch.Size([3, 160, 248])\n",
      "create_HrLr kernel_path:C:\\SaiVinay\\SproutsAI\\GitHub_\\ir_srgan_otsr\\results_kernels_DIV2K\\0733\\0733_kernel_x4.mat\n",
      "scale_factor:  [0.125, 0.125, 1]\n",
      "output_shape:  [164 255   3]\n",
      "im.shape:  (1308, 2040, 3)\n"
     ]
    },
    {
     "name": "stderr",
     "output_type": "stream",
     "text": [
      "Resizing images:  92%|█████████▏| 733/800 [1:48:47<09:58,  8.94s/it]"
     ]
    },
    {
     "name": "stdout",
     "output_type": "stream",
     "text": [
      "input_img.size():  torch.Size([3, 2040, 1356])\n",
      "resize2_img.size():  torch.Size([3, 255, 170])\n",
      "resize2_cut_img.size():  torch.Size([3, 248, 168])\n",
      "create_HrLr kernel_path:C:\\SaiVinay\\SproutsAI\\GitHub_\\ir_srgan_otsr\\results_kernels_DIV2K\\0734\\0734_kernel_x4.mat\n",
      "scale_factor:  [0.125, 0.125, 1]\n",
      "output_shape:  [255 170   3]\n",
      "im.shape:  (2040, 1356, 3)\n"
     ]
    },
    {
     "name": "stderr",
     "output_type": "stream",
     "text": [
      "Resizing images:  92%|█████████▏| 734/800 [1:48:56<09:43,  8.84s/it]"
     ]
    },
    {
     "name": "stdout",
     "output_type": "stream",
     "text": [
      "input_img.size():  torch.Size([3, 1536, 2040])\n",
      "resize2_img.size():  torch.Size([3, 192, 255])\n",
      "resize2_cut_img.size():  torch.Size([3, 192, 248])\n",
      "create_HrLr kernel_path:C:\\SaiVinay\\SproutsAI\\GitHub_\\ir_srgan_otsr\\results_kernels_DIV2K\\0735\\0735_kernel_x4.mat\n",
      "scale_factor:  [0.125, 0.125, 1]\n",
      "output_shape:  [192 255   3]\n",
      "im.shape:  (1536, 2040, 3)\n"
     ]
    },
    {
     "name": "stderr",
     "output_type": "stream",
     "text": [
      "Resizing images:  92%|█████████▏| 735/800 [1:49:05<09:54,  9.15s/it]"
     ]
    },
    {
     "name": "stdout",
     "output_type": "stream",
     "text": [
      "input_img.size():  torch.Size([3, 1452, 2040])\n",
      "resize2_img.size():  torch.Size([3, 182, 255])\n",
      "resize2_cut_img.size():  torch.Size([3, 176, 248])\n",
      "create_HrLr kernel_path:C:\\SaiVinay\\SproutsAI\\GitHub_\\ir_srgan_otsr\\results_kernels_DIV2K\\0736\\0736_kernel_x4.mat\n",
      "scale_factor:  [0.125, 0.125, 1]\n",
      "output_shape:  [182 255   3]\n",
      "im.shape:  (1452, 2040, 3)\n"
     ]
    },
    {
     "name": "stderr",
     "output_type": "stream",
     "text": [
      "Resizing images:  92%|█████████▏| 736/800 [1:49:15<09:44,  9.14s/it]"
     ]
    },
    {
     "name": "stdout",
     "output_type": "stream",
     "text": [
      "input_img.size():  torch.Size([3, 1356, 2040])\n",
      "resize2_img.size():  torch.Size([3, 170, 255])\n",
      "resize2_cut_img.size():  torch.Size([3, 168, 248])\n",
      "create_HrLr kernel_path:C:\\SaiVinay\\SproutsAI\\GitHub_\\ir_srgan_otsr\\results_kernels_DIV2K\\0737\\0737_kernel_x4.mat\n",
      "scale_factor:  [0.125, 0.125, 1]\n",
      "output_shape:  [170 255   3]\n",
      "im.shape:  (1356, 2040, 3)\n"
     ]
    },
    {
     "name": "stderr",
     "output_type": "stream",
     "text": [
      "Resizing images:  92%|█████████▏| 737/800 [1:49:24<09:35,  9.13s/it]"
     ]
    },
    {
     "name": "stdout",
     "output_type": "stream",
     "text": [
      "input_img.size():  torch.Size([3, 1356, 2040])\n",
      "resize2_img.size():  torch.Size([3, 170, 255])\n",
      "resize2_cut_img.size():  torch.Size([3, 168, 248])\n",
      "create_HrLr kernel_path:C:\\SaiVinay\\SproutsAI\\GitHub_\\ir_srgan_otsr\\results_kernels_DIV2K\\0738\\0738_kernel_x4.mat\n",
      "scale_factor:  [0.125, 0.125, 1]\n",
      "output_shape:  [170 255   3]\n",
      "im.shape:  (1356, 2040, 3)\n"
     ]
    },
    {
     "name": "stderr",
     "output_type": "stream",
     "text": [
      "Resizing images:  92%|█████████▏| 739/800 [1:49:33<06:36,  6.51s/it]"
     ]
    },
    {
     "name": "stdout",
     "output_type": "stream",
     "text": [
      "input_img.size():  torch.Size([3, 1356, 2040])\n",
      "resize2_img.size():  torch.Size([3, 170, 255])\n",
      "resize2_cut_img.size():  torch.Size([3, 168, 248])\n",
      "[Errno 2] No such file or directory: 'C:\\\\SaiVinay\\\\SproutsAI\\\\GitHub_\\\\ir_srgan_otsr\\\\results_kernels_DIV2K\\\\0739\\\\0739_kernel_x4.mat'\n",
      "input_img.size():  torch.Size([3, 1356, 2040])\n"
     ]
    },
    {
     "name": "stderr",
     "output_type": "stream",
     "text": [
      "Resizing images:  93%|█████████▎| 741/800 [1:49:34<03:14,  3.29s/it]"
     ]
    },
    {
     "name": "stdout",
     "output_type": "stream",
     "text": [
      "resize2_img.size():  torch.Size([3, 170, 255])\n",
      "resize2_cut_img.size():  torch.Size([3, 168, 248])\n",
      "[Errno 2] No such file or directory: 'C:\\\\SaiVinay\\\\SproutsAI\\\\GitHub_\\\\ir_srgan_otsr\\\\results_kernels_DIV2K\\\\0740\\\\0740_kernel_x4.mat'\n",
      "input_img.size():  torch.Size([3, 2040, 1320])\n",
      "resize2_img.size():  torch.Size([3, 255, 165])\n",
      "resize2_cut_img.size():  torch.Size([3, 248, 160])\n",
      "[Errno 2] No such file or directory: 'C:\\\\SaiVinay\\\\SproutsAI\\\\GitHub_\\\\ir_srgan_otsr\\\\results_kernels_DIV2K\\\\0741\\\\0741_kernel_x4.mat'\n"
     ]
    },
    {
     "name": "stderr",
     "output_type": "stream",
     "text": [
      "Resizing images:  93%|█████████▎| 742/800 [1:49:34<02:17,  2.37s/it]"
     ]
    },
    {
     "name": "stdout",
     "output_type": "stream",
     "text": [
      "input_img.size():  torch.Size([3, 1356, 2040])\n",
      "resize2_img.size():  torch.Size([3, 170, 255])\n",
      "resize2_cut_img.size():  torch.Size([3, 168, 248])\n",
      "[Errno 2] No such file or directory: 'C:\\\\SaiVinay\\\\SproutsAI\\\\GitHub_\\\\ir_srgan_otsr\\\\results_kernels_DIV2K\\\\0742\\\\0742_kernel_x4.mat'\n",
      "input_img.size():  torch.Size([3, 1356, 2040])\n"
     ]
    },
    {
     "name": "stderr",
     "output_type": "stream",
     "text": [
      "Resizing images:  93%|█████████▎| 743/800 [1:49:34<01:37,  1.72s/it]"
     ]
    },
    {
     "name": "stdout",
     "output_type": "stream",
     "text": [
      "resize2_img.size():  torch.Size([3, 170, 255])\n",
      "resize2_cut_img.size():  torch.Size([3, 168, 248])\n",
      "[Errno 2] No such file or directory: 'C:\\\\SaiVinay\\\\SproutsAI\\\\GitHub_\\\\ir_srgan_otsr\\\\results_kernels_DIV2K\\\\0743\\\\0743_kernel_x4.mat'\n",
      "input_img.size():  torch.Size([3, 1584, 2040])\n"
     ]
    },
    {
     "name": "stderr",
     "output_type": "stream",
     "text": [
      "Resizing images:  93%|█████████▎| 745/800 [1:49:35<00:52,  1.06it/s]"
     ]
    },
    {
     "name": "stdout",
     "output_type": "stream",
     "text": [
      "resize2_img.size():  torch.Size([3, 198, 255])\n",
      "resize2_cut_img.size():  torch.Size([3, 192, 248])\n",
      "[Errno 2] No such file or directory: 'C:\\\\SaiVinay\\\\SproutsAI\\\\GitHub_\\\\ir_srgan_otsr\\\\results_kernels_DIV2K\\\\0744\\\\0744_kernel_x4.mat'\n",
      "input_img.size():  torch.Size([3, 1140, 2040])\n",
      "resize2_img.size():  torch.Size([3, 143, 255])\n",
      "resize2_cut_img.size():  torch.Size([3, 136, 248])\n",
      "[Errno 2] No such file or directory: 'C:\\\\SaiVinay\\\\SproutsAI\\\\GitHub_\\\\ir_srgan_otsr\\\\results_kernels_DIV2K\\\\0745\\\\0745_kernel_x4.mat'\n"
     ]
    },
    {
     "name": "stderr",
     "output_type": "stream",
     "text": [
      "Resizing images:  93%|█████████▎| 746/800 [1:49:35<00:38,  1.39it/s]"
     ]
    },
    {
     "name": "stdout",
     "output_type": "stream",
     "text": [
      "input_img.size():  torch.Size([3, 1356, 2040])\n",
      "resize2_img.size():  torch.Size([3, 170, 255])\n",
      "resize2_cut_img.size():  torch.Size([3, 168, 248])\n",
      "[Errno 2] No such file or directory: 'C:\\\\SaiVinay\\\\SproutsAI\\\\GitHub_\\\\ir_srgan_otsr\\\\results_kernels_DIV2K\\\\0746\\\\0746_kernel_x4.mat'\n",
      "input_img.size():  torch.Size([3, 1464, 2040])\n"
     ]
    },
    {
     "name": "stderr",
     "output_type": "stream",
     "text": [
      "Resizing images:  93%|█████████▎| 747/800 [1:49:35<00:29,  1.78it/s]"
     ]
    },
    {
     "name": "stdout",
     "output_type": "stream",
     "text": [
      "resize2_img.size():  torch.Size([3, 183, 255])\n",
      "resize2_cut_img.size():  torch.Size([3, 176, 248])\n",
      "[Errno 2] No such file or directory: 'C:\\\\SaiVinay\\\\SproutsAI\\\\GitHub_\\\\ir_srgan_otsr\\\\results_kernels_DIV2K\\\\0747\\\\0747_kernel_x4.mat'\n",
      "input_img.size():  torch.Size([3, 1536, 2040])\n"
     ]
    },
    {
     "name": "stderr",
     "output_type": "stream",
     "text": [
      "Resizing images:  94%|█████████▎| 748/800 [1:49:35<00:23,  2.17it/s]"
     ]
    },
    {
     "name": "stdout",
     "output_type": "stream",
     "text": [
      "resize2_img.size():  torch.Size([3, 192, 255])\n",
      "resize2_cut_img.size():  torch.Size([3, 192, 248])\n",
      "[Errno 2] No such file or directory: 'C:\\\\SaiVinay\\\\SproutsAI\\\\GitHub_\\\\ir_srgan_otsr\\\\results_kernels_DIV2K\\\\0748\\\\0748_kernel_x4.mat'\n",
      "input_img.size():  torch.Size([3, 1332, 2040])\n"
     ]
    },
    {
     "name": "stderr",
     "output_type": "stream",
     "text": [
      "Resizing images:  94%|█████████▍| 750/800 [1:49:36<00:16,  3.03it/s]"
     ]
    },
    {
     "name": "stdout",
     "output_type": "stream",
     "text": [
      "resize2_img.size():  torch.Size([3, 167, 255])\n",
      "resize2_cut_img.size():  torch.Size([3, 160, 248])\n",
      "[Errno 2] No such file or directory: 'C:\\\\SaiVinay\\\\SproutsAI\\\\GitHub_\\\\ir_srgan_otsr\\\\results_kernels_DIV2K\\\\0749\\\\0749_kernel_x4.mat'\n",
      "input_img.size():  torch.Size([3, 1356, 2040])\n",
      "resize2_img.size():  torch.Size([3, 170, 255])\n",
      "resize2_cut_img.size():  torch.Size([3, 168, 248])\n",
      "[Errno 2] No such file or directory: 'C:\\\\SaiVinay\\\\SproutsAI\\\\GitHub_\\\\ir_srgan_otsr\\\\results_kernels_DIV2K\\\\0750\\\\0750_kernel_x4.mat'\n"
     ]
    },
    {
     "name": "stderr",
     "output_type": "stream",
     "text": [
      "Resizing images:  94%|█████████▍| 751/800 [1:49:36<00:14,  3.41it/s]"
     ]
    },
    {
     "name": "stdout",
     "output_type": "stream",
     "text": [
      "input_img.size():  torch.Size([3, 1356, 2040])\n",
      "resize2_img.size():  torch.Size([3, 170, 255])\n",
      "resize2_cut_img.size():  torch.Size([3, 168, 248])\n",
      "[Errno 2] No such file or directory: 'C:\\\\SaiVinay\\\\SproutsAI\\\\GitHub_\\\\ir_srgan_otsr\\\\results_kernels_DIV2K\\\\0751\\\\0751_kernel_x4.mat'\n"
     ]
    },
    {
     "name": "stderr",
     "output_type": "stream",
     "text": [
      "Resizing images:  94%|█████████▍| 752/800 [1:49:36<00:12,  3.77it/s]"
     ]
    },
    {
     "name": "stdout",
     "output_type": "stream",
     "text": [
      "input_img.size():  torch.Size([3, 2040, 1176])\n",
      "resize2_img.size():  torch.Size([3, 255, 147])\n",
      "resize2_cut_img.size():  torch.Size([3, 248, 144])\n",
      "[Errno 2] No such file or directory: 'C:\\\\SaiVinay\\\\SproutsAI\\\\GitHub_\\\\ir_srgan_otsr\\\\results_kernels_DIV2K\\\\0752\\\\0752_kernel_x4.mat'\n",
      "input_img.size():  torch.Size([3, 1536, 2040])\n"
     ]
    },
    {
     "name": "stderr",
     "output_type": "stream",
     "text": [
      "Resizing images:  94%|█████████▍| 753/800 [1:49:36<00:11,  4.08it/s]"
     ]
    },
    {
     "name": "stdout",
     "output_type": "stream",
     "text": [
      "resize2_img.size():  torch.Size([3, 192, 255])\n",
      "resize2_cut_img.size():  torch.Size([3, 192, 248])\n",
      "[Errno 2] No such file or directory: 'C:\\\\SaiVinay\\\\SproutsAI\\\\GitHub_\\\\ir_srgan_otsr\\\\results_kernels_DIV2K\\\\0753\\\\0753_kernel_x4.mat'\n",
      "input_img.size():  torch.Size([3, 1356, 2040])\n"
     ]
    },
    {
     "name": "stderr",
     "output_type": "stream",
     "text": [
      "Resizing images:  94%|█████████▍| 755/800 [1:49:37<00:10,  4.43it/s]"
     ]
    },
    {
     "name": "stdout",
     "output_type": "stream",
     "text": [
      "resize2_img.size():  torch.Size([3, 170, 255])\n",
      "resize2_cut_img.size():  torch.Size([3, 168, 248])\n",
      "[Errno 2] No such file or directory: 'C:\\\\SaiVinay\\\\SproutsAI\\\\GitHub_\\\\ir_srgan_otsr\\\\results_kernels_DIV2K\\\\0754\\\\0754_kernel_x4.mat'\n",
      "input_img.size():  torch.Size([3, 1356, 2040])\n",
      "resize2_img.size():  torch.Size([3, 170, 255])\n",
      "resize2_cut_img.size():  torch.Size([3, 168, 248])\n",
      "[Errno 2] No such file or directory: 'C:\\\\SaiVinay\\\\SproutsAI\\\\GitHub_\\\\ir_srgan_otsr\\\\results_kernels_DIV2K\\\\0755\\\\0755_kernel_x4.mat'\n"
     ]
    },
    {
     "name": "stderr",
     "output_type": "stream",
     "text": [
      "Resizing images:  94%|█████████▍| 756/800 [1:49:37<00:09,  4.69it/s]"
     ]
    },
    {
     "name": "stdout",
     "output_type": "stream",
     "text": [
      "input_img.size():  torch.Size([3, 1356, 2040])\n",
      "resize2_img.size():  torch.Size([3, 170, 255])\n",
      "resize2_cut_img.size():  torch.Size([3, 168, 248])\n",
      "[Errno 2] No such file or directory: 'C:\\\\SaiVinay\\\\SproutsAI\\\\GitHub_\\\\ir_srgan_otsr\\\\results_kernels_DIV2K\\\\0756\\\\0756_kernel_x4.mat'\n"
     ]
    },
    {
     "name": "stderr",
     "output_type": "stream",
     "text": [
      "Resizing images:  95%|█████████▍| 757/800 [1:49:37<00:09,  4.61it/s]"
     ]
    },
    {
     "name": "stdout",
     "output_type": "stream",
     "text": [
      "input_img.size():  torch.Size([3, 2040, 1428])\n",
      "resize2_img.size():  torch.Size([3, 255, 179])\n",
      "resize2_cut_img.size():  torch.Size([3, 248, 176])\n",
      "[Errno 2] No such file or directory: 'C:\\\\SaiVinay\\\\SproutsAI\\\\GitHub_\\\\ir_srgan_otsr\\\\results_kernels_DIV2K\\\\0757\\\\0757_kernel_x4.mat'\n"
     ]
    },
    {
     "name": "stderr",
     "output_type": "stream",
     "text": [
      "Resizing images:  95%|█████████▍| 758/800 [1:49:37<00:09,  4.52it/s]"
     ]
    },
    {
     "name": "stdout",
     "output_type": "stream",
     "text": [
      "input_img.size():  torch.Size([3, 1356, 2040])\n",
      "resize2_img.size():  torch.Size([3, 170, 255])\n",
      "resize2_cut_img.size():  torch.Size([3, 168, 248])\n",
      "[Errno 2] No such file or directory: 'C:\\\\SaiVinay\\\\SproutsAI\\\\GitHub_\\\\ir_srgan_otsr\\\\results_kernels_DIV2K\\\\0758\\\\0758_kernel_x4.mat'\n"
     ]
    },
    {
     "name": "stderr",
     "output_type": "stream",
     "text": [
      "Resizing images:  95%|█████████▍| 759/800 [1:49:37<00:08,  4.67it/s]"
     ]
    },
    {
     "name": "stdout",
     "output_type": "stream",
     "text": [
      "input_img.size():  torch.Size([3, 1356, 2040])\n",
      "resize2_img.size():  torch.Size([3, 170, 255])\n",
      "resize2_cut_img.size():  torch.Size([3, 168, 248])\n",
      "[Errno 2] No such file or directory: 'C:\\\\SaiVinay\\\\SproutsAI\\\\GitHub_\\\\ir_srgan_otsr\\\\results_kernels_DIV2K\\\\0759\\\\0759_kernel_x4.mat'\n",
      "input_img.size():  torch.Size([3, 2040, 1356])\n"
     ]
    },
    {
     "name": "stderr",
     "output_type": "stream",
     "text": [
      "Resizing images:  95%|█████████▌| 760/800 [1:49:38<00:08,  4.87it/s]"
     ]
    },
    {
     "name": "stdout",
     "output_type": "stream",
     "text": [
      "resize2_img.size():  torch.Size([3, 255, 170])\n",
      "resize2_cut_img.size():  torch.Size([3, 248, 168])\n",
      "[Errno 2] No such file or directory: 'C:\\\\SaiVinay\\\\SproutsAI\\\\GitHub_\\\\ir_srgan_otsr\\\\results_kernels_DIV2K\\\\0760\\\\0760_kernel_x4.mat'\n",
      "input_img.size():  torch.Size([3, 1440, 2040])\n"
     ]
    },
    {
     "name": "stderr",
     "output_type": "stream",
     "text": [
      "Resizing images:  95%|█████████▌| 762/800 [1:49:38<00:07,  4.93it/s]"
     ]
    },
    {
     "name": "stdout",
     "output_type": "stream",
     "text": [
      "resize2_img.size():  torch.Size([3, 180, 255])\n",
      "resize2_cut_img.size():  torch.Size([3, 176, 248])\n",
      "[Errno 2] No such file or directory: 'C:\\\\SaiVinay\\\\SproutsAI\\\\GitHub_\\\\ir_srgan_otsr\\\\results_kernels_DIV2K\\\\0761\\\\0761_kernel_x4.mat'\n",
      "input_img.size():  torch.Size([3, 1296, 2040])\n",
      "resize2_img.size():  torch.Size([3, 162, 255])\n",
      "resize2_cut_img.size():  torch.Size([3, 160, 248])\n",
      "[Errno 2] No such file or directory: 'C:\\\\SaiVinay\\\\SproutsAI\\\\GitHub_\\\\ir_srgan_otsr\\\\results_kernels_DIV2K\\\\0762\\\\0762_kernel_x4.mat'\n"
     ]
    },
    {
     "name": "stderr",
     "output_type": "stream",
     "text": [
      "Resizing images:  95%|█████████▌| 763/800 [1:49:38<00:07,  5.01it/s]"
     ]
    },
    {
     "name": "stdout",
     "output_type": "stream",
     "text": [
      "input_img.size():  torch.Size([3, 1536, 2040])\n",
      "resize2_img.size():  torch.Size([3, 192, 255])\n",
      "resize2_cut_img.size():  torch.Size([3, 192, 248])\n",
      "[Errno 2] No such file or directory: 'C:\\\\SaiVinay\\\\SproutsAI\\\\GitHub_\\\\ir_srgan_otsr\\\\results_kernels_DIV2K\\\\0763\\\\0763_kernel_x4.mat'\n",
      "input_img.size():  torch.Size([3, 1344, 2040])\n"
     ]
    },
    {
     "name": "stderr",
     "output_type": "stream",
     "text": [
      "Resizing images:  96%|█████████▌| 764/800 [1:49:38<00:07,  4.93it/s]"
     ]
    },
    {
     "name": "stdout",
     "output_type": "stream",
     "text": [
      "resize2_img.size():  torch.Size([3, 168, 255])\n",
      "resize2_cut_img.size():  torch.Size([3, 168, 248])\n",
      "[Errno 2] No such file or directory: 'C:\\\\SaiVinay\\\\SproutsAI\\\\GitHub_\\\\ir_srgan_otsr\\\\results_kernels_DIV2K\\\\0764\\\\0764_kernel_x4.mat'\n",
      "input_img.size():  torch.Size([3, 1356, 2040])\n",
      "resize2_img.size():  torch.Size([3, 170, 255])\n",
      "resize2_cut_img.size():  torch.Size([3, 168, 248])\n",
      "[Errno 2] No such file or directory: 'C:\\\\SaiVinay\\\\SproutsAI\\\\GitHub_\\\\ir_srgan_otsr\\\\results_kernels_DIV2K\\\\0765\\\\0765_kernel_x4.mat'\n"
     ]
    },
    {
     "name": "stderr",
     "output_type": "stream",
     "text": [
      "Resizing images:  96%|█████████▌| 766/800 [1:49:39<00:06,  5.02it/s]"
     ]
    },
    {
     "name": "stdout",
     "output_type": "stream",
     "text": [
      "input_img.size():  torch.Size([3, 1356, 2040])\n",
      "resize2_img.size():  torch.Size([3, 170, 255])\n",
      "resize2_cut_img.size():  torch.Size([3, 168, 248])\n",
      "[Errno 2] No such file or directory: 'C:\\\\SaiVinay\\\\SproutsAI\\\\GitHub_\\\\ir_srgan_otsr\\\\results_kernels_DIV2K\\\\0766\\\\0766_kernel_x4.mat'\n"
     ]
    },
    {
     "name": "stderr",
     "output_type": "stream",
     "text": [
      "Resizing images:  96%|█████████▌| 767/800 [1:49:39<00:06,  4.94it/s]"
     ]
    },
    {
     "name": "stdout",
     "output_type": "stream",
     "text": [
      "input_img.size():  torch.Size([3, 1572, 2040])\n",
      "resize2_img.size():  torch.Size([3, 197, 255])\n",
      "resize2_cut_img.size():  torch.Size([3, 192, 248])\n",
      "[Errno 2] No such file or directory: 'C:\\\\SaiVinay\\\\SproutsAI\\\\GitHub_\\\\ir_srgan_otsr\\\\results_kernels_DIV2K\\\\0767\\\\0767_kernel_x4.mat'\n",
      "input_img.size():  torch.Size([3, 1356, 2040])\n"
     ]
    },
    {
     "name": "stderr",
     "output_type": "stream",
     "text": [
      "Resizing images:  96%|█████████▌| 769/800 [1:49:39<00:05,  5.19it/s]"
     ]
    },
    {
     "name": "stdout",
     "output_type": "stream",
     "text": [
      "resize2_img.size():  torch.Size([3, 170, 255])\n",
      "resize2_cut_img.size():  torch.Size([3, 168, 248])\n",
      "[Errno 2] No such file or directory: 'C:\\\\SaiVinay\\\\SproutsAI\\\\GitHub_\\\\ir_srgan_otsr\\\\results_kernels_DIV2K\\\\0768\\\\0768_kernel_x4.mat'\n",
      "input_img.size():  torch.Size([3, 1356, 2040])\n",
      "resize2_img.size():  torch.Size([3, 170, 255])\n",
      "resize2_cut_img.size():  torch.Size([3, 168, 248])\n",
      "[Errno 2] No such file or directory: 'C:\\\\SaiVinay\\\\SproutsAI\\\\GitHub_\\\\ir_srgan_otsr\\\\results_kernels_DIV2K\\\\0769\\\\0769_kernel_x4.mat'\n"
     ]
    },
    {
     "name": "stderr",
     "output_type": "stream",
     "text": [
      "Resizing images:  96%|█████████▋| 770/800 [1:49:40<00:05,  5.07it/s]"
     ]
    },
    {
     "name": "stdout",
     "output_type": "stream",
     "text": [
      "input_img.size():  torch.Size([3, 1356, 2040])\n",
      "resize2_img.size():  torch.Size([3, 170, 255])\n",
      "resize2_cut_img.size():  torch.Size([3, 168, 248])\n",
      "[Errno 2] No such file or directory: 'C:\\\\SaiVinay\\\\SproutsAI\\\\GitHub_\\\\ir_srgan_otsr\\\\results_kernels_DIV2K\\\\0770\\\\0770_kernel_x4.mat'\n"
     ]
    },
    {
     "name": "stderr",
     "output_type": "stream",
     "text": [
      "Resizing images:  96%|█████████▋| 771/800 [1:49:40<00:06,  4.79it/s]"
     ]
    },
    {
     "name": "stdout",
     "output_type": "stream",
     "text": [
      "input_img.size():  torch.Size([3, 1356, 2040])\n",
      "resize2_img.size():  torch.Size([3, 170, 255])\n",
      "resize2_cut_img.size():  torch.Size([3, 168, 248])\n",
      "[Errno 2] No such file or directory: 'C:\\\\SaiVinay\\\\SproutsAI\\\\GitHub_\\\\ir_srgan_otsr\\\\results_kernels_DIV2K\\\\0771\\\\0771_kernel_x4.mat'\n"
     ]
    },
    {
     "name": "stderr",
     "output_type": "stream",
     "text": [
      "Resizing images:  96%|█████████▋| 772/800 [1:49:40<00:05,  4.69it/s]"
     ]
    },
    {
     "name": "stdout",
     "output_type": "stream",
     "text": [
      "input_img.size():  torch.Size([3, 1356, 2040])\n",
      "resize2_img.size():  torch.Size([3, 170, 255])\n",
      "resize2_cut_img.size():  torch.Size([3, 168, 248])\n",
      "[Errno 2] No such file or directory: 'C:\\\\SaiVinay\\\\SproutsAI\\\\GitHub_\\\\ir_srgan_otsr\\\\results_kernels_DIV2K\\\\0772\\\\0772_kernel_x4.mat'\n"
     ]
    },
    {
     "name": "stderr",
     "output_type": "stream",
     "text": [
      "Resizing images:  97%|█████████▋| 773/800 [1:49:40<00:05,  4.66it/s]"
     ]
    },
    {
     "name": "stdout",
     "output_type": "stream",
     "text": [
      "input_img.size():  torch.Size([3, 1356, 2040])\n",
      "resize2_img.size():  torch.Size([3, 170, 255])\n",
      "resize2_cut_img.size():  torch.Size([3, 168, 248])\n",
      "[Errno 2] No such file or directory: 'C:\\\\SaiVinay\\\\SproutsAI\\\\GitHub_\\\\ir_srgan_otsr\\\\results_kernels_DIV2K\\\\0773\\\\0773_kernel_x4.mat'\n",
      "input_img.size():  torch.Size([3, 1356, 2040])\n"
     ]
    },
    {
     "name": "stderr",
     "output_type": "stream",
     "text": [
      "Resizing images:  97%|█████████▋| 775/800 [1:49:41<00:05,  4.77it/s]"
     ]
    },
    {
     "name": "stdout",
     "output_type": "stream",
     "text": [
      "resize2_img.size():  torch.Size([3, 170, 255])\n",
      "resize2_cut_img.size():  torch.Size([3, 168, 248])\n",
      "[Errno 2] No such file or directory: 'C:\\\\SaiVinay\\\\SproutsAI\\\\GitHub_\\\\ir_srgan_otsr\\\\results_kernels_DIV2K\\\\0774\\\\0774_kernel_x4.mat'\n",
      "input_img.size():  torch.Size([3, 1356, 2040])\n",
      "resize2_img.size():  torch.Size([3, 170, 255])\n",
      "resize2_cut_img.size():  torch.Size([3, 168, 248])\n",
      "[Errno 2] No such file or directory: 'C:\\\\SaiVinay\\\\SproutsAI\\\\GitHub_\\\\ir_srgan_otsr\\\\results_kernels_DIV2K\\\\0775\\\\0775_kernel_x4.mat'\n"
     ]
    },
    {
     "name": "stderr",
     "output_type": "stream",
     "text": [
      "Resizing images:  97%|█████████▋| 776/800 [1:49:41<00:05,  4.74it/s]"
     ]
    },
    {
     "name": "stdout",
     "output_type": "stream",
     "text": [
      "input_img.size():  torch.Size([3, 1536, 2040])\n",
      "resize2_img.size():  torch.Size([3, 192, 255])\n",
      "resize2_cut_img.size():  torch.Size([3, 192, 248])\n",
      "[Errno 2] No such file or directory: 'C:\\\\SaiVinay\\\\SproutsAI\\\\GitHub_\\\\ir_srgan_otsr\\\\results_kernels_DIV2K\\\\0776\\\\0776_kernel_x4.mat'\n",
      "input_img.size():  torch.Size([3, 1536, 2040])\n"
     ]
    },
    {
     "name": "stderr",
     "output_type": "stream",
     "text": [
      "Resizing images:  97%|█████████▋| 777/800 [1:49:41<00:04,  4.82it/s]"
     ]
    },
    {
     "name": "stdout",
     "output_type": "stream",
     "text": [
      "resize2_img.size():  torch.Size([3, 192, 255])\n",
      "resize2_cut_img.size():  torch.Size([3, 192, 248])\n",
      "[Errno 2] No such file or directory: 'C:\\\\SaiVinay\\\\SproutsAI\\\\GitHub_\\\\ir_srgan_otsr\\\\results_kernels_DIV2K\\\\0777\\\\0777_kernel_x4.mat'\n",
      "input_img.size():  torch.Size([3, 1356, 2040])\n"
     ]
    },
    {
     "name": "stderr",
     "output_type": "stream",
     "text": [
      "Resizing images:  97%|█████████▋| 779/800 [1:49:42<00:04,  4.81it/s]"
     ]
    },
    {
     "name": "stdout",
     "output_type": "stream",
     "text": [
      "resize2_img.size():  torch.Size([3, 170, 255])\n",
      "resize2_cut_img.size():  torch.Size([3, 168, 248])\n",
      "[Errno 2] No such file or directory: 'C:\\\\SaiVinay\\\\SproutsAI\\\\GitHub_\\\\ir_srgan_otsr\\\\results_kernels_DIV2K\\\\0778\\\\0778_kernel_x4.mat'\n",
      "input_img.size():  torch.Size([3, 1356, 2040])\n",
      "resize2_img.size():  torch.Size([3, 170, 255])\n",
      "resize2_cut_img.size():  torch.Size([3, 168, 248])\n",
      "[Errno 2] No such file or directory: 'C:\\\\SaiVinay\\\\SproutsAI\\\\GitHub_\\\\ir_srgan_otsr\\\\results_kernels_DIV2K\\\\0779\\\\0779_kernel_x4.mat'\n"
     ]
    },
    {
     "name": "stderr",
     "output_type": "stream",
     "text": [
      "Resizing images:  98%|█████████▊| 780/800 [1:49:42<00:04,  4.81it/s]"
     ]
    },
    {
     "name": "stdout",
     "output_type": "stream",
     "text": [
      "input_img.size():  torch.Size([3, 1356, 2040])\n",
      "resize2_img.size():  torch.Size([3, 170, 255])\n",
      "resize2_cut_img.size():  torch.Size([3, 168, 248])\n",
      "[Errno 2] No such file or directory: 'C:\\\\SaiVinay\\\\SproutsAI\\\\GitHub_\\\\ir_srgan_otsr\\\\results_kernels_DIV2K\\\\0780\\\\0780_kernel_x4.mat'\n",
      "input_img.size():  torch.Size([3, 1356, 2040])\n"
     ]
    },
    {
     "name": "stderr",
     "output_type": "stream",
     "text": [
      "Resizing images:  98%|█████████▊| 781/800 [1:49:42<00:03,  5.00it/s]"
     ]
    },
    {
     "name": "stdout",
     "output_type": "stream",
     "text": [
      "resize2_img.size():  torch.Size([3, 170, 255])\n",
      "resize2_cut_img.size():  torch.Size([3, 168, 248])\n",
      "[Errno 2] No such file or directory: 'C:\\\\SaiVinay\\\\SproutsAI\\\\GitHub_\\\\ir_srgan_otsr\\\\results_kernels_DIV2K\\\\0781\\\\0781_kernel_x4.mat'\n",
      "input_img.size():  torch.Size([3, 2040, 1632])\n"
     ]
    },
    {
     "name": "stderr",
     "output_type": "stream",
     "text": [
      "Resizing images:  98%|█████████▊| 782/800 [1:49:42<00:03,  4.94it/s]"
     ]
    },
    {
     "name": "stdout",
     "output_type": "stream",
     "text": [
      "resize2_img.size():  torch.Size([3, 255, 204])\n",
      "resize2_cut_img.size():  torch.Size([3, 248, 200])\n",
      "[Errno 2] No such file or directory: 'C:\\\\SaiVinay\\\\SproutsAI\\\\GitHub_\\\\ir_srgan_otsr\\\\results_kernels_DIV2K\\\\0782\\\\0782_kernel_x4.mat'\n",
      "input_img.size():  torch.Size([3, 1368, 2040])\n"
     ]
    },
    {
     "name": "stderr",
     "output_type": "stream",
     "text": [
      "Resizing images:  98%|█████████▊| 784/800 [1:49:42<00:03,  5.03it/s]"
     ]
    },
    {
     "name": "stdout",
     "output_type": "stream",
     "text": [
      "resize2_img.size():  torch.Size([3, 171, 255])\n",
      "resize2_cut_img.size():  torch.Size([3, 168, 248])\n",
      "[Errno 2] No such file or directory: 'C:\\\\SaiVinay\\\\SproutsAI\\\\GitHub_\\\\ir_srgan_otsr\\\\results_kernels_DIV2K\\\\0783\\\\0783_kernel_x4.mat'\n",
      "input_img.size():  torch.Size([3, 1356, 2040])\n",
      "resize2_img.size():  torch.Size([3, 170, 255])\n",
      "resize2_cut_img.size():  torch.Size([3, 168, 248])\n",
      "[Errno 2] No such file or directory: 'C:\\\\SaiVinay\\\\SproutsAI\\\\GitHub_\\\\ir_srgan_otsr\\\\results_kernels_DIV2K\\\\0784\\\\0784_kernel_x4.mat'\n"
     ]
    },
    {
     "name": "stderr",
     "output_type": "stream",
     "text": [
      "Resizing images:  98%|█████████▊| 785/800 [1:49:43<00:02,  5.10it/s]"
     ]
    },
    {
     "name": "stdout",
     "output_type": "stream",
     "text": [
      "input_img.size():  torch.Size([3, 1224, 2040])\n",
      "resize2_img.size():  torch.Size([3, 153, 255])\n",
      "resize2_cut_img.size():  torch.Size([3, 152, 248])\n",
      "[Errno 2] No such file or directory: 'C:\\\\SaiVinay\\\\SproutsAI\\\\GitHub_\\\\ir_srgan_otsr\\\\results_kernels_DIV2K\\\\0785\\\\0785_kernel_x4.mat'\n",
      "input_img.size():  torch.Size([3, 1356, 2040])\n"
     ]
    },
    {
     "name": "stderr",
     "output_type": "stream",
     "text": [
      "Resizing images:  98%|█████████▊| 787/800 [1:49:43<00:02,  4.89it/s]"
     ]
    },
    {
     "name": "stdout",
     "output_type": "stream",
     "text": [
      "resize2_img.size():  torch.Size([3, 170, 255])\n",
      "resize2_cut_img.size():  torch.Size([3, 168, 248])\n",
      "[Errno 2] No such file or directory: 'C:\\\\SaiVinay\\\\SproutsAI\\\\GitHub_\\\\ir_srgan_otsr\\\\results_kernels_DIV2K\\\\0786\\\\0786_kernel_x4.mat'\n",
      "input_img.size():  torch.Size([3, 1356, 2040])\n",
      "resize2_img.size():  torch.Size([3, 170, 255])\n",
      "resize2_cut_img.size():  torch.Size([3, 168, 248])\n",
      "[Errno 2] No such file or directory: 'C:\\\\SaiVinay\\\\SproutsAI\\\\GitHub_\\\\ir_srgan_otsr\\\\results_kernels_DIV2K\\\\0787\\\\0787_kernel_x4.mat'\n"
     ]
    },
    {
     "name": "stderr",
     "output_type": "stream",
     "text": [
      "Resizing images:  98%|█████████▊| 788/800 [1:49:43<00:02,  5.20it/s]"
     ]
    },
    {
     "name": "stdout",
     "output_type": "stream",
     "text": [
      "input_img.size():  torch.Size([3, 1356, 2040])\n",
      "resize2_img.size():  torch.Size([3, 170, 255])\n",
      "resize2_cut_img.size():  torch.Size([3, 168, 248])\n",
      "[Errno 2] No such file or directory: 'C:\\\\SaiVinay\\\\SproutsAI\\\\GitHub_\\\\ir_srgan_otsr\\\\results_kernels_DIV2K\\\\0788\\\\0788_kernel_x4.mat'\n",
      "input_img.size():  torch.Size([3, 1260, 2040])\n"
     ]
    },
    {
     "name": "stderr",
     "output_type": "stream",
     "text": [
      "Resizing images:  99%|█████████▊| 789/800 [1:49:43<00:02,  5.20it/s]"
     ]
    },
    {
     "name": "stdout",
     "output_type": "stream",
     "text": [
      "resize2_img.size():  torch.Size([3, 158, 255])\n",
      "resize2_cut_img.size():  torch.Size([3, 152, 248])\n",
      "[Errno 2] No such file or directory: 'C:\\\\SaiVinay\\\\SproutsAI\\\\GitHub_\\\\ir_srgan_otsr\\\\results_kernels_DIV2K\\\\0789\\\\0789_kernel_x4.mat'\n",
      "input_img.size():  torch.Size([3, 1356, 2040])\n"
     ]
    },
    {
     "name": "stderr",
     "output_type": "stream",
     "text": [
      "Resizing images:  99%|█████████▉| 791/800 [1:49:44<00:01,  4.94it/s]"
     ]
    },
    {
     "name": "stdout",
     "output_type": "stream",
     "text": [
      "resize2_img.size():  torch.Size([3, 170, 255])\n",
      "resize2_cut_img.size():  torch.Size([3, 168, 248])\n",
      "[Errno 2] No such file or directory: 'C:\\\\SaiVinay\\\\SproutsAI\\\\GitHub_\\\\ir_srgan_otsr\\\\results_kernels_DIV2K\\\\0790\\\\0790_kernel_x4.mat'\n",
      "input_img.size():  torch.Size([3, 1356, 2040])\n",
      "resize2_img.size():  torch.Size([3, 170, 255])\n",
      "resize2_cut_img.size():  torch.Size([3, 168, 248])\n",
      "[Errno 2] No such file or directory: 'C:\\\\SaiVinay\\\\SproutsAI\\\\GitHub_\\\\ir_srgan_otsr\\\\results_kernels_DIV2K\\\\0791\\\\0791_kernel_x4.mat'\n"
     ]
    },
    {
     "name": "stderr",
     "output_type": "stream",
     "text": [
      "Resizing images:  99%|█████████▉| 792/800 [1:49:44<00:01,  5.15it/s]"
     ]
    },
    {
     "name": "stdout",
     "output_type": "stream",
     "text": [
      "input_img.size():  torch.Size([3, 1356, 2040])\n",
      "resize2_img.size():  torch.Size([3, 170, 255])\n",
      "resize2_cut_img.size():  torch.Size([3, 168, 248])\n",
      "[Errno 2] No such file or directory: 'C:\\\\SaiVinay\\\\SproutsAI\\\\GitHub_\\\\ir_srgan_otsr\\\\results_kernels_DIV2K\\\\0792\\\\0792_kernel_x4.mat'\n",
      "input_img.size():  torch.Size([3, 1488, 2040])\n"
     ]
    },
    {
     "name": "stderr",
     "output_type": "stream",
     "text": [
      "Resizing images:  99%|█████████▉| 794/800 [1:49:44<00:01,  5.14it/s]"
     ]
    },
    {
     "name": "stdout",
     "output_type": "stream",
     "text": [
      "resize2_img.size():  torch.Size([3, 186, 255])\n",
      "resize2_cut_img.size():  torch.Size([3, 184, 248])\n",
      "[Errno 2] No such file or directory: 'C:\\\\SaiVinay\\\\SproutsAI\\\\GitHub_\\\\ir_srgan_otsr\\\\results_kernels_DIV2K\\\\0793\\\\0793_kernel_x4.mat'\n",
      "input_img.size():  torch.Size([3, 1272, 2040])\n",
      "resize2_img.size():  torch.Size([3, 159, 255])\n",
      "resize2_cut_img.size():  torch.Size([3, 152, 248])\n",
      "[Errno 2] No such file or directory: 'C:\\\\SaiVinay\\\\SproutsAI\\\\GitHub_\\\\ir_srgan_otsr\\\\results_kernels_DIV2K\\\\0794\\\\0794_kernel_x4.mat'\n"
     ]
    },
    {
     "name": "stderr",
     "output_type": "stream",
     "text": [
      "Resizing images:  99%|█████████▉| 795/800 [1:49:45<00:00,  5.26it/s]"
     ]
    },
    {
     "name": "stdout",
     "output_type": "stream",
     "text": [
      "input_img.size():  torch.Size([3, 1152, 2040])\n",
      "resize2_img.size():  torch.Size([3, 144, 255])\n",
      "resize2_cut_img.size():  torch.Size([3, 144, 248])\n",
      "[Errno 2] No such file or directory: 'C:\\\\SaiVinay\\\\SproutsAI\\\\GitHub_\\\\ir_srgan_otsr\\\\results_kernels_DIV2K\\\\0795\\\\0795_kernel_x4.mat'\n"
     ]
    },
    {
     "name": "stderr",
     "output_type": "stream",
     "text": [
      "Resizing images: 100%|█████████▉| 796/800 [1:49:45<00:00,  4.84it/s]"
     ]
    },
    {
     "name": "stdout",
     "output_type": "stream",
     "text": [
      "input_img.size():  torch.Size([3, 1356, 2040])\n",
      "resize2_img.size():  torch.Size([3, 170, 255])\n",
      "resize2_cut_img.size():  torch.Size([3, 168, 248])\n",
      "[Errno 2] No such file or directory: 'C:\\\\SaiVinay\\\\SproutsAI\\\\GitHub_\\\\ir_srgan_otsr\\\\results_kernels_DIV2K\\\\0796\\\\0796_kernel_x4.mat'\n",
      "input_img.size():  torch.Size([3, 1416, 2040])\n"
     ]
    },
    {
     "name": "stderr",
     "output_type": "stream",
     "text": [
      "Resizing images: 100%|█████████▉| 798/800 [1:49:45<00:00,  5.05it/s]"
     ]
    },
    {
     "name": "stdout",
     "output_type": "stream",
     "text": [
      "resize2_img.size():  torch.Size([3, 177, 255])\n",
      "resize2_cut_img.size():  torch.Size([3, 176, 248])\n",
      "[Errno 2] No such file or directory: 'C:\\\\SaiVinay\\\\SproutsAI\\\\GitHub_\\\\ir_srgan_otsr\\\\results_kernels_DIV2K\\\\0797\\\\0797_kernel_x4.mat'\n",
      "input_img.size():  torch.Size([3, 1356, 2040])\n",
      "resize2_img.size():  torch.Size([3, 170, 255])\n",
      "resize2_cut_img.size():  torch.Size([3, 168, 248])\n",
      "[Errno 2] No such file or directory: 'C:\\\\SaiVinay\\\\SproutsAI\\\\GitHub_\\\\ir_srgan_otsr\\\\results_kernels_DIV2K\\\\0798\\\\0798_kernel_x4.mat'\n"
     ]
    },
    {
     "name": "stderr",
     "output_type": "stream",
     "text": [
      "Resizing images: 100%|█████████▉| 799/800 [1:49:45<00:00,  5.10it/s]"
     ]
    },
    {
     "name": "stdout",
     "output_type": "stream",
     "text": [
      "input_img.size():  torch.Size([3, 1356, 2040])\n",
      "resize2_img.size():  torch.Size([3, 170, 255])\n",
      "resize2_cut_img.size():  torch.Size([3, 168, 248])\n",
      "[Errno 2] No such file or directory: 'C:\\\\SaiVinay\\\\SproutsAI\\\\GitHub_\\\\ir_srgan_otsr\\\\results_kernels_DIV2K\\\\0799\\\\0799_kernel_x4.mat'\n",
      "input_img.size():  torch.Size([3, 1332, 2040])\n"
     ]
    },
    {
     "name": "stderr",
     "output_type": "stream",
     "text": [
      "Resizing images: 100%|██████████| 800/800 [1:49:46<00:00,  8.23s/it]"
     ]
    },
    {
     "name": "stdout",
     "output_type": "stream",
     "text": [
      "resize2_img.size():  torch.Size([3, 167, 255])\n",
      "resize2_cut_img.size():  torch.Size([3, 160, 248])\n",
      "[Errno 2] No such file or directory: 'C:\\\\SaiVinay\\\\SproutsAI\\\\GitHub_\\\\ir_srgan_otsr\\\\results_kernels_DIV2K\\\\0800\\\\0800_kernel_x4.mat'\n"
     ]
    },
    {
     "name": "stderr",
     "output_type": "stream",
     "text": [
      "\n"
     ]
    }
   ],
   "source": [
    "from imageResize import get_img_resize\n",
    "\n",
    "input_source_dir = r'C:\\SaiVinay\\SproutsAI\\GitHub_\\ir_srgan_otsr\\DIV2K_train_HR'\n",
    "opt_kernel_path = r\"C:\\SaiVinay\\SproutsAI\\GitHub_\\ir_srgan_otsr\\results_kernels_DIV2K\"\n",
    "tdsr_hr_dir = r\"C:\\SaiVinay\\SproutsAI\\GitHub_\\ir_srgan_otsr\\DF2K_LR_HR\\imgsResizedHR\"\n",
    "tdsr_lr_dir = r\"C:\\SaiVinay\\SproutsAI\\GitHub_\\ir_srgan_otsr\\DF2K_LR_HR\\imgsResizedLR\"\n",
    "get_img_resize(input_source_dir, opt_kernel_path, cleanup_factor=8, upscale_factor=8, tdsr_hr_dir=tdsr_hr_dir, tdsr_lr_dir=tdsr_lr_dir)"
   ]
  }
 ],
 "metadata": {
  "kernelspec": {
   "display_name": "base",
   "language": "python",
   "name": "python3"
  },
  "language_info": {
   "codemirror_mode": {
    "name": "ipython",
    "version": 3
   },
   "file_extension": ".py",
   "mimetype": "text/x-python",
   "name": "python",
   "nbconvert_exporter": "python",
   "pygments_lexer": "ipython3",
   "version": "3.12.2"
  }
 },
 "nbformat": 4,
 "nbformat_minor": 2
}
